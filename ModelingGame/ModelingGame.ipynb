{
 "cells": [
  {
   "cell_type": "markdown",
   "metadata": {},
   "source": [
    "# Modeling Game\n",
    "\n",
    "To do:\n",
    "1. Create a function that automatically sets the values of parameters based on their types.\n",
    "1. Plot mRNA7 in the new simulation after parameter fitting, or at least its residuals."
   ]
  },
  {
   "cell_type": "code",
   "execution_count": 1,
   "metadata": {
    "scrolled": true
   },
   "outputs": [],
   "source": [
    "%matplotlib inline\n",
    "import numpy as np\n",
    "import model_fitting as mf\n",
    "import tellurium as te\n",
    "import matplotlib.pyplot as plt\n",
    "import pandas as pd\n",
    "from collections import namedtuple\n",
    "import lmfit\n",
    "import os\n",
    "import re"
   ]
  },
  {
   "cell_type": "code",
   "execution_count": 2,
   "metadata": {
    "scrolled": true
   },
   "outputs": [],
   "source": [
    "# Symbols\n",
    "# Column names\n",
    "TIME = 'time'\n",
    "\n",
    "TIME_TO_POINT = 10 # 1 point for every second"
   ]
  },
  {
   "cell_type": "code",
   "execution_count": 3,
   "metadata": {
    "scrolled": true
   },
   "outputs": [],
   "source": [
    "# Initial model\n",
    "model_1 = '''\n",
    "// Created by libAntimony v3.9.4\n",
    "model *pathway()\n",
    "\n",
    "  // Compartments and Species:\n",
    "  species INPUT, P1, mRNA1, P2, mRNA2, P3, mRNA3, P4, mRNA4, P5, mRNA5, P6;\n",
    "  species mRNA6, P7, mRNA7, P8, mRNA8;\n",
    "\n",
    "  // Reactions:\n",
    "  J1:  => mRNA1; L1 + Vm1*((K1_1*INPUT^H1 + K2_1*P4^H1 + K1_1*K3_1*INPUT^H1*P4^H1)/(1 + K1_1*INPUT^H1 + K2_1*P4^H1 + K1_1*K3_1*INPUT^H1*P4^H1)) - d_mRNA1*mRNA1;\n",
    "  F1:  => P1; a_protein1*mRNA1 - d_protein1*P1;\n",
    "  J2:  => mRNA2; L2 + Vm2*(K1_2*P4^H2/(1 + K1_2*P4^H2)) - d_mRNA2*mRNA2;\n",
    "  F2:  => P2; a_protein2*mRNA2 - d_protein2*P2;\n",
    "  J3:  => mRNA3; L3 + Vm3*(K1_3*P6^H3/(1 + K1_3*P6^H3)) - d_mRNA3*mRNA3;\n",
    "  F3:  => P3; a_protein3*mRNA3 - d_protein3*P3;\n",
    "  J4:  => mRNA4; L4 + Vm4*(1/(1 + K1_4*P2^H4)) - d_mRNA4*mRNA4;\n",
    "  F4:  => P4; a_protein4*mRNA4 - d_protein4*P4;\n",
    "  J5:  => mRNA5; L5 - d_mRNA5*mRNA5;\n",
    "  F5:  => P5; a_protein5*mRNA5 - d_protein5*P5;\n",
    "  J6:  => mRNA6; L6 + Vm6*(K1_6*P7^H6/(1 + K1_6*P7^H6 + K2_6*P1^H6 + K1_6*K2_6*P7^H6*P1^H6)) - d_mRNA6*mRNA6;\n",
    "  F6:  => P6; a_protein6*mRNA6 - d_protein6*P6;\n",
    "  J7:  => mRNA7; L7 - d_mRNA7*mRNA7;\n",
    "  F7:  => P7; a_protein7*mRNA7 - d_protein7*P7;\n",
    "  J8:  => mRNA8; L8 + Vm8*(1/(1 + K1_8*P1^H8)) - d_mRNA8*mRNA8;\n",
    "  F8:  => P8; a_protein8*mRNA8 - d_protein8*P8;\n",
    "  '''"
   ]
  },
  {
   "cell_type": "code",
   "execution_count": 4,
   "metadata": {
    "scrolled": true
   },
   "outputs": [],
   "source": [
    "# Initial constants\n",
    "\n",
    "model_2 = '''\n",
    "\n",
    " // Species initializations:\n",
    "  INPUT = 1;\n",
    "  P1 = 0;\n",
    "  mRNA1 = 0;\n",
    "  P2 = 0;\n",
    "  mRNA2 = 0;\n",
    "  P3 = 0;\n",
    "  mRNA3 = 0;\n",
    "  P4 = 0;\n",
    "  mRNA4 = 0;\n",
    "  P5 = 0;\n",
    "  mRNA5 = 0;\n",
    "  P6 = 0;\n",
    "  mRNA6 = 0;\n",
    "  P7 = 0;\n",
    "  mRNA7 = 0;\n",
    "  P8 = 0;\n",
    "  mRNA8 = 0;\n",
    "\n",
    "  // Variable initializations:\n",
    "  d_protein1 = 0.01576525;\n",
    "  d_mRNA1 = 0.600013;\n",
    "  L1 = 0.0284569399501349;\n",
    "  Vm1 = 1.16380673480284;\n",
    "  a_protein1 = 0.089105566248939;\n",
    "  H1 = 4.52340391321994;\n",
    "  K1_1 = 0.0269204907071558;\n",
    "  K2_1 = 0.0169635567504703;\n",
    "  K3_1 = 0.0114278645720656;\n",
    "  d_protein2 = 0.0100753359178861;\n",
    "  d_mRNA2 = 0.607263145327485;\n",
    "  L2 = 0.01126375;\n",
    "  Vm2 = 0.855433454948057;\n",
    "  a_protein2 = 0.0825104648147814;\n",
    "  H2 = 3.21939257313515;\n",
    "  K1_2 = 0.0170170903653747;\n",
    "  d_protein3 = 0.0165270958726424;\n",
    "  d_mRNA3 = 1.4096553751623;\n",
    "  L3 = 0.0108824170117358;\n",
    "  Vm3 = 1.61383118795785;\n",
    "  a_protein3 = 0.118672807163739;\n",
    "  H3 = 4.57189341195625;\n",
    "  K1_3 = 0.0133069236136431;\n",
    "  d_protein4 = 0.0205716618573404;\n",
    "  d_mRNA4 = 1.19069657063437;\n",
    "  L4 = 0.0142166568749038;\n",
    "  Vm4 = 0.916251896011744;\n",
    "  a_protein4 = 0.0862964088164644;\n",
    "  H4 = 5.00512303222327;\n",
    "  K1_4 = 0.0179894288457716;\n",
    "  d_protein5 = 0.0180685727313577;\n",
    "  d_mRNA5 = 0.911653907722886;\n",
    "  L5 = 0.0124824037745626;\n",
    "  a_protein5 = 0.106293056264931;\n",
    "  d_protein6 = 0.0178004316181647;\n",
    "  d_mRNA6 = 0.67287496171115;\n",
    "  L6 = 0.0166516087433626;\n",
    "  Vm6 = 0.889302076744445;\n",
    "  a_protein6 = 0.0890528700251159;\n",
    "  H6 = 5.58112408673455;\n",
    "  K1_6 = 0.0139445776013774;\n",
    "  K2_6 = 0.0121764364668572;\n",
    "  d_protein7 = 0.0206180615545929;\n",
    "  d_mRNA7 = 0.618711430584466;\n",
    "  L7 = 0.0178636133026099;\n",
    "  a_protein7 = 0.0764169841455256;\n",
    "  d_protein8 = 0.0131749080364666;\n",
    "  d_mRNA8 = 1.17483328491068;\n",
    "  L8 = 0.0165535374304033;\n",
    "  Vm8 = 0.87881445337468;\n",
    "  a_protein8 = 0.103749989801903;\n",
    "  H8 = 2.17775388441324;\n",
    "  K1_8 = 0.0168599518440462;\n",
    "\n",
    "  // Other declarations:\n",
    "  const d_protein1, d_mRNA1, L1, Vm1, a_protein1, H1, K1_1, K2_1, K3_1, d_protein2;\n",
    "  const d_mRNA2, L2, Vm2, a_protein2, H2, K1_2, d_protein3, d_mRNA3;\n",
    "  const L3, Vm3, a_protein3, H3, K1_3, d_protein4, d_mRNA4, L4;\n",
    "  const Vm4, a_protein4, H4, K1_4, d_protein5, d_mRNA5, L5;\n",
    "  const a_protein5, d_protein6, d_mRNA6, L6, Vm6, a_protein6;\n",
    "  const H6, K1_6, K2_6, d_protein7, d_mRNA7, L7, a_protein7;\n",
    "  const d_protein8, d_mRNA8, L8, Vm8, a_protein8, H8, K1_8;\n",
    "end\n",
    "'''"
   ]
  },
  {
   "cell_type": "code",
   "execution_count": 5,
   "metadata": {
    "scrolled": true
   },
   "outputs": [],
   "source": [
    "# Modified model\n",
    "model_1 = '''\n",
    "// Created by libAntimony v3.9.4\n",
    "model *pathway()\n",
    "\n",
    "  // Compartments and Species:\n",
    "  species INPUT, P1, mRNA1, P2, mRNA2, P3, mRNA3, P4, mRNA4, P5, mRNA5, P6;\n",
    "  species mRNA6, P7, mRNA7, P8, mRNA8;\n",
    "\n",
    "  // Reactions:\n",
    "  J1:  => mRNA1; L1 + Vm1*((K1_1*INPUT^H1 + K2_1*P4^H1 + K1_1*K3_1*INPUT^H1*P4^H1)/(1 + K1_1*INPUT^H1 + K2_1*P4^H1 + K1_1*K3_1*INPUT^H1*P4^H1)) - d_mRNA1*mRNA1;\n",
    "  F1:  => P1; a_protein1*mRNA1 - d_protein1*P1;\n",
    "  J2:  => mRNA2; L2 + Vm2*(K1_2*P4^H2/(1 + K1_2*P4^H2)) - d_mRNA2*mRNA2;\n",
    "  F2:  => P2; a_protein2*mRNA2 - d_protein2*P2;\n",
    "  J3:  => mRNA3; L3 + Vm3*(K1_3*P6^H3/(1 + K1_3*P6^H3)) - d_mRNA3*mRNA3;\n",
    "  F3:  => P3; a_protein3*mRNA3 - d_protein3*P3;\n",
    "  J4:  => mRNA4; L4 + Vm4*(1/(1 + K1_4*P2^H4)) - d_mRNA4*mRNA4;\n",
    "  F4:  => P4; a_protein4*mRNA4 - d_protein4*P4;\n",
    "  J5:  => mRNA5; L5 - d_mRNA5*mRNA5;\n",
    "  F5:  => P5; a_protein5*mRNA5 - d_protein5*P5;\n",
    "  J6:  => mRNA6; L6 + Vm6*(K1_6*P7^H6/(1 + K1_6*P7^H6 + K2_6*P1^H6 + K1_6*K2_6*P7^H6*P1^H6)) - d_mRNA6*mRNA6;\n",
    "  F6:  => P6; a_protein6*mRNA6 - d_protein6*P6;\n",
    "  J7:  => mRNA7; L7 + Vm7*(K1_7*P1^H7/(1 + K1_7*P1^H7)) - d_mRNA7*mRNA7;  # added term for P1\n",
    "  F7:  => P7; a_protein7*mRNA7 - d_protein7*P7;\n",
    "  J8:  => mRNA8; L8 + Vm8*(1/(1 + K1_8*P1^H8)) - d_mRNA8*mRNA8;\n",
    "  F8:  => P8; a_protein8*mRNA8 - d_protein8*P8;\n",
    "  '''"
   ]
  },
  {
   "cell_type": "code",
   "execution_count": 6,
   "metadata": {
    "scrolled": true
   },
   "outputs": [],
   "source": [
    "# Constants\n",
    "\n",
    "model_2 = '''\n",
    "\n",
    " // Constants to estimate\n",
    " Vm7 = 0;\n",
    " K1_7 = 0;\n",
    " H7 = 0;\n",
    "\n",
    " // Species initializations:\n",
    "  INPUT = 1;\n",
    "  P1 = 0;\n",
    "  mRNA1 = 0;\n",
    "  P2 = 0;\n",
    "  mRNA2 = 0;\n",
    "  P3 = 0;\n",
    "  mRNA3 = 0;\n",
    "  P4 = 0;\n",
    "  mRNA4 = 0;\n",
    "  P5 = 0;\n",
    "  mRNA5 = 0;\n",
    "  P6 = 0;\n",
    "  mRNA6 = 0;\n",
    "  P7 = 0;\n",
    "  mRNA7 = 0;\n",
    "  P8 = 0;\n",
    "  mRNA8 = 0;\n",
    "\n",
    "  // Variable initializations:\n",
    "  d_protein1 = 0.01576525;\n",
    "  d_mRNA1 = 0.600013;\n",
    "  L1 = 0.0284569399501349;\n",
    "  Vm1 = 1.16380673480284;\n",
    "  a_protein1 = 0.089105566248939;\n",
    "  H1 = 4.52340391321994;\n",
    "  K1_1 = 0.0269204907071558;\n",
    "  K2_1 = 0.0169635567504703;\n",
    "  K3_1 = 0.0114278645720656;\n",
    "  d_protein2 = 0.0100753359178861;\n",
    "  d_mRNA2 = 0.607263145327485;\n",
    "  \n",
    "  L2 = 0.01126375;\n",
    "  Vm2 = 0.855433454948057;\n",
    "  a_protein2 = 0.0825104648147814;\n",
    "  H2 = 3.21939257313515;\n",
    "  K1_2 = 0.0170170903653747;\n",
    "  \n",
    "  d_protein3 = 0.0165270958726424;\n",
    "  d_mRNA3 = 1.4096553751623;\n",
    "  L3 = 0.0108824170117358;\n",
    "  Vm3 = 1.61383118795785;\n",
    "  a_protein3 = 0.118672807163739;\n",
    "  H3 = 4.57189341195625;\n",
    "  K1_3 = 0.0133069236136431;\n",
    "  \n",
    "  d_protein4 = 0.0205716618573404;\n",
    "  d_mRNA4 = 1.19069657063437;\n",
    "  L4 = 0.0142166568749038;\n",
    "  Vm4 = 0.916251896011744;\n",
    "  a_protein4 = 0.0862964088164644;\n",
    "  H4 = 5.00512303222327;\n",
    "  K1_4 = 0.0179894288457716;\n",
    "  \n",
    "  d_protein5 = 0.0180685727313577;\n",
    "  d_mRNA5 = 0.911653907722886;\n",
    "  L5 = 0.0124824037745626;\n",
    "  a_protein5 = 0.106293056264931;\n",
    "  d_protein6 = 0.0178004316181647;\n",
    "  \n",
    "  d_mRNA6 = 0.67287496171115;\n",
    "  L6 = 0.0166516087433626;\n",
    "  Vm6 = 0.889302076744445;\n",
    "  a_protein6 = 0.0890528700251159;\n",
    "  H6 = 5.58112408673455;\n",
    "  K1_6 = 0.0139445776013774;\n",
    "  K2_6 = 0.0121764364668572;\n",
    "  \n",
    "  d_protein7 = 0.0206180615545929;\n",
    "  d_mRNA7 = 0.618711430584466;\n",
    "  L7 = 0.0178636133026099;\n",
    "  a_protein7 = 0.0764169841455256;\n",
    "  \n",
    "  d_protein8 = 0.0131749080364666;\n",
    "  d_mRNA8 = 1.17483328491068;\n",
    "  L8 = 0.0165535374304033;\n",
    "  Vm8 = 0.87881445337468;\n",
    "  a_protein8 = 0.103749989801903;\n",
    "  H8 = 2.17775388441324;\n",
    "  K1_8 = 0.0168599518440462;\n",
    "\n",
    "  // Other declarations:\n",
    "  const d_protein1, d_mRNA1, L1, Vm1, a_protein1, H1, K1_1, K2_1, K3_1, d_protein2;\n",
    "  const d_mRNA2, L2, Vm2, a_protein2, H2, K1_2, d_protein3, d_mRNA3;\n",
    "  const L3, Vm3, a_protein3, H3, K1_3, d_protein4, d_mRNA4, L4;\n",
    "  const Vm4, a_protein4, H4, K1_4, d_protein5, d_mRNA5, L5;\n",
    "  const a_protein5, d_protein6, d_mRNA6, L6, Vm6, a_protein6;\n",
    "  const H6, K1_6, K2_6, d_protein7, d_mRNA7, L7, a_protein7;\n",
    "  const d_protein8, d_mRNA8, L8, Vm8, a_protein8, H8, K1_8;\n",
    "end\n",
    "'''"
   ]
  },
  {
   "cell_type": "code",
   "execution_count": 7,
   "metadata": {
    "scrolled": true
   },
   "outputs": [],
   "source": [
    "model = model_1 + model_2\n",
    "  \n",
    "rr = te.loada(model)"
   ]
  },
  {
   "cell_type": "code",
   "execution_count": 8,
   "metadata": {
    "scrolled": true
   },
   "outputs": [],
   "source": [
    "def simulate(model, is_mrna=True, is_protein=True, is_input=False):\n",
    "    rr = te.loada(model)\n",
    "    data = rr.simulate(0, 1200, 120)\n",
    "    length = np.shape(data)[0]\n",
    "    df_data = pd.DataFrame(data)\n",
    "    columns = [s[1:-1] for s in data.colnames]\n",
    "    columns[0] = TIME\n",
    "    times = [10*v for v in range(length)]\n",
    "    df_data.columns = columns\n",
    "    df_data[TIME] = times\n",
    "    df_data = df_data.set_index(TIME)\n",
    "    #\n",
    "    def delColumn(string):\n",
    "        for col in df_data.columns:\n",
    "            if col[:len(string)] == string:\n",
    "                del df_data[col]\n",
    "    #\n",
    "    if not is_mrna:\n",
    "        delColumn(\"mRNA\")\n",
    "    if not is_protein:\n",
    "        delColumn(\"P\")\n",
    "    if not is_input:\n",
    "        delColumn(\"INPUT\")\n",
    "    return df_data"
   ]
  },
  {
   "cell_type": "code",
   "execution_count": 9,
   "metadata": {
    "scrolled": true
   },
   "outputs": [],
   "source": [
    "def getRNASeq(csv_file):\n",
    "    path = os.path.join(\"data\", csv_file)\n",
    "    df = pd.read_csv(path)\n",
    "    df[TIME] = [int(v) for v in df[TIME]]\n",
    "    df = df.set_index(TIME)\n",
    "    return df"
   ]
  },
  {
   "cell_type": "code",
   "execution_count": 10,
   "metadata": {
    "scrolled": true
   },
   "outputs": [],
   "source": [
    "def makeResiduals(model, df):\n",
    "    \"\"\"\n",
    "    Calculates the residuals for the columns in common.\n",
    "    \"\"\"\n",
    "    df_sim = simulate(model)\n",
    "    columns = set(df_sim.columns).intersection(df.columns)\n",
    "    return df[columns] - df_sim[columns]"
   ]
  },
  {
   "cell_type": "code",
   "execution_count": 21,
   "metadata": {
    "scrolled": true
   },
   "outputs": [],
   "source": [
    "def plotData(df_data, starttime=0, endtime=1200):\n",
    "    last = int(endtime/TIME_TO_POINT)\n",
    "    indices = list(range(last))\n",
    "    plt.plot(df_data.index[0:last], df_data.loc[df_data.index[indices],:])\n",
    "    plt.xlabel(\"Time\")\n",
    "    plt.legend(df_data.columns, loc=\"upper right\")"
   ]
  },
  {
   "cell_type": "code",
   "execution_count": 13,
   "metadata": {},
   "outputs": [],
   "source": [
    "def makeParameters(constants):\n",
    "    \"\"\"\n",
    "    Creates parameters with the correct ranges based on their names.\n",
    "    :param str constants: names of constant\n",
    "    \"\"\"\n",
    "    if isinstance(constants, str):\n",
    "        constants = [constants]\n",
    "    # mins and maxs for parameters by their initial string (up to a number)\n",
    "    ranges_dict = {\"Vm\": (0.5, 2), \"K\": (0.01, 0.03), \"H\": (2, 8), \n",
    "                   \"d_protein\": (0.01, 0.03), \"d_mRNA\": (0.5, 2) }\n",
    "    parameters = lmfit.Parameters()\n",
    "    for constant in constants:\n",
    "        pfxs = re.findall(r\"^\\D+\", constant)\n",
    "        if len(pfxs) != 1:\n",
    "            raise ValueError(\"Cannot find match for %s\" % constant)\n",
    "        pfx = pfxs[0]\n",
    "        min_val, max_val = ranges_dict[pfx]\n",
    "        initial_val = (min_val + max_val) / 2\n",
    "        parameters.add(constant, value=initial_val, min=min_val, max=max_val)\n",
    "    return parameters"
   ]
  },
  {
   "cell_type": "code",
   "execution_count": 14,
   "metadata": {
    "scrolled": true
   },
   "outputs": [],
   "source": [
    "df_rnaseq = getRNASeq(\"Curie_Wild_0_RNASeqResult_Clean.csv\")\n",
    "df_res = makeResiduals(model, df_rnaseq)"
   ]
  },
  {
   "cell_type": "code",
   "execution_count": 22,
   "metadata": {},
   "outputs": [
    {
     "data": {
      "image/png": "[encoded data removed]",
      "text/plain": [
       "<Figure size 432x288 with 1 Axes>"
      ]
     },
     "metadata": {
      "needs_background": "light"
     },
     "output_type": "display_data"
    }
   ],
   "source": [
    "df_base_model = mf.matrixToDF(mf.runSimulation(model=model, sim_time=1200, num_points=120))\n",
    "columns = [\"mRNA%d\" % v for v in range(1,9)]\n",
    "plotData(df_base_model[columns])"
   ]
  },
  {
   "cell_type": "code",
   "execution_count": null,
   "metadata": {
    "scrolled": true
   },
   "outputs": [],
   "source": [
    "plotData(df_res, endtime=300)"
   ]
  },
  {
   "cell_type": "code",
   "execution_count": 23,
   "metadata": {
    "scrolled": true
   },
   "outputs": [
    {
     "data": {
      "image/png": "[encoded data removed]",
      "text/plain": [
       "<Figure size 432x288 with 1 Axes>"
      ]
     },
     "metadata": {
      "needs_background": "light"
     },
     "output_type": "display_data"
    }
   ],
   "source": [
    "plotData(df_rnaseq, endtime=1200)"
   ]
  },
  {
   "cell_type": "markdown",
   "metadata": {},
   "source": [
    "Observations\n",
    "1. mRNA1, mRNA7, mRNA8 all rise rapidly. Suggests that mRNA7 has inputs from P1 as does mRNA8."
   ]
  },
  {
   "cell_type": "code",
   "execution_count": null,
   "metadata": {},
   "outputs": [],
   "source": [
    "STOP"
   ]
  },
  {
   "cell_type": "code",
   "execution_count": null,
   "metadata": {
    "scrolled": false
   },
   "outputs": [],
   "source": [
    "# Cross validate to evaluate the new model\n",
    "constants = ['Vm7', 'K1_7', 'H7']\n",
    "parameters = makeParameters(constants)\n",
    "columns = [\"mRNA%d\" % n for n in range(1, 8)]\n",
    "sim_time = 100\n",
    "num_points = int(sim_time/10)\n",
    "df_obs = df_rnaseq.loc[df_rnaseq.index[range(num_points)], :]\n",
    "df_obs = pd.DataFrame(df_obs['mRNA7'])  # Focus on the one we're trying to fix\n",
    "list_parameters, rsqs = mf.crossValidate(df_obs, model=model, parameters=parameters,\n",
    "                                         num_points=num_points, \n",
    "                                         method='leastsqs',\n",
    "                                         sim_time=sim_time,\n",
    "                                         num_folds=2)"
   ]
  },
  {
   "cell_type": "code",
   "execution_count": null,
   "metadata": {
    "scrolled": true
   },
   "outputs": [],
   "source": [
    "rsqs"
   ]
  },
  {
   "cell_type": "markdown",
   "metadata": {
    "scrolled": true
   },
   "source": [
    "Thoughts\n",
    "1. Verify that data are aligned between obs and sim"
   ]
  },
  {
   "cell_type": "code",
   "execution_count": null,
   "metadata": {
    "scrolled": true
   },
   "outputs": [],
   "source": [
    "df_rnaseq"
   ]
  },
  {
   "cell_type": "code",
   "execution_count": null,
   "metadata": {
    "scrolled": true
   },
   "outputs": [],
   "source": [
    "data = rr.simulate(0, 1200, 120)"
   ]
  },
  {
   "cell_type": "code",
   "execution_count": null,
   "metadata": {
    "scrolled": true
   },
   "outputs": [],
   "source": [
    "df_data = pd.DataFrame(data)"
   ]
  },
  {
   "cell_type": "code",
   "execution_count": null,
   "metadata": {
    "scrolled": true
   },
   "outputs": [],
   "source": [
    "data.colnames"
   ]
  },
  {
   "cell_type": "code",
   "execution_count": null,
   "metadata": {
    "scrolled": true
   },
   "outputs": [],
   "source": []
  }
 ],
 "metadata": {
  "kernelspec": {
   "display_name": "Python 3",
   "language": "python",
   "name": "python3"
  },
  "language_info": {
   "codemirror_mode": {
    "name": "ipython",
    "version": 3
   },
   "file_extension": ".py",
   "mimetype": "text/x-python",
   "name": "python",
   "nbconvert_exporter": "python",
   "pygments_lexer": "ipython3",
   "version": "3.6.9"
  }
 },
 "nbformat": 4,
 "nbformat_minor": 2
}
