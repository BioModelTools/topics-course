{
 "cells": [
  {
   "cell_type": "markdown",
   "metadata": {},
   "source": [
    "# Modeling Game"
   ]
  },
  {
   "cell_type": "code",
   "execution_count": 1,
   "metadata": {
    "scrolled": true
   },
   "outputs": [],
   "source": [
    "%matplotlib inline\n",
    "import numpy as np\n",
    "import model_fitting as mf\n",
    "import tellurium as te\n",
    "import matplotlib.pyplot as plt\n",
    "import pandas as pd\n",
    "from collections import namedtuple\n",
    "import os"
   ]
  },
  {
   "cell_type": "code",
   "execution_count": 2,
   "metadata": {
    "scrolled": true
   },
   "outputs": [],
   "source": [
    "# Symbols\n",
    "# Column names\n",
    "TIME = 'time'\n",
    "\n",
    "TIME_TO_POINT = 10 # 1 point for every second"
   ]
  },
  {
   "cell_type": "code",
   "execution_count": 3,
   "metadata": {
    "scrolled": true
   },
   "outputs": [],
   "source": [
    "# Initial model\n",
    "model_1 = '''\n",
    "// Created by libAntimony v3.9.4\n",
    "model *pathway()\n",
    "\n",
    "  // Compartments and Species:\n",
    "  species INPUT, P1, mRNA1, P2, mRNA2, P3, mRNA3, P4, mRNA4, P5, mRNA5, P6;\n",
    "  species mRNA6, P7, mRNA7, P8, mRNA8;\n",
    "\n",
    "  // Reactions:\n",
    "  J1:  => mRNA1; L1 + Vm1*((K1_1*INPUT^H1 + K2_1*P4^H1 + K1_1*K3_1*INPUT^H1*P4^H1)/(1 + K1_1*INPUT^H1 + K2_1*P4^H1 + K1_1*K3_1*INPUT^H1*P4^H1)) - d_mRNA1*mRNA1;\n",
    "  F1:  => P1; a_protein1*mRNA1 - d_protein1*P1;\n",
    "  J2:  => mRNA2; L2 + Vm2*(K1_2*P4^H2/(1 + K1_2*P4^H2)) - d_mRNA2*mRNA2;\n",
    "  F2:  => P2; a_protein2*mRNA2 - d_protein2*P2;\n",
    "  J3:  => mRNA3; L3 + Vm3*(K1_3*P6^H3/(1 + K1_3*P6^H3)) - d_mRNA3*mRNA3;\n",
    "  F3:  => P3; a_protein3*mRNA3 - d_protein3*P3;\n",
    "  J4:  => mRNA4; L4 + Vm4*(1/(1 + K1_4*P2^H4)) - d_mRNA4*mRNA4;\n",
    "  F4:  => P4; a_protein4*mRNA4 - d_protein4*P4;\n",
    "  J5:  => mRNA5; L5 - d_mRNA5*mRNA5;\n",
    "  F5:  => P5; a_protein5*mRNA5 - d_protein5*P5;\n",
    "  J6:  => mRNA6; L6 + Vm6*(K1_6*P7^H6/(1 + K1_6*P7^H6 + K2_6*P1^H6 + K1_6*K2_6*P7^H6*P1^H6)) - d_mRNA6*mRNA6;\n",
    "  F6:  => P6; a_protein6*mRNA6 - d_protein6*P6;\n",
    "  J7:  => mRNA7; L7 - d_mRNA7*mRNA7;\n",
    "  F7:  => P7; a_protein7*mRNA7 - d_protein7*P7;\n",
    "  J8:  => mRNA8; L8 + Vm8*(1/(1 + K1_8*P1^H8)) - d_mRNA8*mRNA8;\n",
    "  F8:  => P8; a_protein8*mRNA8 - d_protein8*P8;\n",
    "  '''"
   ]
  },
  {
   "cell_type": "code",
   "execution_count": 4,
   "metadata": {
    "scrolled": true
   },
   "outputs": [],
   "source": [
    "# Initial constants\n",
    "\n",
    "model_2 = '''\n",
    "\n",
    " // Species initializations:\n",
    "  INPUT = 1;\n",
    "  P1 = 0;\n",
    "  mRNA1 = 0;\n",
    "  P2 = 0;\n",
    "  mRNA2 = 0;\n",
    "  P3 = 0;\n",
    "  mRNA3 = 0;\n",
    "  P4 = 0;\n",
    "  mRNA4 = 0;\n",
    "  P5 = 0;\n",
    "  mRNA5 = 0;\n",
    "  P6 = 0;\n",
    "  mRNA6 = 0;\n",
    "  P7 = 0;\n",
    "  mRNA7 = 0;\n",
    "  P8 = 0;\n",
    "  mRNA8 = 0;\n",
    "\n",
    "  // Variable initializations:\n",
    "  d_protein1 = 0.01576525;\n",
    "  d_mRNA1 = 0.600013;\n",
    "  L1 = 0.0284569399501349;\n",
    "  Vm1 = 1.16380673480284;\n",
    "  a_protein1 = 0.089105566248939;\n",
    "  H1 = 4.52340391321994;\n",
    "  K1_1 = 0.0269204907071558;\n",
    "  K2_1 = 0.0169635567504703;\n",
    "  K3_1 = 0.0114278645720656;\n",
    "  d_protein2 = 0.0100753359178861;\n",
    "  d_mRNA2 = 0.607263145327485;\n",
    "  L2 = 0.01126375;\n",
    "  Vm2 = 0.855433454948057;\n",
    "  a_protein2 = 0.0825104648147814;\n",
    "  H2 = 3.21939257313515;\n",
    "  K1_2 = 0.0170170903653747;\n",
    "  d_protein3 = 0.0165270958726424;\n",
    "  d_mRNA3 = 1.4096553751623;\n",
    "  L3 = 0.0108824170117358;\n",
    "  Vm3 = 1.61383118795785;\n",
    "  a_protein3 = 0.118672807163739;\n",
    "  H3 = 4.57189341195625;\n",
    "  K1_3 = 0.0133069236136431;\n",
    "  d_protein4 = 0.0205716618573404;\n",
    "  d_mRNA4 = 1.19069657063437;\n",
    "  L4 = 0.0142166568749038;\n",
    "  Vm4 = 0.916251896011744;\n",
    "  a_protein4 = 0.0862964088164644;\n",
    "  H4 = 5.00512303222327;\n",
    "  K1_4 = 0.0179894288457716;\n",
    "  d_protein5 = 0.0180685727313577;\n",
    "  d_mRNA5 = 0.911653907722886;\n",
    "  L5 = 0.0124824037745626;\n",
    "  a_protein5 = 0.106293056264931;\n",
    "  d_protein6 = 0.0178004316181647;\n",
    "  d_mRNA6 = 0.67287496171115;\n",
    "  L6 = 0.0166516087433626;\n",
    "  Vm6 = 0.889302076744445;\n",
    "  a_protein6 = 0.0890528700251159;\n",
    "  H6 = 5.58112408673455;\n",
    "  K1_6 = 0.0139445776013774;\n",
    "  K2_6 = 0.0121764364668572;\n",
    "  d_protein7 = 0.0206180615545929;\n",
    "  d_mRNA7 = 0.618711430584466;\n",
    "  L7 = 0.0178636133026099;\n",
    "  a_protein7 = 0.0764169841455256;\n",
    "  d_protein8 = 0.0131749080364666;\n",
    "  d_mRNA8 = 1.17483328491068;\n",
    "  L8 = 0.0165535374304033;\n",
    "  Vm8 = 0.87881445337468;\n",
    "  a_protein8 = 0.103749989801903;\n",
    "  H8 = 2.17775388441324;\n",
    "  K1_8 = 0.0168599518440462;\n",
    "\n",
    "  // Other declarations:\n",
    "  const d_protein1, d_mRNA1, L1, Vm1, a_protein1, H1, K1_1, K2_1, K3_1, d_protein2;\n",
    "  const d_mRNA2, L2, Vm2, a_protein2, H2, K1_2, d_protein3, d_mRNA3;\n",
    "  const L3, Vm3, a_protein3, H3, K1_3, d_protein4, d_mRNA4, L4;\n",
    "  const Vm4, a_protein4, H4, K1_4, d_protein5, d_mRNA5, L5;\n",
    "  const a_protein5, d_protein6, d_mRNA6, L6, Vm6, a_protein6;\n",
    "  const H6, K1_6, K2_6, d_protein7, d_mRNA7, L7, a_protein7;\n",
    "  const d_protein8, d_mRNA8, L8, Vm8, a_protein8, H8, K1_8;\n",
    "end\n",
    "'''"
   ]
  },
  {
   "cell_type": "code",
   "execution_count": 5,
   "metadata": {
    "scrolled": true
   },
   "outputs": [],
   "source": [
    "# Modified model\n",
    "model_1 = '''\n",
    "// Created by libAntimony v3.9.4\n",
    "model *pathway()\n",
    "\n",
    "  // Compartments and Species:\n",
    "  species INPUT, P1, mRNA1, P2, mRNA2, P3, mRNA3, P4, mRNA4, P5, mRNA5, P6;\n",
    "  species mRNA6, P7, mRNA7, P8, mRNA8;\n",
    "\n",
    "  // Reactions:\n",
    "  J1:  => mRNA1; L1 + Vm1*((K1_1*INPUT^H1 + K2_1*P4^H1 + K1_1*K3_1*INPUT^H1*P4^H1)/(1 + K1_1*INPUT^H1 + K2_1*P4^H1 + K1_1*K3_1*INPUT^H1*P4^H1)) - d_mRNA1*mRNA1;\n",
    "  F1:  => P1; a_protein1*mRNA1 - d_protein1*P1;\n",
    "  J2:  => mRNA2; L2 + Vm2*(K1_2*P4^H2/(1 + K1_2*P4^H2)) - d_mRNA2*mRNA2;\n",
    "  F2:  => P2; a_protein2*mRNA2 - d_protein2*P2;\n",
    "  J3:  => mRNA3; L3 + Vm3*(K1_3*P6^H3/(1 + K1_3*P6^H3)) - d_mRNA3*mRNA3;\n",
    "  F3:  => P3; a_protein3*mRNA3 - d_protein3*P3;\n",
    "  J4:  => mRNA4; L4 + Vm4*(1/(1 + K1_4*P2^H4)) - d_mRNA4*mRNA4;\n",
    "  F4:  => P4; a_protein4*mRNA4 - d_protein4*P4;\n",
    "  J5:  => mRNA5; L5 - d_mRNA5*mRNA5;\n",
    "  F5:  => P5; a_protein5*mRNA5 - d_protein5*P5;\n",
    "  J6:  => mRNA6; L6 + Vm6*(K1_6*P7^H6/(1 + K1_6*P7^H6 + K2_6*P1^H6 + K1_6*K2_6*P7^H6*P1^H6)) - d_mRNA6*mRNA6;\n",
    "  F6:  => P6; a_protein6*mRNA6 - d_protein6*P6;\n",
    "  J7:  => mRNA7; L7 + Vm7*(K1_7*P1^H7/(1 + K1_7*P1^H7)) - d_mRNA7*mRNA7;  # added term for P1\n",
    "  F7:  => P7; a_protein7*mRNA7 - d_protein7*P7;\n",
    "  J8:  => mRNA8; L8 + Vm8*(1/(1 + K1_8*P1^H8)) - d_mRNA8*mRNA8;\n",
    "  F8:  => P8; a_protein8*mRNA8 - d_protein8*P8;\n",
    "  '''"
   ]
  },
  {
   "cell_type": "code",
   "execution_count": 6,
   "metadata": {
    "scrolled": true
   },
   "outputs": [],
   "source": [
    "# Constants\n",
    "\n",
    "model_2 = '''\n",
    "\n",
    " // Constants to estimate\n",
    " Vm7 = 0;\n",
    " K1_7 = 0;\n",
    " H7 = 0;\n",
    "\n",
    " // Species initializations:\n",
    "  INPUT = 1;\n",
    "  P1 = 0;\n",
    "  mRNA1 = 0;\n",
    "  P2 = 0;\n",
    "  mRNA2 = 0;\n",
    "  P3 = 0;\n",
    "  mRNA3 = 0;\n",
    "  P4 = 0;\n",
    "  mRNA4 = 0;\n",
    "  P5 = 0;\n",
    "  mRNA5 = 0;\n",
    "  P6 = 0;\n",
    "  mRNA6 = 0;\n",
    "  P7 = 0;\n",
    "  mRNA7 = 0;\n",
    "  P8 = 0;\n",
    "  mRNA8 = 0;\n",
    "\n",
    "  // Variable initializations:\n",
    "  d_protein1 = 0.01576525;\n",
    "  d_mRNA1 = 0.600013;\n",
    "  L1 = 0.0284569399501349;\n",
    "  Vm1 = 1.16380673480284;\n",
    "  a_protein1 = 0.089105566248939;\n",
    "  H1 = 4.52340391321994;\n",
    "  K1_1 = 0.0269204907071558;\n",
    "  K2_1 = 0.0169635567504703;\n",
    "  K3_1 = 0.0114278645720656;\n",
    "  d_protein2 = 0.0100753359178861;\n",
    "  d_mRNA2 = 0.607263145327485;\n",
    "  \n",
    "  L2 = 0.01126375;\n",
    "  Vm2 = 0.855433454948057;\n",
    "  a_protein2 = 0.0825104648147814;\n",
    "  H2 = 3.21939257313515;\n",
    "  K1_2 = 0.0170170903653747;\n",
    "  \n",
    "  d_protein3 = 0.0165270958726424;\n",
    "  d_mRNA3 = 1.4096553751623;\n",
    "  L3 = 0.0108824170117358;\n",
    "  Vm3 = 1.61383118795785;\n",
    "  a_protein3 = 0.118672807163739;\n",
    "  H3 = 4.57189341195625;\n",
    "  K1_3 = 0.0133069236136431;\n",
    "  \n",
    "  d_protein4 = 0.0205716618573404;\n",
    "  d_mRNA4 = 1.19069657063437;\n",
    "  L4 = 0.0142166568749038;\n",
    "  Vm4 = 0.916251896011744;\n",
    "  a_protein4 = 0.0862964088164644;\n",
    "  H4 = 5.00512303222327;\n",
    "  K1_4 = 0.0179894288457716;\n",
    "  \n",
    "  d_protein5 = 0.0180685727313577;\n",
    "  d_mRNA5 = 0.911653907722886;\n",
    "  L5 = 0.0124824037745626;\n",
    "  a_protein5 = 0.106293056264931;\n",
    "  d_protein6 = 0.0178004316181647;\n",
    "  \n",
    "  d_mRNA6 = 0.67287496171115;\n",
    "  L6 = 0.0166516087433626;\n",
    "  Vm6 = 0.889302076744445;\n",
    "  a_protein6 = 0.0890528700251159;\n",
    "  H6 = 5.58112408673455;\n",
    "  K1_6 = 0.0139445776013774;\n",
    "  K2_6 = 0.0121764364668572;\n",
    "  \n",
    "  d_protein7 = 0.0206180615545929;\n",
    "  d_mRNA7 = 0.618711430584466;\n",
    "  L7 = 0.0178636133026099;\n",
    "  a_protein7 = 0.0764169841455256;\n",
    "  \n",
    "  d_protein8 = 0.0131749080364666;\n",
    "  d_mRNA8 = 1.17483328491068;\n",
    "  L8 = 0.0165535374304033;\n",
    "  Vm8 = 0.87881445337468;\n",
    "  a_protein8 = 0.103749989801903;\n",
    "  H8 = 2.17775388441324;\n",
    "  K1_8 = 0.0168599518440462;\n",
    "\n",
    "  // Other declarations:\n",
    "  const d_protein1, d_mRNA1, L1, Vm1, a_protein1, H1, K1_1, K2_1, K3_1, d_protein2;\n",
    "  const d_mRNA2, L2, Vm2, a_protein2, H2, K1_2, d_protein3, d_mRNA3;\n",
    "  const L3, Vm3, a_protein3, H3, K1_3, d_protein4, d_mRNA4, L4;\n",
    "  const Vm4, a_protein4, H4, K1_4, d_protein5, d_mRNA5, L5;\n",
    "  const a_protein5, d_protein6, d_mRNA6, L6, Vm6, a_protein6;\n",
    "  const H6, K1_6, K2_6, d_protein7, d_mRNA7, L7, a_protein7;\n",
    "  const d_protein8, d_mRNA8, L8, Vm8, a_protein8, H8, K1_8;\n",
    "end\n",
    "'''"
   ]
  },
  {
   "cell_type": "code",
   "execution_count": 7,
   "metadata": {
    "scrolled": true
   },
   "outputs": [],
   "source": [
    "model = model_1 + model_2\n",
    "  \n",
    "rr = te.loada(model)"
   ]
  },
  {
   "cell_type": "code",
   "execution_count": 8,
   "metadata": {
    "scrolled": true
   },
   "outputs": [],
   "source": [
    "def simulate(model, is_mrna=True, is_protein=True, is_input=False):\n",
    "    rr = te.loada(model)\n",
    "    data = rr.simulate(0, 1200, 120)\n",
    "    length = np.shape(data)[0]\n",
    "    df_data = pd.DataFrame(data)\n",
    "    columns = [s[1:-1] for s in data.colnames]\n",
    "    columns[0] = TIME\n",
    "    times = [10*v for v in range(length)]\n",
    "    df_data.columns = columns\n",
    "    df_data[TIME] = times\n",
    "    df_data = df_data.set_index(TIME)\n",
    "    #\n",
    "    def delColumn(string):\n",
    "        for col in df_data.columns:\n",
    "            if col[:len(string)] == string:\n",
    "                del df_data[col]\n",
    "    #\n",
    "    if not is_mrna:\n",
    "        delColumn(\"mRNA\")\n",
    "    if not is_protein:\n",
    "        delColumn(\"P\")\n",
    "    if not is_input:\n",
    "        delColumn(\"INPUT\")\n",
    "    return df_data"
   ]
  },
  {
   "cell_type": "code",
   "execution_count": 9,
   "metadata": {
    "scrolled": true
   },
   "outputs": [],
   "source": [
    "def getRNASeq(csv_file):\n",
    "    path = os.path.join(\"data\", csv_file)\n",
    "    df = pd.read_csv(path)\n",
    "    df[TIME] = [int(v) for v in df[TIME]]\n",
    "    df = df.set_index(TIME)\n",
    "    return df"
   ]
  },
  {
   "cell_type": "code",
   "execution_count": 10,
   "metadata": {
    "scrolled": true
   },
   "outputs": [],
   "source": [
    "def makeResiduals(model, df):\n",
    "    \"\"\"\n",
    "    Calculates the residuals for the columns in common.\n",
    "    \"\"\"\n",
    "    df_sim = simulate(model)\n",
    "    columns = set(df_sim.columns).intersection(df.columns)\n",
    "    return df[columns] - df_sim[columns]"
   ]
  },
  {
   "cell_type": "code",
   "execution_count": 11,
   "metadata": {
    "scrolled": true
   },
   "outputs": [],
   "source": [
    "def plotData(df_data, starttime=0, endtime=1200):\n",
    "    last = int(endtime/TIME_TO_POINT)\n",
    "    indices = list(range(last))\n",
    "    plt.plot(df_data.index[0:last], df_data.loc[df_data.index[indices],:])\n",
    "    plt.legend(df_data.columns)"
   ]
  },
  {
   "cell_type": "code",
   "execution_count": 12,
   "metadata": {
    "scrolled": true
   },
   "outputs": [],
   "source": [
    "df_rnaseq = getRNASeq(\"Curie_Wild_0_RNASeqResult_Clean.csv\")\n",
    "df_res = makeResiduals(model, df_rnaseq)"
   ]
  },
  {
   "cell_type": "code",
   "execution_count": 13,
   "metadata": {
    "scrolled": true
   },
   "outputs": [
    {
     "data": {
      "image/png": "[encoded data removed]",
      "text/plain": [
       "<Figure size 432x288 with 1 Axes>"
      ]
     },
     "metadata": {
      "needs_background": "light"
     },
     "output_type": "display_data"
    }
   ],
   "source": [
    "plotData(df_res, endtime=100)"
   ]
  },
  {
   "cell_type": "code",
   "execution_count": 14,
   "metadata": {
    "scrolled": true
   },
   "outputs": [
    {
     "data": {
      "image/png": "[encoded data removed]",
      "text/plain": [
       "<Figure size 432x288 with 1 Axes>"
      ]
     },
     "metadata": {
      "needs_background": "light"
     },
     "output_type": "display_data"
    }
   ],
   "source": [
    "plotData(df_rnaseq, endtime=100)"
   ]
  },
  {
   "cell_type": "markdown",
   "metadata": {},
   "source": [
    "Observations\n",
    "1. mRNA1, mRNA7, mRNA8 all rise rapidly. Suggests that mRNA7 has inputs from P1 as does mRNA8."
   ]
  },
  {
   "cell_type": "code",
   "execution_count": 15,
   "metadata": {},
   "outputs": [
    {
     "data": {
      "text/html": [
       "<div>\n",
       "<style scoped>\n",
       "    .dataframe tbody tr th:only-of-type {\n",
       "        vertical-align: middle;\n",
       "    }\n",
       "\n",
       "    .dataframe tbody tr th {\n",
       "        vertical-align: top;\n",
       "    }\n",
       "\n",
       "    .dataframe thead th {\n",
       "        text-align: right;\n",
       "    }\n",
       "</style>\n",
       "<table border=\"1\" class=\"dataframe\">\n",
       "  <thead>\n",
       "    <tr style=\"text-align: right;\">\n",
       "      <th></th>\n",
       "      <th>mRNA1</th>\n",
       "      <th>mRNA2</th>\n",
       "      <th>mRNA3</th>\n",
       "      <th>mRNA4</th>\n",
       "      <th>mRNA5</th>\n",
       "      <th>mRNA6</th>\n",
       "      <th>mRNA7</th>\n",
       "      <th>mRNA8</th>\n",
       "    </tr>\n",
       "    <tr>\n",
       "      <th>time</th>\n",
       "      <th></th>\n",
       "      <th></th>\n",
       "      <th></th>\n",
       "      <th></th>\n",
       "      <th></th>\n",
       "      <th></th>\n",
       "      <th></th>\n",
       "      <th></th>\n",
       "    </tr>\n",
       "  </thead>\n",
       "  <tbody>\n",
       "    <tr>\n",
       "      <th>0</th>\n",
       "      <td>0.000000</td>\n",
       "      <td>0.000000</td>\n",
       "      <td>0.000000</td>\n",
       "      <td>0.000000</td>\n",
       "      <td>0.000000</td>\n",
       "      <td>0.000000</td>\n",
       "      <td>0.000000</td>\n",
       "      <td>0.000000</td>\n",
       "    </tr>\n",
       "    <tr>\n",
       "      <th>10</th>\n",
       "      <td>0.099307</td>\n",
       "      <td>0.020844</td>\n",
       "      <td>0.007720</td>\n",
       "      <td>0.781444</td>\n",
       "      <td>0.013691</td>\n",
       "      <td>0.084857</td>\n",
       "      <td>2.404909</td>\n",
       "      <td>0.746052</td>\n",
       "    </tr>\n",
       "    <tr>\n",
       "      <th>20</th>\n",
       "      <td>0.129347</td>\n",
       "      <td>0.041853</td>\n",
       "      <td>0.007983</td>\n",
       "      <td>0.781449</td>\n",
       "      <td>0.014414</td>\n",
       "      <td>1.000481</td>\n",
       "      <td>2.361672</td>\n",
       "      <td>0.688322</td>\n",
       "    </tr>\n",
       "    <tr>\n",
       "      <th>30</th>\n",
       "      <td>0.241193</td>\n",
       "      <td>0.088704</td>\n",
       "      <td>0.055608</td>\n",
       "      <td>0.781449</td>\n",
       "      <td>0.065749</td>\n",
       "      <td>1.286064</td>\n",
       "      <td>2.248185</td>\n",
       "      <td>0.621902</td>\n",
       "    </tr>\n",
       "    <tr>\n",
       "      <th>40</th>\n",
       "      <td>0.436952</td>\n",
       "      <td>0.153115</td>\n",
       "      <td>0.357630</td>\n",
       "      <td>0.781445</td>\n",
       "      <td>0.282754</td>\n",
       "      <td>1.326094</td>\n",
       "      <td>2.102741</td>\n",
       "      <td>0.566512</td>\n",
       "    </tr>\n",
       "    <tr>\n",
       "      <th>...</th>\n",
       "      <td>...</td>\n",
       "      <td>...</td>\n",
       "      <td>...</td>\n",
       "      <td>...</td>\n",
       "      <td>...</td>\n",
       "      <td>...</td>\n",
       "      <td>...</td>\n",
       "      <td>...</td>\n",
       "    </tr>\n",
       "    <tr>\n",
       "      <th>1160</th>\n",
       "      <td>0.760921</td>\n",
       "      <td>0.254403</td>\n",
       "      <td>0.007757</td>\n",
       "      <td>0.515006</td>\n",
       "      <td>0.013873</td>\n",
       "      <td>0.054575</td>\n",
       "      <td>1.567315</td>\n",
       "      <td>0.346935</td>\n",
       "    </tr>\n",
       "    <tr>\n",
       "      <th>1170</th>\n",
       "      <td>0.762183</td>\n",
       "      <td>0.254814</td>\n",
       "      <td>0.007758</td>\n",
       "      <td>0.515392</td>\n",
       "      <td>0.013875</td>\n",
       "      <td>0.054699</td>\n",
       "      <td>1.589547</td>\n",
       "      <td>0.342784</td>\n",
       "    </tr>\n",
       "    <tr>\n",
       "      <th>1180</th>\n",
       "      <td>0.763440</td>\n",
       "      <td>0.255222</td>\n",
       "      <td>0.007758</td>\n",
       "      <td>0.515607</td>\n",
       "      <td>0.013877</td>\n",
       "      <td>0.054765</td>\n",
       "      <td>1.611597</td>\n",
       "      <td>0.338618</td>\n",
       "    </tr>\n",
       "    <tr>\n",
       "      <th>1190</th>\n",
       "      <td>0.764576</td>\n",
       "      <td>0.255592</td>\n",
       "      <td>0.007759</td>\n",
       "      <td>0.515671</td>\n",
       "      <td>0.013879</td>\n",
       "      <td>0.054785</td>\n",
       "      <td>1.633473</td>\n",
       "      <td>0.334454</td>\n",
       "    </tr>\n",
       "    <tr>\n",
       "      <th>1200</th>\n",
       "      <td>0.765516</td>\n",
       "      <td>0.255898</td>\n",
       "      <td>0.007759</td>\n",
       "      <td>0.515618</td>\n",
       "      <td>0.013880</td>\n",
       "      <td>0.054769</td>\n",
       "      <td>1.655170</td>\n",
       "      <td>0.330311</td>\n",
       "    </tr>\n",
       "  </tbody>\n",
       "</table>\n",
       "<p>121 rows × 8 columns</p>\n",
       "</div>"
      ],
      "text/plain": [
       "         mRNA1     mRNA2     mRNA3     mRNA4     mRNA5     mRNA6     mRNA7  \\\n",
       "time                                                                         \n",
       "0     0.000000  0.000000  0.000000  0.000000  0.000000  0.000000  0.000000   \n",
       "10    0.099307  0.020844  0.007720  0.781444  0.013691  0.084857  2.404909   \n",
       "20    0.129347  0.041853  0.007983  0.781449  0.014414  1.000481  2.361672   \n",
       "30    0.241193  0.088704  0.055608  0.781449  0.065749  1.286064  2.248185   \n",
       "40    0.436952  0.153115  0.357630  0.781445  0.282754  1.326094  2.102741   \n",
       "...        ...       ...       ...       ...       ...       ...       ...   \n",
       "1160  0.760921  0.254403  0.007757  0.515006  0.013873  0.054575  1.567315   \n",
       "1170  0.762183  0.254814  0.007758  0.515392  0.013875  0.054699  1.589547   \n",
       "1180  0.763440  0.255222  0.007758  0.515607  0.013877  0.054765  1.611597   \n",
       "1190  0.764576  0.255592  0.007759  0.515671  0.013879  0.054785  1.633473   \n",
       "1200  0.765516  0.255898  0.007759  0.515618  0.013880  0.054769  1.655170   \n",
       "\n",
       "         mRNA8  \n",
       "time            \n",
       "0     0.000000  \n",
       "10    0.746052  \n",
       "20    0.688322  \n",
       "30    0.621902  \n",
       "40    0.566512  \n",
       "...        ...  \n",
       "1160  0.346935  \n",
       "1170  0.342784  \n",
       "1180  0.338618  \n",
       "1190  0.334454  \n",
       "1200  0.330311  \n",
       "\n",
       "[121 rows x 8 columns]"
      ]
     },
     "execution_count": 15,
     "metadata": {},
     "output_type": "execute_result"
    }
   ],
   "source": [
    "df_rnaseq"
   ]
  },
  {
   "cell_type": "code",
   "execution_count": null,
   "metadata": {
    "scrolled": false
   },
   "outputs": [],
   "source": [
    "# Cross validate to evaluate the new model\n",
    "Vm7 = 0;\n",
    "K1_7 = 0;\n",
    "H7 = 0;\n",
    "mins=[0.5, 0.01 , 2]\n",
    "maxs=[2, 0.03 ,8]\n",
    "values = [mx - mn for mn, mx in zip(mins, maxs)]\n",
    "columns = [\"mRNA%d\" % n for n in range(1, 8)]\n",
    "\n",
    "parameters = mf.makeParameters(constants=['Vm7', 'K1_7', 'H7'], mins=mins, maxs=maxs, values=values)\n",
    "num_points = 10\n",
    "df_obs = df_rnaseq.loc[df_rnaseq.index[range(num_points)], :]\n",
    "list_parameters, rsqs = mf.crossValidate(df_obs, model=model, parameters=parameters,\n",
    "                                         num_points=num_points, \n",
    "                                         method='differential_evolution',\n",
    "                                         sim_time=100,\n",
    "                                         num_folds=3)"
   ]
  },
  {
   "cell_type": "code",
   "execution_count": 18,
   "metadata": {
    "scrolled": true
   },
   "outputs": [
    {
     "data": {
      "text/plain": [
       "[-33.670791030315826, -34.56540878338797, -40.66585332797106]"
      ]
     },
     "execution_count": 18,
     "metadata": {},
     "output_type": "execute_result"
    }
   ],
   "source": [
    "rsqs"
   ]
  },
  {
   "cell_type": "code",
   "execution_count": null,
   "metadata": {
    "scrolled": true
   },
   "outputs": [],
   "source": [
    "df_res.head()"
   ]
  },
  {
   "cell_type": "code",
   "execution_count": null,
   "metadata": {
    "scrolled": true
   },
   "outputs": [],
   "source": [
    "df = simulate(model)\n",
    "df"
   ]
  },
  {
   "cell_type": "code",
   "execution_count": null,
   "metadata": {
    "scrolled": true
   },
   "outputs": [],
   "source": [
    "data = rr.simulate(0, 1200, 120)"
   ]
  },
  {
   "cell_type": "code",
   "execution_count": null,
   "metadata": {
    "scrolled": true
   },
   "outputs": [],
   "source": [
    "df_data = pd.DataFrame(data)"
   ]
  },
  {
   "cell_type": "code",
   "execution_count": null,
   "metadata": {
    "scrolled": true
   },
   "outputs": [],
   "source": [
    "data.colnames"
   ]
  },
  {
   "cell_type": "code",
   "execution_count": null,
   "metadata": {
    "scrolled": true
   },
   "outputs": [],
   "source": []
  }
 ],
 "metadata": {
  "kernelspec": {
   "display_name": "Python 3",
   "language": "python",
   "name": "python3"
  },
  "language_info": {
   "codemirror_mode": {
    "name": "ipython",
    "version": 3
   },
   "file_extension": ".py",
   "mimetype": "text/x-python",
   "name": "python",
   "nbconvert_exporter": "python",
   "pygments_lexer": "ipython3",
   "version": "3.6.9"
  }
 },
 "nbformat": 4,
 "nbformat_minor": 2
}
