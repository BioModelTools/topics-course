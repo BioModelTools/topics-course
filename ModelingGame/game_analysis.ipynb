{
 "cells": [
  {
   "cell_type": "markdown",
   "metadata": {},
   "source": [
    "# Analysis for the Modeling Game"
   ]
  },
  {
   "cell_type": "code",
   "execution_count": 1,
   "metadata": {},
   "outputs": [],
   "source": [
    "%matplotlib inline\n",
    "import copy\n",
    "import lmfit\n",
    "import matplotlib.pyplot as plt\n",
    "import numpy as np\n",
    "import pandas as pd\n",
    "from scipy.integrate import odeint\n",
    "\n",
    "import constants as cn\n",
    "import tellurium as te\n",
    "import gene_network as gn\n",
    "import modeling_game as mg\n",
    "import model_fitting as mf\n",
    "import gene_analyzer as ga\n",
    "import run_game as rg\n",
    "import util"
   ]
  },
  {
   "cell_type": "markdown",
   "metadata": {},
   "source": [
    "## Stress Tests\n",
    "\n",
    "- Decrease Vm8 by 50% and increase Vm3 by 50%\n",
    "- Show P1"
   ]
  },
  {
   "cell_type": "code",
   "execution_count": 65,
   "metadata": {},
   "outputs": [],
   "source": [
    "def simulate(parameters=None):\n",
    "    \"\"\"\n",
    "    Runs the simulation for the default model file.\n",
    "    :return pd.Series, pd.Series, RoadRunner: time, P1, road runner instance\n",
    "    \"\"\"\n",
    "    model = rg.getModel()\n",
    "    result = mf.runSimulation(model=model,\n",
    "                              parameters=parameters,\n",
    "                              sim_time=1200, num_points=120)\n",
    "    df_protein = mg.makeDF(result.data, is_mrna=False)\n",
    "    return df_protein.index, df_protein[\"P1\"], result.road_runner\n",
    "\n",
    "def getP1Data(is_adjust=False):\n",
    "    \"\"\"\n",
    "    Obtains P1 data and time information.\n",
    "    :param bool is_adjust: if True, perturb Vm8, Vm3\n",
    "    :return pd.Series, pd.Series: time, P1\n",
    "    \"\"\"\n",
    "    _, _, road_runner = simulate()\n",
    "    if is_adjust:\n",
    "        perturb = 0.5\n",
    "    else:\n",
    "        perturb = 0.0\n",
    "    vm8 = perturb*road_runner.Vm8\n",
    "    vm3 = (1 + perturb)*road_runner.Vm3\n",
    "    parameters = mg.makeParameters(['Vm8', 'Vm3'], [vm8, vm3])\n",
    "    ser_time, ser_p1, road_runner = simulate(parameters=parameters)\n",
    "    print(\"Vm3: %f\\nVm8: %f\" % (road_runner.Vm3, road_runner.Vm8))\n",
    "    return ser_time, ser_p1"
   ]
  },
  {
   "cell_type": "code",
   "execution_count": 66,
   "metadata": {},
   "outputs": [
    {
     "name": "stdout",
     "output_type": "stream",
     "text": [
      "Vm3: 1.613831\n",
      "Vm8: 0.500000\n"
     ]
    },
    {
     "data": {
      "text/plain": [
       "[<matplotlib.lines.Line2D at 0x7ff27a576c50>]"
      ]
     },
     "execution_count": 66,
     "metadata": {},
     "output_type": "execute_result"
    },
    {
     "data": {
      "image/png": "[encoded data removed]",
      "text/plain": [
       "<Figure size 432x288 with 1 Axes>"
      ]
     },
     "metadata": {
      "needs_background": "light"
     },
     "output_type": "display_data"
    }
   ],
   "source": [
    "ser_time, ser_p1 = getP1Data()\n",
    "plt.plot(ser_time, ser_p1)"
   ]
  },
  {
   "cell_type": "code",
   "execution_count": 67,
   "metadata": {},
   "outputs": [
    {
     "name": "stdout",
     "output_type": "stream",
     "text": [
      "Vm3: 2.000000\n",
      "Vm8: 0.500000\n"
     ]
    },
    {
     "data": {
      "text/plain": [
       "[<matplotlib.lines.Line2D at 0x7ff27a508cc0>]"
      ]
     },
     "execution_count": 67,
     "metadata": {},
     "output_type": "execute_result"
    },
    {
     "data": {
      "image/png": "[encoded data removed]",
      "text/plain": [
       "<Figure size 432x288 with 1 Axes>"
      ]
     },
     "metadata": {
      "needs_background": "light"
     },
     "output_type": "display_data"
    }
   ],
   "source": [
    "# Fails the stress test since no shift in the peak. See \"Final_stress_tests.pptx\"\n",
    "ser_time, ser_p1 = getP1Data(is_adjust=True)\n",
    "plt.plot(ser_time, ser_p1)"
   ]
  },
  {
   "cell_type": "markdown",
   "metadata": {},
   "source": [
    "## Model Identification\n"
   ]
  },
  {
   "cell_type": "code",
   "execution_count": null,
   "metadata": {},
   "outputs": [],
   "source": [
    "analyzers = []"
   ]
  },
  {
   "cell_type": "code",
   "execution_count": null,
   "metadata": {},
   "outputs": [],
   "source": [
    "analyzers.append(evaluate([\"1+4\"], max_iteration=20, start_time=0, end_time=1200))"
   ]
  },
  {
   "cell_type": "code",
   "execution_count": null,
   "metadata": {},
   "outputs": [],
   "source": [
    "analyzers.append(evaluate([\"2+4\"], max_iteration=20, start_time=0, end_time=1200))"
   ]
  },
  {
   "cell_type": "code",
   "execution_count": null,
   "metadata": {},
   "outputs": [],
   "source": [
    "analyzers.append(evaluate([\"3+6\"], max_iteration=20, start_time=0, end_time=1200))"
   ]
  },
  {
   "cell_type": "code",
   "execution_count": null,
   "metadata": {},
   "outputs": [],
   "source": [
    "analyzers.append(evaluate([\"4-2A-5\"], max_iteration=20, start_time=0, end_time=1200))"
   ]
  },
  {
   "cell_type": "code",
   "execution_count": null,
   "metadata": {},
   "outputs": [],
   "source": [
    "analyzers.append(evaluate([\"5+6\"], max_iteration=20, start_time=0, end_time=1200))"
   ]
  },
  {
   "cell_type": "code",
   "execution_count": null,
   "metadata": {},
   "outputs": [],
   "source": [
    "analyzers.append(evaluate([\"6+7A-1\"], max_iteration=20, start_time=0, end_time=1200))"
   ]
  },
  {
   "cell_type": "code",
   "execution_count": null,
   "metadata": {},
   "outputs": [],
   "source": [
    "analyzers.append(evaluate([\"7-8\"], max_iteration=20, start_time=0, end_time=1200))"
   ]
  },
  {
   "cell_type": "code",
   "execution_count": null,
   "metadata": {
    "scrolled": true
   },
   "outputs": [],
   "source": [
    "analyzers.append(evaluate([\"8-1\"], max_iteration=30, start_time=0, end_time=1200))"
   ]
  },
  {
   "cell_type": "markdown",
   "metadata": {},
   "source": [
    "## Saving an Identified Simulation Model"
   ]
  },
  {
   "cell_type": "code",
   "execution_count": null,
   "metadata": {},
   "outputs": [],
   "source": [
    "# Builds a complete simulation model from the separate analyzers.\n",
    "# Saves the models and parameters to files\n",
    "df_params, model = rg.saveAnalysisResults(analyzers)"
   ]
  },
  {
   "cell_type": "code",
   "execution_count": null,
   "metadata": {},
   "outputs": [],
   "source": [
    "df_params"
   ]
  },
  {
   "cell_type": "code",
   "execution_count": null,
   "metadata": {},
   "outputs": [],
   "source": [
    "print(model)"
   ]
  },
  {
   "cell_type": "markdown",
   "metadata": {},
   "source": [
    "## Running a Saved Model"
   ]
  },
  {
   "cell_type": "code",
   "execution_count": null,
   "metadata": {},
   "outputs": [],
   "source": [
    "# Reads the model and parameters from a file. Fits the parameters. Plots the results.\n",
    "rg.runModel()"
   ]
  },
  {
   "cell_type": "markdown",
   "metadata": {},
   "source": [
    "## Correlation Analysis\n",
    "The goal here is to gain intuition about possible TF configurations for genes.\n",
    "\n",
    "1. Construct cross correlatons between mRNA and proteins at different time lags. Plt as heatmap."
   ]
  },
  {
   "cell_type": "code",
   "execution_count": null,
   "metadata": {},
   "outputs": [],
   "source": [
    "df_mrna = pd.read_csv(\"wild.csv\")\n",
    "df_mrna = df_mrna.set_index(\"time\")"
   ]
  },
  {
   "cell_type": "code",
   "execution_count": null,
   "metadata": {},
   "outputs": [],
   "source": [
    "df_protein = pd.read_csv(\"wild_protein.csv\")\n",
    "df_protein = df_protein.set_index(\"time\")"
   ]
  },
  {
   "cell_type": "code",
   "execution_count": null,
   "metadata": {},
   "outputs": [],
   "source": [
    "def correlate(df1, df2, lag=0):\n",
    "    \"\"\"\n",
    "    Constructs the correlation with the specified lag\n",
    "    for df2. Assumes that df1 and df2 have different columns.\n",
    "    \"\"\"\n",
    "    def truncate(df, is_front=True):\n",
    "        if is_front:\n",
    "            df_trunc = df.loc[df.index[lag:], :]\n",
    "        else:\n",
    "            if lag == 0:\n",
    "                df_trunc = df\n",
    "            else:\n",
    "                df_trunc = df.loc[df.index[:-lag], :]\n",
    "        df_trunc.index = range(len(df_trunc))\n",
    "        return df_trunc\n",
    "    # Adjust lengths\n",
    "    indices = range(len(df1) - lag)\n",
    "    df1_trunc = truncate(df1, is_front=False)\n",
    "    df2_trunc = truncate(df2, is_front=True)\n",
    "    df_tot = pd.concat([df1_trunc, df2_trunc], axis=1)\n",
    "    # Correlate and select columns\n",
    "    df_corr = df_tot.corr()\n",
    "    columns2 = df2.columns\n",
    "    df_result = df_corr[columns2].copy()\n",
    "    df_result = df_result.drop(columns2)\n",
    "    return df_result"
   ]
  },
  {
   "cell_type": "code",
   "execution_count": null,
   "metadata": {},
   "outputs": [],
   "source": [
    "correlate(df_protein, df_mrna, lag=0)"
   ]
  },
  {
   "cell_type": "code",
   "execution_count": null,
   "metadata": {},
   "outputs": [],
   "source": [
    "correlate(df_protein, df_mrna, lag=1)"
   ]
  },
  {
   "cell_type": "code",
   "execution_count": null,
   "metadata": {},
   "outputs": [],
   "source": [
    "correlate(df_protein, df_mrna, lag=2)"
   ]
  },
  {
   "cell_type": "code",
   "execution_count": null,
   "metadata": {},
   "outputs": [],
   "source": [
    "correlate(df_protein, df_mrna, lag=3)"
   ]
  }
 ],
 "metadata": {
  "kernelspec": {
   "display_name": "Python 3",
   "language": "python",
   "name": "python3"
  },
  "language_info": {
   "codemirror_mode": {
    "name": "ipython",
    "version": 3
   },
   "file_extension": ".py",
   "mimetype": "text/x-python",
   "name": "python",
   "nbconvert_exporter": "python",
   "pygments_lexer": "ipython3",
   "version": "3.6.9"
  }
 },
 "nbformat": 4,
 "nbformat_minor": 2
}
