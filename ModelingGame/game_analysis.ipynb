{
 "cells": [
  {
   "cell_type": "markdown",
   "metadata": {},
   "source": [
    "# Analysis for the Modeling Game"
   ]
  },
  {
   "cell_type": "code",
   "execution_count": 1,
   "metadata": {},
   "outputs": [],
   "source": [
    "%matplotlib inline\n",
    "import lmfit\n",
    "import matplotlib.pyplot as plt\n",
    "import numpy as np\n",
    "import pandas as pd\n",
    "from scipy.integrate import odeint\n",
    "\n",
    "import tellurium as te\n",
    "import gene_network as gn\n",
    "import modeling_game as mg\n",
    "import model_fitting as mf\n",
    "import gene_analyzer as ga\n",
    "import util"
   ]
  },
  {
   "cell_type": "markdown",
   "metadata": {},
   "source": [
    "## Analysis Codes"
   ]
  },
  {
   "cell_type": "code",
   "execution_count": 2,
   "metadata": {},
   "outputs": [],
   "source": [
    "def evaluate(desc_stgs, max_iteration=100, min_rsq=0.8):\n",
    "    analyzer = ga.GeneAnalyzer()\n",
    "    for desc_stg in desc_stgs:\n",
    "        analyzer.do(desc_stg, end_time=1200, max_iteration=max_iteration, min_rsq=min_rsq)\n",
    "        title = \"%s: Rsq = %d%%\" % (desc_stg, int(100*np.round(analyzer.rsq, 3)))\n",
    "        plt.figure()\n",
    "        analyzer.plot(title=title)"
   ]
  },
  {
   "cell_type": "markdown",
   "metadata": {},
   "source": [
    "## Explorations of Gene Structures"
   ]
  },
  {
   "cell_type": "code",
   "execution_count": null,
   "metadata": {},
   "outputs": [],
   "source": [
    "evaluate([\"7-7\"])"
   ]
  },
  {
   "cell_type": "code",
   "execution_count": null,
   "metadata": {},
   "outputs": [],
   "source": [
    "STOP\n",
    "evaluate([\"7-7A-2\", \"7-7A-4\", \"7-7A-3\", \"7-7A-5\", \"7-7A-6\", \"7-7A-8\"], max_iteration=100)\n",
    "evaluate([\"7-2\", \"7-4\", \"7-3\", \"7-5\", \"7-6\", \"7-8\"], max_iteration=100)"
   ]
  },
  {
   "cell_type": "code",
   "execution_count": null,
   "metadata": {},
   "outputs": [],
   "source": [
    "STOP\n",
    "import cProfile\n",
    "analyzer = ga.GeneAnalyzer()\n",
    "cProfile.run('analyzer.do(\"7-7\", end_time=100)')"
   ]
  }
 ],
 "metadata": {
  "kernelspec": {
   "display_name": "Python 3",
   "language": "python",
   "name": "python3"
  },
  "language_info": {
   "codemirror_mode": {
    "name": "ipython",
    "version": 3
   },
   "file_extension": ".py",
   "mimetype": "text/x-python",
   "name": "python",
   "nbconvert_exporter": "python",
   "pygments_lexer": "ipython3",
   "version": "3.6.9"
  }
 },
 "nbformat": 4,
 "nbformat_minor": 2
}
