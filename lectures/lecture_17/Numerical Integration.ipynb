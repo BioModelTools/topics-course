{
 "cells": [
  {
   "cell_type": "markdown",
   "metadata": {},
   "source": [
    "# Numerical Integration"
   ]
  },
  {
   "cell_type": "code",
   "execution_count": 62,
   "metadata": {},
   "outputs": [],
   "source": [
    "%matplotlib inline\n",
    "import lmfit\n",
    "import matplotlib.pyplot as plt\n",
    "import numpy as np\n",
    "import pandas as pd\n",
    "from scipy.integrate import odeint\n",
    "\n",
    "import tellurium as te\n",
    "import gene_network as gn\n",
    "import modeling_game as mg\n",
    "import model_fitting as mf\n",
    "import util"
   ]
  },
  {
   "cell_type": "code",
   "execution_count": 3,
   "metadata": {},
   "outputs": [
    {
     "data": {
      "image/png": "[encoded data removed]",
      "text/plain": [
       "<Figure size 432x288 with 1 Axes>"
      ]
     },
     "metadata": {
      "needs_background": "light"
     },
     "output_type": "display_data"
    }
   ],
   "source": [
    "def pend(y, t, b, c):\n",
    "    theta, omega = y\n",
    "    dydt = [omega, -b*omega - c*np.sin(theta)]\n",
    "    return dydt\n",
    "\n",
    "b = 0.25\n",
    "c = 5.0\n",
    "y0 = [np.pi - 0.1, 0.0]\n",
    "t = np.linspace(0, 10, 101)\n",
    "sol = odeint(pend, y0, t, args=(b, c))\n",
    "\n",
    "plt.plot(t, sol[:, 0], 'b', label='theta(t)')\n",
    "plt.plot(t, sol[:, 1], 'g', label='omega(t)')\n",
    "plt.legend(loc='best')\n",
    "plt.xlabel('t')\n",
    "plt.grid()\n",
    "plt.show()"
   ]
  },
  {
   "cell_type": "markdown",
   "metadata": {},
   "source": [
    "## lmfit and numerical integration"
   ]
  },
  {
   "cell_type": "code",
   "execution_count": 7,
   "metadata": {},
   "outputs": [
    {
     "data": {
      "text/html": [
       "<div>\n",
       "<style scoped>\n",
       "    .dataframe tbody tr th:only-of-type {\n",
       "        vertical-align: middle;\n",
       "    }\n",
       "\n",
       "    .dataframe tbody tr th {\n",
       "        vertical-align: top;\n",
       "    }\n",
       "\n",
       "    .dataframe thead th {\n",
       "        text-align: right;\n",
       "    }\n",
       "</style>\n",
       "<table border=\"1\" class=\"dataframe\">\n",
       "  <thead>\n",
       "    <tr style=\"text-align: right;\">\n",
       "      <th></th>\n",
       "      <th>mRNA1</th>\n",
       "      <th>mRNA2</th>\n",
       "      <th>mRNA3</th>\n",
       "      <th>mRNA4</th>\n",
       "      <th>mRNA5</th>\n",
       "      <th>mRNA6</th>\n",
       "      <th>mRNA7</th>\n",
       "      <th>mRNA8</th>\n",
       "    </tr>\n",
       "    <tr>\n",
       "      <th>time</th>\n",
       "      <th></th>\n",
       "      <th></th>\n",
       "      <th></th>\n",
       "      <th></th>\n",
       "      <th></th>\n",
       "      <th></th>\n",
       "      <th></th>\n",
       "      <th></th>\n",
       "    </tr>\n",
       "  </thead>\n",
       "  <tbody>\n",
       "    <tr>\n",
       "      <th>0.0</th>\n",
       "      <td>0.000000</td>\n",
       "      <td>0.000000</td>\n",
       "      <td>0.000000</td>\n",
       "      <td>0.000000</td>\n",
       "      <td>0.000000</td>\n",
       "      <td>0.000000</td>\n",
       "      <td>0.000000</td>\n",
       "      <td>0.000000</td>\n",
       "    </tr>\n",
       "    <tr>\n",
       "      <th>10.0</th>\n",
       "      <td>0.099307</td>\n",
       "      <td>0.020844</td>\n",
       "      <td>0.007720</td>\n",
       "      <td>0.781444</td>\n",
       "      <td>0.013691</td>\n",
       "      <td>0.084857</td>\n",
       "      <td>2.404909</td>\n",
       "      <td>0.746052</td>\n",
       "    </tr>\n",
       "    <tr>\n",
       "      <th>20.0</th>\n",
       "      <td>0.129347</td>\n",
       "      <td>0.041853</td>\n",
       "      <td>0.007983</td>\n",
       "      <td>0.781449</td>\n",
       "      <td>0.014414</td>\n",
       "      <td>1.000481</td>\n",
       "      <td>2.361672</td>\n",
       "      <td>0.688322</td>\n",
       "    </tr>\n",
       "    <tr>\n",
       "      <th>30.0</th>\n",
       "      <td>0.241193</td>\n",
       "      <td>0.088704</td>\n",
       "      <td>0.055608</td>\n",
       "      <td>0.781449</td>\n",
       "      <td>0.065749</td>\n",
       "      <td>1.286064</td>\n",
       "      <td>2.248185</td>\n",
       "      <td>0.621902</td>\n",
       "    </tr>\n",
       "    <tr>\n",
       "      <th>40.0</th>\n",
       "      <td>0.436952</td>\n",
       "      <td>0.153115</td>\n",
       "      <td>0.357630</td>\n",
       "      <td>0.781445</td>\n",
       "      <td>0.282754</td>\n",
       "      <td>1.326094</td>\n",
       "      <td>2.102741</td>\n",
       "      <td>0.566512</td>\n",
       "    </tr>\n",
       "  </tbody>\n",
       "</table>\n",
       "</div>"
      ],
      "text/plain": [
       "         mRNA1     mRNA2     mRNA3     mRNA4     mRNA5     mRNA6     mRNA7  \\\n",
       "time                                                                         \n",
       "0.0   0.000000  0.000000  0.000000  0.000000  0.000000  0.000000  0.000000   \n",
       "10.0  0.099307  0.020844  0.007720  0.781444  0.013691  0.084857  2.404909   \n",
       "20.0  0.129347  0.041853  0.007983  0.781449  0.014414  1.000481  2.361672   \n",
       "30.0  0.241193  0.088704  0.055608  0.781449  0.065749  1.286064  2.248185   \n",
       "40.0  0.436952  0.153115  0.357630  0.781445  0.282754  1.326094  2.102741   \n",
       "\n",
       "         mRNA8  \n",
       "time            \n",
       "0.0   0.000000  \n",
       "10.0  0.746052  \n",
       "20.0  0.688322  \n",
       "30.0  0.621902  \n",
       "40.0  0.566512  "
      ]
     },
     "execution_count": 7,
     "metadata": {},
     "output_type": "execute_result"
    }
   ],
   "source": [
    "df_mrna = mf.cleanColumns(pd.read_csv(\"wild.csv\"))\n",
    "df_mrna.head()"
   ]
  },
  {
   "cell_type": "code",
   "execution_count": 59,
   "metadata": {},
   "outputs": [
    {
     "data": {
      "text/plain": [
       "0.0178636133026099"
      ]
     },
     "execution_count": 59,
     "metadata": {},
     "output_type": "execute_result"
    }
   ],
   "source": [
    "initializations = util.readFile(\"model_initializations.txt\")\n",
    "\n",
    "namespace = {}\n",
    "parameters = mg.makeParameters(['Vm7', 'K1_7', 'K2_7', 'K3_7', 'H7'])\n",
    "valuesdict = parameters.valuesdict()\n",
    "for name, value in valuesdict.items():\n",
    "    namespace[name] = value\n",
    "\n",
    "exec(initializations, namespace)\n",
    "\n",
    "kinetics_mrna = '''\n",
    "L7 - d_mRNA7*mRNA7 + Vm7 * ( K2_7*P4^H7 ) / ( 1 + K1_7*P7^H7 + K2_7*P4^H7 + K3_7*P7^H7*P4^H7)\n",
    "'''\n",
    "kinetics_mrna = kinetics_mrna.replace(\"^\", \"**\")\n",
    "kinetics_protein = \"a_protein%d*mRNA%d - d_protein%d*P%d;\"\n",
    "kinetics_protein = kinetics_protein.replace(\";\", \"\")\n",
    "\n",
    "eval(kinetics_mrna, namespace)"
   ]
  },
  {
   "cell_type": "code",
   "execution_count": 70,
   "metadata": {},
   "outputs": [],
   "source": [
    "ngene = 7"
   ]
  },
  {
   "cell_type": "code",
   "execution_count": 114,
   "metadata": {},
   "outputs": [],
   "source": [
    "def calcKinetics(y, time):\n",
    "    \"\"\"\n",
    "    y[0] = mRNA, y[1],...,y[8] = P1...P8\n",
    "    # outer scoped: , ngene, df_mrna, kinetics_mrna, kinetics_protein, namespace\n",
    "    \"\"\"\n",
    "    # Adjust time\n",
    "    time = 10*round(time/10)\n",
    "    # Update the namespae \n",
    "    for idx in range(1, 8):\n",
    "        protein = \"P%d\" % idx\n",
    "        namespace[protein] = y[idx]\n",
    "        col = \"mRNA%d\" % idx\n",
    "        namespace[col] = df_mrna.loc[time, col]\n",
    "    mRNA = \"mRNA%d\" % ngene\n",
    "    namespace[mRNA] = y[0]\n",
    "    # Calculate the drivatives\n",
    "    dydt = [eval(kinetics_mrna, namespace)]\n",
    "    for idx in range(1, 9):\n",
    "        statement = kinetics_protein % (idx, idx, idx, idx)\n",
    "        dydt.append(eval(statement, namespace))\n",
    "    return dydt"
   ]
  },
  {
   "cell_type": "code",
   "execution_count": 61,
   "metadata": {},
   "outputs": [
    {
     "data": {
      "text/plain": [
       "[-1.470080903031201,\n",
       " 0.008848796300155781,\n",
       " 0.0017198821132135378,\n",
       " 0.0009161431000014355,\n",
       " 0.06743577961581705,\n",
       " 0.001455210339109492,\n",
       " 0.007556787671052411,\n",
       " 0.18377587174475157,\n",
       " 0.0]"
      ]
     },
     "execution_count": 61,
     "metadata": {},
     "output_type": "execute_result"
    }
   ],
   "source": [
    "calcKinetics(np.repeat(0,9), 10.0, 7, df_mrna, kinetics_mrna, kinetics_protein, namespace)"
   ]
  },
  {
   "cell_type": "code",
   "execution_count": 115,
   "metadata": {},
   "outputs": [],
   "source": [
    "# Do the integration\n",
    "y0 = np.repeat(0, gn.NUM_GENE + 1)\n",
    "t = np.array(df_mrna.index.tolist())\n",
    "sol = odeint(calcKinetics, y0, t)\n"
   ]
  },
  {
   "cell_type": "code",
   "execution_count": 117,
   "metadata": {},
   "outputs": [
    {
     "data": {
      "text/plain": [
       "[<matplotlib.lines.Line2D at 0x7f6cb98195c0>,\n",
       " <matplotlib.lines.Line2D at 0x7f6cb9819710>,\n",
       " <matplotlib.lines.Line2D at 0x7f6cb9819860>,\n",
       " <matplotlib.lines.Line2D at 0x7f6cb98199b0>,\n",
       " <matplotlib.lines.Line2D at 0x7f6cb9819b00>,\n",
       " <matplotlib.lines.Line2D at 0x7f6cb9819c50>,\n",
       " <matplotlib.lines.Line2D at 0x7f6cb9819da0>,\n",
       " <matplotlib.lines.Line2D at 0x7f6cb9819ef0>,\n",
       " <matplotlib.lines.Line2D at 0x7f6cb9845080>]"
      ]
     },
     "execution_count": 117,
     "metadata": {},
     "output_type": "execute_result"
    },
    {
     "data": {
      "image/png": "[encoded data removed]",
      "text/plain": [
       "<Figure size 432x288 with 1 Axes>"
      ]
     },
     "metadata": {
      "needs_background": "light"
     },
     "output_type": "display_data"
    }
   ],
   "source": [
    "plt.plot(t, sol)"
   ]
  },
  {
   "cell_type": "code",
   "execution_count": 118,
   "metadata": {},
   "outputs": [
    {
     "data": {
      "text/plain": [
       "[<matplotlib.lines.Line2D at 0x7f6cb9c22b70>,\n",
       " <matplotlib.lines.Line2D at 0x7f6cb9c22d30>]"
      ]
     },
     "execution_count": 118,
     "metadata": {},
     "output_type": "execute_result"
    },
    {
     "data": {
      "image/png": "[encoded data removed]",
      "text/plain": [
       "<Figure size 432x288 with 1 Axes>"
      ]
     },
     "metadata": {
      "needs_background": "light"
     },
     "output_type": "display_data"
    }
   ],
   "source": [
    "plt.plot(t, sol[:,0], t, df_mrna[\"mRNA7\"])"
   ]
  },
  {
   "cell_type": "code",
   "execution_count": 100,
   "metadata": {},
   "outputs": [
    {
     "data": {
      "text/plain": [
       "1.6551702409686848"
      ]
     },
     "execution_count": 100,
     "metadata": {},
     "output_type": "execute_result"
    }
   ],
   "source": [
    "namespace[\"mRNA7\"]"
   ]
  },
  {
   "cell_type": "code",
   "execution_count": 101,
   "metadata": {},
   "outputs": [
    {
     "data": {
      "text/plain": [
       "-1.0062091343479602"
      ]
     },
     "execution_count": 101,
     "metadata": {},
     "output_type": "execute_result"
    }
   ],
   "source": [
    "eval(\"L7 - d_mRNA7*mRNA7\", namespace)"
   ]
  },
  {
   "cell_type": "code",
   "execution_count": 103,
   "metadata": {},
   "outputs": [
    {
     "data": {
      "text/plain": [
       "0.00019651153866496202"
      ]
     },
     "execution_count": 103,
     "metadata": {},
     "output_type": "execute_result"
    }
   ],
   "source": [
    "statement = \"Vm7 * ( K2_7*P4**H7 ) / ( 1 + K1_7*P7**H7 + K2_7*P4**H7 + K3_7*P7**H7*P4**H7)\"\n",
    "eval(statement, namespace)"
   ]
  },
  {
   "cell_type": "code",
   "execution_count": 104,
   "metadata": {},
   "outputs": [
    {
     "data": {
      "text/plain": [
       "1.6551702409686848"
      ]
     },
     "execution_count": 104,
     "metadata": {},
     "output_type": "execute_result"
    }
   ],
   "source": [
    "namespace[\"mRNA7\"]"
   ]
  },
  {
   "cell_type": "code",
   "execution_count": 97,
   "metadata": {},
   "outputs": [
    {
     "data": {
      "text/plain": [
       "array([   0.        ,   -7.26101372,  -21.80985607,  -35.86171228,\n",
       "        -49.13118067,  -61.52141073,  -73.11280956,  -84.06343073,\n",
       "        -94.55255935, -104.74932472, -114.78602406, -124.74168715,\n",
       "       -134.64428475, -144.48615678, -154.2416525 , -163.88030674,\n",
       "       -173.37433488, -182.70187074, -191.84759555, -200.80175946,\n",
       "       -209.55811031, -218.11137474, -226.45533357, -234.5823401 ,\n",
       "       -242.48414389, -250.15312781, -257.58323353, -264.77041345,\n",
       "       -271.7126824 , -278.40993957, -284.86374178, -291.07707859,\n",
       "       -297.05418068, -302.80038771, -308.32201272, -313.62622701,\n",
       "       -318.72095109, -323.61472433, -328.31658986, -332.83596309,\n",
       "       -337.18251761, -341.36604145, -345.39634341, -349.28313443,\n",
       "       -353.03593744, -356.66401203, -360.17628573, -363.5813055 ,\n",
       "       -366.88720454, -370.10167098, -373.23194287, -376.28479934,\n",
       "       -379.26656473, -382.18312116, -385.03992205, -387.84200989,\n",
       "       -390.5940372 , -393.30028862, -395.96470259, -398.59089567,\n",
       "       -401.18218389, -403.74160522, -406.27193958, -408.77572918,\n",
       "       -411.25529523, -413.712749  , -416.14998154, -418.56855427,\n",
       "       -420.96910717, -423.34853002, -425.68876942, -427.92845133,\n",
       "       -429.94918154, -431.66592925, -433.11505589, -434.38759921,\n",
       "       -435.56145156, -436.6992763 , -437.86418119, -439.13006597,\n",
       "       -440.58355556, -442.31844199, -444.42480791, -446.97652   ,\n",
       "       -450.02167802, -453.57913446, -457.6409484 , -462.17806943,\n",
       "       -467.14663952, -472.49385037, -478.16331573, -484.09992456,\n",
       "       -490.25384588, -496.58331707, -503.05608221, -509.64960534,\n",
       "       -516.35035364, -523.15246511, -530.056126  , -537.06585877,\n",
       "       -544.18890705, -551.43381521, -558.80926092, -566.32317676,\n",
       "       -573.9821681 , -581.79117976, -589.7534182 , -597.87045463,\n",
       "       -606.14244857, -614.56846322, -623.14678343, -631.8752509 ,\n",
       "       -640.75151687, -649.77326115, -658.93834052, -668.24485645,\n",
       "       -677.69117151, -687.2758876 , -696.99778305, -706.85573991,\n",
       "       -716.84865026])"
      ]
     },
     "execution_count": 97,
     "metadata": {},
     "output_type": "execute_result"
    }
   ],
   "source": [
    "# Not getting correct value for mRNA7\n",
    "sol[:, 0]"
   ]
  }
 ],
 "metadata": {
  "kernelspec": {
   "display_name": "Python 3",
   "language": "python",
   "name": "python3"
  },
  "language_info": {
   "codemirror_mode": {
    "name": "ipython",
    "version": 3
   },
   "file_extension": ".py",
   "mimetype": "text/x-python",
   "name": "python",
   "nbconvert_exporter": "python",
   "pygments_lexer": "ipython3",
   "version": "3.6.9"
  }
 },
 "nbformat": 4,
 "nbformat_minor": 2
}
