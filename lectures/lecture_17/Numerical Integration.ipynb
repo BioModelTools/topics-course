{
 "cells": [
  {
   "cell_type": "markdown",
   "metadata": {},
   "source": [
    "# Numerical Integration"
   ]
  },
  {
   "cell_type": "code",
   "execution_count": 2,
   "metadata": {},
   "outputs": [],
   "source": [
    "%matplotlib inline\n",
    "import lmfit\n",
    "import matplotlib.pyplot as plt\n",
    "import numpy as np\n",
    "import pandas as pd\n",
    "from scipy.integrate import odeint\n",
    "\n",
    "import tellurium as te\n",
    "import gene_network as gn\n",
    "import modeling_game as mg\n",
    "import model_fitting as mf\n",
    "import gene_analyzer as ga\n",
    "import util"
   ]
  },
  {
   "cell_type": "code",
   "execution_count": null,
   "metadata": {},
   "outputs": [],
   "source": [
    "def pend(y, t, b, c):\n",
    "    theta, omega = y\n",
    "    dydt = [omega, -b*omega - c*np.sin(theta)]\n",
    "    return dydt\n",
    "\n",
    "b = 0.25\n",
    "c = 5.0\n",
    "y0 = [np.pi - 0.1, 0.0]\n",
    "t = np.linspace(0, 10, 101)\n",
    "sol = odeint(pend, y0, t, args=(b, c))\n",
    "\n",
    "plt.plot(t, sol[:, 0], 'b', label='theta(t)')\n",
    "plt.plot(t, sol[:, 1], 'g', label='omega(t)')\n",
    "plt.legend(loc='best')\n",
    "plt.xlabel('t')\n",
    "plt.grid()\n",
    "plt.show()"
   ]
  },
  {
   "cell_type": "markdown",
   "metadata": {},
   "source": [
    "## lmfit and numerical integration"
   ]
  },
  {
   "cell_type": "code",
   "execution_count": null,
   "metadata": {},
   "outputs": [],
   "source": [
    "df_mrna = mf.cleanColumns(pd.read_csv(\"wild.csv\"))\n",
    "df_mrna.head()"
   ]
  },
  {
   "cell_type": "code",
   "execution_count": null,
   "metadata": {},
   "outputs": [],
   "source": [
    "# Container for data used in calculations\n",
    "class Container():\n",
    "    def __init__(self, df_mrna, desc_stg):\n",
    "        self.df_mrna = df_mrna\n",
    "        self._stmt_initializations = util.readFile(\"model_initializations.txt\")\n",
    "        descriptor = gn.GeneDescriptor.parse(desc_stg)\n",
    "        self.mrna_name = \"mRNA%d\" % descriptor.ngene\n",
    "        self._gene_reaction = gn.GeneReaction(descriptor)\n",
    "        self._gene_reaction.generate()\n",
    "        self.ngene = descriptor.ngene\n",
    "        network = gn.GeneNetwork()\n",
    "        network.update([desc_stg])\n",
    "        network.generate()\n",
    "        self.parameters = network.new_parameters\n",
    "        self.initializeNamespace()  # self.namespace\n",
    "        self.mrna_kinetics = self.__class__._transformKinetics(\n",
    "            self._gene_reaction.mrna_kinetics)\n",
    "        self.protein_kinetics = self.__class__._transformKinetics(\n",
    "            \"a_protein%d*mRNA%d - d_protein%d*P%d;\")\n",
    "     \n",
    "    @staticmethod\n",
    "    def _transformKinetics(kinetics):\n",
    "        new_kinetics = kinetics.replace(\"^\", \"**\")\n",
    "        return new_kinetics.replace(\";\", \"\")\n",
    "    \n",
    "    def updateParameters(self, parameters):\n",
    "        self.parameters = parameters\n",
    "        \n",
    "    def initializeNamespace(self):\n",
    "        # Initialize simulatin constants\n",
    "        self.namespace = {}\n",
    "        valuesdict = self.parameters.valuesdict()\n",
    "        for name, value in valuesdict.items():\n",
    "            self.namespace[name] = value\n",
    "        exec(self._stmt_initializations, self.namespace)"
   ]
  },
  {
   "cell_type": "code",
   "execution_count": null,
   "metadata": {},
   "outputs": [],
   "source": [
    "container = Container(df_mrna, \"7-7A+6\")\n",
    "calcKinetics(np.repeat(0,9), 10.0, container)"
   ]
  },
  {
   "cell_type": "code",
   "execution_count": null,
   "metadata": {},
   "outputs": [],
   "source": [
    "def calcResiduals(parameters):\n",
    "    \"\"\"\n",
    "    Assumes container is in outer scope.\n",
    "    \"\"\"\n",
    "    container.updateParameters(parameters)\n",
    "    container.initializeNamespace()\n",
    "    # Construct initial values\n",
    "    y0_arr = [container.namespace[\"P%d\" % n] for n in range(1, gn.NUM_GENE+1)]\n",
    "    y0_arr.insert(0, container.namespace[container.mrna_name])\n",
    "    times = np.array(df_mrna.index.tolist())\n",
    "    y_mat = odeint(calcKinetics, y0_arr, times, args=(container,))\n",
    "    residuals = container.df_mrna[container.mrna_name] - y_mat[:, 0]\n",
    "    return np.var(residuals)"
   ]
  },
  {
   "cell_type": "code",
   "execution_count": null,
   "metadata": {},
   "outputs": [],
   "source": [
    "container = Container(df_mrna, \"7+1\")\n",
    "calcResiduals(container.parameters)"
   ]
  },
  {
   "cell_type": "code",
   "execution_count": null,
   "metadata": {},
   "outputs": [],
   "source": [
    "def calcKinetics(y, time, container):\n",
    "    \"\"\"\n",
    "    y[0] = mRNA, y[1],...,y[8] = P1...P8\n",
    "    # outer scoped: , ngene, df_mrna, kinetics_mrna, kinetics_protein, namespace\n",
    "    \"\"\"\n",
    "    # Adjust time\n",
    "    time = 10*round(time/10)\n",
    "    # Update the namespae \n",
    "    for idx in range(1, 8):\n",
    "        protein = \"P%d\" % idx\n",
    "        container.namespace[protein] = y[idx]\n",
    "        col = \"mRNA%d\" % idx\n",
    "        container.namespace[col] = container.df_mrna.loc[time, col]\n",
    "    mRNA = \"mRNA%d\" % container.ngene\n",
    "    container.namespace[mRNA] = y[0]\n",
    "    # Calculate the drivatives\n",
    "    dydt = [eval(container.mrna_kinetics, container.namespace)]\n",
    "    for idx in range(1, 9):\n",
    "        statement = container.protein_kinetics % (idx, idx, idx, idx)\n",
    "        dydt.append(eval(statement, container.namespace))\n",
    "    return dydt"
   ]
  },
  {
   "cell_type": "code",
   "execution_count": null,
   "metadata": {},
   "outputs": [],
   "source": [
    "# Do the integration\n",
    "y0 = np.repeat(0, gn.NUM_GENE + 1)\n",
    "t = np.array(df_mrna.index.tolist())\n",
    "#container = Container(df_mrna, \"7-7A+6\")\n",
    "sol = odeint(calcKinetics, y0, t, args=(container,))\n",
    "# NEXT - WRAP A FITTER AROUND THIS"
   ]
  },
  {
   "cell_type": "code",
   "execution_count": null,
   "metadata": {},
   "outputs": [],
   "source": [
    "plt.plot(t, sol)"
   ]
  },
  {
   "cell_type": "code",
   "execution_count": null,
   "metadata": {},
   "outputs": [],
   "source": [
    "plt.plot(t, sol[:,0], t, df_mrna[container.mrna_name])"
   ]
  },
  {
   "cell_type": "code",
   "execution_count": null,
   "metadata": {},
   "outputs": [],
   "source": [
    "plt.plot(t, sol[:,0], t, df_mrna[\"mRNA7\"])"
   ]
  },
  {
   "cell_type": "code",
   "execution_count": null,
   "metadata": {},
   "outputs": [],
   "source": [
    "analyzer = ga.GeneAnalyzer()\n",
    "analyzer.do(\"7-7\", end_time=100)\n",
    "analyzer.plot()\n"
   ]
  }
 ],
 "metadata": {
  "kernelspec": {
   "display_name": "Python 3",
   "language": "python",
   "name": "python3"
  },
  "language_info": {
   "codemirror_mode": {
    "name": "ipython",
    "version": 3
   },
   "file_extension": ".py",
   "mimetype": "text/x-python",
   "name": "python",
   "nbconvert_exporter": "python",
   "pygments_lexer": "ipython3",
   "version": "3.6.9"
  }
 },
 "nbformat": 4,
 "nbformat_minor": 2
}
