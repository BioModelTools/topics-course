{
 "cells": [
  {
   "cell_type": "markdown",
   "metadata": {},
   "source": [
    "# Generating Models\n",
    "This notebook demonstrates how to generate a model from a compact, string representation of the transcription factors for a gene. We refer to this as a *gene descriptor* or just *descriptor*.\n",
    "\n",
    "There are 3 variants of descriptors, depending on the number of transcription factors:\n",
    "\n",
    "- 0 TF: n. Example: \"1\". This is just the gene number. A \"0\" is used for INPUT.\n",
    "- 1 TF: nsm. Example: \"1+2\". This indicates that P2 activates gene 1. \"s\" is sign, either \"+\" or \"-\".\n",
    "- 2 TF: nsmisk. Example: \"6+7O-1\". This means that P7 activates Gene 6 or Gene 1 inhibits Gene 6. The \"O\" is a non-competitve OR integration term (or \"i\") and the \"1\" corresponds to \"k\" in the specification of this descriptor. Other integration terms are: \"A\" for AND and \"P\" for competitive OR integration."
   ]
  },
  {
   "cell_type": "code",
   "execution_count": 1,
   "metadata": {},
   "outputs": [],
   "source": [
    "%matplotlib inline\n",
    "import tellurium as te\n",
    "import gene_network as gn\n",
    "\n",
    "import matplotlib.pyplot as plt\n",
    "import numpy as np\n",
    "import pandas as pd"
   ]
  },
  {
   "cell_type": "markdown",
   "metadata": {},
   "source": [
    "## Creating Gene Reactions\n",
    "This section is intended to give insight into how the code works. It is not essential for using the codes.\n",
    "\n",
    "Network generation is done by constructing from each gene descriptor a reaction for the mRNA and a set of constants, some of which may need to be initialize."
   ]
  },
  {
   "cell_type": "code",
   "execution_count": 2,
   "metadata": {},
   "outputs": [
    {
     "name": "stdout",
     "output_type": "stream",
     "text": [
      "J7: => mRNA7; L7 - d_mRNA7*mRNA7\n"
     ]
    }
   ],
   "source": [
    "# Create the reaction (including kinetics) for gene7\n",
    "gene7 = gn.GeneReaction(7)\n",
    "print(gene7)"
   ]
  },
  {
   "cell_type": "code",
   "execution_count": 3,
   "metadata": {},
   "outputs": [
    {
     "data": {
      "text/plain": [
       "'J7: => mRNA7; L7 - d_mRNA7*mRNA7 + Vm7 * ( K1_7*P4^H7 ) / ( 1 + K1_7*P4^H7 )'"
      ]
     },
     "execution_count": 3,
     "metadata": {},
     "output_type": "execute_result"
    }
   ],
   "source": [
    "result = gn.GeneReaction.do(\"7+4\")\n",
    "result.reaction"
   ]
  },
  {
   "cell_type": "code",
   "execution_count": 4,
   "metadata": {},
   "outputs": [
    {
     "data": {
      "text/plain": [
       "['L7', 'd_mRNA7', 'K1_7', 'Vm7', 'H7']"
      ]
     },
     "execution_count": 4,
     "metadata": {},
     "output_type": "execute_result"
    }
   ],
   "source": [
    "result.constants"
   ]
  },
  {
   "cell_type": "code",
   "execution_count": 5,
   "metadata": {},
   "outputs": [
    {
     "data": {
      "text/plain": [
       "'J7: => mRNA7; L7 - d_mRNA7*mRNA7 + Vm7 * ( K1_7*P4^H7 ) / ( 1 + K1_7*P4^H7 + K2_7*P1^H7 + K3_7*P4^H7*P1^H7 )'"
      ]
     },
     "execution_count": 5,
     "metadata": {},
     "output_type": "execute_result"
    }
   ],
   "source": [
    "result = gn.GeneReaction.do(\"7+4A-1\")\n",
    "result.reaction"
   ]
  },
  {
   "cell_type": "markdown",
   "metadata": {},
   "source": [
    "## Creating and Using a Generated Model\n",
    "Below are examples of running simulations using a network expressed in terms of gene descriptors, and a comparison between the simulation outputs of this representation and the original gene network."
   ]
  },
  {
   "cell_type": "code",
   "execution_count": 7,
   "metadata": {},
   "outputs": [],
   "source": [
    "# Some useful functions\n",
    "def makeDF(data):\n",
    "    \"\"\"\n",
    "    Constructs a pruned data frame consisting only of the mRNA concentrations.\n",
    "    Time is in the DataFrame index.\n",
    "    \"\"\"\n",
    "    df = pd.DataFrame(data)\n",
    "    df.columns = [s[1:-1] for s in data.colnames]\n",
    "    df['time'] = df['im']\n",
    "    df = df.set_index('time')\n",
    "    columns = [c for c in df.columns if \"mRNA\" in c]\n",
    "    df = df[columns]\n",
    "    return df\n",
    "    \n",
    "def simulateInitialModel():\n",
    "    \"\"\"\n",
    "    Simulates the original model. Returns a dataframe of the result with just mRNA.\n",
    "    \"\"\"\n",
    "    with open(\"initial-Antimony-model.txt\", \"r\") as fd:\n",
    "        initial_model = fd.readlines()\n",
    "    model = \"\".join(initial_model)\n",
    "    rr = te.loada(model)\n",
    "    data = rr.simulate(0, 1200, 120)\n",
    "    return makeDF(data)\n",
    "\n",
    "def plotSimulation(df):\n",
    "    \"\"\"\n",
    "    Plots a simulation result contained in a DataFrame.\n",
    "    \"\"\"\n",
    "    plt.plot(df.index, df)\n",
    "    plt.legend(df_data.columns)"
   ]
  },
  {
   "cell_type": "code",
   "execution_count": 22,
   "metadata": {},
   "outputs": [],
   "source": [
    "# Description of the initial network.\n",
    "initial_network = [\"1+0O+4\", \"2+4\", \"3+6\", \"4-2\", 5, \"6+7O-1\", 7, \"8-1\"]\n",
    "# Construct the network\n",
    "network = gn.GeneNetwork(initial_network=initial_network)\n",
    "# Generate the network\n",
    "network.generate()"
   ]
  },
  {
   "cell_type": "code",
   "execution_count": 25,
   "metadata": {},
   "outputs": [
    {
     "name": "stdout",
     "output_type": "stream",
     "text": [
      "\n",
      "\n",
      "// Created by libAntimony v3.9.4\n",
      "\n",
      "model *pathway()\n",
      "\n",
      "\n",
      "\n",
      "  // Compartments and Species:\n",
      "\n",
      "  species INPUT, P1, mRNA1, P2, mRNA2, P3, mRNA3, P4, mRNA4, P5, mRNA5, P6;\n",
      "\n",
      "  species mRNA6, P7, mRNA7, P8, mRNA8;\n",
      "J1: => mRNA1; L1 - d_mRNA1*mRNA1 + Vm1 * ( K1_1*INPUT^H1+ K2_1*P4^H1+ K3_1*INPUT^H1*P4^H1 ) / ( 1 + K1_1*INPUT^H1 + K2_1*P4^H1 + K3_1*INPUT^H1*P4^H1 )\n",
      "J2: => mRNA2; L2 - d_mRNA2*mRNA2 + Vm2 * ( K1_2*P4^H2 ) / ( 1 + K1_2*P4^H2 )\n",
      "J3: => mRNA3; L3 - d_mRNA3*mRNA3 + Vm3 * ( K1_3*P6^H3 ) / ( 1 + K1_3*P6^H3 )\n",
      "J4: => mRNA4; L4 - d_mRNA4*mRNA4 + Vm4 * ( 1 ) / ( 1 + K1_4*P2^H4 )\n",
      "J5: => mRNA5; L5 - d_mRNA5*mRNA5\n",
      "J6: => mRNA6; L6 - d_mRNA6*mRNA6 + Vm6 * ( K1_6*P7^H6 ) / ( 1 + K1_6*P7^H6 + K2_6*P1^H6 + K3_6*P7^H6*P1^H6 )\n",
      "J7: => mRNA7; L7 - d_mRNA7*mRNA7\n",
      "J8: => mRNA8; L8 - d_mRNA8*mRNA8 + Vm8 * ( 1 ) / ( 1 + K1_8*P1^H8 )\n",
      "\n",
      "// Initializations for new constants\n",
      "\n",
      "\n",
      "\n",
      "  \n",
      "\n",
      "// Protein Reactions:\n",
      "\n",
      "  F1:  => P1; a_protein1*mRNA1 - d_protein1*P1;\n",
      "\n",
      "  F2:  => P2; a_protein2*mRNA2 - d_protein2*P2;\n",
      "\n",
      "  F3:  => P3; a_protein3*mRNA3 - d_protein3*P3;\n",
      "\n",
      "  F4:  => P4; a_protein4*mRNA4 - d_protein4*P4;\n",
      "\n",
      "  F5:  => P5; a_protein5*mRNA5 - d_protein5*P5;\n",
      "\n",
      "  F6:  => P6; a_protein6*mRNA6 - d_protein6*P6;\n",
      "\n",
      "  F7:  => P7; a_protein7*mRNA7 - d_protein7*P7;\n",
      "\n",
      "  F8:  => P8; a_protein8*mRNA8 - d_protein8*P8;\n",
      "\n",
      "\n",
      "\n",
      "  // Species initializations:\n",
      "\n",
      "  INPUT = 1;\n",
      "\n",
      "  P1 = 0;\n",
      "\n",
      "  mRNA1 = 0;\n",
      "\n",
      "  P2 = 0;\n",
      "\n",
      "  mRNA2 = 0;\n",
      "\n",
      "  P3 = 0;\n",
      "\n",
      "  mRNA3 = 0;\n",
      "\n",
      "  P4 = 0;\n",
      "\n",
      "  mRNA4 = 0;\n",
      "\n",
      "  P5 = 0;\n",
      "\n",
      "  mRNA5 = 0;\n",
      "\n",
      "  P6 = 0;\n",
      "\n",
      "  mRNA6 = 0;\n",
      "\n",
      "  P7 = 0;\n",
      "\n",
      "  mRNA7 = 0;\n",
      "\n",
      "  P8 = 0;\n",
      "\n",
      "  mRNA8 = 0;\n",
      "\n",
      "\n",
      "\n",
      "  // Variable initializations:\n",
      "\n",
      "  d_protein1 = 0.01576525;\n",
      "\n",
      "  d_mRNA1 = 0.600013;\n",
      "\n",
      "  L1 = 0.0284569399501349;\n",
      "\n",
      "  Vm1 = 1.16380673480284;\n",
      "\n",
      "  a_protein1 = 0.089105566248939;\n",
      "\n",
      "  H1 = 4.52340391321994;\n",
      "\n",
      "  K1_1 = 0.0269204907071558;\n",
      "\n",
      "  K2_1 = 0.0169635567504703;\n",
      "\n",
      "  K3_1 = 0.0114278645720656*K1_1;  # added\n",
      "\n",
      "  d_protein2 = 0.0100753359178861;\n",
      "\n",
      "  d_mRNA2 = 0.607263145327485;\n",
      "\n",
      "  L2 = 0.01126375;\n",
      "\n",
      "  Vm2 = 0.855433454948057;\n",
      "\n",
      "  a_protein2 = 0.0825104648147814;\n",
      "\n",
      "  H2 = 3.21939257313515;\n",
      "\n",
      "  K1_2 = 0.0170170903653747;\n",
      "\n",
      "  d_protein3 = 0.0165270958726424;\n",
      "\n",
      "  d_mRNA3 = 1.4096553751623;\n",
      "\n",
      "  L3 = 0.0108824170117358;\n",
      "\n",
      "  Vm3 = 1.61383118795785;\n",
      "\n",
      "  a_protein3 = 0.118672807163739;\n",
      "\n",
      "  H3 = 4.57189341195625;\n",
      "\n",
      "  K1_3 = 0.0133069236136431;\n",
      "\n",
      "  d_protein4 = 0.0205716618573404;\n",
      "\n",
      "  d_mRNA4 = 1.19069657063437;\n",
      "\n",
      "  L4 = 0.0142166568749038;\n",
      "\n",
      "  Vm4 = 0.916251896011744;\n",
      "\n",
      "  a_protein4 = 0.0862964088164644;\n",
      "\n",
      "  H4 = 5.00512303222327;\n",
      "\n",
      "  K1_4 = 0.0179894288457716;\n",
      "\n",
      "  d_protein5 = 0.0180685727313577;\n",
      "\n",
      "  d_mRNA5 = 0.911653907722886;\n",
      "\n",
      "  L5 = 0.0124824037745626;\n",
      "\n",
      "  a_protein5 = 0.106293056264931;\n",
      "\n",
      "  d_protein6 = 0.0178004316181647;\n",
      "\n",
      "  d_mRNA6 = 0.67287496171115;\n",
      "\n",
      "  L6 = 0.0166516087433626;\n",
      "\n",
      "  Vm6 = 0.889302076744445;\n",
      "\n",
      "  a_protein6 = 0.0890528700251159;\n",
      "\n",
      "  H6 = 5.58112408673455;\n",
      "\n",
      "  K1_6 = 0.0139445776013774;\n",
      "\n",
      "  K2_6 = 0.0121764364668572;\n",
      "\n",
      "  K3_6 = K1_6*K2_6;  # added\n",
      "\n",
      "  d_protein7 = 0.0206180615545929;\n",
      "\n",
      "  d_mRNA7 = 0.618711430584466;\n",
      "\n",
      "  L7 = 0.0178636133026099;\n",
      "\n",
      "  a_protein7 = 0.0764169841455256;\n",
      "\n",
      "  d_protein8 = 0.0131749080364666;\n",
      "\n",
      "  d_mRNA8 = 1.17483328491068;\n",
      "\n",
      "  L8 = 0.0165535374304033;\n",
      "\n",
      "  Vm8 = 0.87881445337468;\n",
      "\n",
      "  a_protein8 = 0.103749989801903;\n",
      "\n",
      "  H8 = 2.17775388441324;\n",
      "\n",
      "  K1_8 = 0.0168599518440462;\n",
      "\n",
      "\n",
      "\n",
      "  // Other declarations:\n",
      "\n",
      "  const d_protein1, d_mRNA1, L1, Vm1, a_protein1, H1, K1_1, K2_1, K3_1, d_protein2;\n",
      "\n",
      "  const d_mRNA2, L2, Vm2, a_protein2, H2, K1_2, d_protein3, d_mRNA3;\n",
      "\n",
      "  const L3, Vm3, a_protein3, H3, K1_3, d_protein4, d_mRNA4, L4;\n",
      "\n",
      "  const Vm4, a_protein4, H4, K1_4, d_protein5, d_mRNA5, L5;\n",
      "\n",
      "  const a_protein5, d_protein6, d_mRNA6, L6, Vm6, a_protein6;\n",
      "\n",
      "  const H6, K1_6, K2_6, d_protein7, d_mRNA7, L7, a_protein7;\n",
      "\n",
      "  const d_protein8, d_mRNA8, L8, Vm8, a_protein8, H8, K1_8;\n",
      "\n",
      "end\n",
      "\n"
     ]
    }
   ],
   "source": [
    "# network.generate() sets two properties in network. The first is the Antimony model.\n",
    "print(network.model)"
   ]
  },
  {
   "cell_type": "code",
   "execution_count": 26,
   "metadata": {},
   "outputs": [
    {
     "data": {
      "text/html": [
       "<table><tr><th> name </th><th> value </th><th> initial value </th><th> min </th><th> max </th><th> vary </th></tr><tr><td> H6 </td><td>  5.00000000 </td><td> 5.0 </td><td>  2.00000000 </td><td>  8.00000000 </td><td> True </td></tr><tr><td> K1_4 </td><td>  0.02000000 </td><td> 0.02 </td><td>  0.01000000 </td><td>  0.03000000 </td><td> True </td></tr><tr><td> K1_1 </td><td>  0.02000000 </td><td> 0.02 </td><td>  0.01000000 </td><td>  0.03000000 </td><td> True </td></tr><tr><td> H4 </td><td>  5.00000000 </td><td> 5.0 </td><td>  2.00000000 </td><td>  8.00000000 </td><td> True </td></tr><tr><td> L5 </td><td>  0.02000000 </td><td> 0.02 </td><td>  0.01000000 </td><td>  0.03000000 </td><td> True </td></tr><tr><td> d_mRNA1 </td><td>  1.25000000 </td><td> 1.25 </td><td>  0.50000000 </td><td>  2.00000000 </td><td> True </td></tr><tr><td> K1_6 </td><td>  0.02000000 </td><td> 0.02 </td><td>  0.01000000 </td><td>  0.03000000 </td><td> True </td></tr><tr><td> L8 </td><td>  0.02000000 </td><td> 0.02 </td><td>  0.01000000 </td><td>  0.03000000 </td><td> True </td></tr><tr><td> d_mRNA3 </td><td>  1.25000000 </td><td> 1.25 </td><td>  0.50000000 </td><td>  2.00000000 </td><td> True </td></tr><tr><td> K1_3 </td><td>  0.02000000 </td><td> 0.02 </td><td>  0.01000000 </td><td>  0.03000000 </td><td> True </td></tr><tr><td> H2 </td><td>  5.00000000 </td><td> 5.0 </td><td>  2.00000000 </td><td>  8.00000000 </td><td> True </td></tr><tr><td> K3_6 </td><td>  0.02000000 </td><td> 0.02 </td><td>  0.01000000 </td><td>  0.03000000 </td><td> True </td></tr><tr><td> L7 </td><td>  0.02000000 </td><td> 0.02 </td><td>  0.01000000 </td><td>  0.03000000 </td><td> True </td></tr><tr><td> K2_6 </td><td>  0.02000000 </td><td> 0.02 </td><td>  0.01000000 </td><td>  0.03000000 </td><td> True </td></tr><tr><td> K1_2 </td><td>  0.02000000 </td><td> 0.02 </td><td>  0.01000000 </td><td>  0.03000000 </td><td> True </td></tr><tr><td> d_mRNA2 </td><td>  1.25000000 </td><td> 1.25 </td><td>  0.50000000 </td><td>  2.00000000 </td><td> True </td></tr><tr><td> K3_1 </td><td>  0.02000000 </td><td> 0.02 </td><td>  0.01000000 </td><td>  0.03000000 </td><td> True </td></tr><tr><td> d_mRNA4 </td><td>  1.25000000 </td><td> 1.25 </td><td>  0.50000000 </td><td>  2.00000000 </td><td> True </td></tr><tr><td> L3 </td><td>  0.02000000 </td><td> 0.02 </td><td>  0.01000000 </td><td>  0.03000000 </td><td> True </td></tr><tr><td> L6 </td><td>  0.02000000 </td><td> 0.02 </td><td>  0.01000000 </td><td>  0.03000000 </td><td> True </td></tr><tr><td> Vm6 </td><td>  1.25000000 </td><td> 1.25 </td><td>  0.50000000 </td><td>  2.00000000 </td><td> True </td></tr><tr><td> d_mRNA8 </td><td>  1.25000000 </td><td> 1.25 </td><td>  0.50000000 </td><td>  2.00000000 </td><td> True </td></tr><tr><td> L1 </td><td>  0.02000000 </td><td> 0.02 </td><td>  0.01000000 </td><td>  0.03000000 </td><td> True </td></tr><tr><td> Vm4 </td><td>  1.25000000 </td><td> 1.25 </td><td>  0.50000000 </td><td>  2.00000000 </td><td> True </td></tr><tr><td> L4 </td><td>  0.02000000 </td><td> 0.02 </td><td>  0.01000000 </td><td>  0.03000000 </td><td> True </td></tr><tr><td> d_mRNA6 </td><td>  1.25000000 </td><td> 1.25 </td><td>  0.50000000 </td><td>  2.00000000 </td><td> True </td></tr><tr><td> K2_1 </td><td>  0.02000000 </td><td> 0.02 </td><td>  0.01000000 </td><td>  0.03000000 </td><td> True </td></tr><tr><td> H1 </td><td>  5.00000000 </td><td> 5.0 </td><td>  2.00000000 </td><td>  8.00000000 </td><td> True </td></tr><tr><td> L2 </td><td>  0.02000000 </td><td> 0.02 </td><td>  0.01000000 </td><td>  0.03000000 </td><td> True </td></tr><tr><td> Vm1 </td><td>  1.25000000 </td><td> 1.25 </td><td>  0.50000000 </td><td>  2.00000000 </td><td> True </td></tr><tr><td> Vm2 </td><td>  1.25000000 </td><td> 1.25 </td><td>  0.50000000 </td><td>  2.00000000 </td><td> True </td></tr><tr><td> K1_8 </td><td>  0.02000000 </td><td> 0.02 </td><td>  0.01000000 </td><td>  0.03000000 </td><td> True </td></tr><tr><td> H3 </td><td>  5.00000000 </td><td> 5.0 </td><td>  2.00000000 </td><td>  8.00000000 </td><td> True </td></tr><tr><td> Vm8 </td><td>  1.25000000 </td><td> 1.25 </td><td>  0.50000000 </td><td>  2.00000000 </td><td> True </td></tr><tr><td> d_mRNA7 </td><td>  1.25000000 </td><td> 1.25 </td><td>  0.50000000 </td><td>  2.00000000 </td><td> True </td></tr><tr><td> d_mRNA5 </td><td>  1.25000000 </td><td> 1.25 </td><td>  0.50000000 </td><td>  2.00000000 </td><td> True </td></tr><tr><td> Vm3 </td><td>  1.25000000 </td><td> 1.25 </td><td>  0.50000000 </td><td>  2.00000000 </td><td> True </td></tr><tr><td> H8 </td><td>  5.00000000 </td><td> 5.0 </td><td>  2.00000000 </td><td>  8.00000000 </td><td> True </td></tr></table>"
      ],
      "text/plain": [
       "Parameters([('H6', <Parameter 'H6', 5.0, bounds=[2:8]>),\n",
       "            ('K1_4', <Parameter 'K1_4', 0.02, bounds=[0.01:0.03]>),\n",
       "            ('K1_1', <Parameter 'K1_1', 0.02, bounds=[0.01:0.03]>),\n",
       "            ('H4', <Parameter 'H4', 5.0, bounds=[2:8]>),\n",
       "            ('L5', <Parameter 'L5', 0.02, bounds=[0.01:0.03]>),\n",
       "            ('d_mRNA1', <Parameter 'd_mRNA1', 1.25, bounds=[0.5:2]>),\n",
       "            ('K1_6', <Parameter 'K1_6', 0.02, bounds=[0.01:0.03]>),\n",
       "            ('L8', <Parameter 'L8', 0.02, bounds=[0.01:0.03]>),\n",
       "            ('d_mRNA3', <Parameter 'd_mRNA3', 1.25, bounds=[0.5:2]>),\n",
       "            ('K1_3', <Parameter 'K1_3', 0.02, bounds=[0.01:0.03]>),\n",
       "            ('H2', <Parameter 'H2', 5.0, bounds=[2:8]>),\n",
       "            ('K3_6', <Parameter 'K3_6', 0.02, bounds=[0.01:0.03]>),\n",
       "            ('L7', <Parameter 'L7', 0.02, bounds=[0.01:0.03]>),\n",
       "            ('K2_6', <Parameter 'K2_6', 0.02, bounds=[0.01:0.03]>),\n",
       "            ('K1_2', <Parameter 'K1_2', 0.02, bounds=[0.01:0.03]>),\n",
       "            ('d_mRNA2', <Parameter 'd_mRNA2', 1.25, bounds=[0.5:2]>),\n",
       "            ('K3_1', <Parameter 'K3_1', 0.02, bounds=[0.01:0.03]>),\n",
       "            ('d_mRNA4', <Parameter 'd_mRNA4', 1.25, bounds=[0.5:2]>),\n",
       "            ('L3', <Parameter 'L3', 0.02, bounds=[0.01:0.03]>),\n",
       "            ('L6', <Parameter 'L6', 0.02, bounds=[0.01:0.03]>),\n",
       "            ('Vm6', <Parameter 'Vm6', 1.25, bounds=[0.5:2]>),\n",
       "            ('d_mRNA8', <Parameter 'd_mRNA8', 1.25, bounds=[0.5:2]>),\n",
       "            ('L1', <Parameter 'L1', 0.02, bounds=[0.01:0.03]>),\n",
       "            ('Vm4', <Parameter 'Vm4', 1.25, bounds=[0.5:2]>),\n",
       "            ('L4', <Parameter 'L4', 0.02, bounds=[0.01:0.03]>),\n",
       "            ('d_mRNA6', <Parameter 'd_mRNA6', 1.25, bounds=[0.5:2]>),\n",
       "            ('K2_1', <Parameter 'K2_1', 0.02, bounds=[0.01:0.03]>),\n",
       "            ('H1', <Parameter 'H1', 5.0, bounds=[2:8]>),\n",
       "            ('L2', <Parameter 'L2', 0.02, bounds=[0.01:0.03]>),\n",
       "            ('Vm1', <Parameter 'Vm1', 1.25, bounds=[0.5:2]>),\n",
       "            ('Vm2', <Parameter 'Vm2', 1.25, bounds=[0.5:2]>),\n",
       "            ('K1_8', <Parameter 'K1_8', 0.02, bounds=[0.01:0.03]>),\n",
       "            ('H3', <Parameter 'H3', 5.0, bounds=[2:8]>),\n",
       "            ('Vm8', <Parameter 'Vm8', 1.25, bounds=[0.5:2]>),\n",
       "            ('d_mRNA7', <Parameter 'd_mRNA7', 1.25, bounds=[0.5:2]>),\n",
       "            ('d_mRNA5', <Parameter 'd_mRNA5', 1.25, bounds=[0.5:2]>),\n",
       "            ('Vm3', <Parameter 'Vm3', 1.25, bounds=[0.5:2]>),\n",
       "            ('H8', <Parameter 'H8', 5.0, bounds=[2:8]>)])"
      ]
     },
     "execution_count": 26,
     "metadata": {},
     "output_type": "execute_result"
    }
   ],
   "source": [
    "# The second is the lmfit.Parameters() needed for parameter optimization\n",
    "network.parameters"
   ]
  },
  {
   "cell_type": "code",
   "execution_count": 23,
   "metadata": {},
   "outputs": [
    {
     "data": {
      "image/png": "[encoded data removed]",
      "text/plain": [
       "<Figure size 432x288 with 1 Axes>"
      ]
     },
     "metadata": {
      "needs_background": "light"
     },
     "output_type": "display_data"
    }
   ],
   "source": [
    "# Here's the result of simulating the generated network\n",
    "rr = te.loada(base_network.model)\n",
    "data = rr.simulate(0, 1200, 120)\n",
    "df_data = makeDF(data)\n",
    "plotSimulation(df_data)"
   ]
  },
  {
   "cell_type": "code",
   "execution_count": 24,
   "metadata": {},
   "outputs": [
    {
     "data": {
      "image/png": "[encoded data removed]",
      "text/plain": [
       "<Figure size 432x288 with 1 Axes>"
      ]
     },
     "metadata": {
      "needs_background": "light"
     },
     "output_type": "display_data"
    }
   ],
   "source": [
    "# Compare the above results with the file initial-Antimony-model.txt\n",
    "df_initial = simulateInitialModel()\n",
    "plotSimulation(df_initial)"
   ]
  },
  {
   "cell_type": "code",
   "execution_count": 19,
   "metadata": {},
   "outputs": [
    {
     "data": {
      "text/plain": [
       "4.954803928258755e-14"
      ]
     },
     "execution_count": 19,
     "metadata": {},
     "output_type": "execute_result"
    }
   ],
   "source": [
    "df = df_initial - df_data\n",
    "df.sum().sum()"
   ]
  },
  {
   "cell_type": "markdown",
   "metadata": {},
   "source": [
    "## Using Generated Networks in Network Discovery"
   ]
  }
 ],
 "metadata": {
  "kernelspec": {
   "display_name": "Python 3",
   "language": "python",
   "name": "python3"
  },
  "language_info": {
   "codemirror_mode": {
    "name": "ipython",
    "version": 3
   },
   "file_extension": ".py",
   "mimetype": "text/x-python",
   "name": "python",
   "nbconvert_exporter": "python",
   "pygments_lexer": "ipython3",
   "version": "3.6.9"
  }
 },
 "nbformat": 4,
 "nbformat_minor": 2
}
