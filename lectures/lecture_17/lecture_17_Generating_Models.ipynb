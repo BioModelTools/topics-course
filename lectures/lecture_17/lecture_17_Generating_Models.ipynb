{
 "cells": [
  {
   "cell_type": "markdown",
   "metadata": {},
   "source": [
    "# Generating Models\n",
    "This notebook demonstrates how to generate a model from a compact, string representation of the transcription factors for a gene."
   ]
  },
  {
   "cell_type": "code",
   "execution_count": 1,
   "metadata": {},
   "outputs": [],
   "source": [
    "%matplotlib inline\n",
    "\n",
    "import model_maker as mm"
   ]
  },
  {
   "cell_type": "markdown",
   "metadata": {},
   "source": [
    "## Using Model Maker"
   ]
  },
  {
   "cell_type": "code",
   "execution_count": 2,
   "metadata": {},
   "outputs": [
    {
     "name": "stdout",
     "output_type": "stream",
     "text": [
      "J7: => mRNA7; L7 - d_mRNA7*mRNA7\n"
     ]
    }
   ],
   "source": [
    "# Create the reaction (including kinetics) for gene7\n",
    "gene7 = mm.GeneMaker(7)\n",
    "print(gene7)"
   ]
  },
  {
   "cell_type": "code",
   "execution_count": 3,
   "metadata": {},
   "outputs": [
    {
     "data": {
      "text/plain": [
       "'J7: => mRNA7; L7 - d_mRNA7*mRNA7 + Vm7 * ( K1_7*P4^H7 ) / ( 1 + K1_7*P4^H7 )'"
      ]
     },
     "execution_count": 3,
     "metadata": {},
     "output_type": "execute_result"
    }
   ],
   "source": [
    "result = mm.GeneMaker.do(\"7X+4\")\n",
    "result.reaction"
   ]
  },
  {
   "cell_type": "code",
   "execution_count": 4,
   "metadata": {},
   "outputs": [
    {
     "data": {
      "text/plain": [
       "['L7', 'd_mRNA7', 'K1_7', 'Vm7', 'H7']"
      ]
     },
     "execution_count": 4,
     "metadata": {},
     "output_type": "execute_result"
    }
   ],
   "source": [
    "result.constants"
   ]
  },
  {
   "cell_type": "code",
   "execution_count": 5,
   "metadata": {},
   "outputs": [
    {
     "data": {
      "text/plain": [
       "'J7: => mRNA7; L7 - d_mRNA7*mRNA7 + Vm7 * ( K1_7*P4^H7 ) / ( 1 + K1_7*P4^H7 + K2_7*P1^H7 + K3_7*P4^H7*P1^H7 )'"
      ]
     },
     "execution_count": 5,
     "metadata": {},
     "output_type": "execute_result"
    }
   ],
   "source": [
    "result = mm.GeneMaker.do(\"7X+4,-1\")\n",
    "result.reaction"
   ]
  },
  {
   "cell_type": "markdown",
   "metadata": {},
   "source": [
    "## Generate the reactions in the initial network\n",
    "\n",
    "The text description of the network is:\n",
    "\n",
    "``\n",
    "1A+0,+4\n",
    "2X+4\n",
    "3X+6\n",
    "4X-2\n",
    "6A+7,-1\n",
    "8X-1\n",
    "``"
   ]
  },
  {
   "cell_type": "code",
   "execution_count": 6,
   "metadata": {},
   "outputs": [
    {
     "name": "stdout",
     "output_type": "stream",
     "text": [
      "J1: => mRNA1; L1 - d_mRNA1*mRNA1 + Vm1 * (  K1_1*INPUT^H1 +  K2_1*P4^H1 +  K3_1*INPUT^H1*P4^H1 ) / ( 1 + K1_1*INPUT^H1 + K2_1*P4^H1 + K3_1*INPUT^H1*P4^H1 )\n",
      "J2: => mRNA2; L2 - d_mRNA2*mRNA2 + Vm2 * ( K1_2*P4^H2 ) / ( 1 + K1_2*P4^H2 )\n",
      "J3: => mRNA3; L3 - d_mRNA3*mRNA3 + Vm3 * ( K1_3*P6^H3 ) / ( 1 + K1_3*P6^H3 )\n",
      "J4: => mRNA4; L4 - d_mRNA4*mRNA4 + Vm4 * ( 1 ) / ( 1 + K1_4*P2^H4 )\n",
      "J6: => mRNA6; L6 - d_mRNA6*mRNA6 + Vm6 * ( K1_6*P7^H6 ) / ( 1 + K1_6*P7^H6 + K2_6*P1^H6 + K3_6*P7^H6*P1^H6 )\n",
      "J8: => mRNA8; L8 - d_mRNA8*mRNA8 + Vm8 * ( 1 ) / ( 1 + K1_8*P1^H8 )\n",
      "\n",
      "K1_1 = 0;\n",
      "K2_1 = 0;\n",
      "K3_1 = 0;\n",
      "Vm1 = 0;\n",
      "H1 = 0;\n",
      "K1_2 = 0;\n",
      "Vm2 = 0;\n",
      "H2 = 0;\n",
      "K1_3 = 0;\n",
      "Vm3 = 0;\n",
      "H3 = 0;\n",
      "K1_4 = 0;\n",
      "Vm4 = 0;\n",
      "H4 = 0;\n",
      "K1_6 = 0;\n",
      "K2_6 = 0;\n",
      "K3_6 = 0;\n",
      "Vm6 = 0;\n",
      "H6 = 0;\n",
      "K1_8 = 0;\n",
      "Vm8 = 0;\n",
      "H8 = 0;\n",
      "\n"
     ]
    }
   ],
   "source": [
    "# Print the variable part of the model, both reactions and constants.\n",
    "descriptions = [\"1O+0,+4\", \"2X+4\", \"3X+6\", \"4X-2\", \"6A+7,-1\", \"8X-1\"]\n",
    "mrna_reactions = \"\"\n",
    "constants_initializations = \"\"\n",
    "for stg in descriptions:\n",
    "    result = mm.GeneMaker.do(stg)\n",
    "    mrna_reactions += \"%s\\n\" % result.reaction\n",
    "    # constants_initializations +=  \"%s\\n\" % result.constants\n",
    "    for constant in result.constants:\n",
    "        if (not \"d_mRNA\" in constant) and (not \"L\" in constant):\n",
    "            constants_initializations += \"%s = 0;\\n\" % constant\n",
    "print(mrna_reactions)\n",
    "print(constants_initializations)\n",
    "    "
   ]
  },
  {
   "cell_type": "markdown",
   "metadata": {},
   "source": [
    "Now compare the printed reactions with the initial model."
   ]
  },
  {
   "cell_type": "markdown",
   "metadata": {},
   "source": [
    "### Initial model\n",
    "\n",
    "``\n",
    "J1:  => mRNA1; L1 + Vm1*((K1_1*INPUT^H1 + K2_1*P4^H1 + K1_1*K3_1*INPUT^H1*P4^H1)/(1 + K1_1*INPUT^H1 + K2_1*P4^H1 + K1_1*K3_1*INPUT^H1*P4^H1)) - d    _mRNA1*mRNA1;\n",
    "J2:  => mRNA2; L2 + Vm2*(K1_2*P4^H2/(1 + K1_2*P4^H2)) - d_mRNA2*mRNA2;\n",
    "J3:  => mRNA3; L3 + Vm3*(K1_3*P6^H3/(1 + K1_3*P6^H3)) - d_mRNA3*mRNA3;\n",
    "J4:  => mRNA4; L4 + Vm4*(1/(1 + K1_4*P2^H4)) - d_mRNA4*mRNA4;\n",
    "J5:  => mRNA5; L5 - d_mRNA5*mRNA5;\n",
    "J6:  => mRNA6; L6 + Vm6*(K1_6*P7^H6/(1 + K1_6*P7^H6 + K2_6*P1^H6 + K1_6*K2_6*P7^H6*P1^H6)) - d_mRNA6*mRNA6;\n",
    "J7:  => mRNA7; L7 - d_mRNA7*mRNA7;\n",
    "J8:  => mRNA8; L8 + Vm8*(1/(1 + K1_8*P1^H8)) - d_mRNA8*mRNA8;\n",
    "``\n"
   ]
  }
 ],
 "metadata": {
  "kernelspec": {
   "display_name": "Python 3",
   "language": "python",
   "name": "python3"
  },
  "language_info": {
   "codemirror_mode": {
    "name": "ipython",
    "version": 3
   },
   "file_extension": ".py",
   "mimetype": "text/x-python",
   "name": "python",
   "nbconvert_exporter": "python",
   "pygments_lexer": "ipython3",
   "version": "3.6.9"
  }
 },
 "nbformat": 4,
 "nbformat_minor": 2
}
