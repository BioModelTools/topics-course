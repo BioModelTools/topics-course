{
 "cells": [
  {
   "cell_type": "markdown",
   "metadata": {},
   "source": [
    "# Modeling Workflow\n",
    "\n",
    "This notebook describes a workflow for constructing simulation models with the following steps:\n",
    "- Fitting parameters\n",
    "- Model evaluation with cross validation\n",
    "- Estimating parameter variability with bootstrapping\n",
    "\n",
    "The workbook makes use of the module util.py, which is in this directory. Check out test_util.py to see how unit tests are written and how to call the functions in util."
   ]
  },
  {
   "cell_type": "code",
   "execution_count": 1,
   "metadata": {},
   "outputs": [],
   "source": [
    "%matplotlib inline\n",
    "\n",
    "import lmfit\n",
    "import numpy as np\n",
    "import pandas as pd\n",
    "import matplotlib.pyplot as plt\n",
    "from sklearn import linear_model\n",
    "from sklearn.metrics import mean_squared_error, r2_score\\\n",
    "import tellurium as te\n",
    "\n",
    "import util"
   ]
  },
  {
   "cell_type": "markdown",
   "metadata": {},
   "source": [
    "## Review of Parameter Fitting"
   ]
  },
  {
   "cell_type": "code",
   "execution_count": 2,
   "metadata": {},
   "outputs": [
    {
     "data": {
      "text/plain": [
       "Parameters([('amp',\n",
       "             <Parameter 'amp', value=3.00000000084041 +/- 1.26e-10, bounds=[-inf:inf]>),\n",
       "            ('freq',\n",
       "             <Parameter 'freq', value=1.0000000002562435 +/- 2.1e-11, bounds=[-inf:inf]>),\n",
       "            ('phase',\n",
       "             <Parameter 'phase', value=-2.732487809161068e-10 +/- 4.37e-11, bounds=[-inf:inf]>),\n",
       "            ('decay',\n",
       "             <Parameter 'decay', value=0.10000000004427274 +/- 1.02e-11, bounds=[-inf:inf]>)])"
      ]
     },
     "execution_count": 2,
     "metadata": {},
     "output_type": "execute_result"
    }
   ],
   "source": [
    "import lmfit\n",
    "import numpy\n",
    "\n",
    "def calculate(x, amp, phase, freq, decay):\n",
    "    \"\"\"\n",
    "    :param Parameters params:\n",
    "    :param array x: independent variable(s)\n",
    "    :param array data: observed values to fit to\n",
    "    \"\"\"\n",
    "    return amp*np.sin(x*freq + phase)*np.exp(-x*x*decay)\n",
    "    \n",
    "# Synthetic data\n",
    "x = np.linspace(0, 10, 100)\n",
    "AMP = 3.0\n",
    "FREQ = 1.0\n",
    "PHASE = 0.0\n",
    "DECAY = 0.1\n",
    "data = calculate(x, AMP, PHASE, FREQ, DECAY)\n",
    "\n",
    "\n",
    "# Fitting\n",
    "params = lmfit.Parameters()\n",
    "params.add('amp', value=10)\n",
    "params.add('freq', value=3)\n",
    "params.add('phase', value=.2)\n",
    "params.add('decay', value = 1.0)\n",
    "#\n",
    "model = lmfit.Model(calculate)\n",
    "fitter = model.fit(data, params, x=x) \n",
    "fitter.params\n"
   ]
  },
  {
   "cell_type": "code",
   "execution_count": 3,
   "metadata": {},
   "outputs": [
    {
     "name": "stdout",
     "output_type": "stream",
     "text": [
      "[[Model]]\n",
      "    Model(calculate)\n",
      "[[Fit Statistics]]\n",
      "    # fitting method   = leastsq\n",
      "    # function evals   = 64\n",
      "    # data points      = 100\n",
      "    # variables        = 4\n",
      "    chi-square         = 8.5714e-18\n",
      "    reduced chi-square = 8.9285e-20\n",
      "    Akaike info crit   = -4382.32720\n",
      "    Bayesian info crit = -4371.90652\n",
      "[[Variables]]\n",
      "    amp:    3.00000000 +/- 1.2630e-10 (0.00%) (init = 10)\n",
      "    freq:   1.00000000 +/- 2.0970e-11 (0.00%) (init = 3)\n",
      "    phase: -2.7325e-10 +/- 4.3739e-11 (16.01%) (init = 0.2)\n",
      "    decay:  0.10000000 +/- 1.0233e-11 (0.00%) (init = 1)\n",
      "[[Correlations]] (unreported correlations are < 0.100)\n",
      "    C(amp, decay)  =  0.652\n",
      "    C(freq, decay) = -0.141\n",
      "    C(amp, freq)   = -0.108\n",
      "\n"
     ]
    }
   ],
   "source": [
    "print(fitter.fit_report())"
   ]
  },
  {
   "cell_type": "code",
   "execution_count": 4,
   "metadata": {},
   "outputs": [
    {
     "data": {
      "text/plain": [
       "<matplotlib.collections.PathCollection at 0x7f5d5a0950f0>"
      ]
     },
     "execution_count": 4,
     "metadata": {},
     "output_type": "execute_result"
    },
    {
     "data": {
      "image/png": "[encoded data removed]",
      "text/plain": [
       "<Figure size 432x288 with 1 Axes>"
      ]
     },
     "metadata": {},
     "output_type": "display_data"
    }
   ],
   "source": [
    "plt.scatter(x, data)"
   ]
  },
  {
   "cell_type": "code",
   "execution_count": 5,
   "metadata": {},
   "outputs": [
    {
     "name": "stdout",
     "output_type": "stream",
     "text": [
      "[[Model]]\n",
      "    Model(calculate)\n",
      "[[Fit Statistics]]\n",
      "    # fitting method   = leastsq\n",
      "    # function evals   = 64\n",
      "    # data points      = 100\n",
      "    # variables        = 4\n",
      "    chi-square         = 8.5714e-18\n",
      "    reduced chi-square = 8.9285e-20\n",
      "    Akaike info crit   = -4382.32720\n",
      "    Bayesian info crit = -4371.90652\n",
      "[[Variables]]\n",
      "    amp:    3.00000000 +/- 1.2630e-10 (0.00%) (init = 10)\n",
      "    freq:   1.00000000 +/- 2.0970e-11 (0.00%) (init = 3)\n",
      "    phase: -2.7325e-10 +/- 4.3739e-11 (16.01%) (init = 0.2)\n",
      "    decay:  0.10000000 +/- 1.0233e-11 (0.00%) (init = 1)\n",
      "[[Correlations]] (unreported correlations are < 0.100)\n",
      "    C(amp, decay)  =  0.652\n",
      "    C(freq, decay) = -0.141\n",
      "    C(amp, freq)   = -0.108\n",
      "\n"
     ]
    }
   ],
   "source": [
    "print(fitter.fit_report())"
   ]
  },
  {
   "cell_type": "code",
   "execution_count": 6,
   "metadata": {},
   "outputs": [
    {
     "data": {
      "text/plain": [
       "3.00000000084041"
      ]
     },
     "execution_count": 6,
     "metadata": {},
     "output_type": "execute_result"
    }
   ],
   "source": [
    "fitter.params.get('amp').value"
   ]
  },
  {
   "cell_type": "code",
   "execution_count": 7,
   "metadata": {},
   "outputs": [
    {
     "name": "stdout",
     "output_type": "stream",
     "text": [
      "amp\n",
      "freq\n",
      "phase\n",
      "decay\n"
     ]
    }
   ],
   "source": [
    "for name in fitter.params:\n",
    "    print (name)"
   ]
  },
  {
   "cell_type": "code",
   "execution_count": 8,
   "metadata": {},
   "outputs": [],
   "source": [
    "for name in fitter.params:\n",
    "    param = fitter.params.get(name)\n",
    "    stmt = \"%s = %3.4f\" % (name, param.value)\n",
    "    exec(stmt)\n",
    "fit = calculate(x, amp, freq, phase, decay)"
   ]
  },
  {
   "cell_type": "code",
   "execution_count": 9,
   "metadata": {},
   "outputs": [
    {
     "data": {
      "text/plain": [
       "<matplotlib.collections.PathCollection at 0x7f5d5a029358>"
      ]
     },
     "execution_count": 9,
     "metadata": {},
     "output_type": "execute_result"
    },
    {
     "data": {
      "image/png": "[encoded data removed]",
      "text/plain": [
       "<Figure size 432x288 with 1 Axes>"
      ]
     },
     "metadata": {},
     "output_type": "display_data"
    }
   ],
   "source": [
    "\n",
    "plt.scatter(x, model.eval(fitter.params, x=x))"
   ]
  },
  {
   "cell_type": "code",
   "execution_count": 10,
   "metadata": {},
   "outputs": [
    {
     "data": {
      "text/plain": [
       "Text(0,0.5,'Fitted')"
      ]
     },
     "execution_count": 10,
     "metadata": {},
     "output_type": "execute_result"
    },
    {
     "data": {
      "image/png": "[encoded data removed]",
      "text/plain": [
       "<Figure size 432x288 with 1 Axes>"
      ]
     },
     "metadata": {},
     "output_type": "display_data"
    }
   ],
   "source": [
    "# Plot the result\n",
    "plt.scatter(data,  model.eval(fitter.params, x=x))\n",
    "plt.xlabel(\"Observed\")\n",
    "plt.ylabel(\"Fitted\")"
   ]
  },
  {
   "cell_type": "code",
   "execution_count": 11,
   "metadata": {},
   "outputs": [
    {
     "data": {
      "image/png": "[encoded data removed]",
      "text/plain": [
       "<Figure size 432x288 with 1 Axes>"
      ]
     },
     "metadata": {},
     "output_type": "display_data"
    }
   ],
   "source": [
    "# We will do this a lot. A better way is to make a function that does the plot.\n",
    "util.plotFit(data, model.eval(fitter.params, x=x))"
   ]
  },
  {
   "cell_type": "markdown",
   "metadata": {},
   "source": [
    "## Fitting Simulation Parameters for One Species Concentration\n",
    "1. Make simulation into a function\n",
    "1. Create observations\n",
    "1. Create parameters\n",
    "1. Fit the model\n",
    "1. Generate fitted simulation data\n",
    "1. Compare the fit with the data"
   ]
  },
  {
   "cell_type": "code",
   "execution_count": 12,
   "metadata": {},
   "outputs": [],
   "source": [
    "# Encapsulate the simulation into a function\n",
    "\n",
    "# Use constants, not numbers, so that values can be changed easily and promote readability.\n",
    "START = 0\n",
    "STOP = 50\n",
    "NUM_POINTS = 100\n",
    "def simulateModel(v0, ka, kb, kc):\n",
    "    \"\"\"\n",
    "    Simulate the model for specific parameter values.\n",
    "    :param array x: dummy independent variable\n",
    "    :return array-float: [B]\n",
    "    \"\"\"\n",
    "    model = \"\"\"\n",
    "    model test\n",
    "        species A, B, C;\n",
    "\n",
    "        J0: -> A; v0\n",
    "        A -> B; ka*A;\n",
    "        B -> C; kb*B;\n",
    "        J1: C ->; C*kc\n",
    "        A = 0\n",
    "        B = 0\n",
    "        C = 0\n",
    "        v0 = 10\n",
    "        ka = 0.4\n",
    "        kb = 0.8*ka\n",
    "        kc = ka\n",
    "\n",
    "    end\n",
    "    \"\"\"\n",
    "    r = te.loada(model)\n",
    "    r.v0 = v0\n",
    "    r.ka = ka\n",
    "    r.kb = kb\n",
    "    r.kc =kc\n",
    "    return r.simulate(START, STOP, NUM_POINTS)\n",
    "    \n",
    "def simulate(v0=10, ka=0.4, kb=0.32, kc=0.4):\n",
    "    results = simulateModel(v0, ka, kb, kc)\n",
    "    return results[\"[B]\"]"
   ]
  },
  {
   "cell_type": "code",
   "execution_count": 13,
   "metadata": {},
   "outputs": [],
   "source": [
    "# Generate synthetic observations\n",
    "STD = 1.0\n",
    "data = simulate() + np.random.normal(0, STD, NUM_POINTS)"
   ]
  },
  {
   "cell_type": "code",
   "execution_count": 14,
   "metadata": {},
   "outputs": [],
   "source": [
    "# Create the parameters of simulation\n",
    "params = lmfit.Parameters()\n",
    "params.add('v0', value=100, min=0)\n",
    "params.add('ka', value=.1, min=0)\n",
    "params.add('kb', value=.1, min=0)\n",
    "params.add('kc', value = 0.1, min=0)"
   ]
  },
  {
   "cell_type": "code",
   "execution_count": 15,
   "metadata": {},
   "outputs": [
    {
     "data": {
      "text/plain": [
       "Parameters([('v0',\n",
       "             <Parameter 'v0', value=2286.5812673754644 +/- 61.5, bounds=[0:inf]>),\n",
       "            ('ka',\n",
       "             <Parameter 'ka', value=95.28427213229672 +/- 2.56, bounds=[0:inf]>),\n",
       "            ('kb',\n",
       "             <Parameter 'kb', value=81.51593072423907 +/- 3.01, bounds=[0:inf]>),\n",
       "            ('kc',\n",
       "             <Parameter 'kc', value=8765.359949500124 +/- 313, bounds=[0:inf]>)])"
      ]
     },
     "execution_count": 15,
     "metadata": {},
     "output_type": "execute_result"
    }
   ],
   "source": [
    "# Do the fit\n",
    "model = lmfit.Model(simulate, independent_vars=[], method='leastsq')  # Specifying no independent variables\n",
    "fitter = model.fit(data, params) \n",
    "fitter.params"
   ]
  },
  {
   "cell_type": "code",
   "execution_count": 16,
   "metadata": {},
   "outputs": [
    {
     "name": "stdout",
     "output_type": "stream",
     "text": [
      "[[Model]]\n",
      "    Model(simulate)\n",
      "[[Fit Statistics]]\n",
      "    # fitting method   = leastsq\n",
      "    # function evals   = 196\n",
      "    # data points      = 100\n",
      "    # variables        = 4\n",
      "    chi-square         = 5115.47029\n",
      "    reduced chi-square = 53.2861489\n",
      "    Akaike info crit   = 401.485443\n",
      "    Bayesian info crit = 411.906124\n",
      "[[Variables]]\n",
      "    v0:  2286.58127 +/- 61.4608873 (2.69%) (init = 100)\n",
      "    ka:  95.2842721 +/- 2.55765848 (2.68%) (init = 0.1)\n",
      "    kb:  81.5159307 +/- 3.01312197 (3.70%) (init = 0.1)\n",
      "    kc:  8765.35995 +/- 313.430825 (3.58%) (init = 0.1)\n",
      "[[Correlations]] (unreported correlations are < 0.100)\n",
      "    C(v0, kc) = -0.885\n",
      "    C(v0, kb) =  0.699\n",
      "    C(ka, kb) = -0.633\n",
      "    C(kb, kc) = -0.491\n",
      "    C(v0, ka) = -0.233\n",
      "    C(ka, kc) = -0.184\n",
      "\n"
     ]
    }
   ],
   "source": [
    "print( fitter.fit_report())"
   ]
  },
  {
   "cell_type": "code",
   "execution_count": 17,
   "metadata": {},
   "outputs": [],
   "source": [
    "# Run the simulation to get fitted values\n",
    "fit = fitter.eval(fitter.params)"
   ]
  },
  {
   "cell_type": "code",
   "execution_count": 18,
   "metadata": {},
   "outputs": [
    {
     "data": {
      "image/png": "[encoded data removed]",
      "text/plain": [
       "<Figure size 432x288 with 1 Axes>"
      ]
     },
     "metadata": {},
     "output_type": "display_data"
    }
   ],
   "source": [
    "util.plotFit(data, fit)"
   ]
  },
  {
   "cell_type": "markdown",
   "metadata": {},
   "source": [
    "## Model Evaluation With Cross Validation\n",
    "These fits will be to all concentrations"
   ]
  },
  {
   "cell_type": "code",
   "execution_count": 19,
   "metadata": {},
   "outputs": [],
   "source": [
    "def convertResultsToArray(results):\n",
    "    \"\"\"\n",
    "    Concatentates the non-time columns of a simulation result\n",
    "    by alternating columns for rows.\n",
    "    :param NamedArray results\n",
    "    \"\"\"\n",
    "    num_cols = results.shape[1]\n",
    "    results = results[:, 1:]\n",
    "    new_length = len(results)*(num_cols - 1)\n",
    "    array = results.reshape(new_length)\n",
    "    return array"
   ]
  },
  {
   "cell_type": "code",
   "execution_count": 20,
   "metadata": {},
   "outputs": [],
   "source": [
    "# Generate synthetic observations\n",
    "STD = 1.0\n",
    "def generateObservations(std=STD):\n",
    "    \"\"\"\n",
    "    :return NamedArray: simulation results with normal errors\n",
    "    \"\"\"\n",
    "    v0=10; ka=0.4; kb=0.32; kc=0.4;\n",
    "    results = simulateModel(v0, ka, kb, kc)\n",
    "    columns = results.colnames\n",
    "    for col in range(1, len(results.colnames)):\n",
    "        for row in range(len(results)):\n",
    "            results[row, col] = max(results[row, col] + np.random.normal(0, std), 0)\n",
    "    results.colnames = columns\n",
    "    return results"
   ]
  },
  {
   "cell_type": "code",
   "execution_count": 21,
   "metadata": {},
   "outputs": [],
   "source": [
    "# Uses the independent variable to pass the indices to report\n",
    "def simulateWithIndices(x, v0, ka, kb, kc):\n",
    "    \"\"\"\n",
    "    :param array-int x: indices to return\n",
    "    \"\"\"\n",
    "    results = simulateModel(v0, ka, kb, kc)\n",
    "    indices = [int(v) for v in x]\n",
    "    results = results[indices]\n",
    "    return convertResultsToArray(results)"
   ]
  },
  {
   "cell_type": "code",
   "execution_count": 22,
   "metadata": {},
   "outputs": [],
   "source": [
    "# Create the parameters of simulation\n",
    "params = lmfit.Parameters()\n",
    "params.add('v0', value=100, min=0)\n",
    "params.add('ka', value=2, min=0)\n",
    "params.add('kb', value=.5, min=0)\n",
    "params.add('kc', value = 0.1, min=0)"
   ]
  },
  {
   "cell_type": "code",
   "execution_count": 23,
   "metadata": {},
   "outputs": [
    {
     "name": "stdout",
     "output_type": "stream",
     "text": [
      "Mean R2: 0.758,  Std R2: 0.033\n"
     ]
    }
   ],
   "source": [
    "# Create the fold generator\n",
    "NUM_FOLDS = 4\n",
    "data = generateObservations(std=4.0)\n",
    "generator = util.foldGenerator(NUM_POINTS, NUM_FOLDS)\n",
    "eval_statistics = []  # Acccumulates statistics\n",
    "parameters_collection = []\n",
    "# Fit training data and evaluate on test data for each fold\n",
    "for train, test in generator:\n",
    "    # Do the fit\n",
    "    model = lmfit.Model(simulateWithIndices, method='leastsq')  # Specifying no independent variables\n",
    "    data_train = convertResultsToArray(data[train])\n",
    "    fitter = model.fit(data_train, params, x=train) \n",
    "    fit = model.eval(fitter.params, x=test)\n",
    "    data_test = convertResultsToArray(data[test])\n",
    "    eval_statistics.append(r2_score(data_test, fit))\n",
    "    parameters_collection.append(fitter.params)\n",
    "# Report the results\n",
    "print(\"Mean R2: %2.3f,  Std R2: %2.3f\" % (np.mean(eval_statistics), np.std(eval_statistics)))"
   ]
  },
  {
   "cell_type": "code",
   "execution_count": 24,
   "metadata": {},
   "outputs": [],
   "source": [
    "# Compute average values of parameters and show fit\n",
    "fitted_parameters = util.aggregateParameters(parameters_collection)"
   ]
  },
  {
   "cell_type": "code",
   "execution_count": 25,
   "metadata": {},
   "outputs": [
    {
     "data": {
      "text/plain": [
       "Parameters([('v0', <Parameter 'v0', 9.567836117842361, bounds=[-inf:inf]>),\n",
       "            ('ka', <Parameter 'ka', 0.37816792692062784, bounds=[-inf:inf]>),\n",
       "            ('kc', <Parameter 'kc', 0.391401331015407, bounds=[-inf:inf]>),\n",
       "            ('kb', <Parameter 'kb', 0.30626018344727024, bounds=[-inf:inf]>)])"
      ]
     },
     "execution_count": 25,
     "metadata": {},
     "output_type": "execute_result"
    }
   ],
   "source": [
    "fitted_parameters"
   ]
  },
  {
   "cell_type": "markdown",
   "metadata": {},
   "source": [
    "## Estimating Parameter Variability With Bootstrapping\n",
    "We must do the following:\n",
    "1. Use the fitted_parameters obtained from the averages across cross validations as the initial parameters to fit to all of the data.\n",
    "1. Construct collection-of-parameters\n",
    "  1. Compute synthetic data by using random draws of residuals\n",
    "  1. Estimate the parameters and add to collection-of-parameters\n",
    "1. Report the mean and std of the collection-of-parameters"
   ]
  },
  {
   "cell_type": "code",
   "execution_count": 26,
   "metadata": {},
   "outputs": [],
   "source": [
    "# Compute a fit with the parameters averaged across all folds\n",
    "# Notes. Using the same data as for cross validation\n",
    "INDICES = range(len(data))\n",
    "data_as_array = convertResultsToArray(data)\n",
    "model = lmfit.Model(simulateWithIndices, method='leastsq')  # Specifying no independent variables\n",
    "fitter = model.fit(data_as_array, fitted_parameters, x=INDICES) \n",
    "full_fit = model.eval(fitter.params, x=INDICES)"
   ]
  },
  {
   "cell_type": "code",
   "execution_count": 27,
   "metadata": {},
   "outputs": [
    {
     "name": "stdout",
     "output_type": "stream",
     "text": [
      "[[Model]]\n",
      "    Model(simulateWithIndices)\n",
      "[[Fit Statistics]]\n",
      "    # fitting method   = leastsq\n",
      "    # function evals   = 13\n",
      "    # data points      = 300\n",
      "    # variables        = 4\n",
      "    chi-square         = 4594.65670\n",
      "    reduced chi-square = 15.5224889\n",
      "    Akaike info crit   = 826.660054\n",
      "    Bayesian info crit = 841.475184\n",
      "[[Variables]]\n",
      "    v0:  9.57159981 +/- 0.40004729 (4.18%) (init = 9.567836)\n",
      "    ka:  0.37829928 +/- 0.01664496 (4.40%) (init = 0.3781679)\n",
      "    kc:  0.39148232 +/- 0.01981310 (5.06%) (init = 0.3914013)\n",
      "    kb:  0.30639344 +/- 0.01419759 (4.63%) (init = 0.3062602)\n",
      "[[Correlations]] (unreported correlations are < 0.100)\n",
      "    C(v0, kb) =  0.950\n",
      "    C(v0, kc) =  0.926\n",
      "    C(v0, ka) =  0.925\n",
      "    C(kc, kb) =  0.885\n",
      "    C(ka, kb) =  0.883\n",
      "    C(ka, kc) =  0.862\n",
      "\n"
     ]
    }
   ],
   "source": [
    "# The fit statistics look good.\n",
    "print(fitter.fit_report())"
   ]
  },
  {
   "cell_type": "code",
   "execution_count": 31,
   "metadata": {},
   "outputs": [
    {
     "data": {
      "image/png": "[encoded data removed]",
      "text/plain": [
       "<Figure size 432x288 with 1 Axes>"
      ]
     },
     "metadata": {},
     "output_type": "display_data"
    }
   ],
   "source": [
    "# Look at the residuals to see the quality of the fit\n",
    "util.plotFit(data_as_array, full_fit)"
   ]
  },
  {
   "cell_type": "markdown",
   "metadata": {},
   "source": [
    "The horizontal \"strips\" at the fitted values of 25 and 32 are likely a problem with the model that should be investigated. However, we'll assume that the model is a good fit for the rest of this exercise."
   ]
  },
  {
   "cell_type": "code",
   "execution_count": 28,
   "metadata": {},
   "outputs": [],
   "source": [
    "# Construct the collection of parameters\n",
    "NUM_BOOTSTRAPPING_ITERATIONS = 10\n",
    "parameters_collection = []\n",
    "for _ in range(NUM_BOOTSTRAPPING_ITERATIONS):\n",
    "    new_data_as_array = util.generateBootstrapData(full_fit, data_as_array)\n",
    "    model = lmfit.Model(simulateWithIndices, method='leastsq')  # Specifying no independent variables\n",
    "    fitter = model.fit(new_data_as_array, fitted_parameters, x=INDICES)\n",
    "    parameters_collection.append(fitter.params)"
   ]
  },
  {
   "cell_type": "code",
   "execution_count": 29,
   "metadata": {},
   "outputs": [
    {
     "name": "stdout",
     "output_type": "stream",
     "text": [
      "Name\tMean\tStd\n",
      "v0\t9.501\t0.110\n",
      "ka\t0.378\t0.005\n",
      "kc\t0.385\t0.005\n",
      "kb\t0.301\t0.004\n"
     ]
    }
   ],
   "source": [
    "# Calculate statistics for the parameters\n",
    "print(\"Name\\tMean\\tStd\")\n",
    "for name, values in util.makeParametersStatistics(parameters_collection).items():\n",
    "    print(\"%s\\t%3.3f\\t%3.3f\" % (name, values[0], values[1]))"
   ]
  }
 ],
 "metadata": {
  "kernelspec": {
   "display_name": "Python 3",
   "language": "python",
   "name": "python3"
  },
  "language_info": {
   "codemirror_mode": {
    "name": "ipython",
    "version": 3
   },
   "file_extension": ".py",
   "mimetype": "text/x-python",
   "name": "python",
   "nbconvert_exporter": "python",
   "pygments_lexer": "ipython3",
   "version": "3.6.4"
  }
 },
 "nbformat": 4,
 "nbformat_minor": 2
}
