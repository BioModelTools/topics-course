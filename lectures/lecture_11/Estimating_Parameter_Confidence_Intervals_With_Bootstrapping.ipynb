{
 "cells": [
  {
   "cell_type": "markdown",
   "metadata": {},
   "source": [
    "# Estimating Parameter Confidence Intervals With Bootstrapping\n",
    "This notebook demonstrates the calculations required to do confidence interval constructions.\n",
    "1. Construct a good model. This means checking that we get good $R^2$ values (or other model quality metrics) for each fold in a cross validation.\n",
    "1. Compute residuals for the good model.\n",
    "1. Construct a collection of parameter estimates. That is, for many repetitions\n",
    "   1. Construct new observations (by using randomly selected residuals)\n",
    "   1. Estimate parameter values\n",
    "1. Compute the mean and standard deviation of the parameter estimates\n",
    "1. Construct the confidence interval"
   ]
  },
  {
   "cell_type": "code",
   "execution_count": 1,
   "metadata": {},
   "outputs": [],
   "source": [
    "%matplotlib inline\n",
    "import tellurium as te\n",
    "import numpy as np\n",
    "import lmfit   # Fitting lib\n",
    "import math\n",
    "import random \n",
    "import matplotlib.pyplot as plt\n",
    "import model_fitting as mf"
   ]
  },
  {
   "cell_type": "code",
   "execution_count": 2,
   "metadata": {},
   "outputs": [
    {
     "data": {
      "text/html": [
       "<table><tr><th> name </th><th> value </th><th> initial value </th><th> min </th><th> max </th><th> vary </th></tr><tr><td> k1 </td><td>  1.00000000 </td><td> 1 </td><td>  0.00000000 </td><td>  10.0000000 </td><td> True </td></tr><tr><td> k2 </td><td>  1.00000000 </td><td> 1 </td><td>  0.00000000 </td><td>  10.0000000 </td><td> True </td></tr></table>"
      ],
      "text/plain": [
       "Parameters([('k1', <Parameter 'k1', 1, bounds=[0:10]>),\n",
       "            ('k2', <Parameter 'k2', 1, bounds=[0:10]>)])"
      ]
     },
     "execution_count": 2,
     "metadata": {},
     "output_type": "execute_result"
    }
   ],
   "source": [
    "# Model used in this example\n",
    "model = \"\"\"\n",
    "     A -> B; k1*A\n",
    "     B -> C; k2*B\n",
    "      \n",
    "     A = 5;\n",
    "     B = 0;\n",
    "     C = 0;\n",
    "     k1 = 0.1\n",
    "     k2 = 0.2\n",
    "\"\"\"\n",
    "unfitted_parameters = mf.makeParameters(constants=['k1', 'k2'])\n",
    "unfitted_parameters"
   ]
  },
  {
   "cell_type": "code",
   "execution_count": 8,
   "metadata": {},
   "outputs": [],
   "source": [
    "# Globals\n",
    "num_points = 15\n",
    "sim_time = 30\n",
    "noise_std = 0.5"
   ]
  },
  {
   "cell_type": "code",
   "execution_count": null,
   "metadata": {},
   "outputs": [],
   "source": []
  },
  {
   "cell_type": "code",
   "execution_count": 9,
   "metadata": {},
   "outputs": [
    {
     "data": {
      "text/plain": [
       "       time,      [A],       [B],       [C]\n",
       " [[       0,  5.19429,         0,  0.334758],\n",
       "  [ 2.14286,  4.01226,    1.0914,  0.995395],\n",
       "  [ 4.28571,  3.26523,   1.25035, 0.0286604],\n",
       "  [ 6.42857,  2.71896,   1.01837,   1.62184],\n",
       "  [ 8.57143,  2.51045,   1.46637,   1.31101],\n",
       "  [ 10.7143,  1.81673,  0.816018,   1.59899],\n",
       "  [ 12.8571,  2.16734,  0.742242,   2.85939],\n",
       "  [      15,  1.52514,   1.25302,   2.90911],\n",
       "  [ 17.1429, 0.287779,  0.581976,   3.07842],\n",
       "  [ 19.2857,  1.31412,  0.364865,   3.35864],\n",
       "  [ 21.4286, 0.492193,  0.311783,   3.19945],\n",
       "  [ 23.5714, 0.760769,  0.112157,   4.56493],\n",
       "  [ 25.7143, 0.853517,  0.830255,   4.50902],\n",
       "  [ 27.8571, 0.363173,  0.524012,   5.23884],\n",
       "  [      30, 0.394583, 0.0617312,   4.91017]]"
      ]
     },
     "execution_count": 9,
     "metadata": {},
     "output_type": "execute_result"
    }
   ],
   "source": [
    "# Create synthetic observational data for this example. This is for demonstration purposes only.\n",
    "# In practice, you will have observational data from experiments.\n",
    "obs_data = mf.makeObservations(model=model, noise_std=noise_std, num_points=num_points, sim_time=sim_time)\n",
    "obs_data"
   ]
  },
  {
   "cell_type": "code",
   "execution_count": 11,
   "metadata": {},
   "outputs": [
    {
     "data": {
      "image/png": "[encoded data removed]",
      "text/plain": [
       "<Figure size 432x288 with 1 Axes>"
      ]
     },
     "metadata": {
      "needs_background": "light"
     },
     "output_type": "display_data"
    }
   ],
   "source": [
    "mf.plotTimeSeries(obs_data)"
   ]
  },
  {
   "cell_type": "markdown",
   "metadata": {},
   "source": [
    "## Step 1: Construct a good model.\n",
    "In the following, we use the same model as the synthetic observations. Of course, in practice, you won't know the \"true\" model. You'll try many, and choose the best in terms of the quality metrics (e.g., $R^2$)."
   ]
  },
  {
   "cell_type": "code",
   "execution_count": 10,
   "metadata": {},
   "outputs": [
    {
     "data": {
      "text/plain": [
       "[0.951880346237209, 0.9125707424247982, 0.9473930702638862]"
      ]
     },
     "execution_count": 10,
     "metadata": {},
     "output_type": "execute_result"
    }
   ],
   "source": [
    "# Do the cross validation for this model. the crossValidate function returns two values: list of\n",
    "# the parameters (for each fold) and RSQs for each fold.\n",
    "list_parameters, rsqs = mf.crossValidate(obs_data, model=model, parameters=unfitted_parameters, \n",
    "                                         num_points=num_points, \n",
    "                                         sim_time=sim_time,\n",
    "                                         num_folds=3)\n",
    "rsqs"
   ]
  },
  {
   "cell_type": "code",
   "execution_count": 12,
   "metadata": {},
   "outputs": [
    {
     "data": {
      "text/plain": [
       "[Parameters([('k1',\n",
       "              <Parameter 'k1', value=0.09744795751649105 +/- 0.00702, bounds=[0:10]>),\n",
       "             ('k2',\n",
       "              <Parameter 'k2', value=0.18809028590274557 +/- 0.0246, bounds=[0:10]>)]),\n",
       " Parameters([('k1',\n",
       "              <Parameter 'k1', value=0.08984145893237927 +/- 0.00571, bounds=[0:10]>),\n",
       "             ('k2',\n",
       "              <Parameter 'k2', value=0.23893394601316287 +/- 0.0344, bounds=[0:10]>)]),\n",
       " Parameters([('k1',\n",
       "              <Parameter 'k1', value=0.0878078148132555 +/- 0.00618, bounds=[0:10]>),\n",
       "             ('k2',\n",
       "              <Parameter 'k2', value=0.21860725147638593 +/- 0.0328, bounds=[0:10]>)])]"
      ]
     },
     "execution_count": 12,
     "metadata": {},
     "output_type": "execute_result"
    }
   ],
   "source": [
    "list_parameters"
   ]
  },
  {
   "cell_type": "markdown",
   "metadata": {},
   "source": [
    "These are very good $R^2$ values. So, we accept the model.\n",
    "\n",
    "Next, we need to estimate the parameter values to use in our model. To this end, we do a fit on the full set of data."
   ]
  },
  {
   "cell_type": "code",
   "execution_count": 13,
   "metadata": {},
   "outputs": [
    {
     "data": {
      "text/html": [
       "<table><tr><th> name </th><th> value </th><th> standard error </th><th> relative error </th><th> initial value </th><th> min </th><th> max </th><th> vary </th></tr><tr><td> k1 </td><td>  0.09167109 </td><td>  0.00515201 </td><td> (5.62%) </td><td> 1 </td><td>  0.00000000 </td><td>  10.0000000 </td><td> True </td></tr><tr><td> k2 </td><td>  0.21265601 </td><td>  0.02449143 </td><td> (11.52%) </td><td> 1 </td><td>  0.00000000 </td><td>  10.0000000 </td><td> True </td></tr></table>"
      ],
      "text/plain": [
       "Parameters([('k1',\n",
       "             <Parameter 'k1', value=0.09167109233724713 +/- 0.00515, bounds=[0:10]>),\n",
       "            ('k2',\n",
       "             <Parameter 'k2', value=0.21265601254169375 +/- 0.0245, bounds=[0:10]>)])"
      ]
     },
     "execution_count": 13,
     "metadata": {},
     "output_type": "execute_result"
    }
   ],
   "source": [
    "fitted_parameters = mf.fit(obs_data, model=model, parameters=unfitted_parameters,\n",
    "                           num_points=num_points, sim_time=sim_time)\n",
    "fitted_parameters"
   ]
  },
  {
   "cell_type": "markdown",
   "metadata": {},
   "source": [
    "# Step 2: Compute the Residuals\n",
    "Residuals need to be calculated by chemical species since they may be in very different units."
   ]
  },
  {
   "cell_type": "code",
   "execution_count": 15,
   "metadata": {},
   "outputs": [],
   "source": [
    "def makeResidualsBySpecies(obs_data, model, parameters, num_points, sim_time):\n",
    "    \"\"\"\n",
    "    Calculate residuals for each chemical species.\n",
    "    :param np.array obs_data: matrix of observations; first column is time; number of rows is num_points\n",
    "    :param str model:\n",
    "    :param lmfit.Parameters parameters.\n",
    "    :param int num_points:\n",
    "    :param int sim_time:\n",
    "    :return np.array: matrix of residuals; columns are chemical species\n",
    "    \"\"\"\n",
    "    data = mf.runSimulation(model=model, parameters=parameters, num_points=num_points, sim_time=sim_time)\n",
    "    residuals = mf.calcSimulationResiduals(parameters, obs_data, num_points=num_points, sim_time=sim_time,\n",
    "                                          model=model)\n",
    "    # Reshape the residuals by species\n",
    "    rr = te.loada(model)\n",
    "    num_species = rr.getNumFloatingSpecies()\n",
    "    nrows = int(len(residuals) / num_species)\n",
    "    return np.reshape(residuals, (nrows, num_species))"
   ]
  },
  {
   "cell_type": "code",
   "execution_count": 16,
   "metadata": {},
   "outputs": [
    {
     "data": {
      "text/plain": [
       " [[    0.19429,         0,   0.334758],\n",
       "  [ -0.0960011,  0.380511,   0.814548],\n",
       "  [  -0.110329,  0.215531,  -0.560961],\n",
       "  [ -0.0545806, -0.117649,   0.531397],\n",
       "  [   0.231569,  0.351789,  -0.295532],\n",
       "  [ -0.0557236, -0.214643,  -0.497896],\n",
       "  [   0.628839, -0.177428,   0.317566],\n",
       "  [    0.26103,  0.451203, -0.0249584],\n",
       "  [  -0.750883, -0.106115,  -0.194824],\n",
       "  [   0.460706, -0.219066,  -0.204008],\n",
       "  [   -0.20902, -0.179772,  -0.607777],\n",
       "  [   0.184615,  -0.29919,   0.552435],\n",
       "  [   0.380119,  0.487541,    0.32513],\n",
       "  [ -0.0257958,  0.239421,     0.9124],\n",
       "  [  0.0749858, -0.174005,   0.465505]]"
      ]
     },
     "execution_count": 16,
     "metadata": {},
     "output_type": "execute_result"
    }
   ],
   "source": [
    "# Note that the residuals for the chemical species differ. Compare the residuals for A (1st col) with\n",
    "# the residuals for C (3rd col)\n",
    "residuals_matrix = makeResidualsBySpecies(obs_data, model, fitted_parameters, num_points, sim_time)\n",
    "residuals_matrix"
   ]
  },
  {
   "cell_type": "code",
   "execution_count": 17,
   "metadata": {},
   "outputs": [
    {
     "data": {
      "text/plain": [
       "0.36910069977981513"
      ]
     },
     "execution_count": 17,
     "metadata": {},
     "output_type": "execute_result"
    }
   ],
   "source": [
    "# The standard deviation of the residuals should be approximately the same as the standard deviation\n",
    "# of the random noise we injected in the construction of the observations.\n",
    "np.std(residuals_matrix)"
   ]
  },
  {
   "cell_type": "markdown",
   "metadata": {},
   "source": [
    "## Step 3: Construct a Collection of Parameter Estimates"
   ]
  },
  {
   "cell_type": "markdown",
   "metadata": {},
   "source": [
    "### Step 3a: Construct Synthetic Observations\n",
    "We define a function that constructs a set of observations from residuals and a model."
   ]
  },
  {
   "cell_type": "code",
   "execution_count": 19,
   "metadata": {},
   "outputs": [],
   "source": [
    "def makeSyntheticObservations(residual_matrix, model, parameters, num_points, sim_time):\n",
    "    \"\"\"\n",
    "    Constructs synthetic observations for the model.\n",
    "    :param np.array obs_data: matrix of residuals; columns are species; number of rows is num_points\n",
    "    :param str model: Antimony model\n",
    "    :param lmfit.Parameters parameters: parameters to use in the simulation\n",
    "    :param int num_points:\n",
    "    :param int sim_time:\n",
    "    :return np.array: matrix; first column \n",
    "    \"\"\"\n",
    "    model_data = mf.runSimulation(model=model, parameters=fitted_parameters, \n",
    "                            num_points=num_points, sim_time=sim_time)\n",
    "    data = model_data.copy()\n",
    "    nrows, ncols = np.shape(data)\n",
    "    for icol in range(1, ncols):  # Avoid the time column\n",
    "        indices = np.random.randint(0, nrows, nrows)\n",
    "        for irow in range(nrows):\n",
    "            data[irow, icol] = max(data[irow, icol] + residuals_matrix[indices[irow], icol-1], 0)\n",
    "    return data"
   ]
  },
  {
   "cell_type": "code",
   "execution_count": 28,
   "metadata": {},
   "outputs": [
    {
     "data": {
      "text/plain": [
       " [[       0,   4.9742,        0, 0.552435],\n",
       "  [ 2.14286,  4.18325, 0.593243,        0],\n",
       "  [ 4.28571,  3.45055, 0.928701,  1.12102],\n",
       "  [ 6.42857,  2.74774,   1.0299, 0.592551],\n",
       "  [ 8.57143,  2.18288,  1.60212,  1.31101],\n",
       "  [ 10.7143,  2.10402,  1.48186,  1.90207],\n",
       "  [ 12.8571,  1.72312, 0.742242,  2.86696],\n",
       "  [      15,  1.16811, 0.627815,  3.25163],\n",
       "  [ 17.1429,  1.01287, 0.903622,  4.08779],\n",
       "  [ 19.2857,  1.23354,  0.93572,  4.11509],\n",
       "  [ 21.4286, 0.675418, 0.491555,  3.78227],\n",
       "  [ 23.5714,  1.20499, 0.791858,  4.34726],\n",
       "  [ 25.7143, 0.264378, 0.225066,  4.15893],\n",
       "  [ 27.8571, 0.463955, 0.284591,  3.71866],\n",
       "  [      30, 0.209268, 0.723277,  5.25921]]"
      ]
     },
     "execution_count": 28,
     "metadata": {},
     "output_type": "execute_result"
    }
   ],
   "source": [
    "# Try running this several times to see how values change.\n",
    "makeSyntheticObservations(residuals_matrix, model, fitted_parameters, num_points, sim_time)"
   ]
  },
  {
   "cell_type": "markdown",
   "metadata": {},
   "source": [
    "### Step 3b: Repeatedly estimate parameter values"
   ]
  },
  {
   "cell_type": "code",
   "execution_count": 30,
   "metadata": {},
   "outputs": [],
   "source": [
    "def makeParametersList(model, fitted_parameters, residuals_matrix, num_points, sim_time, count=10):\n",
    "    list_parameters = []\n",
    "    for _ in range(count):\n",
    "        obs_data = makeSyntheticObservations(residuals_matrix, model, fitted_parameters, num_points, sim_time)\n",
    "        parameters = mf.fit(obs_data, model=model, parameters=unfitted_parameters)\n",
    "        list_parameters.append(parameters)\n",
    "    return list_parameters"
   ]
  },
  {
   "cell_type": "code",
   "execution_count": 32,
   "metadata": {},
   "outputs": [
    {
     "data": {
      "text/plain": [
       "[Parameters([('k1',\n",
       "              <Parameter 'k1', value=0.09831824312400872 +/- 0.00189, bounds=[0:10]>),\n",
       "             ('k2',\n",
       "              <Parameter 'k2', value=0.21171015022013684 +/- 0.00127, bounds=[0:10]>)]),\n",
       " Parameters([('k1',\n",
       "              <Parameter 'k1', value=0.09317778133076438 +/- 0.00393, bounds=[0:10]>),\n",
       "             ('k2',\n",
       "              <Parameter 'k2', value=0.2292284336618733 +/- 0.0207, bounds=[0:10]>)]),\n",
       " Parameters([('k1',\n",
       "              <Parameter 'k1', value=0.0875215081206343 +/- 0.00545, bounds=[0:10]>),\n",
       "             ('k2',\n",
       "              <Parameter 'k2', value=0.25107005292813844 +/- 0.0376, bounds=[0:10]>)])]"
      ]
     },
     "execution_count": 32,
     "metadata": {},
     "output_type": "execute_result"
    }
   ],
   "source": [
    "list_parameters = makeParametersList(model, fitted_parameters, residuals_matrix, num_points, sim_time, count = 3)\n",
    "list_parameters"
   ]
  },
  {
   "cell_type": "code",
   "execution_count": 35,
   "metadata": {},
   "outputs": [
    {
     "data": {
      "text/plain": [
       "array([0.9, 8.1])"
      ]
     },
     "execution_count": 35,
     "metadata": {},
     "output_type": "execute_result"
    }
   ],
   "source": [
    "np.percentile(range(10), [10, 90])"
   ]
  },
  {
   "cell_type": "markdown",
   "metadata": {},
   "source": [
    "## Step 4: Compute the Mean and Standard Deviation of Parameters"
   ]
  },
  {
   "cell_type": "code",
   "execution_count": 38,
   "metadata": {},
   "outputs": [],
   "source": [
    "def makeParameterStatistics(list_parameters, confidence_limits=(5, 95)):\n",
    "    \"\"\"\n",
    "    Computes the mean and standard deviation of the parameters in a list of parameters.\n",
    "    :param list-lmfit.Parameters\n",
    "    :param (float, float) confidence_limits: if none, report mean and variance\n",
    "    :return dict: key is the parameter name; value is the tuple (mean, stddev) or confidence limits\n",
    "    \"\"\"\n",
    "    parameter_statistics = {}  # This is a dictionary that will have the parameter name as key, and mean, std as values\n",
    "    parameter_names = list(list_parameters[0].valuesdict().keys())\n",
    "    for name in parameter_names:\n",
    "        parameter_statistics[name] = []  # We will accumulate values in this list\n",
    "        for parameters in list_parameters:\n",
    "            parameter_statistics[name].append(parameters.valuesdict()[name])\n",
    "    # Calculate the statistics\n",
    "    for name in parameter_statistics.keys():\n",
    "        if confidence_limits is not None:\n",
    "            parameter_statistics[name] = np.percentile(parameter_statistics[name], confidence_limits)\n",
    "        else:\n",
    "            mean = np.mean(parameter_statistics[name])\n",
    "            std = np.std(parameter_statistics[name])\n",
    "            std = std/np.sqrt(len(list_parameters))  # adjustments for the standard deviation of the mean\n",
    "            parameter_statistics[name] = (mean, std)\n",
    "    return parameter_statistics"
   ]
  },
  {
   "cell_type": "code",
   "execution_count": 39,
   "metadata": {},
   "outputs": [
    {
     "data": {
      "text/plain": [
       "{'k1': array([0.08808714, 0.0978042 ]), 'k2': array([0.21346198, 0.24888589])}"
      ]
     },
     "execution_count": 39,
     "metadata": {},
     "output_type": "execute_result"
    }
   ],
   "source": [
    "# Here's the result\n",
    "makeParameterStatistics(list_parameters)"
   ]
  },
  {
   "cell_type": "markdown",
   "metadata": {},
   "source": [
    "## Step 5: Construct Confidence Intervals"
   ]
  },
  {
   "cell_type": "markdown",
   "metadata": {},
   "source": [
    "# Exercises"
   ]
  },
  {
   "cell_type": "markdown",
   "metadata": {},
   "source": [
    "## Exercise 1: Analyze a new model.\n",
    "\n",
    "TRUE MODEL:\n",
    "\n",
    "- A -> B\n",
    "- A -> C\n",
    "- B + C -> D\n",
    "\n",
    "All kinetics are mass action. The kinetics constants are (in order of the reactions): 0.5, 0.5, 1.0. The initial concentration of A is 5. Consider a time course of duration 30 with 20 points.\n",
    "\n",
    "\n",
    "1. Generate synthetic observations using this model using a normally distributed noise with a standard deviation\n",
    "of 0.1.\n",
    "1. Using the true model (the one above), find the $R^2$ values in a cross validation with 4 folds.\n",
    "1. Construct confidence intervals for the parameters."
   ]
  }
 ],
 "metadata": {
  "kernelspec": {
   "display_name": "Python 3",
   "language": "python",
   "name": "python3"
  },
  "language_info": {
   "codemirror_mode": {
    "name": "ipython",
    "version": 3
   },
   "file_extension": ".py",
   "mimetype": "text/x-python",
   "name": "python",
   "nbconvert_exporter": "python",
   "pygments_lexer": "ipython3",
   "version": "3.6.4"
  }
 },
 "nbformat": 4,
 "nbformat_minor": 2
}
