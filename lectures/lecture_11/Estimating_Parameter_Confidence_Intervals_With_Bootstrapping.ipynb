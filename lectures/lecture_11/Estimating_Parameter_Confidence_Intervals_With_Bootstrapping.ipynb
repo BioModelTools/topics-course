{
 "cells": [
  {
   "cell_type": "markdown",
   "metadata": {},
   "source": [
    "# Estimating Parameter Confidence Intervals With Bootstrapping\n",
    "This notebook demonstrates the calculations required to do confidence interval constructions.\n",
    "1. Construct a good model. This means checking that we get good $R^2$ values (or other model quality metrics) for each fold in a cross validation.\n",
    "1. Compute residuals for the good model.\n",
    "1. Construct a collection of parameter estimates. That is, for many repetitions\n",
    "   1. Construct new observations (by using randomly selected residuals)\n",
    "   1. Estimate parameter values\n",
    "1. Compute the mean and standard deviation of the parameter estimates\n",
    "1. Construct the confidence interval"
   ]
  },
  {
   "cell_type": "code",
   "execution_count": 1,
   "metadata": {},
   "outputs": [],
   "source": [
    "%matplotlib inline\n",
    "import tellurium as te\n",
    "import numpy as np\n",
    "import lmfit   # Fitting lib\n",
    "import math\n",
    "import random \n",
    "import matplotlib.pyplot as plt\n",
    "import model_fitting as mf"
   ]
  },
  {
   "cell_type": "code",
   "execution_count": 2,
   "metadata": {},
   "outputs": [
    {
     "data": {
      "text/html": [
       "<table><tr><th> name </th><th> value </th><th> initial value </th><th> min </th><th> max </th><th> vary </th></tr><tr><td> k1 </td><td>  1.00000000 </td><td> 1 </td><td>  0.00000000 </td><td>  10.0000000 </td><td> True </td></tr><tr><td> k2 </td><td>  1.00000000 </td><td> 1 </td><td>  0.00000000 </td><td>  10.0000000 </td><td> True </td></tr></table>"
      ],
      "text/plain": [
       "Parameters([('k1', <Parameter 'k1', 1, bounds=[0:10]>),\n",
       "            ('k2', <Parameter 'k2', 1, bounds=[0:10]>)])"
      ]
     },
     "execution_count": 2,
     "metadata": {},
     "output_type": "execute_result"
    }
   ],
   "source": [
    "# Model used in this example\n",
    "model = \"\"\"\n",
    "     A -> B; k1*A\n",
    "     B -> C; k2*B\n",
    "      \n",
    "     A = 5;\n",
    "     B = 0;\n",
    "     C = 0;\n",
    "     k1 = 0.1\n",
    "     k2 = 0.2\n",
    "\"\"\"\n",
    "unfitted_parameters = mf.makeParameters(constants=['k1', 'k2'])\n",
    "unfitted_parameters"
   ]
  },
  {
   "cell_type": "code",
   "execution_count": 3,
   "metadata": {},
   "outputs": [],
   "source": [
    "# Globals\n",
    "num_points = 15\n",
    "sim_time = 30\n",
    "noise_std = 0.5"
   ]
  },
  {
   "cell_type": "code",
   "execution_count": null,
   "metadata": {},
   "outputs": [],
   "source": []
  },
  {
   "cell_type": "code",
   "execution_count": 4,
   "metadata": {},
   "outputs": [
    {
     "data": {
      "text/plain": [
       "       time,      [A],      [B],      [C]\n",
       " [[       0,  5.51514, 0.527432, 0.245987],\n",
       "  [ 2.14286,  4.28185, 0.715545,  1.63173],\n",
       "  [ 4.28571,  2.37722,  1.08702, 0.619182],\n",
       "  [ 6.42857,  2.64685, 0.794236,  0.38186],\n",
       "  [ 8.57143,  2.36942,  1.91026,  2.00714],\n",
       "  [ 10.7143,  1.82735,  1.81132,  2.50625],\n",
       "  [ 12.8571,  1.64095,  0.95073,   2.5306],\n",
       "  [      15,  1.60003,  1.50914,  3.22473],\n",
       "  [ 17.1429,  0.90806, 0.929492,  3.97732],\n",
       "  [ 19.2857,        0, 0.309973,  3.89398],\n",
       "  [ 21.4286, 0.336924, 0.706193,  3.33676],\n",
       "  [ 23.5714, 0.652266,        0,  3.89861],\n",
       "  [ 25.7143,        0,  0.85985,  3.95139],\n",
       "  [ 27.8571, 0.813599, 0.662949,  5.36277],\n",
       "  [      30,  1.61118,        0,  4.84874]]"
      ]
     },
     "execution_count": 4,
     "metadata": {},
     "output_type": "execute_result"
    }
   ],
   "source": [
    "# Create synthetic observational data for this example. This is for demonstration purposes only.\n",
    "# In practice, you will have observational data from experiments.\n",
    "obs_data = mf.makeObservations(model=model, noise_std=noise_std, num_points=num_points, sim_time=sim_time)\n",
    "obs_data"
   ]
  },
  {
   "cell_type": "code",
   "execution_count": 5,
   "metadata": {},
   "outputs": [
    {
     "data": {
      "image/png": "[encoded data removed]",
      "text/plain": [
       "<Figure size 432x288 with 1 Axes>"
      ]
     },
     "metadata": {
      "needs_background": "light"
     },
     "output_type": "display_data"
    }
   ],
   "source": [
    "mf.plotTimeSeries(obs_data)"
   ]
  },
  {
   "cell_type": "markdown",
   "metadata": {},
   "source": [
    "## Step 1: Construct a good model.\n",
    "In the following, we use the same model as the synthetic observations. Of course, in practice, you won't know the \"true\" model. You'll try many, and choose the best in terms of the quality metrics (e.g., $R^2$)."
   ]
  },
  {
   "cell_type": "code",
   "execution_count": 6,
   "metadata": {},
   "outputs": [
    {
     "data": {
      "text/plain": [
       "[0.9344676874543638, 0.8906445801200691, 0.8719981718755889]"
      ]
     },
     "execution_count": 6,
     "metadata": {},
     "output_type": "execute_result"
    }
   ],
   "source": [
    "# Do the cross validation for this model. the crossValidate function returns two values: list of\n",
    "# the parameters (for each fold) and RSQs for each fold.\n",
    "list_parameters, rsqs = mf.crossValidate(obs_data, model=model, parameters=unfitted_parameters, \n",
    "                                         num_points=num_points, \n",
    "                                         sim_time=sim_time,\n",
    "                                         num_folds=3)\n",
    "rsqs"
   ]
  },
  {
   "cell_type": "code",
   "execution_count": 7,
   "metadata": {},
   "outputs": [
    {
     "data": {
      "text/plain": [
       "[Parameters([('k1',\n",
       "              <Parameter 'k1', value=0.10746779700293807 +/- 0.0115, bounds=[0:10]>),\n",
       "             ('k2',\n",
       "              <Parameter 'k2', value=0.18459249366635566 +/- 0.0331, bounds=[0:10]>)]),\n",
       " Parameters([('k1',\n",
       "              <Parameter 'k1', value=0.10444131118672983 +/- 0.00949, bounds=[0:10]>),\n",
       "             ('k2',\n",
       "              <Parameter 'k2', value=0.19768720585203237 +/- 0.032, bounds=[0:10]>)]),\n",
       " Parameters([('k1',\n",
       "              <Parameter 'k1', value=0.10112777061517197 +/- 0.00992, bounds=[0:10]>),\n",
       "             ('k2',\n",
       "              <Parameter 'k2', value=0.18016441875920441 +/- 0.03, bounds=[0:10]>)])]"
      ]
     },
     "execution_count": 7,
     "metadata": {},
     "output_type": "execute_result"
    }
   ],
   "source": [
    "list_parameters"
   ]
  },
  {
   "cell_type": "markdown",
   "metadata": {},
   "source": [
    "These are very good $R^2$ values. So, we accept the model.\n",
    "\n",
    "Next, we need to estimate the parameter values to use in our model. To this end, we do a fit on the full set of data."
   ]
  },
  {
   "cell_type": "code",
   "execution_count": 8,
   "metadata": {},
   "outputs": [
    {
     "data": {
      "text/html": [
       "<table><tr><th> name </th><th> value </th><th> standard error </th><th> relative error </th><th> initial value </th><th> min </th><th> max </th><th> vary </th></tr><tr><td> k1 </td><td>  0.10414454 </td><td>  0.00832474 </td><td> (7.99%) </td><td> 1 </td><td>  0.00000000 </td><td>  10.0000000 </td><td> True </td></tr><tr><td> k2 </td><td>  0.18774184 </td><td>  0.02583269 </td><td> (13.76%) </td><td> 1 </td><td>  0.00000000 </td><td>  10.0000000 </td><td> True </td></tr></table>"
      ],
      "text/plain": [
       "Parameters([('k1',\n",
       "             <Parameter 'k1', value=0.1041445404873853 +/- 0.00832, bounds=[0:10]>),\n",
       "            ('k2',\n",
       "             <Parameter 'k2', value=0.18774184490323365 +/- 0.0258, bounds=[0:10]>)])"
      ]
     },
     "execution_count": 8,
     "metadata": {},
     "output_type": "execute_result"
    }
   ],
   "source": [
    "fitted_parameters = mf.fit(obs_data, model=model, parameters=unfitted_parameters,\n",
    "                           num_points=num_points, sim_time=sim_time)\n",
    "fitted_parameters"
   ]
  },
  {
   "cell_type": "markdown",
   "metadata": {},
   "source": [
    "# Step 2: Compute the Residuals\n",
    "Residuals need to be calculated by chemical species since they may be in very different units."
   ]
  },
  {
   "cell_type": "code",
   "execution_count": 9,
   "metadata": {},
   "outputs": [],
   "source": [
    "def makeResidualsBySpecies(obs_data, model, parameters, num_points, sim_time):\n",
    "    \"\"\"\n",
    "    Calculate residuals for each chemical species.\n",
    "    :param np.array obs_data: matrix of observations; first column is time; number of rows is num_points\n",
    "    :param str model:\n",
    "    :param lmfit.Parameters parameters.\n",
    "    :param int num_points:\n",
    "    :param int sim_time:\n",
    "    :return np.array: matrix of residuals; columns are chemical species\n",
    "    \"\"\"\n",
    "    data = mf.runSimulation(model=model, parameters=parameters, num_points=num_points, sim_time=sim_time)\n",
    "    residuals = mf.calcSimulationResiduals(parameters, obs_data, num_points=num_points, sim_time=sim_time,\n",
    "                                          model=model)\n",
    "    # Reshape the residuals by species\n",
    "    rr = te.loada(model)\n",
    "    num_species = rr.getNumFloatingSpecies()\n",
    "    nrows = int(len(residuals) / num_species)\n",
    "    return np.reshape(residuals, (nrows, num_species))"
   ]
  },
  {
   "cell_type": "code",
   "execution_count": 10,
   "metadata": {},
   "outputs": [
    {
     "data": {
      "text/plain": [
       " [[  0.515142,  0.527432,   0.245987],\n",
       "  [  0.281939, -0.101716,     1.4489],\n",
       "  [ -0.822626, -0.113339,  0.0193932],\n",
       "  [ 0.0870251, -0.531557,  -0.732527],\n",
       "  [   0.32161,  0.605195,   0.360022],\n",
       "  [  0.189144,  0.603806,   0.351978],\n",
       "  [  0.330415,   -0.1246, -0.0835352],\n",
       "  [  0.551623,  0.575779,   0.206503],\n",
       "  [ 0.0693555,  0.133913,   0.611604],\n",
       "  [ -0.670948,  -0.35918,   0.234077],\n",
       "  [ -0.199822,  0.149012,  -0.569316],\n",
       "  [  0.222879, -0.460362,   -0.21164],\n",
       "  [ -0.343502,  0.481786,  -0.327045],\n",
       "  [  0.538804,  0.353962,   0.946549],\n",
       "  [   1.39135, -0.251559,   0.320133]]"
      ]
     },
     "execution_count": 10,
     "metadata": {},
     "output_type": "execute_result"
    }
   ],
   "source": [
    "# Note that the residuals for the chemical species differ. Compare the residuals for A (1st col) with\n",
    "# the residuals for C (3rd col)\n",
    "residuals_matrix = makeResidualsBySpecies(obs_data, model, fitted_parameters, num_points, sim_time)\n",
    "residuals_matrix"
   ]
  },
  {
   "cell_type": "code",
   "execution_count": 11,
   "metadata": {},
   "outputs": [
    {
     "data": {
      "text/plain": [
       "0.49030847384180026"
      ]
     },
     "execution_count": 11,
     "metadata": {},
     "output_type": "execute_result"
    }
   ],
   "source": [
    "# The standard deviation of the residuals should be approximately the same as the standard deviation\n",
    "# of the random noise we injected in the construction of the observations.\n",
    "np.std(residuals_matrix)"
   ]
  },
  {
   "cell_type": "markdown",
   "metadata": {},
   "source": [
    "## Step 3: Construct a Collection of Parameter Estimates"
   ]
  },
  {
   "cell_type": "markdown",
   "metadata": {},
   "source": [
    "### Step 3a: Construct Synthetic Observations\n",
    "We define a function that constructs a set of observations from residuals and a model."
   ]
  },
  {
   "cell_type": "code",
   "execution_count": 12,
   "metadata": {},
   "outputs": [],
   "source": [
    "def makeSyntheticObservations(residual_matrix, model, parameters, num_points, sim_time):\n",
    "    \"\"\"\n",
    "    Constructs synthetic observations for the model.\n",
    "    :param np.array obs_data: matrix of residuals; columns are species; number of rows is num_points\n",
    "    :param str model: Antimony model\n",
    "    :param lmfit.Parameters parameters: parameters to use in the simulation\n",
    "    :param int num_points:\n",
    "    :param int sim_time:\n",
    "    :return np.array: matrix; first column \n",
    "    \"\"\"\n",
    "    model_data = mf.runSimulation(model=model, parameters=fitted_parameters, \n",
    "                            num_points=num_points, sim_time=sim_time)\n",
    "    data = model_data.copy()\n",
    "    nrows, ncols = np.shape(data)\n",
    "    for icol in range(1, ncols):  # Avoid the time column\n",
    "        indices = np.random.randint(0, nrows, nrows)\n",
    "        for irow in range(nrows):\n",
    "            data[irow, icol] = max(data[irow, icol] + residuals_matrix[indices[irow], icol-1], 0)\n",
    "    return data"
   ]
  },
  {
   "cell_type": "code",
   "execution_count": 13,
   "metadata": {},
   "outputs": [
    {
     "data": {
      "text/plain": [
       " [[       0,   4.32905,         0, 0.320133],\n",
       "  [ 2.14286,   3.80009,    0.3569, 0.502965],\n",
       "  [ 4.28571,   3.53027,  0.948802,        0],\n",
       "  [ 6.42857,   2.84176,    1.9296, 0.545071],\n",
       "  [ 8.57143,   2.32975,  0.945888, 0.914596],\n",
       "  [ 10.7143,   2.18983,    1.7833,  2.50625],\n",
       "  [ 12.8571,  0.639589,   1.65111,   2.5306],\n",
       "  [      15,   1.23755,   1.53856,  3.96478],\n",
       "  [ 17.1429, 0.0160782,   1.39938,  3.72574],\n",
       "  [ 19.2857,  0.757973,  0.567436,  4.01992],\n",
       "  [ 21.4286,  0.858356,   1.13296,  3.57903],\n",
       "  [ 23.5714,  0.516412,  0.987794,  4.35624],\n",
       "  [ 25.7143,  0.673916, 0.0188839,  4.06679],\n",
       "  [ 27.8571,         0,  0.184387,  4.20458],\n",
       "  [      30,         0,   0.13822,  5.47516]]"
      ]
     },
     "execution_count": 13,
     "metadata": {},
     "output_type": "execute_result"
    }
   ],
   "source": [
    "# Try running this several times to see how values change.\n",
    "makeSyntheticObservations(residuals_matrix, model, fitted_parameters, num_points, sim_time)"
   ]
  },
  {
   "cell_type": "markdown",
   "metadata": {},
   "source": [
    "### Step 3b: Repeatedly estimate parameter values"
   ]
  },
  {
   "cell_type": "code",
   "execution_count": 14,
   "metadata": {},
   "outputs": [],
   "source": [
    "def makeParametersList(model, fitted_parameters, residuals_matrix, num_points, sim_time, count=10):\n",
    "    list_parameters = []\n",
    "    for _ in range(count):\n",
    "        obs_data = makeSyntheticObservations(residuals_matrix, model, fitted_parameters, num_points, sim_time)\n",
    "        parameters = mf.fit(obs_data, model=model, parameters=unfitted_parameters)\n",
    "        list_parameters.append(parameters)\n",
    "    return list_parameters"
   ]
  },
  {
   "cell_type": "code",
   "execution_count": 15,
   "metadata": {},
   "outputs": [
    {
     "data": {
      "text/plain": [
       "[Parameters([('k1',\n",
       "              <Parameter 'k1', value=0.10960271195966764 +/- 0.00876, bounds=[0:10]>),\n",
       "             ('k2',\n",
       "              <Parameter 'k2', value=0.18332165954878743 +/- 0.024, bounds=[0:10]>)]),\n",
       " Parameters([('k1',\n",
       "              <Parameter 'k1', value=0.09850101767808705 +/- 0.00659, bounds=[0:10]>),\n",
       "             ('k2',\n",
       "              <Parameter 'k2', value=0.2018287624135734 +/- 0.0249, bounds=[0:10]>)]),\n",
       " Parameters([('k1',\n",
       "              <Parameter 'k1', value=0.1178833594308687 +/- 0.0104, bounds=[0:10]>),\n",
       "             ('k2',\n",
       "              <Parameter 'k2', value=0.20560311822067467 +/- 0.0308, bounds=[0:10]>)])]"
      ]
     },
     "execution_count": 15,
     "metadata": {},
     "output_type": "execute_result"
    }
   ],
   "source": [
    "list_parameters = makeParametersList(model, fitted_parameters, residuals_matrix, num_points, sim_time, count = 3)\n",
    "list_parameters"
   ]
  },
  {
   "cell_type": "code",
   "execution_count": 16,
   "metadata": {},
   "outputs": [
    {
     "data": {
      "text/plain": [
       "array([0.9, 8.1])"
      ]
     },
     "execution_count": 16,
     "metadata": {},
     "output_type": "execute_result"
    }
   ],
   "source": [
    "np.percentile(range(10), [10, 90])"
   ]
  },
  {
   "cell_type": "markdown",
   "metadata": {},
   "source": [
    "## Step 4: Compute the Mean and Standard Deviation of Parameters"
   ]
  },
  {
   "cell_type": "code",
   "execution_count": 17,
   "metadata": {},
   "outputs": [],
   "source": [
    "def makeParameterStatistics(list_parameters, confidence_limits=(5, 95)):\n",
    "    \"\"\"\n",
    "    Computes the mean and standard deviation of the parameters in a list of parameters.\n",
    "    :param list-lmfit.Parameters\n",
    "    :param (float, float) confidence_limits: if none, report mean and variance\n",
    "    :return dict: key is the parameter name; value is the tuple (mean, stddev) or confidence limits\n",
    "    \"\"\"\n",
    "    parameter_statistics = {}  # This is a dictionary that will have the parameter name as key, and mean, std as values\n",
    "    parameter_names = list(list_parameters[0].valuesdict().keys())\n",
    "    for name in parameter_names:\n",
    "        parameter_statistics[name] = []  # We will accumulate values in this list\n",
    "        for parameters in list_parameters:\n",
    "            parameter_statistics[name].append(parameters.valuesdict()[name])\n",
    "    # Calculate the statistics\n",
    "    for name in parameter_statistics.keys():\n",
    "        if confidence_limits is not None:\n",
    "            parameter_statistics[name] = np.percentile(parameter_statistics[name], confidence_limits)\n",
    "        else:\n",
    "            mean = np.mean(parameter_statistics[name])\n",
    "            std = np.std(parameter_statistics[name])\n",
    "            std = std/np.sqrt(len(list_parameters))  # adjustments for the standard deviation of the mean\n",
    "            parameter_statistics[name] = (mean, std)\n",
    "    return parameter_statistics"
   ]
  },
  {
   "cell_type": "code",
   "execution_count": 18,
   "metadata": {},
   "outputs": [
    {
     "data": {
      "text/plain": [
       "{'k1': array([0.09961119, 0.11705529]), 'k2': array([0.18517237, 0.20522568])}"
      ]
     },
     "execution_count": 18,
     "metadata": {},
     "output_type": "execute_result"
    }
   ],
   "source": [
    "# Here's the result\n",
    "makeParameterStatistics(list_parameters)"
   ]
  },
  {
   "cell_type": "markdown",
   "metadata": {},
   "source": [
    "## Step 5: Construct Confidence Intervals"
   ]
  },
  {
   "cell_type": "markdown",
   "metadata": {},
   "source": [
    "# Exercises"
   ]
  },
  {
   "cell_type": "markdown",
   "metadata": {},
   "source": [
    "## Exercise 1: Analyze a new model.\n",
    "\n",
    "TRUE MODEL:\n",
    "\n",
    "- A -> B\n",
    "- A -> C\n",
    "- B + C -> D\n",
    "\n",
    "All kinetics are mass action. The kinetics constants are (in order of the reactions): 0.5, 0.5, 1.0. The initial concentration of A is 5. Consider a time course of duration 30 with 20 points.\n",
    "\n",
    "\n",
    "1. Generate synthetic observations using this model using a normally distributed noise with a standard deviation\n",
    "of 0.1.\n",
    "1. Using the true model (the one above), find the $R^2$ values in a cross validation with 4 folds.\n",
    "1. Construct confidence intervals for the parameters."
   ]
  }
 ],
 "metadata": {
  "kernelspec": {
   "display_name": "Python 3",
   "language": "python",
   "name": "python3"
  },
  "language_info": {
   "codemirror_mode": {
    "name": "ipython",
    "version": 3
   },
   "file_extension": ".py",
   "mimetype": "text/x-python",
   "name": "python",
   "nbconvert_exporter": "python",
   "pygments_lexer": "ipython3",
   "version": "3.6.4"
  }
 },
 "nbformat": 4,
 "nbformat_minor": 2
}
