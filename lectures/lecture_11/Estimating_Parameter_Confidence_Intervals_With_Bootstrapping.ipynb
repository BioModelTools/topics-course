{
 "cells": [
  {
   "cell_type": "markdown",
   "metadata": {},
   "source": [
    "# Estimating Parameter Confidence Intervals With Bootstrapping\n",
    "This notebook demonstrates the calculations required to do confidence interval constructions.\n",
    "1. Construct a good model. This means checking that we get good $R^2$ values (or other model quality metrics) for each fold in a cross validation.\n",
    "1. Compute residuals for the good model.\n",
    "1. Construct a collection of parameter estimates. That is, for many repetitions\n",
    "   1. Construct new observations (by using randomly selected residuals)\n",
    "   1. Estimate parameter values\n",
    "1. Compute the mean and standard deviation of the parameter estimates\n",
    "1. Construct the confidence interval"
   ]
  },
  {
   "cell_type": "code",
   "execution_count": 1,
   "metadata": {},
   "outputs": [],
   "source": [
    "%matplotlib inline\n",
    "import tellurium as te\n",
    "import numpy as np\n",
    "import lmfit   # Fitting lib\n",
    "import math\n",
    "import random \n",
    "import matplotlib.pyplot as plt\n",
    "import model_fitting as mf"
   ]
  },
  {
   "cell_type": "code",
   "execution_count": 2,
   "metadata": {},
   "outputs": [
    {
     "data": {
      "text/html": [
       "<table><tr><th> name </th><th> value </th><th> initial value </th><th> min </th><th> max </th><th> vary </th></tr><tr><td> k1 </td><td>  1.00000000 </td><td> 1 </td><td>  0.00000000 </td><td>  10.0000000 </td><td> True </td></tr><tr><td> k2 </td><td>  1.00000000 </td><td> 1 </td><td>  0.00000000 </td><td>  10.0000000 </td><td> True </td></tr></table>"
      ],
      "text/plain": [
       "Parameters([('k1', <Parameter 'k1', 1, bounds=[0:10]>),\n",
       "            ('k2', <Parameter 'k2', 1, bounds=[0:10]>)])"
      ]
     },
     "execution_count": 2,
     "metadata": {},
     "output_type": "execute_result"
    }
   ],
   "source": [
    "# Model used in this example\n",
    "model = \"\"\"\n",
    "     A -> B; k1*A\n",
    "     B -> C; k2*B\n",
    "      \n",
    "     A = 5;\n",
    "     B = 0;\n",
    "     C = 0;\n",
    "     k1 = 0.1\n",
    "     k2 = 0.2\n",
    "\"\"\"\n",
    "unfitted_parameters = mf.makeParameters(constants=['k1', 'k2'])\n",
    "unfitted_parameters"
   ]
  },
  {
   "cell_type": "code",
   "execution_count": 3,
   "metadata": {},
   "outputs": [],
   "source": [
    "# Globals\n",
    "num_points = 15\n",
    "sim_time = 30\n",
    "nose_std = 0.5"
   ]
  },
  {
   "cell_type": "code",
   "execution_count": 4,
   "metadata": {},
   "outputs": [],
   "source": [
    "# Create synthetic observational data for this example. This is for demonstration purposes only.\n",
    "# In practice, you will have observational data from experiments.\n",
    "obs_data = mf.makeObservations(model=model, noise_std=nose_std, num_points=num_points, sim_time=sim_time)"
   ]
  },
  {
   "cell_type": "markdown",
   "metadata": {},
   "source": [
    "## Step 1: Construct a good model.\n",
    "In the following, we use the same model as the synthetic observations. Of course, in practice, you won't know the \"true\" model. You'll try many, and choose the best in terms of the quality metrics (e.g., $R^2$)."
   ]
  },
  {
   "cell_type": "code",
   "execution_count": 5,
   "metadata": {},
   "outputs": [
    {
     "data": {
      "text/plain": [
       "[0.9568883129829333, 0.9398474519941118, 0.9303257348070606]"
      ]
     },
     "execution_count": 5,
     "metadata": {},
     "output_type": "execute_result"
    }
   ],
   "source": [
    "# Do the cross validation for this model. the crossValidate function returns two values: list of\n",
    "# the parameters (for each fold) and RSQs for each fold.\n",
    "list_parameters, rsqs = mf.crossValidate(obs_data, model=model, parameters=unfitted_parameters, \n",
    "                                         num_points=num_points, \n",
    "                                         sim_time=sim_time,\n",
    "                                         num_folds=3)\n",
    "rsqs"
   ]
  },
  {
   "cell_type": "markdown",
   "metadata": {},
   "source": [
    "These are very good $R^2$ values. So, we accept the model.\n",
    "\n",
    "Next, we need to estimate the parameter values to use in our model. To this end, we do a fit on the full set of data."
   ]
  },
  {
   "cell_type": "code",
   "execution_count": 6,
   "metadata": {},
   "outputs": [
    {
     "data": {
      "text/html": [
       "<table><tr><th> name </th><th> value </th><th> standard error </th><th> relative error </th><th> initial value </th><th> min </th><th> max </th><th> vary </th></tr><tr><td> k1 </td><td>  0.10574374 </td><td>  0.00599100 </td><td> (5.67%) </td><td> 1 </td><td>  0.00000000 </td><td>  10.0000000 </td><td> True </td></tr><tr><td> k2 </td><td>  0.18538890 </td><td>  0.01773804 </td><td> (9.57%) </td><td> 1 </td><td>  0.00000000 </td><td>  10.0000000 </td><td> True </td></tr></table>"
      ],
      "text/plain": [
       "Parameters([('k1',\n",
       "             <Parameter 'k1', value=0.10574373605682419 +/- 0.00599, bounds=[0:10]>),\n",
       "            ('k2',\n",
       "             <Parameter 'k2', value=0.1853888996495351 +/- 0.0177, bounds=[0:10]>)])"
      ]
     },
     "execution_count": 6,
     "metadata": {},
     "output_type": "execute_result"
    }
   ],
   "source": [
    "fitted_parameters = mf.fit(obs_data, model=model, parameters=unfitted_parameters,\n",
    "                           num_points=num_points, sim_time=sim_time)\n",
    "fitted_parameters"
   ]
  },
  {
   "cell_type": "markdown",
   "metadata": {},
   "source": [
    "# Step 2: Compute the Residuals\n",
    "Residuals need to be calculated by chemical species since they may be in very different units."
   ]
  },
  {
   "cell_type": "code",
   "execution_count": 7,
   "metadata": {},
   "outputs": [],
   "source": [
    "data = mf.runSimulation(model=model, parameters=fitted_parameters, num_points=num_points, sim_time=sim_time)\n",
    "residuals = mf.calcSimulationResiduals(fitted_parameters, obs_data, num_points=num_points, sim_time=sim_time)\n",
    "# Reshape the residuals by species\n",
    "rr = te.loada(model)\n",
    "num_species = rr.getNumFloatingSpecies()\n",
    "nrows = int(len(residuals) / num_species)\n",
    "residuals_by_species = np.reshape(residuals, (nrows, num_species))"
   ]
  },
  {
   "cell_type": "code",
   "execution_count": 8,
   "metadata": {},
   "outputs": [
    {
     "data": {
      "text/plain": [
       " [[   0.282339,          0,           0],\n",
       "  [  -0.216578,  -0.215391,  0.00261948],\n",
       "  [   0.834894,    0.87442,  0.00562892],\n",
       "  [  -0.381549,   0.205854,  0.00595198],\n",
       "  [   0.774587,   0.339934,  0.00346109],\n",
       "  [  -0.186275,  -0.285616, -0.00093408],\n",
       "  [   0.330759,  -0.322254, -0.00616169],\n",
       "  [  -0.124898,  -0.884773,  -0.0113462],\n",
       "  [  -0.816024, -0.0971357,  -0.0159001],\n",
       "  [ -0.0850381,   0.964774,  -0.0195044],\n",
       "  [  -0.035573,   0.351479,   -0.022049],\n",
       "  [   0.248317,   0.110758,  -0.0235646],\n",
       "  [  0.0158603,  -0.381229,  -0.0241658],\n",
       "  [  -0.262822,  -0.310995,  -0.0240076],\n",
       "  [   0.136207,  -0.252686,  -0.0232571]]"
      ]
     },
     "execution_count": 8,
     "metadata": {},
     "output_type": "execute_result"
    }
   ],
   "source": [
    "# Note that the residuals for the chemical species differ. Compare the residuals for A (1st col) with\n",
    "# the residuals for C (3rd col)\n",
    "residuals_by_species"
   ]
  },
  {
   "cell_type": "code",
   "execution_count": 9,
   "metadata": {},
   "outputs": [
    {
     "data": {
      "text/plain": [
       "0.36120007520871544"
      ]
     },
     "execution_count": 9,
     "metadata": {},
     "output_type": "execute_result"
    }
   ],
   "source": [
    "# The standard deviation of the residuals should be approximately the same as the standard deviation\n",
    "# of the random noise we injected in the construction of the observations.\n",
    "np.std(residuals)"
   ]
  },
  {
   "cell_type": "markdown",
   "metadata": {},
   "source": [
    "## Step 3: Construct a Collection of Parameter Estimates"
   ]
  },
  {
   "cell_type": "markdown",
   "metadata": {},
   "source": [
    "### Step 3a: Construct Synthetic Observations\n",
    "We define a function that constructs a set of observations from residuals and a model."
   ]
  },
  {
   "cell_type": "code",
   "execution_count": 10,
   "metadata": {},
   "outputs": [],
   "source": [
    "def makeSyntheticObservations(model, parameters, residuals_matrix, num_points, sim_time):\n",
    "    \"\"\"\n",
    "    Constructs synthetic observations for the model.\n",
    "    :param str model: Antimony model\n",
    "    :param lmfit.Parameters parameters: parameters to use in the simulation\n",
    "    :param np.array residuals_matrix: matrix of residuals; columns are species\n",
    "    :param int num_points:\n",
    "    :param int sim_time:\n",
    "    :return np.array: matrix; first column \n",
    "    \"\"\"\n",
    "    model_data = mf.runSimulation(model=model, parameters=fitted_parameters, \n",
    "                            num_points=num_points, sim_time=sim_time)\n",
    "    data = model_data.copy()\n",
    "    nrows, ncols = np.shape(data)\n",
    "    for icol in range(1, ncols):  # Avoid the time column\n",
    "        indices = np.random.randint(0, nrows, nrows)\n",
    "        for irow in range(nrows):\n",
    "            data[irow, icol] = max(data[irow, icol] + residuals_matrix[indices[irow], icol-1], 0)\n",
    "    return data"
   ]
  },
  {
   "cell_type": "code",
   "execution_count": 11,
   "metadata": {},
   "outputs": [
    {
     "data": {
      "text/plain": [
       " [[       0,   5.13621, 0.339934,        0],\n",
       "  [ 2.14286,   4.12243,  1.79515, 0.183398],\n",
       "  [ 4.28571,   2.36197,  1.42602, 0.577835],\n",
       "  [ 6.42857,   2.40874,  1.68786,  1.12438],\n",
       "  [ 8.57143,   2.79452,  2.29157,  1.63377],\n",
       "  [ 10.7143,   2.44527,  1.43313,  2.16797],\n",
       "  [ 12.8571,   2.05845,  0.71114,  2.62283],\n",
       "  [      15,  0.938517,  1.91224,  3.00948],\n",
       "  [ 17.1429,  0.691126,  1.77161,  3.35358],\n",
       "  [ 19.2857,   1.42516,  0.29661,  3.64742],\n",
       "  [ 21.4286,  0.534524, 0.769513,  3.89442],\n",
       "  [ 23.5714,  0.661819, 0.212319,  4.12411],\n",
       "  [ 25.7143,  0.204765, 0.587083,  4.29506],\n",
       "  [ 27.8571,  0.137924,        0,  4.40668],\n",
       "  [      30, 0.0232583,  1.12711,  4.51362]]"
      ]
     },
     "execution_count": 11,
     "metadata": {},
     "output_type": "execute_result"
    }
   ],
   "source": [
    "# Try running this several times to see how values change.\n",
    "makeSyntheticObservations(model, fitted_parameters, residuals_by_species, num_points, sim_time)"
   ]
  },
  {
   "cell_type": "markdown",
   "metadata": {},
   "source": [
    "### Step 3b: Repeatedly estimate parameter values"
   ]
  },
  {
   "cell_type": "code",
   "execution_count": 12,
   "metadata": {},
   "outputs": [
    {
     "data": {
      "text/plain": [
       "[Parameters([('k1',\n",
       "              <Parameter 'k1', value=0.09951789147975842 +/- 0.00482, bounds=[0:10]>),\n",
       "             ('k2',\n",
       "              <Parameter 'k2', value=0.21373772333066643 +/- 0.0202, bounds=[0:10]>)]),\n",
       " Parameters([('k1',\n",
       "              <Parameter 'k1', value=0.10127793883684733 +/- 0.00544, bounds=[0:10]>),\n",
       "             ('k2',\n",
       "              <Parameter 'k2', value=0.19595977263685116 +/- 0.019, bounds=[0:10]>)]),\n",
       " Parameters([('k1',\n",
       "              <Parameter 'k1', value=0.10139676631703232 +/- 0.00571, bounds=[0:10]>),\n",
       "             ('k2',\n",
       "              <Parameter 'k2', value=0.1658889415236814 +/- 0.0123, bounds=[0:10]>)]),\n",
       " Parameters([('k1',\n",
       "              <Parameter 'k1', value=0.09360627562199242 +/- 0.00544, bounds=[0:10]>),\n",
       "             ('k2',\n",
       "              <Parameter 'k2', value=0.19716379516294624 +/- 0.0219, bounds=[0:10]>)]),\n",
       " Parameters([('k1',\n",
       "              <Parameter 'k1', value=0.10276142402799227 +/- 0.0063, bounds=[0:10]>),\n",
       "             ('k2',\n",
       "              <Parameter 'k2', value=0.1539437101120139 +/- 0.0143, bounds=[0:10]>)]),\n",
       " Parameters([('k1',\n",
       "              <Parameter 'k1', value=0.10221528702849869 +/- 0.00517, bounds=[0:10]>),\n",
       "             ('k2',\n",
       "              <Parameter 'k2', value=0.1823654692126392 +/- 0.0157, bounds=[0:10]>)]),\n",
       " Parameters([('k1',\n",
       "              <Parameter 'k1', value=0.10909723546806971 +/- 0.00619, bounds=[0:10]>),\n",
       "             ('k2',\n",
       "              <Parameter 'k2', value=0.16575405555129819 +/- 0.0144, bounds=[0:10]>)]),\n",
       " Parameters([('k1',\n",
       "              <Parameter 'k1', value=0.09763366314269772 +/- 0.00463, bounds=[0:10]>),\n",
       "             ('k2',\n",
       "              <Parameter 'k2', value=0.20616588063062158 +/- 0.0188, bounds=[0:10]>)]),\n",
       " Parameters([('k1',\n",
       "              <Parameter 'k1', value=0.09637925784531098 +/- 0.005, bounds=[0:10]>),\n",
       "             ('k2',\n",
       "              <Parameter 'k2', value=0.1731808928507489 +/- 0.0154, bounds=[0:10]>)]),\n",
       " Parameters([('k1',\n",
       "              <Parameter 'k1', value=0.11118247404303783 +/- 0.00595, bounds=[0:10]>),\n",
       "             ('k2',\n",
       "              <Parameter 'k2', value=0.170824040335249 +/- 0.0141, bounds=[0:10]>)])]"
      ]
     },
     "execution_count": 12,
     "metadata": {},
     "output_type": "execute_result"
    }
   ],
   "source": [
    "list_parameters = []\n",
    "for _ in range(10):\n",
    "    obs_data = makeSyntheticObservations(model, fitted_parameters, residuals_by_species, num_points, sim_time)\n",
    "    parameters = mf.fit(obs_data, model=model, parameters=unfitted_parameters)\n",
    "    list_parameters.append(parameters)\n",
    "list_parameters"
   ]
  },
  {
   "cell_type": "markdown",
   "metadata": {},
   "source": [
    "## Step 4: Compute the Mean and Standard Deviation of Parameters"
   ]
  },
  {
   "cell_type": "code",
   "execution_count": 13,
   "metadata": {},
   "outputs": [],
   "source": [
    "def makeParameterStatistics(list_parameters):\n",
    "    \"\"\"\n",
    "    Computes the mean and standard deviation of the parameters in a list of parameters.\n",
    "    :param list-lmfit.Parameters\n",
    "    :return dict: key is the parameter name; value is the tuple (mean, stddev)\n",
    "    \"\"\"\n",
    "    parameter_statistics = {}  # This is a dictionary that will have the parameter name as key, and mean, std as values\n",
    "    parameter_names = list(list_parameters[0].valuesdict().keys())\n",
    "    for name in parameter_names:\n",
    "        parameter_statistics[name] = []  # We will accumulate values in this list\n",
    "        for parameters in list_parameters:\n",
    "            parameter_statistics[name].append(parameters.valuesdict()[name])\n",
    "    # Calculate the statistics\n",
    "    for name in parameter_statistics.keys():\n",
    "        mean = np.mean(parameter_statistics[name])\n",
    "        std = np.std(parameter_statistics[name])\n",
    "        std = std/np.sqrt(len(list_parameters))  # adjustments for the standard deviation of the mean\n",
    "        parameter_statistics[name] = (mean, std)\n",
    "    return parameter_statistics"
   ]
  },
  {
   "cell_type": "code",
   "execution_count": 14,
   "metadata": {},
   "outputs": [
    {
     "data": {
      "text/plain": [
       "{'k1': (0.10150682138112377, 0.0016156757693142406),\n",
       " 'k2': (0.1824984281346716, 0.005938913293060693)}"
      ]
     },
     "execution_count": 14,
     "metadata": {},
     "output_type": "execute_result"
    }
   ],
   "source": [
    "# Here's the result\n",
    "makeParameterStatistics(list_parameters)"
   ]
  },
  {
   "cell_type": "markdown",
   "metadata": {},
   "source": [
    "## Step 5: Construct Confidence Intervals"
   ]
  }
 ],
 "metadata": {
  "kernelspec": {
   "display_name": "Python 3",
   "language": "python",
   "name": "python3"
  },
  "language_info": {
   "codemirror_mode": {
    "name": "ipython",
    "version": 3
   },
   "file_extension": ".py",
   "mimetype": "text/x-python",
   "name": "python",
   "nbconvert_exporter": "python",
   "pygments_lexer": "ipython3",
   "version": "3.6.4"
  }
 },
 "nbformat": 4,
 "nbformat_minor": 2
}
