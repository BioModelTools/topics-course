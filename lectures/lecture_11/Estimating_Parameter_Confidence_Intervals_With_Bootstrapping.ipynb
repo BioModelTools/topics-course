{
 "cells": [
  {
   "cell_type": "markdown",
   "metadata": {},
   "source": [
    "# Estimating Parameter Confidence Intervals With Bootstrapping\n",
    "This notebook demonstrates the calculations required to do confidence interval constructions.\n",
    "1. Construct a good model. This means checking that we get good $R^2$ values (or other model quality metrics) for each fold in a cross validation.\n",
    "1. Compute residuals for the good model.\n",
    "1. Construct a collection of parameter estimates. That is, for many repetitions\n",
    "   1. Construct new observations (by using randomly selected residuals)\n",
    "   1. Estimate parameter values\n",
    "1. Compute the mean and standard deviation of the parameter estimates\n",
    "1. Construct the confidence interval"
   ]
  },
  {
   "cell_type": "code",
   "execution_count": 1,
   "metadata": {},
   "outputs": [],
   "source": [
    "%matplotlib inline\n",
    "import tellurium as te\n",
    "import numpy as np\n",
    "import lmfit   # Fitting lib\n",
    "import math\n",
    "import random \n",
    "import matplotlib.pyplot as plt\n",
    "import model_fitting as mf"
   ]
  },
  {
   "cell_type": "code",
   "execution_count": 2,
   "metadata": {},
   "outputs": [
    {
     "data": {
      "text/html": [
       "<table><tr><th> name </th><th> value </th><th> initial value </th><th> min </th><th> max </th><th> vary </th></tr><tr><td> k1 </td><td>  1.00000000 </td><td> 1 </td><td>  0.00000000 </td><td>  10.0000000 </td><td> True </td></tr><tr><td> k2 </td><td>  1.00000000 </td><td> 1 </td><td>  0.00000000 </td><td>  10.0000000 </td><td> True </td></tr></table>"
      ],
      "text/plain": [
       "Parameters([('k1', <Parameter 'k1', 1, bounds=[0:10]>),\n",
       "            ('k2', <Parameter 'k2', 1, bounds=[0:10]>)])"
      ]
     },
     "execution_count": 2,
     "metadata": {},
     "output_type": "execute_result"
    }
   ],
   "source": [
    "# Model used in this example\n",
    "model = \"\"\"\n",
    "     A -> B; k1*A\n",
    "     B -> C; k2*B\n",
    "      \n",
    "     A = 5;\n",
    "     B = 0;\n",
    "     C = 0;\n",
    "     k1 = 0.1\n",
    "     k2 = 0.2\n",
    "\"\"\"\n",
    "unfitted_parameters = mf.makeParameters(constants=['k1', 'k2'])\n",
    "unfitted_parameters"
   ]
  },
  {
   "cell_type": "code",
   "execution_count": 3,
   "metadata": {},
   "outputs": [],
   "source": [
    "# Globals\n",
    "num_points = 10\n",
    "sim_time = 30\n",
    "nose_std = 0.5"
   ]
  },
  {
   "cell_type": "code",
   "execution_count": 4,
   "metadata": {},
   "outputs": [
    {
     "data": {
      "text/plain": [
       "       time,      [A],      [B],     [C]\n",
       " [[       0,  5.05862,        0,       0],\n",
       "  [ 3.33333,  3.94984,   1.7743, 1.18526],\n",
       "  [ 6.66667,  2.44081,   1.7099, 1.96265],\n",
       "  [      10,  2.17076, 0.992598, 1.44905],\n",
       "  [ 13.3333,  2.02888, 0.911974,  3.0343],\n",
       "  [ 16.6667, 0.774877, 0.838443, 3.40189],\n",
       "  [      20, 0.662598, 0.374512, 3.46384],\n",
       "  [ 23.3333, 0.650324,        0,  4.3442],\n",
       "  [ 26.6667,        0, 0.780101,  3.9221],\n",
       "  [      30, 0.506843,  0.29932, 5.38783]]"
      ]
     },
     "execution_count": 4,
     "metadata": {},
     "output_type": "execute_result"
    }
   ],
   "source": [
    "# Create synthetic observational data for this example. This is for demonstration purposes only.\n",
    "# In practice, you will have observational data from experiments.\n",
    "obs_data = mf.makeObservations(model=model, noise_std=nose_std, num_points=num_points, sim_time=sim_time)\n",
    "obs_data"
   ]
  },
  {
   "cell_type": "markdown",
   "metadata": {},
   "source": [
    "## Step 1: Construct a good model.\n",
    "In the following, we use the same model as the synthetic observations. Of course, in practice, you won't know the \"true\" model. You'll try many, and choose the best in terms of the quality metrics (e.g., $R^2$)."
   ]
  },
  {
   "cell_type": "code",
   "execution_count": 5,
   "metadata": {},
   "outputs": [
    {
     "data": {
      "text/plain": [
       "[0.9608181639684432, 0.9213467822481434, 0.8752391723959418]"
      ]
     },
     "execution_count": 5,
     "metadata": {},
     "output_type": "execute_result"
    }
   ],
   "source": [
    "# Do the cross validation for this model. the crossValidate function returns two values: list of\n",
    "# the parameters (for each fold) and RSQs for each fold.\n",
    "list_parameters, rsqs = mf.crossValidate(obs_data, model=model, parameters=unfitted_parameters, \n",
    "                                         num_points=num_points, \n",
    "                                         sim_time=sim_time,\n",
    "                                         num_folds=3)\n",
    "rsqs"
   ]
  },
  {
   "cell_type": "markdown",
   "metadata": {},
   "source": [
    "These are very good $R^2$ values. So, we accept the model.\n",
    "\n",
    "Next, we need to estimate the parameter values to use in our model. To this end, we do a fit on the full set of data."
   ]
  },
  {
   "cell_type": "code",
   "execution_count": 6,
   "metadata": {},
   "outputs": [
    {
     "data": {
      "text/html": [
       "<table><tr><th> name </th><th> value </th><th> standard error </th><th> relative error </th><th> initial value </th><th> min </th><th> max </th><th> vary </th></tr><tr><td> k1 </td><td>  0.09969554 </td><td>  0.00781533 </td><td> (7.84%) </td><td> 1 </td><td>  0.00000000 </td><td>  10.0000000 </td><td> True </td></tr><tr><td> k2 </td><td>  0.21261362 </td><td>  0.03237904 </td><td> (15.23%) </td><td> 1 </td><td>  0.00000000 </td><td>  10.0000000 </td><td> True </td></tr></table>"
      ],
      "text/plain": [
       "Parameters([('k1',\n",
       "             <Parameter 'k1', value=0.09969554455344032 +/- 0.00782, bounds=[0:10]>),\n",
       "            ('k2',\n",
       "             <Parameter 'k2', value=0.21261362352580693 +/- 0.0324, bounds=[0:10]>)])"
      ]
     },
     "execution_count": 6,
     "metadata": {},
     "output_type": "execute_result"
    }
   ],
   "source": [
    "fitted_parameters = mf.fit(obs_data, model=model, parameters=unfitted_parameters,\n",
    "                           num_points=num_points, sim_time=sim_time)\n",
    "fitted_parameters"
   ]
  },
  {
   "cell_type": "markdown",
   "metadata": {},
   "source": [
    "# Step 2: Compute the Residuals\n",
    "Residuals need to be calculated by chemical species since they may be in very different units."
   ]
  },
  {
   "cell_type": "code",
   "execution_count": 33,
   "metadata": {},
   "outputs": [],
   "source": [
    "def makeResidualsBySpecies(obs_data, model, parameters, num_points, sim_time):\n",
    "    \"\"\"\n",
    "    Calculate residuals for each chemical species.\n",
    "    :param np.array obs_data: matrix of observations; first column is time; number of rows is num_points\n",
    "    :param str model:\n",
    "    :param lmfit.Parameters parameters.\n",
    "    :param int num_points:\n",
    "    :param int sim_time:\n",
    "    :return np.array: matrix of residuals; columns are chemical species\n",
    "    \"\"\"\n",
    "    data = mf.runSimulation(model=model, parameters=parameters, num_points=num_points, sim_time=sim_time)\n",
    "    residuals = mf.calcSimulationResiduals(parameters, obs_data, num_points=num_points, sim_time=sim_time,\n",
    "                                          model=model)\n",
    "    # Reshape the residuals by species\n",
    "    rr = te.loada(model)\n",
    "    num_species = rr.getNumFloatingSpecies()\n",
    "    nrows = int(len(residuals) / num_species)\n",
    "    return np.reshape(residuals, (nrows, num_species))"
   ]
  },
  {
   "cell_type": "code",
   "execution_count": 8,
   "metadata": {},
   "outputs": [
    {
     "data": {
      "text/plain": [
       " [[  0.0586228,          0,         0],\n",
       "  [   0.363541,   0.781116,  0.764731],\n",
       "  [  -0.131496,   0.508612,  0.736237],\n",
       "  [   0.325759,  -0.109717, -0.603631],\n",
       "  [    0.70553, 0.00284522,  0.266773],\n",
       "  [  -0.174306,   0.128035,  0.061478],\n",
       "  [ -0.0182113,  -0.163748, -0.317088],\n",
       "  [   0.162007,  -0.400206,   0.23272],\n",
       "  [   -0.35025,   0.486091, -0.433644],\n",
       "  [   0.255624,  0.0850135,  0.853355]]"
      ]
     },
     "execution_count": 8,
     "metadata": {},
     "output_type": "execute_result"
    }
   ],
   "source": [
    "# Note that the residuals for the chemical species differ. Compare the residuals for A (1st col) with\n",
    "# the residuals for C (3rd col)\n",
    "residuals_matrix = makeResidualsBySpecies(obs_data, model, fitted_parameters, num_points, sim_time)\n",
    "residuals_matrix"
   ]
  },
  {
   "cell_type": "code",
   "execution_count": 9,
   "metadata": {},
   "outputs": [
    {
     "data": {
      "text/plain": [
       "0.38353289226237675"
      ]
     },
     "execution_count": 9,
     "metadata": {},
     "output_type": "execute_result"
    }
   ],
   "source": [
    "# The standard deviation of the residuals should be approximately the same as the standard deviation\n",
    "# of the random noise we injected in the construction of the observations.\n",
    "np.std(residuals_matrix)"
   ]
  },
  {
   "cell_type": "markdown",
   "metadata": {},
   "source": [
    "## Step 3: Construct a Collection of Parameter Estimates"
   ]
  },
  {
   "cell_type": "markdown",
   "metadata": {},
   "source": [
    "### Step 3a: Construct Synthetic Observations\n",
    "We define a function that constructs a set of observations from residuals and a model."
   ]
  },
  {
   "cell_type": "code",
   "execution_count": 10,
   "metadata": {},
   "outputs": [],
   "source": [
    "def makeSyntheticObservations(residual_matrix, model, parameters, num_points, sim_time):\n",
    "    \"\"\"\n",
    "    Constructs synthetic observations for the model.\n",
    "    :param np.array obs_data: matrix of residuals; columns are species; number of rows is num_points\n",
    "    :param str model: Antimony model\n",
    "    :param lmfit.Parameters parameters: parameters to use in the simulation\n",
    "    :param int num_points:\n",
    "    :param int sim_time:\n",
    "    :return np.array: matrix; first column \n",
    "    \"\"\"\n",
    "    model_data = mf.runSimulation(model=model, parameters=fitted_parameters, \n",
    "                            num_points=num_points, sim_time=sim_time)\n",
    "    data = model_data.copy()\n",
    "    nrows, ncols = np.shape(data)\n",
    "    for icol in range(1, ncols):  # Avoid the time column\n",
    "        indices = np.random.randint(0, nrows, nrows)\n",
    "        for irow in range(nrows):\n",
    "            data[irow, icol] = max(data[irow, icol] + residuals_matrix[indices[irow], icol-1], 0)\n",
    "    return data"
   ]
  },
  {
   "cell_type": "code",
   "execution_count": 11,
   "metadata": {},
   "outputs": [
    {
     "data": {
      "text/plain": [
       " [[       0,  5.36354, 0.00284522,        0],\n",
       "  [ 3.33333,   3.7483,   0.592975, 0.482003],\n",
       "  [ 6.66667,  2.82793,   0.801077,  1.96265],\n",
       "  [      10,  2.00701,   0.992598,  1.44905],\n",
       "  [ 13.3333,  1.64911,   0.745381,  2.76753],\n",
       "  [ 16.6667, 0.930971,   0.310201,  4.07665],\n",
       "  [      20, 0.739432,   0.666294,  4.01365],\n",
       "  [ 23.3333, 0.546939,   0.528241,  3.50785],\n",
       "  [ 26.6667, 0.605873,   0.379023,  4.03865],\n",
       "  [      30,        0,   0.104589,  5.27071]]"
      ]
     },
     "execution_count": 11,
     "metadata": {},
     "output_type": "execute_result"
    }
   ],
   "source": [
    "# Try running this several times to see how values change.\n",
    "makeSyntheticObservations(residuals_matrix, model, fitted_parameters, num_points, sim_time)"
   ]
  },
  {
   "cell_type": "markdown",
   "metadata": {},
   "source": [
    "### Step 3b: Repeatedly estimate parameter values"
   ]
  },
  {
   "cell_type": "code",
   "execution_count": 12,
   "metadata": {},
   "outputs": [],
   "source": [
    "def makeParametersList(model, fitted_parameters, residuals_matrix, num_points, sim_time):\n",
    "    list_parameters = []\n",
    "    for _ in range(10):\n",
    "        obs_data = makeSyntheticObservations(residuals_matrix, model, fitted_parameters, num_points, sim_time)\n",
    "        parameters = mf.fit(obs_data, model=model, parameters=unfitted_parameters)\n",
    "        list_parameters.append(parameters)\n",
    "    return list_parameters"
   ]
  },
  {
   "cell_type": "code",
   "execution_count": 13,
   "metadata": {},
   "outputs": [
    {
     "data": {
      "text/plain": [
       "[Parameters([('k1',\n",
       "              <Parameter 'k1', value=0.10193296517802208 +/- 0.00751, bounds=[0:10]>),\n",
       "             ('k2',\n",
       "              <Parameter 'k2', value=0.23918098212748373 +/- 0.0369, bounds=[0:10]>)]),\n",
       " Parameters([('k1',\n",
       "              <Parameter 'k1', value=0.10392072222272841 +/- 0.00814, bounds=[0:10]>),\n",
       "             ('k2',\n",
       "              <Parameter 'k2', value=0.26971766220705573 +/- 0.048, bounds=[0:10]>)]),\n",
       " Parameters([('k1',\n",
       "              <Parameter 'k1', value=0.11078347518868714 +/- 0.00967, bounds=[0:10]>),\n",
       "             ('k2',\n",
       "              <Parameter 'k2', value=0.22069361482518757 +/- 0.0359, bounds=[0:10]>)]),\n",
       " Parameters([('k1',\n",
       "              <Parameter 'k1', value=0.1027558132070211 +/- 0.00771, bounds=[0:10]>),\n",
       "             ('k2',\n",
       "              <Parameter 'k2', value=0.20403510089068988 +/- 0.0285, bounds=[0:10]>)]),\n",
       " Parameters([('k1',\n",
       "              <Parameter 'k1', value=0.10381358721663736 +/- 0.008, bounds=[0:10]>),\n",
       "             ('k2',\n",
       "              <Parameter 'k2', value=0.19578503109950796 +/- 0.0268, bounds=[0:10]>)]),\n",
       " Parameters([('k1',\n",
       "              <Parameter 'k1', value=0.09571081427728112 +/- 0.00677, bounds=[0:10]>),\n",
       "             ('k2',\n",
       "              <Parameter 'k2', value=0.19091837362519348 +/- 0.0249, bounds=[0:10]>)]),\n",
       " Parameters([('k1',\n",
       "              <Parameter 'k1', value=0.11016296437687201 +/- 0.00968, bounds=[0:10]>),\n",
       "             ('k2',\n",
       "              <Parameter 'k2', value=0.2126531718095842 +/- 0.0339, bounds=[0:10]>)]),\n",
       " Parameters([('k1',\n",
       "              <Parameter 'k1', value=0.10479921545687387 +/- 0.00638, bounds=[0:10]>),\n",
       "             ('k2',\n",
       "              <Parameter 'k2', value=0.2344280029784357 +/- 0.0289, bounds=[0:10]>)]),\n",
       " Parameters([('k1',\n",
       "              <Parameter 'k1', value=0.1053521912959604 +/- 0.0087, bounds=[0:10]>),\n",
       "             ('k2',\n",
       "              <Parameter 'k2', value=0.1901791463019703 +/- 0.0271, bounds=[0:10]>)]),\n",
       " Parameters([('k1',\n",
       "              <Parameter 'k1', value=0.09556697985679208 +/- 0.0083, bounds=[0:10]>),\n",
       "             ('k2',\n",
       "              <Parameter 'k2', value=0.24026081163338264 +/- 0.0451, bounds=[0:10]>)])]"
      ]
     },
     "execution_count": 13,
     "metadata": {},
     "output_type": "execute_result"
    }
   ],
   "source": [
    "list_parameters = makeParametersList(model, fitted_parameters, residuals_matrix, num_points, sim_time)\n",
    "list_parameters"
   ]
  },
  {
   "cell_type": "markdown",
   "metadata": {},
   "source": [
    "## Step 4: Compute the Mean and Standard Deviation of Parameters"
   ]
  },
  {
   "cell_type": "code",
   "execution_count": 14,
   "metadata": {},
   "outputs": [],
   "source": [
    "def makeParameterStatistics(list_parameters):\n",
    "    \"\"\"\n",
    "    Computes the mean and standard deviation of the parameters in a list of parameters.\n",
    "    :param list-lmfit.Parameters\n",
    "    :return dict: key is the parameter name; value is the tuple (mean, stddev)\n",
    "    \"\"\"\n",
    "    parameter_statistics = {}  # This is a dictionary that will have the parameter name as key, and mean, std as values\n",
    "    parameter_names = list(list_parameters[0].valuesdict().keys())\n",
    "    for name in parameter_names:\n",
    "        parameter_statistics[name] = []  # We will accumulate values in this list\n",
    "        for parameters in list_parameters:\n",
    "            parameter_statistics[name].append(parameters.valuesdict()[name])\n",
    "    # Calculate the statistics\n",
    "    for name in parameter_statistics.keys():\n",
    "        mean = np.mean(parameter_statistics[name])\n",
    "        std = np.std(parameter_statistics[name])\n",
    "        std = std/np.sqrt(len(list_parameters))  # adjustments for the standard deviation of the mean\n",
    "        parameter_statistics[name] = (mean, std)\n",
    "    return parameter_statistics"
   ]
  },
  {
   "cell_type": "code",
   "execution_count": 15,
   "metadata": {},
   "outputs": [
    {
     "data": {
      "text/plain": [
       "{'k1': (0.10347987282768756, 0.0015147528067115995),\n",
       " 'k2': (0.21978518974984915, 0.007803003492600655)}"
      ]
     },
     "execution_count": 15,
     "metadata": {},
     "output_type": "execute_result"
    }
   ],
   "source": [
    "# Here's the result\n",
    "makeParameterStatistics(list_parameters)"
   ]
  },
  {
   "cell_type": "markdown",
   "metadata": {},
   "source": [
    "## Step 5: Construct Confidence Intervals"
   ]
  },
  {
   "cell_type": "markdown",
   "metadata": {},
   "source": [
    "# Exercises"
   ]
  },
  {
   "cell_type": "markdown",
   "metadata": {},
   "source": [
    "## Exercise 1: Calculate confidence intervals.\n",
    "1. Calculate the 95% confidence interval for 'k1' and 'k2' above.\n",
    "1. Write a function that calculates the 95% confidence interval. Generalize it to any percentile."
   ]
  },
  {
   "cell_type": "markdown",
   "metadata": {},
   "source": [
    "## Exercise 2: Analyze a new model.\n",
    "\n",
    "TRUE MODEL:\n",
    "\n",
    "- A -> B\n",
    "- A -> C\n",
    "- B + C -> D\n",
    "\n",
    "All kinetics are mass action. The kinetics constants are (in order of the reactions): 0.5, 0.5, 1.0. The initial concentration of A is 5. Consider a time course of duration 30 with 20 points.\n",
    "\n",
    "\n",
    "1. Generate synthetic observations using this model using a normally distributed noise with a standard deviation\n",
    "of 0.1.\n",
    "1. Using the true model (the one above), find the $R^2$ values in a cross validation with 4 folds.\n",
    "1. Construct confidence intervals for the parameters."
   ]
  }
 ],
 "metadata": {
  "kernelspec": {
   "display_name": "Python 3",
   "language": "python",
   "name": "python3"
  },
  "language_info": {
   "codemirror_mode": {
    "name": "ipython",
    "version": 3
   },
   "file_extension": ".py",
   "mimetype": "text/x-python",
   "name": "python",
   "nbconvert_exporter": "python",
   "pygments_lexer": "ipython3",
   "version": "3.6.4"
  }
 },
 "nbformat": 4,
 "nbformat_minor": 2
}
