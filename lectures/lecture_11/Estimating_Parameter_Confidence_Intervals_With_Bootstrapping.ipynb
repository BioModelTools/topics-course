{
 "cells": [
  {
   "cell_type": "markdown",
   "metadata": {},
   "source": [
    "# Estimating Parameter Confidence Intervals With Bootstrapping\n",
    "This notebook demonstrates the calculations required to do confidence interval constructions.\n",
    "1. Construct a good model. This means checking that we get good $R^2$ values (or other model quality metrics) for each fold in a cross validation.\n",
    "1. Compute residuals for the good model.\n",
    "1. Construct a collection of parameter estimates. That is, for many repetitions\n",
    "   1. Construct new observations (by using randomly selected residuals)\n",
    "   1. Estimate parameter values\n",
    "1. Compute the mean and standard deviation of the parameter estimates\n",
    "1. Construct the confidence interval"
   ]
  },
  {
   "cell_type": "code",
   "execution_count": 1,
   "metadata": {},
   "outputs": [],
   "source": [
    "%matplotlib inline\n",
    "import tellurium as te\n",
    "import numpy as np\n",
    "import lmfit   # Fitting lib\n",
    "import math\n",
    "import random \n",
    "import matplotlib.pyplot as plt\n",
    "import model_fitting as mf"
   ]
  },
  {
   "cell_type": "code",
   "execution_count": 2,
   "metadata": {},
   "outputs": [],
   "source": [
    "# Model used in this example\n",
    "model = \"\"\"\n",
    "     A -> B; k1*A\n",
    "     B -> C; k2*B\n",
    "      \n",
    "     A = 5;\n",
    "     B = 0;\n",
    "     C = 0;\n",
    "     k1 = 0.1\n",
    "     k2 = 0.2\n",
    "\"\"\"\n",
    "parameters = mf.makeParameters(constants=['k1', 'k2'])"
   ]
  },
  {
   "cell_type": "code",
   "execution_count": 3,
   "metadata": {},
   "outputs": [],
   "source": [
    "# Globals\n",
    "num_points = 15\n",
    "sim_time = 30\n",
    "nose_std = 0.5"
   ]
  },
  {
   "cell_type": "code",
   "execution_count": 4,
   "metadata": {},
   "outputs": [],
   "source": [
    "# Create synthetic observational data for this example. This is for demonstration purposes only.\n",
    "# In practice, you will have observational data from experiments.\n",
    "obs_data = mf.makeObservations(model=model, noise_std=nose_std, num_points=num_points, sim_time=sim_time)"
   ]
  },
  {
   "cell_type": "markdown",
   "metadata": {},
   "source": [
    "## Step 1: Construct a good model.\n",
    "In the following, we use the same model as the synthetic observations. Of course, in practice, you won't know the \"true\" model. You'll try many, and choose the best in terms of the quality metrics (e.g., $R^2$)."
   ]
  },
  {
   "cell_type": "code",
   "execution_count": 5,
   "metadata": {},
   "outputs": [
    {
     "data": {
      "text/plain": [
       "[0.937396238214605, 0.9747393871703416, 0.9385443584234233]"
      ]
     },
     "execution_count": 5,
     "metadata": {},
     "output_type": "execute_result"
    }
   ],
   "source": [
    "# Do the cross validation for this model. the crossValidate function returns two values: list of\n",
    "# the parameters (for each fold) and RSQs for each fold.\n",
    "list_parameters, rsqs = mf.crossValidate(obs_data, model=model, parameters=parameters, num_points=num_points, \n",
    "                                         sim_time=sim_time,\n",
    "                                         num_folds=3)\n",
    "rsqs"
   ]
  },
  {
   "cell_type": "markdown",
   "metadata": {},
   "source": [
    "These are very good $R^2$ values. So, we accept the model.\n",
    "\n",
    "Next, we need to estimate the parameter values to use in our model. To this end, we do a fit on the full set of data."
   ]
  },
  {
   "cell_type": "code",
   "execution_count": 6,
   "metadata": {},
   "outputs": [
    {
     "data": {
      "text/html": [
       "<table><tr><th> name </th><th> value </th><th> standard error </th><th> relative error </th><th> initial value </th><th> min </th><th> max </th><th> vary </th></tr><tr><td> k1 </td><td>  0.10605294 </td><td>  0.00548068 </td><td> (5.17%) </td><td> 1 </td><td>  0.00000000 </td><td>  10.0000000 </td><td> True </td></tr><tr><td> k2 </td><td>  0.17615774 </td><td>  0.01480438 </td><td> (8.40%) </td><td> 1 </td><td>  0.00000000 </td><td>  10.0000000 </td><td> True </td></tr></table>"
      ],
      "text/plain": [
       "Parameters([('k1',\n",
       "             <Parameter 'k1', value=0.10605294378908281 +/- 0.00548, bounds=[0:10]>),\n",
       "            ('k2',\n",
       "             <Parameter 'k2', value=0.17615773720053574 +/- 0.0148, bounds=[0:10]>)])"
      ]
     },
     "execution_count": 6,
     "metadata": {},
     "output_type": "execute_result"
    }
   ],
   "source": [
    "fitted_parameters = mf.fit(obs_data, model=model, parameters=parameters, num_points=num_points, sim_time=sim_time)\n",
    "fitted_parameters"
   ]
  },
  {
   "cell_type": "markdown",
   "metadata": {},
   "source": [
    "# Step 2: Compute the Residuals"
   ]
  },
  {
   "cell_type": "code",
   "execution_count": 7,
   "metadata": {},
   "outputs": [
    {
     "data": {
      "text/plain": [
       "[ 0.85746807  0.          0.          0.42447258 -0.09008738  0.01017669\n",
       " -0.3473182  -0.35585509  0.0272486  -0.52173537  0.03422104  0.04078279\n",
       "  0.27014028 -0.29779526  0.04786396  0.99524236  0.00203976  0.04888016\n",
       "  0.09200861  0.76294564  0.04541438 -0.06911266  0.15713272  0.03919944\n",
       "  0.0535522  -0.22274096  0.03170087 -0.28889839 -0.62775428  0.02399323\n",
       " -0.51523923  0.32630889  0.0167778  -0.4104997   0.19218073  0.01045098\n",
       "  0.01620198  0.54235451  0.00518566 -0.26056776 -0.2375908   0.00100384\n",
       "  0.2752238  -0.20179099 -0.0021656 ]"
      ]
     },
     "execution_count": 7,
     "metadata": {},
     "output_type": "execute_result"
    }
   ],
   "source": [
    "data = mf.runSimulation(model=model, parameters=fitted_parameters, num_points=num_points, sim_time=sim_time)\n",
    "residuals = mf.calcSimulationResiduals(fitted_parameters, obs_data, num_points=num_points, sim_time=sim_time)\n",
    "residuals"
   ]
  },
  {
   "cell_type": "code",
   "execution_count": 9,
   "metadata": {},
   "outputs": [
    {
     "data": {
      "text/plain": [
       "0.3284225196989527"
      ]
     },
     "execution_count": 9,
     "metadata": {},
     "output_type": "execute_result"
    }
   ],
   "source": [
    "# The standard deviation of the residuals should be approximately the same as the standard deviation\n",
    "# of the random noise we injected in the construction of the observations.\n",
    "np.std(residuals)"
   ]
  },
  {
   "cell_type": "markdown",
   "metadata": {},
   "source": [
    "## Step 3: Construct New Observations"
   ]
  }
 ],
 "metadata": {
  "kernelspec": {
   "display_name": "Python 3",
   "language": "python",
   "name": "python3"
  },
  "language_info": {
   "codemirror_mode": {
    "name": "ipython",
    "version": 3
   },
   "file_extension": ".py",
   "mimetype": "text/x-python",
   "name": "python",
   "nbconvert_exporter": "python",
   "pygments_lexer": "ipython3",
   "version": "3.6.4"
  }
 },
 "nbformat": 4,
 "nbformat_minor": 2
}
