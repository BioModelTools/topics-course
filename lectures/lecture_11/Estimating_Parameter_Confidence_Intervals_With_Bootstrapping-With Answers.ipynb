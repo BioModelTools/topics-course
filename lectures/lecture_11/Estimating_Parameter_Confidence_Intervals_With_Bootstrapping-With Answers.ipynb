{
 "cells": [
  {
   "cell_type": "markdown",
   "metadata": {},
   "source": [
    "# Estimating Parameter Confidence Intervals With Bootstrapping\n",
    "This notebook demonstrates the calculations required to do confidence interval constructions.\n",
    "1. Construct a good model. This means checking that we get good $R^2$ values (or other model quality metrics) for each fold in a cross validation.\n",
    "1. Compute residuals for the good model.\n",
    "1. Construct a collection of parameter estimates. That is, for many repetitions\n",
    "   1. Construct new observations (by using randomly selected residuals)\n",
    "   1. Estimate parameter values\n",
    "1. Compute the mean and standard deviation of the parameter estimates\n",
    "1. Construct the confidence interval"
   ]
  },
  {
   "cell_type": "code",
   "execution_count": 1,
   "metadata": {},
   "outputs": [],
   "source": [
    "%matplotlib inline\n",
    "import tellurium as te\n",
    "import numpy as np\n",
    "import lmfit   # Fitting lib\n",
    "import math\n",
    "import random \n",
    "import matplotlib.pyplot as plt\n",
    "import model_fitting as mf"
   ]
  },
  {
   "cell_type": "code",
   "execution_count": 2,
   "metadata": {},
   "outputs": [
    {
     "data": {
      "text/html": [
       "<table><tr><th> name </th><th> value </th><th> initial value </th><th> min </th><th> max </th><th> vary </th></tr><tr><td> k1 </td><td>  1.00000000 </td><td> 1 </td><td>  0.00000000 </td><td>  10.0000000 </td><td> True </td></tr><tr><td> k2 </td><td>  1.00000000 </td><td> 1 </td><td>  0.00000000 </td><td>  10.0000000 </td><td> True </td></tr></table>"
      ],
      "text/plain": [
       "Parameters([('k1', <Parameter 'k1', 1, bounds=[0:10]>),\n",
       "            ('k2', <Parameter 'k2', 1, bounds=[0:10]>)])"
      ]
     },
     "execution_count": 2,
     "metadata": {},
     "output_type": "execute_result"
    }
   ],
   "source": [
    "# Model used in this example\n",
    "model = \"\"\"\n",
    "     A -> B; k1*A\n",
    "     B -> C; k2*B\n",
    "      \n",
    "     A = 5;\n",
    "     B = 0;\n",
    "     C = 0;\n",
    "     k1 = 0.1\n",
    "     k2 = 0.2\n",
    "\"\"\"\n",
    "unfitted_parameters = mf.makeParameters(constants=['k1', 'k2'])\n",
    "unfitted_parameters"
   ]
  },
  {
   "cell_type": "code",
   "execution_count": 3,
   "metadata": {},
   "outputs": [],
   "source": [
    "# Globals\n",
    "num_points = 10\n",
    "sim_time = 30\n",
    "nose_std = 0.5"
   ]
  },
  {
   "cell_type": "code",
   "execution_count": 4,
   "metadata": {},
   "outputs": [
    {
     "data": {
      "text/plain": [
       "       time,      [A],      [B],     [C]\n",
       " [[       0,  5.05862,        0,       0],\n",
       "  [ 3.33333,  3.94984,   1.7743, 1.18526],\n",
       "  [ 6.66667,  2.44081,   1.7099, 1.96265],\n",
       "  [      10,  2.17076, 0.992598, 1.44905],\n",
       "  [ 13.3333,  2.02888, 0.911974,  3.0343],\n",
       "  [ 16.6667, 0.774877, 0.838443, 3.40189],\n",
       "  [      20, 0.662598, 0.374512, 3.46384],\n",
       "  [ 23.3333, 0.650324,        0,  4.3442],\n",
       "  [ 26.6667,        0, 0.780101,  3.9221],\n",
       "  [      30, 0.506843,  0.29932, 5.38783]]"
      ]
     },
     "execution_count": 4,
     "metadata": {},
     "output_type": "execute_result"
    }
   ],
   "source": [
    "# Create synthetic observational data for this example. This is for demonstration purposes only.\n",
    "# In practice, you will have observational data from experiments.\n",
    "obs_data = mf.makeObservations(model=model, noise_std=nose_std, num_points=num_points, sim_time=sim_time)\n",
    "obs_data"
   ]
  },
  {
   "cell_type": "markdown",
   "metadata": {},
   "source": [
    "## Step 1: Construct a good model.\n",
    "In the following, we use the same model as the synthetic observations. Of course, in practice, you won't know the \"true\" model. You'll try many, and choose the best in terms of the quality metrics (e.g., $R^2$)."
   ]
  },
  {
   "cell_type": "code",
   "execution_count": 5,
   "metadata": {},
   "outputs": [
    {
     "data": {
      "text/plain": [
       "[0.9608181639684432, 0.9213467822481434, 0.8752391723959418]"
      ]
     },
     "execution_count": 5,
     "metadata": {},
     "output_type": "execute_result"
    }
   ],
   "source": [
    "# Do the cross validation for this model. the crossValidate function returns two values: list of\n",
    "# the parameters (for each fold) and RSQs for each fold.\n",
    "list_parameters, rsqs = mf.crossValidate(obs_data, model=model, parameters=unfitted_parameters, \n",
    "                                         num_points=num_points, \n",
    "                                         sim_time=sim_time,\n",
    "                                         num_folds=3)\n",
    "rsqs"
   ]
  },
  {
   "cell_type": "markdown",
   "metadata": {},
   "source": [
    "These are very good $R^2$ values. So, we accept the model.\n",
    "\n",
    "Next, we need to estimate the parameter values to use in our model. To this end, we do a fit on the full set of data."
   ]
  },
  {
   "cell_type": "code",
   "execution_count": 6,
   "metadata": {},
   "outputs": [
    {
     "data": {
      "text/html": [
       "<table><tr><th> name </th><th> value </th><th> standard error </th><th> relative error </th><th> initial value </th><th> min </th><th> max </th><th> vary </th></tr><tr><td> k1 </td><td>  0.09969554 </td><td>  0.00781533 </td><td> (7.84%) </td><td> 1 </td><td>  0.00000000 </td><td>  10.0000000 </td><td> True </td></tr><tr><td> k2 </td><td>  0.21261362 </td><td>  0.03237904 </td><td> (15.23%) </td><td> 1 </td><td>  0.00000000 </td><td>  10.0000000 </td><td> True </td></tr></table>"
      ],
      "text/plain": [
       "Parameters([('k1',\n",
       "             <Parameter 'k1', value=0.09969554455344032 +/- 0.00782, bounds=[0:10]>),\n",
       "            ('k2',\n",
       "             <Parameter 'k2', value=0.21261362352580693 +/- 0.0324, bounds=[0:10]>)])"
      ]
     },
     "execution_count": 6,
     "metadata": {},
     "output_type": "execute_result"
    }
   ],
   "source": [
    "fitted_parameters = mf.fit(obs_data, model=model, parameters=unfitted_parameters,\n",
    "                           num_points=num_points, sim_time=sim_time)\n",
    "fitted_parameters"
   ]
  },
  {
   "cell_type": "markdown",
   "metadata": {},
   "source": [
    "# Step 2: Compute the Residuals\n",
    "Residuals need to be calculated by chemical species since they may be in very different units."
   ]
  },
  {
   "cell_type": "code",
   "execution_count": 33,
   "metadata": {},
   "outputs": [],
   "source": [
    "def makeResidualsBySpecies(obs_data, model, parameters, num_points, sim_time):\n",
    "    \"\"\"\n",
    "    Calculate residuals for each chemical species.\n",
    "    :param np.array obs_data: matrix of observations; first column is time; number of rows is num_points\n",
    "    :param str model:\n",
    "    :param lmfit.Parameters parameters.\n",
    "    :param int num_points:\n",
    "    :param int sim_time:\n",
    "    :return np.array: matrix of residuals; columns are chemical species\n",
    "    \"\"\"\n",
    "    data = mf.runSimulation(model=model, parameters=parameters, num_points=num_points, sim_time=sim_time)\n",
    "    residuals = mf.calcSimulationResiduals(parameters, obs_data, num_points=num_points, sim_time=sim_time,\n",
    "                                          model=model)\n",
    "    # Reshape the residuals by species\n",
    "    rr = te.loada(model)\n",
    "    num_species = rr.getNumFloatingSpecies()\n",
    "    nrows = int(len(residuals) / num_species)\n",
    "    return np.reshape(residuals, (nrows, num_species))"
   ]
  },
  {
   "cell_type": "code",
   "execution_count": 8,
   "metadata": {},
   "outputs": [
    {
     "data": {
      "text/plain": [
       " [[  0.0586228,          0,         0],\n",
       "  [   0.363541,   0.781116,  0.764731],\n",
       "  [  -0.131496,   0.508612,  0.736237],\n",
       "  [   0.325759,  -0.109717, -0.603631],\n",
       "  [    0.70553, 0.00284522,  0.266773],\n",
       "  [  -0.174306,   0.128035,  0.061478],\n",
       "  [ -0.0182113,  -0.163748, -0.317088],\n",
       "  [   0.162007,  -0.400206,   0.23272],\n",
       "  [   -0.35025,   0.486091, -0.433644],\n",
       "  [   0.255624,  0.0850135,  0.853355]]"
      ]
     },
     "execution_count": 8,
     "metadata": {},
     "output_type": "execute_result"
    }
   ],
   "source": [
    "# Note that the residuals for the chemical species differ. Compare the residuals for A (1st col) with\n",
    "# the residuals for C (3rd col)\n",
    "residuals_matrix = makeResidualsBySpecies(obs_data, model, fitted_parameters, num_points, sim_time)\n",
    "residuals_matrix"
   ]
  },
  {
   "cell_type": "code",
   "execution_count": 9,
   "metadata": {},
   "outputs": [
    {
     "data": {
      "text/plain": [
       "0.38353289226237675"
      ]
     },
     "execution_count": 9,
     "metadata": {},
     "output_type": "execute_result"
    }
   ],
   "source": [
    "# The standard deviation of the residuals should be approximately the same as the standard deviation\n",
    "# of the random noise we injected in the construction of the observations.\n",
    "np.std(residuals_matrix)"
   ]
  },
  {
   "cell_type": "markdown",
   "metadata": {},
   "source": [
    "## Step 3: Construct a Collection of Parameter Estimates"
   ]
  },
  {
   "cell_type": "markdown",
   "metadata": {},
   "source": [
    "### Step 3a: Construct Synthetic Observations\n",
    "We define a function that constructs a set of observations from residuals and a model."
   ]
  },
  {
   "cell_type": "code",
   "execution_count": 10,
   "metadata": {},
   "outputs": [],
   "source": [
    "def makeSyntheticObservations(residual_matrix, model, parameters, num_points, sim_time):\n",
    "    \"\"\"\n",
    "    Constructs synthetic observations for the model.\n",
    "    :param np.array obs_data: matrix of residuals; columns are species; number of rows is num_points\n",
    "    :param str model: Antimony model\n",
    "    :param lmfit.Parameters parameters: parameters to use in the simulation\n",
    "    :param int num_points:\n",
    "    :param int sim_time:\n",
    "    :return np.array: matrix; first column \n",
    "    \"\"\"\n",
    "    model_data = mf.runSimulation(model=model, parameters=fitted_parameters, \n",
    "                            num_points=num_points, sim_time=sim_time)\n",
    "    data = model_data.copy()\n",
    "    nrows, ncols = np.shape(data)\n",
    "    for icol in range(1, ncols):  # Avoid the time column\n",
    "        indices = np.random.randint(0, nrows, nrows)\n",
    "        for irow in range(nrows):\n",
    "            data[irow, icol] = max(data[irow, icol] + residuals_matrix[indices[irow], icol-1], 0)\n",
    "    return data"
   ]
  },
  {
   "cell_type": "code",
   "execution_count": 11,
   "metadata": {},
   "outputs": [
    {
     "data": {
      "text/plain": [
       " [[       0,  5.36354, 0.00284522,        0],\n",
       "  [ 3.33333,   3.7483,   0.592975, 0.482003],\n",
       "  [ 6.66667,  2.82793,   0.801077,  1.96265],\n",
       "  [      10,  2.00701,   0.992598,  1.44905],\n",
       "  [ 13.3333,  1.64911,   0.745381,  2.76753],\n",
       "  [ 16.6667, 0.930971,   0.310201,  4.07665],\n",
       "  [      20, 0.739432,   0.666294,  4.01365],\n",
       "  [ 23.3333, 0.546939,   0.528241,  3.50785],\n",
       "  [ 26.6667, 0.605873,   0.379023,  4.03865],\n",
       "  [      30,        0,   0.104589,  5.27071]]"
      ]
     },
     "execution_count": 11,
     "metadata": {},
     "output_type": "execute_result"
    }
   ],
   "source": [
    "# Try running this several times to see how values change.\n",
    "makeSyntheticObservations(residuals_matrix, model, fitted_parameters, num_points, sim_time)"
   ]
  },
  {
   "cell_type": "markdown",
   "metadata": {},
   "source": [
    "### Step 3b: Repeatedly estimate parameter values"
   ]
  },
  {
   "cell_type": "code",
   "execution_count": 12,
   "metadata": {},
   "outputs": [],
   "source": [
    "def makeParametersList(model, fitted_parameters, residuals_matrix, num_points, sim_time):\n",
    "    list_parameters = []\n",
    "    for _ in range(10):\n",
    "        obs_data = makeSyntheticObservations(residuals_matrix, model, fitted_parameters, num_points, sim_time)\n",
    "        parameters = mf.fit(obs_data, model=model, parameters=unfitted_parameters)\n",
    "        list_parameters.append(parameters)\n",
    "    return list_parameters"
   ]
  },
  {
   "cell_type": "code",
   "execution_count": 13,
   "metadata": {},
   "outputs": [
    {
     "data": {
      "text/plain": [
       "[Parameters([('k1',\n",
       "              <Parameter 'k1', value=0.10193296517802208 +/- 0.00751, bounds=[0:10]>),\n",
       "             ('k2',\n",
       "              <Parameter 'k2', value=0.23918098212748373 +/- 0.0369, bounds=[0:10]>)]),\n",
       " Parameters([('k1',\n",
       "              <Parameter 'k1', value=0.10392072222272841 +/- 0.00814, bounds=[0:10]>),\n",
       "             ('k2',\n",
       "              <Parameter 'k2', value=0.26971766220705573 +/- 0.048, bounds=[0:10]>)]),\n",
       " Parameters([('k1',\n",
       "              <Parameter 'k1', value=0.11078347518868714 +/- 0.00967, bounds=[0:10]>),\n",
       "             ('k2',\n",
       "              <Parameter 'k2', value=0.22069361482518757 +/- 0.0359, bounds=[0:10]>)]),\n",
       " Parameters([('k1',\n",
       "              <Parameter 'k1', value=0.1027558132070211 +/- 0.00771, bounds=[0:10]>),\n",
       "             ('k2',\n",
       "              <Parameter 'k2', value=0.20403510089068988 +/- 0.0285, bounds=[0:10]>)]),\n",
       " Parameters([('k1',\n",
       "              <Parameter 'k1', value=0.10381358721663736 +/- 0.008, bounds=[0:10]>),\n",
       "             ('k2',\n",
       "              <Parameter 'k2', value=0.19578503109950796 +/- 0.0268, bounds=[0:10]>)]),\n",
       " Parameters([('k1',\n",
       "              <Parameter 'k1', value=0.09571081427728112 +/- 0.00677, bounds=[0:10]>),\n",
       "             ('k2',\n",
       "              <Parameter 'k2', value=0.19091837362519348 +/- 0.0249, bounds=[0:10]>)]),\n",
       " Parameters([('k1',\n",
       "              <Parameter 'k1', value=0.11016296437687201 +/- 0.00968, bounds=[0:10]>),\n",
       "             ('k2',\n",
       "              <Parameter 'k2', value=0.2126531718095842 +/- 0.0339, bounds=[0:10]>)]),\n",
       " Parameters([('k1',\n",
       "              <Parameter 'k1', value=0.10479921545687387 +/- 0.00638, bounds=[0:10]>),\n",
       "             ('k2',\n",
       "              <Parameter 'k2', value=0.2344280029784357 +/- 0.0289, bounds=[0:10]>)]),\n",
       " Parameters([('k1',\n",
       "              <Parameter 'k1', value=0.1053521912959604 +/- 0.0087, bounds=[0:10]>),\n",
       "             ('k2',\n",
       "              <Parameter 'k2', value=0.1901791463019703 +/- 0.0271, bounds=[0:10]>)]),\n",
       " Parameters([('k1',\n",
       "              <Parameter 'k1', value=0.09556697985679208 +/- 0.0083, bounds=[0:10]>),\n",
       "             ('k2',\n",
       "              <Parameter 'k2', value=0.24026081163338264 +/- 0.0451, bounds=[0:10]>)])]"
      ]
     },
     "execution_count": 13,
     "metadata": {},
     "output_type": "execute_result"
    }
   ],
   "source": [
    "list_parameters = makeParametersList(model, fitted_parameters, residuals_matrix, num_points, sim_time)\n",
    "list_parameters"
   ]
  },
  {
   "cell_type": "markdown",
   "metadata": {},
   "source": [
    "## Step 4: Compute the Mean and Standard Deviation of Parameters"
   ]
  },
  {
   "cell_type": "code",
   "execution_count": 14,
   "metadata": {},
   "outputs": [],
   "source": [
    "def makeParameterStatistics(list_parameters):\n",
    "    \"\"\"\n",
    "    Computes the mean and standard deviation of the parameters in a list of parameters.\n",
    "    :param list-lmfit.Parameters\n",
    "    :return dict: key is the parameter name; value is the tuple (mean, stddev)\n",
    "    \"\"\"\n",
    "    parameter_statistics = {}  # This is a dictionary that will have the parameter name as key, and mean, std as values\n",
    "    parameter_names = list(list_parameters[0].valuesdict().keys())\n",
    "    for name in parameter_names:\n",
    "        parameter_statistics[name] = []  # We will accumulate values in this list\n",
    "        for parameters in list_parameters:\n",
    "            parameter_statistics[name].append(parameters.valuesdict()[name])\n",
    "    # Calculate the statistics\n",
    "    for name in parameter_statistics.keys():\n",
    "        mean = np.mean(parameter_statistics[name])\n",
    "        std = np.std(parameter_statistics[name])\n",
    "        std = std/np.sqrt(len(list_parameters))  # adjustments for the standard deviation of the mean\n",
    "        parameter_statistics[name] = (mean, std)\n",
    "    return parameter_statistics"
   ]
  },
  {
   "cell_type": "code",
   "execution_count": 15,
   "metadata": {},
   "outputs": [
    {
     "data": {
      "text/plain": [
       "{'k1': (0.10347987282768756, 0.0015147528067115995),\n",
       " 'k2': (0.21978518974984915, 0.007803003492600655)}"
      ]
     },
     "execution_count": 15,
     "metadata": {},
     "output_type": "execute_result"
    }
   ],
   "source": [
    "# Here's the result\n",
    "makeParameterStatistics(list_parameters)"
   ]
  },
  {
   "cell_type": "markdown",
   "metadata": {},
   "source": [
    "## Step 5: Construct Confidence Intervals"
   ]
  },
  {
   "cell_type": "markdown",
   "metadata": {},
   "source": [
    "# Exercises"
   ]
  },
  {
   "cell_type": "markdown",
   "metadata": {},
   "source": [
    "## Exercise 1: Calculate confidence intervals.\n",
    "1. Calculate the 95% confidence interval for 'k1' and 'k2' above.\n",
    "1. Write a function that calculates the 95% confidence interval. Generalize it to any percentile."
   ]
  },
  {
   "cell_type": "markdown",
   "metadata": {},
   "source": [
    "## Exercise 2: Analyze a new model.\n",
    "\n",
    "TRUE MODEL:\n",
    "\n",
    "- A -> B\n",
    "- A -> C\n",
    "- B + C -> D\n",
    "\n",
    "All kinetics are mass action. The kinetics constants are (in order of the reactions): 0.5, 0.5, 1.0. The initial concentration of A is 5. Consider a time course of duration 30 with 20 points.\n",
    "\n",
    "\n",
    "1. Generate synthetic observations using this model using a normally distributed noise with a standard deviation\n",
    "of 0.1.\n",
    "1. Using the true model (the one above), find the $R^2$ values in a cross validation with 4 folds.\n",
    "1. Construct confidence intervals for the parameters."
   ]
  },
  {
   "cell_type": "code",
   "execution_count": 16,
   "metadata": {},
   "outputs": [
    {
     "data": {
      "text/html": [
       "<table><tr><th> name </th><th> value </th><th> initial value </th><th> min </th><th> max </th><th> vary </th></tr><tr><td> k1 </td><td>  1.00000000 </td><td> 1 </td><td>  0.00000000 </td><td>  10.0000000 </td><td> True </td></tr><tr><td> k2 </td><td>  1.00000000 </td><td> 1 </td><td>  0.00000000 </td><td>  10.0000000 </td><td> True </td></tr><tr><td> k3 </td><td>  1.00000000 </td><td> 1 </td><td>  0.00000000 </td><td>  10.0000000 </td><td> True </td></tr></table>"
      ],
      "text/plain": [
       "Parameters([('k1', <Parameter 'k1', 1, bounds=[0:10]>),\n",
       "            ('k2', <Parameter 'k2', 1, bounds=[0:10]>),\n",
       "            ('k3', <Parameter 'k3', 1, bounds=[0:10]>)])"
      ]
     },
     "execution_count": 16,
     "metadata": {},
     "output_type": "execute_result"
    }
   ],
   "source": [
    "# Model used in this example\n",
    "new_model = \"\"\"\n",
    "     A -> B; k1*A\n",
    "     A -> C; k2*A\n",
    "     B + C -> D; k3*B*C\n",
    "      \n",
    "     A = 5;\n",
    "     B = 0;\n",
    "     C = 0;\n",
    "     k1 = 0.5\n",
    "     k2 = 0.5\n",
    "     k3 = 1.0\n",
    "\"\"\"\n",
    "unfitted_parameters = mf.makeParameters(constants=['k1', 'k2', 'k3'])\n",
    "unfitted_parameters"
   ]
  },
  {
   "cell_type": "code",
   "execution_count": 43,
   "metadata": {},
   "outputs": [],
   "source": [
    "# Globals\n",
    "num_points = 20\n",
    "sim_time = 30\n",
    "nose_std = 0.1"
   ]
  },
  {
   "cell_type": "code",
   "execution_count": 44,
   "metadata": {},
   "outputs": [],
   "source": [
    "# Create synthetic observational data for this example. This is for demonstration purposes only.\n",
    "# In practice, you will have observational data from experiments.\n",
    "obs_data = mf.makeObservations(model=new_model, noise_std=nose_std, num_points=num_points, sim_time=sim_time)"
   ]
  },
  {
   "cell_type": "code",
   "execution_count": 45,
   "metadata": {},
   "outputs": [
    {
     "data": {
      "image/png": "[encoded data removed]",
      "text/plain": [
       "<Figure size 432x288 with 1 Axes>"
      ]
     },
     "metadata": {
      "needs_background": "light"
     },
     "output_type": "display_data"
    }
   ],
   "source": [
    "mf.plotTimeSeries(obs_data, is_scatter=True, columns=['A','B', 'C', 'D'])"
   ]
  },
  {
   "cell_type": "code",
   "execution_count": 46,
   "metadata": {},
   "outputs": [
    {
     "data": {
      "text/html": [
       "<table><tr><th> name </th><th> value </th><th> standard error </th><th> relative error </th><th> initial value </th><th> min </th><th> max </th><th> vary </th></tr><tr><td> k1 </td><td>  0.49122813 </td><td>  0.02472922 </td><td> (5.03%) </td><td> 1 </td><td>  0.00000000 </td><td>  10.0000000 </td><td> True </td></tr><tr><td> k2 </td><td>  0.49168357 </td><td>  0.02474373 </td><td> (5.03%) </td><td> 1 </td><td>  0.00000000 </td><td>  10.0000000 </td><td> True </td></tr><tr><td> k3 </td><td>  1.12623071 </td><td>  0.10824902 </td><td> (9.61%) </td><td> 1 </td><td>  0.00000000 </td><td>  10.0000000 </td><td> True </td></tr></table>"
      ],
      "text/plain": [
       "Parameters([('k1',\n",
       "             <Parameter 'k1', value=0.49122813328996484 +/- 0.0247, bounds=[0:10]>),\n",
       "            ('k2',\n",
       "             <Parameter 'k2', value=0.49168357456377876 +/- 0.0247, bounds=[0:10]>),\n",
       "            ('k3',\n",
       "             <Parameter 'k3', value=1.126230710540912 +/- 0.108, bounds=[0:10]>)])"
      ]
     },
     "execution_count": 46,
     "metadata": {},
     "output_type": "execute_result"
    }
   ],
   "source": [
    "fitted_parameters = mf.fit(obs_data, model=new_model, parameters=unfitted_parameters,\n",
    "                           num_points=num_points, sim_time=sim_time)\n",
    "fitted_parameters"
   ]
  },
  {
   "cell_type": "code",
   "execution_count": 47,
   "metadata": {},
   "outputs": [
    {
     "name": "stdout",
     "output_type": "stream",
     "text": [
      "\n",
      "     A -> B; k1*A\n",
      "     A -> C; k2*A\n",
      "     B + C -> D; k3*B*C\n",
      "      \n",
      "     A = 5;\n",
      "     B = 0;\n",
      "     C = 0;\n",
      "     k1 = 0.5\n",
      "     k2 = 0.5\n",
      "     k3 = 1.0\n",
      "\n"
     ]
    }
   ],
   "source": [
    "print(new_model)"
   ]
  },
  {
   "cell_type": "code",
   "execution_count": 48,
   "metadata": {},
   "outputs": [
    {
     "data": {
      "text/plain": [
       "       time,        [A],        [B],       [C],      [D]\n",
       " [[       0,    5.10764,          0, 0.0331089, 0.119453],\n",
       "  [ 1.57895,    1.14747,   0.847742,  0.888277,  1.29362],\n",
       "  [ 3.15789,    0.18119,   0.385528,  0.610655,   1.8623],\n",
       "  [ 4.73684,  0.0604231,   0.232734,  0.359461,   2.1689],\n",
       "  [ 6.31579,  0.0204173,   0.191772,  0.269516,  2.56166],\n",
       "  [ 7.89474,          0,   0.211544, 0.0181621,  2.18355],\n",
       "  [ 9.47368,          0,   0.241564, 0.0845682,  2.54133],\n",
       "  [ 11.0526,          0,   0.171465,  0.127955,  2.41421],\n",
       "  [ 12.6316,          0,   0.154762,  0.238609,  2.33864],\n",
       "  [ 14.2105, 0.00139974, 0.00898729,  0.381062,  2.44062],\n",
       "  [ 15.7895,  0.0956154,   0.149218,         0,  2.35939],\n",
       "  [ 17.3684,  0.0976356,   0.152221,         0,  2.54472],\n",
       "  [ 18.9474,  0.0527888,  0.0448584, 0.0914453,  2.36907],\n",
       "  [ 20.5263,   0.213873,   0.124335,         0,   2.4993],\n",
       "  [ 22.1053,   0.144204,  0.0399134,  0.103053,  2.71063],\n",
       "  [ 23.6842,    0.16778,  0.0717594, 0.0931811,  2.56066],\n",
       "  [ 25.2632, 0.00693057,          0,         0,      2.5],\n",
       "  [ 26.8421,   0.043965,   0.158268, 0.0428039,  2.48822],\n",
       "  [ 28.4211,          0,  0.0242499, 0.0610792,  2.44917],\n",
       "  [      30,          0,   0.105049,         0,  2.26135]]"
      ]
     },
     "execution_count": 48,
     "metadata": {},
     "output_type": "execute_result"
    }
   ],
   "source": [
    "obs_data"
   ]
  },
  {
   "cell_type": "code",
   "execution_count": 49,
   "metadata": {},
   "outputs": [
    {
     "data": {
      "text/plain": [
       " [[     0.107644,           0,  0.0331089,    0.119453],\n",
       "  [    0.0883146,   0.0220792,  0.0607882,    0.149778],\n",
       "  [   -0.0431728,    -0.10226,   0.120654,  -0.0366208],\n",
       "  [    0.0128959,  -0.0718491,  0.0525826, -0.00160144],\n",
       "  [    0.0103495,  -0.0165824,  0.0588492,    0.276202],\n",
       "  [  -0.00213267,    0.057307,  -0.138391,   -0.159984],\n",
       "  [ -0.000451768,    0.120338, -0.0389745,    0.163938],\n",
       "  [ -9.56989e-05,   0.0719699,  0.0261431,   0.0149094],\n",
       "  [ -2.02721e-05,   0.0705146,   0.152045,  -0.0759446],\n",
       "  [   0.00139544,  -0.0640081,    0.30575,   0.0147773],\n",
       "  [    0.0956145,   0.0848579, -0.0666766,  -0.0750906],\n",
       "  [    0.0976354,   0.0946952, -0.0598422,    0.103402],\n",
       "  [    0.0527887, -0.00712395,  0.0371461,  -0.0777856],\n",
       "  [     0.213873,   0.0769383, -0.0497133,   0.0478586],\n",
       "  [     0.144204, -0.00362606,  0.0571963,    0.255325],\n",
       "  [      0.16778,   0.0315089,  0.0506138,    0.102067],\n",
       "  [   0.00693057,  -0.0374127, -0.0397295,   0.0385702],\n",
       "  [     0.043965,    0.123329, 0.00554792,   0.0243158],\n",
       "  [ -4.34107e-12, -0.00851416,  0.0259983,  -0.0169082],\n",
       "  [ -1.17914e-12,   0.0742125, -0.0331532,    -0.20666]]"
      ]
     },
     "execution_count": 49,
     "metadata": {},
     "output_type": "execute_result"
    }
   ],
   "source": [
    "# Construct the matrix of residuals\n",
    "residuals_matrix = makeResidualsBySpecies(obs_data, new_model, fitted_parameters, num_points, sim_time)\n",
    "residuals_matrix"
   ]
  },
  {
   "cell_type": "code",
   "execution_count": 50,
   "metadata": {},
   "outputs": [
    {
     "data": {
      "text/plain": [
       "[0.9963605890466499,\n",
       " 0.9861221578373573,\n",
       " 0.9916062139834098,\n",
       " 0.9935783715569614]"
      ]
     },
     "execution_count": 50,
     "metadata": {},
     "output_type": "execute_result"
    }
   ],
   "source": [
    "# Do the cross validation for this model. the crossValidate function returns two values: list of\n",
    "# the parameters (for each fold) and RSQs for each fold.\n",
    "list_parameters, rsqs = mf.crossValidate(obs_data, model=new_model, parameters=fitted_parameters, \n",
    "                                         num_points=num_points, \n",
    "                                         sim_time=sim_time,\n",
    "                                         num_folds=4)\n",
    "rsqs"
   ]
  },
  {
   "cell_type": "code",
   "execution_count": 51,
   "metadata": {},
   "outputs": [
    {
     "data": {
      "text/plain": [
       "[Parameters([('k1',\n",
       "              <Parameter 'k1', value=0.5030769147191028 +/- 0.0258, bounds=[0:10]>),\n",
       "             ('k2',\n",
       "              <Parameter 'k2', value=0.5047334566177353 +/- 0.0259, bounds=[0:10]>),\n",
       "             ('k3',\n",
       "              <Parameter 'k3', value=0.9990283313891896 +/- 0.0902, bounds=[0:10]>)]),\n",
       " Parameters([('k1',\n",
       "              <Parameter 'k1', value=0.5043324468595878 +/- 0.0246, bounds=[0:10]>),\n",
       "             ('k2',\n",
       "              <Parameter 'k2', value=0.49758082578019336 +/- 0.0244, bounds=[0:10]>),\n",
       "             ('k3',\n",
       "              <Parameter 'k3', value=1.0922806078109564 +/- 0.0996, bounds=[0:10]>)]),\n",
       " Parameters([('k1',\n",
       "              <Parameter 'k1', value=0.4540705946793955 +/- 0.0186, bounds=[0:10]>),\n",
       "             ('k2',\n",
       "              <Parameter 'k2', value=0.4577395009195351 +/- 0.0188, bounds=[0:10]>),\n",
       "             ('k3',\n",
       "              <Parameter 'k3', value=1.2148640650634779 +/- 0.00152, bounds=[0:10]>)]),\n",
       " Parameters([('k1',\n",
       "              <Parameter 'k1', value=0.5017348652366377 +/- 0.0272, bounds=[0:10]>),\n",
       "             ('k2',\n",
       "              <Parameter 'k2', value=0.5101755131756541 +/- 0.0275, bounds=[0:10]>),\n",
       "             ('k3',\n",
       "              <Parameter 'k3', value=1.122239611200608 +/- 0.114, bounds=[0:10]>)]),\n",
       " Parameters([('k1',\n",
       "              <Parameter 'k1', value=0.46698178890047903 +/- 0.0211, bounds=[0:10]>),\n",
       "             ('k2',\n",
       "              <Parameter 'k2', value=0.4707680697151312 +/- 0.0212, bounds=[0:10]>),\n",
       "             ('k3',\n",
       "              <Parameter 'k3', value=1.1187783850268058 +/- 0.0998, bounds=[0:10]>)]),\n",
       " Parameters([('k1',\n",
       "              <Parameter 'k1', value=0.48462721122794816 +/- 0.0227, bounds=[0:10]>),\n",
       "             ('k2',\n",
       "              <Parameter 'k2', value=0.4805591031403833 +/- 0.0226, bounds=[0:10]>),\n",
       "             ('k3',\n",
       "              <Parameter 'k3', value=1.1402399834748023 +/- 0.105, bounds=[0:10]>)]),\n",
       " Parameters([('k1',\n",
       "              <Parameter 'k1', value=0.47022756474871863 +/- 0.0236, bounds=[0:10]>),\n",
       "             ('k2',\n",
       "              <Parameter 'k2', value=0.47072286183702794 +/- 0.0237, bounds=[0:10]>),\n",
       "             ('k3',\n",
       "              <Parameter 'k3', value=1.186977007354006 +/- 0.121, bounds=[0:10]>)]),\n",
       " Parameters([('k1',\n",
       "              <Parameter 'k1', value=0.4792480127751825 +/- 0.0233, bounds=[0:10]>),\n",
       "             ('k2',\n",
       "              <Parameter 'k2', value=0.4790908813068301 +/- 0.0233, bounds=[0:10]>),\n",
       "             ('k3',\n",
       "              <Parameter 'k3', value=0.9769980128647687 +/- 0.086, bounds=[0:10]>)]),\n",
       " Parameters([('k1',\n",
       "              <Parameter 'k1', value=0.49494529236856766 +/- 0.0212, bounds=[0:10]>),\n",
       "             ('k2',\n",
       "              <Parameter 'k2', value=0.49519403731835276 +/- 0.0212, bounds=[0:10]>),\n",
       "             ('k3',\n",
       "              <Parameter 'k3', value=1.0625062304554151 +/- 0.0838, bounds=[0:10]>)]),\n",
       " Parameters([('k1',\n",
       "              <Parameter 'k1', value=0.5013324685439768 +/- 0.0281, bounds=[0:10]>),\n",
       "             ('k2',\n",
       "              <Parameter 'k2', value=0.5017650255806705 +/- 0.0281, bounds=[0:10]>),\n",
       "             ('k3',\n",
       "              <Parameter 'k3', value=1.0377980589954645 +/- 0.105, bounds=[0:10]>)])]"
      ]
     },
     "execution_count": 51,
     "metadata": {},
     "output_type": "execute_result"
    }
   ],
   "source": [
    "list_parameters = makeParametersList(new_model, fitted_parameters, residuals_matrix, num_points, sim_time)\n",
    "list_parameters"
   ]
  },
  {
   "cell_type": "code",
   "execution_count": 52,
   "metadata": {},
   "outputs": [
    {
     "data": {
      "text/plain": [
       "{'k1': (0.4860577160059596, 0.005355163877830488),\n",
       " 'k2': (0.4868329275391514, 0.005231672552354145),\n",
       " 'k3': (1.0951710293635495, 0.02316274334662014)}"
      ]
     },
     "execution_count": 52,
     "metadata": {},
     "output_type": "execute_result"
    }
   ],
   "source": [
    "# Here's the result\n",
    "makeParameterStatistics(list_parameters)"
   ]
  }
 ],
 "metadata": {
  "kernelspec": {
   "display_name": "Python 3",
   "language": "python",
   "name": "python3"
  },
  "language_info": {
   "codemirror_mode": {
    "name": "ipython",
    "version": 3
   },
   "file_extension": ".py",
   "mimetype": "text/x-python",
   "name": "python",
   "nbconvert_exporter": "python",
   "pygments_lexer": "ipython3",
   "version": "3.6.4"
  }
 },
 "nbformat": 4,
 "nbformat_minor": 2
}
