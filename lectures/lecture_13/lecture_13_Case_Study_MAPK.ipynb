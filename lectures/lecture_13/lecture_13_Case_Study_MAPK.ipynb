{
 "cells": [
  {
   "cell_type": "markdown",
   "metadata": {},
   "source": [
    "# Case Study - MAPK"
   ]
  },
  {
   "cell_type": "code",
   "execution_count": 8,
   "metadata": {},
   "outputs": [],
   "source": [
    "%matplotlib inline\n",
    "import numpy as np\n",
    "import model_fitting as mf\n",
    "import tellurium as te\n",
    "import matplotlib.pyplot as plt"
   ]
  },
  {
   "cell_type": "code",
   "execution_count": 5,
   "metadata": {},
   "outputs": [],
   "source": [
    "model = \"\"\"\n",
    "M -> Mp; (k1_cat * MAPKK*M/k_m1)/(1 + M/k_m1 + Mp/k_m2)\n",
    "Mp -> M; (k2_cat * MAPKK*Mp/k_m2)/(1 + M/k_m1 + Mp/k_m2)\n",
    "Mp -> Mpp; (k3_cat * MKP*Mpp/k_m3)/(1 + Mpp/k_m3 + Mp/k_m4 + M/k_m5)\n",
    "Mpp -> Mp; (k4_cat * MKP*Mp/k_m4)/(1 + Mpp/k_m3 + Mp/k_m4 + M/k_m5)\n",
    "\n",
    "\n",
    "M = 500;\n",
    "k1_cat = 0.01\n",
    "k2_cat = 15;\n",
    "k3_cat = 0.084;\n",
    "k4_cat = -.06\n",
    "k_m1 = 50;\n",
    "k_m2 = 500;\n",
    "k_m3 = 22;\n",
    "k_m4 = 18;\n",
    "k_m5 = 18;  # Not specified in model\n",
    "MAPKK = 50;\n",
    "MKP = 100;\n",
    "\"\"\""
   ]
  },
  {
   "cell_type": "code",
   "execution_count": 6,
   "metadata": {},
   "outputs": [],
   "source": [
    "rr = te.loada(model)"
   ]
  },
  {
   "cell_type": "code",
   "execution_count": 19,
   "metadata": {},
   "outputs": [
    {
     "data": {
      "text/plain": [
       "[<matplotlib.lines.Line2D at 0x7f20b900d588>,\n",
       " <matplotlib.lines.Line2D at 0x7f20b900d6d8>,\n",
       " <matplotlib.lines.Line2D at 0x7f20b900d828>]"
      ]
     },
     "execution_count": 19,
     "metadata": {},
     "output_type": "execute_result"
    },
    {
     "data": {
      "image/png": "[encoded data removed]",
      "text/plain": [
       "<Figure size 432x288 with 1 Axes>"
      ]
     },
     "metadata": {
      "needs_background": "light"
     },
     "output_type": "display_data"
    }
   ],
   "source": [
    "rr.reset()\n",
    "data = rr.simulate(1, 100, 100)\n",
    "plt.plot(data[:,0], data[:,1:])"
   ]
  }
 ],
 "metadata": {
  "kernelspec": {
   "display_name": "Python 3",
   "language": "python",
   "name": "python3"
  },
  "language_info": {
   "codemirror_mode": {
    "name": "ipython",
    "version": 3
   },
   "file_extension": ".py",
   "mimetype": "text/x-python",
   "name": "python",
   "nbconvert_exporter": "python",
   "pygments_lexer": "ipython3",
   "version": "3.6.9"
  }
 },
 "nbformat": 4,
 "nbformat_minor": 2
}
