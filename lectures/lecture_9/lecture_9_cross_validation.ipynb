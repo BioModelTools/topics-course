{
 "cells": [
  {
   "cell_type": "markdown",
   "metadata": {},
   "source": [
    "# Cross Validation\n",
    "This notebook describes how to do cross validation with simulation models."
   ]
  },
  {
   "cell_type": "code",
   "execution_count": 1,
   "metadata": {},
   "outputs": [],
   "source": [
    "%matplotlib inline\n",
    "import tellurium as te\n",
    "import numpy as np\n",
    "import lmfit   # Fitting lib\n",
    "import math\n",
    "import random \n",
    "import matplotlib.pyplot as plt"
   ]
  },
  {
   "cell_type": "code",
   "execution_count": 2,
   "metadata": {},
   "outputs": [],
   "source": [
    "# Experimental conditions\n",
    "sim_time = 30\n",
    "num_points = 10\n",
    "noise_std = 1.5\n",
    "num_folds = 3"
   ]
  },
  {
   "cell_type": "code",
   "execution_count": 3,
   "metadata": {},
   "outputs": [],
   "source": [
    "# The simulation model\n",
    "rr = te.loada(\"\"\"\n",
    "     A -> B; k1*A\n",
    "     B -> C; k2*B\n",
    "      \n",
    "     A = 5;\n",
    "     B = 0;\n",
    "     C = 0;\n",
    "     k1 = 0.15\n",
    "     k2 = 0.2\n",
    "\"\"\")"
   ]
  },
  {
   "cell_type": "code",
   "execution_count": 4,
   "metadata": {},
   "outputs": [
    {
     "data": {
      "image/png": "[encoded data removed]",
      "text/plain": [
       "<Figure size 432x288 with 1 Axes>"
      ]
     },
     "metadata": {
      "needs_background": "light"
     },
     "output_type": "display_data"
    }
   ],
   "source": [
    "# Create the experimental data. We refer to these as the observations\n",
    "rr.reset()\n",
    "data = rr.simulate(0, sim_time, num_points)\n",
    "num_cols = len(data.colnames) - 1\n",
    "\n",
    "# Create some 'experimental' data \n",
    "x_data = data[:, 0]  # Times\n",
    "obs_data = data[:,1:]   # Values of chemical species\n",
    "\n",
    "for i in range (num_points):\n",
    "    for j in range(num_cols):\n",
    "        obs_data[i, j] = max(obs_data[i, j] + np.random.normal(0, noise_std, 1), 0) \n",
    "\n",
    "# Plot it to see what it looks like\n",
    "plt.plot (x_data, obs_data, marker='*', linestyle='None')\n",
    "plt.show()\n"
   ]
  },
  {
   "cell_type": "code",
   "execution_count": 5,
   "metadata": {},
   "outputs": [],
   "source": [
    "# Generates indices of training and test data\n",
    "def foldGenerator(num_points, num_folds):\n",
    "   indices = range(num_points)\n",
    "   for remainder in range(num_folds):\n",
    "       test_indices = []\n",
    "       for idx in indices:\n",
    "         if idx % num_folds == remainder:\n",
    "           test_indices.append(idx)\n",
    "       train_indices = np.array(\n",
    "           list(set(indices).difference(test_indices)))\n",
    "       test_indices = np.array(test_indices)\n",
    "       yield train_indices, test_indices"
   ]
  },
  {
   "cell_type": "code",
   "execution_count": 6,
   "metadata": {},
   "outputs": [],
   "source": [
    "# Define the parameters present\n",
    "parameters = lmfit.Parameters()\n",
    "parameters.add('k1', value=1, min=0, max=10)\n",
    "parameters.add('k2', value=1, min=0, max=10)"
   ]
  },
  {
   "cell_type": "code",
   "execution_count": 7,
   "metadata": {},
   "outputs": [
    {
     "data": {
      "text/plain": [
       "[ 0.          3.33333333  6.66666667 10.         13.33333333 16.66666667\n",
       " 20.         23.33333333 26.66666667 30.          6.01482123  4.71311106\n",
       "  5.25822157  1.89327075  0.          0.87526918  0.62906802  3.92341808\n",
       "  0.08015336  0.82551433  0.          0.          1.94119032  1.02799904\n",
       "  0.85286142  0.          1.36596228  0.          2.14625841  0.\n",
       "  0.          0.          1.89595981  3.93002865  2.87129463  0.57241379\n",
       "  2.69836737  5.13713719  3.79763085  4.53111877]"
      ]
     },
     "execution_count": 7,
     "metadata": {},
     "output_type": "execute_result"
    }
   ],
   "source": [
    "np.reshape(data, 4*num_points, 1)"
   ]
  },
  {
   "cell_type": "code",
   "execution_count": 8,
   "metadata": {},
   "outputs": [],
   "source": [
    "# The current training indices are in train_indices\n",
    "train_indices = range(num_points)  # Will be reset during cross validation\n",
    "\n",
    "# Some useful functions\n",
    "\n",
    "def reshapeData(matrix, indices, first_col=0):\n",
    "    \"\"\"\n",
    "    Structures as an array all of the columns\n",
    "    \"\"\"\n",
    "    num_columns = np.shape(matrix)[1] - first_col\n",
    "    trimmed_matrix = matrix[indices, first_col:]\n",
    "    return np.reshape(trimmed_matrix, num_columns*len(indices))\n",
    "\n",
    "def vectorDifference(matrix1, matrix2, indices):\n",
    "    \"\"\"\n",
    "    Linearizes the vectors and computes the difference between them\n",
    "    for the specified indices.\n",
    "    \"\"\"\n",
    "    array1 = reshapeData(matrix1, indices)\n",
    "    array2 = reshapeData(matrix2, indices)\n",
    "    return (array1 - array2)\n",
    "\n",
    "def calcResiduals(parameters):\n",
    "    \"\"\"\n",
    "    Runs a simulation with the specified parameters and calculates residuals\n",
    "    for the train_indices.\n",
    "    \"\"\"\n",
    "    sim_data = runSimulation(parameters)\n",
    "    sim_data = sim_data[:, 1:]  # Skip time\n",
    "    return vectorDifference(obs_data, sim_data, train_indices)\n",
    "\n",
    "def runSimulation(parameters):\n",
    "    \"\"\"\n",
    "    Runs the simulation model rr for the parameters.\n",
    "    Returns the simulation data\n",
    "    \"\"\"\n",
    "    rr.reset()\n",
    "    parameter_dict = parameters.valuesdict()\n",
    "    rr.k1 = parameter_dict['k1']\n",
    "    rr.k2 = parameter_dict['k2']\n",
    "    return rr.simulate (0, sim_time, num_points)\n"
   ]
  },
  {
   "cell_type": "code",
   "execution_count": 9,
   "metadata": {},
   "outputs": [],
   "source": [
    "fold_generator = foldGenerator(num_points, num_folds)\n",
    "result_parameters = []\n",
    "result_rsqs = []\n",
    "for fold_train_indices, fold_test_indices in fold_generator:\n",
    "    global train_indices \n",
    "    train_indices = fold_train_indices\n",
    "    # Set the parameters\n",
    "    parameters = lmfit.Parameters()\n",
    "    parameters.add('k1', value=1, min=0, max=10)\n",
    "    parameters.add('k2', value=1, min=0, max=10)\n",
    "    # Estimate the parameters for this fold\n",
    "    fitter = lmfit.Minimizer(calcResiduals, parameters)\n",
    "    fitter_result = fitter.minimize(method='leastsq')\n",
    "    result_parameters.append(fitter_result.params)\n",
    "    # Run the simulation using\n",
    "    # the parameters estimated using the training data.\n",
    "    test_estimates = runSimulation(fitter_result.params)\n",
    "    test_estimates = test_estimates[:, 1:]\n",
    "    # Calculate RSQ\n",
    "    test_residuals = vectorDifference(obs_data, test_estimates, fold_test_indices)\n",
    "    rsq = 1 - np.var(test_residuals)/np.var(reshapeData(obs_data, fold_test_indices))\n",
    "    result_rsqs.append(rsq)\n",
    "    "
   ]
  },
  {
   "cell_type": "code",
   "execution_count": 10,
   "metadata": {},
   "outputs": [
    {
     "data": {
      "text/plain": [
       "[0.8031911675412468, -0.4584368794823437, 0.17682392752015952]"
      ]
     },
     "execution_count": 10,
     "metadata": {},
     "output_type": "execute_result"
    }
   ],
   "source": [
    "result_rsqs"
   ]
  },
  {
   "cell_type": "code",
   "execution_count": 11,
   "metadata": {},
   "outputs": [
    {
     "data": {
      "text/plain": [
       "[Parameters([('k1',\n",
       "              <Parameter 'k1', value=0.06454112587956196 +/- 0.0191, bounds=[0:10]>),\n",
       "             ('k2',\n",
       "              <Parameter 'k2', value=0.215828418860875 +/- 0.163, bounds=[0:10]>)]),\n",
       " Parameters([('k1',\n",
       "              <Parameter 'k1', value=7.4385928272982245 +/- 0.121, bounds=[0:10]>),\n",
       "             ('k2',\n",
       "              <Parameter 'k2', value=0.07294291354191185 +/- 0.00284, bounds=[0:10]>)]),\n",
       " Parameters([('k1',\n",
       "              <Parameter 'k1', value=0.08204776227086208 +/- 0.0191, bounds=[0:10]>),\n",
       "             ('k2',\n",
       "              <Parameter 'k2', value=0.44206111181955443 +/- 0.432, bounds=[0:10]>)])]"
      ]
     },
     "execution_count": 11,
     "metadata": {},
     "output_type": "execute_result"
    }
   ],
   "source": [
    "result_parameters"
   ]
  }
 ],
 "metadata": {
  "kernelspec": {
   "display_name": "Python 3",
   "language": "python",
   "name": "python3"
  },
  "language_info": {
   "codemirror_mode": {
    "name": "ipython",
    "version": 3
   },
   "file_extension": ".py",
   "mimetype": "text/x-python",
   "name": "python",
   "nbconvert_exporter": "python",
   "pygments_lexer": "ipython3",
   "version": "3.6.4"
  }
 },
 "nbformat": 4,
 "nbformat_minor": 2
}
