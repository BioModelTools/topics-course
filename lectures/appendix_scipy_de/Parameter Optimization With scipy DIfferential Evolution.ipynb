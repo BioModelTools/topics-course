{
 "cells": [
  {
   "cell_type": "markdown",
   "metadata": {},
   "source": [
    "# Parameter Optimization With scipy Differential Evolution"
   ]
  },
  {
   "cell_type": "code",
   "execution_count": 1,
   "metadata": {},
   "outputs": [],
   "source": [
    "%matplotlib inline\n",
    "import model_fitting as mf\n",
    "\n",
    "from collections import namedtuple\n",
    "import lmfit   # Fitting lib\n",
    "import matplotlib.pyplot as plt \n",
    "import math\n",
    "import numpy as np\n",
    "import pandas as pd\n",
    "import random\n",
    "from scipy.optimize import differential_evolution\n",
    "import tellurium as te"
   ]
  },
  {
   "cell_type": "markdown",
   "metadata": {},
   "source": [
    "## Model And Synthetic Data"
   ]
  },
  {
   "cell_type": "code",
   "execution_count": 2,
   "metadata": {},
   "outputs": [],
   "source": [
    "# Model\n",
    "model = \"\"\"\n",
    "     A -> B; k1*A\n",
    "     B -> C; k2*B\n",
    "      \n",
    "     A = 5;\n",
    "     B = 0;\n",
    "     C = 0;\n",
    "     k1 = 0.1\n",
    "     k2 = 0.2\n",
    "\"\"\"\n",
    "parameters = mf.makeParameters(constants=['k1', 'k2'])"
   ]
  },
  {
   "cell_type": "code",
   "execution_count": 3,
   "metadata": {},
   "outputs": [
    {
     "data": {
      "image/png": "[encoded data removed]",
      "text/plain": [
       "<Figure size 432x288 with 1 Axes>"
      ]
     },
     "metadata": {
      "needs_background": "light"
     },
     "output_type": "display_data"
    },
    {
     "data": {
      "image/png": "[encoded data removed]",
      "text/plain": [
       "<Figure size 432x288 with 1 Axes>"
      ]
     },
     "metadata": {
      "needs_background": "light"
     },
     "output_type": "display_data"
    }
   ],
   "source": [
    "# Create synthetic observational data and plot it.\n",
    "result_true = mf.runSimulation(model=model, num_points=10)\n",
    "df_obs = mf.makeObservations(model=model, noise_std=0.5, num_points=10)\n",
    "columns = ['A', 'B', 'C']\n",
    "mf.plotTimeSeries(result_true.data, title=\"True Model\", columns=columns)\n",
    "mf.plotTimeSeries(df_obs, title=\"Model With Noise\", is_scatter=True, columns=columns)"
   ]
  },
  {
   "cell_type": "markdown",
   "metadata": {},
   "source": [
    "## Fitting With Option for lmfit or Scipy"
   ]
  },
  {
   "cell_type": "code",
   "execution_count": 4,
   "metadata": {},
   "outputs": [],
   "source": [
    "PARAMETERS = lmfit.Parameters()\n",
    "PARAMETERS.add('k1', value=1, min=0, max=10)\n",
    "PARAMETERS.add('k2', value=1, min=0, max=10)\n",
    "ROAD_RUNNER = None\n",
    "ME_LEASTSQ = \"leastsq\"\n",
    "ME_DIFFERENTIAL_EVOLUTION = \"differential_evolution\"\n",
    "ME_BOTH = \"both\""
   ]
  },
  {
   "cell_type": "code",
   "execution_count": 5,
   "metadata": {},
   "outputs": [],
   "source": [
    "def fit(obs_data, indices=None, parameters=PARAMETERS, \n",
    "    method=ME_LEASTSQ, is_scipy=True, **kwargs):\n",
    "  \"\"\" \n",
    "  Does a fit of the model to the observations.\n",
    "  :param ndarray obs_data: matrix of observed values with time\n",
    "                           as the first column\n",
    "         pd.DataFrame    : time is index\n",
    "  :param list-int indices: indices on which fit is performed\n",
    "  :param lmfit.Parameters parameters: parameters fit\n",
    "  :param str method: optimization method; both means\n",
    "                     differential_evolution followed by leastsq\n",
    "  :param dict kwargs: optional parameters passed to runSimulation\n",
    "  :return lmfit.Parameters:\n",
    "  \"\"\"\n",
    "  global road_runner  # Used to avoid repeatedly loading the model\n",
    "  road_runner = ROAD_RUNNER\n",
    "  names = parameters.valuesdict().keys()\n",
    "  #\n",
    "  def calcFitResiduals(values):\n",
    "    global road_runner\n",
    "    if isinstance(values, lmfit.Parameters):\n",
    "        calc_parameters = values\n",
    "        is_lmfit = True\n",
    "    else:\n",
    "        calc_parameters = mf.makeParameters(names, values)\n",
    "        is_lmfit = False\n",
    "    residual_calculation = mf.calcSimulationResiduals(obs_data,\n",
    "        calc_parameters, indices, road_runner=road_runner, **kwargs)\n",
    "    road_runner = residual_calculation.road_runner\n",
    "    if is_lmfit:\n",
    "        residuals = residual_calculation.residuals\n",
    "    else:\n",
    "        residuals = np.var(residual_calculation.residuals)\n",
    "    return residuals\n",
    "  #\n",
    "  def estimateParametersWithLmfit(method, parameters):\n",
    "    # Estimate the parameters for this fold\n",
    "    fitter = lmfit.Minimizer(calcFitResiduals, parameters)\n",
    "    fitter_result = fitter.minimize(method=method)\n",
    "    return fitter_result.params\n",
    "  #\n",
    "  def estimateParametersWithScipy():\n",
    "    bounds = [(p[1].min, p[1].max) for p in parameters.items()]\n",
    "    mins = [b[0] for b in bounds]\n",
    "    maxs = [b[1] for b in bounds]\n",
    "    result = differential_evolution(calcFitResiduals, bounds)\n",
    "    values = result.x.tolist()\n",
    "    new_parameters = mf.makeParameters(names, values=values, mins=mins, maxs=maxs)\n",
    "    return new_parameters\n",
    "    \n",
    "  if is_scipy:\n",
    "    return estimateParametersWithScipy()\n",
    "  else:\n",
    "    if method == ME_BOTH:\n",
    "      parameters = estimateParametersWithLmfit(ME_DIFFERENTIAL_EVOLUTION,\n",
    "          parameters)\n",
    "      return estimateParametersWithLmfit(ME_LEASTSQ, parameters)\n",
    "    else:\n",
    "      return estimateParametersWithLmfit(method, parameters)\n"
   ]
  },
  {
   "cell_type": "code",
   "execution_count": 6,
   "metadata": {},
   "outputs": [
    {
     "data": {
      "text/html": [
       "<table><tr><th> name </th><th> value </th><th> standard error </th><th> relative error </th><th> initial value </th><th> min </th><th> max </th><th> vary </th></tr><tr><td> k1 </td><td>  0.09189030 </td><td>  0.00596444 </td><td> (6.49%) </td><td> 1 </td><td>  0.00000000 </td><td>  10.0000000 </td><td> True </td></tr><tr><td> k2 </td><td>  0.22314349 </td><td>  0.03080798 </td><td> (13.81%) </td><td> 1 </td><td>  0.00000000 </td><td>  10.0000000 </td><td> True </td></tr></table>"
      ],
      "text/plain": [
       "Parameters([('k1',\n",
       "             <Parameter 'k1', value=0.09189030146287414 +/- 0.00596, bounds=[0:10]>),\n",
       "            ('k2',\n",
       "             <Parameter 'k2', value=0.2231434855103026 +/- 0.0308, bounds=[0:10]>)])"
      ]
     },
     "execution_count": 6,
     "metadata": {},
     "output_type": "execute_result"
    }
   ],
   "source": [
    "#Fitting using lmfit produces good results for both k1~0.1 and k2~.2\n",
    "fit(df_obs, model=model, parameters=parameters, is_scipy=False)"
   ]
  },
  {
   "cell_type": "code",
   "execution_count": 7,
   "metadata": {},
   "outputs": [
    {
     "data": {
      "text/html": [
       "<table><tr><th> name </th><th> value </th><th> initial value </th><th> min </th><th> max </th><th> vary </th></tr><tr><td> k1 </td><td>  0.12665270 </td><td> 0.1266527043962838 </td><td>  0.00000000 </td><td>  10.0000000 </td><td> True </td></tr><tr><td> k2 </td><td>  3.61194818 </td><td> 3.611948175349777 </td><td>  0.00000000 </td><td>  10.0000000 </td><td> True </td></tr></table>"
      ],
      "text/plain": [
       "Parameters([('k1', <Parameter 'k1', 0.1266527043962838, bounds=[0:10]>),\n",
       "            ('k2', <Parameter 'k2', 3.611948175349777, bounds=[0:10]>)])"
      ]
     },
     "execution_count": 7,
     "metadata": {},
     "output_type": "execute_result"
    }
   ],
   "source": [
    "# Fitting using scipy. Very poor estimate of k2; off by a factor of 2.\n",
    "fit(df_obs, model=model, parameters=parameters, is_scipy=True)"
   ]
  },
  {
   "cell_type": "markdown",
   "metadata": {},
   "source": [
    "## Standalone Example of Using scipy Differential Evolution"
   ]
  },
  {
   "cell_type": "code",
   "execution_count": 8,
   "metadata": {},
   "outputs": [
    {
     "data": {
      "text/plain": [
       "(array([0.99999999, 1.75      ]), 10.75)"
      ]
     },
     "execution_count": 8,
     "metadata": {},
     "output_type": "execute_result"
    }
   ],
   "source": [
    "# Simple example of using scipy differential evolution\n",
    "#  1. The objective function (center) takes a list of parameter values. it returns\n",
    "#      a float, not a list of residuals.\n",
    "#  2. Scipy differential_evolution takes as arguments the objective function\n",
    "#     and a list of bounds for the solution.\n",
    "points = [(1,1), (2,2), (1,0), (0, 4)]\n",
    "def center(x):\n",
    "    x_res = [p[0] - x[0] for p in points]\n",
    "    y_res = [p[1] - x[1] for p in points]\n",
    "    residuals = list(x_res)\n",
    "    residuals.extend(y_res)\n",
    "    return sum([r*r for r in residuals])\n",
    "#\n",
    "bounds = [(-5, 5), (-5, 5)]\n",
    "result = differential_evolution(center, bounds)\n",
    "result.x, result.fun"
   ]
  }
 ],
 "metadata": {
  "kernelspec": {
   "display_name": "Python 3",
   "language": "python",
   "name": "python3"
  },
  "language_info": {
   "codemirror_mode": {
    "name": "ipython",
    "version": 3
   },
   "file_extension": ".py",
   "mimetype": "text/x-python",
   "name": "python",
   "nbconvert_exporter": "python",
   "pygments_lexer": "ipython3",
   "version": "3.6.9"
  }
 },
 "nbformat": 4,
 "nbformat_minor": 2
}
