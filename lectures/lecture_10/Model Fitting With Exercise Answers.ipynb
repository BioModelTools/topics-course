{
 "cells": [
  {
   "cell_type": "code",
   "execution_count": 1,
   "metadata": {},
   "outputs": [],
   "source": [
    "%matplotlib inline\n",
    "import model_fitting as mf"
   ]
  },
  {
   "cell_type": "code",
   "execution_count": 3,
   "metadata": {},
   "outputs": [],
   "source": [
    "# Model\n",
    "model = \"\"\"\n",
    "     A -> B; k1*A\n",
    "     B -> C; k2*B\n",
    "      \n",
    "     A = 5;\n",
    "     B = 0;\n",
    "     C = 0;\n",
    "     k1 = 0.1\n",
    "     k2 = 0.2\n",
    "\"\"\"\n",
    "parameters = mf.makeParameters(constants=['k1', 'k2'])"
   ]
  },
  {
   "cell_type": "code",
   "execution_count": null,
   "metadata": {},
   "outputs": [],
   "source": [
    "# Create synthetic observational data and plot it.\n",
    "true_data = mf.runSimulation(model=model, num_points=10)\n",
    "obs_data = mf.makeObservations(model=model, noise_std=0.5, num_points=10)\n",
    "columns = ['A', 'B', 'C']\n",
    "mf.plotTimeSeries(true_data, title=\"True Model\", columns=columns)\n",
    "mf.plotTimeSeries(obs_data, title=\"Model With Noise\", is_scatter=True, columns=columns)"
   ]
  },
  {
   "cell_type": "code",
   "execution_count": null,
   "metadata": {},
   "outputs": [],
   "source": [
    "# Parameter fitting\n",
    "# Illustration of parameter fitting\n",
    "mf.fit(obs_data, model=model, parameters=parameters)"
   ]
  },
  {
   "cell_type": "code",
   "execution_count": null,
   "metadata": {},
   "outputs": [],
   "source": [
    "# Cross validate to fit model\n",
    "mf.crossValidate(obs_data, model=model, parameters=parameters, num_folds=3)"
   ]
  },
  {
   "cell_type": "markdown",
   "metadata": {},
   "source": [
    "## Exercise 1: Effect of Observational Data\n",
    "1. Re-run the foregoing with nose_std=2.0. How do the fits change? How do the $R^2$ values change? Run the codes a few times to see the variations in the quality of fit and parameter estimates.\n",
    "1. Do you get better fits if you increase the number of points?"
   ]
  },
  {
   "cell_type": "code",
   "execution_count": 9,
   "metadata": {},
   "outputs": [
    {
     "data": {
      "text/plain": [
       "([Parameters([('k1',\n",
       "               <Parameter 'k1', value=0.13864463839289687 +/- 0.0351, bounds=[0:10]>),\n",
       "              ('k2',\n",
       "               <Parameter 'k2', value=0.09277799919164775 +/- 0.0231, bounds=[0:10]>)]),\n",
       "  Parameters([('k1',\n",
       "               <Parameter 'k1', value=0.10876683656477149 +/- 0.0217, bounds=[0:10]>),\n",
       "              ('k2',\n",
       "               <Parameter 'k2', value=0.12302547168454858 +/- 0.0317, bounds=[0:10]>)]),\n",
       "  Parameters([('k1',\n",
       "               <Parameter 'k1', value=0.1786526328692134 +/- 0.0482, bounds=[0:10]>),\n",
       "              ('k2',\n",
       "               <Parameter 'k2', value=0.09230236719528329 +/- 0.0204, bounds=[0:10]>)])],\n",
       " [0.6443855116596048, 0.24187137324713082, 0.3984442943851])"
      ]
     },
     "execution_count": 9,
     "metadata": {},
     "output_type": "execute_result"
    }
   ],
   "source": [
    "# Create synthetic observational data and plot it.\n",
    "num_points = 20\n",
    "obs_data = mf.makeObservations(model=model, noise_std=2.0, num_points=num_points)\n",
    "mf.crossValidate(obs_data, model=model, parameters=parameters, num_folds=3)"
   ]
  },
  {
   "cell_type": "markdown",
   "metadata": {},
   "source": [
    "## Exercise 2: Analyze a different model\n",
    "\n",
    "     A -> B; k1*A\n",
    "     B -> C; k2*B\n",
    "     A -> C; k3*C\n",
    "      \n",
    "     A = 5;\n",
    "     B = 0;\n",
    "     C = 0;\n",
    "     k1 = 0.1\n",
    "     k2 = 0.2\n",
    "     k3 = 0.3\n",
    "     \n",
    " 1. Create synthetic data for this model.\n",
    " 1. How do the dynamics of the second model differ from the first?\n",
    " 1. Do cross validation using this model and obtain $R^2$ values and parameter estimates for 2 folds? 3 folds?"
   ]
  },
  {
   "cell_type": "code",
   "execution_count": null,
   "metadata": {},
   "outputs": [],
   "source": [
    "# A model to analyzie\n",
    "model2 = \"\"\"\n",
    "     A -> B; k1*A\n",
    "     B -> C; k2*B\n",
    "     A -> C; k3*C\n",
    "      \n",
    "     A = 5;\n",
    "     B = 0;\n",
    "     C = 0;\n",
    "     k1 = 0.1\n",
    "     k2 = 0.2\n",
    "     k3 = 0.05\n",
    "\"\"\"\n",
    "parameters2 = mf.makeParameters(constants=['k1', 'k2', 'k3'])"
   ]
  },
  {
   "cell_type": "code",
   "execution_count": null,
   "metadata": {},
   "outputs": [],
   "source": [
    "# Create synthetic observational data and plot it.\n",
    "true_data2 = mf.runSimulation(model=model2, num_points=10)\n",
    "obs_data2 = mf.makeObservations(model=model2, noise_std=0.5, num_points=10)\n",
    "columns = ['A', 'B', 'C']\n",
    "mf.plotTimeSeries(true_data2, title=\"True Model 2\", columns=columns)\n",
    "mf.plotTimeSeries(true_data, title=\"True Model 1\", columns=columns)\n",
    "mf.plotTimeSeries(obs_data2, title=\"Model2 With Noise\", is_scatter=True, columns=columns)"
   ]
  },
  {
   "cell_type": "code",
   "execution_count": null,
   "metadata": {},
   "outputs": [],
   "source": [
    "# Illustration of parameter fitting\n",
    "mf.fit(obs_data2, model=model2, parameters=parameters2)"
   ]
  },
  {
   "cell_type": "code",
   "execution_count": null,
   "metadata": {},
   "outputs": [],
   "source": [
    "# Cross validate to fit model\n",
    "mf.crossValidate(obs_data2, model=model2, parameters=parameters2, num_folds=3)"
   ]
  },
  {
   "cell_type": "markdown",
   "metadata": {},
   "source": [
    "## Exercise 3: Fitting the Wrong Model\n",
    "1. Create synthetic data using the second model.\n",
    "1. Fit the first model to these data.\n",
    "1. How do the $R^2$ values from cross validation compare with those when we use the correct model? How accurately are k1 and k2 estimated?\n",
    "1. What happens to parameter estimates if k3 = 0.1?"
   ]
  },
  {
   "cell_type": "code",
   "execution_count": null,
   "metadata": {},
   "outputs": [],
   "source": [
    "# Create synthetic observational data and plot it.\n",
    "num_points = 10\n",
    "obs_data3 = mf.makeObservations(model=model2, noise_std=0.5, num_points=num_points)"
   ]
  },
  {
   "cell_type": "code",
   "execution_count": null,
   "metadata": {},
   "outputs": [],
   "source": [
    "# Illustration of parameter fitting\n",
    "mf.fit(obs_data3, model=model, parameters=parameters)"
   ]
  },
  {
   "cell_type": "code",
   "execution_count": null,
   "metadata": {},
   "outputs": [],
   "source": [
    "# Cross validate to fit model\n",
    "mf.crossValidate(obs_data3, model=model, parameters=parameters, num_folds=3)"
   ]
  }
 ],
 "metadata": {
  "kernelspec": {
   "display_name": "Python 3",
   "language": "python",
   "name": "python3"
  },
  "language_info": {
   "codemirror_mode": {
    "name": "ipython",
    "version": 3
   },
   "file_extension": ".py",
   "mimetype": "text/x-python",
   "name": "python",
   "nbconvert_exporter": "python",
   "pygments_lexer": "ipython3",
   "version": "3.6.4"
  }
 },
 "nbformat": 4,
 "nbformat_minor": 2
}
