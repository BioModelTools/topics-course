{
 "cells": [
  {
   "cell_type": "markdown",
   "metadata": {},
   "source": [
    "# Practical Techniques for Discovering Biochemical Models"
   ]
  },
  {
   "cell_type": "code",
   "execution_count": null,
   "metadata": {
    "scrolled": false
   },
   "outputs": [],
   "source": [
    "%matplotlib inline\n",
    "\n",
    "import model_fitting as mf\n",
    "import modeling_game as mg\n",
    "\n",
    "import lmfit\n",
    "import matplotlib.pyplot as plt\n",
    "import numpy as np\n",
    "import pandas as pd\n",
    "import re\n",
    "import tellurium as te"
   ]
  },
  {
   "cell_type": "markdown",
   "metadata": {},
   "source": [
    "## Model Description"
   ]
  },
  {
   "cell_type": "code",
   "execution_count": null,
   "metadata": {
    "scrolled": false
   },
   "outputs": [],
   "source": [
    "# Modified model\n",
    "model_1 = '''\n",
    "// Created by libAntimony v3.9.4\n",
    "model *pathway()\n",
    "\n",
    "  // Compartments and Species:\n",
    "  species INPUT, P1, mRNA1, P2, mRNA2, P3, mRNA3, P4, mRNA4, P5, mRNA5, P6;\n",
    "  species mRNA6, P7, mRNA7, P8, mRNA8;\n",
    "  \n",
    "  J1:  => mRNA1; L1 + Vm1*((K1_1*INPUT^H1 + K2_1*P4^H1 + K1_1*K3_1*INPUT^H1*P4^H1)/(1 + K1_1*INPUT^H1 + K2_1*P4^H1 + K1_1*K3_1*INPUT^H1*P4^H1)) - d_mRNA1*mRNA1;\n",
    "  F1:  => P1; a_protein1*mRNA1 - d_protein1*P1;\n",
    "  J2:  => mRNA2; L2 + Vm2*(K1_2*P4^H2/(1 + K1_2*P4^H2)) - d_mRNA2*mRNA2;\n",
    "  F2:  => P2; a_protein2*mRNA2 - d_protein2*P2;\n",
    "  J3:  => mRNA3; L3 + Vm3*(K1_3*P6^H3/(1 + K1_3*P6^H3)) - d_mRNA3*mRNA3;\n",
    "  F3:  => P3; a_protein3*mRNA3 - d_protein3*P3;\n",
    "  J4:  => mRNA4; L4 + Vm4*(1/(1 + K1_4*P2^H4)) - d_mRNA4*mRNA4;\n",
    "  F4:  => P4; a_protein4*mRNA4 - d_protein4*P4;\n",
    "  J5:  => mRNA5; L5 - d_mRNA5*mRNA5;\n",
    "  F5:  => P5; a_protein5*mRNA5 - d_protein5*P5;\n",
    "  J6:  => mRNA6; L6 + Vm6*(K1_6*P7^H6/(1 + K1_6*P7^H6 + K2_6*P1^H6 + K1_6*K2_6*P7^H6*P1^H6)) - d_mRNA6*mRNA6;\n",
    "  F6:  => P6; a_protein6*mRNA6 - d_protein6*P6;\n",
    "  J7:  => mRNA7; L7 +  Vm7*( K1_7*P1^H7/(1 + K1_7*P1^H7) + 1/(1 + K2_7*P7^H7)) - d_mRNA7*mRNA7;\n",
    "  F7:  => P7; a_protein7*mRNA7  - d_protein7*P7;\n",
    "  J8:  => mRNA8; L8 + Vm8*(1/(1 + K1_8*P1^H8)) - d_mRNA8*mRNA8;\n",
    "  F8:  => P8; a_protein8*mRNA8 - d_protein8*P8;\n",
    "  '''"
   ]
  },
  {
   "cell_type": "code",
   "execution_count": null,
   "metadata": {
    "scrolled": false
   },
   "outputs": [],
   "source": [
    "# Constants\n",
    "\n",
    "model_2 = '''\n",
    "\n",
    " // Constants to estimate\n",
    " Vm7 = 0;\n",
    " K1_7 = 0;\n",
    " K2_7 = 0;\n",
    " H7 = 0;\n",
    " K8_7 = 0;\n",
    " K7_8 = 0;\n",
    "\n",
    " // Species initializations:\n",
    "  INPUT = 1;\n",
    "  P1 = 0;\n",
    "  mRNA1 = 0;\n",
    "  P2 = 0;\n",
    "  mRNA2 = 0;\n",
    "  P3 = 0;\n",
    "  mRNA3 = 0;\n",
    "  P4 = 0;\n",
    "  mRNA4 = 0;\n",
    "  P5 = 0;\n",
    "  mRNA5 = 0;\n",
    "  P6 = 0;\n",
    "  mRNA6 = 0;\n",
    "  P7 = 0;\n",
    "  mRNA7 = 0;\n",
    "  P8 = 0;\n",
    "  mRNA8 = 0;\n",
    "\n",
    "  // Variable initializations:\n",
    "  d_protein1 = 0.01576525;\n",
    "  d_mRNA1 = 0.600013;\n",
    "  L1 = 0.0284569399501349;\n",
    "  Vm1 = 1.16380673480284;\n",
    "  a_protein1 = 0.089105566248939;\n",
    "  H1 = 4.52340391321994;\n",
    "  K1_1 = 0.0269204907071558;\n",
    "  K2_1 = 0.0169635567504703;\n",
    "  K3_1 = 0.0114278645720656;\n",
    "  d_protein2 = 0.0100753359178861;\n",
    "  d_mRNA2 = 0.607263145327485;\n",
    "  \n",
    "  L2 = 0.01126375;\n",
    "  Vm2 = 0.855433454948057;\n",
    "  a_protein2 = 0.0825104648147814;\n",
    "  H2 = 3.21939257313515;\n",
    "  K1_2 = 0.0170170903653747;\n",
    "  \n",
    "  d_protein3 = 0.0165270958726424;\n",
    "  d_mRNA3 = 1.4096553751623;\n",
    "  L3 = 0.0108824170117358;\n",
    "  Vm3 = 1.61383118795785;\n",
    "  a_protein3 = 0.118672807163739;\n",
    "  H3 = 4.57189341195625;\n",
    "  K1_3 = 0.0133069236136431;\n",
    "  \n",
    "  d_protein4 = 0.0205716618573404;\n",
    "  d_mRNA4 = 1.19069657063437;\n",
    "  L4 = 0.0142166568749038;\n",
    "  Vm4 = 0.916251896011744;\n",
    "  a_protein4 = 0.0862964088164644;\n",
    "  H4 = 5.00512303222327;\n",
    "  K1_4 = 0.0179894288457716;\n",
    "  \n",
    "  d_protein5 = 0.0180685727313577;\n",
    "  d_mRNA5 = 0.911653907722886;\n",
    "  L5 = 0.0124824037745626;\n",
    "  a_protein5 = 0.106293056264931;\n",
    "  d_protein6 = 0.0178004316181647;\n",
    "  \n",
    "  d_mRNA6 = 0.67287496171115;\n",
    "  L6 = 0.0166516087433626;\n",
    "  Vm6 = 0.889302076744445;\n",
    "  a_protein6 = 0.0890528700251159;\n",
    "  H6 = 5.58112408673455;\n",
    "  K1_6 = 0.0139445776013774;\n",
    "  K2_6 = 0.0121764364668572;\n",
    "  \n",
    "  d_protein7 = 0.0206180615545929;\n",
    "  d_mRNA7 = 0.618711430584466;\n",
    "  L7 = 0.0178636133026099;\n",
    "  a_protein7 = 0.0764169841455256;\n",
    "  \n",
    "  d_protein8 = 0.0131749080364666;\n",
    "  d_mRNA8 = 1.17483328491068;\n",
    "  L8 = 0.0165535374304033;\n",
    "  Vm8 = 0.87881445337468;\n",
    "  a_protein8 = 0.103749989801903;\n",
    "  H8 = 2.17775388441324;\n",
    "  K1_8 = 0.0168599518440462;\n",
    "\n",
    "  // Other declarations:\n",
    "  const d_protein1, d_mRNA1, L1, Vm1, a_protein1, H1, K1_1, K2_1, K3_1, d_protein2;\n",
    "  const d_mRNA2, L2, Vm2, a_protein2, H2, K1_2, d_protein3, d_mRNA3;\n",
    "  const L3, Vm3, a_protein3, H3, K1_3, d_protein4, d_mRNA4, L4;\n",
    "  const Vm4, a_protein4, H4, K1_4, d_protein5, d_mRNA5, L5;\n",
    "  const a_protein5, d_protein6, d_mRNA6, L6, Vm6, a_protein6;\n",
    "  const H6, K1_6, K2_6, d_protein7, d_mRNA7, L7, a_protein7;\n",
    "  const d_protein8, d_mRNA8, L8, Vm8, a_protein8, H8, K1_8;\n",
    "end\n",
    "'''"
   ]
  },
  {
   "cell_type": "code",
   "execution_count": null,
   "metadata": {
    "scrolled": false
   },
   "outputs": [],
   "source": [
    "model = model_1 + model_2\n",
    "# Check the model syntax and consistency\n",
    "rr = te.loada(model)"
   ]
  },
  {
   "cell_type": "markdown",
   "metadata": {},
   "source": [
    "## Dataframes in Brief\n",
    "The ``pandas`` package provides a table abstraction called a data frame.\n",
    "Dataframes have labels for columns and rows and can be manipulated more easily than numpy arrays."
   ]
  },
  {
   "cell_type": "code",
   "execution_count": null,
   "metadata": {
    "scrolled": true
   },
   "outputs": [],
   "source": [
    "# Create a dataframe from a dictionary\n",
    "df = pd.DataFrame({'a': [1, 2, 3, 4], 'b': [10, 20, 30, 40]}, index=[0.1, 0.2, 0.3, 0.4])\n",
    "df"
   ]
  },
  {
   "cell_type": "code",
   "execution_count": null,
   "metadata": {
    "scrolled": true
   },
   "outputs": [],
   "source": [
    "# Creating a new column\n",
    "df['c'] = df['a'] * df['b']\n",
    "df"
   ]
  },
  {
   "cell_type": "code",
   "execution_count": null,
   "metadata": {
    "scrolled": true
   },
   "outputs": [],
   "source": [
    "# Select rows by index value\n",
    "df[df.index < 0.3]"
   ]
  },
  {
   "cell_type": "code",
   "execution_count": null,
   "metadata": {
    "scrolled": true
   },
   "outputs": [],
   "source": [
    "# Create a dataframe from a CSV file\n",
    "df = pd.read_csv(\"wild.csv\")\n",
    "df"
   ]
  },
  {
   "cell_type": "code",
   "execution_count": null,
   "metadata": {
    "scrolled": true
   },
   "outputs": [],
   "source": [
    "# Create a dataframe from simulation output\n",
    "rr = te.loada(model)\n",
    "data = rr.simulate(0, 1200, 120)\n",
    "df = pd.DataFrame(data)\n",
    "df.columns = data.colnames\n",
    "df.head()"
   ]
  },
  {
   "cell_type": "code",
   "execution_count": null,
   "metadata": {
    "scrolled": true
   },
   "outputs": [],
   "source": [
    "# Cleaner construction of dataframe for simulation\n",
    "df = mg.simulate(model)\n",
    "df"
   ]
  },
  {
   "cell_type": "markdown",
   "metadata": {},
   "source": [
    "## Simplifying Parameter Construction\n",
    "Instead of \n",
    "\n",
    "``\n",
    "parameters = lmfit.Parameters()\n",
    "parameters.add(‘Vm7’, min=0.5, max=2)\n",
    "parameters.add(‘K1_7’, min=0.01, max=0.03)\n",
    "parameters.add(‘H7’, min=2, max=8)``\n",
    "\n",
    "We want to use a function.\n",
    "\n",
    "``\n",
    "parameters = makeParameters(['Vm7', 'K1_7', 'H7'])``\n",
    "\n",
    "This means that the function must:\n",
    "\n",
    "1. know the value ranges for each parameter type\n",
    "1. determine the parameter type for each name in the list\n",
    "1. create the parameter with the correct name, min, and max"
   ]
  },
  {
   "cell_type": "code",
   "execution_count": null,
   "metadata": {
    "scrolled": true
   },
   "outputs": [],
   "source": [
    "# Function skeleton\n",
    "def makeParameters(names):\n",
    "    \"\"\"\n",
    "    :param list-str names: names of parameters\n",
    "    :return lmfit.Parameters: \n",
    "    \"\"\"\n",
    "    # What's the first statement?"
   ]
  },
  {
   "cell_type": "markdown",
   "metadata": {},
   "source": [
    "### Value ranges for parameter types\n",
    "\n",
    "**Exercise**: Extend ``makeParameters`` so that the function knows the value ranges."
   ]
  },
  {
   "cell_type": "markdown",
   "metadata": {},
   "source": [
    "### Determining Parameter Type\n",
    "\n",
    "We know the parameter type based on the initial non-numeric string for each name.\n",
    "\n",
    "- ``Vm7`` is a ``Vm`` type\n",
    "- ``K1_7`` is a ``K`` type\n",
    "- ``H7`` is a ``H`` type"
   ]
  },
  {
   "cell_type": "markdown",
   "metadata": {},
   "source": [
    "We could find the parameter type by examining each character from the start of the name until we encounter a number.\n",
    "Python provides a better way using regular expressions.\n",
    "\n",
    "A regular expression is a string pattern.\n",
    "- ``*`` matches a string with any number of characters, such as ``ab&%`` and the empty string.\n",
    "- ``+`` matches a string with at least one character\n",
    "- ``^`` matches the first character in the string\n",
    "- ``\\D`` matches any character that's not a number\n",
    "\n",
    "So, ``^\\D+`` matches if the longest substring of a string that begins at the first character and continues until a number is encountered.\n"
   ]
  },
  {
   "cell_type": "code",
   "execution_count": null,
   "metadata": {
    "scrolled": true
   },
   "outputs": [],
   "source": [
    "import re\n",
    "for constant in ['Vm7', 'K1_7', 'H7']:\n",
    "    parameter_type = re.findall(r\"^\\D+\", constant)[0]\n",
    "    print(\"%s: %s\" % (constant, parameter_type))"
   ]
  },
  {
   "cell_type": "markdown",
   "metadata": {},
   "source": [
    "**Exercise**: Extend ``makeParameters`` to find the parameter type."
   ]
  },
  {
   "cell_type": "markdown",
   "metadata": {},
   "source": [
    "**Exercise**: Now that we know the ``min`` and ``max`` for each parameter type and the parameter type for each name, complete ``makeParameters``."
   ]
  },
  {
   "cell_type": "markdown",
   "metadata": {},
   "source": [
    "``lecture_analysis.py`` has a complete implementation of ``makeParameters``."
   ]
  },
  {
   "cell_type": "code",
   "execution_count": null,
   "metadata": {},
   "outputs": [],
   "source": [
    "mg.makeParameters(['Vm7', 'K1_7', 'H7'])"
   ]
  },
  {
   "cell_type": "code",
   "execution_count": null,
   "metadata": {},
   "outputs": [],
   "source": [
    "# Creating many parameters\n",
    "names = []\n",
    "for ptype in ['Vm', 'H', 'd_protein', 'd_mRNA']:\n",
    "    for gene in range(1,8):\n",
    "        names.append(\"%s%d\" % (ptype, gene))\n",
    "mg.makeParameters(names)"
   ]
  },
  {
   "cell_type": "markdown",
   "metadata": {},
   "source": [
    "## Residual Analysis for Dynamical Systems\n",
    "\n",
    "One approach to model discovery is residuals to identify where the model has poor predictions."
   ]
  },
  {
   "cell_type": "markdown",
   "metadata": {},
   "source": [
    "### Basics"
   ]
  },
  {
   "cell_type": "code",
   "execution_count": null,
   "metadata": {
    "scrolled": false
   },
   "outputs": [],
   "source": [
    "# mRNA data for wild type\n",
    "df_rnaseq = mg.cleanColumns(pd.read_csv(\"wild.csv\"))\n",
    "df_rnaseq.head()"
   ]
  },
  {
   "cell_type": "code",
   "execution_count": null,
   "metadata": {
    "scrolled": true
   },
   "outputs": [],
   "source": [
    "# Simulate the base model, but only collect the mRNA.\n",
    "df_base_model = mg.simulate(model, is_protein=False)\n",
    "df_base_model.head()"
   ]
  },
  {
   "cell_type": "code",
   "execution_count": null,
   "metadata": {
    "scrolled": true
   },
   "outputs": [],
   "source": [
    "df_res = df_rnaseq - df_base_model\n",
    "columns = [ c for c in df_res.columns if \"mRNA\" in c]\n",
    "df_res = df_res[columns]\n",
    "df_res.head()"
   ]
  },
  {
   "cell_type": "code",
   "execution_count": null,
   "metadata": {
    "scrolled": false
   },
   "outputs": [],
   "source": [
    "endtime = 1200\n",
    "plt.figure()\n",
    "mg.plotData(df_rnaseq, endtime=endtime)\n",
    "plt.figure()\n",
    "mg.plotData(df_res, endtime=endtime)"
   ]
  },
  {
   "cell_type": "markdown",
   "metadata": {},
   "source": [
    "### Workflow\n",
    "\n",
    "Repeat\n",
    "1. Find earliest time with large residuals\n",
    "1. Identify which chemical species have large residuals\n",
    "1. Adjust model and add parameters to reduce residuals.\n",
    "1. Cross validate using just the time range under study."
   ]
  },
  {
   "cell_type": "code",
   "execution_count": null,
   "metadata": {},
   "outputs": [],
   "source": [
    "# Earliest time with large residuals\n",
    "endtime = 300\n",
    "plt.figure()\n",
    "mg.plotData(df_rnaseq, endtime=endtime)\n",
    "plt.figure()\n",
    "mg.plotData(df_res, endtime=endtime)"
   ]
  },
  {
   "cell_type": "markdown",
   "metadata": {},
   "source": [
    "Start with changing the model for mRNA7. It must be affected by INPUT through Gene 1. Change the model to include this influence by modifying J7 to include a Hill equation for P1. That is, the original kinetics are: \n",
    "\n",
    "- ``L7 - d_mRNA7*mRNA7``\n",
    "\n",
    "and the new kinetics are\n",
    "\n",
    "- ``L7 + Vm7*(K1_7*P1^H7/(1 + K1_7*P1^H7)) - d_mRNA7*mRNA7``"
   ]
  },
  {
   "cell_type": "code",
   "execution_count": null,
   "metadata": {},
   "outputs": [],
   "source": [
    "def plotSimulation(model, parameters, sim_time=1200):\n",
    "    num_points = int(sim_time/10)\n",
    "    simulation_result = mf.runSimulation(model=model,sim_time=sim_time, \n",
    "                                         num_points=num_points, parameters=parameters)\n",
    "    df_model1 = mg.makeDF(simulation_result.data, is_protein=False)\n",
    "    df_res = df_rnaseq - df_model1\n",
    "    columns = [ c for c in df_res.columns if \"mRNA\" in c]\n",
    "    df_res = df_res[columns]\n",
    "    for args in [(df_rnaseq, \"Observations\"), (df_model1, \"Model\"), (df_res, \"Residuals\")]:\n",
    "        plt.figure()\n",
    "        mg.plotData(args[0], endtime=sim_time, title=args[1])"
   ]
  },
  {
   "cell_type": "code",
   "execution_count": null,
   "metadata": {},
   "outputs": [],
   "source": [
    "def runExperiment(model, constants, sim_time=1200, species=None):\n",
    "    num_points = int(sim_time/10)\n",
    "    parameters = mg.makeParameters(constants)\n",
    "    df_obs = df_rnaseq.loc[df_rnaseq.index[range(num_points)], :]\n",
    "    if species is not None:\n",
    "        df_obs = pd.DataFrame(df_obs[species])  # Focus on the one we're trying to fix\n",
    "    list_parameters, rsqs = mf.crossValidate(df_obs, model=model, parameters=parameters,\n",
    "                                             num_points=num_points, \n",
    "                                             method=mf.ME_BOTH,\n",
    "                                             sim_time=sim_time,\n",
    "                                             num_folds=3)\n",
    "    parameters = mf.makeAverageParameters(list_parameters)\n",
    "    plotSimulation(model, parameters, sim_time=sim_time)\n",
    "    return parameters"
   ]
  },
  {
   "cell_type": "code",
   "execution_count": null,
   "metadata": {},
   "outputs": [],
   "source": [
    "constants = [\"Vm1\"]\n",
    "runExperiment(model, constants, sim_time=300)"
   ]
  },
  {
   "cell_type": "code",
   "execution_count": null,
   "metadata": {},
   "outputs": [],
   "source": [
    "constants = ['Vm1', 'Vm7', 'K1_7', 'H7']\n",
    "runExperiment(model, constants, sim_time=300)"
   ]
  },
  {
   "cell_type": "markdown",
   "metadata": {},
   "source": [
    "Observations\n",
    "1. Improves after time ~75. Still missing the early dynamics for mRNA7."
   ]
  },
  {
   "cell_type": "code",
   "execution_count": null,
   "metadata": {},
   "outputs": [],
   "source": [
    "constants = ['Vm1', 'Vm7', 'K1_7', 'H7', 'K2_7']\n",
    "runExperiment(model, constants, sim_time=300)"
   ]
  }
 ],
 "metadata": {
  "kernelspec": {
   "display_name": "Python 3",
   "language": "python",
   "name": "python3"
  },
  "language_info": {
   "codemirror_mode": {
    "name": "ipython",
    "version": 3
   },
   "file_extension": ".py",
   "mimetype": "text/x-python",
   "name": "python",
   "nbconvert_exporter": "python",
   "pygments_lexer": "ipython3",
   "version": "3.6.9"
  }
 },
 "nbformat": 4,
 "nbformat_minor": 2
}
