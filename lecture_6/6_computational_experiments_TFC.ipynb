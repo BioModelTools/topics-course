{
 "cells": [
  {
   "cell_type": "markdown",
   "metadata": {},
   "source": [
    "<span style=\"font-family:Papyrus; font-size:3em;\">Computational Experiments</span>\n",
    "\n",
    "<span style=\"font-family:Papyrus; font-size:2em;\">Two Factors in Combination (TFC) Design</span>"
   ]
  },
  {
   "cell_type": "markdown",
   "metadata": {},
   "source": [
    "This lecture continues the analysis of the Wolf model of glycolytic oscillations to consider the effects of two parameters in combination."
   ]
  },
  {
   "cell_type": "markdown",
   "metadata": {},
   "source": [
    "# Programming Preliminaries"
   ]
  },
  {
   "cell_type": "code",
   "execution_count": 1,
   "metadata": {},
   "outputs": [],
   "source": [
    "# Code installs. Only needed once.\n",
    "if False:\n",
    "    !pip install matplotlib\n",
    "    !pip install numpy\n",
    "    !pip install pandas\n",
    "    !pip install scipy\n",
    "    !pip install tellurium\n",
    "    !pip install seaborn"
   ]
  },
  {
   "cell_type": "code",
   "execution_count": 2,
   "metadata": {},
   "outputs": [],
   "source": [
    "import matplotlib.pyplot as plt\n",
    "import matplotlib.gridspec as gridspec\n",
    "import numpy as np\n",
    "import pandas as pd\n",
    "from scipy import fftpack\n",
    "import tellurium as te\n",
    "import seaborn as sns"
   ]
  },
  {
   "cell_type": "code",
   "execution_count": 3,
   "metadata": {},
   "outputs": [],
   "source": [
    "# Constants\n",
    "AMPLIDX = 1  # Index of amplitude values\n",
    "FONTSIZE = 16\n",
    "FREQIDX = 0  # Index of frequency values\n",
    "TIME = \"time\"\n",
    "SMALLEST_PCT = -100  # Smallest percent change in a parameter value"
   ]
  },
  {
   "cell_type": "code",
   "execution_count": 4,
   "metadata": {},
   "outputs": [],
   "source": [
    "WOLF_MODEL = \"\"\"\n",
    "// Created by libAntimony v2.12.0\n",
    "model *Jana_WolfGlycolysis()\n",
    "\n",
    "  // Compartments and Species:\n",
    "  compartment compartment_;\n",
    "  species Glucose in compartment_, fructose_1_6_bisphosphate in compartment_;\n",
    "  species glyceraldehyde_3_phosphate in compartment_, glycerate_3_phosphate in compartment_;\n",
    "  species pyruvate in compartment_, Acetyladehyde in compartment_, External_acetaldehyde in compartment_;\n",
    "  species ATP in compartment_, ADP in compartment_, NAD in compartment_, NADH in compartment_;\n",
    "  species $External_glucose in compartment_, $ethanol in compartment_, $Glycerol in compartment_;\n",
    "  species $Sink in compartment_;\n",
    "\n",
    "  // Reactions:\n",
    "  J0: $External_glucose => Glucose; J0_inputFlux;\n",
    "  J1: Glucose + 2 ATP => fructose_1_6_bisphosphate + 2 ADP; J1_k1*Glucose*ATP*(1/(1 + (ATP/J1_Ki)^J1_n));\n",
    "  J2: fructose_1_6_bisphosphate => glyceraldehyde_3_phosphate + glyceraldehyde_3_phosphate; J2_k*fructose_1_6_bisphosphate;\n",
    "  J3: glyceraldehyde_3_phosphate + NADH => NAD + $Glycerol; J3_k*glyceraldehyde_3_phosphate*NADH;\n",
    "  J4: glyceraldehyde_3_phosphate + ADP + NAD => ATP + glycerate_3_phosphate + NADH; (J4_kg*J4_kp*glyceraldehyde_3_phosphate*NAD*ADP - J4_ka*J4_kk*glycerate_3_phosphate*ATP*NADH)/(J4_ka*NADH + J4_kp*ADP);\n",
    "  J5: glycerate_3_phosphate + ADP => ATP + pyruvate; J5_k*glycerate_3_phosphate*ADP;\n",
    "  J6: pyruvate => Acetyladehyde; J6_k*pyruvate;\n",
    "  J7: Acetyladehyde + NADH => NAD + $ethanol; J7_k*Acetyladehyde*NADH;\n",
    "  J8: Acetyladehyde => External_acetaldehyde; J8_k1*Acetyladehyde - J8_k2*External_acetaldehyde;\n",
    "  J9: ATP => ADP; J9_k*ATP;\n",
    "  J10: External_acetaldehyde => $Sink; J10_k*External_acetaldehyde;\n",
    "\n",
    "  // Species initializations:\n",
    "  Glucose = 0;\n",
    "  fructose_1_6_bisphosphate = 0;\n",
    "  glyceraldehyde_3_phosphate = 0;\n",
    "  glycerate_3_phosphate = 0;\n",
    "  pyruvate = 0;\n",
    "  Acetyladehyde = 0;\n",
    "  External_acetaldehyde = 0;\n",
    "  ATP = 3;\n",
    "  ADP = 1;\n",
    "  NAD = 0.5;\n",
    "  NADH = 0.5;\n",
    "  External_glucose = 0;\n",
    "  ethanol = 0;\n",
    "  Glycerol = 0;\n",
    "  Sink = 0;\n",
    "\n",
    "  // Compartment initializations:\n",
    "  compartment_ = 1;\n",
    "\n",
    "  // Variable initializations:\n",
    "  J0_inputFlux = 50;\n",
    "  J1_k1 = 550;\n",
    "  J1_Ki = 1;\n",
    "  J1_n = 4;\n",
    "  J2_k = 9.8;\n",
    "  J3_k = 85.7;\n",
    "  J4_kg = 323.8;\n",
    "  J4_kp = 76411.1;\n",
    "  J4_ka = 57823.1;\n",
    "  J4_kk = 23.7;\n",
    "  J5_k = 80;\n",
    "  J6_k = 9.7;\n",
    "  J7_k = 2000;\n",
    "  J8_k1 = 375;\n",
    "  J8_k2 = 375;\n",
    "  J9_k = 28;\n",
    "  J10_k = 80;\n",
    "\n",
    "  // Other declarations:\n",
    "  const compartment_, J0_inputFlux, J1_k1, J1_Ki, J1_n, J2_k, J3_k, J4_kg;\n",
    "  const J4_kp, J4_ka, J4_kk, J5_k, J6_k, J7_k, J8_k1, J8_k2, J9_k, J10_k;\n",
    "end\n",
    "\"\"\""
   ]
  },
  {
   "cell_type": "code",
   "execution_count": 5,
   "metadata": {},
   "outputs": [],
   "source": [
    "# Constants used in the analysis of the Wolf model\n",
    "WOLF_RR = te.loada(WOLF_MODEL)\n",
    "START = 0\n",
    "END = 5\n",
    "NUMPT = 300  # number of points to simulate\n",
    "WOLF_DATA = WOLF_RR.simulate(START, END, NUMPT)\n",
    "WOLF_PRMS = [\n",
    "  \"J0_inputFlux\", \"J1_k1\", \"J1_Ki\", \"J1_n\", \"J2_k\", \"J3_k\", \"J4_kg\", \"J4_kp\",\n",
    " \"J4_ka\", \"J4_kk\", \"J5_k\", \"J6_k\", \"J7_k\", \"J8_k1\", \"J8_k2\", \"J9_k\", \"J10_k\",     \n",
    "]"
   ]
  },
  {
   "cell_type": "markdown",
   "metadata": {},
   "source": [
    "# Design"
   ]
  },
  {
   "cell_type": "markdown",
   "metadata": {},
   "source": [
    "A TFC design is used to identify interactions between factors.\n",
    "This means that there is an experiment for every combination of levels of both factors.\n",
    "That is, there are $n_1 \\times n_2$ experiments if there are $n_i$ levels of the two factors."
   ]
  },
  {
   "cell_type": "markdown",
   "metadata": {},
   "source": [
    "## Challenge: Reducing combinatorics"
   ]
  },
  {
   "cell_type": "markdown",
   "metadata": {},
   "source": [
    "A first challenge with a TFC is the number of constants that must be estimated.\n",
    "For example, the Wolf model has 16 parameters, which means that there are 120 interactions, each of which need to be calculated at several levels.\n",
    "With 10 levels for each interaction, this results in $10 \\times 10 \\times 120 = 12,000$ constants to calculate."
   ]
  },
  {
   "cell_type": "markdown",
   "metadata": {},
   "source": [
    "**Questions**\n",
    "1. What are some approaches to reducing the number of constants to estimate in a TFC design?\n",
    "1. What interaction terms should be estimated for the Wolf model?"
   ]
  },
  {
   "cell_type": "markdown",
   "metadata": {},
   "source": [
    "## Challenge: Visualization"
   ]
  },
  {
   "cell_type": "markdown",
   "metadata": {},
   "source": [
    "**Questions**\n",
    "1. How should we present the responses that clearly presents which interaction terms are displayed, their values, and patterns in the responses?"
   ]
  },
  {
   "cell_type": "markdown",
   "metadata": {},
   "source": [
    "# Codes from OFT Design"
   ]
  },
  {
   "cell_type": "markdown",
   "metadata": {},
   "source": [
    "## runSimulation(parameterDct, roadrunner=None)->dict{parameter: percentChange}"
   ]
  },
  {
   "cell_type": "code",
   "execution_count": 6,
   "metadata": {},
   "outputs": [],
   "source": [
    "def runSimulation(parameterDct, roadrunner=None):\n",
    "    \"\"\"\n",
    "    Runs a simulation for parameters with percentage changes from baseline values.\n",
    "\n",
    "    Parameters\n",
    "    ----------\n",
    "    parameterDct: dict\n",
    "       key: parameter\n",
    "       value: float\n",
    "           percent change\n",
    "       \n",
    "    Returns\n",
    "    -------\n",
    "    namedArray: results of simulation\n",
    "    \"\"\"\n",
    "    if roadrunner is None:\n",
    "        roadrunner = te.loada(WOLF_MODEL)\n",
    "    else:\n",
    "        roadrunner.resetAll()\n",
    "    for parameter, percent in parameterDct.items():\n",
    "        baseValue = roadrunner[parameter]\n",
    "        roadrunner[parameter] = baseValue*(1 + 0.01*percent)\n",
    "    # Run the simulation\n",
    "    data = roadrunner.simulate(START, END, NUMPT)\n",
    "    return data\n",
    "\n",
    "#Test\n",
    "assert(len(runSimulation({\"J1_Ki\": 0.2})) > 0)"
   ]
  },
  {
   "cell_type": "markdown",
   "metadata": {},
   "source": [
    "## calculateFft(molecule, data) -> list-amplitudes, list-frequenceis"
   ]
  },
  {
   "cell_type": "code",
   "execution_count": 7,
   "metadata": {},
   "outputs": [],
   "source": [
    "def calculateFft(molecule, data, offset=100):\n",
    "    \"\"\"\n",
    "    Calculate the FFT for a molecule in the simulation output.\n",
    "    The calculation does not include amplitudes at a frequency of 0.\n",
    "    \n",
    "    Parameters\n",
    "    ----------\n",
    "    molecule: str\n",
    "    data: NamedArray\n",
    "    offset: int\n",
    "        Initial data that are not included in the FFT calculation\n",
    "             \n",
    "    Returns\n",
    "    -------\n",
    "    list-float, list-float\n",
    "        freqs, fftValues\n",
    "    \"\"\"\n",
    "    # Returns frequencies and abs(fft) for a chemical species (molecule)\n",
    "    col = \"[%s]\" % molecule\n",
    "    values = data[col]\n",
    "    numPoint = len(data)\n",
    "    count = numPoint - offset\n",
    "    endTime = data[\"time\"][-1]\n",
    "    freqs = fftpack.fftfreq(count, endTime/numPoint)\n",
    "    fftValues = np.abs(fftpack.fft(values[offset:]))\n",
    "    # Eliminate frequency of 0\n",
    "    freqs = freqs[1:]\n",
    "    fftValues = fftValues[1:]\n",
    "    return freqs, fftValues\n",
    "\n",
    "# Tests\n",
    "freqs, fftValues = calculateFft(\"Glucose\", WOLF_DATA)\n",
    "assert(max(fftValues) > 90)  # Top frequency should have a large magnitude"
   ]
  },
  {
   "cell_type": "markdown",
   "metadata": {},
   "source": [
    "## getFrequencyAmplitude(molecule, data)->frequency, amplitude"
   ]
  },
  {
   "cell_type": "code",
   "execution_count": 8,
   "metadata": {},
   "outputs": [],
   "source": [
    "def getFrequencyAmplitude(molecule, data):\n",
    "    \"\"\"\n",
    "    Obtains the highest amplitude frequency and value for the molecule.\n",
    "    \n",
    "    Parameters\n",
    "    ----------\n",
    "    molecule: str\n",
    "    data: NamedArray\n",
    "    \n",
    "    Returns\n",
    "    -------\n",
    "    frequency: float\n",
    "    amplitude: float\n",
    "    \"\"\"\n",
    "    # Return True if the expected frequency is among the topN frequencies with the largest amplitudes\n",
    "    frequencies, amplitudes = calculateFft(molecule, data=data)\n",
    "    # Find the indices of the largest amplitudes\n",
    "    sortedIndices = sorted(range(len(frequencies)), key=lambda i: amplitudes[i], reverse=True)\n",
    "    topIdx = sortedIndices[0]\n",
    "    return frequencies[topIdx], amplitudes[topIdx]\n",
    "\n",
    "# Tests\n",
    "frequency, amplitude = getFrequencyAmplitude(\"Glucose\", WOLF_DATA)\n",
    "assert(frequency > 5.0)\n",
    "assert(amplitude > 90)"
   ]
  },
  {
   "cell_type": "markdown",
   "metadata": {},
   "source": [
    "## calculateFft(molecule, data)->list-freq, list-fftValues"
   ]
  },
  {
   "cell_type": "code",
   "execution_count": 9,
   "metadata": {},
   "outputs": [],
   "source": [
    "def calculateFft(molecule, data, offset=100):\n",
    "    \"\"\"\n",
    "    Calculate the FFT for a molecule in the simulation output.\n",
    "    The calculation does not include amplitudes at a frequency of 0.\n",
    "    \n",
    "    Parameters\n",
    "    ----------\n",
    "    molecule: str\n",
    "    data: NamedArray\n",
    "    offset: int\n",
    "        Initial data that are not included in the FFT calculation\n",
    "        \n",
    "    Returns\n",
    "    -------\n",
    "    list-float, list-float\n",
    "        freqs, fftValues\n",
    "    \"\"\"\n",
    "    # Returns frequencies and abs(fft) for a chemical species (molecule)\n",
    "    col = \"[%s]\" % molecule\n",
    "    values = data[col]\n",
    "    numPoint = len(data)\n",
    "    count = numPoint - offset\n",
    "    endTime = data[\"time\"][-1]\n",
    "    freqs = fftpack.fftfreq(count, endTime/numPoint)\n",
    "    fftValues = np.abs(fftpack.fft(values[offset:]))\n",
    "    # Eliminate frequency of 0\n",
    "    freqs = freqs[1:]\n",
    "    fftValues = fftValues[1:]\n",
    "    return freqs, fftValues\n",
    "\n",
    "# Tests\n",
    "freqs, fftValues = calculateFft(\"Glucose\", WOLF_DATA)\n",
    "assert(max(fftValues) > 90)  # Top frequency should have a large magnitude"
   ]
  },
  {
   "cell_type": "markdown",
   "metadata": {},
   "source": [
    "## runExperiment(parameterDct)->frequencySer, amplitudeSer"
   ]
  },
  {
   "cell_type": "code",
   "execution_count": 10,
   "metadata": {},
   "outputs": [],
   "source": [
    "def runExperiment(parameterDct):\n",
    "    \"\"\"\n",
    "    Runs an experiment by changing parameters by the specified fractions and calculating responses.\n",
    "    \n",
    "    Parameters\n",
    "    ----------\n",
    "    parameterDct: dict\n",
    "       key: parameter name\n",
    "       value: percent change the parameter\n",
    "       \n",
    "    Returns\n",
    "    -------\n",
    "    frequencySer: pd.Series\n",
    "        index: molecule\n",
    "        value: frequency with largest amplitude\n",
    "    amplitudeSer: pd.Series\n",
    "        index: molecule\n",
    "        value: largest amplitude\n",
    "    \"\"\"\n",
    "    data = runSimulation(parameterDct)\n",
    "    frequencyDct = {}\n",
    "    amplitudeDct = {}\n",
    "    molecules = [s[1:-1] for s in data.colnames if s != TIME]\n",
    "    for molecule in molecules:\n",
    "        frequency, amplitude = getFrequencyAmplitude(molecule, data)\n",
    "        frequencyDct[molecule] = frequency\n",
    "        amplitudeDct[molecule] = amplitude\n",
    "    return pd.Series(frequencyDct), pd.Series(amplitudeDct)\n",
    "\n",
    "# Test\n",
    "frequencySER, amplitudeSER = runExperiment({\"J1_Ki\": 0.03})\n",
    "assert(len(frequencySER) == len(amplitudeSER))"
   ]
  },
  {
   "cell_type": "markdown",
   "metadata": {},
   "source": [
    "## runExperiments(parameter, percents, isRelative) -> frequencyDF, amplitudeDF"
   ]
  },
  {
   "cell_type": "code",
   "execution_count": 11,
   "metadata": {},
   "outputs": [],
   "source": [
    "def runExperiments(parameter, percents, isRelative=True):\n",
    "    \"\"\"\n",
    "    Runs experiments for one parameter of the model at different percent changes in the parameter value (levels).\n",
    "    \n",
    "    Parameter\n",
    "    ---------\n",
    "    parameter: str\n",
    "    percents: list-float\n",
    "        percent change in parameter\n",
    "    isRelative: bool\n",
    "        True: values are percent changes relative to baseline\n",
    "        False: absolute value\n",
    "        \n",
    "    Returns\n",
    "    -------\n",
    "    frequencyDF: DataFrame\n",
    "        index: percent\n",
    "        columns: molecule\n",
    "        values: percent change in frequency w.r.t. baseline\n",
    "    amplitudeDF: DataFrame\n",
    "        index: percent\n",
    "        columns: molecule\n",
    "        values: depends on isRelative\n",
    "    \"\"\"\n",
    "    # Calculate the baseline values\n",
    "    baseFrequencySer, baseAmplitudeSer = runExperiment({})\n",
    "    #\n",
    "    def calc(ser, isFrequency=True):\n",
    "        if not isRelative:\n",
    "            return ser\n",
    "        if isFrequency:\n",
    "            baseSer = baseFrequencySer\n",
    "        else:\n",
    "            baseSer = baseAmplitudeSer\n",
    "        resultSer = 100*(ser - baseSer)/baseSer\n",
    "        return resultSer\n",
    "    #\n",
    "    def iterateLevels(isFrequency=None):\n",
    "        if isFrequency is None:\n",
    "            raise ValueError(\"Must specify isFrequency!\")\n",
    "        sers = []  # Collection of experiment results\n",
    "        for percent in percents:\n",
    "            parameterDct = {parameter: percent}\n",
    "            frequencySer, amplitudeSer = runExperiment(parameterDct)\n",
    "            if isFrequency:\n",
    "                ser = frequencySer\n",
    "            else:\n",
    "                ser = amplitudeSer\n",
    "            adjSer = calc(ser, isFrequency=isFrequency)\n",
    "            sers.append(pd.DataFrame(adjSer).transpose())\n",
    "        resultDF = pd.concat(sers)\n",
    "        resultDF.index = percents\n",
    "        return resultDF\n",
    "    #\n",
    "    frequencyDF = iterateLevels(isFrequency=True)\n",
    "    amplitudeDF = iterateLevels(isFrequency=False)\n",
    "    return frequencyDF, amplitudeDF\n",
    "\n",
    "# Tests\n",
    "percents = [-7, 0, 7]\n",
    "fDF, aDF = runExperiments(\"J1_Ki\", percents)\n",
    "assert(np.isclose(fDF.loc[percents[0], \"Glucose\"], -1*fDF.loc[percents[-1], \"Glucose\"]) )\n",
    "assert(aDF.loc[percents[-1], \"Glucose\"] < 0 )\n",
    "assert(aDF.loc[percents[0], \"Glucose\"] > 0 )"
   ]
  },
  {
   "cell_type": "markdown",
   "metadata": {},
   "source": [
    "# Generalize runExperiments\n",
    "Generalize ``runExperiments`` so that it calculates responses for all combinations of levels of two parameters."
   ]
  },
  {
   "cell_type": "code",
   "execution_count": 12,
   "metadata": {},
   "outputs": [],
   "source": [
    "def runExperimentsTwoParameters(parameter1, parameter2, percent1s, percent2s, isRelative=True):\n",
    "    \"\"\"\n",
    "    Runs experiments for changes in multipleparameters of the model at different percent changes in the parameter value (levels).\n",
    "    \n",
    "    Parameter\n",
    "    ---------\n",
    "    parameter1: str\n",
    "    parameter2: str\n",
    "    percent1s: list-int\n",
    "    percent2s: list-int\n",
    "    isRelative: bool\n",
    "        True: values are percent changes relative to baseline\n",
    "        False: absolute value\n",
    "        \n",
    "    Returns\n",
    "    -------\n",
    "    frequencyDF: DataFrame, amplitude: DataFrame\n",
    "       index: tuple of percent changes in parameter values\n",
    "       columns: molecule\n",
    "       value: depends on isRelative\n",
    "       index.name: string of tuple (rowParameter, columnParameter)\n",
    "    \"\"\"\n",
    "    INDEX1 = \"index1\"\n",
    "    INDEX2 = \"index2\"\n",
    "    # Calculate the baseline values\n",
    "    baseFrequencySer, baseAmplitudeSer = runExperiment({})\n",
    "    #\n",
    "    def calc(ser, isFrequency=True):\n",
    "        if not isRelative:\n",
    "            return ser\n",
    "        if isFrequency:\n",
    "            baseSer = baseFrequencySer\n",
    "        else:\n",
    "            baseSer = baseAmplitudeSer\n",
    "        resultSer = 100*(ser - baseSer)/baseSer\n",
    "        return resultSer\n",
    "    #\n",
    "    def iterateLevels(isFrequency=None):\n",
    "        if isFrequency is None:\n",
    "            raise ValueError(\"Must specify isFrequency!\")\n",
    "        sers = []  # Collection of experiment results\n",
    "        index1 = []\n",
    "        index2 = []\n",
    "        for percent1 in percent1s:\n",
    "            for percent2 in percent2s:\n",
    "                #indices.append(\"%d_%d\" % (percent1, percent2))\n",
    "                index1.append(percent1)\n",
    "                index2.append(percent2)\n",
    "                parameterDct = {parameter1: percent1, parameter2: percent2}\n",
    "                frequencySer, amplitudeSer = runExperiment(parameterDct)\n",
    "                if isFrequency:\n",
    "                    ser = frequencySer\n",
    "                else:\n",
    "                    ser = amplitudeSer\n",
    "                adjSer = calc(ser, isFrequency=isFrequency)\n",
    "                sers.append(pd.DataFrame(adjSer).transpose())\n",
    "        resultDF = pd.concat(sers)\n",
    "        resultDF[INDEX1] = index1\n",
    "        resultDF[INDEX2] = index2\n",
    "        resultDF = resultDF.set_index([index1, index2])\n",
    "        for column in [INDEX1, INDEX2]:\n",
    "            del resultDF[column]\n",
    "        resultDF.index.name = str((parameter1, parameter2))\n",
    "        return resultDF\n",
    "    #\n",
    "    frequencyDF = iterateLevels(isFrequency=True)\n",
    "    amplitudeDF = iterateLevels(isFrequency=False)\n",
    "    return frequencyDF, amplitudeDF\n",
    "\n",
    "# Tests\n",
    "percents = [-7, -5, -2, 0, 2, 5, 7]\n",
    "fDF, aDF = runExperimentsTwoParameters(\"J1_Ki\", \"J1_k1\", percents, percents)\n",
    "assert(aDF.loc[(percents[-1], percents[-1]), \"Glucose\"] < 0 )\n",
    "assert(fDF.loc[(percents[0], percents[0]), \"Glucose\"] < 0 )"
   ]
  },
  {
   "cell_type": "code",
   "execution_count": 13,
   "metadata": {},
   "outputs": [],
   "source": [
    "# Test Data\n",
    "TEST_FDF = fDF\n",
    "TEST_ADF = aDF"
   ]
  },
  {
   "cell_type": "markdown",
   "metadata": {},
   "source": [
    "**Questions**\n",
    "1. Display the amplitude response if there is no change in either J1_Ki or J1_k1.\n",
    "1. Display the amplitude responses for J1_Ki is 0% and all changes in J1_k1."
   ]
  },
  {
   "cell_type": "code",
   "execution_count": 14,
   "metadata": {
    "jupyter": {
     "source_hidden": true
    }
   },
   "outputs": [
    {
     "name": "stdout",
     "output_type": "stream",
     "text": [
      "** Solution to 1:\n",
      "\n",
      "Glucose                       0.0\n",
      "fructose_1_6_bisphosphate     0.0\n",
      "glyceraldehyde_3_phosphate    0.0\n",
      "glycerate_3_phosphate         0.0\n",
      "pyruvate                      0.0\n",
      "Acetyladehyde                 0.0\n",
      "External_acetaldehyde         0.0\n",
      "ATP                           0.0\n",
      "ADP                           0.0\n",
      "NAD                           0.0\n",
      "NADH                          0.0\n",
      "Name: (0, 0), dtype: float64\n",
      "\n",
      "\n",
      "** Solution to 2:\n",
      "\n",
      "        Glucose  fructose_1_6_bisphosphate  glyceraldehyde_3_phosphate  \\\n",
      "0 -7   4.095163                   3.969873                    5.987780   \n",
      "  -5 -16.194219                 -16.195092                  -16.874792   \n",
      "  -2 -10.167903                 -10.958226                  -10.307399   \n",
      "   0   0.000000                   0.000000                    0.000000   \n",
      "   2  -1.490985                  -0.508779                   -2.969398   \n",
      "   5 -24.531760                 -22.903761                  -26.759622   \n",
      "   7 -31.378887                 -31.092910                  -32.905696   \n",
      "\n",
      "      glycerate_3_phosphate   pyruvate  Acetyladehyde  External_acetaldehyde  \\\n",
      "0 -7               6.543748   4.390472       4.217668               4.144287   \n",
      "  -5             -16.150286 -15.571491     -16.620834             -16.696848   \n",
      "  -2             -11.648394 -12.511617      -9.869789              -9.971378   \n",
      "   0               0.000000   0.000000       0.000000               0.000000   \n",
      "   2              -0.970318   0.425640      -2.878897              -2.961002   \n",
      "   5             -22.673047 -21.111563     -24.456188             -24.589432   \n",
      "   7             -31.842157 -31.122108     -33.082885             -33.182943   \n",
      "\n",
      "            ATP        ADP        NAD       NADH  \n",
      "0 -7   1.358674   1.358674   3.111999   3.111999  \n",
      "  -5 -18.934814 -18.934814 -17.036515 -17.036515  \n",
      "  -2 -11.790495 -11.790495 -10.532862 -10.532862  \n",
      "   0   0.000000   0.000000   0.000000   0.000000  \n",
      "   2  -0.267935  -0.267935  -1.394788  -1.394788  \n",
      "   5 -22.077196 -22.077196 -22.483703 -22.483703  \n",
      "   7 -29.396757 -29.396757 -31.199192 -31.199192  \n"
     ]
    }
   ],
   "source": [
    "# Solution 1\n",
    "print(\"** Solution to 1:\\n\")\n",
    "print(aDF.loc[(0,0), :])\n",
    "\n",
    "# Solution 2\n",
    "indices = [(0, p) for p in percents]\n",
    "print(\"\\n\\n** Solution to 2:\\n\")\n",
    "print(aDF.loc[indices, :])"
   ]
  },
  {
   "cell_type": "markdown",
   "metadata": {},
   "source": [
    "# Visualizing results of an Experiment"
   ]
  },
  {
   "cell_type": "markdown",
   "metadata": {},
   "source": [
    "We will visualize the TFC reponses using a heatmap. The horizontal and vertical axes\n",
    "will be percent changes in parameter values; cells will be colored with the change in magnitude."
   ]
  },
  {
   "cell_type": "markdown",
   "metadata": {},
   "source": [
    "## Example of a heatmap in python"
   ]
  },
  {
   "cell_type": "markdown",
   "metadata": {},
   "source": [
    "The example below generates a heatmap from a pandas DataFrame. \n",
    "The horizontal axis are the column names; the vertical axis are the values of the index of the DataFrame.\n",
    "Values are encoded as a heat representation from 0 to 1.0."
   ]
  },
  {
   "cell_type": "code",
   "execution_count": 15,
   "metadata": {},
   "outputs": [
    {
     "data": {
      "text/html": [
       "<div>\n",
       "<style scoped>\n",
       "    .dataframe tbody tr th:only-of-type {\n",
       "        vertical-align: middle;\n",
       "    }\n",
       "\n",
       "    .dataframe tbody tr th {\n",
       "        vertical-align: top;\n",
       "    }\n",
       "\n",
       "    .dataframe thead th {\n",
       "        text-align: right;\n",
       "    }\n",
       "</style>\n",
       "<table border=\"1\" class=\"dataframe\">\n",
       "  <thead>\n",
       "    <tr style=\"text-align: right;\">\n",
       "      <th></th>\n",
       "      <th>a</th>\n",
       "      <th>b</th>\n",
       "    </tr>\n",
       "  </thead>\n",
       "  <tbody>\n",
       "    <tr>\n",
       "      <th>0</th>\n",
       "      <td>0.319480</td>\n",
       "      <td>0.053264</td>\n",
       "    </tr>\n",
       "    <tr>\n",
       "      <th>10</th>\n",
       "      <td>0.149734</td>\n",
       "      <td>0.337275</td>\n",
       "    </tr>\n",
       "    <tr>\n",
       "      <th>20</th>\n",
       "      <td>0.238226</td>\n",
       "      <td>0.986665</td>\n",
       "    </tr>\n",
       "    <tr>\n",
       "      <th>30</th>\n",
       "      <td>0.094790</td>\n",
       "      <td>0.368745</td>\n",
       "    </tr>\n",
       "    <tr>\n",
       "      <th>40</th>\n",
       "      <td>0.662460</td>\n",
       "      <td>0.663388</td>\n",
       "    </tr>\n",
       "  </tbody>\n",
       "</table>\n",
       "</div>"
      ],
      "text/plain": [
       "           a         b\n",
       "0   0.319480  0.053264\n",
       "10  0.149734  0.337275\n",
       "20  0.238226  0.986665\n",
       "30  0.094790  0.368745\n",
       "40  0.662460  0.663388"
      ]
     },
     "execution_count": 15,
     "metadata": {},
     "output_type": "execute_result"
    }
   ],
   "source": [
    "# DataFrame\n",
    "df = pd.DataFrame({\"a\": np.random.random(5), \"b\": np.random.random(5)})\n",
    "df.index = [10*v for v in range(len(df))]\n",
    "df"
   ]
  },
  {
   "cell_type": "code",
   "execution_count": 16,
   "metadata": {},
   "outputs": [
    {
     "data": {
      "image/png": "[encoded data removed]",
      "text/plain": [
       "<Figure size 432x288 with 2 Axes>"
      ]
     },
     "metadata": {
      "needs_background": "light"
     },
     "output_type": "display_data"
    }
   ],
   "source": [
    "# Generating the heatmap\n",
    "_ = sns.heatmap(df, cmap='seismic', vmin=0, vmax=1)"
   ]
  },
  {
   "cell_type": "markdown",
   "metadata": {},
   "source": [
    "## Heat map for two parameters in combination"
   ]
  },
  {
   "cell_type": "markdown",
   "metadata": {},
   "source": [
    "**Question**\n",
    "1. Generate a heatmap for the results of experiments varying the parameters \"J1_k1\" and \"J1_Ki\" in combination\n",
    "for levels -10, -5, 0, 5, 10.\n",
    "The names of molecules should be the rows."
   ]
  },
  {
   "cell_type": "code",
   "execution_count": 17,
   "metadata": {
    "jupyter": {
     "source_hidden": true
    }
   },
   "outputs": [
    {
     "data": {
      "image/png": "[encoded data removed]",
      "text/plain": [
       "<Figure size 432x288 with 2 Axes>"
      ]
     },
     "metadata": {
      "needs_background": "light"
     },
     "output_type": "display_data"
    }
   ],
   "source": [
    "percents = [-10, -5, 0, 5, 10]\n",
    "fDF, aDF = runExperimentsTwoParameters(\"J1_k1\", \"J1_Ki\", percents, percents)\n",
    "_ = sns.heatmap(aDF.transpose(), cmap='seismic', vmin=-100, vmax=100)"
   ]
  },
  {
   "cell_type": "markdown",
   "metadata": {},
   "source": [
    "**Question**\n",
    "1. Create a function that transforms the frequency (or amplitude) DataFrame so that rows are values of parameter 1, columns are values of parameter 2,\n",
    "and cells are values of a designated molecule."
   ]
  },
  {
   "cell_type": "code",
   "execution_count": 18,
   "metadata": {},
   "outputs": [],
   "source": [
    "def pivotResponse(responseDF, molecule):\n",
    "    \"\"\"\n",
    "    Creates a DataFrame in which values of the parameters are rows and columns.\n",
    "    \n",
    "    Parameters\n",
    "    ----------\n",
    "    responseDF: DataFrame\n",
    "        columns: molecule names\n",
    "        rows: tuple of percent changes in parameters\n",
    "        values: response\n",
    "        index.name: string of tuple (rowParameter, columnParameter)\n",
    "    molecule: str\n",
    "        \n",
    "    Returns\n",
    "    -------\n",
    "    DataFrame\n",
    "        columns: values of columnParameter\n",
    "        rows: values of rowParameter\n",
    "        cells: response for molecule\n",
    "    \"\"\"\n",
    "    LEVEL0 = \"level_0\"\n",
    "    LEVEL1 = \"level_1\"\n",
    "    df = responseDF.reset_index()\n",
    "    resultDF = pd.pivot_table(df, values=molecule, index=LEVEL0, columns=LEVEL1)\n",
    "    parameters = eval(responseDF.index.name)\n",
    "    resultDF.index.name = parameters[0]\n",
    "    resultDF.columns.name = parameters[1]\n",
    "    return resultDF\n",
    "\n",
    "# Tests\n",
    "df = pivotResponse(TEST_FDF, \"Glucose\")\n",
    "#pd.pivot_table(df, values=\"Glucose\", index=\"level_0\", columns=\"level_1\")\n",
    "assert(len(df.index) == len(df.columns))"
   ]
  },
  {
   "cell_type": "markdown",
   "metadata": {},
   "source": [
    "**Question**\n",
    "1. Write a function that constructs a heatmap that displays interaction results for a single molecule (e.g., Glucose) and has rows that are changes to one parameter and columns that are changes to the other parameter. The function should return the axis."
   ]
  },
  {
   "cell_type": "code",
   "execution_count": 28,
   "metadata": {},
   "outputs": [
    {
     "data": {
      "image/png": "[encoded data removed]",
      "text/plain": [
       "<Figure size 432x288 with 2 Axes>"
      ]
     },
     "metadata": {
      "needs_background": "light"
     },
     "output_type": "display_data"
    }
   ],
   "source": [
    "def makeHeatmap(responseDF, molecule, isColorbar=True, ax=None, vmin=-100, vmax=100, cbar_ax=None):\n",
    "    \"\"\"\n",
    "    Creates a heatmap showing the interactions of response values for two parameters.\n",
    "    \n",
    "    Parameters\n",
    "    ----------\n",
    "    reponseDF: DataFrame\n",
    "        index: tuples of percent changes in parameter values\n",
    "        columns: molecule\n",
    "        values: response\n",
    "    molecule: str\n",
    "    isColorbar: bool\n",
    "        show the colorbar\n",
    "    vmin: float\n",
    "        minimum value in color bar\n",
    "    vmax: float\n",
    "        maximum value in color bar\n",
    "    cbar_ax: Axes\n",
    "    \"\"\"\n",
    "    df = pivotResponse(responseDF, molecule)\n",
    "    if ax is None:\n",
    "        ax = sns.heatmap(df, cmap='seismic', vmin=vmin, vmax=vmax, cbar=isColorbar, cbar_ax=cbar_ax)\n",
    "    else:\n",
    "        _ = sns.heatmap(df, cmap='seismic', vmin=vmin, vmax=vmax, cbar=isColorbar, ax=ax, cbar_ax=cbar_ax)\n",
    "    return ax\n",
    "\n",
    "# Tests\n",
    "_ = makeHeatmap(TEST_FDF, \"ATP\")"
   ]
  },
  {
   "cell_type": "markdown",
   "metadata": {},
   "source": [
    "# Running a Study"
   ]
  },
  {
   "cell_type": "markdown",
   "metadata": {},
   "source": [
    "**Question**\n",
    "1. Write a function that generates an upper triangular matrix of plots labelled with the interactions between parameter pairs."
   ]
  },
  {
   "cell_type": "code",
   "execution_count": 42,
   "metadata": {},
   "outputs": [
    {
     "data": {
      "image/png": "[encoded data removed]",
      "text/plain": [
       "<Figure size 1440x720 with 2 Axes>"
      ]
     },
     "metadata": {
      "needs_background": "light"
     },
     "output_type": "display_data"
    }
   ],
   "source": [
    "def runStudyTFC(molecule, parameters, percents, isRelative=True, isFrequency=True, figsize=(20, 10)):\n",
    "    \"\"\"\n",
    "    Creates an upper triangular plot of the interactions between parameter pairs in combinations.\n",
    "    \n",
    "    Parameters\n",
    "    ----------\n",
    "    molecule: str\n",
    "    parameters: list-str\n",
    "    percents: list-int\n",
    "    isRelative: bool\n",
    "       Results are percent change w.r.t. base\n",
    "    isFrequency: bool\n",
    "       Results are for frequencies\n",
    "    figisze: tuple-int\n",
    "       Size of figures\n",
    "    \"\"\"\n",
    "    numParameter = len(parameters)\n",
    "    fig = plt.figure(figsize=figsize)\n",
    "    gs = fig.add_gridspec(numParameter, numParameter)\n",
    "    cbar_ax = fig.add_axes([.91, .3, .03, .4])\n",
    "    for rowIdx in range(numParameter):\n",
    "        parmRowidx = rowIdx\n",
    "        for colIdx in range(numParameter-rowIdx-1):\n",
    "            parmColidx = numParameter - colIdx - 1\n",
    "            frequencyDF, amplitudeDF = runExperimentsTwoParameters(\n",
    "                parameters[parmRowidx], parameters[parmColidx], \n",
    "                percents, percents, isRelative=isRelative)\n",
    "            if isFrequency:\n",
    "                responseDF = frequencyDF\n",
    "            else:\n",
    "                responseDF = amplitudeDF\n",
    "            ax = plt.subplot(gs[rowIdx, colIdx])\n",
    "            if rowIdx == 0:\n",
    "                ax.text(1, -0.25, parameters[parmColidx], fontsize=FONTSIZE)\n",
    "            if (rowIdx == numParameter - 2):\n",
    "                _ = makeHeatmap(responseDF, molecule, ax=ax, isColorbar=True, cbar_ax=cbar_ax)\n",
    "            else:\n",
    "                _ = makeHeatmap(responseDF, molecule, ax=ax, isColorbar=False)\n",
    "            ax.set_xlabel(\"\")\n",
    "            if colIdx == 0:\n",
    "                ax.set_ylabel(parameters[parmRowidx], fontsize=FONTSIZE)\n",
    "            else:\n",
    "                ax.set_ylabel(\"\")\n",
    "                ax.set_yticklabels([])\n",
    "    if isFrequency:\n",
    "        responseType = \"Frequency\"\n",
    "    else:\n",
    "        responseType = \"Amplitude\"\n",
    "    if isRelative:\n",
    "        metricType = \"relative\"\n",
    "    else:\n",
    "        metricType = \"absolute\"\n",
    "    suptitle = \"%s: %s response (%s)\" % (molecule, responseType, metricType)\n",
    "    plt.suptitle(suptitle, fontsize=2*FONTSIZE)\n",
    "\n",
    "# Tests\n",
    "percents = 5*(np.array(range(21)) - 10)\n",
    "runStudyTFC(\"ATP\", WOLF_PRMS[0:8], percents, isRelative=True, isFrequency=True)    "
   ]
  }
 ],
 "metadata": {
  "kernelspec": {
   "display_name": "Python 3",
   "language": "python",
   "name": "python3"
  },
  "language_info": {
   "codemirror_mode": {
    "name": "ipython",
    "version": 3
   },
   "file_extension": ".py",
   "mimetype": "text/x-python",
   "name": "python",
   "nbconvert_exporter": "python",
   "pygments_lexer": "ipython3",
   "version": "3.6.9"
  },
  "toc-autonumbering": true
 },
 "nbformat": 4,
 "nbformat_minor": 4
}
