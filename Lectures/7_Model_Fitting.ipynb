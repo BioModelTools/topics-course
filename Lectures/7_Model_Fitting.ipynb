{
 "cells": [
  {
   "cell_type": "code",
   "execution_count": 55,
   "metadata": {},
   "outputs": [],
   "source": [
    "%matplotlib inline\n",
    "import tellurium as te\n",
    "import numpy as np\n",
    "import lmfit   # Fitting lib\n",
    "import math\n",
    "import random \n",
    "import matplotlib.pyplot as plt"
   ]
  },
  {
   "cell_type": "code",
   "execution_count": 56,
   "metadata": {},
   "outputs": [],
   "source": [
    "rr = te.loada(\"\"\"\n",
    "     A -> B; k1*A\n",
    "      \n",
    "     A = 5; \n",
    "     k1 = 0.15\n",
    "\"\"\")\n",
    "\n",
    "timeToSimulate = 30\n",
    "nDataPoints = 10"
   ]
  },
  {
   "cell_type": "code",
   "execution_count": 57,
   "metadata": {},
   "outputs": [
    {
     "data": {
      "text/plain": [
       "       time,       [A],     [B]\n",
       " [[       0,         5,       0],\n",
       "  [ 3.33333,   3.03265, 1.96735],\n",
       "  [ 6.66667,    1.8394,  3.1606],\n",
       "  [      10,   1.11566, 3.88434],\n",
       "  [ 13.3333,  0.676684, 4.32332],\n",
       "  [ 16.6667,  0.410431, 4.58957],\n",
       "  [      20,   0.24894, 4.75106],\n",
       "  [ 23.3333,   0.15099, 4.84901],\n",
       "  [ 26.6667, 0.0915806, 4.90842],\n",
       "  [      30, 0.0555466, 4.94445]]"
      ]
     },
     "execution_count": 57,
     "metadata": {},
     "output_type": "execute_result"
    }
   ],
   "source": [
    "data = rr.simulate (0, timeToSimulate, nDataPoints)\n",
    "data"
   ]
  },
  {
   "cell_type": "code",
   "execution_count": 58,
   "metadata": {},
   "outputs": [
    {
     "data": {
      "image/png": "[encoded data removed]",
      "text/plain": [
       "<Figure size 432x288 with 1 Axes>"
      ]
     },
     "metadata": {
      "needs_background": "light"
     },
     "output_type": "display_data"
    }
   ],
   "source": [
    "# Create the experimental data\n",
    "\n",
    "\n",
    "# Create some 'experimental' data \n",
    "x_data = data[:, 0]\n",
    "y_data = data[:,1]\n",
    "\n",
    "for i in range (nDataPoints):\n",
    "    y_data[i] = max(y_data[i] + np.random.normal (0, 0.5), 0) # standard deviation of noise\n",
    "\n",
    "# Plot it to see what it looks like\n",
    "plt.plot (x_data, y_data, marker='*', linestyle='None')\n",
    "plt.show()\n"
   ]
  },
  {
   "cell_type": "markdown",
   "metadata": {},
   "source": [
    "# Running a minimization\n",
    "1. Define parameters present\n",
    "1. Define python function that calculates residuals given parameter values\n",
    "1. Construct the minimizer\n",
    "1. Run the minimizer"
   ]
  },
  {
   "cell_type": "code",
   "execution_count": 59,
   "metadata": {},
   "outputs": [],
   "source": [
    "# Define the parameters present\n",
    "parameters = lmfit.Parameters()\n",
    "parameters.add('k1', value=1, min=0, max=10)"
   ]
  },
  {
   "cell_type": "code",
   "execution_count": 60,
   "metadata": {},
   "outputs": [],
   "source": [
    "# Define a python function that computes residuals from parameter values\n",
    "def residuals(p):\n",
    "    rr.reset()  \n",
    "    pp = p.valuesdict()\n",
    "    rr.k1 = pp['k1']\n",
    "    data = rr.simulate (0, timeToSimulate, nDataPoints, ['A'])\n",
    "    return (y_data - data[:,0]) \n"
   ]
  },
  {
   "cell_type": "code",
   "execution_count": 61,
   "metadata": {},
   "outputs": [],
   "source": [
    "# Create the minimizer\n",
    "fitter = lmfit.Minimizer(residuals, parameters)"
   ]
  },
  {
   "cell_type": "code",
   "execution_count": 62,
   "metadata": {},
   "outputs": [
    {
     "name": "stdout",
     "output_type": "stream",
     "text": [
      "Fit succeeded.\n",
      "0.9318874100621366\n",
      "Parameters([('k1', <Parameter 'k1', value=0.16165799146153237 +/- 0.0153, bounds=[0:10]>)])\n"
     ]
    }
   ],
   "source": [
    "# Run the minimizer and examine the results\n",
    "result = fitter.minimize (method='leastsq')\n",
    "print (result.message)\n",
    "\n",
    "# You can also print\n",
    "print (result.chisqr)\n",
    "print (result.params)\n"
   ]
  },
  {
   "cell_type": "markdown",
   "metadata": {},
   "source": [
    "## Exercises\n",
    "1. Run the fit 5 times and compute the standard deviation of the parameter estimate. How does it compare with the +/- values reported by the minimizer?\n",
    "1. Add the reaction B -> C; k2\\*B. Redo the fit."
   ]
  },
  {
   "cell_type": "code",
   "execution_count": 63,
   "metadata": {},
   "outputs": [
    {
     "data": {
      "text/plain": [
       "0.02097999046710937"
      ]
     },
     "execution_count": 63,
     "metadata": {},
     "output_type": "execute_result"
    }
   ],
   "source": [
    "import numpy as np\n",
    "np.std([.169, .109, .139, .147, .162])"
   ]
  }
 ],
 "metadata": {
  "kernelspec": {
   "display_name": "Python 3",
   "language": "python",
   "name": "python3"
  },
  "language_info": {
   "codemirror_mode": {
    "name": "ipython",
    "version": 3
   },
   "file_extension": ".py",
   "mimetype": "text/x-python",
   "name": "python",
   "nbconvert_exporter": "python",
   "pygments_lexer": "ipython3",
   "version": "3.6.4"
  }
 },
 "nbformat": 4,
 "nbformat_minor": 2
}
