{
 "cells": [
  {
   "cell_type": "markdown",
   "metadata": {},
   "source": [
    "# Management of Modeling Data"
   ]
  },
  {
   "cell_type": "code",
   "execution_count": 18,
   "metadata": {},
   "outputs": [],
   "source": [
    "%matplotlib inline\n",
    "\n",
    "import numpy as np\n",
    "import pandas as pd\n",
    "import matplotlib.pyplot as plt\n",
    "import sqlite3"
   ]
  },
  {
   "cell_type": "markdown",
   "metadata": {},
   "source": [
    "## Pandas DataFrames"
   ]
  },
  {
   "cell_type": "code",
   "execution_count": 7,
   "metadata": {},
   "outputs": [],
   "source": [
    "df = pd.read_csv(\"mutation.csv\")"
   ]
  },
  {
   "cell_type": "code",
   "execution_count": 8,
   "metadata": {},
   "outputs": [
    {
     "data": {
      "text/html": [
       "<div>\n",
       "<style scoped>\n",
       "    .dataframe tbody tr th:only-of-type {\n",
       "        vertical-align: middle;\n",
       "    }\n",
       "\n",
       "    .dataframe tbody tr th {\n",
       "        vertical-align: top;\n",
       "    }\n",
       "\n",
       "    .dataframe thead th {\n",
       "        text-align: right;\n",
       "    }\n",
       "</style>\n",
       "<table border=\"1\" class=\"dataframe\">\n",
       "  <thead>\n",
       "    <tr style=\"text-align: right;\">\n",
       "      <th></th>\n",
       "      <th>source</th>\n",
       "      <th>position</th>\n",
       "      <th>initial_nt</th>\n",
       "      <th>changed_nt</th>\n",
       "      <th>effect</th>\n",
       "      <th>type</th>\n",
       "      <th>aa_change</th>\n",
       "      <th>gene_id</th>\n",
       "      <th>ggene_id</th>\n",
       "      <th>is_an_mutation</th>\n",
       "      <th>gene_position</th>\n",
       "      <th>mutation</th>\n",
       "      <th>key_mutation</th>\n",
       "    </tr>\n",
       "  </thead>\n",
       "  <tbody>\n",
       "    <tr>\n",
       "      <th>0</th>\n",
       "      <td>Chromosome</td>\n",
       "      <td>412</td>\n",
       "      <td>CCCCCCTCGCAGCCCCC</td>\n",
       "      <td>CCCCCC</td>\n",
       "      <td>HIGH</td>\n",
       "      <td>NONE</td>\n",
       "      <td>SQPP90</td>\n",
       "      <td>DVU0001</td>\n",
       "      <td>DVU0001</td>\n",
       "      <td>False</td>\n",
       "      <td>DVU0001.412</td>\n",
       "      <td>FRAME_SHIFT</td>\n",
       "      <td>DVU0001.412.CCCCCCTCGCAGCCCCC.CCCCCC</td>\n",
       "    </tr>\n",
       "    <tr>\n",
       "      <th>1</th>\n",
       "      <td>Chromosome</td>\n",
       "      <td>42867</td>\n",
       "      <td>AG</td>\n",
       "      <td>AGG</td>\n",
       "      <td>MODIFIER</td>\n",
       "      <td>NONE</td>\n",
       "      <td>NaN</td>\n",
       "      <td>NaN</td>\n",
       "      <td>DVH__.42867</td>\n",
       "      <td>True</td>\n",
       "      <td>DVH__.42867</td>\n",
       "      <td>INTERGENIC</td>\n",
       "      <td>DVH__.42867.AG.AGG</td>\n",
       "    </tr>\n",
       "    <tr>\n",
       "      <th>2</th>\n",
       "      <td>Chromosome</td>\n",
       "      <td>211389</td>\n",
       "      <td>T</td>\n",
       "      <td>TA</td>\n",
       "      <td>MODIFIER</td>\n",
       "      <td>NONE</td>\n",
       "      <td>NaN</td>\n",
       "      <td>NaN</td>\n",
       "      <td>DVH__.211389</td>\n",
       "      <td>True</td>\n",
       "      <td>DVH__.211389</td>\n",
       "      <td>INTERGENIC</td>\n",
       "      <td>DVH__.211389.T.TA</td>\n",
       "    </tr>\n",
       "    <tr>\n",
       "      <th>3</th>\n",
       "      <td>Chromosome</td>\n",
       "      <td>882511</td>\n",
       "      <td>GC</td>\n",
       "      <td>G</td>\n",
       "      <td>MODIFIER</td>\n",
       "      <td>NONE</td>\n",
       "      <td>NaN</td>\n",
       "      <td>NaN</td>\n",
       "      <td>DVH__.882511</td>\n",
       "      <td>True</td>\n",
       "      <td>DVH__.882511</td>\n",
       "      <td>INTERGENIC</td>\n",
       "      <td>DVH__.882511.GC.G</td>\n",
       "    </tr>\n",
       "    <tr>\n",
       "      <th>4</th>\n",
       "      <td>Chromosome</td>\n",
       "      <td>885161</td>\n",
       "      <td>TGGAGGAG</td>\n",
       "      <td>TGGAG</td>\n",
       "      <td>MODERATE</td>\n",
       "      <td>NONE</td>\n",
       "      <td>YS204Y</td>\n",
       "      <td>DVU0799</td>\n",
       "      <td>DVU0799</td>\n",
       "      <td>False</td>\n",
       "      <td>DVU0799.885161</td>\n",
       "      <td>CODON_DELETION</td>\n",
       "      <td>DVU0799.885161.TGGAGGAG.TGGAG</td>\n",
       "    </tr>\n",
       "  </tbody>\n",
       "</table>\n",
       "</div>"
      ],
      "text/plain": [
       "       source  position         initial_nt changed_nt    effect  type  \\\n",
       "0  Chromosome       412  CCCCCCTCGCAGCCCCC     CCCCCC      HIGH  NONE   \n",
       "1  Chromosome     42867                 AG        AGG  MODIFIER  NONE   \n",
       "2  Chromosome    211389                  T         TA  MODIFIER  NONE   \n",
       "3  Chromosome    882511                 GC          G  MODIFIER  NONE   \n",
       "4  Chromosome    885161           TGGAGGAG      TGGAG  MODERATE  NONE   \n",
       "\n",
       "  aa_change  gene_id      ggene_id  is_an_mutation   gene_position  \\\n",
       "0    SQPP90  DVU0001       DVU0001           False     DVU0001.412   \n",
       "1       NaN      NaN   DVH__.42867            True     DVH__.42867   \n",
       "2       NaN      NaN  DVH__.211389            True    DVH__.211389   \n",
       "3       NaN      NaN  DVH__.882511            True    DVH__.882511   \n",
       "4    YS204Y  DVU0799       DVU0799           False  DVU0799.885161   \n",
       "\n",
       "         mutation                          key_mutation  \n",
       "0     FRAME_SHIFT  DVU0001.412.CCCCCCTCGCAGCCCCC.CCCCCC  \n",
       "1      INTERGENIC                    DVH__.42867.AG.AGG  \n",
       "2      INTERGENIC                     DVH__.211389.T.TA  \n",
       "3      INTERGENIC                     DVH__.882511.GC.G  \n",
       "4  CODON_DELETION         DVU0799.885161.TGGAGGAG.TGGAG  "
      ]
     },
     "execution_count": 8,
     "metadata": {},
     "output_type": "execute_result"
    }
   ],
   "source": [
    "df.head()"
   ]
  },
  {
   "cell_type": "code",
   "execution_count": 10,
   "metadata": {},
   "outputs": [
    {
     "data": {
      "text/plain": [
       "587"
      ]
     },
     "execution_count": 10,
     "metadata": {},
     "output_type": "execute_result"
    }
   ],
   "source": [
    "# Extract a column from the table\n",
    "gene_ids = df['gene_id']\n",
    "len(gene_ids)"
   ]
  },
  {
   "cell_type": "code",
   "execution_count": 11,
   "metadata": {},
   "outputs": [
    {
     "data": {
      "text/plain": [
       "229"
      ]
     },
     "execution_count": 11,
     "metadata": {},
     "output_type": "execute_result"
    }
   ],
   "source": [
    "# Extract unique values from the table\n",
    "gene_ids = df['gene_id'].unique()\n",
    "len(gene_ids)"
   ]
  },
  {
   "cell_type": "code",
   "execution_count": 13,
   "metadata": {},
   "outputs": [
    {
     "data": {
      "text/html": [
       "<div>\n",
       "<style scoped>\n",
       "    .dataframe tbody tr th:only-of-type {\n",
       "        vertical-align: middle;\n",
       "    }\n",
       "\n",
       "    .dataframe tbody tr th {\n",
       "        vertical-align: top;\n",
       "    }\n",
       "\n",
       "    .dataframe thead th {\n",
       "        text-align: right;\n",
       "    }\n",
       "</style>\n",
       "<table border=\"1\" class=\"dataframe\">\n",
       "  <thead>\n",
       "    <tr style=\"text-align: right;\">\n",
       "      <th></th>\n",
       "      <th>rate</th>\n",
       "      <th>yield</th>\n",
       "      <th>key_culture</th>\n",
       "      <th>species_mix</th>\n",
       "    </tr>\n",
       "  </thead>\n",
       "  <tbody>\n",
       "    <tr>\n",
       "      <th>0</th>\n",
       "      <td>0.013996</td>\n",
       "      <td>0.419886</td>\n",
       "      <td>C1</td>\n",
       "      <td>L</td>\n",
       "    </tr>\n",
       "    <tr>\n",
       "      <th>1</th>\n",
       "      <td>0.014905</td>\n",
       "      <td>0.448689</td>\n",
       "      <td>C2</td>\n",
       "      <td>L</td>\n",
       "    </tr>\n",
       "    <tr>\n",
       "      <th>2</th>\n",
       "      <td>0.013935</td>\n",
       "      <td>0.416881</td>\n",
       "      <td>C3</td>\n",
       "      <td>L</td>\n",
       "    </tr>\n",
       "    <tr>\n",
       "      <th>3</th>\n",
       "      <td>0.013353</td>\n",
       "      <td>0.428859</td>\n",
       "      <td>C4</td>\n",
       "      <td>L</td>\n",
       "    </tr>\n",
       "    <tr>\n",
       "      <th>4</th>\n",
       "      <td>0.014579</td>\n",
       "      <td>0.446349</td>\n",
       "      <td>C5</td>\n",
       "      <td>L</td>\n",
       "    </tr>\n",
       "  </tbody>\n",
       "</table>\n",
       "</div>"
      ],
      "text/plain": [
       "       rate     yield key_culture species_mix\n",
       "0  0.013996  0.419886          C1           L\n",
       "1  0.014905  0.448689          C2           L\n",
       "2  0.013935  0.416881          C3           L\n",
       "3  0.013353  0.428859          C4           L\n",
       "4  0.014579  0.446349          C5           L"
      ]
     },
     "execution_count": 13,
     "metadata": {},
     "output_type": "execute_result"
    }
   ],
   "source": [
    "# Obtain the culture data. species_mix describes the community present\n",
    "#  L=line, E=EPD, B=coculture, D=DVH monoculture, M=MMP monoculture\n",
    "df = pd.read_csv(\"culture.csv\")\n",
    "df.head()"
   ]
  },
  {
   "cell_type": "code",
   "execution_count": 20,
   "metadata": {},
   "outputs": [
    {
     "data": {
      "text/html": [
       "<div>\n",
       "<style scoped>\n",
       "    .dataframe tbody tr th:only-of-type {\n",
       "        vertical-align: middle;\n",
       "    }\n",
       "\n",
       "    .dataframe tbody tr th {\n",
       "        vertical-align: top;\n",
       "    }\n",
       "\n",
       "    .dataframe thead th {\n",
       "        text-align: right;\n",
       "    }\n",
       "</style>\n",
       "<table border=\"1\" class=\"dataframe\">\n",
       "  <thead>\n",
       "    <tr style=\"text-align: right;\">\n",
       "      <th></th>\n",
       "      <th>rate</th>\n",
       "      <th>yield</th>\n",
       "      <th>key_culture</th>\n",
       "      <th>species_mix</th>\n",
       "    </tr>\n",
       "  </thead>\n",
       "  <tbody>\n",
       "    <tr>\n",
       "      <th>151</th>\n",
       "      <td>0.035581</td>\n",
       "      <td>0.531100</td>\n",
       "      <td>C152</td>\n",
       "      <td>B</td>\n",
       "    </tr>\n",
       "    <tr>\n",
       "      <th>152</th>\n",
       "      <td>0.035072</td>\n",
       "      <td>0.528433</td>\n",
       "      <td>C153</td>\n",
       "      <td>B</td>\n",
       "    </tr>\n",
       "    <tr>\n",
       "      <th>153</th>\n",
       "      <td>0.035883</td>\n",
       "      <td>0.534548</td>\n",
       "      <td>C154</td>\n",
       "      <td>B</td>\n",
       "    </tr>\n",
       "    <tr>\n",
       "      <th>154</th>\n",
       "      <td>0.027380</td>\n",
       "      <td>0.485459</td>\n",
       "      <td>C155</td>\n",
       "      <td>B</td>\n",
       "    </tr>\n",
       "    <tr>\n",
       "      <th>155</th>\n",
       "      <td>0.024985</td>\n",
       "      <td>0.502712</td>\n",
       "      <td>C156</td>\n",
       "      <td>B</td>\n",
       "    </tr>\n",
       "  </tbody>\n",
       "</table>\n",
       "</div>"
      ],
      "text/plain": [
       "         rate     yield key_culture species_mix\n",
       "151  0.035581  0.531100        C152           B\n",
       "152  0.035072  0.528433        C153           B\n",
       "153  0.035883  0.534548        C154           B\n",
       "154  0.027380  0.485459        C155           B\n",
       "155  0.024985  0.502712        C156           B"
      ]
     },
     "execution_count": 20,
     "metadata": {},
     "output_type": "execute_result"
    }
   ],
   "source": [
    "# Create a new dataframe that consists of just co-cultures\n",
    "df_coculture = df[df['species_mix'] == 'B']\n",
    "df_coculture.head()"
   ]
  },
  {
   "cell_type": "code",
   "execution_count": 21,
   "metadata": {},
   "outputs": [
    {
     "data": {
      "text/html": [
       "<div>\n",
       "<style scoped>\n",
       "    .dataframe tbody tr th:only-of-type {\n",
       "        vertical-align: middle;\n",
       "    }\n",
       "\n",
       "    .dataframe tbody tr th {\n",
       "        vertical-align: top;\n",
       "    }\n",
       "\n",
       "    .dataframe thead th {\n",
       "        text-align: right;\n",
       "    }\n",
       "</style>\n",
       "<table border=\"1\" class=\"dataframe\">\n",
       "  <thead>\n",
       "    <tr style=\"text-align: right;\">\n",
       "      <th></th>\n",
       "      <th>rate</th>\n",
       "      <th>yield</th>\n",
       "      <th>key_culture</th>\n",
       "      <th>species_mix</th>\n",
       "    </tr>\n",
       "  </thead>\n",
       "  <tbody>\n",
       "    <tr>\n",
       "      <th>151</th>\n",
       "      <td>1.395037</td>\n",
       "      <td>1.181453</td>\n",
       "      <td>C152</td>\n",
       "      <td>B</td>\n",
       "    </tr>\n",
       "    <tr>\n",
       "      <th>152</th>\n",
       "      <td>1.338781</td>\n",
       "      <td>1.147782</td>\n",
       "      <td>C153</td>\n",
       "      <td>B</td>\n",
       "    </tr>\n",
       "    <tr>\n",
       "      <th>153</th>\n",
       "      <td>1.428432</td>\n",
       "      <td>1.224982</td>\n",
       "      <td>C154</td>\n",
       "      <td>B</td>\n",
       "    </tr>\n",
       "    <tr>\n",
       "      <th>154</th>\n",
       "      <td>0.488368</td>\n",
       "      <td>0.605266</td>\n",
       "      <td>C155</td>\n",
       "      <td>B</td>\n",
       "    </tr>\n",
       "    <tr>\n",
       "      <th>155</th>\n",
       "      <td>0.223483</td>\n",
       "      <td>0.823077</td>\n",
       "      <td>C156</td>\n",
       "      <td>B</td>\n",
       "    </tr>\n",
       "  </tbody>\n",
       "</table>\n",
       "</div>"
      ],
      "text/plain": [
       "         rate     yield key_culture species_mix\n",
       "151  1.395037  1.181453        C152           B\n",
       "152  1.338781  1.147782        C153           B\n",
       "153  1.428432  1.224982        C154           B\n",
       "154  0.488368  0.605266        C155           B\n",
       "155  0.223483  0.823077        C156           B"
      ]
     },
     "execution_count": 21,
     "metadata": {},
     "output_type": "execute_result"
    }
   ],
   "source": [
    "# Standardize values\n",
    "def standardize(df, col):\n",
    "    mean = np.mean(df[col])\n",
    "    std = np.std(df[col])\n",
    "    new_df = df.copy()\n",
    "    new_df[col] = (df[col]-mean)/std\n",
    "    return new_df\n",
    "df_new = standardize(df_coculture, 'rate')\n",
    "df_new = standardize(df_new, 'yield')\n",
    "df_new.head()"
   ]
  },
  {
   "cell_type": "markdown",
   "metadata": {},
   "source": [
    "## Using SQL with DataFrames"
   ]
  },
  {
   "cell_type": "code",
   "execution_count": 26,
   "metadata": {},
   "outputs": [],
   "source": [
    "conn = sqlite3.connect(\"example.db\")"
   ]
  },
  {
   "cell_type": "code",
   "execution_count": 23,
   "metadata": {},
   "outputs": [],
   "source": [
    "df_new.to_sql(\"standardized_culture\", conn)\n"
   ]
  },
  {
   "cell_type": "code",
   "execution_count": 27,
   "metadata": {},
   "outputs": [],
   "source": [
    "for filename in [\"gene_description\", \"mutation\"]:\n",
    "    df = pd.read_csv(\"%s.csv\" % filename)\n",
    "    df.to_sql(filename, conn)"
   ]
  },
  {
   "cell_type": "code",
   "execution_count": 28,
   "metadata": {},
   "outputs": [],
   "source": [
    "conn.commit()"
   ]
  },
  {
   "cell_type": "code",
   "execution_count": 29,
   "metadata": {},
   "outputs": [],
   "source": [
    "conn.close()"
   ]
  }
 ],
 "metadata": {
  "kernelspec": {
   "display_name": "Python 3",
   "language": "python",
   "name": "python3"
  },
  "language_info": {
   "codemirror_mode": {
    "name": "ipython",
    "version": 3
   },
   "file_extension": ".py",
   "mimetype": "text/x-python",
   "name": "python",
   "nbconvert_exporter": "python",
   "pygments_lexer": "ipython3",
   "version": "3.6.4"
  }
 },
 "nbformat": 4,
 "nbformat_minor": 2
}
