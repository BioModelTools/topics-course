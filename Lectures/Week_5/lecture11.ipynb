{
 "cells": [
  {
   "cell_type": "markdown",
   "metadata": {},
   "source": [
    "# Modeling Workflow"
   ]
  },
  {
   "cell_type": "code",
   "execution_count": 1,
   "metadata": {},
   "outputs": [],
   "source": [
    "%matplotlib inline\n",
    "import tellurium as te\n",
    "import numpy as np\n",
    "import pandas as pd\n",
    "import matplotlib.pyplot as plt\n",
    "from sklearn import linear_model\n",
    "from sklearn.metrics import mean_squared_error, r2_score\n",
    "import lmfit\n",
    "import util"
   ]
  },
  {
   "cell_type": "markdown",
   "metadata": {},
   "source": [
    "## Review of Model Fitting"
   ]
  },
  {
   "cell_type": "code",
   "execution_count": 3,
   "metadata": {},
   "outputs": [
    {
     "data": {
      "text/plain": [
       "Parameters([('amp',\n",
       "             <Parameter 'amp', value=3.00000000084041 +/- 1.26e-10, bounds=[-inf:inf]>),\n",
       "            ('freq',\n",
       "             <Parameter 'freq', value=1.0000000002562435 +/- 2.1e-11, bounds=[-inf:inf]>),\n",
       "            ('phase',\n",
       "             <Parameter 'phase', value=-2.732487809161068e-10 +/- 4.37e-11, bounds=[-inf:inf]>),\n",
       "            ('decay',\n",
       "             <Parameter 'decay', value=0.10000000004427274 +/- 1.02e-11, bounds=[-inf:inf]>)])"
      ]
     },
     "execution_count": 3,
     "metadata": {},
     "output_type": "execute_result"
    }
   ],
   "source": [
    "import lmfit\n",
    "import numpy\n",
    "\n",
    "def calculate(x, amp, phase, freq, decay):\n",
    "    \"\"\"\n",
    "    :param Parameters params:\n",
    "    :param array x: independent variable(s)\n",
    "    :param array data: observed values to fit to\n",
    "    \"\"\"\n",
    "    return amp*np.sin(x*freq + phase)*np.exp(-x*x*decay)\n",
    "    \n",
    "# Synthetic data\n",
    "x = np.linspace(0, 10, 100)\n",
    "AMP = 3.0\n",
    "FREQ = 1.0\n",
    "PHASE = 0.0\n",
    "DECAY = 0.1\n",
    "data = calculate(x, AMP, PHASE, FREQ, DECAY)\n",
    "\n",
    "\n",
    "# Fitting\n",
    "params = lmfit.Parameters()\n",
    "params.add('amp', value=10)\n",
    "params.add('freq', value=3)\n",
    "params.add('phase', value=.2)\n",
    "params.add('decay', value = 1.0)\n",
    "#\n",
    "model = lmfit.Model(calculate)\n",
    "fitter = model.fit(data, params, x=x) \n",
    "fitter.params\n"
   ]
  },
  {
   "cell_type": "code",
   "execution_count": 4,
   "metadata": {},
   "outputs": [
    {
     "name": "stdout",
     "output_type": "stream",
     "text": [
      "[[Model]]\n",
      "    Model(calculate)\n",
      "[[Fit Statistics]]\n",
      "    # fitting method   = leastsq\n",
      "    # function evals   = 64\n",
      "    # data points      = 100\n",
      "    # variables        = 4\n",
      "    chi-square         = 8.5714e-18\n",
      "    reduced chi-square = 8.9285e-20\n",
      "    Akaike info crit   = -4382.32720\n",
      "    Bayesian info crit = -4371.90652\n",
      "[[Variables]]\n",
      "    amp:    3.00000000 +/- 1.2630e-10 (0.00%) (init = 10)\n",
      "    freq:   1.00000000 +/- 2.0970e-11 (0.00%) (init = 3)\n",
      "    phase: -2.7325e-10 +/- 4.3739e-11 (16.01%) (init = 0.2)\n",
      "    decay:  0.10000000 +/- 1.0233e-11 (0.00%) (init = 1)\n",
      "[[Correlations]] (unreported correlations are < 0.100)\n",
      "    C(amp, decay)  =  0.652\n",
      "    C(freq, decay) = -0.141\n",
      "    C(amp, freq)   = -0.108\n",
      "\n"
     ]
    }
   ],
   "source": [
    "print(fitter.fit_report())"
   ]
  },
  {
   "cell_type": "code",
   "execution_count": null,
   "metadata": {},
   "outputs": [],
   "source": [
    "fitter.params.get('amp').value"
   ]
  },
  {
   "cell_type": "code",
   "execution_count": null,
   "metadata": {},
   "outputs": [],
   "source": [
    "for name in fitter.params:\n",
    "    param = fitter.params.get(name)\n",
    "    stmt = \"%s = %3.4f\" % (name, param.value)\n",
    "    exec(stmt)\n",
    "fit = amp*sin(x*freq + phase)*exp(-x*x*decay)"
   ]
  },
  {
   "cell_type": "code",
   "execution_count": null,
   "metadata": {},
   "outputs": [],
   "source": [
    "# Plot the result\n",
    "plt.scatter(data, fit)\n",
    "plt.xlabel(\"Observed\")\n",
    "plt.ylabel(\"Fitted\")"
   ]
  },
  {
   "cell_type": "code",
   "execution_count": null,
   "metadata": {},
   "outputs": [],
   "source": [
    "# We will do this a lot. A better way is to make a function that does the plot.\n",
    "util.plotFit(data, fit)"
   ]
  },
  {
   "cell_type": "markdown",
   "metadata": {},
   "source": [
    "## Fitting a Simulation to One Species Concentration\n",
    "1. Make simulation into a function\n",
    "1. Create observations\n",
    "1. Create parameters\n",
    "1. Fit the model\n",
    "1. Generate fitted simulation data\n",
    "1. Compare the fit with the data"
   ]
  },
  {
   "cell_type": "code",
   "execution_count": 14,
   "metadata": {},
   "outputs": [],
   "source": [
    "# Encapsulate the simulation into a function\n",
    "\n",
    "# Use constants, not numbers, so that values can be changed easily and promote readability.\n",
    "START = 0\n",
    "STOP = 50\n",
    "NUM_POINTS = 100\n",
    "def simulateModel(v0, ka, kb, kc):\n",
    "    \"\"\"\n",
    "    Simulate the model for specific parameter values.\n",
    "    :param array x: dummy independent variable\n",
    "    :return array-float: [B]\n",
    "    \"\"\"\n",
    "    model = \"\"\"\n",
    "    model test\n",
    "        species A, B, C;\n",
    "\n",
    "        J0: -> A; v0\n",
    "        A -> B; ka*A;\n",
    "        B -> C; kb*B;\n",
    "        J1: C ->; C*kc\n",
    "        A = 0\n",
    "        B = 0\n",
    "        C = 0\n",
    "        v0 = 10\n",
    "        ka = 0.4\n",
    "        kb = 0.8*ka\n",
    "        kc = ka\n",
    "\n",
    "    end\n",
    "    \"\"\"\n",
    "    r = te.loada(model)\n",
    "    r.v0 = v0\n",
    "    r.ka = ka\n",
    "    r.kb = kb\n",
    "    r.kc =kc\n",
    "    return r.simulate(START, STOP, NUM_POINTS)\n",
    "    \n",
    "def simulate(v0=10, ka=0.4, kb=0.32, kc=0.4):\n",
    "    results = simulateModel(v0, ka, kb, kc)\n",
    "    return results[\"[B]\"]"
   ]
  },
  {
   "cell_type": "code",
   "execution_count": 15,
   "metadata": {},
   "outputs": [],
   "source": [
    "STD = 1.0\n",
    "data = simulate() + np.random.normal(0, STD, NUM_POINTS)"
   ]
  },
  {
   "cell_type": "code",
   "execution_count": null,
   "metadata": {},
   "outputs": [],
   "source": [
    "# Create the parameters of simulation\n",
    "params = lmfit.Parameters()\n",
    "params.add('v0', value=1, min=0)\n",
    "params.add('ka', value=.1, min=0)\n",
    "params.add('kb', value=.1, min=0)\n",
    "params.add('kc', value = 0.1, min=0)"
   ]
  },
  {
   "cell_type": "code",
   "execution_count": null,
   "metadata": {},
   "outputs": [],
   "source": [
    "# Do the fit\n",
    "model = lmfit.Model(simulate, independent_vars=[], method='leastsq')  # Specifying no independent variables\n",
    "fitter = model.fit(data, params) \n",
    "fitter.params"
   ]
  },
  {
   "cell_type": "code",
   "execution_count": null,
   "metadata": {},
   "outputs": [],
   "source": [
    "print( fitter.fit_report())"
   ]
  },
  {
   "cell_type": "code",
   "execution_count": null,
   "metadata": {},
   "outputs": [],
   "source": [
    "# Run the simulation to get fitted values\n",
    "fit = fitter.eval(fitter.params)"
   ]
  },
  {
   "cell_type": "code",
   "execution_count": null,
   "metadata": {},
   "outputs": [],
   "source": [
    "util.plotFit(data, fit)"
   ]
  },
  {
   "cell_type": "markdown",
   "metadata": {},
   "source": [
    "## Fitting With Multiple Concentrations\n",
    "The key challenge here is how to do the fit so that we take into account the residuals of all species concentrations.\n",
    "1. Create synthetic data for all concentrations\n",
    "1. Create simulateMultiple that returns residuals from simulating multiple concentrations\n",
    "1. Fit to an array of 0s"
   ]
  },
  {
   "cell_type": "code",
   "execution_count": 54,
   "metadata": {},
   "outputs": [],
   "source": [
    "# Create synthetic data\n",
    "data = simulateModel(10, 0.4, 0.32, 0.4)\n",
    "for idx, _ in enumerate(data.colnames[1:]):\n",
    "    data[:, i] += np.random.normal(0, STD, len(data))"
   ]
  },
  {
   "cell_type": "code",
   "execution_count": 61,
   "metadata": {},
   "outputs": [],
   "source": [
    "def simulateMultiple(x, v0=10, ka=0.4, kb=0.32, kc=0.4):\n",
    "    \"\"\"\n",
    "    :param NamedArray-float data: observed data\n",
    "    :return sum of residuals for all concentrations\n",
    "    \"\"\"\n",
    "    results = simulateModel(v0, ka, kb, kc)\n",
    "    residuals = data['time'] - x['time']\n",
    "    for idx, _ in enumerate(data.colnames[1:]):\n",
    "        residuals += data[:, idx] - results[:, idx]\n",
    "    return residuals"
   ]
  },
  {
   "cell_type": "code",
   "execution_count": 57,
   "metadata": {},
   "outputs": [
    {
     "data": {
      "text/plain": [
       "<matplotlib.collections.PathCollection at 0x7fcb5cf232e8>"
      ]
     },
     "execution_count": 57,
     "metadata": {},
     "output_type": "execute_result"
    },
    {
     "data": {
      "image/png": "[encoded data removed]",
      "text/plain": [
       "<Figure size 432x288 with 1 Axes>"
      ]
     },
     "metadata": {},
     "output_type": "display_data"
    }
   ],
   "source": [
    "residuals = simulateMultiple(data)\n",
    "plt.scatter(range(len(data)), residuals)"
   ]
  },
  {
   "cell_type": "code",
   "execution_count": 64,
   "metadata": {},
   "outputs": [
    {
     "data": {
      "text/plain": [
       "Parameters([('v0',\n",
       "             <Parameter 'v0', value=9.697590114844122 +/- 0.00306, bounds=[0:inf]>),\n",
       "            ('ka',\n",
       "             <Parameter 'ka', value=0.3451636351045495 +/- 135, bounds=[0:inf]>),\n",
       "            ('kb',\n",
       "             <Parameter 'kb', value=0.3450968100212397 +/- 135, bounds=[0:inf]>),\n",
       "            ('kc',\n",
       "             <Parameter 'kc', value=131539.22823072848 +/- 5.41e+08, bounds=[0:inf]>)])"
      ]
     },
     "execution_count": 64,
     "metadata": {},
     "output_type": "execute_result"
    }
   ],
   "source": [
    "# Create the parameters of simulation\n",
    "params = lmfit.Parameters()\n",
    "params.add('v0', value=1, min=0)\n",
    "params.add('ka', value=.1, min=0)\n",
    "params.add('kb', value=.1, min=0)\n",
    "params.add('kc', value = 0.1, min=0)\n",
    "# Do the fit\n",
    "model = lmfit.Model(simulateMultiple, method='leastsq')  # Specifying no independent variables\n",
    "residuals = np.repeat(0., NUM_POINTS)\n",
    "fitter = model.fit(residuals, params, x=data) \n",
    "fitter.params"
   ]
  },
  {
   "cell_type": "code",
   "execution_count": 67,
   "metadata": {},
   "outputs": [
    {
     "data": {
      "text/plain": [
       "<matplotlib.collections.PathCollection at 0x7fcb5ca20ba8>"
      ]
     },
     "execution_count": 67,
     "metadata": {},
     "output_type": "execute_result"
    },
    {
     "data": {
      "image/png": "[encoded data removed]",
      "text/plain": [
       "<Figure size 432x288 with 1 Axes>"
      ]
     },
     "metadata": {},
     "output_type": "display_data"
    }
   ],
   "source": [
    "plt.scatter(range(NUM_POINTS), model.eval(fitter.params, x=data))"
   ]
  },
  {
   "cell_type": "markdown",
   "metadata": {},
   "source": [
    "## Fit With Cross Validation"
   ]
  },
  {
   "cell_type": "markdown",
   "metadata": {},
   "source": [
    "## Estimate Parameter Variability With Bootstrapping"
   ]
  }
 ],
 "metadata": {
  "kernelspec": {
   "display_name": "Python 3",
   "language": "python",
   "name": "python3"
  },
  "language_info": {
   "codemirror_mode": {
    "name": "ipython",
    "version": 3
   },
   "file_extension": ".py",
   "mimetype": "text/x-python",
   "name": "python",
   "nbconvert_exporter": "python",
   "pygments_lexer": "ipython3",
   "version": "3.6.4"
  }
 },
 "nbformat": 4,
 "nbformat_minor": 2
}
