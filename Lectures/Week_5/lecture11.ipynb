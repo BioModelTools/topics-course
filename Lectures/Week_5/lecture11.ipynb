{
 "cells": [
  {
   "cell_type": "markdown",
   "metadata": {},
   "source": [
    "# Modeling Workflow"
   ]
  },
  {
   "cell_type": "code",
   "execution_count": 1,
   "metadata": {},
   "outputs": [],
   "source": [
    "%matplotlib inline\n",
    "import tellurium as te\n",
    "import numpy as np\n",
    "import pandas as pd\n",
    "import matplotlib.pyplot as plt\n",
    "from sklearn import linear_model\n",
    "from sklearn.metrics import mean_squared_error, r2_score\n",
    "import lmfit\n",
    "import util"
   ]
  },
  {
   "cell_type": "markdown",
   "metadata": {},
   "source": [
    "## Review of Model Fitting"
   ]
  },
  {
   "cell_type": "code",
   "execution_count": 2,
   "metadata": {},
   "outputs": [
    {
     "data": {
      "text/plain": [
       "Parameters([('amp',\n",
       "             <Parameter 'amp', value=3.00000000084041 +/- 1.26e-10, bounds=[-inf:inf]>),\n",
       "            ('freq',\n",
       "             <Parameter 'freq', value=1.0000000002562435 +/- 2.1e-11, bounds=[-inf:inf]>),\n",
       "            ('phase',\n",
       "             <Parameter 'phase', value=-2.732487809161068e-10 +/- 4.37e-11, bounds=[-inf:inf]>),\n",
       "            ('decay',\n",
       "             <Parameter 'decay', value=0.10000000004427274 +/- 1.02e-11, bounds=[-inf:inf]>)])"
      ]
     },
     "execution_count": 2,
     "metadata": {},
     "output_type": "execute_result"
    }
   ],
   "source": [
    "import lmfit\n",
    "import numpy\n",
    "\n",
    "def calculate(x, amp, phase, freq, decay):\n",
    "    \"\"\"\n",
    "    :param Parameters params:\n",
    "    :param array x: independent variable(s)\n",
    "    :param array data: observed values to fit to\n",
    "    \"\"\"\n",
    "    return amp*np.sin(x*freq + phase)*np.exp(-x*x*decay)\n",
    "    \n",
    "# Synthetic data\n",
    "x = np.linspace(0, 10, 100)\n",
    "AMP = 3.0\n",
    "FREQ = 1.0\n",
    "PHASE = 0.0\n",
    "DECAY = 0.1\n",
    "data = calculate(x, AMP, PHASE, FREQ, DECAY)\n",
    "\n",
    "\n",
    "# Fitting\n",
    "params = lmfit.Parameters()\n",
    "params.add('amp', value=10)\n",
    "params.add('freq', value=3)\n",
    "params.add('phase', value=.2)\n",
    "params.add('decay', value = 1.0)\n",
    "#\n",
    "model = lmfit.Model(calculate)\n",
    "fitter = model.fit(data, params, x=x) \n",
    "fitter.params\n"
   ]
  },
  {
   "cell_type": "code",
   "execution_count": 3,
   "metadata": {},
   "outputs": [
    {
     "name": "stdout",
     "output_type": "stream",
     "text": [
      "[[Model]]\n",
      "    Model(calculate)\n",
      "[[Fit Statistics]]\n",
      "    # fitting method   = leastsq\n",
      "    # function evals   = 64\n",
      "    # data points      = 100\n",
      "    # variables        = 4\n",
      "    chi-square         = 8.5714e-18\n",
      "    reduced chi-square = 8.9285e-20\n",
      "    Akaike info crit   = -4382.32720\n",
      "    Bayesian info crit = -4371.90652\n",
      "[[Variables]]\n",
      "    amp:    3.00000000 +/- 1.2630e-10 (0.00%) (init = 10)\n",
      "    freq:   1.00000000 +/- 2.0970e-11 (0.00%) (init = 3)\n",
      "    phase: -2.7325e-10 +/- 4.3739e-11 (16.01%) (init = 0.2)\n",
      "    decay:  0.10000000 +/- 1.0233e-11 (0.00%) (init = 1)\n",
      "[[Correlations]] (unreported correlations are < 0.100)\n",
      "    C(amp, decay)  =  0.652\n",
      "    C(freq, decay) = -0.141\n",
      "    C(amp, freq)   = -0.108\n",
      "\n"
     ]
    }
   ],
   "source": [
    "print(fitter.fit_report())"
   ]
  },
  {
   "cell_type": "code",
   "execution_count": 4,
   "metadata": {},
   "outputs": [
    {
     "data": {
      "text/plain": [
       "<matplotlib.collections.PathCollection at 0x7f7d53febe80>"
      ]
     },
     "execution_count": 4,
     "metadata": {},
     "output_type": "execute_result"
    },
    {
     "data": {
      "image/png": "[encoded data removed]",
      "text/plain": [
       "<Figure size 432x288 with 1 Axes>"
      ]
     },
     "metadata": {},
     "output_type": "display_data"
    }
   ],
   "source": [
    "plt.scatter(x, data)"
   ]
  },
  {
   "cell_type": "code",
   "execution_count": 5,
   "metadata": {},
   "outputs": [
    {
     "name": "stdout",
     "output_type": "stream",
     "text": [
      "[[Model]]\n",
      "    Model(calculate)\n",
      "[[Fit Statistics]]\n",
      "    # fitting method   = leastsq\n",
      "    # function evals   = 64\n",
      "    # data points      = 100\n",
      "    # variables        = 4\n",
      "    chi-square         = 8.5714e-18\n",
      "    reduced chi-square = 8.9285e-20\n",
      "    Akaike info crit   = -4382.32720\n",
      "    Bayesian info crit = -4371.90652\n",
      "[[Variables]]\n",
      "    amp:    3.00000000 +/- 1.2630e-10 (0.00%) (init = 10)\n",
      "    freq:   1.00000000 +/- 2.0970e-11 (0.00%) (init = 3)\n",
      "    phase: -2.7325e-10 +/- 4.3739e-11 (16.01%) (init = 0.2)\n",
      "    decay:  0.10000000 +/- 1.0233e-11 (0.00%) (init = 1)\n",
      "[[Correlations]] (unreported correlations are < 0.100)\n",
      "    C(amp, decay)  =  0.652\n",
      "    C(freq, decay) = -0.141\n",
      "    C(amp, freq)   = -0.108\n",
      "\n"
     ]
    }
   ],
   "source": [
    "print(fitter.fit_report())"
   ]
  },
  {
   "cell_type": "code",
   "execution_count": 6,
   "metadata": {},
   "outputs": [
    {
     "data": {
      "text/plain": [
       "3.00000000084041"
      ]
     },
     "execution_count": 6,
     "metadata": {},
     "output_type": "execute_result"
    }
   ],
   "source": [
    "fitter.params.get('amp').value"
   ]
  },
  {
   "cell_type": "code",
   "execution_count": 7,
   "metadata": {},
   "outputs": [
    {
     "name": "stdout",
     "output_type": "stream",
     "text": [
      "amp\n",
      "freq\n",
      "phase\n",
      "decay\n"
     ]
    }
   ],
   "source": [
    "for name in fitter.params:\n",
    "    print (name)"
   ]
  },
  {
   "cell_type": "code",
   "execution_count": 8,
   "metadata": {},
   "outputs": [],
   "source": [
    "for name in fitter.params:\n",
    "    param = fitter.params.get(name)\n",
    "    stmt = \"%s = %3.4f\" % (name, param.value)\n",
    "    exec(stmt)\n",
    "fit = calculate(x, amp, freq, phase, decay)"
   ]
  },
  {
   "cell_type": "code",
   "execution_count": 9,
   "metadata": {},
   "outputs": [
    {
     "data": {
      "text/plain": [
       "<matplotlib.collections.PathCollection at 0x7f7d53f900f0>"
      ]
     },
     "execution_count": 9,
     "metadata": {},
     "output_type": "execute_result"
    },
    {
     "data": {
      "image/png": "[encoded data removed]",
      "text/plain": [
       "<Figure size 432x288 with 1 Axes>"
      ]
     },
     "metadata": {},
     "output_type": "display_data"
    }
   ],
   "source": [
    "\n",
    "plt.scatter(x, model.eval(fitter.params, x=x))"
   ]
  },
  {
   "cell_type": "code",
   "execution_count": 10,
   "metadata": {},
   "outputs": [
    {
     "data": {
      "text/plain": [
       "Text(0,0.5,'Fitted')"
      ]
     },
     "execution_count": 10,
     "metadata": {},
     "output_type": "execute_result"
    },
    {
     "data": {
      "image/png": "[encoded data removed]",
      "text/plain": [
       "<Figure size 432x288 with 1 Axes>"
      ]
     },
     "metadata": {},
     "output_type": "display_data"
    }
   ],
   "source": [
    "# Plot the result\n",
    "plt.scatter(data,  model.eval(fitter.params, x=x))\n",
    "plt.xlabel(\"Observed\")\n",
    "plt.ylabel(\"Fitted\")"
   ]
  },
  {
   "cell_type": "code",
   "execution_count": 11,
   "metadata": {},
   "outputs": [
    {
     "data": {
      "image/png": "[encoded data removed]",
      "text/plain": [
       "<Figure size 432x288 with 1 Axes>"
      ]
     },
     "metadata": {},
     "output_type": "display_data"
    }
   ],
   "source": [
    "# We will do this a lot. A better way is to make a function that does the plot.\n",
    "util.plotFit(data, model.eval(fitter.params, x=x))"
   ]
  },
  {
   "cell_type": "markdown",
   "metadata": {},
   "source": [
    "## Fitting a Simulation to One Species Concentration\n",
    "1. Make simulation into a function\n",
    "1. Create observations\n",
    "1. Create parameters\n",
    "1. Fit the model\n",
    "1. Generate fitted simulation data\n",
    "1. Compare the fit with the data"
   ]
  },
  {
   "cell_type": "code",
   "execution_count": 12,
   "metadata": {},
   "outputs": [],
   "source": [
    "# Encapsulate the simulation into a function\n",
    "\n",
    "# Use constants, not numbers, so that values can be changed easily and promote readability.\n",
    "START = 0\n",
    "STOP = 50\n",
    "NUM_POINTS = 100\n",
    "def simulateModel(v0, ka, kb, kc):\n",
    "    \"\"\"\n",
    "    Simulate the model for specific parameter values.\n",
    "    :param array x: dummy independent variable\n",
    "    :return array-float: [B]\n",
    "    \"\"\"\n",
    "    model = \"\"\"\n",
    "    model test\n",
    "        species A, B, C;\n",
    "\n",
    "        J0: -> A; v0\n",
    "        A -> B; ka*A;\n",
    "        B -> C; kb*B;\n",
    "        J1: C ->; C*kc\n",
    "        A = 0\n",
    "        B = 0\n",
    "        C = 0\n",
    "        v0 = 10\n",
    "        ka = 0.4\n",
    "        kb = 0.8*ka\n",
    "        kc = ka\n",
    "\n",
    "    end\n",
    "    \"\"\"\n",
    "    r = te.loada(model)\n",
    "    r.v0 = v0\n",
    "    r.ka = ka\n",
    "    r.kb = kb\n",
    "    r.kc =kc\n",
    "    return r.simulate(START, STOP, NUM_POINTS)\n",
    "    \n",
    "def simulate(v0=10, ka=0.4, kb=0.32, kc=0.4):\n",
    "    results = simulateModel(v0, ka, kb, kc)\n",
    "    return results[\"[B]\"]"
   ]
  },
  {
   "cell_type": "code",
   "execution_count": 13,
   "metadata": {},
   "outputs": [],
   "source": [
    "# Generate synthetic observations\n",
    "STD = 1.0\n",
    "data = simulate() + np.random.normal(0, STD, NUM_POINTS)"
   ]
  },
  {
   "cell_type": "code",
   "execution_count": 14,
   "metadata": {},
   "outputs": [],
   "source": [
    "# Create the parameters of simulation\n",
    "params = lmfit.Parameters()\n",
    "params.add('v0', value=100, min=0)\n",
    "params.add('ka', value=.1, min=0)\n",
    "params.add('kb', value=.1, min=0)\n",
    "params.add('kc', value = 0.1, min=0)"
   ]
  },
  {
   "cell_type": "code",
   "execution_count": 15,
   "metadata": {},
   "outputs": [
    {
     "data": {
      "text/plain": [
       "Parameters([('v0',\n",
       "             <Parameter 'v0', value=626.1346457916108 +/- 2.7, bounds=[0:inf]>),\n",
       "            ('ka',\n",
       "             <Parameter 'ka', value=0.6535118999996627 +/- 0.00387, bounds=[0:inf]>),\n",
       "            ('kb',\n",
       "             <Parameter 'kb', value=21.360825878630706 +/- 0.0267, bounds=[0:inf]>),\n",
       "            ('kc',\n",
       "             <Parameter 'kc', value=3506567.8136108043 +/- 1.19e+05, bounds=[0:inf]>)])"
      ]
     },
     "execution_count": 15,
     "metadata": {},
     "output_type": "execute_result"
    }
   ],
   "source": [
    "# Do the fit\n",
    "model = lmfit.Model(simulate, independent_vars=[], method='leastsq')  # Specifying no independent variables\n",
    "fitter = model.fit(data, params) \n",
    "fitter.params"
   ]
  },
  {
   "cell_type": "code",
   "execution_count": 16,
   "metadata": {},
   "outputs": [
    {
     "name": "stdout",
     "output_type": "stream",
     "text": [
      "[[Model]]\n",
      "    Model(simulate)\n",
      "[[Fit Statistics]]\n",
      "    # fitting method   = leastsq\n",
      "    # function evals   = 64\n",
      "    # data points      = 100\n",
      "    # variables        = 4\n",
      "    chi-square         = 2530.49933\n",
      "    reduced chi-square = 26.3593681\n",
      "    Akaike info crit   = 331.100174\n",
      "    Bayesian info crit = 341.520855\n",
      "[[Variables]]\n",
      "    v0:  626.134646 +/- 2.70205867 (0.43%) (init = 100)\n",
      "    ka:  0.65351190 +/- 0.00386763 (0.59%) (init = 0.1)\n",
      "    kb:  21.3608259 +/- 0.02669422 (0.12%) (init = 0.1)\n",
      "    kc:  3506567.81 +/- 118861.576 (3.39%) (init = 0.1)\n",
      "[[Correlations]] (unreported correlations are < 0.100)\n",
      "    C(v0, ka) = -0.984\n",
      "    C(ka, kb) =  0.532\n",
      "    C(v0, kb) = -0.505\n",
      "    C(kb, kc) = -0.389\n",
      "    C(v0, kc) = -0.109\n",
      "\n"
     ]
    }
   ],
   "source": [
    "print( fitter.fit_report())"
   ]
  },
  {
   "cell_type": "code",
   "execution_count": 17,
   "metadata": {},
   "outputs": [],
   "source": [
    "# Run the simulation to get fitted values\n",
    "fit = fitter.eval(fitter.params)"
   ]
  },
  {
   "cell_type": "code",
   "execution_count": 18,
   "metadata": {},
   "outputs": [
    {
     "data": {
      "image/png": "[encoded data removed]",
      "text/plain": [
       "<Figure size 432x288 with 1 Axes>"
      ]
     },
     "metadata": {},
     "output_type": "display_data"
    }
   ],
   "source": [
    "util.plotFit(data, fit)"
   ]
  },
  {
   "cell_type": "markdown",
   "metadata": {},
   "source": [
    "## Fitting With Multiple Concentrations\n",
    "The key challenge here is how to do the fit so that we take into account the residuals of all species concentrations.\n",
    "1. Create synthetic data for all concentrations\n",
    "1. Create simulateMultiple that returns residuals from simulating multiple concentrations\n",
    "1. Fit to an array of 0s"
   ]
  },
  {
   "cell_type": "code",
   "execution_count": 19,
   "metadata": {},
   "outputs": [],
   "source": [
    "# Create synthetic data\n",
    "data = simulateModel(10, 0.4, 0.32, 0.4)\n",
    "for idx, _ in enumerate(data.colnames[1:]):\n",
    "    data[:, idx] += np.random.normal(0, STD, len(data))"
   ]
  },
  {
   "cell_type": "code",
   "execution_count": 20,
   "metadata": {},
   "outputs": [],
   "source": [
    "def simulateMultiple(x, v0=10, ka=0.4, kb=0.32, kc=0.4):\n",
    "    \"\"\"\n",
    "    :param NamedArray-float data: observed data\n",
    "    :return sum of residuals for all concentrations\n",
    "    \"\"\"\n",
    "    results = simulateModel(v0, ka, kb, kc)\n",
    "    residuals = data['time'] - x['time']\n",
    "    for idx, _ in enumerate(data.colnames[1:]):\n",
    "        residuals += data[:, idx] - results[:, idx]\n",
    "    return residuals"
   ]
  },
  {
   "cell_type": "code",
   "execution_count": 21,
   "metadata": {},
   "outputs": [
    {
     "data": {
      "text/plain": [
       "<matplotlib.collections.PathCollection at 0x7f7d53e9ac88>"
      ]
     },
     "execution_count": 21,
     "metadata": {},
     "output_type": "execute_result"
    },
    {
     "data": {
      "image/png": "[encoded data removed]",
      "text/plain": [
       "<Figure size 432x288 with 1 Axes>"
      ]
     },
     "metadata": {},
     "output_type": "display_data"
    }
   ],
   "source": [
    "residuals = simulateMultiple(data)\n",
    "plt.scatter(range(len(data)), residuals)"
   ]
  },
  {
   "cell_type": "code",
   "execution_count": 22,
   "metadata": {},
   "outputs": [
    {
     "data": {
      "text/plain": [
       "Parameters([('v0',\n",
       "             <Parameter 'v0', value=1742.3885889037817 +/- 3.64e+08, bounds=[0:inf]>),\n",
       "            ('ka',\n",
       "             <Parameter 'ka', value=66.72942254435308 +/- 5.11e+07, bounds=[0:inf]>),\n",
       "            ('kb',\n",
       "             <Parameter 'kb', value=68.13881755074753 +/- 2.46e+07, bounds=[0:inf]>),\n",
       "            ('kc',\n",
       "             <Parameter 'kc', value=45935819.32324559 +/- 1.1e+13, bounds=[0:inf]>)])"
      ]
     },
     "execution_count": 22,
     "metadata": {},
     "output_type": "execute_result"
    }
   ],
   "source": [
    "# Create the parameters of simulation\n",
    "params = lmfit.Parameters()\n",
    "params.add('v0', value=100, min=0)\n",
    "params.add('ka', value=.1, min=0)\n",
    "params.add('kb', value=.1, min=0)\n",
    "params.add('kc', value = 0.1, min=0)\n",
    "# Do the fit\n",
    "model = lmfit.Model(simulateMultiple, method='nelder')  # Specifying no independent variables\n",
    "residuals = np.repeat(0., NUM_POINTS)\n",
    "fitter = model.fit(residuals, params, x=data) \n",
    "fitter.params"
   ]
  },
  {
   "cell_type": "code",
   "execution_count": 23,
   "metadata": {},
   "outputs": [
    {
     "name": "stdout",
     "output_type": "stream",
     "text": [
      "[[Model]]\n",
      "    Model(simulateMultiple)\n",
      "[[Fit Statistics]]\n",
      "    # fitting method   = leastsq\n",
      "    # function evals   = 54\n",
      "    # data points      = 100\n",
      "    # variables        = 4\n",
      "    chi-square         = 10630.1543\n",
      "    reduced chi-square = 110.730774\n",
      "    Akaike info crit   = 474.627980\n",
      "    Bayesian info crit = 485.048661\n",
      "[[Variables]]\n",
      "    v0:  1742.38859 +/- 3.6436e+08 (20911333.99%) (init = 100)\n",
      "    ka:  66.7294225 +/- 51115624.8 (76601329.38%) (init = 0.1)\n",
      "    kb:  68.1388176 +/- 24629634.2 (36146260.12%) (init = 0.1)\n",
      "    kc:  45935819.3 +/- 1.1011e+13 (23969872.28%) (init = 0.1)\n",
      "[[Correlations]] (unreported correlations are < 0.100)\n",
      "    C(ka, kc) =  0.999\n",
      "    C(v0, kc) =  0.999\n",
      "    C(v0, ka) =  0.998\n",
      "    C(ka, kb) = -0.997\n",
      "    C(kb, kc) = -0.994\n",
      "    C(v0, kb) = -0.990\n",
      "\n"
     ]
    }
   ],
   "source": [
    "print(fitter.fit_report())"
   ]
  },
  {
   "cell_type": "code",
   "execution_count": 24,
   "metadata": {},
   "outputs": [
    {
     "data": {
      "text/plain": [
       "<matplotlib.collections.PathCollection at 0x7f7d535ba5c0>"
      ]
     },
     "execution_count": 24,
     "metadata": {},
     "output_type": "execute_result"
    },
    {
     "data": {
      "image/png": "[encoded data removed]",
      "text/plain": [
       "<Figure size 432x288 with 1 Axes>"
      ]
     },
     "metadata": {},
     "output_type": "display_data"
    }
   ],
   "source": [
    "plt.scatter(range(NUM_POINTS), model.eval(fitter.params, x=data))"
   ]
  },
  {
   "cell_type": "markdown",
   "metadata": {},
   "source": [
    "## Fit With Cross Validation"
   ]
  },
  {
   "cell_type": "code",
   "execution_count": 107,
   "metadata": {},
   "outputs": [],
   "source": [
    "def convertResultsToArray(results):\n",
    "    \"\"\"\n",
    "    Concatentates the non-time columns of a simulation result\n",
    "    by alternating columns for rows.\n",
    "    :param NamedArray results\n",
    "    \"\"\"\n",
    "    num_cols = results.shape[1]\n",
    "    results = results[:, 1:]\n",
    "    new_length = len(results)*(num_cols - 1)\n",
    "    array = results.reshape(new_length)\n",
    "    return array"
   ]
  },
  {
   "cell_type": "code",
   "execution_count": 122,
   "metadata": {},
   "outputs": [],
   "source": [
    "# Generate synthetic observations\n",
    "STD = 1.0\n",
    "def generateObservations(std=STD):\n",
    "    \"\"\"\n",
    "    :return NamedArray: simulation results with normal errors\n",
    "    \"\"\"\n",
    "    v0=10; ka=0.4; kb=0.32; kc=0.4;\n",
    "    results = simulateModel(v0, ka, kb, kc)\n",
    "    columns = results.colnames\n",
    "    for col in range(1, len(results.colnames)):\n",
    "        for row in range(len(results)):\n",
    "            results[row, col] = max(results[row, col], 0)\n",
    "    results.colnames = columns\n",
    "    return results"
   ]
  },
  {
   "cell_type": "code",
   "execution_count": 123,
   "metadata": {},
   "outputs": [
    {
     "data": {
      "text/plain": [
       "        time,     [A],     [B],       [C]\n",
       " [[        0,       0,       0,         0],\n",
       "  [ 0.505051, 4.57304, 0.45235, 0.0238755],\n",
       "  [   1.0101, 8.30957, 1.60751,  0.166169],\n",
       "  [  1.51515, 11.3626, 3.21968,  0.488618],\n",
       "  [   2.0202, 13.8572, 5.10554,   1.01061],\n",
       "  [  2.52525, 15.8954, 7.13017,   1.72499],\n",
       "  [   3.0303, 17.5609,   9.196,   2.60907],\n",
       "  [  3.53535, 18.9216, 11.2341,   3.63234],\n",
       "  [   4.0404, 20.0335, 13.1972,   4.76148],\n",
       "  [  4.54545,  20.942, 15.0547,   5.96365],\n",
       "  [  5.05051, 21.6843,  16.788,   7.20851],\n",
       "  [  5.55556, 22.2908, 18.3877,   8.46927],\n",
       "  [  6.06061, 22.7864, 19.8508,   9.72317],\n",
       "  [  6.56566, 23.1913, 21.1791,   10.9516],\n",
       "  [  7.07071, 23.5221, 22.3773,   12.1398],\n",
       "  [  7.57576, 23.7925, 23.4525,   13.2765],\n",
       "  [  8.08081, 24.0134, 24.4127,   14.3539],\n",
       "  [  8.58586, 24.1938, 25.2669,   15.3666],\n",
       "  [  9.09091, 24.3413,  26.024,   16.3116],\n",
       "  [  9.59596, 24.4618, 26.6929,   17.1877],\n",
       "  [   10.101, 24.5602, 27.2823,   17.9954],\n",
       "  [  10.6061, 24.6407, 27.8003,   18.7361],\n",
       "  [  11.1111, 24.7064, 28.2546,   19.4122],\n",
       "  [  11.6162, 24.7601, 28.6522,   20.0267],\n",
       "  [  12.1212,  24.804, 28.9994,   20.5831],\n",
       "  [  12.6263, 24.8398, 29.3023,   21.0851],\n",
       "  [  13.1313, 24.8691,  29.566,   21.5366],\n",
       "  [  13.6364, 24.8931, 29.7952,   21.9414],\n",
       "  [  14.1414, 24.9126, 29.9943,   22.3034],\n",
       "  [  14.6465, 24.9286,  30.167,   22.6263],\n",
       "  [  15.1515, 24.9417, 30.3166,   22.9136],\n",
       "  [  15.6566, 24.9523, 30.4461,   23.1687],\n",
       "  [  16.1616, 24.9611,  30.558,   23.3947],\n",
       "  [  16.6667, 24.9682, 30.6547,   23.5946],\n",
       "  [  17.1717,  24.974, 30.7382,    23.771],\n",
       "  [  17.6768, 24.9787, 30.8102,   23.9265],\n",
       "  [  18.1818, 24.9826, 30.8722,   24.0633],\n",
       "  [  18.6869, 24.9858, 30.9257,   24.1835],\n",
       "  [  19.1919, 24.9884, 30.9717,    24.289],\n",
       "  [   19.697, 24.9905, 31.0113,   24.3814],\n",
       "  [   20.202, 24.9923, 31.0453,   24.4622],\n",
       "  [  20.7071, 24.9937, 31.0745,   24.5329],\n",
       "  [  21.2121, 24.9948, 31.0997,   24.5946],\n",
       "  [  21.7172, 24.9958, 31.1212,   24.6484],\n",
       "  [  22.2222, 24.9965, 31.1397,   24.6953],\n",
       "  [  22.7273, 24.9972, 31.1556,   24.7362],\n",
       "  [  23.2323, 24.9977, 31.1692,   24.7717],\n",
       "  [  23.7374, 24.9981, 31.1809,   24.8025],\n",
       "  [  24.2424, 24.9985, 31.1909,   24.8293],\n",
       "  [  24.7475, 24.9987, 31.1994,   24.8525],\n",
       "  [  25.2525,  24.999, 31.2068,   24.8727],\n",
       "  [  25.7576, 24.9992,  31.213,   24.8901],\n",
       "  [  26.2626, 24.9993, 31.2184,   24.9052],\n",
       "  [  26.7677, 24.9994,  31.223,   24.9183],\n",
       "  [  27.2727, 24.9995, 31.2269,   24.9296],\n",
       "  [  27.7778, 24.9996, 31.2303,   24.9393],\n",
       "  [  28.2828, 24.9997, 31.2332,   24.9478],\n",
       "  [  28.7879, 24.9997, 31.2356,    24.955],\n",
       "  [  29.2929, 24.9998, 31.2377,   24.9613],\n",
       "  [   29.798, 24.9998, 31.2395,   24.9667],\n",
       "  [   30.303, 24.9999, 31.2411,   24.9714],\n",
       "  [  30.8081, 24.9999, 31.2424,   24.9754],\n",
       "  [  31.3131, 24.9999, 31.2435,   24.9789],\n",
       "  [  31.8182, 24.9999, 31.2444,   24.9819],\n",
       "  [  32.3232, 24.9999, 31.2453,   24.9844],\n",
       "  [  32.8283, 24.9999, 31.2459,   24.9866],\n",
       "  [  33.3333,      25, 31.2465,   24.9885],\n",
       "  [  33.8384,      25, 31.2471,   24.9902],\n",
       "  [  34.3434,      25, 31.2475,   24.9916],\n",
       "  [  34.8485,      25, 31.2479,   24.9928],\n",
       "  [  35.3535,      25, 31.2482,   24.9938],\n",
       "  [  35.8586,      25, 31.2484,   24.9947],\n",
       "  [  36.3636,      25, 31.2487,   24.9954],\n",
       "  [  36.8687,      25, 31.2489,   24.9961],\n",
       "  [  37.3737,      25,  31.249,   24.9967],\n",
       "  [  37.8788,      25, 31.2492,   24.9971],\n",
       "  [  38.3838,      25, 31.2493,   24.9975],\n",
       "  [  38.8889,      25, 31.2494,   24.9979],\n",
       "  [  39.3939,      25, 31.2495,   24.9982],\n",
       "  [   39.899,      25, 31.2496,   24.9985],\n",
       "  [   40.404,      25, 31.2496,   24.9987],\n",
       "  [  40.9091,      25, 31.2497,   24.9989],\n",
       "  [  41.4141,      25, 31.2497,    24.999],\n",
       "  [  41.9192,      25, 31.2498,   24.9992],\n",
       "  [  42.4242,      25, 31.2498,   24.9993],\n",
       "  [  42.9293,      25, 31.2498,   24.9994],\n",
       "  [  43.4343,      25, 31.2499,   24.9995],\n",
       "  [  43.9394,      25, 31.2499,   24.9995],\n",
       "  [  44.4444,      25, 31.2499,   24.9996],\n",
       "  [  44.9495,      25, 31.2499,   24.9997],\n",
       "  [  45.4545,      25, 31.2499,   24.9997],\n",
       "  [  45.9596,      25, 31.2499,   24.9998],\n",
       "  [  46.4646,      25, 31.2499,   24.9998],\n",
       "  [  46.9697,      25, 31.2499,   24.9998],\n",
       "  [  47.4747,      25,   31.25,   24.9998],\n",
       "  [  47.9798,      25,   31.25,   24.9999],\n",
       "  [  48.4848,      25,   31.25,   24.9999],\n",
       "  [  48.9899,      25,   31.25,   24.9999],\n",
       "  [  49.4949,      25,   31.25,   24.9999],\n",
       "  [       50,      25,   31.25,   24.9999]]"
      ]
     },
     "execution_count": 123,
     "metadata": {},
     "output_type": "execute_result"
    }
   ],
   "source": [
    "generateObservations()"
   ]
  },
  {
   "cell_type": "code",
   "execution_count": 110,
   "metadata": {},
   "outputs": [],
   "source": [
    "# Generate synthetic observations\n",
    "STD = 1.0\n",
    "def generateObservations(std=STD):\n",
    "    \"\"\"\n",
    "    :return NamedArray: simulation results with normal errors\n",
    "    \"\"\"\n",
    "    v0=10; ka=0.4; kb=0.32; kc=0.4;\n",
    "    results = simulateModel(v0, ka, kb, kc)\n",
    "    for idx in range(1, len(results.colnames)):\n",
    "        results[:, idx] = results[:, idx] + np.random.normal(0, STD)"
   ]
  },
  {
   "cell_type": "code",
   "execution_count": 111,
   "metadata": {},
   "outputs": [],
   "source": [
    "# Uses the independent variable to pass the indices to report\n",
    "def simulateWithIndices(x, v0, ka, kb, kc):\n",
    "    results = simulateModel(v0, ka, kb, kc)\n",
    "    results = results[x]\n",
    "    return convertResultsToArray(results)"
   ]
  },
  {
   "cell_type": "code",
   "execution_count": 112,
   "metadata": {},
   "outputs": [],
   "source": [
    "# Create the parameters of simulation\n",
    "params = lmfit.Parameters()\n",
    "params.add('v0', value=100, min=0)\n",
    "params.add('ka', value=.1, min=0)\n",
    "params.add('kb', value=.1, min=0)\n",
    "params.add('kc', value = 0.1, min=0)"
   ]
  },
  {
   "cell_type": "code",
   "execution_count": 124,
   "metadata": {},
   "outputs": [
    {
     "name": "stdout",
     "output_type": "stream",
     "text": [
      "Mean R2: 1.000,  Std R2: 0.000\n"
     ]
    }
   ],
   "source": [
    "# Create the fold generator\n",
    "NUM_FOLDS = 4\n",
    "data = generateObservations()\n",
    "generator = util.foldGenerator(NUM_POINTS, NUM_FOLDS)\n",
    "eval_statistics = []  # Acccumulates statistics\n",
    "# Fit training data and evaluate on test data for each fold\n",
    "for train, test in generator:\n",
    "    # Do the fit\n",
    "    model = lmfit.Model(simulateWithIndices, method='leastsq')  # Specifying no independent variables\n",
    "    data_train = convertResultsToArray(data[train])\n",
    "    fitter = model.fit(data_train, params, x=train) \n",
    "    fit = model.eval(fitter.params, x=test)\n",
    "    data_test = convertResultsToArray(data[test])\n",
    "    eval_statistics.append(r2_score(data_test, fit))\n",
    "# Report the results\n",
    "print(\"Mean R2: %2.3f,  Std R2: %2.3f\" % (np.mean(eval_statistics), np.std(eval_statistics)))"
   ]
  },
  {
   "cell_type": "code",
   "execution_count": 115,
   "metadata": {},
   "outputs": [],
   "source": [
    "data"
   ]
  },
  {
   "cell_type": "markdown",
   "metadata": {},
   "source": [
    "## Estimate Parameter Variability With Bootstrapping"
   ]
  }
 ],
 "metadata": {
  "kernelspec": {
   "display_name": "Python 3",
   "language": "python",
   "name": "python3"
  },
  "language_info": {
   "codemirror_mode": {
    "name": "ipython",
    "version": 3
   },
   "file_extension": ".py",
   "mimetype": "text/x-python",
   "name": "python",
   "nbconvert_exporter": "python",
   "pygments_lexer": "ipython3",
   "version": "3.6.4"
  }
 },
 "nbformat": 4,
 "nbformat_minor": 2
}
