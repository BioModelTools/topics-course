{
 "cells": [
  {
   "cell_type": "markdown",
   "metadata": {},
   "source": [
    "# Modeling Workflow"
   ]
  },
  {
   "cell_type": "code",
   "execution_count": 1,
   "metadata": {},
   "outputs": [
    {
     "ename": "IndentationError",
     "evalue": "unindent does not match any outer indentation level (util.py, line 108)",
     "output_type": "error",
     "traceback": [
      "Traceback \u001b[0;36m(most recent call last)\u001b[0m:\n",
      "  File \u001b[1;32m\"/home/ubuntu/miniconda3/lib/python3.6/site-packages/IPython/core/interactiveshell.py\"\u001b[0m, line \u001b[1;32m2910\u001b[0m, in \u001b[1;35mrun_code\u001b[0m\n    exec(code_obj, self.user_global_ns, self.user_ns)\n",
      "\u001b[0;36m  File \u001b[0;32m\"<ipython-input-1-73eb2bb2e6df>\"\u001b[0;36m, line \u001b[0;32m9\u001b[0;36m, in \u001b[0;35m<module>\u001b[0;36m\u001b[0m\n\u001b[0;31m    import util\u001b[0m\n",
      "\u001b[0;36m  File \u001b[0;32m\"/home/ubuntu/advancing-biomedical-models/Lectures/Week_5/util.py\"\u001b[0;36m, line \u001b[0;32m108\u001b[0m\n\u001b[0;31m    return residuals\u001b[0m\n\u001b[0m                    ^\u001b[0m\n\u001b[0;31mIndentationError\u001b[0m\u001b[0;31m:\u001b[0m unindent does not match any outer indentation level\n"
     ]
    }
   ],
   "source": [
    "%matplotlib inline\n",
    "import tellurium as te\n",
    "import numpy as np\n",
    "import pandas as pd\n",
    "import matplotlib.pyplot as plt\n",
    "from sklearn import linear_model\n",
    "from sklearn.metrics import mean_squared_error, r2_score\n",
    "import lmfit\n",
    "import util"
   ]
  },
  {
   "cell_type": "markdown",
   "metadata": {},
   "source": [
    "## Review of Model Fitting"
   ]
  },
  {
   "cell_type": "code",
   "execution_count": null,
   "metadata": {},
   "outputs": [],
   "source": [
    "from numpy import exp, sin\n",
    "\n",
    "x = np.linspace(0, 10, 100)\n",
    "data = 3*np.cos(x)\n",
    "\n",
    "def residual(params, x, data):\n",
    "    \"\"\"\n",
    "    :param Parameters params:\n",
    "    :param array x: independent variable(s)\n",
    "    :param array data: observed values to fit to\n",
    "    \"\"\"\n",
    "    amp = params['amp']\n",
    "    phaseshift = params['phase']\n",
    "    freq = params['frequency']\n",
    "    decay = params['decay']\n",
    "\n",
    "    model = amp * sin(x*freq + phaseshift) *exp(-x*x*decay)\n",
    " \n",
    "    return data-model\n",
    "\n",
    " \n",
    "params = lmfit.Parameters()\n",
    "params.add('amp', value=10)\n",
    "params.add('decay', value=0.007)\n",
    "params.add('phase', value=0.2)\n",
    "params.add('frequency', value=3.0)\n",
    "\n",
    "out = lmfit.minimize(residual, params, "
   ]
  },
  {
   "cell_type": "code",
   "execution_count": null,
   "metadata": {},
   "outputs": [],
   "source": [
    "import lmfit\n",
    "import numpy\n",
    "    \n",
    "# Synthetic data\n",
    "x = np.linspace(0, 10, 100)\n",
    "AMP = 3.0\n",
    "FREQ = 1.0\n",
    "PHASE = 0.0\n",
    "DECAY = 0.1\n",
    "data = AMP*sin(x*FREQ + PHASE)*exp(-x*x*DECAY)\n",
    "\n",
    "# Residual calculation\n",
    "def calculate(x, amp, phase, freq, decay):\n",
    "    \"\"\"\n",
    "    :param Parameters params:\n",
    "    :param array x: independent variable(s)\n",
    "    :param array data: observed values to fit to\n",
    "    \"\"\"\n",
    "    return amp*sin(x*freq + phase)*exp(-x*x*decay)\n",
    "\n",
    "\n",
    "# Fitting\n",
    "params = lmfit.Parameters()\n",
    "params.add('amp', value=10)\n",
    "params.add('freq', value=3)\n",
    "params.add('phase', value=.2)\n",
    "params.add('decay', value = 1.0)\n",
    "#\n",
    "model = lmfit.Model(calculate)\n",
    "fitter = model.fit(data, params, x=x) \n",
    "fitter.params\n"
   ]
  },
  {
   "cell_type": "code",
   "execution_count": null,
   "metadata": {},
   "outputs": [],
   "source": [
    "fitter.params.get('amp').value"
   ]
  },
  {
   "cell_type": "code",
   "execution_count": null,
   "metadata": {},
   "outputs": [],
   "source": [
    "for name in fitter.params:\n",
    "    param = fitter.params.get(name)\n",
    "    stmt = \"%s = %3.4f\" % (name, param.value)\n",
    "    exec(stmt)\n",
    "fit = amp*sin(x*freq + phase)*exp(-x*x*decay)\n",
    "plt.scatter(data, fit)\n",
    "plt.xlabel(\"Observed\")\n",
    "plt.ylabel(\"Fitted\")"
   ]
  },
  {
   "cell_type": "markdown",
   "metadata": {},
   "source": [
    "## Fitting a Simulation of One Species Concentration\n",
    "1. Make simulation into a function\n",
    "1. Create observations\n",
    "1. Create parameters\n",
    "1. Fit the model\n",
    "1. Generate fitted simulation data\n",
    "1. Compare the fit with the data"
   ]
  },
  {
   "cell_type": "code",
   "execution_count": null,
   "metadata": {},
   "outputs": [],
   "source": [
    "START = 0\n",
    "STOP = 50\n",
    "NUM_POINTS = 100\n",
    "def simulate(v0=10, ka=0.4, kb=0.32, kc=0.4):\n",
    "    \"\"\"\n",
    "    Simulate the model for specific parameter values.\n",
    "    :param array x: dummy independent variable\n",
    "    :return array-float: [B]\n",
    "    \"\"\"\n",
    "    model = \"\"\"\n",
    "    model test\n",
    "        species A, B, C;\n",
    "\n",
    "        J0: -> A; v0\n",
    "        A -> B; ka*A;\n",
    "        B -> C; kb*B;\n",
    "        J1: C ->; C*kc\n",
    "        A = 0\n",
    "        B = 0\n",
    "        C = 0\n",
    "        v0 = 10\n",
    "        ka = 0.4\n",
    "        kb = 0.8*ka\n",
    "        kc = ka\n",
    "\n",
    "    end\n",
    "    \"\"\"\n",
    "    r = te.loada(model)\n",
    "    r.v0 = v0\n",
    "    r.ka = ka\n",
    "    r.kb = kb\n",
    "    r.kc =kc\n",
    "    results = r.simulate(START, STOP, NUM_POINTS)\n",
    "    return results[\"[B]\"]"
   ]
  },
  {
   "cell_type": "code",
   "execution_count": null,
   "metadata": {},
   "outputs": [],
   "source": [
    "STD = 1.0\n",
    "data = simulate() + np.random.normal(0, STD, NUM_POINTS)"
   ]
  },
  {
   "cell_type": "code",
   "execution_count": null,
   "metadata": {},
   "outputs": [],
   "source": [
    "# Create the parameters\n",
    "params = lmfit.Parameters()\n",
    "params.add('v0', value=10)\n",
    "params.add('ka', value=.1)\n",
    "params.add('kb', value=.2)\n",
    "params.add('kc', value = 1.0)"
   ]
  },
  {
   "cell_type": "code",
   "execution_count": null,
   "metadata": {},
   "outputs": [],
   "source": [
    "# Do the fit\n",
    "model = lmfit.Model(simulate, independent_vars=[])  # Specifying no independent variables\n",
    "fitter = model.fit(data, params) \n",
    "fitter.params"
   ]
  },
  {
   "cell_type": "code",
   "execution_count": null,
   "metadata": {},
   "outputs": [],
   "source": [
    "# Generate fitted data by running the simulation with fitted parameters\n",
    "kwargs = {}\n",
    "for name in fitter.params:\n",
    "    param = fitter.params.get(name)\n",
    "    kwargs[name] = param.value\n",
    "fit = simulate(**kwargs)\n",
    "fit"
   ]
  },
  {
   "cell_type": "code",
   "execution_count": null,
   "metadata": {},
   "outputs": [],
   "source": []
  },
  {
   "cell_type": "markdown",
   "metadata": {},
   "source": [
    "## Fit Multiple Concentrations"
   ]
  },
  {
   "cell_type": "code",
   "execution_count": null,
   "metadata": {},
   "outputs": [],
   "source": [
    "def fitModel(modelstr, params, train, weights={}):\n",
    "    \"\"\"\n",
    "    :param str modelstr: Model\n",
    "    :param array-int: indices in training data\n",
    "    :param dict weights: key is response variable; value is weight in residuals\n",
    "    :return lmfit.minimizer.Minimizer: .Parameters are the parameters\n",
    "    \"\"\"\n",
    "    def calcResiduals(params):\n",
    "        results = util.simulate(modelstr, params)\n",
    "        residuals = np.repeat(0, len(train))\n",
    "        times = results['time']\n",
    "        for name in results.colnames[1:]:\n",
    "            multiplier = 1.0\n",
    "            if name in weights.keys():\n",
    "                multiplier = weights[name]*results[name]\n",
    "            residuals += multiplier*results[name][train]\n",
    "    minner = lmfit.Minimizer(calcResiduals, params)"
   ]
  },
  {
   "cell_type": "code",
   "execution_count": null,
   "metadata": {},
   "outputs": [],
   "source": [
    "# create data to be fitted\n",
    "x = np.linspace(0, 15, 301)\n",
    "data = (5. * np.sin(2*x - 0.1) * np.exp(-x*x*0.025) +\n",
    "        np.random.normal(size=len(x), scale=0.2))\n",
    "\n",
    "\n",
    "# define objective function: returns the array to be minimized\n",
    "def fcn2min(params, x, data):\n",
    "    \"\"\"Model a decaying sine wave and subtract data.\"\"\"\n",
    "    amp = params['amp']\n",
    "    shift = params['shift']\n",
    "    omega = params['omega']\n",
    "    decay = params['decay']\n",
    "    model = amp * np.sin(x*omega + shift) * np.exp(-x*x*decay)\n",
    "    return model - data\n",
    "\n",
    "\n",
    "# create a set of Parameters\n",
    "params = lmfit.Parameters()\n",
    "params.add('amp', value=10, min=0)\n",
    "params.add('decay', value=0.1)\n",
    "params.add('shift', value=0.0, min=-np.pi/2., max=np.pi/2)\n",
    "params.add('omega', value=3.0)\n",
    "\n",
    "# do fit, here with leastsq model\n",
    "minner = lmfit.Minimizer(fcn2min, params, fcn_args=(x, data))\n",
    "result = minner.minimize()\n",
    "\n",
    "# calculate final result\n",
    "final = data + result.residual\n",
    "\n",
    "# write error report\n",
    "lmfit.report_fit(result)\n",
    "\n",
    "# try to plot results\n",
    "try:\n",
    "    import matplotlib.pyplot as plt\n",
    "    plt.plot(x, data, 'k+')\n",
    "    plt.plot(x, final, 'r')\n",
    "    plt.show()\n",
    "except ImportError:\n",
    "    pass"
   ]
  },
  {
   "cell_type": "code",
   "execution_count": null,
   "metadata": {},
   "outputs": [],
   "source": [
    "minner"
   ]
  },
  {
   "cell_type": "markdown",
   "metadata": {},
   "source": [
    "Notes\n",
    "1. Can adapt to fitting for multiple response variables\n",
    "1. Parameters provide a way of restricting the values considered for the fit (e.g., must be positive)"
   ]
  },
  {
   "cell_type": "markdown",
   "metadata": {},
   "source": [
    "## Cross Validation Codes"
   ]
  },
  {
   "cell_type": "code",
   "execution_count": null,
   "metadata": {},
   "outputs": [],
   "source": [
    "def foldGenerator(num_points, num_folds):\n",
    "    \"\"\"\n",
    "    :param int num_points:\n",
    "    :param int num_folds:\n",
    "    :return array, array: training indices, test indices\n",
    "    \"\"\"\n",
    "    indices = range(num_points)\n",
    "    for remainder in range(num_folds):\n",
    "        test_indices = []\n",
    "        for idx in indices:\n",
    "            if idx % num_folds == remainder:\n",
    "                test_indices.append(idx)\n",
    "        train_indices = np.array(list(set(indices).difference(test_indices)))\n",
    "        test_indices = np.array(test_indices)\n",
    "        yield train_indices, test_indices\n",
    "#\n",
    "generator = foldGenerator(10, 5)\n",
    "for g in generator:\n",
    "    print(g)"
   ]
  },
  {
   "cell_type": "markdown",
   "metadata": {},
   "source": [
    "## Set up data"
   ]
  },
  {
   "cell_type": "code",
   "execution_count": null,
   "metadata": {},
   "outputs": [],
   "source": [
    "# Detailed simulation model\n",
    "\n",
    "te.setDefaultPlottingEngine('matplotlib')\n",
    "model = \"\"\"\n",
    "model test\n",
    "    species A, B, C;\n",
    "\n",
    "    J0: -> A; v0\n",
    "    A -> B; ka*A;\n",
    "    B -> C; kb*B;\n",
    "    J1: C ->; C*kc\n",
    "    ka = 0.4;\n",
    "    v0 = 10\n",
    "    kb = 0.8*ka\n",
    "    kc = ka\n",
    "\n",
    "end\n",
    "\"\"\"\n",
    "r = te.loada(model)\n",
    "result = r.simulate(0, 50, 100)"
   ]
  },
  {
   "cell_type": "code",
   "execution_count": null,
   "metadata": {},
   "outputs": [],
   "source": [
    "r.setValue(\"ka\", 0.3)\n",
    "r.ka"
   ]
  },
  {
   "cell_type": "code",
   "execution_count": null,
   "metadata": {},
   "outputs": [],
   "source": [
    "for col in COLUMN_NAMES:\n",
    "    plt.plot(result['time'], result[col])\n",
    "plt.xlabel(\"Time\")\n",
    "plt.ylabel(\"Concentration\")\n",
    "plt.legend(COLUMN_NAMES)"
   ]
  },
  {
   "cell_type": "code",
   "execution_count": null,
   "metadata": {},
   "outputs": [],
   "source": [
    "# Set-up the data\n",
    "if True:\n",
    "    STD = 5\n",
    "    result = getSimulationData()\n",
    "    length = len(result)\n",
    "    XV = result['time']\n",
    "    XV = XV.reshape(length, 1)\n",
    "    ERRORS = np.array(np.random.normal(0, STD, length))\n",
    "    YV_PURE = result['[B]']\n",
    "    YV = YV_PURE + ERRORS\n",
    "    YV_PURE = YV_PURE.reshape(length, 1)\n",
    "    YV = YV.reshape(length, 1)"
   ]
  },
  {
   "cell_type": "markdown",
   "metadata": {},
   "source": [
    "## Cross Validation"
   ]
  },
  {
   "cell_type": "code",
   "execution_count": null,
   "metadata": {},
   "outputs": [],
   "source": [
    "# Does a polynomial regression of the specified order\n",
    "def buildMatrix(xv, order):\n",
    "    \"\"\"\n",
    "    :param array-of-float xv:\n",
    "    :return matrix:\n",
    "    \"\"\"\n",
    "    length = len(xv)\n",
    "    xv = xv.reshape(length)\n",
    "    constants = np.repeat(1, length)\n",
    "    constants = constants.reshape(length)\n",
    "    data = [constants]\n",
    "    for n in range(1, order+1):\n",
    "        data.append(xv*data[-1])\n",
    "    mat = np.matrix(data)\n",
    "    return mat.T\n",
    "\n",
    "def regress(xv, yv, train, test, order=1):\n",
    "    \"\"\"\n",
    "    :param array-of-float xv: predictor values\n",
    "    :param array-of-float yv: response values\n",
    "    :param array-of-int train: indices of training data\n",
    "    :param array-of-int test: indices of test data\n",
    "    :param int order: Order of the polynomial regression\n",
    "    return float, array-float, array-float: R2, y_test, y_preds\n",
    "    \"\"\"  \n",
    "    regr = linear_model.LinearRegression()\n",
    "    # Train the model using the training sets\n",
    "    mat_train = buildMatrix(xv[train], order)\n",
    "    regr.fit(mat_train, yv[train])\n",
    "    mat_test = buildMatrix(XV[test], order)\n",
    "    y_pred = regr.predict(mat_test)\n",
    "    rsq = r2_score(YV[test], y_pred)\n",
    "    return rsq, yv[test], y_pred, regr.coef_"
   ]
  },
  {
   "cell_type": "code",
   "execution_count": null,
   "metadata": {},
   "outputs": [],
   "source": [
    "generator = foldGenerator(100, 4)\n",
    "for train, test in generator:\n",
    "    rsq, yv_test, yv_pred, coef_ = regress(XV, YV, train, test, order=3)\n",
    "    plt.figure()\n",
    "    plt.scatter(test, yv_pred, color = 'b')\n",
    "    plt.scatter(test, yv_test, color = 'r')\n",
    "    plt.title(\"RSQ: %2.4f\" % rsq)"
   ]
  },
  {
   "cell_type": "markdown",
   "metadata": {},
   "source": [
    "## Bootstrapping"
   ]
  },
  {
   "cell_type": "code",
   "execution_count": null,
   "metadata": {},
   "outputs": [],
   "source": [
    "# Compute residuals\n",
    "train = range(len(XV))\n",
    "test = range(len(XV))\n",
    "rsq, yv_test, yv_pred, _ = regress(XV, YV, train, test, order=3)\n",
    "residuals = yv_test - yv_pred\n",
    "plt.scatter(test, residuals)\n",
    "_ = plt.title(\"%2.4f\" % rsq)"
   ]
  },
  {
   "cell_type": "code",
   "execution_count": null,
   "metadata": {},
   "outputs": [],
   "source": [
    "# Generate synthetic data from residuals\n",
    "def generateData(y_obs, y_fit):\n",
    "    \"\"\"\n",
    "    :param np.array y_obs\n",
    "    :param np.array y_fit\n",
    "    :return np.array: bootstrap data\n",
    "    \"\"\"\n",
    "    residuals = y_obs - y_fit\n",
    "    length = len(y_obs)\n",
    "    residuals = residuals.reshape(length)\n",
    "    samples = np.random.randint(0, length, length)\n",
    "    result = y_fit + residuals[samples]\n",
    "    result = result.reshape(length)\n",
    "    return result"
   ]
  },
  {
   "cell_type": "code",
   "execution_count": null,
   "metadata": {},
   "outputs": [],
   "source": [
    "y_obs = np.array([1, 2, 3])\n",
    "y_fit = np.array([.9, 2.4, 3.2])\n",
    "for _ in range(4):\n",
    "    print (generateData(y_obs, y_fit))"
   ]
  },
  {
   "cell_type": "code",
   "execution_count": null,
   "metadata": {},
   "outputs": [],
   "source": [
    "train = range(len(XV))\n",
    "rsq, yv_test, yv_pred, _ = regress(XV, YV, train, train, order=3)\n",
    "plt.scatter(YV, generateData(YV, yv_pred))\n",
    "plt.title(\"Original\")\n",
    "for _ in range(4):\n",
    "    plt.figure()\n",
    "    plt.scatter(YV, generateData(YV, yv_pred))"
   ]
  },
  {
   "cell_type": "code",
   "execution_count": null,
   "metadata": {},
   "outputs": [],
   "source": [
    "# Estimate the parameters for each random data set\n",
    "train = range(len(XV))\n",
    "coefs = []\n",
    "_, _, y_fit, _ = regress(XV, YV, train, train, order=3)\n",
    "for _ in range(10):\n",
    "    yv = generateData(YV, y_fit)\n",
    "    _, _, _, coef_ = regress(XV, yv, train, train, order=3)\n",
    "    coefs.append(coef_)\n",
    "coefs"
   ]
  }
 ],
 "metadata": {
  "kernelspec": {
   "display_name": "Python 3",
   "language": "python",
   "name": "python3"
  },
  "language_info": {
   "codemirror_mode": {
    "name": "ipython",
    "version": 3
   },
   "file_extension": ".py",
   "mimetype": "text/x-python",
   "name": "python",
   "nbconvert_exporter": "python",
   "pygments_lexer": "ipython3",
   "version": "3.6.4"
  }
 },
 "nbformat": 4,
 "nbformat_minor": 2
}
