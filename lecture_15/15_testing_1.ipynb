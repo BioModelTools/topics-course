{
 "cells": [
  {
   "cell_type": "markdown",
   "metadata": {},
   "source": [
    "<span style=\"font-family:Papyrus; font-size:3em;\">Testing Kinetics Models</span>\n",
    "\n",
    "<span style=\"font-family:Papyrus; font-size:2em;\">Finding Mass Balance Errors</span>"
   ]
  },
  {
   "cell_type": "markdown",
   "metadata": {},
   "source": [
    "This notebook discusses the detection of one kind of static tests, mass balance errors."
   ]
  },
  {
   "cell_type": "markdown",
   "metadata": {},
   "source": [
    "# Programminmg Preliminaries"
   ]
  },
  {
   "cell_type": "code",
   "execution_count": 1,
   "metadata": {},
   "outputs": [],
   "source": [
    "IS_COLAB = False\n",
    "#\n",
    "if IS_COLAB:\n",
    "  !pip install matplotlib\n",
    "  !pip install numpy\n",
    "  !pip install tellurium\n",
    "  !pip install SBstoat\n",
    "  !pip install scipy\n",
    "#    \n",
    "# Constants for standalone notebook\n",
    "if not IS_COLAB:\n",
    "    COMMON_DIR = \"/home/ubuntu/advancing-biomedical-models/common\"\n",
    "    CODE_DIRS = [COMMON_DIR]\n",
    "    CODE_DIRS.append(\"/home/ubuntu/SBstoat\")\n",
    "    DATA_DIR = \"/home/ubuntu/advancing-biomedical-models/lecture_15\"\n",
    "else:\n",
    "    from google.colab import drive\n",
    "    drive.mount('/content/drive')\n",
    "    COMMON_DIR = [\"/content/drive/MyDrive/Winter 2021/common\"]\n",
    "    CODE_DIRS = [COMMON_DIR]\n",
    "    DATA_DIR = \"/content/drive/MyDrive/Modeling_Class/Lecture Notes/15_lecture\"\n",
    "import sys\n",
    "for path in CODE_DIRS:\n",
    "    sys.path.insert(0, path)\n",
    "# Other constants\n",
    "TIME = \"time\""
   ]
  },
  {
   "cell_type": "code",
   "execution_count": 2,
   "metadata": {},
   "outputs": [],
   "source": [
    "# Python packages used in this section\n",
    "import os\n",
    "import scipy\n",
    "\n",
    "import tellurium as te\n",
    "import matplotlib.pyplot as plt\n",
    "import numpy as np\n",
    "from SBMLLint.tools.sbmllint import lint\n",
    "from scipy.optimize import linprog"
   ]
  },
  {
   "cell_type": "markdown",
   "metadata": {},
   "source": [
    "# Detecting Stoichiometric Inconsistencies (SI)"
   ]
  },
  {
   "cell_type": "markdown",
   "metadata": {},
   "source": [
    "## ``scipy.optimize.linprog``"
   ]
  },
  {
   "cell_type": "markdown",
   "metadata": {},
   "source": [
    "**scipy.optimize.linprog**\n",
    "\n",
    "scipy.optimize.linprog(c, A_ub=None, b_ub=None, A_eq=None, b_eq=None, bounds=None, method='simplex', callback=None, options=None)[source]\n",
    "\n",
    "    Minimize a linear objective function subject to linear equality and inequality constraints.\n",
    "\n",
    "    Linear Programming is intended to solve the following problem form:\n",
    "\n",
    "    Minimize: c^T * x\n",
    "\n",
    "    Subject to: A_ub * x <= b_ub\n",
    "        A_eq * x == b_eq\n",
    "\n",
    "    Parameters:\t\n",
    "\n",
    "    c : array_like\n",
    "\n",
    "        Coefficients of the linear objective function to be minimized.\n",
    "\n",
    "    A_ub : array_like, optional\n",
    "\n",
    "        2-D array which, when matrix-multiplied by x, gives the values of the upper-bound inequality constraints at x.\n",
    "\n",
    "    b_ub : array_like, optional\n",
    "\n",
    "        1-D array of values representing the upper-bound of each inequality constraint (row) in A_ub.\n",
    "\n",
    "    A_eq : array_like, optional\n",
    "\n",
    "        2-D array which, when matrix-multiplied by x, gives the values of the equality constraints at x.\n",
    "\n",
    "    b_eq : array_like, optional\n",
    "\n",
    "        1-D array of values representing the RHS of each equality constraint (row) in A_eq.\n",
    "\n"
   ]
  },
  {
   "cell_type": "markdown",
   "metadata": {},
   "source": [
    "## ``scipy.optimize.linprog`` example"
   ]
  },
  {
   "cell_type": "markdown",
   "metadata": {},
   "source": [
    "**feasible solution**"
   ]
  },
  {
   "cell_type": "markdown",
   "metadata": {},
   "source": [
    "$min_{x_0, x_1} x_0 + x_1$\n",
    "\n",
    "such that:\n",
    "- $3 x_0 + x_1 = 6$\n",
    "- $x_0 + 2 x_1 = 4$\n",
    "- $x_0, x_1 \\geq 0 \\approx 10^{-5}$"
   ]
  },
  {
   "cell_type": "code",
   "execution_count": 15,
   "metadata": {},
   "outputs": [
    {
     "data": {
      "text/plain": [
       "     con: array([1.84817495e-10, 9.23767729e-11])\n",
       "     fun: 2.7999999999260856\n",
       " message: 'Optimization terminated successfully.'\n",
       "     nit: 3\n",
       "   slack: array([], dtype=float64)\n",
       "  status: 0\n",
       " success: True\n",
       "       x: array([1.6, 1.2])"
      ]
     },
     "execution_count": 15,
     "metadata": {},
     "output_type": "execute_result"
    }
   ],
   "source": [
    "# Solving the linear program\n",
    "c = [1, 1]\n",
    "\n",
    "A_eq = [[3, 1], [1, 2]]\n",
    "\n",
    "b_eq = [6, 4]\n",
    "\n",
    "x0_bounds = (10e-5, None)  # Use 10e-5 as a lower bound\n",
    "\n",
    "x1_bounds = (10e-5, None)\n",
    "\n",
    "res = linprog(c, A_eq=A_eq, b_eq=b_eq, bounds=[x0_bounds, x1_bounds])\n",
    "res"
   ]
  },
  {
   "cell_type": "markdown",
   "metadata": {},
   "source": [
    "**Infeasible solution**: use $-3 x_0 + x_1 = 6$ instead of $3 x_0 + x_1 = 6$"
   ]
  },
  {
   "cell_type": "code",
   "execution_count": 5,
   "metadata": {},
   "outputs": [
    {
     "data": {
      "text/plain": [
       "     con: array([6.23608595, 0.77925741])\n",
       "     fun: 1.8741509008125365\n",
       " message: 'The algorithm terminated successfully and determined that the problem is infeasible.'\n",
       "     nit: 4\n",
       "   slack: array([], dtype=float64)\n",
       "  status: 2\n",
       " success: False\n",
       "       x: array([0.52755921, 1.34659169])"
      ]
     },
     "execution_count": 5,
     "metadata": {},
     "output_type": "execute_result"
    }
   ],
   "source": [
    "A_eq = [[-3, 1], [1, 2]]\n",
    "res = linprog(c, A_eq=A_eq, b_eq=b_eq, bounds=[x0_bounds, x1_bounds])\n",
    "res"
   ]
  },
  {
   "cell_type": "markdown",
   "metadata": {},
   "source": [
    "## Detecting SIs in BioModels 255 "
   ]
  },
  {
   "cell_type": "code",
   "execution_count": 6,
   "metadata": {},
   "outputs": [
    {
     "data": {
      "text/plain": [
       "array([[ 0, -2,  1,  0,  0,  0,  0],\n",
       "       [ 0, -1,  0,  0,  0, -1,  1],\n",
       "       [-1,  1,  0, -1,  0,  0,  0],\n",
       "       [-1,  0,  0,  0,  1,  0,  0],\n",
       "       [ 0,  0,  0,  0,  1,  0, -1],\n",
       "       [ 0,  0,  0,  0,  1, -1,  0]])"
      ]
     },
     "execution_count": 6,
     "metadata": {},
     "output_type": "execute_result"
    }
   ],
   "source": [
    "# Transpose of the stoichiometry matrix for a subset of BioModels 255, Erb signaling pathways.\n",
    "NT = np.array([\n",
    "    [0, -2, 1, 0, 0, 0, 0],\n",
    "    [0, -1, 0, 0, 0, -1, 1],\n",
    "    [-1, 1, 0, -1, 0, 0, 0],\n",
    "    [-1, 0, 0, 0, 1, 0, 0],\n",
    "    [0, 0, 0, 0, 1, 0, -1],\n",
    "    [0, 0, 0, 0, 1, -1, 0]\n",
    "])\n",
    "NT"
   ]
  },
  {
   "cell_type": "markdown",
   "metadata": {},
   "source": [
    "## Question 1: Find the arguments for the linear optimization.\n",
    "1. Find ``c``, ``A_ub``, ``b_ub``, ``A_eq``, ``b_eq`` for BioModels 255 that are the arguments for ``linprog`` for for solving for stoichiometric inconsistencies.\n",
    "1. Use ``linprog`` to determine if there is a stoichiometric inconsistency in this model.\n"
   ]
  },
  {
   "cell_type": "markdown",
   "metadata": {},
   "source": [
    "### Solution"
   ]
  },
  {
   "cell_type": "code",
   "execution_count": 20,
   "metadata": {},
   "outputs": [
    {
     "data": {
      "text/plain": [
       "array([1, 1, 1, 1, 1, 1, 1])"
      ]
     },
     "execution_count": 20,
     "metadata": {},
     "output_type": "execute_result"
    }
   ],
   "source": [
    "# c\n",
    "numRow, numCol = np.shape(NT)\n",
    "c = np.repeat(1, numCol)\n",
    "c"
   ]
  },
  {
   "cell_type": "code",
   "execution_count": 17,
   "metadata": {},
   "outputs": [
    {
     "data": {
      "text/plain": [
       "array([0, 0, 0, 0, 0, 0])"
      ]
     },
     "execution_count": 17,
     "metadata": {},
     "output_type": "execute_result"
    }
   ],
   "source": [
    "# b_eq\n",
    "b_eq = np.repeat(0, numRow)\n",
    "b_eq"
   ]
  },
  {
   "cell_type": "code",
   "execution_count": 14,
   "metadata": {},
   "outputs": [
    {
     "data": {
      "text/plain": [
       "(7,)"
      ]
     },
     "execution_count": 14,
     "metadata": {},
     "output_type": "execute_result"
    }
   ],
   "source": [
    "np.shape(b_eq)"
   ]
  },
  {
   "cell_type": "code",
   "execution_count": 26,
   "metadata": {},
   "outputs": [
    {
     "data": {
      "text/plain": [
       "     con: array([ 7.39121638e-04,  7.39121638e-04,  7.39121638e-04, -3.35018471e-15,\n",
       "        0.00000000e+00,  0.00000000e+00])\n",
       "     fun: 0.006120288476860554\n",
       " message: 'The algorithm terminated successfully and determined that the problem is infeasible.'\n",
       "     nit: 4\n",
       "   slack: array([], dtype=float64)\n",
       "  status: 2\n",
       " success: False\n",
       "       x: array([0.0010546 , 0.00073912, 0.00073912, 0.00042364, 0.0010546 ,\n",
       "       0.0010546 , 0.0010546 ])"
      ]
     },
     "execution_count": 26,
     "metadata": {},
     "output_type": "execute_result"
    }
   ],
   "source": [
    "A_eq = NT\n",
    "bounds = []\n",
    "for _ in range(numCol):\n",
    "    bounds.append((10e-5, None))\n",
    "res = linprog(c, A_eq=A_eq, b_eq=b_eq, bounds=bounds)\n",
    "res"
   ]
  },
  {
   "cell_type": "markdown",
   "metadata": {},
   "source": [
    "# Motivating Example\n",
    "\n",
    "Static testing is done by analyzing the model without running any simulation.\n",
    "Several kinds of errors can be discovered by a static analysis."
   ]
  },
  {
   "cell_type": "markdown",
   "metadata": {},
   "source": [
    "## Mass Balance Errors\n",
    "\n",
    "A first error is the presence of reactions that do not preserve mass balance. Consider the following simulation of ``ATP`` hydrolysis and ``ADP`` phosphorylation. in which the equilibrium constant (``Keq``) is 1. We not that this is not a physiological value for ``Keq``, but useful for our example."
   ]
  },
  {
   "cell_type": "code",
   "execution_count": null,
   "metadata": {},
   "outputs": [],
   "source": [
    "ATP1_MODEL = \"\"\"\n",
    "J0: ATP -> ADP + P; k_f*ATP  \n",
    "J1: ADP -> ATP; k_r*ADP\n",
    "\n",
    "Keq = 1\n",
    "k_f = 0.4\n",
    "k_r = k_f/Keq\n",
    "ATP = 1\n",
    "ADP = 10e-5\n",
    "\"\"\"\n",
    "\n",
    "rr = te.loada(ATP1_MODEL)\n",
    "rr.plot(rr.simulate(0, 50, 100))"
   ]
  },
  {
   "cell_type": "markdown",
   "metadata": {},
   "source": [
    "Our expectation is that at equilibrium, ``ATP = ADP`` by definition of the equilibrium constant. However, instead ``Pi_`` increases without bound,\n",
    "and ``ATP = 0 = ADP``.\n",
    "\n",
    "Clearly, we have an error in the model. What is it?"
   ]
  },
  {
   "cell_type": "markdown",
   "metadata": {},
   "source": [
    "The issue here is that there is mass balance error in the model.\n",
    "That is, non-boundary reactions (reactions with non-null reactants and non-null products) should neither creater nor destroy mass.\n",
    "This is the case for ``J0`` in that the third inorganic phosphate in ``ATP`` is one of the products.\n",
    "However, there is no inorganic phosphate in the reactants of ``J1``. So, we are creating ``P`` in this network.\n",
    "\n",
    "Below, we revise the model to include ``P`` in the reactants of ``J1a``."
   ]
  },
  {
   "cell_type": "code",
   "execution_count": null,
   "metadata": {},
   "outputs": [],
   "source": [
    "ATP2_MODEL = \"\"\"\n",
    "J0: ATP -> ADP + Pi_; k_f*ATP  \n",
    "J1a: ADP + P -> ATP; k_r*ADP*P\n",
    "\n",
    "Keq = 1\n",
    "k_f = 0.4\n",
    "k_r = k_f/Keq\n",
    "ATP = 1\n",
    "ADP = 10e-5\n",
    "\"\"\"\n",
    "\n",
    "rr = te.loada(ATP2_MODEL)\n",
    "rr.plot(rr.simulate(0, 50, 100))"
   ]
  },
  {
   "cell_type": "markdown",
   "metadata": {},
   "source": [
    "Now, we get a more reasonable result. (Note that the line for ``ADP`` and ``Pi`` are coincident.) The concentrations of ``ATP`` and ``ADP`` differ because $K_{eq} = \\frac{[ATP]}{[ADP] [Pi]} = \\frac{0.64}{(0.4)(0.4)}$.\n",
    "\n",
    "There is another way of fixing the mass balance error that reqults in ``ATP = ADP``. This solution assumes that there is a\n",
    "large concentration of ``Pi`` that is relatively unchanged as a result of the hydolysis and phosphorylation reactions.\n",
    "So, ``Pi`` does not appear in the model."
   ]
  },
  {
   "cell_type": "code",
   "execution_count": null,
   "metadata": {},
   "outputs": [],
   "source": [
    "ATP3_MODEL = \"\"\"\n",
    "J0a: ATP -> ADP; k_f*ATP \n",
    "J1: ADP -> ATP; k_r*ADP\n",
    "\n",
    "Keq = 1\n",
    "k_f = 0.4\n",
    "k_r = k_f/Keq\n",
    "ATP = 1\n",
    "ADP = 10e-5\n",
    "\"\"\"\n",
    "\n",
    "rr = te.loada(ATP3_MODEL)\n",
    "rr.plot(rr.simulate(0, 50, 100))"
   ]
  },
  {
   "cell_type": "markdown",
   "metadata": {},
   "source": [
    "# Detecting Mass Balance Errors"
   ]
  },
  {
   "cell_type": "markdown",
   "metadata": {},
   "source": [
    "Having seen the dramatic impact of undetected mass balance errors, it is natural to ask how they can be detected. There are two general approaches.\n",
    "The first requires knowing the chemical composition of each chemical species.\n",
    "For example, atomic mass analysis ??ref-MEMOTE counts the atoms of each type in the reactants and compares each count with the corresponding counts of atoms in the products.\n",
    "This approach has two challenges.\n",
    "First, the modeler must use annotations or other means to expose the chemical structure of species; this is not always available (especially\n",
    "for larger molecules that can be in many different chemical states of phosphorylation, methylation, etc.).\n",
    "A second problem is that it forces the modeler to write unnecessarly detailed reactions.\n",
    "For example, ``ATP2_MODEL`` fails this kind of mass balance checking because there is no accounting for the $\\gamma$ phosphate of ``ATP``.\n",
    "\n",
    "An alternative approach is to check for a condition that is a bit weaker than mass balance.\n",
    "Referred to as **stoichiometric inconsistency**, such inconsistencies are detected if there is no assignment of masses to\n",
    "the chemical species such that the reaction network (without boundary reactions) neither creates nor destroys chemical species.\n",
    "\n",
    "The technical details of this latter approach are described in ??ref-Shin for details.\n",
    "The paper introduces the GAMES algorithm that uses graphical techniques to analyze mass equivalences implied by the reaction network.\n",
    "For example, reaction ``J0`` implies that the mass of ``ATP`` is equal to the sum of the masses of ``ADP`` and ``P``.\n",
    "\n",
    "GAMES is in the SBMLLint ``pip`` installable package. It can be run at the command line\n",
    "via ``games <SBML file>``. It can also be run programmatically, such as within a Jupyter notebook.\n",
    "Below, we show how to apply the GAMES to the above examples.\n"
   ]
  },
  {
   "cell_type": "code",
   "execution_count": null,
   "metadata": {},
   "outputs": [],
   "source": [
    "_ = lint(ATP1_MODEL, mass_balance_check=\"games\")"
   ]
  },
  {
   "cell_type": "markdown",
   "metadata": {},
   "source": [
    "GAMES detected that the first model is stoichiometric inconsisent. Further, GAMES provides a simple argument for how this detection is made.\n",
    "Statement (1) explains that GAMES inferred that the mass of ``ADP`` is equal to the mass of ``ATP``.\n",
    "However, this is contradicted by a second finding that the mass of ``ADP`` is less than the mass of ``ATP``."
   ]
  },
  {
   "cell_type": "code",
   "execution_count": null,
   "metadata": {},
   "outputs": [],
   "source": [
    "_ = lint(ATP2_MODEL, mass_balance_check=\"games\")"
   ]
  },
  {
   "cell_type": "code",
   "execution_count": null,
   "metadata": {},
   "outputs": [],
   "source": [
    "_ = lint(ATP3_MODEL, mass_balance_check=\"games\")"
   ]
  },
  {
   "cell_type": "markdown",
   "metadata": {},
   "source": [
    "# Other Errors Detectable By Static Analysis"
   ]
  },
  {
   "cell_type": "markdown",
   "metadata": {},
   "source": [
    "There are other errors in reaction networks that can be detected statically. Systems such as MEMOTE detect the following errors:\n",
    "- *Blocked reactions* are reactions where one or more reactant is never present and so the reaction never ocurs.\n",
    "- *Dead end metabolite* are chemical species that are produced but not consumed.\n",
    "- *Orphan metabolites* are chemical species that are consumed but not produced.\n",
    "- *Charge imbalance* reactions are reactions that do not preserve the charge of the reactants in the products.\n",
    "\n",
    "The foregoing errors apply to the mass transfer part of reactions. Of course, errors are also possible in the kinetics laws.\n",
    "Among these errors are:\n",
    "- *Incorrect reference to chemical species*. To illustrate, consider a reaction in which the modeler intended to use mass action kinetcs, but\n",
    "wrote the reaction as ``A -> B; kB``.\n",
    "- *Errors in the function used in the kinetics law*. A common example here is to inadevertently use zeroth order kinetics for\n",
    "the degradation of a chemical species.\n",
    "For example, ``B ->; k``. The problem is that this can result in ``B`` becoming negative since its value is reduced\n",
    "regardless of whether ``B`` is present. Clearly, we cannot have a negative concentration."
   ]
  },
  {
   "cell_type": "markdown",
   "metadata": {},
   "source": [
    "# Application to Glycolytic Oscillations\n",
    "This section applies the idea of model testing to our running example of glycolytic oscillations.\n",
    "We begin by introduce several constants.\n",
    "Constants are in all capital letters; they are assigned once, and their values do not change."
   ]
  },
  {
   "cell_type": "code",
   "execution_count": null,
   "metadata": {},
   "outputs": [],
   "source": [
    "# Constants used in the section\n",
    "WOLF_MODEL = os.path.join(COMMON_DIR, \"Jana_WolfGlycolysis.antimony\")\n",
    "MOLECULES = [\"Glucose\", \"fructose_1_6_bisphosphate\", \"glyceraldehyde_3_phosphate\", \"glycerate_3_phosphate\",\n",
    "            \"pyruvate\", \"Acetyladehyde\", \"External_acetaldehyde\", \"ATP\", \"ADP\", \"NAD\", \"NADH\"]\n",
    "ENDTIME = 5\n",
    "NUMPOINT = 100*ENDTIME\n",
    "ROADRUNNER = te.loada(WOLF_MODEL)"
   ]
  },
  {
   "cell_type": "markdown",
   "metadata": {},
   "source": [
    "In this section, we consider tests to verify the simulation of glycolytic oscillations used in our running example. The use case considered is one in which a team plans to modify the original model.\n",
    "This may involve both the addition and removal of reactions.\n",
    "\n",
    "Recall that the reactions in this model are:\n",
    "\n",
    "  ``\n",
    "  J0: $External_glucose => Glucose; J0_inputFlux;\n",
    "  J1: Glucose + 2 ATP => fructose_1_6_bisphosphate + 2 ADP; J1_k1*Glucose*ATP*(1/(1 + (ATP/J1_Ki)^J1_n));\n",
    "  J2: fructose_1_6_bisphosphate => glyceraldehyde_3_phosphate + glyceraldehyde_3_phosphate; J2_k*fructose_1_6_bisphosphate;\n",
    "  J3: glyceraldehyde_3_phosphate + NADH => NAD + $Glycerol; J3_k*glyceraldehyde_3_phosphate*NADH;\n",
    "  J4: glyceraldehyde_3_phosphate + ADP + NAD => ATP + glycerate_3_phosphate + NADH; (J4_kg*J4_kp*glyceraldehyde_3_phosphate*NAD*ADP - J4_ka*J4_kk*glycerate_3_phosphate*ATP*NADH)/(J4_ka*NADH + J4_kp*ADP);\n",
    "  J5: glycerate_3_phosphate + ADP => ATP + pyruvate; J5_k*glycerate_3_phosphate*ADP;\n",
    "  J6: pyruvate => Acetyladehyde; J6_k*pyruvate;\n",
    "  J7: Acetyladehyde + NADH => NAD + $ethanol; J7_k*Acetyladehyde*NADH;\n",
    "  J8: Acetyladehyde => External_acetaldehyde; J8_k1*Acetyladehyde - J8_k2*External_acetaldehyde;\n",
    "  J9: ATP => ADP; J9_k*ATP;\n",
    "  J10: External_acetaldehyde => $Sink; J10_k*External_acetaldehyde;``"
   ]
  },
  {
   "cell_type": "markdown",
   "metadata": {},
   "source": [
    "We begin by checking if the Wolf model has any stoichiometric inconsistencies.\n",
    "First, we create the antimony model as a string."
   ]
  },
  {
   "cell_type": "code",
   "execution_count": null,
   "metadata": {},
   "outputs": [],
   "source": [
    "WOLF_ANTIMONY = ROADRUNNER.getAntimony()"
   ]
  },
  {
   "cell_type": "markdown",
   "metadata": {},
   "source": [
    "Then, we check it."
   ]
  },
  {
   "cell_type": "code",
   "execution_count": null,
   "metadata": {},
   "outputs": [],
   "source": [
    "_ = lint(WOLF_ANTIMONY, mass_balance_check=\"games\")"
   ]
  },
  {
   "cell_type": "markdown",
   "metadata": {},
   "source": [
    "# Apply to BioModels"
   ]
  },
  {
   "cell_type": "markdown",
   "metadata": {},
   "source": [
    "**Question**\n",
    "Download the following models from BioModels, and check for mass balance errors."
   ]
  }
 ],
 "metadata": {
  "kernelspec": {
   "display_name": "Python 3",
   "language": "python",
   "name": "python3"
  },
  "language_info": {
   "codemirror_mode": {
    "name": "ipython",
    "version": 3
   },
   "file_extension": ".py",
   "mimetype": "text/x-python",
   "name": "python",
   "nbconvert_exporter": "python",
   "pygments_lexer": "ipython3",
   "version": "3.6.9"
  },
  "toc-autonumbering": true
 },
 "nbformat": 4,
 "nbformat_minor": 4
}
