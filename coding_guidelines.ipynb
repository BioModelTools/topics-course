{
 "cells": [
  {
   "cell_type": "markdown",
   "metadata": {},
   "source": [
    "# Sample Homework\n",
    "This homework illustrates the coding guidelines for this course. These guidelines are:\n",
    "\n",
    "\n",
    "1. Whenever possible, use functions instead of scripts. This is because functions facilitate reuse, and functions are testable. Never use copy and paste for reuse.\n",
    "\n",
    "1. Use meaningful names for functions are variables. Function names should be verbs. For example, a function that calculates a fast Fourier transform might be named ``calcFFT``. A bad name for this function would be the single letter ``f``.\n",
    "\n",
    "1. Constants used in the notebook should have a name in all capital letters. For example, use PI, not pi. (By definition, a constant is a variable that is assigned a value only once.)\n",
    "\n",
    "1. The following should be used for functions:\n",
    "\n",
    "   1. Code cells should contain at most one function definition.\n",
    "\n",
    "   1. Functions should contain documentation that specifies: (a) what it does; (b) data types and semantics of its input parameters; (c) data type and semantics of what it returns.\n",
    "\n",
    "   1. The code cell in which a function resides should contain an \"assert\" statement that runs the function and performs a test on its output.\n",
    "   \n",
    "   1. Variables in a function are either parameters of the function, local to the function, or global constants.\n"
   ]
  },
  {
   "cell_type": "code",
   "execution_count": 6,
   "metadata": {},
   "outputs": [],
   "source": [
    "# Install all packages needed. Only runs if change \"False\" to \"True\".\n",
    "if False:\n",
    "    !pip install numpy\n",
    "    !pip install matplotlib\n",
    "    !pip install tellurium\n",
    "    !pip install lmfit\n",
    "    !pip install SBMLLint\n",
    "    !pip install SBstoat\n",
    "    !pip install scipy"
   ]
  },
  {
   "cell_type": "code",
   "execution_count": null,
   "metadata": {},
   "outputs": [],
   "source": [
    "# Import packages at the top of the notebook\n",
    "import numpy as np"
   ]
  },
  {
   "cell_type": "code",
   "execution_count": null,
   "metadata": {},
   "outputs": [],
   "source": [
    "# Global constants\n",
    "PI = np.pi  # Constants are assigned once. Their names are in all capitals."
   ]
  },
  {
   "cell_type": "code",
   "execution_count": 4,
   "metadata": {},
   "outputs": [],
   "source": [
    "def calculateSum(vector):\n",
    "    \"\"\"\n",
    "    Calculates the sum of values in a vector.\n",
    "    \n",
    "    Parameters\n",
    "    ----------\n",
    "    vector: numpy.array\n",
    "    \n",
    "    Returns\n",
    "    -------\n",
    "    float\n",
    "    \"\"\"\n",
    "    return np.sum(vector)\n",
    "\n",
    "# Test\n",
    "array = np.array([1, 3, 4])\n",
    "assert(calculateSum(array) == 8)"
   ]
  },
  {
   "cell_type": "code",
   "execution_count": 5,
   "metadata": {},
   "outputs": [
    {
     "ename": "AssertionError",
     "evalue": "",
     "output_type": "error",
     "traceback": [
      "\u001b[0;31m---------------------------------------------------------------------------\u001b[0m",
      "\u001b[0;31mAssertionError\u001b[0m                            Traceback (most recent call last)",
      "\u001b[0;32m<ipython-input-5-54b0969fd787>\u001b[0m in \u001b[0;36m<module>\u001b[0;34m\u001b[0m\n\u001b[1;32m      1\u001b[0m \u001b[0;31m# Example of a failed assert\u001b[0m\u001b[0;34m\u001b[0m\u001b[0;34m\u001b[0m\u001b[0;34m\u001b[0m\u001b[0m\n\u001b[0;32m----> 2\u001b[0;31m \u001b[0;32massert\u001b[0m\u001b[0;34m(\u001b[0m\u001b[0mcalculateSum\u001b[0m\u001b[0;34m(\u001b[0m\u001b[0marray\u001b[0m\u001b[0;34m)\u001b[0m \u001b[0;34m==\u001b[0m \u001b[0;36m7\u001b[0m\u001b[0;34m)\u001b[0m\u001b[0;34m\u001b[0m\u001b[0;34m\u001b[0m\u001b[0m\n\u001b[0m",
      "\u001b[0;31mAssertionError\u001b[0m: "
     ]
    }
   ],
   "source": [
    "# Example of a failed assert\n",
    "assert(calculateSum(array) == 7)"
   ]
  }
 ],
 "metadata": {
  "kernelspec": {
   "display_name": "Python 3",
   "language": "python",
   "name": "python3"
  },
  "language_info": {
   "codemirror_mode": {
    "name": "ipython",
    "version": 3
   },
   "file_extension": ".py",
   "mimetype": "text/x-python",
   "name": "python",
   "nbconvert_exporter": "python",
   "pygments_lexer": "ipython3",
   "version": "3.6.9"
  }
 },
 "nbformat": 4,
 "nbformat_minor": 4
}
