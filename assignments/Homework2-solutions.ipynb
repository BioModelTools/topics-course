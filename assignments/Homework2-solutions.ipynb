{
 "cells": [
  {
   "cell_type": "markdown",
   "metadata": {},
   "source": [
    "<span style=\"font-family:Papyrus; font-size:3em;\">Homework 2</span>\n",
    "\n",
    "<span style=\"font-family:Papyrus; font-size:2em;\">Cross Validation</span>"
   ]
  },
  {
   "cell_type": "markdown",
   "metadata": {},
   "source": [
    "# Problem"
   ]
  },
  {
   "cell_type": "markdown",
   "metadata": {},
   "source": [
    "In this homework, you will analyze the effect on the quality of the model fit and parameter estimates\n",
    "as a result of the number of parameters and the noise in the observational data.\n",
    "For a two parameter model, use $S_1 \\xrightarrow{v_1} S_2 \\xrightarrow{v_3} S_3$,\n",
    "where $v_i = k_i s_i$, $k_i$ is a parameter to estimate, and $s_i$ is the concentration of $S_i$.\n",
    "The initial concentration of $S_1 = 10$, and the true value of $k_i$ is $i$.\n",
    "You will design experiments, implement codes to run them, run the experiments, and interpret the results.\n",
    "You will produce two tables structure as the one below, one with $R^2$ values for the factor levels\n",
    "and the other with the average parameter std.\n",
    "\n",
    " |        | std = 0.5 | std=1.0 | std=1.5\n",
    " ------   | --------- | ------- | -------\n",
    " numParameter=2 | ? | ? | ?\n",
    " numParameter=4 | ? | ? | ?\n",
    " numParameter=6 | ? | ? | ?\n",
    " \n",
    "\n",
    "1. Write the 3 models in Antimony, and produce plots for their true values. Use a simulation time\n",
    "of 10 and 100 points.\n",
    "1. Write a function that creates synthetic data given the parameters std and numParameter.\n",
    "1. Extend the AlignFitter class in ``common/util_crossvalidation.py`` by adding the method\n",
    "``calcAvgParameterStd``. You will do this by creating a new class, ``ExtendedFitter`` that\n",
    "subclasses ``AligningFitter``.\n",
    "1. Run experiments that produce the tables described above.\n",
    "1. Using the baseline std=1.0, numParameter=4, calculate $\\mu$, $\\alpha_i,k_i$,\n",
    "$\\gamma_i,i_k,j,k_j$.\n",
    "1. Answer the following questions\n",
    "   1. Are there any significant interaction effects?\n",
    "   1. What is the general effect on $R^2$ and average parameter std as the number of parameters increases?\n",
    "   1. What does the noise standard deviation influence quality, especially as the number of parameters increases?"
   ]
  },
  {
   "cell_type": "markdown",
   "metadata": {},
   "source": [
    "# Programming Preliminaries\n",
    "This section provides the setup to run your python codes."
   ]
  },
  {
   "cell_type": "code",
   "execution_count": 5,
   "metadata": {},
   "outputs": [],
   "source": [
    "IS_COLAB = False\n",
    "#\n",
    "if IS_COLAB:\n",
    "  !pip install tellurium\n",
    "  !pip install SBstoat\n",
    "#    \n",
    "# Constants for standalone notebook\n",
    "if not IS_COLAB:\n",
    "    CODE_DIR = \"/home/ubuntu/advancing-biomedical-models/common\"\n",
    "else:\n",
    "    from google.colab import drive\n",
    "    drive.mount('/content/drive')\n",
    "    CODE_DIR = \"/content/drive/My Drive/Winter 2021/common\"\n",
    "import sys\n",
    "sys.path.insert(0, CODE_DIR)"
   ]
  },
  {
   "cell_type": "code",
   "execution_count": 6,
   "metadata": {},
   "outputs": [
    {
     "data": {
      "text/plain": [
       "'/home/ubuntu/advancing-biomedical-models/common'"
      ]
     },
     "execution_count": 6,
     "metadata": {},
     "output_type": "execute_result"
    }
   ],
   "source": [
    "CODE_DIR"
   ]
  },
  {
   "cell_type": "code",
   "execution_count": 7,
   "metadata": {},
   "outputs": [],
   "source": [
    "import util_crossvalidation as ucv\n",
    "\n",
    "import matplotlib.pyplot as plt\n",
    "import numpy as np\n",
    "import pandas as pd\n",
    "import tellurium as te"
   ]
  }
 ],
 "metadata": {
  "kernelspec": {
   "display_name": "Python 3",
   "language": "python",
   "name": "python3"
  },
  "language_info": {
   "codemirror_mode": {
    "name": "ipython",
    "version": 3
   },
   "file_extension": ".py",
   "mimetype": "text/x-python",
   "name": "python",
   "nbconvert_exporter": "python",
   "pygments_lexer": "ipython3",
   "version": "3.6.9"
  }
 },
 "nbformat": 4,
 "nbformat_minor": 4
}
