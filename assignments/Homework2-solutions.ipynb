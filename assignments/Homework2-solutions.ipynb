{
 "cells": [
  {
   "cell_type": "markdown",
   "metadata": {},
   "source": [
    "<span style=\"font-family:Papyrus; font-size:3em;\">Homework 2</span>\n",
    "\n",
    "<span style=\"font-family:Papyrus; font-size:2em;\">Cross Validation</span>"
   ]
  },
  {
   "cell_type": "markdown",
   "metadata": {},
   "source": [
    "# Problem"
   ]
  },
  {
   "cell_type": "markdown",
   "metadata": {},
   "source": [
    "This homework allows you to explore the implications of choosing folds for cross validation.\n",
    "\n",
    "1. Write codes that:\n",
    "   1. Run the fitter for different randomly chosen size of observations.\n",
    "   1. Calculates the sum of squares difference (SSD) between the parameter estimates and the true parameters.\n",
    "1. Conduct experiments with different sample sizes noise levels where the response is the SSD. Display your results as a heatmap in which the horizontal axis is the sample size and the vertical axis is the standard deviation.\n",
    "1. Re-do the by calculating the averaging response for five samples of the same size. How do these results compare with the single sample approach?\n",
    "1. What are the implications of these insights for choosing folds in cross validation?"
   ]
  },
  {
   "cell_type": "markdown",
   "metadata": {},
   "source": [
    "# Programming Preliminaries\n",
    "This section provides the setup to run your python codes."
   ]
  },
  {
   "cell_type": "code",
   "execution_count": 1,
   "metadata": {},
   "outputs": [],
   "source": [
    "IS_COLAB = False\n",
    "#\n",
    "if IS_COLAB:\n",
    "  !pip install tellurium\n",
    "  !pip install SBstoat\n",
    "#    \n",
    "# Constants for standalone notebook\n",
    "if not IS_COLAB:\n",
    "    CODE_DIR = \"/home/ubuntu/advancing-biomedical-models/common\"\n",
    "else:\n",
    "    from google.colab import drive\n",
    "    drive.mount('/content/drive')\n",
    "    CODE_DIR = \"/content/drive/My Drive/Winter 2021/common\"\n",
    "import sys\n",
    "sys.path.insert(0, CODE_DIR)"
   ]
  },
  {
   "cell_type": "code",
   "execution_count": 2,
   "metadata": {},
   "outputs": [],
   "source": [
    "import wolf_model as wm\n",
    "import util\n",
    "import util_doe1  # Various functions from lecture 5\n",
    "import util_doe2  # Various functions from lecture 6\n",
    "\n",
    "import matplotlib.pyplot as plt\n",
    "import matplotlib.gridspec as gridspec\n",
    "import numpy as np\n",
    "import pandas as pd\n",
    "from scipy import fftpack\n",
    "import tellurium as te\n",
    "import seaborn as sns"
   ]
  }
 ],
 "metadata": {
  "kernelspec": {
   "display_name": "Python 3",
   "language": "python",
   "name": "python3"
  },
  "language_info": {
   "codemirror_mode": {
    "name": "ipython",
    "version": 3
   },
   "file_extension": ".py",
   "mimetype": "text/x-python",
   "name": "python",
   "nbconvert_exporter": "python",
   "pygments_lexer": "ipython3",
   "version": "3.6.9"
  }
 },
 "nbformat": 4,
 "nbformat_minor": 4
}
