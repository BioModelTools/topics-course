{
 "cells": [
  {
   "cell_type": "markdown",
   "metadata": {},
   "source": [
    "<span style=\"font-family:Papyrus; font-size:3em;\">Homework 2</span>\n",
    "\n",
    "<span style=\"font-family:Papyrus; font-size:2em;\">Cross Validation</span>"
   ]
  },
  {
   "cell_type": "markdown",
   "metadata": {},
   "source": [
    "# Problem"
   ]
  },
  {
   "cell_type": "markdown",
   "metadata": {},
   "source": [
    "In this homework, you will use cross validation to analyze the effect on the quality of the model fit and parameter estimates\n",
    "as a result of the number of parameters and the noise in the observational data.\n",
    "\n",
    "You will investigate models of linear pathways with 2, 4, 6, 8, 10 parameters.\n",
    "For example, a two parameter model is use $S_1 \\xrightarrow{v_1} S_2 \\xrightarrow{v_3} S_3$,\n",
    "where $v_i = k_i s_i$, $k_i$ is a parameter to estimate, and $s_i$ is the concentration of $S_i$.\n",
    "The initial concentration of $S_1 = 10$, and the true value of $k_i$ is $i$.\n",
    "\n",
    "You will generate the synthetic data using noise standard deviations of 0.2, 0.5, 0.8, 1.0, and 1.5.\n",
    "\n",
    "You will design experiments, implement codes to run them, run the experiments, and interpret the results.\n",
    "You will produce *two* tables structured as the one below. One table will be populated\n",
    "with $R^2$ values averaged across the folds.\n",
    "The other table will be populated with the average of the standard deviations of the parameter estimates\n",
    "across folds for all parameters in the model. \n",
    "\n",
    " |   | 2 | 4 | 6 | 8 | 10\n",
    "  | -- | -- | -- | -- | -- | -- |\n",
    " 0.2 | ? | ? | ? | ? | ?\n",
    " 0.5 | ? | ? | ? | ? | ?\n",
    " 0.8 | ? | ? | ? | ? | ?\n",
    " 1.0 | ? | ? | ? | ? | ?\n",
    " 1.5 | ? | ? | ? | ? | ?\n",
    " \n",
    "\n",
    "1. Write the 3 models in Antimony, and produce plots for their true values. Use a simulation time\n",
    "of 10 and 100 points.\n",
    "1. Write a function that creates synthetic data given the parameters std and numParameter.\n",
    "1. Extend the ``CrossValidator`` class in ``common/util_crossvalidation.py`` by adding the method\n",
    "``calcAvgParameterStd``. You will do this by creating a new class, ``ExtendedCrossValidator`` that\n",
    "subclasses ``CrossValidator`` and has the method ``calcAvgParameterStd``. Be sure to include\n",
    "a test for the new method. **DO NOT COPY CODES FROM COMMON.**\n",
    "1. Run experiments that produce the tables described above.\n",
    "1. Using the baseline standard deviation of noise of 0.8, number of parameters of 6, calculate $\\mu$, $\\alpha_{i,k_i}$,\n",
    "$\\gamma_{i,i_k,j,k_j}$.\n",
    "1. Answer the following questions\n",
    "   1. Are there any significant interaction effects?\n",
    "   1. What is the general effect on $R^2$ and average parameter std as the number of parameters increases?\n",
    "   1. What does the noise standard deviation influence quality, especially as the number of parameters increases?"
   ]
  },
  {
   "cell_type": "markdown",
   "metadata": {},
   "source": [
    "# Programming Preliminaries\n",
    "This section provides the setup to run your python codes."
   ]
  },
  {
   "cell_type": "code",
   "execution_count": 1,
   "metadata": {},
   "outputs": [],
   "source": [
    "IS_COLAB = False\n",
    "#\n",
    "if IS_COLAB:\n",
    "  !pip install tellurium\n",
    "  !pip install SBstoat\n",
    "#    \n",
    "# Constants for standalone notebook\n",
    "if not IS_COLAB:\n",
    "    CODE_DIR = \"/home/ubuntu/advancing-biomedical-models/common\"\n",
    "else:\n",
    "    from google.colab import drive\n",
    "    drive.mount('/content/drive')\n",
    "    CODE_DIR = \"/content/drive/My Drive/Winter 2021/common\"\n",
    "import sys\n",
    "sys.path.insert(0, CODE_DIR)"
   ]
  },
  {
   "cell_type": "code",
   "execution_count": 2,
   "metadata": {},
   "outputs": [],
   "source": [
    "import util_crossvalidation as ucv\n",
    "from SBstoat.namedTimeseries import NamedTimeseries, TIME\n",
    "\n",
    "import matplotlib.pyplot as plt\n",
    "import numpy as np\n",
    "import pandas as pd\n",
    "import tellurium as te"
   ]
  },
  {
   "cell_type": "code",
   "execution_count": 35,
   "metadata": {},
   "outputs": [],
   "source": [
    "END_TIME = 5\n",
    "NUM_POINT = 100\n",
    "NOISE_STD = 0.5\n",
    "# Column names\n",
    "C_NOISE_STD = \"noisestd\"\n",
    "C_NUM_PARAMETER = \"no. parameters\"\n",
    "C_VALUE = \"value\"\n",
    "#\n",
    "NOISE_STDS = [0.2, 0.5, 0.8, 1.0, 1.5]\n",
    "NUM_PARAMETERS = [2, 4, 6, 8, 10]"
   ]
  },
  {
   "cell_type": "code",
   "execution_count": 19,
   "metadata": {},
   "outputs": [],
   "source": [
    "def isSame(collection1, collection2):\n",
    "    \"\"\"\n",
    "    Determines if two collections have the same elements.\n",
    "    \"\"\"\n",
    "    diff = set(collection1).symmetric_difference(collection2)\n",
    "    return len(diff) == 0\n",
    "    \n",
    "# Tests\n",
    "assert(isSame(range(3), [0, 1, 2]))\n",
    "assert(not isSame(range(4), range(3)))"
   ]
  },
  {
   "cell_type": "markdown",
   "metadata": {},
   "source": [
    "# Generate Models"
   ]
  },
  {
   "cell_type": "code",
   "execution_count": 4,
   "metadata": {},
   "outputs": [],
   "source": [
    "MODEL = \"\"\"\n",
    "S1 -> S2; k1*S1\n",
    "S2 -> S3; k2*S2\n",
    "\n",
    "S1 = 10\n",
    "S2 = 0\n",
    "k1 = 1\n",
    "k2 = 2\n",
    "\"\"\"\n",
    "rr = te.loada(MODEL)"
   ]
  },
  {
   "cell_type": "code",
   "execution_count": 5,
   "metadata": {},
   "outputs": [
    {
     "data": {
      "text/plain": [
       "<AxesSubplot:>"
      ]
     },
     "execution_count": 5,
     "metadata": {},
     "output_type": "execute_result"
    },
    {
     "data": {
      "text/plain": [
       "<Figure size 432x288 with 0 Axes>"
      ]
     },
     "metadata": {},
     "output_type": "display_data"
    }
   ],
   "source": [
    "class LinearModel(object):\n",
    "    \n",
    "    def __init__(self, numParameter, s1Value=10):\n",
    "        \"\"\"\n",
    "        numParameter: int\n",
    "            number of parameters in the model\n",
    "        s1Value: float\n",
    "            Initial value for S1\n",
    "        \"\"\"\n",
    "        self.numParameter = numParameter\n",
    "        self.s1Value = s1Value\n",
    "        #\n",
    "        # modelStr - Antimony model\n",
    "        # parameterDct - true values of parameters\n",
    "        self.modelStr, self.parameterDct = self._generateModel()\n",
    "        self.parameterNames = list(self.parameterDct.keys())\n",
    "        # Calculated by other methods\n",
    "        self.resultTS = None  # Simulation result\n",
    "        \n",
    "    def _generateModel(self):\n",
    "        \"\"\"\n",
    "        Constructs an antimony model.\n",
    "        \n",
    "        Returns\n",
    "        -------\n",
    "        str: antimony model\n",
    "        list-str: model parameters\n",
    "        dict:\n",
    "            key: parameterName\n",
    "            value: true value\n",
    "        \"\"\"\n",
    "        def mkSpeciesInitialization(idx, value=0):\n",
    "            return \"\\nS%d = %2.2f\" % (idx, value)\n",
    "        #\n",
    "        reactionStr = \"\"\n",
    "        initializationStr = \"\"\n",
    "        parameterDct = {}\n",
    "        for idx in range(1, self.numParameter+1):\n",
    "            if idx == 1:\n",
    "                value = self.s1Value\n",
    "            else:\n",
    "                value = 0\n",
    "            parameterName = \"k%d\" % idx\n",
    "            parameterDct[parameterName] = idx\n",
    "            initializationStr += mkSpeciesInitialization(idx, value)\n",
    "            if idx == self.numParameter:\n",
    "                    initializationStr += mkSpeciesInitialization(idx + 1, 0)\n",
    "            initializationStr += \"\\n%s = %2.2f\" % (parameterName, 1.0*idx)\n",
    "            reactionStr += \"\\nS%d -> S%d; k%d*S%d\" % (idx, idx+1, idx, idx)\n",
    "        modelStr = \"%s\\n%s\" % (reactionStr, initializationStr)\n",
    "        return modelStr, parameterDct\n",
    "    \n",
    "    def simulate(self, endTime=END_TIME, numPoint=NUM_POINT):\n",
    "        \"\"\"\n",
    "        Simulates the model.\n",
    "        \n",
    "        Parameters\n",
    "        ----------\n",
    "        endTime: float\n",
    "            end of the simulation\n",
    "        numPoint: int\n",
    "            number of points in the simulation\n",
    "        \"\"\"\n",
    "        rr = te.loada(self.modelStr)\n",
    "        arr = rr.simulate(0, endTime, numPoint)\n",
    "        self.resultTS = NamedTimeseries(namedArray=arr)\n",
    "    \n",
    "    def plotTrueModel(self, **kwargs):\n",
    "        \"\"\"\n",
    "        Plots the result of a simulation.\n",
    "        \n",
    "        Parameters\n",
    "        ----------\n",
    "        kwargs: dict\n",
    "            arguments passed to plot\n",
    "            \n",
    "        Returns\n",
    "        -------\n",
    "        Matplotlib.Axes\n",
    "        \"\"\"\n",
    "        if self.resultTS is None:\n",
    "            self.simulate()\n",
    "        return ucv.plotTS(self.resultTS, linetype=\"line\", **kwargs)\n",
    "\n",
    "# Tests\n",
    "numParameter = 3\n",
    "model = LinearModel(numParameter)\n",
    "_ = te.loada(model.modelStr)\n",
    "assert(len(model.parameterDct) == numParameter)\n",
    "# All species and constants are present\n",
    "for term in [\"S\", \"k\"]:\n",
    "    trues = [\"%s%d\" % (term, n) in model.modelStr for n in range(1, numParameter+1)]            \n",
    "    assert(all(trues))\n",
    "#   simulate\n",
    "model.simulate()\n",
    "assert(len(model.resultTS) > 0)\n",
    "#   plotResult\n",
    "model.plotTrueModel(title=\"test\", isPlot=False)"
   ]
  },
  {
   "cell_type": "markdown",
   "metadata": {},
   "source": [
    "# Generate Synthetic Data"
   ]
  },
  {
   "cell_type": "code",
   "execution_count": 6,
   "metadata": {},
   "outputs": [
    {
     "data": {
      "image/png": "[encoded data removed]",
      "text/plain": [
       "<Figure size 432x288 with 1 Axes>"
      ]
     },
     "metadata": {
      "needs_background": "light"
     },
     "output_type": "display_data"
    }
   ],
   "source": [
    "class ExtendedLinearModel(LinearModel):\n",
    "    \"\"\"Extends Model by providing generated observations.\"\"\"\n",
    "    \n",
    "    def __init__(self, *args, **kwargs):\n",
    "        \"\"\"\n",
    "        numParameter: int\n",
    "            number of parameters in the model\n",
    "        \"\"\"\n",
    "        super().__init__(*args, **kwargs)\n",
    "        self.noiseStd = None\n",
    "        self.observedTS = None\n",
    "    \n",
    "    def generateObserved(self, noiseStd=NOISE_STD, **kwargs):\n",
    "        \"\"\"\n",
    "        Creates synthetic data for the model.\n",
    "\n",
    "        model: Model\n",
    "        noiseStd: float\n",
    "        kwargs: dict\n",
    "            optional keywords passed to run model\n",
    "        \"\"\"\n",
    "        self.noiseStd = noiseStd\n",
    "        self.simulate(**kwargs)\n",
    "        self.observedTS = ucv.makeSyntheticData(fittedTS=self.resultTS, std=noiseStd)\n",
    "        \n",
    "    def plotTrueAndGeneratedData(self, isPlot=True):\n",
    "        ax = self.plotTrueModel(isPlot=isPlot)\n",
    "        if self.observedTS is None:\n",
    "            self.generateObserved()\n",
    "        title = \"parameters: %d   noise std: %2.2f\" % (self.numParameter, self.noiseStd)\n",
    "        ucv.plotTS(self.observedTS, title=title, isPlot=isPlot, ax=ax)\n",
    "\n",
    "# Tests\n",
    "model = ExtendedLinearModel(3)\n",
    "model.generateObserved()\n",
    "assert(len(model.observedTS) == len(model.observedTS))\n",
    "#  plotTrueAndGeneratedData\n",
    "model.plotTrueAndGeneratedData()"
   ]
  },
  {
   "cell_type": "code",
   "execution_count": 7,
   "metadata": {},
   "outputs": [
    {
     "data": {
      "image/png": "[encoded data removed]",
      "text/plain": [
       "<Figure size 432x288 with 1 Axes>"
      ]
     },
     "metadata": {
      "needs_background": "light"
     },
     "output_type": "display_data"
    },
    {
     "data": {
      "image/png": "[encoded data removed]",
      "text/plain": [
       "<Figure size 432x288 with 1 Axes>"
      ]
     },
     "metadata": {
      "needs_background": "light"
     },
     "output_type": "display_data"
    },
    {
     "data": {
      "image/png": "[encoded data removed]",
      "text/plain": [
       "<Figure size 432x288 with 1 Axes>"
      ]
     },
     "metadata": {
      "needs_background": "light"
     },
     "output_type": "display_data"
    }
   ],
   "source": [
    "# Here are some examples of the data\n",
    "for numParameter in [2, 4, 6]:\n",
    "    model = ExtendedLinearModel(numParameter)\n",
    "    model.plotTrueAndGeneratedData()"
   ]
  },
  {
   "cell_type": "markdown",
   "metadata": {},
   "source": [
    "# ``ExtendedCrossValidator``"
   ]
  },
  {
   "cell_type": "code",
   "execution_count": 8,
   "metadata": {},
   "outputs": [],
   "source": [
    "class ExtendedCrossValidator(ucv.CrossValidator):\n",
    "    \"\"\"Calculates the average standard deviation of parameter estimates.\"\"\"\n",
    "    \n",
    "    def calcAverageParameterStd(self):\n",
    "        stdDct = {n: [] for n in self.parameterNames}\n",
    "        for parameters in self.parametersCol:\n",
    "            valuesDct = parameters.valuesdict()\n",
    "            [stdDct[n].append(valuesDct[n]) for n in self.parameterNames]\n",
    "        # Stds of the parameters\n",
    "        stds = [np.std(stdDct[n]) for n in self.parameterNames]\n",
    "        return np.mean(stds)\n",
    "    \n",
    "# Tests\n",
    "numFold = 5\n",
    "numParameter = 4\n",
    "model = ExtendedLinearModel(numParameter)\n",
    "model.generateObserved(noiseStd=1.5)\n",
    "validator = ExtendedCrossValidator(numFold, model.modelStr, model.observedTS, model.parameterNames,\n",
    "    trueParameterDct=model.parameterDct, method=\"least_squares\",\n",
    "    lower=0, upper=100)\n",
    "validator.execute()\n",
    "assert(validator.calcAverageParameterStd() < 0.5)"
   ]
  },
  {
   "cell_type": "markdown",
   "metadata": {},
   "source": [
    "# Conduct experiments and tabulate results"
   ]
  },
  {
   "cell_type": "code",
   "execution_count": 22,
   "metadata": {},
   "outputs": [],
   "source": [
    "def runExperiments(numParameters, noiseStds, numFold=5, **kwargs):\n",
    "    \"\"\"\n",
    "    Constructs tables for the results of computational experiments.\n",
    "    Experiments are described by the collection of values for the\n",
    "    number of parameters in the model and the standard deviation of noise.\n",
    "    \n",
    "    Parameters\n",
    "    ----------\n",
    "    numParameters: list-int\n",
    "    noiseStds: list-float\n",
    "    numFold: int\n",
    "    kwargs: dict\n",
    "        optional arguments for ExtendedCrossValidator\n",
    "    \n",
    "    Returns\n",
    "    -------\n",
    "    pd.DataFrame: parameterStdDF - average std of parameter estimates within a fold\n",
    "        columns: NUM_PARAMETER in model\n",
    "        index: NOISE_STD of observational data\n",
    "        values: average standard deviation of parameter estimates\n",
    "    pd.DataFrame: rsqDF - average R2 for folds\n",
    "        columns: NUM_PARAMETER in model\n",
    "        index: NOISE_STD of observational data\n",
    "        values: average R2\n",
    "    \"\"\"\n",
    "    def mkTable(dct):\n",
    "        \"\"\"\n",
    "        Creates a dataframe table from a dictionary.\n",
    "        Columns are the number of parameters.\n",
    "        Rows are the standard deviation of the noise.\n",
    "        \"\"\"\n",
    "        df = pd.DataFrame(dct)\n",
    "        df = df.set_index(C_NOISE_STD)\n",
    "        tableDF = df.pivot_table(values=C_VALUE,columns=C_NUM_PARAMETER,\n",
    "                                 index=C_NOISE_STD)\n",
    "        return tableDF\n",
    "    def updateDct(dct, noiseStd, numParameter, value):\n",
    "        \"\"\"\n",
    "        Update entries in the dictionary.\n",
    "        \"\"\"\n",
    "        dct[C_NOISE_STD].append(noiseStd)\n",
    "        dct[C_NUM_PARAMETER].append(numParameter)\n",
    "        dct[C_VALUE].append(value)\n",
    "    #\n",
    "    parameterDct = {C_NOISE_STD: [], C_NUM_PARAMETER: [], C_VALUE: []}\n",
    "    rsqDct = parameterdct = {C_NOISE_STD: [], C_NUM_PARAMETER: [], C_VALUE: []}\n",
    "    for noiseStd in noiseStds:\n",
    "        for numParameter in numParameters:\n",
    "            model = ExtendedLinearModel(numParameter)\n",
    "            model.generateObserved(noiseStd=noiseStd)\n",
    "            validator = ExtendedCrossValidator(numFold, model.modelStr, model.observedTS, \n",
    "                model.parameterNames,\n",
    "                trueParameterDct=model.parameterDct, **kwargs)\n",
    "            validator.execute()\n",
    "            updateDct(parameterDct, noiseStd, numParameter,\n",
    "                     validator.calcAverageParameterStd())\n",
    "            updateDct(rsqDct, noiseStd, numParameter,\n",
    "                      np.mean(validator.rsqs))\n",
    "    parameterStdDF = mkTable(parameterDct)\n",
    "    rsqDF = mkTable(rsqDct)\n",
    "    return parameterStdDF, rsqDF\n",
    "\n",
    "# Tests\n",
    "numParameters = [2, 4, 10]\n",
    "noiseStds = [0.5, 0.8, 1.5]\n",
    "parameterStdDF, rsqDF = runExperiments(numParameters, noiseStds)\n",
    "for df in [parameterStdDF, rsqDF]:\n",
    "    assert(isSame(numParameters, df.columns))\n",
    "    assert(isSame(noiseStds, df.index))"
   ]
  },
  {
   "cell_type": "markdown",
   "metadata": {},
   "source": [
    "# Calculate the effects\n",
    "Here, we calculate $\\mu$, $\\alpha_{i, k_i}$, and $\\gamma_{i, k_i, j, k_j}$."
   ]
  },
  {
   "cell_type": "code",
   "execution_count": 46,
   "metadata": {},
   "outputs": [],
   "source": [
    "def calculateEffects(tableDF):\n",
    "    \"\"\"\n",
    "    \"\"\"\n",
    "    columns = tableDF.columns.tolist()\n",
    "    rows = tableDF.index.tolist()\n",
    "    numRow = len(rows)\n",
    "    numCol = len(columns)\n",
    "    #\n",
    "    if numRow % 2 != 1:\n",
    "        raise ValueError(\"Must have an odd number of rows.\")\n",
    "    if numCol % 2 != 1:\n",
    "        raise ValueError(\"Must have an odd number of columns.\")\n",
    "    centerRow = numRow // 2 \n",
    "    centerCol = numCol // 2 \n",
    "    #\n",
    "    mu = tableDF.loc[rows[centerRow], columns[centerCol]]\n",
    "    #\n",
    "    rowAlphaSer = tableDF.loc[rows, columns[centerCol]] - mu\n",
    "    columnAlphaSer = tableDF.loc[rows[centerRow], columns] - mu\n",
    "    # Calculate the values for each entry\n",
    "    gammaDF = tableDF.copy()\n",
    "    for column in columns:\n",
    "        for row in rows:\n",
    "            gammaDF.loc[row, column] = gammaDF.loc[row, column]  \\\n",
    "                  - mu - rowAlphaSer.loc[row] - columnAlphaSer.loc[column]\n",
    "    #\n",
    "    return mu, rowAlphaSer, columnAlphaSer, gammaDF\n",
    "                              \n",
    "# Tests\n",
    "numParameters = [2, 4, 6]\n",
    "noiseStds = [0.5, 0.8, 1.5]\n",
    "parameterStdDF, rsqDF = runExperiments(numParameters, noiseStds)\n",
    "mu, rowAlphaSer, columnAlphaSer, gammaDF = calculateEffects(rsqDF)\n",
    "assert((0 <= mu) and (mu <= 1.0))\n",
    "assert(len(rowAlphaSer) == len(noiseStds))\n",
    "assert(len(columnAlphaSer) == len(numParameters))"
   ]
  },
  {
   "cell_type": "markdown",
   "metadata": {},
   "source": [
    "Calculate Rsqs and then calculate mu, alpha, gamma"
   ]
  },
  {
   "cell_type": "code",
   "execution_count": 47,
   "metadata": {},
   "outputs": [],
   "source": [
    "# Calculate the raw tables of R2 and parameter standard deviations\n",
    "parameterStdDF, rsqDF = runExperiments(NUM_PARAMETERS, NOISE_STDS)"
   ]
  },
  {
   "cell_type": "markdown",
   "metadata": {},
   "source": [
    "## Parameter standard deviations"
   ]
  },
  {
   "cell_type": "code",
   "execution_count": 48,
   "metadata": {},
   "outputs": [
    {
     "data": {
      "text/html": [
       "<div>\n",
       "<style scoped>\n",
       "    .dataframe tbody tr th:only-of-type {\n",
       "        vertical-align: middle;\n",
       "    }\n",
       "\n",
       "    .dataframe tbody tr th {\n",
       "        vertical-align: top;\n",
       "    }\n",
       "\n",
       "    .dataframe thead th {\n",
       "        text-align: right;\n",
       "    }\n",
       "</style>\n",
       "<table border=\"1\" class=\"dataframe\">\n",
       "  <thead>\n",
       "    <tr style=\"text-align: right;\">\n",
       "      <th>no. parameters</th>\n",
       "      <th>2</th>\n",
       "      <th>4</th>\n",
       "      <th>6</th>\n",
       "      <th>8</th>\n",
       "      <th>10</th>\n",
       "    </tr>\n",
       "    <tr>\n",
       "      <th>noisestd</th>\n",
       "      <th></th>\n",
       "      <th></th>\n",
       "      <th></th>\n",
       "      <th></th>\n",
       "      <th></th>\n",
       "    </tr>\n",
       "  </thead>\n",
       "  <tbody>\n",
       "    <tr>\n",
       "      <th>0.2</th>\n",
       "      <td>0.006414</td>\n",
       "      <td>0.026300</td>\n",
       "      <td>0.063325</td>\n",
       "      <td>0.092866</td>\n",
       "      <td>0.120872</td>\n",
       "    </tr>\n",
       "    <tr>\n",
       "      <th>0.5</th>\n",
       "      <td>0.025868</td>\n",
       "      <td>0.056490</td>\n",
       "      <td>0.109498</td>\n",
       "      <td>0.240055</td>\n",
       "      <td>0.282572</td>\n",
       "    </tr>\n",
       "    <tr>\n",
       "      <th>0.8</th>\n",
       "      <td>0.030011</td>\n",
       "      <td>0.128872</td>\n",
       "      <td>0.800097</td>\n",
       "      <td>0.310986</td>\n",
       "      <td>0.305797</td>\n",
       "    </tr>\n",
       "    <tr>\n",
       "      <th>1.0</th>\n",
       "      <td>0.028392</td>\n",
       "      <td>0.317195</td>\n",
       "      <td>0.252926</td>\n",
       "      <td>0.309349</td>\n",
       "      <td>0.563710</td>\n",
       "    </tr>\n",
       "    <tr>\n",
       "      <th>1.5</th>\n",
       "      <td>0.045649</td>\n",
       "      <td>0.297269</td>\n",
       "      <td>0.661045</td>\n",
       "      <td>0.668578</td>\n",
       "      <td>1.223928</td>\n",
       "    </tr>\n",
       "  </tbody>\n",
       "</table>\n",
       "</div>"
      ],
      "text/plain": [
       "no. parameters        2         4         6         8         10\n",
       "noisestd                                                        \n",
       "0.2             0.006414  0.026300  0.063325  0.092866  0.120872\n",
       "0.5             0.025868  0.056490  0.109498  0.240055  0.282572\n",
       "0.8             0.030011  0.128872  0.800097  0.310986  0.305797\n",
       "1.0             0.028392  0.317195  0.252926  0.309349  0.563710\n",
       "1.5             0.045649  0.297269  0.661045  0.668578  1.223928"
      ]
     },
     "execution_count": 48,
     "metadata": {},
     "output_type": "execute_result"
    }
   ],
   "source": [
    "parameterStdDF"
   ]
  },
  {
   "cell_type": "code",
   "execution_count": 54,
   "metadata": {},
   "outputs": [],
   "source": [
    "mu, noiseStdAlphaSer, numParameterAlphaSer, gammaDF = calculateEffects(parameterStdDF)"
   ]
  },
  {
   "cell_type": "code",
   "execution_count": 52,
   "metadata": {},
   "outputs": [
    {
     "data": {
      "text/plain": [
       "0.8000969312278908"
      ]
     },
     "execution_count": 52,
     "metadata": {},
     "output_type": "execute_result"
    }
   ],
   "source": [
    "# mu\n",
    "mu"
   ]
  },
  {
   "cell_type": "code",
   "execution_count": 53,
   "metadata": {},
   "outputs": [
    {
     "data": {
      "text/plain": [
       "noisestd\n",
       "0.2   -0.736771\n",
       "0.5   -0.690599\n",
       "0.8    0.000000\n",
       "1.0   -0.547171\n",
       "1.5   -0.139052\n",
       "Name: 6, dtype: float64"
      ]
     },
     "execution_count": 53,
     "metadata": {},
     "output_type": "execute_result"
    }
   ],
   "source": [
    "# Alpha for noise standard deviations\n",
    "noiseStdAlphaSer"
   ]
  },
  {
   "cell_type": "code",
   "execution_count": 55,
   "metadata": {},
   "outputs": [
    {
     "data": {
      "text/plain": [
       "no. parameters\n",
       "2    -0.770086\n",
       "4    -0.671225\n",
       "6     0.000000\n",
       "8    -0.489111\n",
       "10   -0.494300\n",
       "Name: 0.8, dtype: float64"
      ]
     },
     "execution_count": 55,
     "metadata": {},
     "output_type": "execute_result"
    }
   ],
   "source": [
    "# Alpha for number of parameters\n",
    "numParameterAlphaSer"
   ]
  },
  {
   "cell_type": "code",
   "execution_count": 59,
   "metadata": {},
   "outputs": [
    {
     "data": {
      "text/html": [
       "<div>\n",
       "<style scoped>\n",
       "    .dataframe tbody tr th:only-of-type {\n",
       "        vertical-align: middle;\n",
       "    }\n",
       "\n",
       "    .dataframe tbody tr th {\n",
       "        vertical-align: top;\n",
       "    }\n",
       "\n",
       "    .dataframe thead th {\n",
       "        text-align: right;\n",
       "    }\n",
       "</style>\n",
       "<table border=\"1\" class=\"dataframe\">\n",
       "  <thead>\n",
       "    <tr style=\"text-align: right;\">\n",
       "      <th>no. parameters</th>\n",
       "      <th>2</th>\n",
       "      <th>4</th>\n",
       "      <th>6</th>\n",
       "      <th>8</th>\n",
       "      <th>10</th>\n",
       "    </tr>\n",
       "    <tr>\n",
       "      <th>noisestd</th>\n",
       "      <th></th>\n",
       "      <th></th>\n",
       "      <th></th>\n",
       "      <th></th>\n",
       "      <th></th>\n",
       "    </tr>\n",
       "  </thead>\n",
       "  <tbody>\n",
       "    <tr>\n",
       "      <th>0.2</th>\n",
       "      <td>-0.099295</td>\n",
       "      <td>-0.080769</td>\n",
       "      <td>0.0</td>\n",
       "      <td>-0.026324</td>\n",
       "      <td>0.012206</td>\n",
       "    </tr>\n",
       "    <tr>\n",
       "      <th>0.5</th>\n",
       "      <td>-0.080979</td>\n",
       "      <td>-0.073942</td>\n",
       "      <td>0.0</td>\n",
       "      <td>-0.037042</td>\n",
       "      <td>-0.013274</td>\n",
       "    </tr>\n",
       "    <tr>\n",
       "      <th>0.8</th>\n",
       "      <td>0.000000</td>\n",
       "      <td>0.000000</td>\n",
       "      <td>0.0</td>\n",
       "      <td>0.000000</td>\n",
       "      <td>0.000000</td>\n",
       "    </tr>\n",
       "    <tr>\n",
       "      <th>1.0</th>\n",
       "      <td>-0.001624</td>\n",
       "      <td>-0.029081</td>\n",
       "      <td>0.0</td>\n",
       "      <td>-0.057285</td>\n",
       "      <td>-0.075790</td>\n",
       "    </tr>\n",
       "    <tr>\n",
       "      <th>1.5</th>\n",
       "      <td>0.057889</td>\n",
       "      <td>0.005317</td>\n",
       "      <td>0.0</td>\n",
       "      <td>-0.060343</td>\n",
       "      <td>-0.156534</td>\n",
       "    </tr>\n",
       "  </tbody>\n",
       "</table>\n",
       "</div>"
      ],
      "text/plain": [
       "no. parameters        2         4    6         8         10\n",
       "noisestd                                                   \n",
       "0.2            -0.099295 -0.080769  0.0 -0.026324  0.012206\n",
       "0.5            -0.080979 -0.073942  0.0 -0.037042 -0.013274\n",
       "0.8             0.000000  0.000000  0.0  0.000000  0.000000\n",
       "1.0            -0.001624 -0.029081  0.0 -0.057285 -0.075790\n",
       "1.5             0.057889  0.005317  0.0 -0.060343 -0.156534"
      ]
     },
     "execution_count": 59,
     "metadata": {},
     "output_type": "execute_result"
    }
   ],
   "source": [
    "gammaDF"
   ]
  },
  {
   "cell_type": "markdown",
   "metadata": {},
   "source": [
    "## $R^2$"
   ]
  },
  {
   "cell_type": "code",
   "execution_count": 56,
   "metadata": {},
   "outputs": [],
   "source": [
    "mu, noiseStdAlphaSer, numParameterAlphaSer, gammaDF = calculateEffects(rsqDF)"
   ]
  },
  {
   "cell_type": "code",
   "execution_count": 49,
   "metadata": {},
   "outputs": [
    {
     "data": {
      "text/html": [
       "<div>\n",
       "<style scoped>\n",
       "    .dataframe tbody tr th:only-of-type {\n",
       "        vertical-align: middle;\n",
       "    }\n",
       "\n",
       "    .dataframe tbody tr th {\n",
       "        vertical-align: top;\n",
       "    }\n",
       "\n",
       "    .dataframe thead th {\n",
       "        text-align: right;\n",
       "    }\n",
       "</style>\n",
       "<table border=\"1\" class=\"dataframe\">\n",
       "  <thead>\n",
       "    <tr style=\"text-align: right;\">\n",
       "      <th>no. parameters</th>\n",
       "      <th>2</th>\n",
       "      <th>4</th>\n",
       "      <th>6</th>\n",
       "      <th>8</th>\n",
       "      <th>10</th>\n",
       "    </tr>\n",
       "    <tr>\n",
       "      <th>noisestd</th>\n",
       "      <th></th>\n",
       "      <th></th>\n",
       "      <th></th>\n",
       "      <th></th>\n",
       "      <th></th>\n",
       "    </tr>\n",
       "  </thead>\n",
       "  <tbody>\n",
       "    <tr>\n",
       "      <th>0.2</th>\n",
       "      <td>0.996485</td>\n",
       "      <td>0.994874</td>\n",
       "      <td>0.993029</td>\n",
       "      <td>0.990726</td>\n",
       "      <td>0.988191</td>\n",
       "    </tr>\n",
       "    <tr>\n",
       "      <th>0.5</th>\n",
       "      <td>0.980555</td>\n",
       "      <td>0.967456</td>\n",
       "      <td>0.958784</td>\n",
       "      <td>0.945762</td>\n",
       "      <td>0.928465</td>\n",
       "    </tr>\n",
       "    <tr>\n",
       "      <th>0.8</th>\n",
       "      <td>0.943858</td>\n",
       "      <td>0.923722</td>\n",
       "      <td>0.841107</td>\n",
       "      <td>0.865128</td>\n",
       "      <td>0.824063</td>\n",
       "    </tr>\n",
       "    <tr>\n",
       "      <th>1.0</th>\n",
       "      <td>0.937611</td>\n",
       "      <td>0.890018</td>\n",
       "      <td>0.836485</td>\n",
       "      <td>0.803220</td>\n",
       "      <td>0.743650</td>\n",
       "    </tr>\n",
       "    <tr>\n",
       "      <th>1.5</th>\n",
       "      <td>0.841753</td>\n",
       "      <td>0.769045</td>\n",
       "      <td>0.681114</td>\n",
       "      <td>0.644792</td>\n",
       "      <td>0.507536</td>\n",
       "    </tr>\n",
       "  </tbody>\n",
       "</table>\n",
       "</div>"
      ],
      "text/plain": [
       "no. parameters        2         4         6         8         10\n",
       "noisestd                                                        \n",
       "0.2             0.996485  0.994874  0.993029  0.990726  0.988191\n",
       "0.5             0.980555  0.967456  0.958784  0.945762  0.928465\n",
       "0.8             0.943858  0.923722  0.841107  0.865128  0.824063\n",
       "1.0             0.937611  0.890018  0.836485  0.803220  0.743650\n",
       "1.5             0.841753  0.769045  0.681114  0.644792  0.507536"
      ]
     },
     "execution_count": 49,
     "metadata": {},
     "output_type": "execute_result"
    }
   ],
   "source": [
    "rsqDF"
   ]
  },
  {
   "cell_type": "code",
   "execution_count": 57,
   "metadata": {},
   "outputs": [
    {
     "data": {
      "text/plain": [
       "noisestd\n",
       "0.2    0.151921\n",
       "0.5    0.117676\n",
       "0.8    0.000000\n",
       "1.0   -0.004623\n",
       "1.5   -0.159993\n",
       "Name: 6, dtype: float64"
      ]
     },
     "execution_count": 57,
     "metadata": {},
     "output_type": "execute_result"
    }
   ],
   "source": [
    "# Alpha for noise standard deviations\n",
    "noiseStdAlphaSer"
   ]
  },
  {
   "cell_type": "code",
   "execution_count": 58,
   "metadata": {},
   "outputs": [
    {
     "data": {
      "text/plain": [
       "no. parameters\n",
       "2     0.102751\n",
       "4     0.082614\n",
       "6     0.000000\n",
       "8     0.024021\n",
       "10   -0.017044\n",
       "Name: 0.8, dtype: float64"
      ]
     },
     "execution_count": 58,
     "metadata": {},
     "output_type": "execute_result"
    }
   ],
   "source": [
    "# Alpha for number of parameters\n",
    "numParameterAlphaSer"
   ]
  },
  {
   "cell_type": "code",
   "execution_count": 60,
   "metadata": {},
   "outputs": [
    {
     "data": {
      "text/html": [
       "<div>\n",
       "<style scoped>\n",
       "    .dataframe tbody tr th:only-of-type {\n",
       "        vertical-align: middle;\n",
       "    }\n",
       "\n",
       "    .dataframe tbody tr th {\n",
       "        vertical-align: top;\n",
       "    }\n",
       "\n",
       "    .dataframe thead th {\n",
       "        text-align: right;\n",
       "    }\n",
       "</style>\n",
       "<table border=\"1\" class=\"dataframe\">\n",
       "  <thead>\n",
       "    <tr style=\"text-align: right;\">\n",
       "      <th>no. parameters</th>\n",
       "      <th>2</th>\n",
       "      <th>4</th>\n",
       "      <th>6</th>\n",
       "      <th>8</th>\n",
       "      <th>10</th>\n",
       "    </tr>\n",
       "    <tr>\n",
       "      <th>noisestd</th>\n",
       "      <th></th>\n",
       "      <th></th>\n",
       "      <th></th>\n",
       "      <th></th>\n",
       "      <th></th>\n",
       "    </tr>\n",
       "  </thead>\n",
       "  <tbody>\n",
       "    <tr>\n",
       "      <th>0.2</th>\n",
       "      <td>-0.099295</td>\n",
       "      <td>-0.080769</td>\n",
       "      <td>0.0</td>\n",
       "      <td>-0.026324</td>\n",
       "      <td>0.012206</td>\n",
       "    </tr>\n",
       "    <tr>\n",
       "      <th>0.5</th>\n",
       "      <td>-0.080979</td>\n",
       "      <td>-0.073942</td>\n",
       "      <td>0.0</td>\n",
       "      <td>-0.037042</td>\n",
       "      <td>-0.013274</td>\n",
       "    </tr>\n",
       "    <tr>\n",
       "      <th>0.8</th>\n",
       "      <td>0.000000</td>\n",
       "      <td>0.000000</td>\n",
       "      <td>0.0</td>\n",
       "      <td>0.000000</td>\n",
       "      <td>0.000000</td>\n",
       "    </tr>\n",
       "    <tr>\n",
       "      <th>1.0</th>\n",
       "      <td>-0.001624</td>\n",
       "      <td>-0.029081</td>\n",
       "      <td>0.0</td>\n",
       "      <td>-0.057285</td>\n",
       "      <td>-0.075790</td>\n",
       "    </tr>\n",
       "    <tr>\n",
       "      <th>1.5</th>\n",
       "      <td>0.057889</td>\n",
       "      <td>0.005317</td>\n",
       "      <td>0.0</td>\n",
       "      <td>-0.060343</td>\n",
       "      <td>-0.156534</td>\n",
       "    </tr>\n",
       "  </tbody>\n",
       "</table>\n",
       "</div>"
      ],
      "text/plain": [
       "no. parameters        2         4    6         8         10\n",
       "noisestd                                                   \n",
       "0.2            -0.099295 -0.080769  0.0 -0.026324  0.012206\n",
       "0.5            -0.080979 -0.073942  0.0 -0.037042 -0.013274\n",
       "0.8             0.000000  0.000000  0.0  0.000000  0.000000\n",
       "1.0            -0.001624 -0.029081  0.0 -0.057285 -0.075790\n",
       "1.5             0.057889  0.005317  0.0 -0.060343 -0.156534"
      ]
     },
     "execution_count": 60,
     "metadata": {},
     "output_type": "execute_result"
    }
   ],
   "source": [
    "gammaDF"
   ]
  }
 ],
 "metadata": {
  "kernelspec": {
   "display_name": "Python 3",
   "language": "python",
   "name": "python3"
  },
  "language_info": {
   "codemirror_mode": {
    "name": "ipython",
    "version": 3
   },
   "file_extension": ".py",
   "mimetype": "text/x-python",
   "name": "python",
   "nbconvert_exporter": "python",
   "pygments_lexer": "ipython3",
   "version": "3.6.9"
  },
  "toc-autonumbering": true
 },
 "nbformat": 4,
 "nbformat_minor": 4
}
