{
 "cells": [
  {
   "cell_type": "markdown",
   "metadata": {},
   "source": [
    "<span style=\"font-family:Papyrus; font-size:3em;\">Lab: Cross Validation</span>\n"
   ]
  },
  {
   "cell_type": "markdown",
   "metadata": {},
   "source": [
    "This lab develops codes and the workflow for doing cross validation of tellurium models. The running example is a simple Antimony model."
   ]
  },
  {
   "cell_type": "code",
   "execution_count": 1,
   "metadata": {},
   "outputs": [],
   "source": [
    "IS_COLAB = False\n",
    "#\n",
    "if IS_COLAB:\n",
    "    !pip install matplotlib\n",
    "    !pip install numpy\n",
    "    !pip install tellurium\n",
    "    !pip install SBstoat\n",
    "    !pip install lmfit\n",
    "    !pip install seaborn\n",
    "#    \n",
    "# Constants for standalone notebook\n",
    "if not IS_COLAB:\n",
    "    CODE_DIR = \"/home/ubuntu/advancing-biomedical-models/common\"\n",
    "    DATA_DIR = \"/home/ubuntu/advancing-biomedical-models/labs\"\n",
    "else:\n",
    "    from google.colab import drive\n",
    "    drive.mount('/content/drive')\n",
    "    CODE_DIR = \"/content/drive/MyDrive/Winter 2021/common\"\n",
    "    DATA_DIR = \"/content/drive/MyDrive/Winter 2021/labs\"\n",
    "import sys\n",
    "sys.path.insert(0, CODE_DIR)"
   ]
  },
  {
   "cell_type": "code",
   "execution_count": 2,
   "metadata": {},
   "outputs": [],
   "source": [
    "# Make the packages usable in this notebook\n",
    "import copy\n",
    "import numpy as np\n",
    "import pandas as pd\n",
    "import tellurium as te\n",
    "import matplotlib.pyplot as plt\n",
    "from SBstoat.observationSynthesizer import ObservationSynthesizerRandomErrors\n",
    "from SBstoat.namedTimeseries import NamedTimeseries, TIME\n",
    "import lmfit\n",
    "import util_crossvalidation as ucv"
   ]
  },
  {
   "cell_type": "markdown",
   "metadata": {},
   "source": [
    "# Preliminaries"
   ]
  },
  {
   "cell_type": "markdown",
   "metadata": {},
   "source": [
    "## Model"
   ]
  },
  {
   "cell_type": "code",
   "execution_count": 3,
   "metadata": {},
   "outputs": [],
   "source": [
    "MODEL = \"\"\"\n",
    "A -> B; k1*A\n",
    "B -> C; k2*B\n",
    "C -> D; k3*C\n",
    "\n",
    "A = 10\n",
    "B = 0\n",
    "C = 0\n",
    "D = 0\n",
    "k1 = 0.1\n",
    "k2 = 0.2\n",
    "k3 = 0.3\n",
    "\"\"\""
   ]
  },
  {
   "cell_type": "markdown",
   "metadata": {},
   "source": [
    "## Constants"
   ]
  },
  {
   "cell_type": "code",
   "execution_count": 4,
   "metadata": {},
   "outputs": [],
   "source": [
    "NOISE_STD = 1.0\n",
    "END_TIME = 20\n",
    "NUM_POINT = 100\n",
    "LOWER = 0.01\n",
    "UPPER = 1\n",
    "# Model data\n",
    "PARAMETER_DCT = {\n",
    "    \"k1\": 0.1,\n",
    "    \"k2\": 0.2,\n",
    "    \"k3\": 0.3,\n",
    "}\n",
    "PARAMETER_NAMES = list(PARAMETER_DCT.keys())\n",
    "ROAD_RUNNER = te.loada(MODEL)\n",
    "dataArr = ROAD_RUNNER.simulate(0, END_TIME, NUM_POINT)\n",
    "FITTED_TS = NamedTimeseries(namedArray=dataArr)\n"
   ]
  },
  {
   "cell_type": "markdown",
   "metadata": {},
   "source": [
    "## Helper Functions"
   ]
  },
  {
   "cell_type": "code",
   "execution_count": 5,
   "metadata": {},
   "outputs": [],
   "source": [
    "# Generator that constructs indices for training and test data\n",
    "# for alternating between folds.\n",
    "def foldGenerator(numPoint, numFold):\n",
    "    \"\"\"\n",
    "    Generates pairs of trainining and test indices.\n",
    "    \n",
    "    Parameters:\n",
    "    ----------\n",
    "    numPoint: int\n",
    "        number of time points\n",
    "    numFold: int\n",
    "        number of pairs of testIndices and trainIndices\n",
    "    \n",
    "    Returns:\n",
    "    --------\n",
    "    list of pairs of train indices, test indices\n",
    "    \"\"\"\n",
    "    indices = range(numPoint)\n",
    "    for remainder in range(numFold):\n",
    "        testIndices = []\n",
    "        for idx in indices:\n",
    "            if idx % numFold == remainder:\n",
    "                testIndices.append(idx)\n",
    "        trainIndices = list(set(indices).difference(testIndices))\n",
    "        yield trainIndices, testIndices\n",
    "        \n",
    "# Tests\n",
    "numFold = 10\n",
    "numPoint = 100\n",
    "generator = foldGenerator(numPoint, numFold)\n",
    "result = [(trainArr, testArr) for trainArr, testArr in generator]\n",
    "assert(len(result) == numFold)\n",
    "assert(isinstance(n, int) for n in result[0][0])"
   ]
  },
  {
   "cell_type": "code",
   "execution_count": 6,
   "metadata": {},
   "outputs": [
    {
     "data": {
      "text/plain": [
       "<Figure size 432x288 with 0 Axes>"
      ]
     },
     "metadata": {},
     "output_type": "display_data"
    }
   ],
   "source": [
    "def plotTS(timeseries, ax=None, linetype=\"scatter\", title=\"\", isPlot=True):\n",
    "    \"\"\"\n",
    "    Plots the variables in a timeseries.\n",
    "    \n",
    "    Parameters\n",
    "    ----------\n",
    "    timeseries: NamedTimeseries\n",
    "    ax: Matplotlib.axes\n",
    "    linetype: str\n",
    "    title: str\n",
    "    isPlot: bool\n",
    "        Show the plot\n",
    "    \"\"\"\n",
    "    if ax is None:\n",
    "        fig, ax = plt.subplots(1)\n",
    "    else:\n",
    "        fig = None\n",
    "    legend = []\n",
    "    for col in timeseries.colnames:\n",
    "        legend.append(col)\n",
    "        if linetype == \"scatter\":\n",
    "            _ = ax.scatter(timeseries[TIME], timeseries[col])\n",
    "        else:\n",
    "           _ = ax.plot(timeseries[TIME], timeseries[col])\n",
    "    _ = ax.set_xlabel(\"time\")\n",
    "    _ = ax.set_title(title)\n",
    "    _ = plt.legend(legend)\n",
    "    if not isPlot:\n",
    "        if fig is not None:\n",
    "            fig.clear()\n",
    "    return ax\n",
    "\n",
    "# Smoke Test\n",
    "_ = plotTS(FITTED_TS, linetype=\"line\", title=\"Fitted Data\", isPlot=False)"
   ]
  },
  {
   "cell_type": "markdown",
   "metadata": {},
   "source": [
    "## Construct Synthetic Data"
   ]
  },
  {
   "cell_type": "code",
   "execution_count": 7,
   "metadata": {},
   "outputs": [],
   "source": [
    "def makeSyntheticData(fittedTS=FITTED_TS, std=NOISE_STD):\n",
    "    synthesizer = ObservationSynthesizerRandomErrors(fittedTS=fittedTS, std=std)\n",
    "    return synthesizer.calculate()\n",
    "\n",
    "# Tests\n",
    "observedTS = makeSyntheticData(fittedTS=FITTED_TS)\n",
    "assert(len(observedTS) == len(FITTED_TS))"
   ]
  },
  {
   "cell_type": "code",
   "execution_count": 8,
   "metadata": {},
   "outputs": [
    {
     "data": {
      "image/png": "[encoded data removed]",
      "text/plain": [
       "<Figure size 432x288 with 1 Axes>"
      ]
     },
     "metadata": {
      "needs_background": "light"
     },
     "output_type": "display_data"
    }
   ],
   "source": [
    "# Plot the data\n",
    "OBSERVED_TS = makeSyntheticData()\n",
    "ax = plotTS(FITTED_TS, linetype=\"line\")\n",
    "_ = plotTS(OBSERVED_TS, ax=ax)"
   ]
  },
  {
   "cell_type": "markdown",
   "metadata": {},
   "source": [
    "# Writing a Fitter as a Class"
   ]
  },
  {
   "cell_type": "markdown",
   "metadata": {},
   "source": [
    "It is common that you need to adapt your analysis codes to new requirements.\n",
    "Cross validation imposes on fitting the ability to handle observational data that may not have all of the timepoints present in the\n",
    "fitted data (simulation results).\n",
    "Writing codes that are easy to adapt is an essential part of computational science.\n",
    "It turns out that object oriented programming (**OOP**) greatly facilitates writing readable, testable, and extensible software.\n",
    "This section provides a brief introdution to OOP and shows how to implement a fitter in OOP."
   ]
  },
  {
   "cell_type": "markdown",
   "metadata": {},
   "source": [
    "## Object Oriented Programming (OOP) in Brief"
   ]
  },
  {
   "cell_type": "markdown",
   "metadata": {},
   "source": [
    "OOP is probably the most widely used approach to software design and implementation in the software industry.\n",
    "It extends 3GL (third generation languages, those that have conditionals, for-loops, and functions) to consider\n",
    "a new concept called a ``class``.\n",
    "\n",
    "A ``class`` is an abstraction of a thing or entity, like a car.\n",
    "An entity has **attributes** that describe it.\n",
    "For example a car has a color, a number of doors, and an engine size.\n",
    "Each of these as a  value associated with it, such as:\n",
    "* color: red\n",
    "* number of doors: 4\n",
    "* engine size: 1.2\n",
    "An entity also has **methods** which are operations that it can perform. For example,\n",
    "a car can start, stop, and accelerate.\n",
    "\n",
    "OOP strutures codes in terms of objects that are instances of classes.\n",
    "The class is a template.\n",
    "That is, a class specifies all of the attributes and methods, but not all of the attributes have values.\n",
    "For example, a car class has attributes for color, number of doors, and engine capacity, but there are no values.\n",
    "However, an instance of a car, might be red, with four doors, and a 1.2 L engine.\n",
    "\n",
    "A very powerful capability of OOP is **inheritance**.\n",
    "That is, we define a new class that has all of the attributes and methods of its parent and adds other attributes and methods.\n",
    "For example, there may be a base car class that specifies color and engine size, and then separate child classes\n",
    "for 2 doors and 4 doors.\n",
    "Inheritance allows us to isolate common codes and so promotes reuse."
   ]
  },
  {
   "cell_type": "markdown",
   "metadata": {},
   "source": [
    "## OOP In Python"
   ]
  },
  {
   "cell_type": "markdown",
   "metadata": {},
   "source": [
    "The python ``class`` keyword defines a new class.\n",
    "For example\n",
    "\n",
    "    class Car():\n",
    "        pass\n",
    "\n",
    "The definition of the class is the block of code that lies below the ``class`` statement\n",
    "and is indented.\n",
    "In this case, it is just ``pass``.\n",
    "An object the class is created by using the class as a function or **constructor**.\n",
    "\n",
    "    car = Car()\n",
    "      \n",
    "A class may have variables for each instance created.\n",
    "These are specified as arguments of the constructor.\n",
    "For example:\n",
    "\n",
    "    car = Car(color, doors, engineSize)\n",
    "    \n",
    "If there are such arguments, then there must be a special function named ``__init__`` that takes these arguments.\n",
    "That is, the class definition should look like:\n",
    "\n",
    "    class Car():\n",
    "    \n",
    "        def __init__(self, color, doors, engineSize):\n",
    "            self.color = color\n",
    "            self.doors = doors\n",
    "            self.engineSize = engineSize\n",
    "            \n",
    "Here, the ``Car`` class has the constructor function ``__init__`` with four arguments.\n",
    "Three of the arguments appear when an object is constructed.\n",
    "The first argument, ``self``, is used to identify the object that is created, the new instance of the class.\n",
    "\n",
    "A class may have many methods (functions) that act on the object.\n",
    "For example,\n",
    "\n",
    "    class Car():\n",
    "    \n",
    "        def __init__(self, color, doors, engineSize):\n",
    "            self.color = color\n",
    "            self.doors = doors\n",
    "            self.engineSize = engineSize\n",
    "            \n",
    "        def stop(self):\n",
    "            print(\"The %s car has stopped!\" % self.color)\n",
    "            \n",
    "        def turn(self, direction):\n",
    "            print(\"The %s car has turned %s\" % (self.color, direction)\n",
    "            \n",
    "The instance variables contained within the object and so provide a convenient way to encapsulate functions\n",
    "that share data."
   ]
  },
  {
   "cell_type": "markdown",
   "metadata": {},
   "source": [
    "Below is another example of a class."
   ]
  },
  {
   "cell_type": "code",
   "execution_count": 9,
   "metadata": {},
   "outputs": [],
   "source": [
    "# A simple class\n",
    "class Simple():\n",
    "    def __init__(self, a, b):\n",
    "        \"\"\"\n",
    "        a and b are used when constructing an instance of the class.\n",
    "        \"\"\"\n",
    "        self.a = a\n",
    "        self.b = b\n",
    "        self.result = None  # placeholder\n",
    "    def add(self):\n",
    "        \"\"\"\n",
    "        calculaes the sum of a and b\n",
    "        \"\"\"\n",
    "        self.result = self.a + self. b\n",
    "        return self.result"
   ]
  },
  {
   "cell_type": "code",
   "execution_count": 10,
   "metadata": {},
   "outputs": [
    {
     "name": "stdout",
     "output_type": "stream",
     "text": [
      "7\n"
     ]
    }
   ],
   "source": [
    "# Using a class\n",
    "simple = Simple(3, 4)  # This calls the __init__ method, with a=3 and b=4\n",
    "print(simple.add())"
   ]
  },
  {
   "cell_type": "code",
   "execution_count": 11,
   "metadata": {},
   "outputs": [
    {
     "name": "stdout",
     "output_type": "stream",
     "text": [
      "7\n"
     ]
    }
   ],
   "source": [
    "# You can also retrieve the result from the properties of the object\n",
    "print(simple.result)"
   ]
  },
  {
   "cell_type": "markdown",
   "metadata": {},
   "source": [
    "## Writing and Testing a Fitter Class"
   ]
  },
  {
   "cell_type": "code",
   "execution_count": 12,
   "metadata": {},
   "outputs": [],
   "source": [
    "class SimpleFitter(object):\n",
    "\n",
    "    def __init__(self, model, observedTS, parameterNames,\n",
    "                lower=LOWER, upper=UPPER, method=\"leastsq\"):\n",
    "        \"\"\"\n",
    "        model: str (Antimony Model)\n",
    "        observedTS: NamedTimeseries\n",
    "        paramterNames: list-str\n",
    "        lower: float\n",
    "            lower range for parameter value\n",
    "        upper: float\n",
    "            upper range for parameter value\n",
    "        method: str\n",
    "            optimizer method\n",
    "        \"\"\"\n",
    "        self.rr = te.loada(model)\n",
    "        self.observedTS = observedTS.copy()\n",
    "        self.columns = list(self.observedTS.colnames)\n",
    "        self.allColumns = self.observedTS.allColnames\n",
    "        self.parameterNames = parameterNames\n",
    "        self.colnames = self.observedTS.colnames\n",
    "        self.lower = lower\n",
    "        self.upper = upper\n",
    "        self.value = (lower + upper)/2\n",
    "        self.method = method\n",
    "        # Internal variables\n",
    "        self._fittedArr = None\n",
    "        self._residuals = None\n",
    "        # Results\n",
    "        self.params = None\n",
    "        self.fittedTS = self.observedTS.copy()\n",
    "        self.residualsTS = None\n",
    "        \n",
    "    def mkParams(self):\n",
    "        \"\"\"\n",
    "        Construct lmfit parameters for the parameters.\n",
    "        \"\"\"\n",
    "        parameters = lmfit.Parameters()\n",
    "        for parameterName in self.parameterNames:\n",
    "            parameters.add(parameterName,\n",
    "                          min=self.lower,\n",
    "                          max=self.upper,\n",
    "                          value=self.value)\n",
    "        return parameters\n",
    "        \n",
    "    def calcResiduals(self, params):\n",
    "        \"\"\"\n",
    "        Calculate residuals for the fit using the parameters.\n",
    "        Update self.fittedTS.\n",
    "        \"\"\"\n",
    "        self.rr.reset()  # Put back to time zero\n",
    "        # Update the simulation parameters\n",
    "        for name, value in params.valuesdict().items():\n",
    "            self.rr[name] = value\n",
    "        fittedArr = self.rr.simulate(0, self.observedTS.end,\n",
    "                                    len(self.observedTS))\n",
    "        self._fittedArr = fittedArr.copy()\n",
    "        fittedArr = fittedArr[:, 1:]  # Delete time column\n",
    "        observedArr = self.observedTS[self.colnames]\n",
    "        self._residualsArr = observedArr - fittedArr\n",
    "        residualsArr = self._residualsArr.flatten()\n",
    "        return residualsArr\n",
    "    \n",
    "    def fit(self, params=None):\n",
    "        if params is None:\n",
    "            newParams = self.mkParams()\n",
    "        else:\n",
    "            newParams = params.copy()\n",
    "        # Find the best parameters\n",
    "        minimizer = lmfit.Minimizer(self.calcResiduals, newParams)\n",
    "        minimizerResult = minimizer.minimize(method=self.method, max_nfev=100)\n",
    "        # Record the results\n",
    "        self.fittedTS = NamedTimeseries(array=self._fittedArr, colnames=self.allColumns)\n",
    "        self.params = minimizerResult.params.copy()\n",
    "        self.calcResiduals(self.params)  # Update the fitted and residuals\n",
    "        self.residualsTS = self.observedTS.copy()        \n",
    "        self.residualsTS[self.columns] = self._residualsArr\n",
    "        \n",
    "        \n",
    "# Tests\n",
    "fitter = SimpleFitter(MODEL, OBSERVED_TS, PARAMETER_NAMES)\n",
    "params = fitter.mkParams()\n",
    "k1ParameterValue = params.valuesdict()[PARAMETER_NAMES[0]]\n",
    "assert(np.isclose(k1ParameterValue, (LOWER+UPPER)/2))\n",
    "#\n",
    "dataArr = fitter.calcResiduals(params)\n",
    "assert(np.shape(dataArr) == (NUM_POINT*4,))\n",
    "#\n",
    "fitter.fit()\n",
    "fittedResultDct = fitter.params.valuesdict()\n",
    "for parameterName, parameterValue in fittedResultDct.items():\n",
    "    #print(parameterName, parameterValue)\n",
    "    assert(np.abs(parameterValue - PARAMETER_DCT[parameterName]) < 0.1)"
   ]
  },
  {
   "cell_type": "markdown",
   "metadata": {},
   "source": [
    "# Timestamp Alignment"
   ]
  },
  {
   "cell_type": "markdown",
   "metadata": {},
   "source": [
    "## Problem description"
   ]
  },
  {
   "cell_type": "markdown",
   "metadata": {},
   "source": [
    "Suppose that we have observational data that has only a subset of the timestamps of the simulation data.\n",
    "How do we change ``SimpleFitter`` to accommodate this?"
   ]
  },
  {
   "cell_type": "code",
   "execution_count": 13,
   "metadata": {},
   "outputs": [
    {
     "data": {
      "text/plain": [
       "                  A         B         C         D\n",
       "time                                             \n",
       "0.000000   9.872760 -0.215001  1.634535  1.004557\n",
       "0.202020  10.750029  0.766931  1.646099  0.714437\n",
       "0.404040  10.771436  1.146369 -0.215573  1.064443\n",
       "0.606061   9.777595  0.920397  1.030495  1.364161\n",
       "0.808081   9.668050 -0.138485 -0.927685  0.846502\n",
       "1.010101   8.877400  1.327549 -0.062849 -0.529210\n",
       "1.212121   8.658786  1.072099  1.447650 -0.733522\n",
       "1.414141   7.158384  2.690421  1.115975 -1.418194\n",
       "1.616162   7.013692  2.106511  0.320740  0.460535\n",
       "1.818182   7.989415  0.349254  1.597858  0.615703"
      ]
     },
     "execution_count": 13,
     "metadata": {},
     "output_type": "execute_result"
    }
   ],
   "source": [
    "\n",
    "observedSubTS = OBSERVED_TS[list(range(10))]\n",
    "observedSubTS"
   ]
  },
  {
   "cell_type": "code",
   "execution_count": 14,
   "metadata": {},
   "outputs": [
    {
     "data": {
      "text/plain": [
       "                   A         B         C         D\n",
       "time                                              \n",
       "0.000000   10.000000  0.000000  0.000000  0.000000\n",
       "0.202020    9.800007  0.195994  0.003920  0.000080\n",
       "0.404040    9.604013  0.380306  0.015060  0.000621\n",
       "0.606061    9.411939  0.553479  0.032548  0.002034\n",
       "0.808081    9.223707  0.716030  0.055585  0.004678\n",
       "...              ...       ...       ...       ...\n",
       "19.191919   1.467255  1.251970  1.068275  6.212500\n",
       "19.393939   1.437911  1.231151  1.054123  6.276815\n",
       "19.595960   1.409154  1.210581  1.039992  6.340273\n",
       "19.797980   1.380971  1.190262  1.025891  6.402876\n",
       "20.000000   1.353353  1.170195  1.011827  6.464625\n",
       "\n",
       "[100 rows x 4 columns]"
      ]
     },
     "execution_count": 14,
     "metadata": {},
     "output_type": "execute_result"
    }
   ],
   "source": [
    "FITTED_TS"
   ]
  },
  {
   "cell_type": "markdown",
   "metadata": {},
   "source": [
    "We want to select the indices in ``FITTED_TS`` that have times corresonding to those in obseredSubTS."
   ]
  },
  {
   "cell_type": "code",
   "execution_count": 15,
   "metadata": {},
   "outputs": [
    {
     "data": {
      "text/plain": [
       "array([0.        , 0.2020202 , 0.4040404 , 0.60606061, 0.80808081,\n",
       "       1.01010101, 1.21212121, 1.41414141, 1.61616162, 1.81818182])"
      ]
     },
     "execution_count": 15,
     "metadata": {},
     "output_type": "execute_result"
    }
   ],
   "source": [
    "observedSubTimes = observedSubTS[TIME]\n",
    "observedSubTimes"
   ]
  },
  {
   "cell_type": "code",
   "execution_count": 16,
   "metadata": {},
   "outputs": [
    {
     "data": {
      "text/plain": [
       "array([ 0.        ,  0.2020202 ,  0.4040404 ,  0.60606061,  0.80808081,\n",
       "        1.01010101,  1.21212121,  1.41414141,  1.61616162,  1.81818182,\n",
       "        2.02020202,  2.22222222,  2.42424242,  2.62626263,  2.82828283,\n",
       "        3.03030303,  3.23232323,  3.43434343,  3.63636364,  3.83838384,\n",
       "        4.04040404,  4.24242424,  4.44444444,  4.64646465,  4.84848485,\n",
       "        5.05050505,  5.25252525,  5.45454545,  5.65656566,  5.85858586,\n",
       "        6.06060606,  6.26262626,  6.46464646,  6.66666667,  6.86868687,\n",
       "        7.07070707,  7.27272727,  7.47474747,  7.67676768,  7.87878788,\n",
       "        8.08080808,  8.28282828,  8.48484848,  8.68686869,  8.88888889,\n",
       "        9.09090909,  9.29292929,  9.49494949,  9.6969697 ,  9.8989899 ,\n",
       "       10.1010101 , 10.3030303 , 10.50505051, 10.70707071, 10.90909091,\n",
       "       11.11111111, 11.31313131, 11.51515152, 11.71717172, 11.91919192,\n",
       "       12.12121212, 12.32323232, 12.52525253, 12.72727273, 12.92929293,\n",
       "       13.13131313, 13.33333333, 13.53535354, 13.73737374, 13.93939394,\n",
       "       14.14141414, 14.34343434, 14.54545455, 14.74747475, 14.94949495,\n",
       "       15.15151515, 15.35353535, 15.55555556, 15.75757576, 15.95959596,\n",
       "       16.16161616, 16.36363636, 16.56565657, 16.76767677, 16.96969697,\n",
       "       17.17171717, 17.37373737, 17.57575758, 17.77777778, 17.97979798,\n",
       "       18.18181818, 18.38383838, 18.58585859, 18.78787879, 18.98989899,\n",
       "       19.19191919, 19.39393939, 19.5959596 , 19.7979798 , 20.        ])"
      ]
     },
     "execution_count": 16,
     "metadata": {},
     "output_type": "execute_result"
    }
   ],
   "source": [
    "fittedTSTimes = FITTED_TS[TIME]\n",
    "fittedTSTimes"
   ]
  },
  {
   "cell_type": "code",
   "execution_count": 17,
   "metadata": {},
   "outputs": [
    {
     "data": {
      "text/plain": [
       "array([6.52994592e-01, 3.67309458e-01, 1.63248648e-01, 4.08121620e-02,\n",
       "       0.00000000e+00, 4.08121620e-02, 1.63248648e-01, 3.67309458e-01,\n",
       "       6.52994592e-01, 1.02030405e+00, 1.46923783e+00, 1.99979594e+00,\n",
       "       2.61197837e+00, 3.30578512e+00, 4.08121620e+00, 4.93827160e+00,\n",
       "       5.87695133e+00, 6.89725538e+00, 7.99918376e+00, 9.18273646e+00,\n",
       "       1.04479135e+01, 1.17947148e+01, 1.32231405e+01, 1.47331905e+01,\n",
       "       1.63248648e+01, 1.79981635e+01, 1.97530864e+01, 2.15896337e+01,\n",
       "       2.35078053e+01, 2.55076013e+01, 2.75890215e+01, 2.97520661e+01,\n",
       "       3.19967350e+01, 3.43230283e+01, 3.67309458e+01, 3.92204877e+01,\n",
       "       4.17916539e+01, 4.44444444e+01, 4.71788593e+01, 4.99948985e+01,\n",
       "       5.28925620e+01, 5.58718498e+01, 5.89327620e+01, 6.20752984e+01,\n",
       "       6.52994592e+01, 6.86052444e+01, 7.19926538e+01, 7.54616876e+01,\n",
       "       7.90123457e+01, 8.26446281e+01, 8.63585348e+01, 9.01540659e+01,\n",
       "       9.40312213e+01, 9.79900010e+01, 1.02030405e+02, 1.06152433e+02,\n",
       "       1.10356086e+02, 1.14641363e+02, 1.19008264e+02, 1.23456790e+02,\n",
       "       1.27986940e+02, 1.32598714e+02, 1.37292113e+02, 1.42067136e+02,\n",
       "       1.46923783e+02, 1.51862055e+02, 1.56881951e+02, 1.61983471e+02,\n",
       "       1.67166616e+02, 1.72431385e+02, 1.77777778e+02, 1.83205795e+02,\n",
       "       1.88715437e+02, 1.94306703e+02, 1.99979594e+02, 2.05734109e+02,\n",
       "       2.11570248e+02, 2.17488011e+02, 2.23487399e+02, 2.29568411e+02,\n",
       "       2.35731048e+02, 2.41975309e+02, 2.48301194e+02, 2.54708703e+02,\n",
       "       2.61197837e+02, 2.67768595e+02, 2.74420977e+02, 2.81154984e+02,\n",
       "       2.87970615e+02, 2.94867871e+02, 3.01846750e+02, 3.08907254e+02,\n",
       "       3.16049383e+02, 3.23273135e+02, 3.30578512e+02, 3.37965514e+02,\n",
       "       3.45434139e+02, 3.52984389e+02, 3.60616264e+02, 3.68329762e+02])"
      ]
     },
     "execution_count": 17,
     "metadata": {},
     "output_type": "execute_result"
    }
   ],
   "source": [
    "# Here's a hint to get started. Suppose we want to find the time value in fittedTSTimes that's closest to the 4th\n",
    "# value in observedSubTime. This is a kind of distance measure.\n",
    "(observedSubTimes[4] - fittedTSTimes)**2"
   ]
  },
  {
   "cell_type": "markdown",
   "metadata": {},
   "source": [
    "## An Approach"
   ]
  },
  {
   "cell_type": "markdown",
   "metadata": {},
   "source": [
    "That is, we want to find the index for the array element that is 0.\n",
    "We can do this by sorting the indices of fittedTSTimes by their distance from designated time in observedSubTimes."
   ]
  },
  {
   "cell_type": "code",
   "execution_count": 18,
   "metadata": {},
   "outputs": [
    {
     "data": {
      "text/plain": [
       "[4,\n",
       " 3,\n",
       " 5,\n",
       " 2,\n",
       " 6,\n",
       " 1,\n",
       " 7,\n",
       " 0,\n",
       " 8,\n",
       " 9,\n",
       " 10,\n",
       " 11,\n",
       " 12,\n",
       " 13,\n",
       " 14,\n",
       " 15,\n",
       " 16,\n",
       " 17,\n",
       " 18,\n",
       " 19,\n",
       " 20,\n",
       " 21,\n",
       " 22,\n",
       " 23,\n",
       " 24,\n",
       " 25,\n",
       " 26,\n",
       " 27,\n",
       " 28,\n",
       " 29,\n",
       " 30,\n",
       " 31,\n",
       " 32,\n",
       " 33,\n",
       " 34,\n",
       " 35,\n",
       " 36,\n",
       " 37,\n",
       " 38,\n",
       " 39,\n",
       " 40,\n",
       " 41,\n",
       " 42,\n",
       " 43,\n",
       " 44,\n",
       " 45,\n",
       " 46,\n",
       " 47,\n",
       " 48,\n",
       " 49,\n",
       " 50,\n",
       " 51,\n",
       " 52,\n",
       " 53,\n",
       " 54,\n",
       " 55,\n",
       " 56,\n",
       " 57,\n",
       " 58,\n",
       " 59,\n",
       " 60,\n",
       " 61,\n",
       " 62,\n",
       " 63,\n",
       " 64,\n",
       " 65,\n",
       " 66,\n",
       " 67,\n",
       " 68,\n",
       " 69,\n",
       " 70,\n",
       " 71,\n",
       " 72,\n",
       " 73,\n",
       " 74,\n",
       " 75,\n",
       " 76,\n",
       " 77,\n",
       " 78,\n",
       " 79,\n",
       " 80,\n",
       " 81,\n",
       " 82,\n",
       " 83,\n",
       " 84,\n",
       " 85,\n",
       " 86,\n",
       " 87,\n",
       " 88,\n",
       " 89,\n",
       " 90,\n",
       " 91,\n",
       " 92,\n",
       " 93,\n",
       " 94,\n",
       " 95,\n",
       " 96,\n",
       " 97,\n",
       " 98,\n",
       " 99]"
      ]
     },
     "execution_count": 18,
     "metadata": {},
     "output_type": "execute_result"
    }
   ],
   "source": [
    "values = (observedSubTimes[4] - fittedTSTimes)**2\n",
    "def finder(index):\n",
    "    return values[index]\n",
    "sorted(range(len(values)), key=finder)"
   ]
  },
  {
   "cell_type": "code",
   "execution_count": 19,
   "metadata": {},
   "outputs": [],
   "source": [
    "def selectCompatibleIndices(bigTimes, smallTimes):\n",
    "    \"\"\"\n",
    "    Finds the indices such that smallTimes[n] is close to bigTimes[indices[n]]\n",
    "    \n",
    "    Parameters\n",
    "    ----------\n",
    "    bigTimes: np.ndarray\n",
    "    smalltimes: np.ndarray\n",
    "    \n",
    "    Returns\n",
    "    np.ndarray\n",
    "    \"\"\"\n",
    "    indices = []\n",
    "    for idx in range(len(smallTimes)):\n",
    "        distances = (bigTimes - smallTimes[idx])**2\n",
    "        def getValue(k):\n",
    "            return distances[k]\n",
    "        thisIndices = sorted(range(len(distances)), key=getValue)\n",
    "        indices.append(thisIndices[0])\n",
    "    return np.array(indices)\n",
    "\n",
    "# Tests\n",
    "indices = selectCompatibleIndices(FITTED_TS[TIME], observedSubTS[TIME])\n",
    "assert(len(indices) == len(observedSubTS))\n",
    "for i, index in enumerate(indices):\n",
    "    assert(index == i)"
   ]
  },
  {
   "cell_type": "markdown",
   "metadata": {},
   "source": [
    "## Revise the residuals calculation"
   ]
  },
  {
   "cell_type": "markdown",
   "metadata": {},
   "source": [
    "The only method impacted is ``calcResiduals``.\n",
    "Let's figure this out incrementally.\n",
    "Start by doing the residuals calculation using ``observedSubTS`` and ``fittedArr``."
   ]
  },
  {
   "cell_type": "code",
   "execution_count": 20,
   "metadata": {},
   "outputs": [],
   "source": [
    "colnames = FITTED_TS.colnames\n",
    "fittedArr = FITTED_TS[FITTED_TS.allColnames]\n",
    "observedTS = observedSubTS.copy()\n",
    "# Fragment of the residual calculation\n",
    "#fittedArr = fittedArr[:, 1:]\n",
    "indices = selectCompatibleIndices(FITTED_TS[TIME], observedTS[TIME])\n",
    "observedArr = observedTS[colnames]\n",
    "fittedSubArr = fittedArr[indices, 1:]\n",
    "residualsArr = observedArr - fittedSubArr\n",
    "residualsArr = residualsArr.flatten()"
   ]
  },
  {
   "cell_type": "markdown",
   "metadata": {},
   "source": [
    "# Fitting With Timestamp Alignment"
   ]
  },
  {
   "cell_type": "markdown",
   "metadata": {},
   "source": [
    "There's no assurance that the observational data have the same timestamps as the simulation data.\n",
    "Solving this problem in general requires some sophistication.\n",
    "For now, we will assume that the observational data contains a subset of the timestamps."
   ]
  },
  {
   "cell_type": "code",
   "execution_count": 21,
   "metadata": {},
   "outputs": [],
   "source": [
    "# Modified calcResduals\n",
    "class AligningFitter(SimpleFitter):\n",
    "    \"\"\"Does fitting with aligning fitted values to timestamps of observed values.\"\"\"\n",
    "    \n",
    "    def __init__(self, model, observedTS, parameterNames, endTime=None, numPoint=None, **kwargs):\n",
    "        \"\"\"\n",
    "        model: str (Antimony Model)\n",
    "        observedTS: NamedTimeseries\n",
    "        paramterNames: list-str\n",
    "        endTime: float\n",
    "            ending time for the simulation\n",
    "        numPoint: int\n",
    "            number of points in the simulation\n",
    "        \"\"\"\n",
    "        super().__init__(model, observedTS, parameterNames, **kwargs)\n",
    "        self.endTime = endTime\n",
    "        if self.endTime is None:\n",
    "            self.endTIme = observedTS.end\n",
    "        self.numPoint = numPoint\n",
    "        if self.numPoint is None:\n",
    "            self.numPoint = len(observedTS)\n",
    "    \n",
    "    @staticmethod\n",
    "    def selectCompatibleIndices(bigTimes, smallTimes):\n",
    "        \"\"\"\n",
    "        Finds the indices such that smallTimes[n] is close to bigTimes[indices[n]]\n",
    "\n",
    "        Parameters\n",
    "        ----------\n",
    "        bigTimes: np.ndarray\n",
    "        smalltimes: np.ndarray\n",
    "\n",
    "        Returns\n",
    "        np.ndarray\n",
    "        \"\"\"\n",
    "        indices = []\n",
    "        for idx in range(len(smallTimes)):\n",
    "            distances = (bigTimes - smallTimes[idx])**2\n",
    "            def getValue(k):\n",
    "                return distances[k]\n",
    "            thisIndices = sorted(range(len(distances)), key=getValue)\n",
    "            index = thisIndices[0]\n",
    "            if isinstance(index, np.generic):\n",
    "                index = np.asscalar(index)\n",
    "            indices.append(index)\n",
    "        return indices\n",
    "        \n",
    "    def calcResiduals(self, params):\n",
    "        self.rr.reset()  # Put back to time zero\n",
    "        # Update the simulation parameters\n",
    "        for name, value in params.valuesdict().items():\n",
    "            self.rr[name] = value\n",
    "        fittedArr = self.rr.simulate(0, self.endTime, self.numPoint)\n",
    "        self._fittedArr = fittedArr.copy()\n",
    "        indices = AligningFitter.selectCompatibleIndices(fittedArr[:, 0], self.observedTS[TIME])\n",
    "        fittedArr = fittedArr[indices, 1:]  # Delete time column\n",
    "        observedArr = self.observedTS[self.colnames]\n",
    "        self._residualsArr = observedArr - fittedArr\n",
    "        residualsArr = self._residualsArr.flatten()\n",
    "        return residualsArr\n",
    "    \n",
    "# Tests\n",
    "#  selectCompatibleIndices\n",
    "size = 10\n",
    "randomIndices = np.random.randint(0, len(OBSERVED_TS), size)\n",
    "indices = AligningFitter.selectCompatibleIndices(OBSERVED_TS[TIME], OBSERVED_TS[TIME][randomIndices])\n",
    "diff = set(indices).symmetric_difference(randomIndices)\n",
    "assert(len(diff) == 0)\n",
    "#                                                                                    #\n",
    "size = 100\n",
    "observedTS = OBSERVED_TS[list(range(size))]\n",
    "fitter = AligningFitter(MODEL, observedTS, PARAMETER_NAMES, endTime=OBSERVED_TS.end)\n",
    "fitter.fit()\n",
    "assert(len(fitter.observedTS) == size)\n",
    "assert(len(fitter.params.valuesdict()) == 3)"
   ]
  },
  {
   "cell_type": "code",
   "execution_count": 22,
   "metadata": {},
   "outputs": [
    {
     "data": {
      "text/html": [
       "<table><tr><th> name </th><th> value </th><th> standard error </th><th> relative error </th><th> initial value </th><th> min </th><th> max </th><th> vary </th></tr><tr><td> k1 </td><td>  0.09548308 </td><td>  0.00263485 </td><td> (2.76%) </td><td> 0.505 </td><td>  0.01000000 </td><td>  1.00000000 </td><td> True </td></tr><tr><td> k2 </td><td>  0.20196625 </td><td>  0.01078484 </td><td> (5.34%) </td><td> 0.505 </td><td>  0.01000000 </td><td>  1.00000000 </td><td> True </td></tr><tr><td> k3 </td><td>  0.32381177 </td><td>  0.02751034 </td><td> (8.50%) </td><td> 0.505 </td><td>  0.01000000 </td><td>  1.00000000 </td><td> True </td></tr></table>"
      ],
      "text/plain": [
       "Parameters([('k1',\n",
       "             <Parameter 'k1', value=0.09548307777226113 +/- 0.00263, bounds=[0.01:1]>),\n",
       "            ('k2',\n",
       "             <Parameter 'k2', value=0.2019662546303687 +/- 0.0108, bounds=[0.01:1]>),\n",
       "            ('k3',\n",
       "             <Parameter 'k3', value=0.3238117714345792 +/- 0.0275, bounds=[0.01:1]>)])"
      ]
     },
     "execution_count": 22,
     "metadata": {},
     "output_type": "execute_result"
    }
   ],
   "source": [
    "fitter.params"
   ]
  },
  {
   "cell_type": "code",
   "execution_count": 23,
   "metadata": {},
   "outputs": [],
   "source": [
    "def analyzeQuality(numSample):\n",
    "    \"\"\"\n",
    "    Analyzes the quality of a fit for the number of points in an observed timeseries.\n",
    "    \n",
    "    Parameters\n",
    "    ----------\n",
    "    numSample: int\n",
    "    \n",
    "    Returns\n",
    "    -------\n",
    "    float: sum of squared differences from true parameter values\n",
    "    pd.DataFrame: values of true and estimated parameters\n",
    "    \"\"\"\n",
    "    TRUE = \"true\"\n",
    "    ESTIMATED = \"estimated\"\n",
    "    if len(OBSERVED_TS) < numSample:\n",
    "        raise ValueError(\"numSample cannot exceed %d\" % len(OBSERVED_TS))\n",
    "    # Select a random sample of the observational data\n",
    "    numPoint = len(OBSERVED_TS)\n",
    "    randomIndices = np.random.permutation(list(range(numPoint)))\n",
    "    randomIndices = randomIndices[:numSample]\n",
    "    observedSubTS = OBSERVED_TS[randomIndices.tolist()]\n",
    "    # Fit the data\n",
    "    fitter = AligningFitter(MODEL, observedSubTS, PARAMETER_NAMES,\n",
    "                           numPoint=numPoint, endTime=OBSERVED_TS.end)\n",
    "    fitter.fit()\n",
    "    # Evaluate the fit quality\n",
    "    dct = {TRUE: PARAMETER_DCT.values(), ESTIMATED: fitter.params.valuesdict().values()}\n",
    "    df = pd.DataFrame(dct)\n",
    "    df.index = PARAMETER_DCT.keys()\n",
    "    trueValues = np.array(df[TRUE])\n",
    "    estimatedValues = np.array(df[ESTIMATED])\n",
    "    rsq = 1 - np.var(trueValues-estimatedValues)/np.var(trueValues)\n",
    "    rsq = max(0, rsq)\n",
    "    return rsq, df\n",
    "\n",
    "# Tests\n",
    "rsq, df = analyzeQuality(100)\n",
    "assert(rsq > 0.95)\n",
    "assert(len(df) == len(PARAMETER_DCT))"
   ]
  },
  {
   "cell_type": "code",
   "execution_count": 46,
   "metadata": {},
   "outputs": [
    {
     "name": "stdout",
     "output_type": "stream",
     "text": [
      "SSQ Difference: 0.9714\n",
      "\n",
      "Values\n",
      "    true  estimated\n",
      "k1   0.1   0.088008\n",
      "k2   0.2   0.204534\n",
      "k3   0.3   0.321849\n"
     ]
    }
   ],
   "source": [
    "rsq, df = analyzeQuality(10)\n",
    "print(\"SSQ Difference: %2.4f\" % rsq)\n",
    "print(\"\\nValues\\n%s\" % str(df))"
   ]
  },
  {
   "cell_type": "markdown",
   "metadata": {},
   "source": [
    "# Cross Validation for Simulation Models"
   ]
  },
  {
   "cell_type": "markdown",
   "metadata": {},
   "source": [
    "## Pseudo Code"
   ]
  },
  {
   "cell_type": "markdown",
   "metadata": {},
   "source": [
    "1. Create training and test data for the folds\n",
    "1. For the training and test data\n",
    "   1. Fit to training data\n",
    "   1. predictedValues = Fitted values that correspond to test data\n",
    "   1. Calculate $R^2$ from test data and predictedValues\n",
    "1. Report the parameters and $R^2$ for each fold."
   ]
  },
  {
   "cell_type": "markdown",
   "metadata": {},
   "source": [
    "## Implementation"
   ]
  },
  {
   "cell_type": "code",
   "execution_count": 25,
   "metadata": {},
   "outputs": [],
   "source": [
    "class CrossValidator():\n",
    "    \"\"\"Performs cross validation using parameter fitting. Reports parameters by fold and R2.\"\"\"\n",
    "    \n",
    "    # Dataframe columns and dictionary keys\n",
    "    PREDICTED = \"predicted\"\n",
    "    TRUE = \"true\"\n",
    "    FOLD = \"fold\"\n",
    "    RSQ = \"rsq\"\n",
    "    PARAMETER = \"parameter\"\n",
    "    \n",
    "    def __init__(self, numFold, model, observedTS, parameterNames, trueParameterDct=None, **kwargs):\n",
    "        \"\"\"\n",
    "        numFold: int\n",
    "            number of folds\n",
    "        model: str (Antimony Model)\n",
    "        observedTS: NamedTimeseries\n",
    "        paramterNames: list-str\n",
    "        trueParameterDct: dict\n",
    "            key: parameter name, value: parameter value\n",
    "        kwargs: dict\n",
    "           optional arguments passed to fitter\n",
    "        \"\"\"\n",
    "        self.numFold = numFold\n",
    "        self.model = model\n",
    "        self.observedTS = observedTS.copy()\n",
    "        self.parameterNames = parameterNames\n",
    "        self.colnames = self.observedTS.colnames\n",
    "        self.kwargs = kwargs\n",
    "        self.trueParameterDct = trueParameterDct\n",
    "        self.parametersCol = []\n",
    "        self.rsqs = []\n",
    "\n",
    "    @staticmethod\n",
    "    def _calcRsq(observedTS, fittedTS):\n",
    "        columns = observedTS.colnames\n",
    "        residualsArr = observedTS[columns] - fittedTS[columns]\n",
    "        rsq = 1 - np.var(residualsArr)/np.var(observedTS[columns])\n",
    "        return rsq\n",
    "\n",
    "    def execute(self):\n",
    "        numPoint = len(self.observedTS)\n",
    "        generator = foldGenerator(numPoint, self.numFold)\n",
    "        for trainIndices, testIndices in generator:\n",
    "            fitter = AligningFitter(self.model, self.observedTS[trainIndices],\n",
    "                                  self.parameterNames, endTime=self.observedTS.end,\n",
    "                                  numPoint=numPoint, **self.kwargs)\n",
    "            fitter.fit()\n",
    "            self.parametersCol.append(fitter.params.copy())\n",
    "            rsq = self._calcRsq(self.observedTS[testIndices], fitter.fittedTS[testIndices])\n",
    "            self.rsqs.append(rsq)\n",
    "\n",
    "    def reportParameters(self):\n",
    "        \"\"\"\n",
    "        Constructs a report for the parameter values by fold.\n",
    "        \n",
    "        Returns\n",
    "        -------\n",
    "        pd.DataFrame\n",
    "        \"\"\"\n",
    "        if self.trueParameterDct is  None:\n",
    "            raise ValueError(\"Must construct CrossValidator with trueParameterDct\")\n",
    "        # Construct parameter information\n",
    "        keys = [CrossValidator.FOLD, CrossValidator.TRUE, CrossValidator.PREDICTED, CrossValidator.PARAMETER]\n",
    "        dct = {}\n",
    "        for key in keys:\n",
    "            dct[key] = []\n",
    "        for fold in range(len(self.parametersCol)):\n",
    "            for parameterName in self.parameterNames:\n",
    "                dct[CrossValidator.FOLD].append(fold)\n",
    "                dct[CrossValidator.PARAMETER].append(parameterName)\n",
    "                dct[CrossValidator.TRUE].append(self.trueParameterDct[parameterName])\n",
    "                dct[CrossValidator.PREDICTED].append(self.parametersCol[fold].valuesdict()[parameterName])\n",
    "        reportDF = pd.DataFrame(dct)\n",
    "        #\n",
    "        return reportDF\n",
    "    \n",
    "    def reportRsq(self):\n",
    "        return pd.DataFrame({CrossValidator.RSQ: self.rsqs})\n",
    "    \n",
    "# TESTS\n",
    "#  _calcRsq\n",
    "rsq = CrossValidator._calcRsq(OBSERVED_TS, OBSERVED_TS)\n",
    "assert(np.isclose(rsq, 1.0))\n",
    "#  execute\n",
    "numFold = 5\n",
    "validator = CrossValidator(numFold, MODEL, OBSERVED_TS, PARAMETER_NAMES,\n",
    "                           trueParameterDct=PARAMETER_DCT)\n",
    "validator.execute()\n",
    "assert(len(validator.rsqs) == numFold)\n",
    "assert(len(validator.parametersCol) == numFold)\n",
    "assert(isinstance(validator.parametersCol[0], lmfit.Parameters))\n",
    "#  reportParameters\n",
    "df = validator.reportParameters()\n",
    "for key in [CrossValidator.FOLD, CrossValidator.TRUE, CrossValidator.PREDICTED, CrossValidator.PARAMETER]:\n",
    "    assert(key in df.columns)\n",
    "assert(len(df) > 0)\n",
    "#  reportRsq\n",
    "df = validator.reportRsq()\n",
    "assert(CrossValidator.RSQ in df.columns)\n",
    "assert(len(df) > 0)"
   ]
  },
  {
   "cell_type": "markdown",
   "metadata": {},
   "source": [
    "# Analysis With Cross Validation"
   ]
  },
  {
   "cell_type": "code",
   "execution_count": 47,
   "metadata": {},
   "outputs": [
    {
     "name": "stdout",
     "output_type": "stream",
     "text": [
      "Num Fold: 5  Avg Rsq: 0.81\n",
      "Num Fold: 10  Avg Rsq: 0.80\n",
      "Num Fold: 50  Avg Rsq: 0.79\n",
      "Num Fold: 100  Avg Rsq: 0.65\n"
     ]
    }
   ],
   "source": [
    "for numFold in [5, 10, 50, 100]:\n",
    "    validator = CrossValidator(numFold, MODEL, OBSERVED_TS, PARAMETER_NAMES, trueParameterDct=PARAMETER_DCT)\n",
    "    validator.execute()\n",
    "    averageRsq  = np.mean(validator.rsqs)\n",
    "    print(\"Num Fold: %d  Avg Rsq: %2.2f\" % (numFold, averageRsq))"
   ]
  },
  {
   "cell_type": "markdown",
   "metadata": {},
   "source": [
    "**Questions**\n",
    "1. Why does average $R^2$ *decrease* with the number of folds?\n",
    "1. What happens if there is more variablility in the data? Less variability in the data?\n",
    "1. Write a new script that evaluates the combined effects of the number folds and the noise in the observed time series."
   ]
  },
  {
   "cell_type": "code",
   "execution_count": 27,
   "metadata": {},
   "outputs": [],
   "source": [
    "def analyzeNoiseFold(noiseStds, numFolds):\n",
    "    \"\"\"\n",
    "    Evaluates the impact on R2 of the number of noise std and the number of folds\n",
    "    \n",
    "    Parameters\n",
    "    ----------\n",
    "    noiseStds: list-float\n",
    "    numFolds: list-int\n",
    "    \n",
    "    Returns\n",
    "    -------\n",
    "    pd.DataFrame\n",
    "        columns: std, numfold, avgrsq\n",
    "    \"\"\"\n",
    "    STD = \"std\"\n",
    "    NUMFOLD = \"numfold\"\n",
    "    RSQ = \"avgrsq\"\n",
    "    COLUMNS = [STD, NUMFOLD, RSQ]\n",
    "    #\n",
    "    dct = {c: [] for c in COLUMNS}\n",
    "    #\n",
    "    for std in noiseStds:\n",
    "        observedTS = makeSyntheticData(std=std)\n",
    "        for numFold in numFolds:\n",
    "            validator = CrossValidator(numFold, MODEL, observedTS, PARAMETER_NAMES, trueParameterDct=PARAMETER_DCT)\n",
    "            validator.execute()\n",
    "            averageRsq  = np.mean(validator.rsqs)\n",
    "            dct[STD].append(std)\n",
    "            dct[NUMFOLD].append(numFold)\n",
    "            dct[RSQ].append(averageRsq)\n",
    "    return pd.DataFrame(dct)\n",
    "\n",
    "# Tests\n",
    "df = analyzeNoiseFold([0.5, 1.5], [5, 10, 100])\n",
    "assert(len(df) > 0)\n",
    "assert(sum(df[\"avgrsq\"]) > 0)"
   ]
  },
  {
   "cell_type": "code",
   "execution_count": 28,
   "metadata": {},
   "outputs": [
    {
     "data": {
      "text/html": [
       "<div>\n",
       "<style scoped>\n",
       "    .dataframe tbody tr th:only-of-type {\n",
       "        vertical-align: middle;\n",
       "    }\n",
       "\n",
       "    .dataframe tbody tr th {\n",
       "        vertical-align: top;\n",
       "    }\n",
       "\n",
       "    .dataframe thead th {\n",
       "        text-align: right;\n",
       "    }\n",
       "</style>\n",
       "<table border=\"1\" class=\"dataframe\">\n",
       "  <thead>\n",
       "    <tr style=\"text-align: right;\">\n",
       "      <th></th>\n",
       "      <th>std</th>\n",
       "      <th>numfold</th>\n",
       "      <th>avgrsq</th>\n",
       "    </tr>\n",
       "  </thead>\n",
       "  <tbody>\n",
       "    <tr>\n",
       "      <th>0</th>\n",
       "      <td>0.5</td>\n",
       "      <td>5</td>\n",
       "      <td>0.942120</td>\n",
       "    </tr>\n",
       "    <tr>\n",
       "      <th>1</th>\n",
       "      <td>0.5</td>\n",
       "      <td>10</td>\n",
       "      <td>0.942429</td>\n",
       "    </tr>\n",
       "    <tr>\n",
       "      <th>2</th>\n",
       "      <td>0.5</td>\n",
       "      <td>100</td>\n",
       "      <td>0.860393</td>\n",
       "    </tr>\n",
       "    <tr>\n",
       "      <th>3</th>\n",
       "      <td>1.5</td>\n",
       "      <td>5</td>\n",
       "      <td>0.654436</td>\n",
       "    </tr>\n",
       "    <tr>\n",
       "      <th>4</th>\n",
       "      <td>1.5</td>\n",
       "      <td>10</td>\n",
       "      <td>0.654534</td>\n",
       "    </tr>\n",
       "    <tr>\n",
       "      <th>5</th>\n",
       "      <td>1.5</td>\n",
       "      <td>100</td>\n",
       "      <td>0.430710</td>\n",
       "    </tr>\n",
       "  </tbody>\n",
       "</table>\n",
       "</div>"
      ],
      "text/plain": [
       "   std  numfold    avgrsq\n",
       "0  0.5        5  0.942120\n",
       "1  0.5       10  0.942429\n",
       "2  0.5      100  0.860393\n",
       "3  1.5        5  0.654436\n",
       "4  1.5       10  0.654534\n",
       "5  1.5      100  0.430710"
      ]
     },
     "execution_count": 28,
     "metadata": {},
     "output_type": "execute_result"
    }
   ],
   "source": [
    "df"
   ]
  }
 ],
 "metadata": {
  "kernelspec": {
   "display_name": "Python 3",
   "language": "python",
   "name": "python3"
  },
  "language_info": {
   "codemirror_mode": {
    "name": "ipython",
    "version": 3
   },
   "file_extension": ".py",
   "mimetype": "text/x-python",
   "name": "python",
   "nbconvert_exporter": "python",
   "pygments_lexer": "ipython3",
   "version": "3.6.9"
  },
  "toc-autonumbering": true
 },
 "nbformat": 4,
 "nbformat_minor": 4
}
