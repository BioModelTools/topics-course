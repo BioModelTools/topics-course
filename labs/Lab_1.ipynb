{
 "cells": [
  {
   "cell_type": "markdown",
   "metadata": {},
   "source": [
    "<span style=\"font-family:Papyrus; font-size:3em;\">Lab 1: Jupyter Notebooks and Python Basics</span>\n"
   ]
  },
  {
   "cell_type": "markdown",
   "metadata": {},
   "source": [
    "# Jupyter Notebooks\n",
    "\n",
    "Jupyter notebooks are a way to combine programming codes with text to develop and present a computational result.\n",
    "\n",
    "You can start a Jupyter notebook through Google Drive. ``New>More>Google Colaboratory``.\n",
    "You can also install Jupyter on your computer using ``pip install jupyterlab``. \n",
    "\n",
    "Using Jupyer notebooks:\n",
    "1. Interrupting\n",
    "1. Restarting"
   ]
  },
  {
   "cell_type": "markdown",
   "metadata": {},
   "source": [
    "# Packages\n",
    "Packages are extensions to the base capabilities of python.\n",
    "We will use several packages in this class.\n",
    "- ``numpy``: numerical data structures and algorithms\n",
    "- ``pandas``: tabular manipulation of data\n",
    "- ``tellurium``: simulation of reaction networks\n",
    "- ``matplotlib``: plotting\n",
    "- ``seaborn``: extended plotting\n",
    "\n",
    "The following shows how to install packages from within Jupyter. You can do this from the command line if you are installing on your computer. However, I *strongly* recommend that you use [python virtual enviornments](https://docs.python.org/3/library/venv.html) so that you avoid conflicts with your existing installed software."
   ]
  },
  {
   "cell_type": "code",
   "execution_count": 2,
   "metadata": {},
   "outputs": [
    {
     "name": "stdout",
     "output_type": "stream",
     "text": [
      "Requirement already satisfied: numpy in /home/ubuntu/advancing-biomedical-models/cls/lib/python3.6/site-packages (1.19.3)\n",
      "Requirement already satisfied: pandas in /home/ubuntu/advancing-biomedical-models/cls/lib/python3.6/site-packages (1.1.5)\n",
      "Requirement already satisfied: python-dateutil>=2.7.3 in /home/ubuntu/advancing-biomedical-models/cls/lib/python3.6/site-packages (from pandas) (2.8.1)\n",
      "Requirement already satisfied: pytz>=2017.2 in /home/ubuntu/advancing-biomedical-models/cls/lib/python3.6/site-packages (from pandas) (2020.5)\n",
      "Requirement already satisfied: numpy>=1.15.4 in /home/ubuntu/advancing-biomedical-models/cls/lib/python3.6/site-packages (from pandas) (1.19.3)\n",
      "Requirement already satisfied: six>=1.5 in /home/ubuntu/advancing-biomedical-models/cls/lib/python3.6/site-packages (from python-dateutil>=2.7.3->pandas) (1.13.0)\n",
      "Requirement already satisfied: tellurium in /home/ubuntu/advancing-biomedical-models/cls/lib/python3.6/site-packages (2.2.0)\n",
      "Requirement already satisfied: pytest in /home/ubuntu/advancing-biomedical-models/cls/lib/python3.6/site-packages (from tellurium) (6.2.1)\n",
      "Requirement already satisfied: sbml2matlab>=0.9.1 in /home/ubuntu/advancing-biomedical-models/cls/lib/python3.6/site-packages (from tellurium) (1.2.3.1)\n",
      "Requirement already satisfied: python-libsedml>=2.0.12 in /home/ubuntu/advancing-biomedical-models/cls/lib/python3.6/site-packages (from tellurium) (2.0.13)\n",
      "Requirement already satisfied: phrasedml>=1.0.9 in /home/ubuntu/advancing-biomedical-models/cls/lib/python3.6/site-packages (from tellurium) (1.1.0)\n",
      "Requirement already satisfied: python-libnuml>=1.0.0 in /home/ubuntu/advancing-biomedical-models/cls/lib/python3.6/site-packages (from tellurium) (1.1.3)\n",
      "Requirement already satisfied: plotly>=2.0.12 in /home/ubuntu/advancing-biomedical-models/cls/lib/python3.6/site-packages (from tellurium) (4.14.1)\n",
      "Requirement already satisfied: requests in /home/ubuntu/advancing-biomedical-models/cls/lib/python3.6/site-packages (from tellurium) (2.22.0)\n",
      "Requirement already satisfied: jupyter-client>=5.1.0 in /home/ubuntu/advancing-biomedical-models/cls/lib/python3.6/site-packages (from tellurium) (6.1.7)\n",
      "Requirement already satisfied: appdirs>=1.4.3 in /home/ubuntu/advancing-biomedical-models/cls/lib/python3.6/site-packages (from tellurium) (1.4.4)\n",
      "Requirement already satisfied: scipy>=1.5.1 in /home/ubuntu/advancing-biomedical-models/cls/lib/python3.6/site-packages (from tellurium) (1.5.4)\n",
      "Requirement already satisfied: pandas>=0.20.2 in /home/ubuntu/advancing-biomedical-models/cls/lib/python3.6/site-packages (from tellurium) (1.1.5)\n",
      "Requirement already satisfied: ipykernel>=4.6.1 in /home/ubuntu/advancing-biomedical-models/cls/lib/python3.6/site-packages (from tellurium) (5.4.2)\n",
      "Requirement already satisfied: antimony>=2.12.0 in /home/ubuntu/advancing-biomedical-models/cls/lib/python3.6/site-packages (from tellurium) (2.12.0.2)\n",
      "Requirement already satisfied: jinja2>=2.9.6 in /home/ubuntu/advancing-biomedical-models/cls/lib/python3.6/site-packages (from tellurium) (2.11.2)\n",
      "Requirement already satisfied: ipython in /home/ubuntu/advancing-biomedical-models/cls/lib/python3.6/site-packages (from tellurium) (7.16.1)\n",
      "Requirement already satisfied: jupyter-core>=4.3.0 in /home/ubuntu/advancing-biomedical-models/cls/lib/python3.6/site-packages (from tellurium) (4.7.0)\n",
      "Requirement already satisfied: python-libsbml>=5.18.0 in /home/ubuntu/advancing-biomedical-models/cls/lib/python3.6/site-packages (from tellurium) (5.19.0)\n",
      "Requirement already satisfied: libroadrunner>=2.0.3 in /home/ubuntu/advancing-biomedical-models/cls/lib/python3.6/site-packages (from tellurium) (2.0.3.1)\n",
      "Requirement already satisfied: matplotlib>=2.0.2 in /home/ubuntu/advancing-biomedical-models/cls/lib/python3.6/site-packages (from tellurium) (3.3.3)\n",
      "Requirement already satisfied: python-libcombine>=0.2.2 in /home/ubuntu/advancing-biomedical-models/cls/lib/python3.6/site-packages (from tellurium) (0.2.10)\n",
      "Requirement already satisfied: rrplugins>=2.0.3 in /home/ubuntu/advancing-biomedical-models/cls/lib/python3.6/site-packages (from tellurium) (2.0.3)\n",
      "Requirement already satisfied: numpy==1.19.3 in /home/ubuntu/advancing-biomedical-models/cls/lib/python3.6/site-packages (from tellurium) (1.19.3)\n",
      "Requirement already satisfied: traitlets>=4.1.0 in /home/ubuntu/advancing-biomedical-models/cls/lib/python3.6/site-packages (from ipykernel>=4.6.1->tellurium) (4.3.3)\n",
      "Requirement already satisfied: tornado>=4.2 in /home/ubuntu/advancing-biomedical-models/cls/lib/python3.6/site-packages (from ipykernel>=4.6.1->tellurium) (6.1)\n",
      "Requirement already satisfied: prompt-toolkit!=3.0.0,!=3.0.1,<3.1.0,>=2.0.0 in /home/ubuntu/advancing-biomedical-models/cls/lib/python3.6/site-packages (from ipython->tellurium) (3.0.8)\n",
      "Requirement already satisfied: pickleshare in /home/ubuntu/advancing-biomedical-models/cls/lib/python3.6/site-packages (from ipython->tellurium) (0.7.5)\n",
      "Requirement already satisfied: backcall in /home/ubuntu/advancing-biomedical-models/cls/lib/python3.6/site-packages (from ipython->tellurium) (0.2.0)\n",
      "Requirement already satisfied: setuptools>=18.5 in /home/ubuntu/advancing-biomedical-models/cls/lib/python3.6/site-packages (from ipython->tellurium) (39.0.1)\n",
      "Requirement already satisfied: pygments in /home/ubuntu/advancing-biomedical-models/cls/lib/python3.6/site-packages (from ipython->tellurium) (2.7.3)\n",
      "Requirement already satisfied: decorator in /home/ubuntu/advancing-biomedical-models/cls/lib/python3.6/site-packages (from ipython->tellurium) (4.4.2)\n",
      "Requirement already satisfied: jedi>=0.10 in /home/ubuntu/advancing-biomedical-models/cls/lib/python3.6/site-packages (from ipython->tellurium) (0.18.0)\n",
      "Requirement already satisfied: pexpect in /home/ubuntu/advancing-biomedical-models/cls/lib/python3.6/site-packages (from ipython->tellurium) (4.8.0)\n",
      "Requirement already satisfied: parso<0.9.0,>=0.8.0 in /home/ubuntu/advancing-biomedical-models/cls/lib/python3.6/site-packages (from jedi>=0.10->ipython->tellurium) (0.8.1)\n",
      "Requirement already satisfied: MarkupSafe>=0.23 in /home/ubuntu/advancing-biomedical-models/cls/lib/python3.6/site-packages (from jinja2>=2.9.6->tellurium) (1.1.1)\n",
      "Requirement already satisfied: pyzmq>=13 in /home/ubuntu/advancing-biomedical-models/cls/lib/python3.6/site-packages (from jupyter-client>=5.1.0->tellurium) (20.0.0)\n",
      "Requirement already satisfied: python-dateutil>=2.1 in /home/ubuntu/advancing-biomedical-models/cls/lib/python3.6/site-packages (from jupyter-client>=5.1.0->tellurium) (2.8.1)\n",
      "Requirement already satisfied: cycler>=0.10 in /home/ubuntu/advancing-biomedical-models/cls/lib/python3.6/site-packages (from matplotlib>=2.0.2->tellurium) (0.10.0)\n",
      "Requirement already satisfied: kiwisolver>=1.0.1 in /home/ubuntu/advancing-biomedical-models/cls/lib/python3.6/site-packages (from matplotlib>=2.0.2->tellurium) (1.3.1)\n",
      "Requirement already satisfied: pyparsing!=2.0.4,!=2.1.2,!=2.1.6,>=2.0.3 in /home/ubuntu/advancing-biomedical-models/cls/lib/python3.6/site-packages (from matplotlib>=2.0.2->tellurium) (2.4.7)\n",
      "Requirement already satisfied: pillow>=6.2.0 in /home/ubuntu/advancing-biomedical-models/cls/lib/python3.6/site-packages (from matplotlib>=2.0.2->tellurium) (8.1.0)\n",
      "Requirement already satisfied: six in /home/ubuntu/advancing-biomedical-models/cls/lib/python3.6/site-packages (from cycler>=0.10->matplotlib>=2.0.2->tellurium) (1.13.0)\n",
      "Requirement already satisfied: pytz>=2017.2 in /home/ubuntu/advancing-biomedical-models/cls/lib/python3.6/site-packages (from pandas>=0.20.2->tellurium) (2020.5)\n",
      "Requirement already satisfied: retrying>=1.3.3 in /home/ubuntu/advancing-biomedical-models/cls/lib/python3.6/site-packages (from plotly>=2.0.12->tellurium) (1.3.3)\n",
      "Requirement already satisfied: wcwidth in /home/ubuntu/advancing-biomedical-models/cls/lib/python3.6/site-packages (from prompt-toolkit!=3.0.0,!=3.0.1,<3.1.0,>=2.0.0->ipython->tellurium) (0.2.5)\n",
      "Requirement already satisfied: ipython-genutils in /home/ubuntu/advancing-biomedical-models/cls/lib/python3.6/site-packages (from traitlets>=4.1.0->ipykernel>=4.6.1->tellurium) (0.2.0)\n",
      "Requirement already satisfied: ptyprocess>=0.5 in /home/ubuntu/advancing-biomedical-models/cls/lib/python3.6/site-packages (from pexpect->ipython->tellurium) (0.7.0)\n",
      "Requirement already satisfied: py>=1.8.2 in /home/ubuntu/advancing-biomedical-models/cls/lib/python3.6/site-packages (from pytest->tellurium) (1.10.0)\n",
      "Requirement already satisfied: packaging in /home/ubuntu/advancing-biomedical-models/cls/lib/python3.6/site-packages (from pytest->tellurium) (20.8)\n",
      "Requirement already satisfied: attrs>=19.2.0 in /home/ubuntu/advancing-biomedical-models/cls/lib/python3.6/site-packages (from pytest->tellurium) (20.3.0)\n",
      "Requirement already satisfied: iniconfig in /home/ubuntu/advancing-biomedical-models/cls/lib/python3.6/site-packages (from pytest->tellurium) (1.1.1)\n",
      "Requirement already satisfied: toml in /home/ubuntu/advancing-biomedical-models/cls/lib/python3.6/site-packages (from pytest->tellurium) (0.10.2)\n",
      "Requirement already satisfied: importlib-metadata>=0.12 in /home/ubuntu/advancing-biomedical-models/cls/lib/python3.6/site-packages (from pytest->tellurium) (3.3.0)\n",
      "Requirement already satisfied: pluggy<1.0.0a1,>=0.12 in /home/ubuntu/advancing-biomedical-models/cls/lib/python3.6/site-packages (from pytest->tellurium) (0.13.1)\n",
      "Requirement already satisfied: typing-extensions>=3.6.4 in /home/ubuntu/advancing-biomedical-models/cls/lib/python3.6/site-packages (from importlib-metadata>=0.12->pytest->tellurium) (3.7.4.3)\n",
      "Requirement already satisfied: zipp>=0.5 in /home/ubuntu/advancing-biomedical-models/cls/lib/python3.6/site-packages (from importlib-metadata>=0.12->pytest->tellurium) (3.4.0)\n",
      "Requirement already satisfied: idna<2.9,>=2.5 in /home/ubuntu/advancing-biomedical-models/cls/lib/python3.6/site-packages (from requests->tellurium) (2.8)\n",
      "Requirement already satisfied: certifi>=2017.4.17 in /home/ubuntu/advancing-biomedical-models/cls/lib/python3.6/site-packages (from requests->tellurium) (2019.11.28)\n",
      "Requirement already satisfied: urllib3!=1.25.0,!=1.25.1,<1.26,>=1.21.1 in /home/ubuntu/advancing-biomedical-models/cls/lib/python3.6/site-packages (from requests->tellurium) (1.25.7)\n",
      "Requirement already satisfied: chardet<3.1.0,>=3.0.2 in /home/ubuntu/advancing-biomedical-models/cls/lib/python3.6/site-packages (from requests->tellurium) (3.0.4)\n",
      "Requirement already satisfied: matplotlib in /home/ubuntu/advancing-biomedical-models/cls/lib/python3.6/site-packages (3.3.3)\n",
      "Requirement already satisfied: cycler>=0.10 in /home/ubuntu/advancing-biomedical-models/cls/lib/python3.6/site-packages (from matplotlib) (0.10.0)\n",
      "Requirement already satisfied: numpy>=1.15 in /home/ubuntu/advancing-biomedical-models/cls/lib/python3.6/site-packages (from matplotlib) (1.19.3)\n",
      "Requirement already satisfied: python-dateutil>=2.1 in /home/ubuntu/advancing-biomedical-models/cls/lib/python3.6/site-packages (from matplotlib) (2.8.1)\n",
      "Requirement already satisfied: kiwisolver>=1.0.1 in /home/ubuntu/advancing-biomedical-models/cls/lib/python3.6/site-packages (from matplotlib) (1.3.1)\n",
      "Requirement already satisfied: pillow>=6.2.0 in /home/ubuntu/advancing-biomedical-models/cls/lib/python3.6/site-packages (from matplotlib) (8.1.0)\n",
      "Requirement already satisfied: pyparsing!=2.0.4,!=2.1.2,!=2.1.6,>=2.0.3 in /home/ubuntu/advancing-biomedical-models/cls/lib/python3.6/site-packages (from matplotlib) (2.4.7)\n",
      "Requirement already satisfied: six in /home/ubuntu/advancing-biomedical-models/cls/lib/python3.6/site-packages (from cycler>=0.10->matplotlib) (1.13.0)\n",
      "Requirement already satisfied: seaborn in /home/ubuntu/advancing-biomedical-models/cls/lib/python3.6/site-packages (0.11.1)\n",
      "Requirement already satisfied: scipy>=1.0 in /home/ubuntu/advancing-biomedical-models/cls/lib/python3.6/site-packages (from seaborn) (1.5.4)\n",
      "Requirement already satisfied: pandas>=0.23 in /home/ubuntu/advancing-biomedical-models/cls/lib/python3.6/site-packages (from seaborn) (1.1.5)\n",
      "Requirement already satisfied: numpy>=1.15 in /home/ubuntu/advancing-biomedical-models/cls/lib/python3.6/site-packages (from seaborn) (1.19.3)\n",
      "Requirement already satisfied: matplotlib>=2.2 in /home/ubuntu/advancing-biomedical-models/cls/lib/python3.6/site-packages (from seaborn) (3.3.3)\n",
      "Requirement already satisfied: python-dateutil>=2.1 in /home/ubuntu/advancing-biomedical-models/cls/lib/python3.6/site-packages (from matplotlib>=2.2->seaborn) (2.8.1)\n",
      "Requirement already satisfied: kiwisolver>=1.0.1 in /home/ubuntu/advancing-biomedical-models/cls/lib/python3.6/site-packages (from matplotlib>=2.2->seaborn) (1.3.1)\n",
      "Requirement already satisfied: pillow>=6.2.0 in /home/ubuntu/advancing-biomedical-models/cls/lib/python3.6/site-packages (from matplotlib>=2.2->seaborn) (8.1.0)\n",
      "Requirement already satisfied: pyparsing!=2.0.4,!=2.1.2,!=2.1.6,>=2.0.3 in /home/ubuntu/advancing-biomedical-models/cls/lib/python3.6/site-packages (from matplotlib>=2.2->seaborn) (2.4.7)\n",
      "Requirement already satisfied: cycler>=0.10 in /home/ubuntu/advancing-biomedical-models/cls/lib/python3.6/site-packages (from matplotlib>=2.2->seaborn) (0.10.0)\n",
      "Requirement already satisfied: six in /home/ubuntu/advancing-biomedical-models/cls/lib/python3.6/site-packages (from cycler>=0.10->matplotlib>=2.2->seaborn) (1.13.0)\n",
      "Requirement already satisfied: pytz>=2017.2 in /home/ubuntu/advancing-biomedical-models/cls/lib/python3.6/site-packages (from pandas>=0.23->seaborn) (2020.5)\n"
     ]
    }
   ],
   "source": [
    "# Install packages within Jupyter notebook\n",
    "!pip install numpy\n",
    "!pip install pandas\n",
    "!pip install tellurium\n",
    "!pip install matplotlib\n",
    "!pip install seaborn\n"
   ]
  },
  {
   "cell_type": "code",
   "execution_count": 3,
   "metadata": {},
   "outputs": [],
   "source": [
    "# Make the packages usable in this notebook\n",
    "import numpy as np\n",
    "import pandas as pd\n",
    "import tellurium as te\n",
    "import matplotlib.pyplot as plt\n",
    "import seaborn as sns"
   ]
  },
  {
   "cell_type": "markdown",
   "metadata": {},
   "source": [
    "# Python Calculator\n",
    "Python can be used as a simple calculator. Below are some examples."
   ]
  },
  {
   "cell_type": "code",
   "execution_count": 5,
   "metadata": {},
   "outputs": [
    {
     "data": {
      "text/plain": [
       "24.866025403784437"
      ]
     },
     "execution_count": 5,
     "metadata": {},
     "output_type": "execute_result"
    }
   ],
   "source": [
    "2+2*3 + 2**4 + np.sin(np.pi/3)"
   ]
  },
  {
   "cell_type": "code",
   "execution_count": 6,
   "metadata": {},
   "outputs": [
    {
     "data": {
      "text/plain": [
       "'this is a sentence.'"
      ]
     },
     "execution_count": 6,
     "metadata": {},
     "output_type": "execute_result"
    }
   ],
   "source": [
    "\"this \" + \"is \" + \"a \" \"sentence.\""
   ]
  },
  {
   "cell_type": "code",
   "execution_count": 7,
   "metadata": {},
   "outputs": [
    {
     "data": {
      "text/plain": [
       "True"
      ]
     },
     "execution_count": 7,
     "metadata": {},
     "output_type": "execute_result"
    }
   ],
   "source": [
    "# Boolean tests\n",
    "a = 2 + 3\n",
    "a == 5"
   ]
  },
  {
   "cell_type": "markdown",
   "metadata": {},
   "source": [
    "# Basic Data Structures\n",
    "1. List\n",
    "2. Dictionary\n",
    "3. Array"
   ]
  },
  {
   "cell_type": "markdown",
   "metadata": {},
   "source": [
    "# Tables\n",
    "1. Series - index, values\n",
    "2. DataFrames\n",
    "3. Building tables\n",
    "4. Searching, combining"
   ]
  },
  {
   "cell_type": "markdown",
   "metadata": {},
   "source": [
    "# Flow of Control"
   ]
  },
  {
   "cell_type": "markdown",
   "metadata": {},
   "source": [
    "## if-statement"
   ]
  },
  {
   "cell_type": "markdown",
   "metadata": {},
   "source": [
    "## for-statement"
   ]
  },
  {
   "cell_type": "markdown",
   "metadata": {},
   "source": [
    "# Functions"
   ]
  },
  {
   "cell_type": "markdown",
   "metadata": {},
   "source": [
    "## Definition"
   ]
  },
  {
   "cell_type": "markdown",
   "metadata": {},
   "source": [
    "## Arguments"
   ]
  },
  {
   "cell_type": "markdown",
   "metadata": {},
   "source": [
    "## Return values"
   ]
  },
  {
   "cell_type": "markdown",
   "metadata": {},
   "source": [
    "## Documenting"
   ]
  },
  {
   "cell_type": "markdown",
   "metadata": {},
   "source": [
    "## Testing"
   ]
  },
  {
   "cell_type": "markdown",
   "metadata": {},
   "source": [
    "# Programming style"
   ]
  },
  {
   "cell_type": "markdown",
   "metadata": {},
   "source": [
    "1. Whenever possible, use functions instead of scripts. This is because functions facilitate reuse, and functions are testable. Never use copy and paste for reuse.\n",
    "\n",
    "1. Use meaningful names for functions are variables. Function names should be verbs. For example, a function that calculates a fast Fourier transform might be named ``calcFFT``. A bad name for this function would be the single letter ``f``.\n",
    "\n",
    "1. Constants used in the notebook should have a name in all capital letters. For example, use PI, not pi. (By definition, a constant is a variable that is assigned a value only once.)\n",
    "\n",
    "1. The following should be used for functions:\n",
    "\n",
    "   1. Code cells should contain at most one function definition.\n",
    "\n",
    "   1. Functions should contain documentation that specifies: (a) what it does; (b) data types and semantics of its input parameters; (c) data type and semantics of what it returns.\n",
    "\n",
    "   1. The code cell in which a function resides should contain an \"assert\" statement that runs the function and performs a test on its output.\n",
    "   \n",
    "   1. Variables in a function are either parameters of the function, local to the function, or global constants."
   ]
  },
  {
   "cell_type": "markdown",
   "metadata": {},
   "source": [
    "# Simulations"
   ]
  }
 ],
 "metadata": {
  "kernelspec": {
   "display_name": "Python 3",
   "language": "python",
   "name": "python3"
  },
  "language_info": {
   "codemirror_mode": {
    "name": "ipython",
    "version": 3
   },
   "file_extension": ".py",
   "mimetype": "text/x-python",
   "name": "python",
   "nbconvert_exporter": "python",
   "pygments_lexer": "ipython3",
   "version": "3.6.9"
  },
  "toc-autonumbering": true
 },
 "nbformat": 4,
 "nbformat_minor": 4
}
