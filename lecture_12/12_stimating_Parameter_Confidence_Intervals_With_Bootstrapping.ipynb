{
 "cells": [
  {
   "cell_type": "markdown",
   "metadata": {},
   "source": [
    "<span style=\"font-family:Papyrus; font-size:3em;\" >Estimating Parameter Confidence Intervals With Bootstrapping</span>"
   ]
  },
  {
   "cell_type": "markdown",
   "metadata": {},
   "source": [
    "This notebook demonstrates the calculations required to do confidence interval constructions.\n",
    "1. Construct a good model. This means checking that we get good $R^2$ values (or other model quality metrics) for each fold in a cross validation.\n",
    "1. Compute residuals for the good model.\n",
    "1. Construct a collection of parameter estimates. That is, for many repetitions\n",
    "   1. Construct new observations (by using randomly selected residuals)\n",
    "   1. Estimate parameter values\n",
    "1. Compute the mean and standard deviation of the parameter estimates\n",
    "1. Construct the confidence interval\n",
    "\n",
    "**SOME BUGS**"
   ]
  },
  {
   "cell_type": "markdown",
   "metadata": {},
   "source": [
    "# Programming Preliminaries"
   ]
  },
  {
   "cell_type": "code",
   "execution_count": null,
   "metadata": {},
   "outputs": [],
   "source": []
  },
  {
   "cell_type": "code",
   "execution_count": 1,
   "metadata": {},
   "outputs": [],
   "source": [
    "%matplotlib inline\n",
    "import tellurium as te\n",
    "import numpy as np\n",
    "import lmfit   # Fitting lib\n",
    "import math\n",
    "import random \n",
    "import matplotlib.pyplot as plt\n",
    "import model_fitting as mf"
   ]
  },
  {
   "cell_type": "code",
   "execution_count": 2,
   "metadata": {},
   "outputs": [
    {
     "data": {
      "text/html": [
       "<table><tr><th> name </th><th> value </th><th> initial value </th><th> min </th><th> max </th><th> vary </th></tr><tr><td> k1 </td><td>  1.00000000 </td><td> 1 </td><td>  0.00000000 </td><td>  10.0000000 </td><td> True </td></tr><tr><td> k2 </td><td>  1.00000000 </td><td> 1 </td><td>  0.00000000 </td><td>  10.0000000 </td><td> True </td></tr></table>"
      ],
      "text/plain": [
       "Parameters([('k1', <Parameter 'k1', 1, bounds=[0:10]>),\n",
       "            ('k2', <Parameter 'k2', 1, bounds=[0:10]>)])"
      ]
     },
     "execution_count": 2,
     "metadata": {},
     "output_type": "execute_result"
    }
   ],
   "source": [
    "# Model used in this example\n",
    "model = \"\"\"\n",
    "     A -> B; k1*A\n",
    "     B -> C; k2*B\n",
    "      \n",
    "     A = 5;\n",
    "     B = 0;\n",
    "     C = 0;\n",
    "     k1 = 0.1\n",
    "     k2 = 0.2\n",
    "\"\"\"\n",
    "unfitted_parameters = mf.makeParameters(constants=['k1', 'k2'])\n",
    "unfitted_parameters"
   ]
  },
  {
   "cell_type": "code",
   "execution_count": 3,
   "metadata": {},
   "outputs": [],
   "source": [
    "# Globals\n",
    "num_points = 10\n",
    "sim_time = 30\n",
    "nose_std = 0.5"
   ]
  },
  {
   "cell_type": "code",
   "execution_count": 24,
   "metadata": {},
   "outputs": [
    {
     "data": {
      "text/plain": [
       "       time,      [A],       [B],      [C]\n",
       " [[       0,  5.16206,         0,        0],\n",
       "  [ 3.33333,  3.36992,   1.40397,        0],\n",
       "  [ 6.66667,  2.57728,    1.4654, 0.902926],\n",
       "  [      10,  1.35994,   1.17285,  2.03372],\n",
       "  [ 13.3333,  1.52019,   0.60952,  3.27804],\n",
       "  [ 16.6667, 0.673363,  0.717082,   2.9588],\n",
       "  [      20,  1.03434,  0.793352,   3.7578],\n",
       "  [ 23.3333, 0.293809,  0.571543,    5.086],\n",
       "  [ 26.6667,  0.51971, 0.0145158,  3.51552],\n",
       "  [      30,        0,  0.403527,  4.80907]]"
      ]
     },
     "execution_count": 24,
     "metadata": {},
     "output_type": "execute_result"
    }
   ],
   "source": [
    "# Create synthetic observational data for this example. This is for demonstration purposes only.\n",
    "# In practice, you will have observational data from experiments.\n",
    "obs_data = mf.makeObservations(model=model, noise_std=nose_std, num_points=num_points, sim_time=sim_time)\n",
    "obs_data"
   ]
  },
  {
   "cell_type": "markdown",
   "metadata": {},
   "source": [
    "## Step 1: Construct a good model.\n",
    "In the following, we use the same model as the synthetic observations. Of course, in practice, you won't know the \"true\" model. You'll try many, and choose the best in terms of the quality metrics (e.g., $R^2$)."
   ]
  },
  {
   "cell_type": "code",
   "execution_count": 5,
   "metadata": {},
   "outputs": [
    {
     "data": {
      "text/plain": [
       "[0.14125674550458056, -0.683842189100103, -0.7970422790099456]"
      ]
     },
     "execution_count": 5,
     "metadata": {},
     "output_type": "execute_result"
    }
   ],
   "source": [
    "# Do the cross validation for this model. the crossValidate function returns two values: list of\n",
    "# the parameters (for each fold) and RSQs for each fold.\n",
    "list_parameters, rsqs = mf.crossValidate(obs_data, model=model, parameters=unfitted_parameters, \n",
    "                                         num_points=num_points, \n",
    "                                         sim_time=sim_time,\n",
    "                                         num_folds=3)\n",
    "rsqs"
   ]
  },
  {
   "cell_type": "markdown",
   "metadata": {},
   "source": [
    "These are very good $R^2$ values. So, we accept the model.\n",
    "\n",
    "Next, we need to estimate the parameter values to use in our model. To this end, we do a fit on the full set of data."
   ]
  },
  {
   "cell_type": "code",
   "execution_count": 6,
   "metadata": {},
   "outputs": [
    {
     "data": {
      "text/html": [
       "<table><tr><th> name </th><th> value </th><th> standard error </th><th> relative error </th><th> initial value </th><th> min </th><th> max </th><th> vary </th></tr><tr><td> k1 </td><td>  0.09935273 </td><td>  0.01019644 </td><td> (10.26%) </td><td> 1 </td><td>  0.00000000 </td><td>  10.0000000 </td><td> True </td></tr><tr><td> k2 </td><td>  0.16024580 </td><td>  0.02620108 </td><td> (16.35%) </td><td> 1 </td><td>  0.00000000 </td><td>  10.0000000 </td><td> True </td></tr></table>"
      ],
      "text/plain": [
       "Parameters([('k1',\n",
       "             <Parameter 'k1', value=0.09935273304001124 +/- 0.0102, bounds=[0:10]>),\n",
       "            ('k2',\n",
       "             <Parameter 'k2', value=0.16024579797967786 +/- 0.0262, bounds=[0:10]>)])"
      ]
     },
     "execution_count": 6,
     "metadata": {},
     "output_type": "execute_result"
    }
   ],
   "source": [
    "fitted_parameters = mf.fit(obs_data, model=model, parameters=unfitted_parameters,\n",
    "                           num_points=num_points, sim_time=sim_time)\n",
    "fitted_parameters"
   ]
  },
  {
   "cell_type": "markdown",
   "metadata": {},
   "source": [
    "# Step 2: Compute the Residuals\n",
    "Residuals need to be calculated by chemical species since they may be in very different units."
   ]
  },
  {
   "cell_type": "code",
   "execution_count": 7,
   "metadata": {},
   "outputs": [],
   "source": [
    "def makeResidualsBySpecies(obs_data, model, parameters, num_points, sim_time):\n",
    "    \"\"\"\n",
    "    Calculate residuals for each chemical species.\n",
    "    :param np.array obs_data: matrix of observations; first column is time; number of rows is num_points\n",
    "    :param str model:\n",
    "    :param lmfit.Parameters parameters.\n",
    "    :param int num_points:\n",
    "    :param int sim_time:\n",
    "    :return np.array: matrix of residuals; columns are chemical species\n",
    "    \"\"\"\n",
    "    data = mf.runSimulation(model=model, parameters=parameters, num_points=num_points, sim_time=sim_time)\n",
    "    residuals = mf.calcSimulationResiduals(parameters, obs_data, num_points=num_points, sim_time=sim_time,\n",
    "                                          model=model)\n",
    "    # Reshape the residuals by species\n",
    "    rr = te.loada(model)\n",
    "    num_species = rr.getNumFloatingSpecies()\n",
    "    nrows = int(len(residuals) / num_species)\n",
    "    return np.reshape(residuals, (nrows, num_species))"
   ]
  },
  {
   "cell_type": "code",
   "execution_count": 8,
   "metadata": {},
   "outputs": [
    {
     "data": {
      "text/plain": [
       "array([[ 0.47223951,  1.41946243,  0.73042799],\n",
       "       [-0.16306732, -0.30107878,  0.12596932],\n",
       "       [-0.08527259,  0.06534642, -0.41541699],\n",
       "       [ 0.40138082,  0.        ,  0.05061419],\n",
       "       [-0.0639981 ,  0.02206411,  0.52831846],\n",
       "       [ 0.15786434,  0.12013445, -0.39615199],\n",
       "       [ 0.71544741, -1.01227671, -0.04107004],\n",
       "       [ 0.18329236,  1.48170677, -0.61150343],\n",
       "       [ 0.12073113,  0.60246343, -0.07899945],\n",
       "       [-0.3652235 ,  0.10758031, -0.25381697]])"
      ]
     },
     "execution_count": 8,
     "metadata": {},
     "output_type": "execute_result"
    }
   ],
   "source": [
    "# Note that the residuals for the chemical species differ. Compare the residuals for A (1st col) with\n",
    "# the residuals for C (3rd col)\n",
    "residuals_matrix = mf.makeResidualsMatrix(obs_data, model, \n",
    "                                             fitted_parameters, \n",
    "                                             num_points=num_points, sim_time=sim_time)\n",
    "residuals_matrix"
   ]
  },
  {
   "cell_type": "code",
   "execution_count": 9,
   "metadata": {},
   "outputs": [
    {
     "data": {
      "text/plain": [
       "0.5181489094538362"
      ]
     },
     "execution_count": 9,
     "metadata": {},
     "output_type": "execute_result"
    }
   ],
   "source": [
    "# The standard deviation of the residuals should be approximately the same as the standard deviation\n",
    "# of the random noise we injected in the construction of the observations.\n",
    "np.std(residuals_matrix)"
   ]
  },
  {
   "cell_type": "markdown",
   "metadata": {},
   "source": [
    "## Step 3: Construct a Collection of Parameter Estimates"
   ]
  },
  {
   "cell_type": "markdown",
   "metadata": {},
   "source": [
    "### Step 3a: Construct Synthetic Observations\n",
    "We define a function that constructs a set of observations from residuals and a model."
   ]
  },
  {
   "cell_type": "code",
   "execution_count": 10,
   "metadata": {},
   "outputs": [],
   "source": [
    "def makeSyntheticObservations(residual_matrix, model, parameters, num_points, sim_time):\n",
    "    \"\"\"\n",
    "    Constructs synthetic observations for the model.\n",
    "    :param np.array obs_data: matrix of residuals; columns are species; number of rows is num_points\n",
    "    :param str model: Antimony model\n",
    "    :param lmfit.Parameters parameters: parameters to use in the simulation\n",
    "    :param int num_points:\n",
    "    :param int sim_time:\n",
    "    :return np.array: matrix; first column \n",
    "    \"\"\"\n",
    "    simulation_result = mf.runSimulation(model=model, parameters=fitted_parameters, \n",
    "                            num_points=num_points, sim_time=sim_time)\n",
    "    model_data = simulation_result.data\n",
    "    data = model_data.copy()\n",
    "    nrows, ncols = np.shape(data)\n",
    "    for icol in range(1, ncols):  # Avoid the time column\n",
    "        indices = np.random.randint(0, nrows, nrows)\n",
    "        for irow in range(nrows):\n",
    "            data[irow, icol] = max(data[irow, icol] + residuals_matrix[indices[irow], icol-1], 0)\n",
    "    return data"
   ]
  },
  {
   "cell_type": "code",
   "execution_count": 11,
   "metadata": {},
   "outputs": [
    {
     "data": {
      "text/plain": [
       " [[       0,  5.40138,  1.48171, 0.0506142],\n",
       "  [ 3.33333,  4.06263,  2.55785,         0],\n",
       "  [ 6.66667,  2.41512,  1.42562,  0.977189],\n",
       "  [      10,  2.25272,  1.37761,   1.82166],\n",
       "  [ 13.3333, 0.964187,  2.62542,   2.21081],\n",
       "  [ 16.6667,  1.67007, 0.993018,   3.78279],\n",
       "  [      20, 0.600221,  0.85288,   2.91547],\n",
       "  [ 23.3333,  1.20769, 0.631226,   3.85753],\n",
       "  [ 26.6667, 0.754847, 0.583148,    3.9297],\n",
       "  [      30, 0.726056, 0.369542,   4.44932]]"
      ]
     },
     "execution_count": 11,
     "metadata": {},
     "output_type": "execute_result"
    }
   ],
   "source": [
    "# Try running this several times to see how values change.\n",
    "makeSyntheticObservations(residuals_matrix, model, fitted_parameters, num_points, sim_time)"
   ]
  },
  {
   "cell_type": "markdown",
   "metadata": {},
   "source": [
    "### Step 3b: Repeatedly estimate parameter values"
   ]
  },
  {
   "cell_type": "code",
   "execution_count": 25,
   "metadata": {},
   "outputs": [],
   "source": [
    "def makeParametersList(model, fitted_parameters, residuals_matrix, num_points, sim_time):\n",
    "    list_parameters = []\n",
    "    for _ in range(10):\n",
    "        obs_data = makeSyntheticObservations(residuals_matrix, model, \n",
    "            fitted_parameters, num_points, sim_time)\n",
    "        fitted_parameters = mf.fit(obs_data, model=model, \n",
    "            parameters=fitted_parameters, num_points=num_points, sim_time=sim_time)\n",
    "        list_parameters.append(fitted_parameters)\n",
    "    return list_parameters"
   ]
  },
  {
   "cell_type": "code",
   "execution_count": 26,
   "metadata": {},
   "outputs": [
    {
     "ename": "TypeError",
     "evalue": "Improper input: N=2 must not exceed M=0",
     "output_type": "error",
     "traceback": [
      "\u001b[0;31m--------------------------------------------------------------------------\u001b[0m",
      "\u001b[0;31mTypeError\u001b[0m                                Traceback (most recent call last)",
      "\u001b[0;32m<ipython-input-26-8b3488f4ed17>\u001b[0m in \u001b[0;36m<module>\u001b[0;34m\u001b[0m\n\u001b[0;32m----> 1\u001b[0;31m \u001b[0mlist_parameters\u001b[0m \u001b[0;34m=\u001b[0m \u001b[0mmakeParametersList\u001b[0m\u001b[0;34m(\u001b[0m\u001b[0mmodel\u001b[0m\u001b[0;34m,\u001b[0m \u001b[0mfitted_parameters\u001b[0m\u001b[0;34m,\u001b[0m \u001b[0mresiduals_matrix\u001b[0m\u001b[0;34m,\u001b[0m \u001b[0mnum_points\u001b[0m\u001b[0;34m,\u001b[0m \u001b[0msim_time\u001b[0m\u001b[0;34m)\u001b[0m\u001b[0;34m\u001b[0m\u001b[0;34m\u001b[0m\u001b[0m\n\u001b[0m\u001b[1;32m      2\u001b[0m \u001b[0mlist_parameters\u001b[0m\u001b[0;34m\u001b[0m\u001b[0;34m\u001b[0m\u001b[0m\n",
      "\u001b[0;32m<ipython-input-25-4b35e4a0d4e3>\u001b[0m in \u001b[0;36mmakeParametersList\u001b[0;34m(model, fitted_parameters, residuals_matrix, num_points, sim_time)\u001b[0m\n\u001b[1;32m      5\u001b[0m             fitted_parameters, num_points, sim_time)\n\u001b[1;32m      6\u001b[0m         fitted_parameters = mf.fit(obs_data, model=model, \n\u001b[0;32m----> 7\u001b[0;31m             parameters=fitted_parameters, num_points=num_points, sim_time=sim_time)\n\u001b[0m\u001b[1;32m      8\u001b[0m         \u001b[0mlist_parameters\u001b[0m\u001b[0;34m.\u001b[0m\u001b[0mappend\u001b[0m\u001b[0;34m(\u001b[0m\u001b[0mfitted_parameters\u001b[0m\u001b[0;34m)\u001b[0m\u001b[0;34m\u001b[0m\u001b[0;34m\u001b[0m\u001b[0m\n\u001b[1;32m      9\u001b[0m     \u001b[0;32mreturn\u001b[0m \u001b[0mlist_parameters\u001b[0m\u001b[0;34m\u001b[0m\u001b[0;34m\u001b[0m\u001b[0m\n",
      "\u001b[0;32m~/advancing-biomedical-models/lectures/lecture_11/model_fitting.py\u001b[0m in \u001b[0;36mfit\u001b[0;34m(obs_data, indices, parameters, method, **kwargs)\u001b[0m\n\u001b[1;32m    389\u001b[0m   \u001b[0;31m# Estimate the parameters for this fold\u001b[0m\u001b[0;34m\u001b[0m\u001b[0;34m\u001b[0m\u001b[0;34m\u001b[0m\u001b[0m\n\u001b[1;32m    390\u001b[0m   \u001b[0mfitter\u001b[0m \u001b[0;34m=\u001b[0m \u001b[0mlmfit\u001b[0m\u001b[0;34m.\u001b[0m\u001b[0mMinimizer\u001b[0m\u001b[0;34m(\u001b[0m\u001b[0mcalcLmfitResiduals\u001b[0m\u001b[0;34m,\u001b[0m \u001b[0mparameters\u001b[0m\u001b[0;34m)\u001b[0m\u001b[0;34m\u001b[0m\u001b[0;34m\u001b[0m\u001b[0m\n\u001b[0;32m--> 391\u001b[0;31m   \u001b[0mfitter_result\u001b[0m \u001b[0;34m=\u001b[0m \u001b[0mfitter\u001b[0m\u001b[0;34m.\u001b[0m\u001b[0mminimize\u001b[0m\u001b[0;34m(\u001b[0m\u001b[0mmethod\u001b[0m\u001b[0;34m=\u001b[0m\u001b[0mmethod\u001b[0m\u001b[0;34m)\u001b[0m\u001b[0;34m\u001b[0m\u001b[0;34m\u001b[0m\u001b[0m\n\u001b[0m\u001b[1;32m    392\u001b[0m   \u001b[0;32mreturn\u001b[0m \u001b[0mfitter_result\u001b[0m\u001b[0;34m.\u001b[0m\u001b[0mparams\u001b[0m\u001b[0;34m\u001b[0m\u001b[0;34m\u001b[0m\u001b[0m\n\u001b[1;32m    393\u001b[0m \u001b[0;34m\u001b[0m\u001b[0m\n",
      "\u001b[0;32m~/miniconda3/lib/python3.6/site-packages/lmfit/minimizer.py\u001b[0m in \u001b[0;36mminimize\u001b[0;34m(self, method, params, **kws)\u001b[0m\n\u001b[1;32m   2115\u001b[0m                         val.lower().startswith(user_method)):\n\u001b[1;32m   2116\u001b[0m                     \u001b[0mkwargs\u001b[0m\u001b[0;34m[\u001b[0m\u001b[0;34m'method'\u001b[0m\u001b[0;34m]\u001b[0m \u001b[0;34m=\u001b[0m \u001b[0mval\u001b[0m\u001b[0;34m\u001b[0m\u001b[0;34m\u001b[0m\u001b[0m\n\u001b[0;32m-> 2117\u001b[0;31m         \u001b[0;32mreturn\u001b[0m \u001b[0mfunction\u001b[0m\u001b[0;34m(\u001b[0m\u001b[0;34m**\u001b[0m\u001b[0mkwargs\u001b[0m\u001b[0;34m)\u001b[0m\u001b[0;34m\u001b[0m\u001b[0;34m\u001b[0m\u001b[0m\n\u001b[0m\u001b[1;32m   2118\u001b[0m \u001b[0;34m\u001b[0m\u001b[0m\n\u001b[1;32m   2119\u001b[0m \u001b[0;34m\u001b[0m\u001b[0m\n",
      "\u001b[0;32m~/miniconda3/lib/python3.6/site-packages/lmfit/minimizer.py\u001b[0m in \u001b[0;36mleastsq\u001b[0;34m(self, params, **kws)\u001b[0m\n\u001b[1;32m   1501\u001b[0m \u001b[0;34m\u001b[0m\u001b[0m\n\u001b[1;32m   1502\u001b[0m         \u001b[0;32mtry\u001b[0m\u001b[0;34m:\u001b[0m\u001b[0;34m\u001b[0m\u001b[0;34m\u001b[0m\u001b[0m\n\u001b[0;32m-> 1503\u001b[0;31m             \u001b[0mlsout\u001b[0m \u001b[0;34m=\u001b[0m \u001b[0mscipy_leastsq\u001b[0m\u001b[0;34m(\u001b[0m\u001b[0mself\u001b[0m\u001b[0;34m.\u001b[0m\u001b[0m__residual\u001b[0m\u001b[0;34m,\u001b[0m \u001b[0mvariables\u001b[0m\u001b[0;34m,\u001b[0m \u001b[0;34m**\u001b[0m\u001b[0mlskws\u001b[0m\u001b[0;34m)\u001b[0m\u001b[0;34m\u001b[0m\u001b[0;34m\u001b[0m\u001b[0m\n\u001b[0m\u001b[1;32m   1504\u001b[0m         \u001b[0;32mexcept\u001b[0m \u001b[0mAbortFitException\u001b[0m\u001b[0;34m:\u001b[0m\u001b[0;34m\u001b[0m\u001b[0;34m\u001b[0m\u001b[0m\n\u001b[1;32m   1505\u001b[0m             \u001b[0;32mpass\u001b[0m\u001b[0;34m\u001b[0m\u001b[0;34m\u001b[0m\u001b[0m\n",
      "\u001b[0;32m~/miniconda3/lib/python3.6/site-packages/scipy/optimize/minpack.py\u001b[0m in \u001b[0;36mleastsq\u001b[0;34m(func, x0, args, Dfun, full_output, col_deriv, ftol, xtol, gtol, maxfev, epsfcn, factor, diag)\u001b[0m\n\u001b[1;32m    385\u001b[0m \u001b[0;34m\u001b[0m\u001b[0m\n\u001b[1;32m    386\u001b[0m     \u001b[0;32mif\u001b[0m \u001b[0mn\u001b[0m \u001b[0;34m>\u001b[0m \u001b[0mm\u001b[0m\u001b[0;34m:\u001b[0m\u001b[0;34m\u001b[0m\u001b[0;34m\u001b[0m\u001b[0m\n\u001b[0;32m--> 387\u001b[0;31m         \u001b[0;32mraise\u001b[0m \u001b[0mTypeError\u001b[0m\u001b[0;34m(\u001b[0m\u001b[0;34m'Improper input: N=%s must not exceed M=%s'\u001b[0m \u001b[0;34m%\u001b[0m \u001b[0;34m(\u001b[0m\u001b[0mn\u001b[0m\u001b[0;34m,\u001b[0m \u001b[0mm\u001b[0m\u001b[0;34m)\u001b[0m\u001b[0;34m)\u001b[0m\u001b[0;34m\u001b[0m\u001b[0;34m\u001b[0m\u001b[0m\n\u001b[0m\u001b[1;32m    388\u001b[0m \u001b[0;34m\u001b[0m\u001b[0m\n\u001b[1;32m    389\u001b[0m     \u001b[0;32mif\u001b[0m \u001b[0mepsfcn\u001b[0m \u001b[0;32mis\u001b[0m \u001b[0;32mNone\u001b[0m\u001b[0;34m:\u001b[0m\u001b[0;34m\u001b[0m\u001b[0;34m\u001b[0m\u001b[0m\n",
      "\u001b[0;31mTypeError\u001b[0m: Improper input: N=2 must not exceed M=0"
     ]
    }
   ],
   "source": [
    "list_parameters = makeParametersList(model, fitted_parameters, residuals_matrix, num_points, sim_time)\n",
    "list_parameters"
   ]
  },
  {
   "cell_type": "code",
   "execution_count": 21,
   "metadata": {},
   "outputs": [
    {
     "data": {
      "text/plain": [
       " [[       0,  4.83693, 0.602463,        0],\n",
       "  [ 3.33333,  3.42733,  1.07614,  0.45943],\n",
       "  [ 6.66667,  3.05043,  1.52369, 0.622107],\n",
       "  [      10,  1.48612,  1.98008,  1.37489],\n",
       "  [ 13.3333,  1.80165,  1.22803,  2.38563],\n",
       "  [ 16.6667, 0.890624,        0,  3.78279],\n",
       "  [      20, 0.621496, 0.895114,   4.2574],\n",
       "  [ 23.3333,  1.20769,        0,  3.48318],\n",
       "  [ 26.6667, 0.825706,        0,  4.91395],\n",
       "  [      30, 0.655198,        0,  4.14489]]"
      ]
     },
     "execution_count": 21,
     "metadata": {},
     "output_type": "execute_result"
    }
   ],
   "source": [
    "makeSyntheticObservations(residuals_matrix, model, \n",
    "            fitted_parameters, num_points, sim_time)"
   ]
  },
  {
   "cell_type": "code",
   "execution_count": 23,
   "metadata": {},
   "outputs": [
    {
     "data": {
      "text/html": [
       "<table><tr><th> name </th><th> value </th><th> initial value </th><th> min </th><th> max </th><th> vary </th></tr><tr><td> k1 </td><td>  1.00000000 </td><td> 1 </td><td>  0.00000000 </td><td>  10.0000000 </td><td> True </td></tr><tr><td> k2 </td><td>  1.00000000 </td><td> 1 </td><td>  0.00000000 </td><td>  10.0000000 </td><td> True </td></tr></table>"
      ],
      "text/plain": [
       "Parameters([('k1', <Parameter 'k1', 1, bounds=[0:10]>),\n",
       "            ('k2', <Parameter 'k2', 1, bounds=[0:10]>)])"
      ]
     },
     "execution_count": 23,
     "metadata": {},
     "output_type": "execute_result"
    }
   ],
   "source": [
    "unfitted_parameters"
   ]
  },
  {
   "cell_type": "markdown",
   "metadata": {},
   "source": [
    "## Step 4: Compute Confidence Interval"
   ]
  },
  {
   "cell_type": "code",
   "execution_count": 19,
   "metadata": {},
   "outputs": [
    {
     "data": {
      "text/plain": [
       "array([0.9, 8.1])"
      ]
     },
     "execution_count": 19,
     "metadata": {},
     "output_type": "execute_result"
    }
   ],
   "source": [
    "np.quantile(range(10), [.10, .90])"
   ]
  },
  {
   "cell_type": "markdown",
   "metadata": {},
   "source": [
    "## Exercise 1: Analyze a new model.\n",
    "\n",
    "TRUE MODEL:\n",
    "\n",
    "- A -> B\n",
    "- A -> C\n",
    "- B + C -> D\n",
    "\n",
    "All kinetics are mass action. The kinetics constants are (in order of the reactions): 0.5, 0.5, 1.0. The initial concentration of A is 5. Consider a time course of duration 30 with 20 points.\n",
    "\n",
    "\n",
    "1. Generate synthetic observations using this model using a normally distributed noise with a standard deviation\n",
    "of 0.1.\n",
    "1. Using the true model (the one above), find the $R^2$ values in a cross validation with 4 folds.\n",
    "1. Construct confidence intervals for the parameters."
   ]
  },
  {
   "cell_type": "code",
   "execution_count": 27,
   "metadata": {},
   "outputs": [
    {
     "data": {
      "text/html": [
       "<table><tr><th> name </th><th> value </th><th> initial value </th><th> min </th><th> max </th><th> vary </th></tr><tr><td> k1 </td><td>  1.00000000 </td><td> 1 </td><td>  0.00000000 </td><td>  10.0000000 </td><td> True </td></tr><tr><td> k2 </td><td>  1.00000000 </td><td> 1 </td><td>  0.00000000 </td><td>  10.0000000 </td><td> True </td></tr><tr><td> k3 </td><td>  1.00000000 </td><td> 1 </td><td>  0.00000000 </td><td>  10.0000000 </td><td> True </td></tr></table>"
      ],
      "text/plain": [
       "Parameters([('k1', <Parameter 'k1', 1, bounds=[0:10]>),\n",
       "            ('k2', <Parameter 'k2', 1, bounds=[0:10]>),\n",
       "            ('k3', <Parameter 'k3', 1, bounds=[0:10]>)])"
      ]
     },
     "execution_count": 27,
     "metadata": {},
     "output_type": "execute_result"
    }
   ],
   "source": [
    "# Model used in this example\n",
    "new_model = \"\"\"\n",
    "     A -> B; k1*A\n",
    "     A -> C; k2*A\n",
    "     B + C -> D; k3*B*C\n",
    "      \n",
    "     A = 5;\n",
    "     B = 0;\n",
    "     C = 0;\n",
    "     k1 = 0.5\n",
    "     k2 = 0.5\n",
    "     k3 = 1.0\n",
    "\"\"\"\n",
    "unfitted_parameters = mf.makeParameters(constants=['k1', 'k2', 'k3'])\n",
    "unfitted_parameters"
   ]
  },
  {
   "cell_type": "code",
   "execution_count": 28,
   "metadata": {},
   "outputs": [],
   "source": [
    "# Globals\n",
    "num_points = 20\n",
    "sim_time = 30\n",
    "nose_std = 0.1"
   ]
  },
  {
   "cell_type": "code",
   "execution_count": 29,
   "metadata": {},
   "outputs": [],
   "source": [
    "# Create synthetic observational data for this example. This is for demonstration purposes only.\n",
    "# In practice, you will have observational data from experiments.\n",
    "obs_data = mf.makeObservations(model=new_model, noise_std=nose_std, num_points=num_points, sim_time=sim_time)"
   ]
  },
  {
   "cell_type": "code",
   "execution_count": 30,
   "metadata": {},
   "outputs": [
    {
     "data": {
      "image/png": "[encoded data removed]",
      "text/plain": [
       "<Figure size 432x288 with 1 Axes>"
      ]
     },
     "metadata": {
      "needs_background": "light"
     },
     "output_type": "display_data"
    }
   ],
   "source": [
    "mf.plotTimeSeries(obs_data, is_scatter=True, columns=['A','B', 'C', 'D'])"
   ]
  },
  {
   "cell_type": "code",
   "execution_count": 31,
   "metadata": {},
   "outputs": [
    {
     "data": {
      "text/html": [
       "<table><tr><th> name </th><th> value </th><th> standard error </th><th> relative error </th><th> initial value </th><th> min </th><th> max </th><th> vary </th></tr><tr><td> k1 </td><td>  0.44876302 </td><td>  0.01810557 </td><td> (4.03%) </td><td> 1 </td><td>  0.00000000 </td><td>  10.0000000 </td><td> True </td></tr><tr><td> k2 </td><td>  0.45393798 </td><td>  0.01824454 </td><td> (4.02%) </td><td> 1 </td><td>  0.00000000 </td><td>  10.0000000 </td><td> True </td></tr><tr><td> k3 </td><td>  1.16975549 </td><td>  0.09812648 </td><td> (8.39%) </td><td> 1 </td><td>  0.00000000 </td><td>  10.0000000 </td><td> True </td></tr></table>"
      ],
      "text/plain": [
       "Parameters([('k1',\n",
       "             <Parameter 'k1', value=0.4487630248389879 +/- 0.0181, bounds=[0:10]>),\n",
       "            ('k2',\n",
       "             <Parameter 'k2', value=0.45393797686370974 +/- 0.0182, bounds=[0:10]>),\n",
       "            ('k3',\n",
       "             <Parameter 'k3', value=1.169755493783936 +/- 0.0981, bounds=[0:10]>)])"
      ]
     },
     "execution_count": 31,
     "metadata": {},
     "output_type": "execute_result"
    }
   ],
   "source": [
    "fitted_parameters = mf.fit(obs_data, model=new_model, parameters=unfitted_parameters,\n",
    "                           num_points=num_points, sim_time=sim_time)\n",
    "fitted_parameters"
   ]
  },
  {
   "cell_type": "code",
   "execution_count": 32,
   "metadata": {},
   "outputs": [
    {
     "name": "stdout",
     "output_type": "stream",
     "text": [
      "\n",
      "     A -> B; k1*A\n",
      "     A -> C; k2*A\n",
      "     B + C -> D; k3*B*C\n",
      "      \n",
      "     A = 5;\n",
      "     B = 0;\n",
      "     C = 0;\n",
      "     k1 = 0.5\n",
      "     k2 = 0.5\n",
      "     k3 = 1.0\n",
      "\n"
     ]
    }
   ],
   "source": [
    "print(new_model)"
   ]
  },
  {
   "cell_type": "code",
   "execution_count": 33,
   "metadata": {},
   "outputs": [
    {
     "data": {
      "text/plain": [
       "       time,        [A],       [B],        [C],     [D]\n",
       " [[       0,    4.92202, 0.0639713,          0,       0],\n",
       "  [ 1.57895,      1.171,    0.6488,   0.710404, 1.15057],\n",
       "  [ 3.15789,   0.215745,   0.48492,   0.552099, 1.76201],\n",
       "  [ 4.73684,   0.207691,  0.358187,   0.519346, 2.16073],\n",
       "  [ 6.31579,   0.036059,  0.110397,   0.263265, 2.27276],\n",
       "  [ 7.89474,  0.0220219,  0.146917,  0.0593564, 2.27632],\n",
       "  [ 9.47368,  0.0141397,  0.158053,  0.0394737, 2.37374],\n",
       "  [ 11.0526,  0.0528474,  0.213726,   0.084201, 2.41947],\n",
       "  [ 12.6316, 0.00740216, 0.0202281, 0.00693384, 2.47752],\n",
       "  [ 14.2105,          0,  0.235974,  0.0983962, 2.48666],\n",
       "  [ 15.7895,  0.0516784,  0.133527,   0.209087, 2.38483],\n",
       "  [ 17.3684,          0,         0,          0, 2.25569],\n",
       "  [ 18.9474,          0,         0,   0.240994, 2.37743],\n",
       "  [ 20.5263,          0, 0.0756819,   0.303637,  2.5884],\n",
       "  [ 22.1053,  0.0290896, 0.0511311,          0, 2.45803],\n",
       "  [ 23.6842,          0, 0.0451696,   0.159058,  2.5179],\n",
       "  [ 25.2632,   0.129495, 0.0717698,   0.105474, 2.37389],\n",
       "  [ 26.8421,   0.029195,  0.172673,  0.0526613, 2.41308],\n",
       "  [ 28.4211,  0.0664907,         0,          0, 2.40164],\n",
       "  [      30,  0.0772581,  0.132129, 0.00106342, 2.57527]]"
      ]
     },
     "execution_count": 33,
     "metadata": {},
     "output_type": "execute_result"
    }
   ],
   "source": [
    "obs_data"
   ]
  },
  {
   "cell_type": "code",
   "execution_count": 36,
   "metadata": {},
   "outputs": [
    {
     "data": {
      "text/plain": [
       "array([[ 6.39713375e-02, -1.49143852e-01,  5.32441422e-03,\n",
       "         5.99386346e-02],\n",
       "       [-8.95528472e-02,  3.11244353e-03,  4.85649146e-02,\n",
       "         1.26683742e-01],\n",
       "       [-5.12210588e-02,  1.75909005e-01,  8.21101726e-02,\n",
       "        -4.46376954e-02],\n",
       "       [-3.91893308e-02,  4.09610850e-02,  2.01366018e-02,\n",
       "         1.73257238e-02],\n",
       "       [ 4.66213917e-02,  1.49853772e-01, -2.07892232e-02,\n",
       "         1.13122190e-01],\n",
       "       [ 0.00000000e+00,  6.04792650e-02, -1.00368557e-01,\n",
       "         7.86045283e-03],\n",
       "       [-4.64742362e-03, -6.35418283e-02, -1.95490505e-03,\n",
       "         2.09561575e-02],\n",
       "       [ 6.33284471e-02,  6.10589546e-02, -4.94211457e-02,\n",
       "        -1.85336723e-01],\n",
       "       [-6.90522654e-02,  1.37448690e-01,  3.35616307e-03,\n",
       "         6.00743651e-02],\n",
       "       [-8.66321074e-02, -4.97641075e-02, -6.32419644e-02,\n",
       "         1.08607959e-01],\n",
       "       [ 0.00000000e+00, -1.09311837e-01,  4.54964310e-02,\n",
       "         1.92832527e-01],\n",
       "       [ 3.47472516e-02, -1.13088425e-01, -9.86728914e-02,\n",
       "        -3.15036623e-02],\n",
       "       [-9.31787431e-02,  9.66787525e-03,  1.29006272e-01,\n",
       "        -7.33014014e-02],\n",
       "       [ 1.73140649e-01,  2.40252732e-01, -5.96582533e-02,\n",
       "         1.02550252e-01],\n",
       "       [ 5.16619280e-02,  1.17825621e-03, -4.94529337e-02,\n",
       "        -4.66067232e-02],\n",
       "       [-7.79801814e-02, -3.11604589e-02, -7.32923098e-02,\n",
       "         1.38195743e-01],\n",
       "       [ 1.93497873e-02,  1.80044099e-02,  1.31736982e-02,\n",
       "         5.26151602e-02],\n",
       "       [ 7.34632271e-03, -1.34264905e-05,  5.16751878e-02,\n",
       "        -7.76184753e-07],\n",
       "       [-1.86623527e-07, -4.48711992e-08,  2.90895879e-02,\n",
       "        -2.59481181e-09],\n",
       "       [ 1.29495404e-01,  2.91949615e-02,  6.64907052e-02,\n",
       "         7.72581019e-02]])"
      ]
     },
     "execution_count": 36,
     "metadata": {},
     "output_type": "execute_result"
    }
   ],
   "source": [
    "# Construct the matrix of residuals\n",
    "residuals_matrix = mf.makeResidualsMatrix(obs_data, model=new_model, \n",
    "                                          parameters=fitted_parameters, \n",
    "                                          num_points=num_points, sim_time=sim_time)\n",
    "residuals_matrix"
   ]
  },
  {
   "cell_type": "code",
   "execution_count": 37,
   "metadata": {},
   "outputs": [
    {
     "data": {
      "text/plain": [
       "[0.9337976118040896,\n",
       " 0.7049461652532947,\n",
       " 0.8995942284841971,\n",
       " 0.8139828325986223]"
      ]
     },
     "execution_count": 37,
     "metadata": {},
     "output_type": "execute_result"
    }
   ],
   "source": [
    "# Do the cross validation for this model. the crossValidate function returns two values: list of\n",
    "# the parameters (for each fold) and RSQs for each fold.\n",
    "list_parameters, rsqs = mf.crossValidate(obs_data, model=new_model, parameters=fitted_parameters, \n",
    "                                         num_points=num_points, \n",
    "                                         sim_time=sim_time,\n",
    "                                         num_folds=4)\n",
    "rsqs"
   ]
  },
  {
   "cell_type": "code",
   "execution_count": 38,
   "metadata": {},
   "outputs": [
    {
     "ename": "TypeError",
     "evalue": "Improper input: N=3 must not exceed M=0",
     "output_type": "error",
     "traceback": [
      "\u001b[0;31m--------------------------------------------------------------------------\u001b[0m",
      "\u001b[0;31mTypeError\u001b[0m                                Traceback (most recent call last)",
      "\u001b[0;32m<ipython-input-38-222a140a4db4>\u001b[0m in \u001b[0;36m<module>\u001b[0;34m\u001b[0m\n\u001b[0;32m----> 1\u001b[0;31m \u001b[0mlist_parameters\u001b[0m \u001b[0;34m=\u001b[0m \u001b[0mmakeParametersList\u001b[0m\u001b[0;34m(\u001b[0m\u001b[0mnew_model\u001b[0m\u001b[0;34m,\u001b[0m \u001b[0mfitted_parameters\u001b[0m\u001b[0;34m,\u001b[0m \u001b[0mresiduals_matrix\u001b[0m\u001b[0;34m,\u001b[0m \u001b[0mnum_points\u001b[0m\u001b[0;34m,\u001b[0m \u001b[0msim_time\u001b[0m\u001b[0;34m)\u001b[0m\u001b[0;34m\u001b[0m\u001b[0;34m\u001b[0m\u001b[0m\n\u001b[0m\u001b[1;32m      2\u001b[0m \u001b[0mlist_parameters\u001b[0m\u001b[0;34m\u001b[0m\u001b[0;34m\u001b[0m\u001b[0m\n",
      "\u001b[0;32m<ipython-input-25-4b35e4a0d4e3>\u001b[0m in \u001b[0;36mmakeParametersList\u001b[0;34m(model, fitted_parameters, residuals_matrix, num_points, sim_time)\u001b[0m\n\u001b[1;32m      5\u001b[0m             fitted_parameters, num_points, sim_time)\n\u001b[1;32m      6\u001b[0m         fitted_parameters = mf.fit(obs_data, model=model, \n\u001b[0;32m----> 7\u001b[0;31m             parameters=fitted_parameters, num_points=num_points, sim_time=sim_time)\n\u001b[0m\u001b[1;32m      8\u001b[0m         \u001b[0mlist_parameters\u001b[0m\u001b[0;34m.\u001b[0m\u001b[0mappend\u001b[0m\u001b[0;34m(\u001b[0m\u001b[0mfitted_parameters\u001b[0m\u001b[0;34m)\u001b[0m\u001b[0;34m\u001b[0m\u001b[0;34m\u001b[0m\u001b[0m\n\u001b[1;32m      9\u001b[0m     \u001b[0;32mreturn\u001b[0m \u001b[0mlist_parameters\u001b[0m\u001b[0;34m\u001b[0m\u001b[0;34m\u001b[0m\u001b[0m\n",
      "\u001b[0;32m~/advancing-biomedical-models/lectures/lecture_11/model_fitting.py\u001b[0m in \u001b[0;36mfit\u001b[0;34m(obs_data, indices, parameters, method, **kwargs)\u001b[0m\n\u001b[1;32m    389\u001b[0m   \u001b[0;31m# Estimate the parameters for this fold\u001b[0m\u001b[0;34m\u001b[0m\u001b[0;34m\u001b[0m\u001b[0;34m\u001b[0m\u001b[0m\n\u001b[1;32m    390\u001b[0m   \u001b[0mfitter\u001b[0m \u001b[0;34m=\u001b[0m \u001b[0mlmfit\u001b[0m\u001b[0;34m.\u001b[0m\u001b[0mMinimizer\u001b[0m\u001b[0;34m(\u001b[0m\u001b[0mcalcLmfitResiduals\u001b[0m\u001b[0;34m,\u001b[0m \u001b[0mparameters\u001b[0m\u001b[0;34m)\u001b[0m\u001b[0;34m\u001b[0m\u001b[0;34m\u001b[0m\u001b[0m\n\u001b[0;32m--> 391\u001b[0;31m   \u001b[0mfitter_result\u001b[0m \u001b[0;34m=\u001b[0m \u001b[0mfitter\u001b[0m\u001b[0;34m.\u001b[0m\u001b[0mminimize\u001b[0m\u001b[0;34m(\u001b[0m\u001b[0mmethod\u001b[0m\u001b[0;34m=\u001b[0m\u001b[0mmethod\u001b[0m\u001b[0;34m)\u001b[0m\u001b[0;34m\u001b[0m\u001b[0;34m\u001b[0m\u001b[0m\n\u001b[0m\u001b[1;32m    392\u001b[0m   \u001b[0;32mreturn\u001b[0m \u001b[0mfitter_result\u001b[0m\u001b[0;34m.\u001b[0m\u001b[0mparams\u001b[0m\u001b[0;34m\u001b[0m\u001b[0;34m\u001b[0m\u001b[0m\n\u001b[1;32m    393\u001b[0m \u001b[0;34m\u001b[0m\u001b[0m\n",
      "\u001b[0;32m~/miniconda3/lib/python3.6/site-packages/lmfit/minimizer.py\u001b[0m in \u001b[0;36mminimize\u001b[0;34m(self, method, params, **kws)\u001b[0m\n\u001b[1;32m   2115\u001b[0m                         val.lower().startswith(user_method)):\n\u001b[1;32m   2116\u001b[0m                     \u001b[0mkwargs\u001b[0m\u001b[0;34m[\u001b[0m\u001b[0;34m'method'\u001b[0m\u001b[0;34m]\u001b[0m \u001b[0;34m=\u001b[0m \u001b[0mval\u001b[0m\u001b[0;34m\u001b[0m\u001b[0;34m\u001b[0m\u001b[0m\n\u001b[0;32m-> 2117\u001b[0;31m         \u001b[0;32mreturn\u001b[0m \u001b[0mfunction\u001b[0m\u001b[0;34m(\u001b[0m\u001b[0;34m**\u001b[0m\u001b[0mkwargs\u001b[0m\u001b[0;34m)\u001b[0m\u001b[0;34m\u001b[0m\u001b[0;34m\u001b[0m\u001b[0m\n\u001b[0m\u001b[1;32m   2118\u001b[0m \u001b[0;34m\u001b[0m\u001b[0m\n\u001b[1;32m   2119\u001b[0m \u001b[0;34m\u001b[0m\u001b[0m\n",
      "\u001b[0;32m~/miniconda3/lib/python3.6/site-packages/lmfit/minimizer.py\u001b[0m in \u001b[0;36mleastsq\u001b[0;34m(self, params, **kws)\u001b[0m\n\u001b[1;32m   1501\u001b[0m \u001b[0;34m\u001b[0m\u001b[0m\n\u001b[1;32m   1502\u001b[0m         \u001b[0;32mtry\u001b[0m\u001b[0;34m:\u001b[0m\u001b[0;34m\u001b[0m\u001b[0;34m\u001b[0m\u001b[0m\n\u001b[0;32m-> 1503\u001b[0;31m             \u001b[0mlsout\u001b[0m \u001b[0;34m=\u001b[0m \u001b[0mscipy_leastsq\u001b[0m\u001b[0;34m(\u001b[0m\u001b[0mself\u001b[0m\u001b[0;34m.\u001b[0m\u001b[0m__residual\u001b[0m\u001b[0;34m,\u001b[0m \u001b[0mvariables\u001b[0m\u001b[0;34m,\u001b[0m \u001b[0;34m**\u001b[0m\u001b[0mlskws\u001b[0m\u001b[0;34m)\u001b[0m\u001b[0;34m\u001b[0m\u001b[0;34m\u001b[0m\u001b[0m\n\u001b[0m\u001b[1;32m   1504\u001b[0m         \u001b[0;32mexcept\u001b[0m \u001b[0mAbortFitException\u001b[0m\u001b[0;34m:\u001b[0m\u001b[0;34m\u001b[0m\u001b[0;34m\u001b[0m\u001b[0m\n\u001b[1;32m   1505\u001b[0m             \u001b[0;32mpass\u001b[0m\u001b[0;34m\u001b[0m\u001b[0;34m\u001b[0m\u001b[0m\n",
      "\u001b[0;32m~/miniconda3/lib/python3.6/site-packages/scipy/optimize/minpack.py\u001b[0m in \u001b[0;36mleastsq\u001b[0;34m(func, x0, args, Dfun, full_output, col_deriv, ftol, xtol, gtol, maxfev, epsfcn, factor, diag)\u001b[0m\n\u001b[1;32m    385\u001b[0m \u001b[0;34m\u001b[0m\u001b[0m\n\u001b[1;32m    386\u001b[0m     \u001b[0;32mif\u001b[0m \u001b[0mn\u001b[0m \u001b[0;34m>\u001b[0m \u001b[0mm\u001b[0m\u001b[0;34m:\u001b[0m\u001b[0;34m\u001b[0m\u001b[0;34m\u001b[0m\u001b[0m\n\u001b[0;32m--> 387\u001b[0;31m         \u001b[0;32mraise\u001b[0m \u001b[0mTypeError\u001b[0m\u001b[0;34m(\u001b[0m\u001b[0;34m'Improper input: N=%s must not exceed M=%s'\u001b[0m \u001b[0;34m%\u001b[0m \u001b[0;34m(\u001b[0m\u001b[0mn\u001b[0m\u001b[0;34m,\u001b[0m \u001b[0mm\u001b[0m\u001b[0;34m)\u001b[0m\u001b[0;34m)\u001b[0m\u001b[0;34m\u001b[0m\u001b[0;34m\u001b[0m\u001b[0m\n\u001b[0m\u001b[1;32m    388\u001b[0m \u001b[0;34m\u001b[0m\u001b[0m\n\u001b[1;32m    389\u001b[0m     \u001b[0;32mif\u001b[0m \u001b[0mepsfcn\u001b[0m \u001b[0;32mis\u001b[0m \u001b[0;32mNone\u001b[0m\u001b[0;34m:\u001b[0m\u001b[0;34m\u001b[0m\u001b[0;34m\u001b[0m\u001b[0m\n",
      "\u001b[0;31mTypeError\u001b[0m: Improper input: N=3 must not exceed M=0"
     ]
    }
   ],
   "source": [
    "list_parameters = makeParametersList(new_model, fitted_parameters, residuals_matrix, num_points, sim_time)\n",
    "list_parameters"
   ]
  },
  {
   "cell_type": "code",
   "execution_count": null,
   "metadata": {},
   "outputs": [],
   "source": [
    "# Here's the result\n",
    "makeParameterStatistics(list_parameters)"
   ]
  }
 ],
 "metadata": {
  "kernelspec": {
   "display_name": "Python 3",
   "language": "python",
   "name": "python3"
  },
  "language_info": {
   "codemirror_mode": {
    "name": "ipython",
    "version": 3
   },
   "file_extension": ".py",
   "mimetype": "text/x-python",
   "name": "python",
   "nbconvert_exporter": "python",
   "pygments_lexer": "ipython3",
   "version": "3.6.9"
  }
 },
 "nbformat": 4,
 "nbformat_minor": 4
}
