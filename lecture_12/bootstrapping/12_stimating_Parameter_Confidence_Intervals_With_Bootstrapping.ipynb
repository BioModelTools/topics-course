{
 "cells": [
  {
   "cell_type": "markdown",
   "metadata": {},
   "source": [
    "<span style=\"font-family:Papyrus; font-size:3em;\" >Estimating Parameter Confidence Intervals With Bootstrapping</span>"
   ]
  },
  {
   "cell_type": "markdown",
   "metadata": {},
   "source": [
    "This notebook demonstrates the calculations required to do confidence interval constructions.\n",
    "1. Construct a good model. This means checking that we get good $R^2$ values (or other model quality metrics) for each fold in a cross validation.\n",
    "1. Compute residuals for the good model.\n",
    "1. Construct a collection of parameter estimates. That is, for many repetitions\n",
    "   1. Construct new observations (by using randomly selected residuals)\n",
    "   1. Estimate parameter values\n",
    "1. Compute the mean and standard deviation of the parameter estimates\n",
    "1. Construct the confidence interval\n",
    "\n",
    "**SOME BUGS**"
   ]
  },
  {
   "cell_type": "markdown",
   "metadata": {},
   "source": [
    "# Programming Preliminaries"
   ]
  },
  {
   "cell_type": "code",
   "execution_count": 1,
   "metadata": {},
   "outputs": [],
   "source": [
    "IS_COLAB = False\n",
    "#\n",
    "if IS_COLAB:\n",
    "  !pip install matplotlib\n",
    "  !pip install numpy\n",
    "  !pip install tellurium\n",
    "  !pip install SBstoat\n",
    "#    \n",
    "# Constants for standalone notebook\n",
    "if not IS_COLAB:\n",
    "    CODE_DIRS = [\"/home/ubuntu/advancing-biomedical-models/common\"]\n",
    "    CODE_DIRS.append(\"/home/ubuntu/SBstoat\")\n",
    "    DATA_DIR = \"/home/ubuntu/advancing-biomedical-models/lecture_12\"\n",
    "else:\n",
    "    from google.colab import drive\n",
    "    drive.mount('/content/drive')\n",
    "    CODE_DIRS = [\"/content/drive/MyDrive/Modeling_Class/Winter 2021/common\"]\n",
    "    DATA_DIR = \"/content/drive/MyDrive/Modeling_Class/Lecture Notes/12_lecture\"\n",
    "import sys\n",
    "for path in CODE_DIRS:\n",
    "    sys.path.insert(0, path)\n",
    "# Other constants\n",
    "TIME = \"time\""
   ]
  },
  {
   "cell_type": "code",
   "execution_count": 2,
   "metadata": {},
   "outputs": [],
   "source": [
    "%matplotlib inline\n",
    "import numpy as np\n",
    "import lmfit   # Fitting lib\n",
    "import pandas as pd\n",
    "import matplotlib.pyplot as plt\n",
    "import matplotlib\n",
    "from SBstoat.modelFitter import ModelFitter\n",
    "from SBstoat.observationSynthesizer import ObservationSynthesizerRandomizedResiduals, ObservationSynthesizerRandomErrors\n",
    "from SBstoat.namedTimeseries import NamedTimeseries\n",
    "import model_fitting as mf"
   ]
  },
  {
   "cell_type": "markdown",
   "metadata": {},
   "source": [
    "# Model and Data"
   ]
  },
  {
   "cell_type": "code",
   "execution_count": 3,
   "metadata": {},
   "outputs": [
    {
     "data": {
      "text/html": [
       "<table><tr><th> name </th><th> value </th><th> initial value </th><th> min </th><th> max </th><th> vary </th></tr><tr><td> k1 </td><td>  5.00000000 </td><td> 5.0 </td><td>  0.00000000 </td><td>  10.0000000 </td><td> True </td></tr><tr><td> k2 </td><td>  5.00000000 </td><td> 5.0 </td><td>  0.00000000 </td><td>  10.0000000 </td><td> True </td></tr></table>"
      ],
      "text/plain": [
       "Parameters([('k1', <Parameter 'k1', value=5.0, bounds=[0:10]>),\n",
       "            ('k2', <Parameter 'k2', value=5.0, bounds=[0:10]>)])"
      ]
     },
     "execution_count": 3,
     "metadata": {},
     "output_type": "execute_result"
    }
   ],
   "source": [
    "# Model used in this example\n",
    "MODEL = \"\"\"\n",
    "     A -> B; k1*A\n",
    "     B -> C; k2*B\n",
    "      \n",
    "     A = 5;\n",
    "     B = 0;\n",
    "     C = 0;\n",
    "     k1 = 0.1\n",
    "     k2 = 0.2\n",
    "\"\"\"\n",
    "PARAMETERS_TO_FIT = [\"k1\", \"k2\"]\n",
    "PARAMETER_ESTIMATES = ModelFitter.mkParameters(parametersToFit=PARAMETERS_TO_FIT)\n",
    "PARAMETER_ESTIMATES"
   ]
  },
  {
   "cell_type": "code",
   "execution_count": 28,
   "metadata": {},
   "outputs": [],
   "source": [
    "# Globals\n",
    "NUM_POINTS = 30\n",
    "SIM_TIME= 30\n",
    "NOISE_STD = 0.3"
   ]
  },
  {
   "cell_type": "code",
   "execution_count": 29,
   "metadata": {},
   "outputs": [
    {
     "data": {
      "text/plain": [
       "                  A         B         C\n",
       "time                                   \n",
       "0.000000   5.026214  0.096980  0.233519\n",
       "1.034483   4.929909  0.717475  0.099611\n",
       "2.068966   4.054224  0.535628  0.489592\n",
       "3.103448   3.215071  1.237469  0.395731\n",
       "4.137931   3.169161  1.647774  0.972980\n",
       "5.172414   3.819261  0.875364 -0.058998\n",
       "6.206897   3.048047  1.249333  1.513524\n",
       "7.241379   2.787148  1.038012  1.801140\n",
       "8.275862   2.332460  1.744893  1.323397\n",
       "9.310345   2.365980  1.105612  1.798313\n",
       "10.344828  2.008223  1.285173  1.901395\n",
       "11.379310  1.228176  1.146790  2.407820\n",
       "12.413793  1.380282  0.721072  3.068548\n",
       "13.448276  1.357885  1.670652  3.071982\n",
       "14.482759  1.498346  1.321961  2.436897\n",
       "15.517241  1.034296  0.836646  2.954669\n",
       "16.551724  0.822259  0.997360  3.248405\n",
       "17.586207  0.831416  0.612855  3.378325\n",
       "18.620690  0.968184  0.839808  3.550553\n",
       "19.655172  0.623036  0.867585  3.350565\n",
       "20.689655  0.054722  0.692945  3.610196\n",
       "21.724138  0.729664  0.902832  3.904983\n",
       "22.758621  0.459937  0.573920  3.804113\n",
       "23.793103  0.423464  0.582542  3.967441\n",
       "24.827586  0.316210  0.277882  4.771215\n",
       "25.862069  0.974030  0.150397  4.300143\n",
       "26.896552 -0.004684  0.488416  4.716638\n",
       "27.931034  0.449659  0.174701  4.127617\n",
       "28.965517  0.048197  0.261778  4.914800\n",
       "30.000000  0.405385  0.403165  4.669685"
      ]
     },
     "execution_count": 29,
     "metadata": {},
     "output_type": "execute_result"
    }
   ],
   "source": [
    "fittedTS = ModelFitter.runSimulation(roadrunner=MODEL, numPoint=NUM_POINTS, endTime=SIM_TIME, returnDataFrame=False)\n",
    "synthesizer = ObservationSynthesizerRandomErrors(fittedTS=fittedTS, std=NOISE_STD)\n",
    "OBS_TS = synthesizer.calculate()\n",
    "OBS_TS"
   ]
  },
  {
   "cell_type": "code",
   "execution_count": 30,
   "metadata": {},
   "outputs": [
    {
     "data": {
      "text/plain": [
       "<Figure size 432x288 with 0 Axes>"
      ]
     },
     "metadata": {},
     "output_type": "display_data"
    }
   ],
   "source": [
    "def plotData(observedTS):\n",
    "    \"\"\"\n",
    "    Creates a scatter plot of the observed data.\n",
    "    \n",
    "    Parameters\n",
    "    ----------\n",
    "    observedTS: NamedTimeseries\n",
    "    \n",
    "    Returns\n",
    "    -------\n",
    "    \n",
    "    \"\"\"\n",
    "    figure, ax = plt.subplots(1)\n",
    "    for column in observedTS.colnames:\n",
    "        _ = ax.scatter(observedTS[TIME], observedTS[column])\n",
    "    _ = plt.legend(observedTS.colnames)\n",
    "    return figure\n",
    "        \n",
    "# Tests\n",
    "figure = plotData(OBS_TS)\n",
    "assert(isinstance(figure, matplotlib.figure.Figure))\n",
    "_ = figure.clear()"
   ]
  },
  {
   "cell_type": "code",
   "execution_count": 31,
   "metadata": {},
   "outputs": [
    {
     "data": {
      "image/png": "[encoded data removed]",
      "text/plain": [
       "<Figure size 432x288 with 1 Axes>"
      ]
     },
     "metadata": {
      "needs_background": "light"
     },
     "output_type": "display_data"
    }
   ],
   "source": [
    "_ = plotData(OBS_TS)"
   ]
  },
  {
   "cell_type": "markdown",
   "metadata": {},
   "source": [
    "# Bootstrapping Workflow"
   ]
  },
  {
   "cell_type": "markdown",
   "metadata": {},
   "source": [
    "## Construct a good model.\n",
    "In the following, we use the same model as the synthetic observations. Of course, in practice, you won't know the \"true\" model."
   ]
  },
  {
   "cell_type": "markdown",
   "metadata": {},
   "source": [
    "First, we need to estimate the parameter values to use in our model. To this end, we do a fit on the full set of data."
   ]
  },
  {
   "cell_type": "code",
   "execution_count": 8,
   "metadata": {},
   "outputs": [
    {
     "name": "stderr",
     "output_type": "stream",
     "text": [
      "/home/ubuntu/advancing-biomedical-models/cls/lib/python3.6/site-packages/roadrunner/roadrunner.py:3944: UserWarning:\n",
      "\n",
      "Simulation requested end point (30.000000000000004) not reached, because the maximum number of steps reached.  Possible solutions include:\n",
      "  * Setting an explicit number of points (i.e. r.simulate(0.0, 30.000000000000004, 1001)\n",
      "  * Setting r.integrator.variable_step_size to 'False'\n",
      "* Setting \n",
      "\n"
     ]
    },
    {
     "data": {
      "text/html": [
       "<table><tr><th> name </th><th> value </th><th> standard error </th><th> relative error </th><th> initial value </th><th> min </th><th> max </th><th> vary </th></tr><tr><td> k1 </td><td>  0.09904200 </td><td>  0.00287913 </td><td> (2.91%) </td><td> 7.729242718269962 </td><td>  0.00000000 </td><td>  10.0000000 </td><td> True </td></tr><tr><td> k2 </td><td>  0.19764925 </td><td>  0.01059010 </td><td> (5.36%) </td><td> 6.196442123419956 </td><td>  0.00000000 </td><td>  10.0000000 </td><td> True </td></tr></table>"
      ],
      "text/plain": [
       "Parameters([('k1',\n",
       "             <Parameter 'k1', value=0.09904200336838198 +/- 0.00288, bounds=[0:10]>),\n",
       "            ('k2',\n",
       "             <Parameter 'k2', value=0.19764924735004796 +/- 0.0106, bounds=[0:10]>)])"
      ]
     },
     "execution_count": 8,
     "metadata": {},
     "output_type": "execute_result"
    }
   ],
   "source": [
    "FITTER = ModelFitter(MODEL, OBS_TS, parametersToFit=[\"k1\", \"k2\"])\n",
    "FITTER.fitModel()\n",
    "FITTED_TS = FITTER.fittedTS\n",
    "PARAMETER_ESTIMATES = FITTER.params\n",
    "PARAMETER_ESTIMATES"
   ]
  },
  {
   "cell_type": "code",
   "execution_count": 9,
   "metadata": {},
   "outputs": [
    {
     "name": "stdout",
     "output_type": "stream",
     "text": [
      "[[Fit Statistics]]\n",
      "    chi-square         = 6.85491241\n",
      "    reduced chi-square = 0.07789673\n",
      "    Akaike info crit   = -227.735972\n",
      "    Bayesian info crit = -222.736353\n",
      "[[Variables]]\n",
      "    k1:  0.09904200 +/- 0.00287913 (2.91%) (init = 7.729243)\n",
      "    k2:  0.19764925 +/- 0.01059010 (5.36%) (init = 6.196442)\n",
      "[[Correlations]] (unreported correlations are < 0.100)\n",
      "    C(k1, k2) = -0.400\n"
     ]
    }
   ],
   "source": [
    "print(FITTER.reportFit())"
   ]
  },
  {
   "cell_type": "markdown",
   "metadata": {},
   "source": [
    "**Question**\n",
    "1. What are the parameter estimates if the NOSE_STD is 0.8?"
   ]
  },
  {
   "cell_type": "markdown",
   "metadata": {},
   "source": [
    "## Compute the Residuals\n",
    "Residuals need to be calculated by chemical species since they may be in very different units."
   ]
  },
  {
   "cell_type": "code",
   "execution_count": 10,
   "metadata": {},
   "outputs": [
    {
     "data": {
      "text/plain": [
       "                  A         B         C\n",
       "time                                   \n",
       "0.000000   0.344703 -0.370021 -0.378899\n",
       "1.034483   0.128074 -0.194012 -0.060964\n",
       "2.068966   0.305477 -0.101161 -0.078710\n",
       "3.103448   0.040445 -0.391894  0.006478\n",
       "4.137931   0.230517 -0.504015  0.166725\n",
       "5.172414   0.167493 -0.032685 -0.443560\n",
       "6.206897  -0.264987 -0.411991  0.116100\n",
       "7.241379  -0.133502 -0.124189  0.296766\n",
       "8.275862  -0.346631  0.717631 -0.510767\n",
       "9.310345  -0.294313  0.185117 -0.046101\n",
       "10.344828  0.225165  0.107663  0.040357\n",
       "11.379310 -0.578471  0.187888  0.275717\n",
       "12.413793  0.185901 -0.339562 -0.013100\n",
       "13.448276 -0.220224 -0.057309 -0.292319\n",
       "14.482759 -0.237955 -0.033963  0.163128\n",
       "15.517241  0.184640 -0.218781  0.093884\n",
       "16.551724 -0.190741 -0.421318 -0.299542\n",
       "17.586207  0.078650 -0.055088 -0.081625\n",
       "18.620690  0.175904 -0.140539 -0.236049\n",
       "19.655172  0.040697 -0.311869  0.143414\n",
       "20.689655  0.050580  0.257303 -0.268312\n",
       "21.724138  0.334747  0.265075 -0.336475\n",
       "22.758621 -0.517770 -0.077736  0.105998\n",
       "23.793103  0.115377  0.252710  0.053208\n",
       "24.827586  0.031301 -0.473511 -0.282015\n",
       "25.862069  0.132192  0.158749 -0.026295\n",
       "26.896552  0.015439 -0.477743  0.156263\n",
       "27.931034  0.120561 -0.000452 -0.111562\n",
       "28.965517 -0.104588  0.352798  0.510906\n",
       "30.000000 -0.600374  0.580717  0.369846"
      ]
     },
     "execution_count": 10,
     "metadata": {},
     "output_type": "execute_result"
    }
   ],
   "source": [
    "# Note that the residuals for the chemical species differ. Compare the residuals for A (1st col) with\n",
    "# the residuals for C (3rd col)\n",
    "columns = FITTED_TS.colnames\n",
    "RESIDUALS_TS = OBS_TS.copy()  # Create the shape of the residuals\n",
    "RESIDUALS_TS[columns] -= FITTED_TS[columns]\n",
    "RESIDUALS_TS"
   ]
  },
  {
   "cell_type": "code",
   "execution_count": 11,
   "metadata": {},
   "outputs": [
    {
     "data": {
      "text/plain": [
       "0.2736503988421756"
      ]
     },
     "execution_count": 11,
     "metadata": {},
     "output_type": "execute_result"
    }
   ],
   "source": [
    "# The standard deviation of the residuals should be approximately the same as the standard deviation\n",
    "# of the random noise we injected in the construction of the observations.\n",
    "np.std(RESIDUALS_TS.flatten())"
   ]
  },
  {
   "cell_type": "markdown",
   "metadata": {},
   "source": [
    "A validation of our codes and workflow is that the standard deviation of the residuals is close to the standard deviation of the noise used in the observational data."
   ]
  },
  {
   "cell_type": "markdown",
   "metadata": {},
   "source": [
    "## Construct a Collection of Parameter Estimates"
   ]
  },
  {
   "cell_type": "markdown",
   "metadata": {},
   "source": [
    "### Step 3a: Construct Synthetic Observations\n",
    "We define a function that constructs a set of observations from residuals and a model."
   ]
  },
  {
   "cell_type": "code",
   "execution_count": 12,
   "metadata": {},
   "outputs": [],
   "source": [
    "synthesizer = ObservationSynthesizerRandomizedResiduals(fittedTS=FITTED_TS, observedTS=OBS_TS, residualsTS=RESIDUALS_TS)"
   ]
  },
  {
   "cell_type": "code",
   "execution_count": 13,
   "metadata": {},
   "outputs": [
    {
     "data": {
      "text/plain": [
       "                  A         B         C\n",
       "time                                   \n",
       "0.000000   5.334747  0.158749 -0.510767\n",
       "1.034483   4.688988 -0.064419 -0.289155\n",
       "2.068966   4.152235  0.913844 -0.207578\n",
       "3.103448   3.411899  0.918525 -0.029397\n",
       "4.137931   3.185316  1.381921  0.485626\n",
       "5.172414   2.804880  1.061572  0.520254\n",
       "6.206897   2.879802  1.209231  0.716433\n",
       "7.241379   2.249842  1.218347  1.605151\n",
       "8.275862   2.318288  1.491571  1.226345\n",
       "9.310345   1.768161  1.005697  1.433007\n",
       "10.344828  1.556794  1.152228  2.105779\n",
       "11.379310  1.740532  1.285211  1.771939\n",
       "12.413793  1.328710  0.896297  2.422241\n",
       "13.448276  1.129076  0.581770  2.645554\n",
       "14.482759  1.496767  1.490372  3.174773\n",
       "15.517241  1.242772  0.788872  3.085018\n",
       "16.551724  0.750340  0.891908  2.801630\n",
       "17.586207  0.996608  0.246814  3.131084\n",
       "18.620690  0.841315  0.473584  3.594878\n",
       "19.655172  0.764311  0.798783  3.626502\n",
       "20.689655  0.349912  0.085197  4.068552\n",
       "21.724138 -0.018885  0.175921  3.524130\n",
       "22.758621  0.652935  0.723996  4.300619\n",
       "23.793103  0.235793  0.352547  4.262694\n",
       "24.827586 -0.090157  0.335058  3.943970\n",
       "25.862069  0.571873  0.017845  4.296979\n",
       "26.896552  0.693087  0.324799  4.623131\n",
       "27.931034  0.539622  0.480853  4.443015\n",
       "28.965517 -0.010479  0.213609  3.936702\n",
       "30.000000  0.423687  0.509040  4.869688"
      ]
     },
     "execution_count": 13,
     "metadata": {},
     "output_type": "execute_result"
    }
   ],
   "source": [
    "synthesizer.calculate()"
   ]
  },
  {
   "cell_type": "code",
   "execution_count": 14,
   "metadata": {},
   "outputs": [
    {
     "data": {
      "text/plain": [
       "                  A         B         C\n",
       "time                                   \n",
       "0.000000   5.334747  0.717631  0.053208\n",
       "1.034483   4.563664  1.020313  0.100529\n",
       "2.068966   4.304102  0.913844  0.314734\n",
       "3.103448   3.861526  1.238688  0.270792\n",
       "4.137931   2.801048  0.724952  0.658220\n",
       "5.172414   3.116182  1.144801  0.908267\n",
       "6.206897   2.888538  1.428311  0.974198\n",
       "7.241379   1.840210  0.881011  1.475109\n",
       "8.275862   2.318288  1.015487  1.119260\n",
       "9.310345   2.218901  0.695694  1.543594\n",
       "10.344828  1.604008  1.409983  1.541803\n",
       "11.379310  1.925448  1.256072  2.236606\n",
       "12.413793  1.590287  1.004151  2.797718\n",
       "13.448276  1.664521  0.661795  3.217425\n",
       "14.482759  1.000548  0.497663  2.885956\n",
       "15.517241  1.090717  1.004930  2.999831\n",
       "16.551724  0.623933  0.280231  3.520908\n",
       "17.586207  1.181525  1.077355  3.493280\n",
       "18.620690  0.966639  0.667144  3.704798\n",
       "19.655172  0.889635  0.579703  3.835731\n",
       "20.689655  0.722875  0.251071  3.349275\n",
       "21.724138  0.622185  0.481520  3.524130\n",
       "22.758621  0.603511  0.370124  4.373699\n",
       "23.793103 -0.044022  0.589031  4.465815\n",
       "24.827586  0.323025  0.251829  4.455737\n",
       "25.862069  0.165747  0.256246  4.177912\n",
       "26.896552  0.157643  0.577961  4.366723\n",
       "27.931034  0.481951 -0.043826  4.153757\n",
       "28.965517 -0.316539  0.456584  4.603732\n",
       "30.000000 -0.322278  0.961596  4.643256"
      ]
     },
     "execution_count": 14,
     "metadata": {},
     "output_type": "execute_result"
    }
   ],
   "source": [
    "# Try running this several times to see how values change.\n",
    "synthesizer.calculate()"
   ]
  },
  {
   "cell_type": "markdown",
   "metadata": {},
   "source": [
    "### Repeatedly estimate parameter values"
   ]
  },
  {
   "cell_type": "code",
   "execution_count": 15,
   "metadata": {},
   "outputs": [
    {
     "name": "stderr",
     "output_type": "stream",
     "text": [
      "/home/ubuntu/advancing-biomedical-models/cls/lib/python3.6/site-packages/roadrunner/roadrunner.py:3944: UserWarning:\n",
      "\n",
      "Simulation requested end point (30.000000000000004) not reached, because the maximum number of steps reached.  Possible solutions include:\n",
      "  * Setting an explicit number of points (i.e. r.simulate(0.0, 30.000000000000004, 1001)\n",
      "  * Setting r.integrator.variable_step_size to 'False'\n",
      "* Setting \n",
      "\n"
     ]
    }
   ],
   "source": [
    "def estimateParameters(model, observedTS, parametersToFit, numIteration=10):\n",
    "    estimateDct = {p: [] for p in parametersToFit}\n",
    "    # Get the initial estimates\n",
    "    fitter = ModelFitter(model, observedTS, parametersToFit=parametersToFit)\n",
    "    fitter.fitModel()\n",
    "    initialParams = fitter.params\n",
    "    # Create the observation synthesizer\n",
    "    synthesizer = ObservationSynthesizerRandomizedResiduals(fittedTS=fitter.fittedTS, observedTS=observedTS)\n",
    "    # Iterative calculate parameters\n",
    "    for _ in range(numIteration):\n",
    "        newObservedTS = synthesizer.calculate()\n",
    "        newFitter = ModelFitter(model, newObservedTS, parametersToFit=parametersToFit)\n",
    "        newFitter.fitModel(params=initialParams)\n",
    "        [estimateDct[p].append(newFitter.params.valuesdict()[p]) for p in parametersToFit]\n",
    "    return estimateDct\n",
    "\n",
    "# Tests\n",
    "numIteration = 5\n",
    "estimateDct = estimateParameters(MODEL, OBS_TS, PARAMETERS_TO_FIT, numIteration=numIteration)\n",
    "assert(len(estimateDct[PARAMETERS_TO_FIT[0]]) == len(estimateDct[PARAMETERS_TO_FIT[1]]))\n",
    "assert(len(estimateDct[PARAMETERS_TO_FIT[0]]) == numIteration)"
   ]
  },
  {
   "cell_type": "code",
   "execution_count": 16,
   "metadata": {},
   "outputs": [
    {
     "data": {
      "image/png": "[encoded data removed]",
      "text/plain": [
       "<Figure size 432x288 with 1 Axes>"
      ]
     },
     "metadata": {
      "needs_background": "light"
     },
     "output_type": "display_data"
    }
   ],
   "source": [
    "ESTIMATE_DCT = estimateParameters(MODEL, OBS_TS, PARAMETERS_TO_FIT, numIteration=1000)\n",
    "def plotHist(parameter):\n",
    "    _ = plt.hist(ESTIMATE_DCT[parameter],bins=1000)\n",
    "    plt.xlim([0, 1])\n",
    "\n",
    "for parameter in PARAMETERS_TO_FIT:\n",
    "    plotHist(parameter)\n",
    "_ = plt.legend(PARAMETERS_TO_FIT)"
   ]
  },
  {
   "cell_type": "markdown",
   "metadata": {},
   "source": [
    "**Questions**\n",
    "1. How do the quality of the parameter estimates change with the number of simulation points? With the simulation time?"
   ]
  },
  {
   "cell_type": "markdown",
   "metadata": {},
   "source": [
    "## Compute Confidence Intervals"
   ]
  },
  {
   "cell_type": "code",
   "execution_count": 17,
   "metadata": {},
   "outputs": [
    {
     "data": {
      "text/plain": [
       "array([0.9, 8.1])"
      ]
     },
     "execution_count": 17,
     "metadata": {},
     "output_type": "execute_result"
    }
   ],
   "source": [
    "np.quantile(range(10), [.10, .90])"
   ]
  },
  {
   "cell_type": "markdown",
   "metadata": {},
   "source": [
    "**Question**\n",
    "1. Calculate 95% confidence intervals for the parameters.\n",
    "   1. How many iterations should you use?"
   ]
  },
  {
   "cell_type": "code",
   "execution_count": 18,
   "metadata": {},
   "outputs": [
    {
     "name": "stdout",
     "output_type": "stream",
     "text": [
      "k1: [0.09574023 0.10323049]\n",
      "k2: [0.17541907 0.21321552]\n"
     ]
    }
   ],
   "source": [
    "# Solution\n",
    "for parameter in estimateDct.keys():\n",
    "    quantile = np.quantile(estimateDct[parameter], [0.025, 0.975])\n",
    "    print(\"%s: %s\" % (parameter, str(quantile)))"
   ]
  },
  {
   "cell_type": "markdown",
   "metadata": {},
   "source": [
    "**Questions**\n",
    "1. Why does ``k1`` have such a wide confidence interval?"
   ]
  },
  {
   "cell_type": "markdown",
   "metadata": {},
   "source": [
    "# Exercise\n",
    "\n",
    "TRUE MODEL:\n",
    "\n",
    "- A -> B\n",
    "- A -> C\n",
    "- B + C -> D\n",
    "\n",
    "All kinetics are mass action. The kinetics constants are (in order of the reactions): 0.5, 0.5, 1.0. The initial concentration of A is 5. Consider a time course of duration 30 with 20 points.\n",
    "\n",
    "\n",
    "1. Generate synthetic observations using this model using a normally distributed noise with a standard deviation\n",
    "of 0.1.\n",
    "1. Using the true model (the one above), find the $R^2$ values in a cross validation with 4 folds.\n",
    "1. Construct confidence intervals for the parameters."
   ]
  },
  {
   "cell_type": "code",
   "execution_count": 81,
   "metadata": {},
   "outputs": [],
   "source": [
    "# Model used in this example\n",
    "NEW_MODEL = \"\"\"\n",
    "     $A -> B; k1*$A\n",
    "     $A -> C; k2*$A\n",
    "     B + C -> $D; k3*B*C\n",
    "     \n",
    "     A = 5;\n",
    "     B = 0;\n",
    "     C = 0;\n",
    "     D = 4;\n",
    "     k1 = 0.49\n",
    "     k2 = 0.5\n",
    "     k3 = 1.3\n",
    "\"\"\""
   ]
  },
  {
   "cell_type": "code",
   "execution_count": 83,
   "metadata": {},
   "outputs": [],
   "source": [
    "# Solution: Constants\n",
    "NEW_NUM_POINT = 100\n",
    "NEW_END_TIME = 30\n",
    "NEW_NOISE_STD = 0.25"
   ]
  },
  {
   "cell_type": "code",
   "execution_count": 84,
   "metadata": {},
   "outputs": [
    {
     "data": {
      "image/png": "[encoded data removed]",
      "text/plain": [
       "<Figure size 432x288 with 1 Axes>"
      ]
     },
     "metadata": {
      "needs_background": "light"
     },
     "output_type": "display_data"
    }
   ],
   "source": [
    "# Plot of the ground truth model\n",
    "fittedTS = ModelFitter.runSimulation(roadrunner=NEW_MODEL, numPoint=NEW_NUM_POINT, endTime=NEW_END_TIME,\n",
    "                                     returnDataFrame=False)\n",
    "synthesizer = ObservationSynthesizerRandomErrors(fittedTS=fittedTS, std=0.0)\n",
    "_ = plotData(synthesizer.calculate())"
   ]
  },
  {
   "cell_type": "code",
   "execution_count": null,
   "metadata": {},
   "outputs": [],
   "source": []
  },
  {
   "cell_type": "markdown",
   "metadata": {},
   "source": [
    "## Generate randomized observations"
   ]
  },
  {
   "cell_type": "markdown",
   "metadata": {},
   "source": [
    "**Question**\n",
    "1. Generate data with 100 points over 30 s and a stardard deviation of 0.25."
   ]
  },
  {
   "cell_type": "code",
   "execution_count": 85,
   "metadata": {
    "jupyter": {
     "source_hidden": true
    }
   },
   "outputs": [
    {
     "data": {
      "image/png": "[encoded data removed]",
      "text/plain": [
       "<Figure size 432x288 with 1 Axes>"
      ]
     },
     "metadata": {
      "needs_background": "light"
     },
     "output_type": "display_data"
    }
   ],
   "source": [
    "# Solution\n",
    "\n",
    "fittedTS = ModelFitter.runSimulation(roadrunner=NEW_MODEL, numPoint=NEW_NUM_POINT, endTime=NEW_END_TIME,\n",
    "                                     returnDataFrame=False)\n",
    "synthesizer = ObservationSynthesizerRandomErrors(fittedTS=fittedTS, std=NEW_NOISE_STD)\n",
    "NEW_OBS_TS = synthesizer.calculate()\n",
    "_ = plotData(NEW_OBS_TS)"
   ]
  },
  {
   "cell_type": "markdown",
   "metadata": {},
   "source": [
    "**Questions**\n",
    "1. For what part of these data will it be difficult to estimate the dynamics and therefore the kinetics constants?"
   ]
  },
  {
   "cell_type": "markdown",
   "metadata": {},
   "source": [
    "## Construct a good fit of the model"
   ]
  },
  {
   "cell_type": "markdown",
   "metadata": {},
   "source": [
    "## Estimate the residuals"
   ]
  },
  {
   "cell_type": "markdown",
   "metadata": {},
   "source": [
    "## Construct bootstrap estimates"
   ]
  },
  {
   "cell_type": "markdown",
   "metadata": {},
   "source": [
    "# Bootstrapping With SBstoat"
   ]
  }
 ],
 "metadata": {
  "kernelspec": {
   "display_name": "Python 3",
   "language": "python",
   "name": "python3"
  },
  "language_info": {
   "codemirror_mode": {
    "name": "ipython",
    "version": 3
   },
   "file_extension": ".py",
   "mimetype": "text/x-python",
   "name": "python",
   "nbconvert_exporter": "python",
   "pygments_lexer": "ipython3",
   "version": "3.6.9"
  }
 },
 "nbformat": 4,
 "nbformat_minor": 4
}
