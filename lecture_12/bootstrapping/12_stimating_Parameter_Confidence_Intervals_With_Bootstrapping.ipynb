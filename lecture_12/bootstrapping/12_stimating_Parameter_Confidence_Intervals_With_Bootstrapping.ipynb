{
 "cells": [
  {
   "cell_type": "markdown",
   "metadata": {},
   "source": [
    "<span style=\"font-family:Papyrus; font-size:3em;\" >Estimating Parameter Confidence Intervals With Bootstrapping</span>"
   ]
  },
  {
   "cell_type": "markdown",
   "metadata": {},
   "source": [
    "This notebook demonstrates the calculations required to do confidence interval constructions.\n",
    "1. Construct a good model. This means checking that we get good $R^2$ values (or other model quality metrics) for each fold in a cross validation.\n",
    "1. Compute residuals for the good model.\n",
    "1. Construct a collection of parameter estimates. That is, for many repetitions\n",
    "   1. Construct new observations (by using randomly selected residuals)\n",
    "   1. Estimate parameter values\n",
    "1. Compute the mean and standard deviation of the parameter estimates\n",
    "1. Construct the confidence interval\n",
    "\n",
    "**SOME BUGS**"
   ]
  },
  {
   "cell_type": "markdown",
   "metadata": {},
   "source": [
    "# Programming Preliminaries"
   ]
  },
  {
   "cell_type": "code",
   "execution_count": 1,
   "metadata": {},
   "outputs": [],
   "source": [
    "IS_COLAB = False\n",
    "#\n",
    "if IS_COLAB:\n",
    "  !pip install matplotlib\n",
    "  !pip install numpy\n",
    "  !pip install tellurium\n",
    "  !pip install SBstoat\n",
    "#    \n",
    "# Constants for standalone notebook\n",
    "if not IS_COLAB:\n",
    "    CODE_DIR = \"/home/ubuntu/advancing-biomedical-models/common\"\n",
    "    DATA_DIR = \"/home/ubuntu/advancing-biomedical-models/lecture_12\"\n",
    "else:\n",
    "    from google.colab import drive\n",
    "    drive.mount('/content/drive')\n",
    "    CODE_DIR = \"/content/drive/MyDrive/Modeling_Class/Winter 2021/common\"\n",
    "    DATA_DIR = \"/content/drive/MyDrive/Modeling_Class/Lecture Notes/12_lecture\"\n",
    "import sys\n",
    "sys.path.insert(0, CODE_DIR)"
   ]
  },
  {
   "cell_type": "code",
   "execution_count": 16,
   "metadata": {},
   "outputs": [],
   "source": [
    "%matplotlib inline\n",
    "import tellurium as te\n",
    "import numpy as np\n",
    "import lmfit   # Fitting lib\n",
    "import math\n",
    "import pandas as pd\n",
    "import random \n",
    "import matplotlib.pyplot as plt\n",
    "import model_fitting as mf"
   ]
  },
  {
   "cell_type": "markdown",
   "metadata": {},
   "source": [
    "# Running Example"
   ]
  },
  {
   "cell_type": "code",
   "execution_count": 27,
   "metadata": {},
   "outputs": [
    {
     "data": {
      "text/html": [
       "<table><tr><th> name </th><th> value </th><th> initial value </th><th> min </th><th> max </th><th> vary </th></tr><tr><td> k1 </td><td>  1.00000000 </td><td> 1 </td><td>  0.00000000 </td><td>  10.0000000 </td><td> True </td></tr><tr><td> k2 </td><td>  1.00000000 </td><td> 1 </td><td>  0.00000000 </td><td>  10.0000000 </td><td> True </td></tr></table>"
      ],
      "text/plain": [
       "Parameters([('k1', <Parameter 'k1', value=1, bounds=[0:10]>),\n",
       "            ('k2', <Parameter 'k2', value=1, bounds=[0:10]>)])"
      ]
     },
     "execution_count": 27,
     "metadata": {},
     "output_type": "execute_result"
    }
   ],
   "source": [
    "# Model used in this example\n",
    "MODEL = \"\"\"\n",
    "     A -> B; k1*A\n",
    "     B -> C; k2*B\n",
    "      \n",
    "     A = 5;\n",
    "     B = 0;\n",
    "     C = 0;\n",
    "     k1 = 0.1\n",
    "     k2 = 0.2\n",
    "\"\"\"\n",
    "PARAMETERS = mf.makeParameters(constants=['k1', 'k2'])\n",
    "PARAMETERS"
   ]
  },
  {
   "cell_type": "code",
   "execution_count": 23,
   "metadata": {},
   "outputs": [],
   "source": [
    "# Globals\n",
    "NUM_POINTS = 10\n",
    "SIM_TIME= 30\n",
    "NOISE_STD = 0.5"
   ]
  },
  {
   "cell_type": "code",
   "execution_count": 26,
   "metadata": {},
   "outputs": [
    {
     "data": {
      "text/html": [
       "<div>\n",
       "<style scoped>\n",
       "    .dataframe tbody tr th:only-of-type {\n",
       "        vertical-align: middle;\n",
       "    }\n",
       "\n",
       "    .dataframe tbody tr th {\n",
       "        vertical-align: top;\n",
       "    }\n",
       "\n",
       "    .dataframe thead th {\n",
       "        text-align: right;\n",
       "    }\n",
       "</style>\n",
       "<table border=\"1\" class=\"dataframe\">\n",
       "  <thead>\n",
       "    <tr style=\"text-align: right;\">\n",
       "      <th></th>\n",
       "      <th>A</th>\n",
       "      <th>B</th>\n",
       "      <th>C</th>\n",
       "    </tr>\n",
       "    <tr>\n",
       "      <th>time</th>\n",
       "      <th></th>\n",
       "      <th></th>\n",
       "      <th></th>\n",
       "    </tr>\n",
       "  </thead>\n",
       "  <tbody>\n",
       "    <tr>\n",
       "      <th>0.0</th>\n",
       "      <td>5.040220</td>\n",
       "      <td>0.024335</td>\n",
       "      <td>0.000000</td>\n",
       "    </tr>\n",
       "    <tr>\n",
       "      <th>10.0</th>\n",
       "      <td>3.519032</td>\n",
       "      <td>1.502965</td>\n",
       "      <td>0.613172</td>\n",
       "    </tr>\n",
       "    <tr>\n",
       "      <th>20.0</th>\n",
       "      <td>1.974812</td>\n",
       "      <td>1.625296</td>\n",
       "      <td>0.415431</td>\n",
       "    </tr>\n",
       "    <tr>\n",
       "      <th>30.0</th>\n",
       "      <td>1.616254</td>\n",
       "      <td>0.352030</td>\n",
       "      <td>2.313080</td>\n",
       "    </tr>\n",
       "    <tr>\n",
       "      <th>40.0</th>\n",
       "      <td>1.460465</td>\n",
       "      <td>0.582922</td>\n",
       "      <td>2.423133</td>\n",
       "    </tr>\n",
       "    <tr>\n",
       "      <th>50.0</th>\n",
       "      <td>0.496355</td>\n",
       "      <td>0.953834</td>\n",
       "      <td>3.700574</td>\n",
       "    </tr>\n",
       "    <tr>\n",
       "      <th>60.0</th>\n",
       "      <td>1.454285</td>\n",
       "      <td>0.794454</td>\n",
       "      <td>3.433604</td>\n",
       "    </tr>\n",
       "    <tr>\n",
       "      <th>70.0</th>\n",
       "      <td>0.990112</td>\n",
       "      <td>0.827086</td>\n",
       "      <td>2.938302</td>\n",
       "    </tr>\n",
       "    <tr>\n",
       "      <th>80.0</th>\n",
       "      <td>0.289128</td>\n",
       "      <td>0.497820</td>\n",
       "      <td>3.612854</td>\n",
       "    </tr>\n",
       "    <tr>\n",
       "      <th>90.0</th>\n",
       "      <td>0.802528</td>\n",
       "      <td>0.000000</td>\n",
       "      <td>4.410234</td>\n",
       "    </tr>\n",
       "  </tbody>\n",
       "</table>\n",
       "</div>"
      ],
      "text/plain": [
       "             A         B         C\n",
       "time                              \n",
       "0.0   5.040220  0.024335  0.000000\n",
       "10.0  3.519032  1.502965  0.613172\n",
       "20.0  1.974812  1.625296  0.415431\n",
       "30.0  1.616254  0.352030  2.313080\n",
       "40.0  1.460465  0.582922  2.423133\n",
       "50.0  0.496355  0.953834  3.700574\n",
       "60.0  1.454285  0.794454  3.433604\n",
       "70.0  0.990112  0.827086  2.938302\n",
       "80.0  0.289128  0.497820  3.612854\n",
       "90.0  0.802528  0.000000  4.410234"
      ]
     },
     "execution_count": 26,
     "metadata": {},
     "output_type": "execute_result"
    }
   ],
   "source": [
    "# Create synthetic observational data for this example. This is for demonstration purposes only.\n",
    "# In practice, you will have observational data from experiments.\n",
    "OBS_DATA = mf.makeObservations(model=MODEL, noise_std=NOISE_STD, num_points=NUM_POINTS, sim_time=SIM_TIME)\n",
    "OBS_DATA"
   ]
  },
  {
   "cell_type": "markdown",
   "metadata": {},
   "source": [
    "# Bootstrapping Workflow"
   ]
  },
  {
   "cell_type": "markdown",
   "metadata": {},
   "source": [
    "## Construct a good model.\n",
    "In the following, we use the same model as the synthetic observations. Of course, in practice, you won't know the \"true\" model. You'll try many, and choose the best in terms of the quality metrics (e.g., $R^2$)."
   ]
  },
  {
   "cell_type": "code",
   "execution_count": 29,
   "metadata": {},
   "outputs": [
    {
     "data": {
      "text/plain": [
       "[0.08548919500095564, -0.0015800633399882802, -0.6070002807123489]"
      ]
     },
     "execution_count": 29,
     "metadata": {},
     "output_type": "execute_result"
    }
   ],
   "source": [
    "# Do the cross validation for this model. the crossValidate function returns two values: list of\n",
    "# the parameters (for each fold) and RSQs for each fold.\n",
    "list_parameters, rsqs = mf.crossValidate(obs_data, model=MODEL, parameters=PARAMETERS, \n",
    "                                         num_points=NUM_POINTS, \n",
    "                                         sim_time=SIM_TIME,\n",
    "                                         num_folds=3)\n",
    "rsqs"
   ]
  },
  {
   "cell_type": "markdown",
   "metadata": {},
   "source": [
    "These are very good $R^2$ values. So, we accept the model.\n",
    "\n",
    "Next, we need to estimate the parameter values to use in our model. To this end, we do a fit on the full set of data."
   ]
  },
  {
   "cell_type": "code",
   "execution_count": 30,
   "metadata": {},
   "outputs": [
    {
     "data": {
      "text/html": [
       "<table><tr><th> name </th><th> value </th><th> standard error </th><th> relative error </th><th> initial value </th><th> min </th><th> max </th><th> vary </th></tr><tr><td> k1 </td><td>  0.09277914 </td><td>  0.00771880 </td><td> (8.32%) </td><td> 1 </td><td>  0.00000000 </td><td>  10.0000000 </td><td> True </td></tr><tr><td> k2 </td><td>  0.18272811 </td><td>  0.02768280 </td><td> (15.15%) </td><td> 1 </td><td>  0.00000000 </td><td>  10.0000000 </td><td> True </td></tr></table>"
      ],
      "text/plain": [
       "Parameters([('k1',\n",
       "             <Parameter 'k1', value=0.09277914113442198 +/- 0.00772, bounds=[0:10]>),\n",
       "            ('k2',\n",
       "             <Parameter 'k2', value=0.1827281144312165 +/- 0.0277, bounds=[0:10]>)])"
      ]
     },
     "execution_count": 30,
     "metadata": {},
     "output_type": "execute_result"
    }
   ],
   "source": [
    "fitted_parameters = mf.fit(OBS_DATA, model=MODEL, parameters=PARAMETERS,\n",
    "                           num_points=NUM_POINTS, sim_time=SIM_TIME)\n",
    "fitted_parameters"
   ]
  },
  {
   "cell_type": "markdown",
   "metadata": {},
   "source": [
    "## Compute the Residuals\n",
    "Residuals need to be calculated by chemical species since they may be in very different units."
   ]
  },
  {
   "cell_type": "code",
   "execution_count": 31,
   "metadata": {},
   "outputs": [
    {
     "data": {
      "text/html": [
       "<div>\n",
       "<style scoped>\n",
       "    .dataframe tbody tr th:only-of-type {\n",
       "        vertical-align: middle;\n",
       "    }\n",
       "\n",
       "    .dataframe tbody tr th {\n",
       "        vertical-align: top;\n",
       "    }\n",
       "\n",
       "    .dataframe thead th {\n",
       "        text-align: right;\n",
       "    }\n",
       "</style>\n",
       "<table border=\"1\" class=\"dataframe\">\n",
       "  <thead>\n",
       "    <tr style=\"text-align: right;\">\n",
       "      <th></th>\n",
       "      <th>A</th>\n",
       "      <th>B</th>\n",
       "      <th>C</th>\n",
       "    </tr>\n",
       "  </thead>\n",
       "  <tbody>\n",
       "    <tr>\n",
       "      <th>0</th>\n",
       "      <td>0.520249</td>\n",
       "      <td>0.398630</td>\n",
       "      <td>1.019092</td>\n",
       "    </tr>\n",
       "    <tr>\n",
       "      <th>1</th>\n",
       "      <td>0.092185</td>\n",
       "      <td>0.186092</td>\n",
       "      <td>0.951229</td>\n",
       "    </tr>\n",
       "    <tr>\n",
       "      <th>2</th>\n",
       "      <td>-0.773574</td>\n",
       "      <td>0.728921</td>\n",
       "      <td>-0.647672</td>\n",
       "    </tr>\n",
       "    <tr>\n",
       "      <th>3</th>\n",
       "      <td>0.580294</td>\n",
       "      <td>0.129440</td>\n",
       "      <td>0.146412</td>\n",
       "    </tr>\n",
       "    <tr>\n",
       "      <th>4</th>\n",
       "      <td>0.017654</td>\n",
       "      <td>-0.332868</td>\n",
       "      <td>-1.192250</td>\n",
       "    </tr>\n",
       "    <tr>\n",
       "      <th>5</th>\n",
       "      <td>-1.053689</td>\n",
       "      <td>-0.080891</td>\n",
       "      <td>0.119338</td>\n",
       "    </tr>\n",
       "    <tr>\n",
       "      <th>6</th>\n",
       "      <td>-0.421190</td>\n",
       "      <td>-0.026669</td>\n",
       "      <td>0.000000</td>\n",
       "    </tr>\n",
       "    <tr>\n",
       "      <th>7</th>\n",
       "      <td>-0.764592</td>\n",
       "      <td>0.169897</td>\n",
       "      <td>0.085888</td>\n",
       "    </tr>\n",
       "    <tr>\n",
       "      <th>8</th>\n",
       "      <td>0.130276</td>\n",
       "      <td>0.500461</td>\n",
       "      <td>0.147881</td>\n",
       "    </tr>\n",
       "    <tr>\n",
       "      <th>9</th>\n",
       "      <td>0.085624</td>\n",
       "      <td>-0.179031</td>\n",
       "      <td>0.462106</td>\n",
       "    </tr>\n",
       "  </tbody>\n",
       "</table>\n",
       "</div>"
      ],
      "text/plain": [
       "          A         B         C\n",
       "0  0.520249  0.398630  1.019092\n",
       "1  0.092185  0.186092  0.951229\n",
       "2 -0.773574  0.728921 -0.647672\n",
       "3  0.580294  0.129440  0.146412\n",
       "4  0.017654 -0.332868 -1.192250\n",
       "5 -1.053689 -0.080891  0.119338\n",
       "6 -0.421190 -0.026669  0.000000\n",
       "7 -0.764592  0.169897  0.085888\n",
       "8  0.130276  0.500461  0.147881\n",
       "9  0.085624 -0.179031  0.462106"
      ]
     },
     "execution_count": 31,
     "metadata": {},
     "output_type": "execute_result"
    }
   ],
   "source": [
    "# Note that the residuals for the chemical species differ. Compare the residuals for A (1st col) with\n",
    "# the residuals for C (3rd col)\n",
    "RESIDUALS_DF = mf.makeResidualsDF(obs_data, MODEL, \n",
    "                                             fitted_parameters, \n",
    "                                             num_points=num_points, sim_time=sim_time)\n",
    "RESIDUALS_DF"
   ]
  },
  {
   "cell_type": "code",
   "execution_count": 32,
   "metadata": {},
   "outputs": [
    {
     "data": {
      "text/plain": [
       "0.5263633156046638"
      ]
     },
     "execution_count": 32,
     "metadata": {},
     "output_type": "execute_result"
    }
   ],
   "source": [
    "# The standard deviation of the residuals should be approximately the same as the standard deviation\n",
    "# of the random noise we injected in the construction of the observations.\n",
    "np.std(RESIDUALS_DF.values)"
   ]
  },
  {
   "cell_type": "markdown",
   "metadata": {},
   "source": [
    "## Construct a Collection of Parameter Estimates"
   ]
  },
  {
   "cell_type": "markdown",
   "metadata": {},
   "source": [
    "### Step 3a: Construct Synthetic Observations\n",
    "We define a function that constructs a set of observations from residuals and a model."
   ]
  },
  {
   "cell_type": "code",
   "execution_count": 43,
   "metadata": {},
   "outputs": [],
   "source": [
    "def makeSyntheticObservations(residualsDF, model, parameters, num_points, sim_time):\n",
    "    \"\"\"\n",
    "    Constructs synthetic observations for the model.\n",
    "    \n",
    "    Parameters\n",
    "    ----------\n",
    "    residualsDF: pd.DataFrame\n",
    "    \n",
    "    model: str\n",
    "        Antimony Model\n",
    "    parameters: lmfit.Parameters\n",
    "    num_points: int\n",
    "    sim_time: int\n",
    "    \n",
    "    Returns\n",
    "    -------\n",
    "    pd.DataFrame\n",
    "        columns: str (Species)\n",
    "        index: float (time)\n",
    "    \"\"\"\n",
    "    simulation_result = mf.runSimulation(model=model, parameters=fitted_parameters, \n",
    "                            num_points=num_points, sim_time=sim_time)\n",
    "    resultDF = simulation_result.df\n",
    "    num_sample = len(resultDF)\n",
    "    for column in resultDF.columns:\n",
    "        randomized_residuals = np.array(residualsDF[column].sample(num_sample).tolist())\n",
    "        resultDF[column] += randomized_residuals\n",
    "    return resultDF\n",
    "\n",
    "# Tests\n",
    "resultDF = makeSyntheticObservations(RESIDUALS_DF, MODEL, PARAMETERS, NUM_POINTS, SIM_TIME)\n",
    "assert(len(set(resultDF.columns).symmetric_difference(RESIDUALS_DF.columns)) == 0)"
   ]
  },
  {
   "cell_type": "code",
   "execution_count": 44,
   "metadata": {},
   "outputs": [
    {
     "data": {
      "text/html": [
       "<div>\n",
       "<style scoped>\n",
       "    .dataframe tbody tr th:only-of-type {\n",
       "        vertical-align: middle;\n",
       "    }\n",
       "\n",
       "    .dataframe tbody tr th {\n",
       "        vertical-align: top;\n",
       "    }\n",
       "\n",
       "    .dataframe thead th {\n",
       "        text-align: right;\n",
       "    }\n",
       "</style>\n",
       "<table border=\"1\" class=\"dataframe\">\n",
       "  <thead>\n",
       "    <tr style=\"text-align: right;\">\n",
       "      <th></th>\n",
       "      <th>A</th>\n",
       "      <th>B</th>\n",
       "      <th>C</th>\n",
       "    </tr>\n",
       "    <tr>\n",
       "      <th>time</th>\n",
       "      <th></th>\n",
       "      <th></th>\n",
       "      <th></th>\n",
       "    </tr>\n",
       "  </thead>\n",
       "  <tbody>\n",
       "    <tr>\n",
       "      <th>0.0</th>\n",
       "      <td>5.520249</td>\n",
       "      <td>-0.179031</td>\n",
       "      <td>0.462106</td>\n",
       "    </tr>\n",
       "    <tr>\n",
       "      <th>10.0</th>\n",
       "      <td>3.687590</td>\n",
       "      <td>1.481093</td>\n",
       "      <td>0.435321</td>\n",
       "    </tr>\n",
       "    <tr>\n",
       "      <th>20.0</th>\n",
       "      <td>2.779310</td>\n",
       "      <td>1.439172</td>\n",
       "      <td>1.199646</td>\n",
       "    </tr>\n",
       "    <tr>\n",
       "      <th>30.0</th>\n",
       "      <td>1.212538</td>\n",
       "      <td>1.379678</td>\n",
       "      <td>1.932427</td>\n",
       "    </tr>\n",
       "    <tr>\n",
       "      <th>40.0</th>\n",
       "      <td>1.581464</td>\n",
       "      <td>0.964807</td>\n",
       "      <td>2.650995</td>\n",
       "    </tr>\n",
       "  </tbody>\n",
       "</table>\n",
       "</div>"
      ],
      "text/plain": [
       "             A         B         C\n",
       "time                              \n",
       "0.0   5.520249 -0.179031  0.462106\n",
       "10.0  3.687590  1.481093  0.435321\n",
       "20.0  2.779310  1.439172  1.199646\n",
       "30.0  1.212538  1.379678  1.932427\n",
       "40.0  1.581464  0.964807  2.650995"
      ]
     },
     "execution_count": 44,
     "metadata": {},
     "output_type": "execute_result"
    }
   ],
   "source": [
    "resultDF.head()"
   ]
  },
  {
   "cell_type": "code",
   "execution_count": 52,
   "metadata": {},
   "outputs": [
    {
     "data": {
      "text/html": [
       "<div>\n",
       "<style scoped>\n",
       "    .dataframe tbody tr th:only-of-type {\n",
       "        vertical-align: middle;\n",
       "    }\n",
       "\n",
       "    .dataframe tbody tr th {\n",
       "        vertical-align: top;\n",
       "    }\n",
       "\n",
       "    .dataframe thead th {\n",
       "        text-align: right;\n",
       "    }\n",
       "</style>\n",
       "<table border=\"1\" class=\"dataframe\">\n",
       "  <thead>\n",
       "    <tr style=\"text-align: right;\">\n",
       "      <th></th>\n",
       "      <th>A</th>\n",
       "      <th>B</th>\n",
       "      <th>C</th>\n",
       "    </tr>\n",
       "    <tr>\n",
       "      <th>time</th>\n",
       "      <th></th>\n",
       "      <th></th>\n",
       "      <th></th>\n",
       "    </tr>\n",
       "  </thead>\n",
       "  <tbody>\n",
       "    <tr>\n",
       "      <th>0.0</th>\n",
       "      <td>4.226426</td>\n",
       "      <td>0.500461</td>\n",
       "      <td>-0.647672</td>\n",
       "    </tr>\n",
       "    <tr>\n",
       "      <th>10.0</th>\n",
       "      <td>2.616247</td>\n",
       "      <td>0.899741</td>\n",
       "      <td>0.349433</td>\n",
       "    </tr>\n",
       "    <tr>\n",
       "      <th>20.0</th>\n",
       "      <td>3.273979</td>\n",
       "      <td>1.422978</td>\n",
       "      <td>1.201115</td>\n",
       "    </tr>\n",
       "    <tr>\n",
       "      <th>30.0</th>\n",
       "      <td>1.994785</td>\n",
       "      <td>0.876912</td>\n",
       "      <td>0.620839</td>\n",
       "    </tr>\n",
       "    <tr>\n",
       "      <th>40.0</th>\n",
       "      <td>1.971437</td>\n",
       "      <td>1.231790</td>\n",
       "      <td>2.965220</td>\n",
       "    </tr>\n",
       "    <tr>\n",
       "      <th>50.0</th>\n",
       "      <td>1.157338</td>\n",
       "      <td>1.582232</td>\n",
       "      <td>3.167423</td>\n",
       "    </tr>\n",
       "    <tr>\n",
       "      <th>60.0</th>\n",
       "      <td>0.867433</td>\n",
       "      <td>0.802413</td>\n",
       "      <td>4.564310</td>\n",
       "    </tr>\n",
       "    <tr>\n",
       "      <th>70.0</th>\n",
       "      <td>-0.190755</td>\n",
       "      <td>0.340293</td>\n",
       "      <td>4.858067</td>\n",
       "    </tr>\n",
       "    <tr>\n",
       "      <th>80.0</th>\n",
       "      <td>0.000000</td>\n",
       "      <td>0.368307</td>\n",
       "      <td>4.303172</td>\n",
       "    </tr>\n",
       "    <tr>\n",
       "      <th>90.0</th>\n",
       "      <td>0.439424</td>\n",
       "      <td>0.696041</td>\n",
       "      <td>4.539853</td>\n",
       "    </tr>\n",
       "  </tbody>\n",
       "</table>\n",
       "</div>"
      ],
      "text/plain": [
       "             A         B         C\n",
       "time                              \n",
       "0.0   4.226426  0.500461 -0.647672\n",
       "10.0  2.616247  0.899741  0.349433\n",
       "20.0  3.273979  1.422978  1.201115\n",
       "30.0  1.994785  0.876912  0.620839\n",
       "40.0  1.971437  1.231790  2.965220\n",
       "50.0  1.157338  1.582232  3.167423\n",
       "60.0  0.867433  0.802413  4.564310\n",
       "70.0 -0.190755  0.340293  4.858067\n",
       "80.0  0.000000  0.368307  4.303172\n",
       "90.0  0.439424  0.696041  4.539853"
      ]
     },
     "execution_count": 52,
     "metadata": {},
     "output_type": "execute_result"
    }
   ],
   "source": [
    "# Try running this several times to see how values change.\n",
    "makeSyntheticObservations(RESIDUALS_DF, MODEL, PARAMETERS, NUM_POINTS, SIM_TIME)"
   ]
  },
  {
   "cell_type": "markdown",
   "metadata": {},
   "source": [
    "### Repeatedly estimate parameter values"
   ]
  },
  {
   "cell_type": "code",
   "execution_count": 55,
   "metadata": {},
   "outputs": [],
   "source": [
    "def makeParametersList(model, parameters, residualsDF, num_points, sim_time, num_iteration=10):\n",
    "    list_parameters = []\n",
    "    for _ in range(num_iteration):\n",
    "        obs_data = makeSyntheticObservations(residualsDF, model, \n",
    "            parameters, num_points, sim_time)\n",
    "        fitted_parameters = mf.fit(obs_data, model=model, \n",
    "            parameters=parameters, num_points=num_points, sim_time=sim_time)\n",
    "        list_parameters.append(fitted_parameters)\n",
    "    return list_parameters"
   ]
  },
  {
   "cell_type": "code",
   "execution_count": 56,
   "metadata": {},
   "outputs": [
    {
     "data": {
      "text/plain": [
       "[Parameters([('k1',\n",
       "              <Parameter 'k1', value=0.11110836576662175 +/- 0.0112, bounds=[0:10]>),\n",
       "             ('k2',\n",
       "              <Parameter 'k2', value=0.16172430854552722 +/- 0.0242, bounds=[0:10]>)]),\n",
       " Parameters([('k1',\n",
       "              <Parameter 'k1', value=0.10286963302684415 +/- 0.0104, bounds=[0:10]>),\n",
       "             ('k2',\n",
       "              <Parameter 'k2', value=0.15869152785900342 +/- 0.0248, bounds=[0:10]>)]),\n",
       " Parameters([('k1',\n",
       "              <Parameter 'k1', value=0.10880146139700453 +/- 0.0108, bounds=[0:10]>),\n",
       "             ('k2',\n",
       "              <Parameter 'k2', value=0.18049156331090277 +/- 0.0292, bounds=[0:10]>)])]"
      ]
     },
     "execution_count": 56,
     "metadata": {},
     "output_type": "execute_result"
    }
   ],
   "source": [
    "list_parameters = makeParametersList(MODEL, PARAMETERS, RESIDUALS_DF, NUM_POINTS, SIM_TIME, num_iteration=3)\n",
    "list_parameters"
   ]
  },
  {
   "cell_type": "markdown",
   "metadata": {},
   "source": [
    "## Compute Confidence Intervals"
   ]
  },
  {
   "cell_type": "code",
   "execution_count": null,
   "metadata": {},
   "outputs": [],
   "source": [
    "np.quantile(range(10), [.10, .90])"
   ]
  },
  {
   "cell_type": "markdown",
   "metadata": {},
   "source": [
    "# Exercise\n",
    "\n",
    "TRUE MODEL:\n",
    "\n",
    "- A -> B\n",
    "- A -> C\n",
    "- B + C -> D\n",
    "\n",
    "All kinetics are mass action. The kinetics constants are (in order of the reactions): 0.5, 0.5, 1.0. The initial concentration of A is 5. Consider a time course of duration 30 with 20 points.\n",
    "\n",
    "\n",
    "1. Generate synthetic observations using this model using a normally distributed noise with a standard deviation\n",
    "of 0.1.\n",
    "1. Using the true model (the one above), find the $R^2$ values in a cross validation with 4 folds.\n",
    "1. Construct confidence intervals for the parameters."
   ]
  },
  {
   "cell_type": "code",
   "execution_count": null,
   "metadata": {},
   "outputs": [],
   "source": [
    "# Model used in this example\n",
    "new_model = \"\"\"\n",
    "     A -> B; k1*A\n",
    "     A -> C; k2*A\n",
    "     B + C -> D; k3*B*C\n",
    "      \n",
    "     A = 5;\n",
    "     B = 0;\n",
    "     C = 0;\n",
    "     k1 = 0.5\n",
    "     k2 = 0.5\n",
    "     k3 = 1.0\n",
    "\"\"\"\n",
    "unfitted_parameters = mf.makeParameters(constants=['k1', 'k2', 'k3'])\n",
    "unfitted_parameters"
   ]
  },
  {
   "cell_type": "code",
   "execution_count": null,
   "metadata": {},
   "outputs": [],
   "source": [
    "# Globals\n",
    "num_points = 20\n",
    "sim_time = 30\n",
    "nose_std = 0.1"
   ]
  },
  {
   "cell_type": "code",
   "execution_count": null,
   "metadata": {},
   "outputs": [],
   "source": [
    "# Create synthetic observational data for this example. This is for demonstration purposes only.\n",
    "# In practice, you will have observational data from experiments.\n",
    "obs_data = mf.makeObservations(model=new_model, noise_std=nose_std, num_points=num_points, sim_time=sim_time)"
   ]
  },
  {
   "cell_type": "code",
   "execution_count": null,
   "metadata": {},
   "outputs": [],
   "source": [
    "mf.plotTimeSeries(obs_data, is_scatter=True, columns=['A','B', 'C', 'D'])"
   ]
  },
  {
   "cell_type": "code",
   "execution_count": null,
   "metadata": {},
   "outputs": [],
   "source": [
    "fitted_parameters = mf.fit(obs_data, model=new_model, parameters=unfitted_parameters,\n",
    "                           num_points=num_points, sim_time=sim_time)\n",
    "fitted_parameters"
   ]
  },
  {
   "cell_type": "code",
   "execution_count": null,
   "metadata": {},
   "outputs": [],
   "source": [
    "print(new_model)"
   ]
  },
  {
   "cell_type": "code",
   "execution_count": null,
   "metadata": {},
   "outputs": [],
   "source": [
    "obs_data"
   ]
  },
  {
   "cell_type": "code",
   "execution_count": null,
   "metadata": {},
   "outputs": [],
   "source": [
    "# Construct the matrix of residuals\n",
    "residuals_matrix = mf.makeResidualsMatrix(obs_data, model=new_model, \n",
    "                                          parameters=fitted_parameters, \n",
    "                                          num_points=num_points, sim_time=sim_time)\n",
    "residuals_matrix"
   ]
  },
  {
   "cell_type": "code",
   "execution_count": null,
   "metadata": {},
   "outputs": [],
   "source": [
    "# Do the cross validation for this model. the crossValidate function returns two values: list of\n",
    "# the parameters (for each fold) and RSQs for each fold.\n",
    "list_parameters, rsqs = mf.crossValidate(obs_data, model=new_model, parameters=fitted_parameters, \n",
    "                                         num_points=num_points, \n",
    "                                         sim_time=sim_time,\n",
    "                                         num_folds=4)\n",
    "rsqs"
   ]
  },
  {
   "cell_type": "code",
   "execution_count": null,
   "metadata": {},
   "outputs": [],
   "source": [
    "list_parameters = makeParametersList(new_model, fitted_parameters, residuals_matrix, num_points, sim_time)\n",
    "list_parameters"
   ]
  },
  {
   "cell_type": "code",
   "execution_count": null,
   "metadata": {},
   "outputs": [],
   "source": [
    "# Here's the result\n",
    "makeParameterStatistics(list_parameters)"
   ]
  },
  {
   "cell_type": "markdown",
   "metadata": {},
   "source": [
    "# Bootstrapping With SBstoat"
   ]
  }
 ],
 "metadata": {
  "kernelspec": {
   "display_name": "Python 3",
   "language": "python",
   "name": "python3"
  },
  "language_info": {
   "codemirror_mode": {
    "name": "ipython",
    "version": 3
   },
   "file_extension": ".py",
   "mimetype": "text/x-python",
   "name": "python",
   "nbconvert_exporter": "python",
   "pygments_lexer": "ipython3",
   "version": "3.6.9"
  }
 },
 "nbformat": 4,
 "nbformat_minor": 4
}
