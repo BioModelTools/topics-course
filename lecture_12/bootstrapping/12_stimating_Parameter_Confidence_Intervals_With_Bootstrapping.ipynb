{
 "cells": [
  {
   "cell_type": "markdown",
   "metadata": {},
   "source": [
    "<span style=\"font-family:Papyrus; font-size:3em;\" >Estimating Parameter Confidence Intervals With Bootstrapping</span>"
   ]
  },
  {
   "cell_type": "markdown",
   "metadata": {},
   "source": [
    "This notebook demonstrates the calculations required to do confidence interval constructions.\n",
    "1. Construct a good model. This means checking that we get good $R^2$ values (or other model quality metrics) for each fold in a cross validation.\n",
    "1. Compute residuals for the good model.\n",
    "1. Construct a collection of parameter estimates. That is, for many repetitions\n",
    "   1. Construct new observations (by using randomly selected residuals)\n",
    "   1. Estimate parameter values\n",
    "1. Construct the confidence interval"
   ]
  },
  {
   "cell_type": "markdown",
   "metadata": {},
   "source": [
    "# Programming Preliminaries"
   ]
  },
  {
   "cell_type": "code",
   "execution_count": 27,
   "metadata": {},
   "outputs": [],
   "source": [
    "IS_COLAB = False\n",
    "#\n",
    "if IS_COLAB:\n",
    "  !pip install matplotlib\n",
    "  !pip install numpy\n",
    "  !pip install tellurium\n",
    "  !pip install SBstoat\n",
    "#    \n",
    "# Constants for standalone notebook\n",
    "if not IS_COLAB:\n",
    "    CODE_DIRS = [\"/home/ubuntu/advancing-biomedical-models/common\"]\n",
    "    CODE_DIRS.append(\"/home/ubuntu/SBstoat\")\n",
    "    DATA_DIR = \"/home/ubuntu/advancing-biomedical-models/lecture_12\"\n",
    "else:\n",
    "    from google.colab import drive\n",
    "    drive.mount('/content/drive')\n",
    "    CODE_DIRS = [\"/content/drive/MyDrive/Winter 2021/common\"]\n",
    "    DATA_DIR = \"/content/drive/MyDrive/Modeling_Class/Lecture Notes/12_lecture\"\n",
    "import sys\n",
    "for path in CODE_DIRS:\n",
    "    sys.path.insert(0, path)\n",
    "# Other constants\n",
    "TIME = \"time\""
   ]
  },
  {
   "cell_type": "code",
   "execution_count": 2,
   "metadata": {},
   "outputs": [],
   "source": [
    "%matplotlib inline\n",
    "import numpy as np\n",
    "import lmfit   # Fitting lib\n",
    "import pandas as pd\n",
    "import matplotlib.pyplot as plt\n",
    "import matplotlib\n",
    "from SBstoat.modelFitter import ModelFitter\n",
    "from SBstoat.observationSynthesizer import ObservationSynthesizerRandomizedResiduals, ObservationSynthesizerRandomErrors\n",
    "from SBstoat.namedTimeseries import NamedTimeseries\n",
    "import model_fitting as mf"
   ]
  },
  {
   "cell_type": "markdown",
   "metadata": {},
   "source": [
    "# Model and Data"
   ]
  },
  {
   "cell_type": "code",
   "execution_count": 3,
   "metadata": {},
   "outputs": [
    {
     "data": {
      "text/html": [
       "<table><tr><th> name </th><th> value </th><th> initial value </th><th> min </th><th> max </th><th> vary </th></tr><tr><td> k1 </td><td>  5.00000000 </td><td> 5.0 </td><td>  0.00000000 </td><td>  10.0000000 </td><td> True </td></tr><tr><td> k2 </td><td>  5.00000000 </td><td> 5.0 </td><td>  0.00000000 </td><td>  10.0000000 </td><td> True </td></tr></table>"
      ],
      "text/plain": [
       "Parameters([('k1', <Parameter 'k1', value=5.0, bounds=[0:10]>),\n",
       "            ('k2', <Parameter 'k2', value=5.0, bounds=[0:10]>)])"
      ]
     },
     "execution_count": 3,
     "metadata": {},
     "output_type": "execute_result"
    }
   ],
   "source": [
    "# Model used in this example\n",
    "MODEL = \"\"\"\n",
    "     A -> B; k1*A\n",
    "     B -> C; k2*B\n",
    "      \n",
    "     A = 5;\n",
    "     B = 0;\n",
    "     C = 0;\n",
    "     k1 = 0.1\n",
    "     k2 = 0.2\n",
    "\"\"\"\n",
    "PARAMETERS_TO_FIT = [\"k1\", \"k2\"]\n",
    "PARAMETER_ESTIMATES = ModelFitter.mkParameters(parametersToFit=PARAMETERS_TO_FIT)\n",
    "PARAMETER_ESTIMATES"
   ]
  },
  {
   "cell_type": "code",
   "execution_count": 4,
   "metadata": {},
   "outputs": [],
   "source": [
    "# Globals\n",
    "NUM_POINTS = 30\n",
    "SIM_TIME= 30\n",
    "NOISE_STD = 0.3"
   ]
  },
  {
   "cell_type": "code",
   "execution_count": 5,
   "metadata": {},
   "outputs": [
    {
     "data": {
      "text/plain": [
       "                  A         B         C\n",
       "time                                   \n",
       "0.000000   5.422509 -0.274711 -0.072988\n",
       "1.034483   4.525383  0.388417  0.077693\n",
       "2.068966   4.751367  1.106745  0.305599\n",
       "3.103448   3.481152  1.056880 -0.103494\n",
       "4.137931   3.301779  1.113968  0.571173\n",
       "5.172414   3.361731  1.386225  0.821136\n",
       "6.206897   2.171559  0.980565  1.040471\n",
       "7.241379   2.507529  1.405331  1.688746\n",
       "8.275862   2.036850  1.463789  1.509144\n",
       "9.310345   2.010251  1.141359  1.210584\n",
       "10.344828  1.820648  1.059639  1.859176\n",
       "11.379310  1.291536  1.002886  2.260702\n",
       "12.413793  1.421881  0.794098  2.116807\n",
       "13.448276  1.799913  1.004954  2.944874\n",
       "14.482759  1.392594  0.719207  3.018612\n",
       "15.517241  0.549480  0.849260  3.180271\n",
       "16.551724  1.400086  0.603661  2.574584\n",
       "17.586207  0.711283  0.662225  3.244850\n",
       "18.620690  0.159916  0.231060  3.517993\n",
       "19.655172  0.873925  0.679899  3.578399\n",
       "20.689655  0.789933  0.812369  3.527292\n",
       "21.724138  0.392081  0.469887  3.755452\n",
       "22.758621  0.992431  0.085068  4.375448\n",
       "23.793103  0.454469  0.461340  4.040923\n",
       "24.827586  0.064454  0.815657  4.723309\n",
       "25.862069  0.670078  0.226703  4.035641\n",
       "26.896552  0.174292  0.056973  4.462400\n",
       "27.931034  0.537898  0.382051  4.137009\n",
       "28.965517 -0.442477 -0.126553  4.303424\n",
       "30.000000 -0.060393  0.118686  4.835353"
      ]
     },
     "execution_count": 5,
     "metadata": {},
     "output_type": "execute_result"
    }
   ],
   "source": [
    "fittedTS = ModelFitter.runSimulation(roadrunner=MODEL, numPoint=NUM_POINTS, endTime=SIM_TIME, returnDataFrame=False)\n",
    "synthesizer = ObservationSynthesizerRandomErrors(fittedTS=fittedTS, std=NOISE_STD)\n",
    "OBS_TS = synthesizer.calculate()\n",
    "OBS_TS"
   ]
  },
  {
   "cell_type": "code",
   "execution_count": 6,
   "metadata": {},
   "outputs": [
    {
     "data": {
      "text/plain": [
       "<Figure size 432x288 with 0 Axes>"
      ]
     },
     "metadata": {},
     "output_type": "display_data"
    }
   ],
   "source": [
    "def plotData(observedTS):\n",
    "    \"\"\"\n",
    "    Creates a scatter plot of the observed data.\n",
    "    \n",
    "    Parameters\n",
    "    ----------\n",
    "    observedTS: NamedTimeseries\n",
    "    \n",
    "    Returns\n",
    "    -------\n",
    "    \n",
    "    \"\"\"\n",
    "    figure, ax = plt.subplots(1)\n",
    "    for column in observedTS.colnames:\n",
    "        _ = ax.scatter(observedTS[TIME], observedTS[column])\n",
    "    _ = plt.legend(observedTS.colnames)\n",
    "    return figure\n",
    "        \n",
    "# Tests\n",
    "figure = plotData(OBS_TS)\n",
    "assert(isinstance(figure, matplotlib.figure.Figure))\n",
    "_ = figure.clear()"
   ]
  },
  {
   "cell_type": "code",
   "execution_count": 7,
   "metadata": {},
   "outputs": [
    {
     "data": {
      "image/png": "[encoded data removed]",
      "text/plain": [
       "<Figure size 432x288 with 1 Axes>"
      ]
     },
     "metadata": {
      "needs_background": "light"
     },
     "output_type": "display_data"
    }
   ],
   "source": [
    "_ = plotData(OBS_TS)"
   ]
  },
  {
   "cell_type": "markdown",
   "metadata": {},
   "source": [
    "# Bootstrapping Workflow"
   ]
  },
  {
   "cell_type": "markdown",
   "metadata": {},
   "source": [
    "## Construct a good model.\n",
    "In the following, we use the same model as the synthetic observations. Of course, in practice, you won't know the \"true\" model."
   ]
  },
  {
   "cell_type": "markdown",
   "metadata": {},
   "source": [
    "First, we need to estimate the parameter values to use in our model. To this end, we do a fit on the full set of data."
   ]
  },
  {
   "cell_type": "code",
   "execution_count": 8,
   "metadata": {},
   "outputs": [
    {
     "name": "stderr",
     "output_type": "stream",
     "text": [
      "/home/ubuntu/advancing-biomedical-models/cls/lib/python3.6/site-packages/roadrunner/roadrunner.py:3944: UserWarning:\n",
      "\n",
      "Simulation requested end point (30.000000000000004) not reached, because the maximum number of steps reached.  Possible solutions include:\n",
      "  * Setting an explicit number of points (i.e. r.simulate(0.0, 30.000000000000004, 1001)\n",
      "  * Setting r.integrator.variable_step_size to 'False'\n",
      "* Setting \n",
      "\n"
     ]
    },
    {
     "data": {
      "text/html": [
       "<table><tr><th> name </th><th> value </th><th> standard error </th><th> relative error </th><th> initial value </th><th> min </th><th> max </th><th> vary </th></tr><tr><td> k1 </td><td>  0.09892480 </td><td>  0.00296569 </td><td> (3.00%) </td><td> 3.9388471029827388 </td><td>  0.00000000 </td><td>  10.0000000 </td><td> True </td></tr><tr><td> k2 </td><td>  0.19669306 </td><td>  0.01084079 </td><td> (5.51%) </td><td> 9.934708833607504 </td><td>  0.00000000 </td><td>  10.0000000 </td><td> True </td></tr></table>"
      ],
      "text/plain": [
       "Parameters([('k1',\n",
       "             <Parameter 'k1', value=0.09892480078329269 +/- 0.00297, bounds=[0:10]>),\n",
       "            ('k2',\n",
       "             <Parameter 'k2', value=0.19669305674471171 +/- 0.0108, bounds=[0:10]>)])"
      ]
     },
     "execution_count": 8,
     "metadata": {},
     "output_type": "execute_result"
    }
   ],
   "source": [
    "FITTER = ModelFitter(MODEL, OBS_TS, parametersToFit=[\"k1\", \"k2\"])\n",
    "FITTER.fitModel()\n",
    "FITTED_TS = FITTER.fittedTS\n",
    "PARAMETER_ESTIMATES = FITTER.params\n",
    "PARAMETER_ESTIMATES"
   ]
  },
  {
   "cell_type": "code",
   "execution_count": 9,
   "metadata": {},
   "outputs": [
    {
     "name": "stdout",
     "output_type": "stream",
     "text": [
      "[[Fit Statistics]]\n",
      "    chi-square         = 7.29589440\n",
      "    reduced chi-square = 0.08290789\n",
      "    Akaike info crit   = -222.124810\n",
      "    Bayesian info crit = -217.125191\n",
      "[[Variables]]\n",
      "    k1:  0.09892480 +/- 0.00296569 (3.00%) (init = 3.938847)\n",
      "    k2:  0.19669306 +/- 0.01084079 (5.51%) (init = 9.934709)\n",
      "[[Correlations]] (unreported correlations are < 0.100)\n",
      "    C(k1, k2) = -0.399\n"
     ]
    }
   ],
   "source": [
    "print(FITTER.reportFit())"
   ]
  },
  {
   "cell_type": "markdown",
   "metadata": {},
   "source": [
    "**Question**\n",
    "1. What are the parameter estimates if the NOSE_STD is 0.8?"
   ]
  },
  {
   "cell_type": "markdown",
   "metadata": {},
   "source": [
    "## Compute the Residuals\n",
    "Residuals need to be calculated by chemical species since they may be in very different units."
   ]
  },
  {
   "cell_type": "code",
   "execution_count": 10,
   "metadata": {},
   "outputs": [
    {
     "data": {
      "text/plain": [
       "                  A         B         C\n",
       "time                                   \n",
       "0.000000   0.422509 -0.274711 -0.072988\n",
       "1.034483   0.011752 -0.050900  0.030640\n",
       "2.068966   0.676794  0.351729  0.135188\n",
       "3.103448  -0.197071  0.082864 -0.451255\n",
       "4.137931  -0.018650 -0.003901  0.009471\n",
       "5.172414   0.364293  0.182424  0.022374\n",
       "6.206897  -0.534307 -0.264967 -0.008130\n",
       "7.241379   0.064873  0.151368  0.385365\n",
       "8.275862  -0.168199  0.226073 -0.048091\n",
       "9.310345   0.019696 -0.062223 -0.595278\n",
       "10.344828  0.023721 -0.097248 -0.187010\n",
       "11.379310 -0.330597 -0.098891 -0.015389\n",
       "12.413793 -0.042461 -0.247356 -0.377397\n",
       "13.448276  0.478014  0.026581  0.245148\n",
       "14.482759  0.199281 -0.195185  0.126317\n",
       "15.517241 -0.527755 -0.001632  0.108398\n",
       "16.551724  0.427638 -0.185222 -0.664084\n",
       "17.586207 -0.166571 -0.066859 -0.148211\n",
       "18.620690 -0.632546 -0.440924 -0.017560\n",
       "19.655172  0.158548  0.062006 -0.088331\n",
       "20.689655  0.144143  0.245381 -0.259930\n",
       "21.724138 -0.190890 -0.049454 -0.142236\n",
       "22.758621  0.466168 -0.389879  0.376658\n",
       "23.793103 -0.020603  0.027597 -0.050263\n",
       "24.827586 -0.364406  0.420029  0.547796\n",
       "25.862069  0.282935 -0.133767 -0.216746\n",
       "26.896552 -0.175192 -0.271146  0.140003\n",
       "27.931034  0.222410  0.083635 -0.249087\n",
       "28.965517 -0.727277 -0.397747 -0.140582\n",
       "30.000000 -0.317489 -0.127602  0.338737"
      ]
     },
     "execution_count": 10,
     "metadata": {},
     "output_type": "execute_result"
    }
   ],
   "source": [
    "# Note that the residuals for the chemical species differ. Compare the residuals for A (1st col) with\n",
    "# the residuals for C (3rd col)\n",
    "columns = FITTED_TS.colnames\n",
    "RESIDUALS_TS = OBS_TS.copy()  # Create the shape of the residuals\n",
    "RESIDUALS_TS[columns] -= FITTED_TS[columns]\n",
    "RESIDUALS_TS"
   ]
  },
  {
   "cell_type": "code",
   "execution_count": 11,
   "metadata": {},
   "outputs": [
    {
     "data": {
      "text/plain": [
       "0.2824664896944559"
      ]
     },
     "execution_count": 11,
     "metadata": {},
     "output_type": "execute_result"
    }
   ],
   "source": [
    "# The standard deviation of the residuals should be approximately the same as the standard deviation\n",
    "# of the random noise we injected in the construction of the observations.\n",
    "np.std(RESIDUALS_TS.flatten())"
   ]
  },
  {
   "cell_type": "markdown",
   "metadata": {},
   "source": [
    "A validation of our codes and workflow is that the standard deviation of the residuals is close to the standard deviation of the noise used in the observational data."
   ]
  },
  {
   "cell_type": "markdown",
   "metadata": {},
   "source": [
    "## Construct a Collection of Parameter Estimates"
   ]
  },
  {
   "cell_type": "markdown",
   "metadata": {},
   "source": [
    "### Step 3a: Construct Synthetic Observations\n",
    "We define a function that constructs a set of observations from residuals and a model."
   ]
  },
  {
   "cell_type": "code",
   "execution_count": 12,
   "metadata": {},
   "outputs": [],
   "source": [
    "synthesizer = ObservationSynthesizerRandomizedResiduals(fittedTS=FITTED_TS, observedTS=OBS_TS, residualsTS=RESIDUALS_TS)"
   ]
  },
  {
   "cell_type": "code",
   "execution_count": 13,
   "metadata": {},
   "outputs": [
    {
     "data": {
      "text/plain": [
       "                  A         B         C\n",
       "time                                   \n",
       "0.000000   5.011752 -0.440924 -0.377397\n",
       "1.034483   4.494981  0.041569  0.182241\n",
       "2.068966   3.347296  0.705563  0.718207\n",
       "3.103448   4.355018  0.726660  0.259430\n",
       "4.137931   3.002940  1.179875  0.374692\n",
       "5.172414   3.463606  1.623829  0.656526\n",
       "6.206897   2.850009  1.241632  0.671205\n",
       "7.241379   2.276084  1.337599  0.852126\n",
       "8.275862   1.677294  1.236084  1.587875\n",
       "9.310345   2.212966  1.136723  1.932180\n",
       "10.344828  1.941070  0.759140  1.450908\n",
       "11.379310  2.298927  1.097876  2.384489\n",
       "12.413793  1.421881  0.766743  2.446113\n",
       "13.448276  0.957494  1.204447  3.247523\n",
       "14.482759  1.174664  1.065760  3.231032\n",
       "15.517241  1.100956  0.753643  3.619669\n",
       "16.551724  0.805877  0.971308  3.188406\n",
       "17.586207  0.513449  0.911509  2.941806\n",
       "18.620690  0.804215  0.755619  3.780701\n",
       "19.655172  1.392171  0.422708  3.593742\n",
       "20.689655  0.448718  0.126064  3.646640\n",
       "21.724138  0.252374  0.546938  4.445484\n",
       "22.758621  0.591136  0.034022  4.546587\n",
       "23.793103  0.902709  0.382843  3.831255\n",
       "24.827586  0.587408  0.268026  3.511428\n",
       "25.862069 -0.245403  0.165285  4.111805\n",
       "26.896552  0.330834  0.080763  4.870193\n",
       "27.931034  0.339209  0.524489  4.416736\n",
       "28.965517  0.118228  0.143593  4.066609\n",
       "30.000000  0.321969  0.397656  4.873274"
      ]
     },
     "execution_count": 13,
     "metadata": {},
     "output_type": "execute_result"
    }
   ],
   "source": [
    "synthesizer.calculate()"
   ]
  },
  {
   "cell_type": "code",
   "execution_count": 14,
   "metadata": {},
   "outputs": [
    {
     "data": {
      "text/plain": [
       "                  A         B         C\n",
       "time                                   \n",
       "0.000000   5.144143 -0.271146  0.108398\n",
       "1.034483   4.493028 -0.001608  0.385790\n",
       "2.068966   3.906374  0.507661  0.162280\n",
       "3.103448   3.877504  1.125384  0.474078\n",
       "4.137931   3.464572  1.269237  0.421120\n",
       "5.172414   3.280373  1.449182  0.907160\n",
       "6.206897   3.128374  1.196079  0.975613\n",
       "7.241379   2.601204  1.006608  1.086635\n",
       "8.275862   2.007978  0.847837  1.308149\n",
       "9.310345   1.948095  1.354950  2.182520\n",
       "10.344828  2.224565  1.090028  2.068560\n",
       "11.379310  1.425062  1.185411  2.652749\n",
       "12.413793  1.443739  0.770308  2.446113\n",
       "13.448276  1.301297  0.927474  3.247523\n",
       "14.482759  1.557607  1.140465  2.876906\n",
       "15.517241  1.754030  0.585924  3.180271\n",
       "16.551724  1.450462  1.140612  3.098086\n",
       "17.586207  1.077136  0.791091  3.528249\n",
       "18.620690  1.220100  0.605125  4.083350\n",
       "19.655172  0.937787  0.352926  3.651342\n",
       "20.689655  0.479218  0.469740  4.163880\n",
       "21.724138  1.060985  0.517709  3.648601\n",
       "22.758621  0.195666  0.203800  3.983402\n",
       "23.793103  0.902709  0.238558  3.495908\n",
       "24.827586 -0.298417  0.546996  4.420660\n",
       "25.862069  0.190072  0.586543  4.179399\n",
       "26.896552  0.771993  0.510543  3.658313\n",
       "27.931034 -0.411788  0.382051  4.377965\n",
       "28.965517  0.118228  0.267294  4.782743\n",
       "30.000000  0.933891 -0.001068  4.605014"
      ]
     },
     "execution_count": 14,
     "metadata": {},
     "output_type": "execute_result"
    }
   ],
   "source": [
    "# Try running this several times to see how values change.\n",
    "synthesizer.calculate()"
   ]
  },
  {
   "cell_type": "markdown",
   "metadata": {},
   "source": [
    "### Repeatedly estimate parameter values"
   ]
  },
  {
   "cell_type": "code",
   "execution_count": 15,
   "metadata": {},
   "outputs": [
    {
     "name": "stderr",
     "output_type": "stream",
     "text": [
      "/home/ubuntu/advancing-biomedical-models/cls/lib/python3.6/site-packages/roadrunner/roadrunner.py:3944: UserWarning:\n",
      "\n",
      "Simulation requested end point (30.000000000000004) not reached, because the maximum number of steps reached.  Possible solutions include:\n",
      "  * Setting an explicit number of points (i.e. r.simulate(0.0, 30.000000000000004, 1001)\n",
      "  * Setting r.integrator.variable_step_size to 'False'\n",
      "* Setting \n",
      "\n"
     ]
    }
   ],
   "source": [
    "def estimateParameters(model, observedTS, parametersToFit, numIteration=10):\n",
    "    estimateDct = {p: [] for p in parametersToFit}\n",
    "    # Get the initial estimates\n",
    "    fitter = ModelFitter(model, observedTS, parametersToFit=parametersToFit)\n",
    "    fitter.fitModel()\n",
    "    initialParams = fitter.params\n",
    "    # Create the observation synthesizer\n",
    "    synthesizer = ObservationSynthesizerRandomizedResiduals(fittedTS=fitter.fittedTS, observedTS=observedTS)\n",
    "    # Iterative calculate parameters\n",
    "    for _ in range(numIteration):\n",
    "        newObservedTS = synthesizer.calculate()\n",
    "        newFitter = ModelFitter(model, newObservedTS, parametersToFit=parametersToFit)\n",
    "        newFitter.fitModel(params=initialParams)\n",
    "        [estimateDct[p].append(newFitter.params.valuesdict()[p]) for p in parametersToFit]\n",
    "    return estimateDct\n",
    "\n",
    "# Tests\n",
    "numIteration = 5\n",
    "estimateDct = estimateParameters(MODEL, OBS_TS, PARAMETERS_TO_FIT, numIteration=numIteration)\n",
    "assert(len(estimateDct[PARAMETERS_TO_FIT[0]]) == len(estimateDct[PARAMETERS_TO_FIT[1]]))\n",
    "assert(len(estimateDct[PARAMETERS_TO_FIT[0]]) == numIteration)"
   ]
  },
  {
   "cell_type": "code",
   "execution_count": 16,
   "metadata": {},
   "outputs": [
    {
     "data": {
      "image/png": "[encoded data removed]",
      "text/plain": [
       "<Figure size 432x288 with 1 Axes>"
      ]
     },
     "metadata": {
      "needs_background": "light"
     },
     "output_type": "display_data"
    }
   ],
   "source": [
    "ESTIMATE_DCT = estimateParameters(MODEL, OBS_TS, PARAMETERS_TO_FIT, numIteration=100)\n",
    "def plotHist(parameter):\n",
    "    _ = plt.hist(ESTIMATE_DCT[parameter],bins=1000)\n",
    "    plt.xlim([0, 1])\n",
    "\n",
    "for parameter in PARAMETERS_TO_FIT:\n",
    "    plotHist(parameter)\n",
    "_ = plt.legend(PARAMETERS_TO_FIT)"
   ]
  },
  {
   "cell_type": "markdown",
   "metadata": {},
   "source": [
    "**Questions**\n",
    "1. How do the quality of the parameter estimates change with the number of simulation points? With the simulation time?"
   ]
  },
  {
   "cell_type": "markdown",
   "metadata": {},
   "source": [
    "## Compute Confidence Intervals"
   ]
  },
  {
   "cell_type": "code",
   "execution_count": 17,
   "metadata": {},
   "outputs": [
    {
     "data": {
      "text/plain": [
       "array([0.9, 8.1])"
      ]
     },
     "execution_count": 17,
     "metadata": {},
     "output_type": "execute_result"
    }
   ],
   "source": [
    "np.quantile(range(10), [.10, .90])"
   ]
  },
  {
   "cell_type": "markdown",
   "metadata": {},
   "source": [
    "**Question**\n",
    "1. Calculate 95% confidence intervals for the parameters.\n",
    "   1. How many iterations should you use?"
   ]
  },
  {
   "cell_type": "code",
   "execution_count": 18,
   "metadata": {},
   "outputs": [
    {
     "name": "stdout",
     "output_type": "stream",
     "text": [
      "k1: [0.08698957 7.92952419]\n",
      "k2: [0.10712079 5.17536423]\n"
     ]
    }
   ],
   "source": [
    "# Solution\n",
    "for parameter in estimateDct.keys():\n",
    "    quantile = np.quantile(estimateDct[parameter], [0.025, 0.975])\n",
    "    print(\"%s: %s\" % (parameter, str(quantile)))"
   ]
  },
  {
   "cell_type": "markdown",
   "metadata": {},
   "source": [
    "**Questions**\n",
    "1. Why does ``k1`` have such a wide confidence interval?"
   ]
  },
  {
   "cell_type": "markdown",
   "metadata": {},
   "source": [
    "# Exercise\n",
    "\n",
    "TRUE MODEL:\n",
    "\n",
    "- A -> B\n",
    "- A -> C\n",
    "- B + C -> D\n",
    "\n",
    "All kinetics are mass action. The kinetics constants are (in order of the reactions): 0.5, 0.5, 1.0. The initial concentration of A is 5. Consider a time course of duration 30 with 20 points.\n",
    "\n",
    "\n",
    "1. Generate synthetic observations using this model using a normally distributed noise with a standard deviation\n",
    "of 0.1.\n",
    "1. Using the true model (the one above), find the $R^2$ values in a cross validation with 4 folds.\n",
    "1. Construct confidence intervals for the parameters."
   ]
  },
  {
   "cell_type": "code",
   "execution_count": 19,
   "metadata": {},
   "outputs": [],
   "source": [
    "# Model used in this example\n",
    "NEW_MODEL = \"\"\"\n",
    "     $A -> B; k1*$A\n",
    "     $A -> C; k2*$A\n",
    "     C -> D; k3*C\n",
    "     D + B -> $E; k4*D*B\n",
    "     \n",
    "     A = 5;\n",
    "     B = 10;\n",
    "     C = 8;\n",
    "     D = 4;\n",
    "     E = 2\n",
    "     k1 = 0.5\n",
    "     k2 = 0.1\n",
    "     k3 = 1.3;\n",
    "     k4 = 1;\n",
    "\"\"\""
   ]
  },
  {
   "cell_type": "code",
   "execution_count": 20,
   "metadata": {},
   "outputs": [],
   "source": [
    "# Solution: Constants\n",
    "NEW_NUM_POINT = 100\n",
    "NEW_END_TIME = 5\n",
    "NEW_NOISE_STD = 0.4"
   ]
  },
  {
   "cell_type": "code",
   "execution_count": 21,
   "metadata": {},
   "outputs": [
    {
     "data": {
      "image/png": "[encoded data removed]",
      "text/plain": [
       "<Figure size 432x288 with 1 Axes>"
      ]
     },
     "metadata": {
      "needs_background": "light"
     },
     "output_type": "display_data"
    }
   ],
   "source": [
    "# Plot of the ground truth model\n",
    "fittedTS = ModelFitter.runSimulation(roadrunner=NEW_MODEL, numPoint=NEW_NUM_POINT, endTime=NEW_END_TIME,\n",
    "                                     returnDataFrame=False)\n",
    "synthesizer = ObservationSynthesizerRandomErrors(fittedTS=fittedTS, std=0.0)\n",
    "_ = plotData(synthesizer.calculate())"
   ]
  },
  {
   "cell_type": "markdown",
   "metadata": {},
   "source": [
    "We are going to estimate the parameters ``k1``, ``k2``, ``k3``, and the constant value of ``A``."
   ]
  },
  {
   "cell_type": "code",
   "execution_count": 22,
   "metadata": {},
   "outputs": [],
   "source": [
    "NEW_PARAMETERS_TO_FIT = [\"k1\", \"k2\", \"k3\", \"A\"]"
   ]
  },
  {
   "cell_type": "markdown",
   "metadata": {},
   "source": [
    "## Generate randomized observations"
   ]
  },
  {
   "cell_type": "markdown",
   "metadata": {},
   "source": [
    "**Question**\n",
    "1. Generate data with 100 points over 30 s and a stardard deviation of 0.4."
   ]
  },
  {
   "cell_type": "code",
   "execution_count": 23,
   "metadata": {},
   "outputs": [
    {
     "data": {
      "image/png": "[encoded data removed]",
      "text/plain": [
       "<Figure size 432x288 with 1 Axes>"
      ]
     },
     "metadata": {
      "needs_background": "light"
     },
     "output_type": "display_data"
    }
   ],
   "source": [
    "# Solution\n",
    "\n",
    "fittedTS = ModelFitter.runSimulation(roadrunner=NEW_MODEL, numPoint=NEW_NUM_POINT, endTime=NEW_END_TIME,\n",
    "                                     returnDataFrame=False)\n",
    "synthesizer = ObservationSynthesizerRandomErrors(fittedTS=fittedTS, std=NEW_NOISE_STD)\n",
    "NEW_OBS_TS = synthesizer.calculate()\n",
    "_ = plotData(NEW_OBS_TS)"
   ]
  },
  {
   "cell_type": "markdown",
   "metadata": {},
   "source": [
    "**Questions**\n",
    "1. For what part of these data will it be difficult to estimate the dynamics and therefore the kinetics constants?"
   ]
  },
  {
   "cell_type": "markdown",
   "metadata": {},
   "source": [
    "## Construct a good fit of the model\n",
    "**Question**\n",
    "1. Find a good fit for the model.\n",
    "1. How good are the estimates relative to ground truth? If there are bad estimates, explain why.\n",
    "1. Plot the model using the estimated values."
   ]
  },
  {
   "cell_type": "code",
   "execution_count": 24,
   "metadata": {
    "jupyter": {
     "source_hidden": true
    }
   },
   "outputs": [
    {
     "name": "stderr",
     "output_type": "stream",
     "text": [
      "/home/ubuntu/advancing-biomedical-models/cls/lib/python3.6/site-packages/roadrunner/roadrunner.py:3944: UserWarning:\n",
      "\n",
      "Simulation requested end point (5.0) not reached, because the maximum number of steps reached.  Possible solutions include:\n",
      "  * Setting an explicit number of points (i.e. r.simulate(0.0, 5.0, 1001)\n",
      "  * Setting r.integrator.variable_step_size to 'False'\n",
      "* Setting \n",
      "\n"
     ]
    },
    {
     "data": {
      "text/html": [
       "<table><tr><th> name </th><th> value </th><th> standard error </th><th> relative error </th><th> initial value </th><th> min </th><th> max </th><th> vary </th></tr><tr><td> k1 </td><td>  8.52540290 </td><td>  440.022083 </td><td> (5161.31%) </td><td> 0.0612902605266652 </td><td>  0.00000000 </td><td>  10.0000000 </td><td> True </td></tr><tr><td> k2 </td><td>  1.89208548 </td><td>  97.6704011 </td><td> (5162.05%) </td><td> 8.413903771539179 </td><td>  0.00000000 </td><td>  10.0000000 </td><td> True </td></tr><tr><td> k3 </td><td>  1.33825391 </td><td>  0.00550351 </td><td> (0.41%) </td><td> 1.9631477885581994 </td><td>  0.00000000 </td><td>  10.0000000 </td><td> True </td></tr><tr><td> A </td><td>  0.30194088 </td><td>  15.5825558 </td><td> (5160.80%) </td><td> 8.408094357202868 </td><td>  0.00000000 </td><td>  10.0000000 </td><td> True </td></tr></table>"
      ],
      "text/plain": [
       "Parameters([('k1',\n",
       "             <Parameter 'k1', value=8.525402901332221 +/- 440, bounds=[0:10]>),\n",
       "            ('k2',\n",
       "             <Parameter 'k2', value=1.8920854771552804 +/- 97.7, bounds=[0:10]>),\n",
       "            ('k3',\n",
       "             <Parameter 'k3', value=1.3382539094648531 +/- 0.0055, bounds=[0:10]>),\n",
       "            ('A',\n",
       "             <Parameter 'A', value=0.30194087975873196 +/- 15.6, bounds=[0:10]>)])"
      ]
     },
     "execution_count": 24,
     "metadata": {},
     "output_type": "execute_result"
    }
   ],
   "source": [
    "# Solution\n",
    "NEW_FITTER = ModelFitter(NEW_MODEL, NEW_OBS_TS, parametersToFit=NEW_PARAMETERS_TO_FIT)\n",
    "NEW_FITTER.fitModel()\n",
    "NEW_FITTED_TS = NEW_FITTER.fittedTS\n",
    "NEW_PARAMETER_ESTIMATES = NEW_FITTER.params\n",
    "NEW_PARAMETER_ESTIMATES"
   ]
  },
  {
   "cell_type": "code",
   "execution_count": 25,
   "metadata": {
    "jupyter": {
     "source_hidden": true
    }
   },
   "outputs": [
    {
     "data": {
      "image/png": "[encoded data removed]",
      "text/plain": [
       "<Figure size 432x288 with 1 Axes>"
      ]
     },
     "metadata": {
      "needs_background": "light"
     },
     "output_type": "display_data"
    }
   ],
   "source": [
    "fittedTS = ModelFitter.runSimulation(roadrunner=NEW_MODEL, numPoint=NEW_NUM_POINT, endTime=NEW_END_TIME,\n",
    "                                     returnDataFrame=False, parameters=NEW_PARAMETER_ESTIMATES)\n",
    "_ = plotData(fittedTS)"
   ]
  },
  {
   "cell_type": "markdown",
   "metadata": {},
   "source": [
    "## Estimate the residuals"
   ]
  },
  {
   "cell_type": "markdown",
   "metadata": {},
   "source": [
    "## Construct bootstrap estimates"
   ]
  },
  {
   "cell_type": "markdown",
   "metadata": {},
   "source": [
    "# Bootstrapping With SBstoat"
   ]
  },
  {
   "cell_type": "code",
   "execution_count": 26,
   "metadata": {},
   "outputs": [
    {
     "name": "stdout",
     "output_type": "stream",
     "text": [
      "\n",
      "\n",
      "\n",
      "13.028173: ***Running bootstrap for 500 successful iterations with 5 processes.***\n",
      "\n",
      "16.217070:     (Bootstrap completed 100 total iterations with 100 successes.)\n",
      "\n",
      "19.394968:     (Bootstrap completed 200 total iterations with 200 successes.)\n",
      "\n",
      "22.285034:     (Bootstrap completed 300 total iterations with 300 successes.)\n",
      "\n",
      "25.560329:     (Bootstrap completed 400 total iterations with 400 successes.)\n",
      "\n",
      "29.038584:     (Process 3: completed bootstrap.)\n",
      "\n",
      "29.104188:     (Process 2: completed bootstrap.)\n",
      "\n",
      "29.123893:     (Bootstrap completed 500 total iterations with 500 successes.)\n",
      "\n",
      "29.127315:     (Process 1: completed bootstrap.)\n",
      "\n",
      "29.199378:     (Process 5: completed bootstrap.)\n",
      "\n",
      "29.276128:     (Process 4: completed bootstrap.)\n",
      "\n",
      "\n",
      "29.334330: \n",
      " **500 bootstrap estimates of parameters.\n",
      "\n",
      "\n",
      "\n",
      "29.335709: ***\n",
      "Bootstrap Report.\n",
      "Total iterations: 500\n",
      "Total simulation: 500\n",
      "k1\n",
      "  mean: 1.66646198619807\n",
      "  std: 2.5632854804215084\n",
      "  [2.5, 50, 97.55] Percentiles: [2.54221648e-08 3.34457110e-02 9.18371292e+00]\n",
      "k2\n",
      "  mean: 6.174206596736954\n",
      "  std: 2.880443356284035\n",
      "  [2.5, 50, 97.55] Percentiles: [0.83666323 6.42673872 9.99874486]\n",
      "k3\n",
      "  mean: 2.289491043365458\n",
      "  std: 2.6334535878414784\n",
      "  [2.5, 50, 97.55] Percentiles: [0.74252642 1.16251659 9.67826737]\n",
      "A\n",
      "  mean: 3.2394285416322566\n",
      "  std: 2.944451170037199\n",
      "  [2.5, 50, 97.55] Percentiles: [0.03138003 1.88718044 9.96655381]***\n",
      "None\n"
     ]
    }
   ],
   "source": [
    "NEW_FITTER.bootstrap(numIteration=500, reportInterval=100)\n",
    "print(NEW_FITTER.reportBootstrap())"
   ]
  }
 ],
 "metadata": {
  "kernelspec": {
   "display_name": "Python 3",
   "language": "python",
   "name": "python3"
  },
  "language_info": {
   "codemirror_mode": {
    "name": "ipython",
    "version": 3
   },
   "file_extension": ".py",
   "mimetype": "text/x-python",
   "name": "python",
   "nbconvert_exporter": "python",
   "pygments_lexer": "ipython3",
   "version": "3.6.9"
  },
  "toc-autonumbering": true
 },
 "nbformat": 4,
 "nbformat_minor": 4
}
