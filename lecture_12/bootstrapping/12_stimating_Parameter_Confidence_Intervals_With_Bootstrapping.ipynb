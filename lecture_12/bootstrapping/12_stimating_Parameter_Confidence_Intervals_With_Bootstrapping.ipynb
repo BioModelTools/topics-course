{
 "cells": [
  {
   "cell_type": "markdown",
   "metadata": {},
   "source": [
    "<span style=\"font-family:Papyrus; font-size:3em;\" >Estimating Parameter Confidence Intervals With Bootstrapping</span>"
   ]
  },
  {
   "cell_type": "markdown",
   "metadata": {},
   "source": [
    "This notebook demonstrates the calculations required to do confidence interval constructions.\n",
    "1. Construct a good model. This means checking that we get good $R^2$ values (or other model quality metrics) for each fold in a cross validation.\n",
    "1. Compute residuals for the good model.\n",
    "1. Construct a collection of parameter estimates. That is, for many repetitions\n",
    "   1. Construct new observations (by using randomly selected residuals)\n",
    "   1. Estimate parameter values\n",
    "1. Compute the mean and standard deviation of the parameter estimates\n",
    "1. Construct the confidence interval\n",
    "\n",
    "**SOME BUGS**"
   ]
  },
  {
   "cell_type": "markdown",
   "metadata": {},
   "source": [
    "# Programming Preliminaries"
   ]
  },
  {
   "cell_type": "code",
   "execution_count": 1,
   "metadata": {},
   "outputs": [],
   "source": [
    "IS_COLAB = False\n",
    "#\n",
    "if IS_COLAB:\n",
    "  !pip install matplotlib\n",
    "  !pip install numpy\n",
    "  !pip install tellurium\n",
    "  !pip install SBstoat\n",
    "#    \n",
    "# Constants for standalone notebook\n",
    "if not IS_COLAB:\n",
    "    CODE_DIRS = [\"/home/ubuntu/advancing-biomedical-models/common\"]\n",
    "    CODE_DIRS.append(\"/home/ubuntu/SBstoat\")\n",
    "    DATA_DIR = \"/home/ubuntu/advancing-biomedical-models/lecture_12\"\n",
    "else:\n",
    "    from google.colab import drive\n",
    "    drive.mount('/content/drive')\n",
    "    CODE_DIRS = [\"/content/drive/MyDrive/Modeling_Class/Winter 2021/common\"]\n",
    "    DATA_DIR = \"/content/drive/MyDrive/Modeling_Class/Lecture Notes/12_lecture\"\n",
    "import sys\n",
    "for path in CODE_DIRS:\n",
    "    sys.path.insert(0, path)\n",
    "# Other constants\n",
    "TIME = \"time\""
   ]
  },
  {
   "cell_type": "code",
   "execution_count": 2,
   "metadata": {},
   "outputs": [],
   "source": [
    "%matplotlib inline\n",
    "import numpy as np\n",
    "import lmfit   # Fitting lib\n",
    "import pandas as pd\n",
    "import matplotlib.pyplot as plt\n",
    "from SBstoat.modelFitter import ModelFitter\n",
    "from SBstoat.observationSynthesizer import ObservationSynthesizerRandomizedResiduals, ObservationSynthesizerRandomErrors\n",
    "from SBstoat.namedTimeseries import NamedTimeseries\n",
    "import model_fitting as mf"
   ]
  },
  {
   "cell_type": "markdown",
   "metadata": {},
   "source": [
    "# Model and Data"
   ]
  },
  {
   "cell_type": "code",
   "execution_count": 3,
   "metadata": {},
   "outputs": [
    {
     "data": {
      "text/html": [
       "<table><tr><th> name </th><th> value </th><th> initial value </th><th> min </th><th> max </th><th> vary </th></tr><tr><td> k1 </td><td>  5.00000000 </td><td> 5.0 </td><td>  0.00000000 </td><td>  10.0000000 </td><td> True </td></tr><tr><td> k2 </td><td>  5.00000000 </td><td> 5.0 </td><td>  0.00000000 </td><td>  10.0000000 </td><td> True </td></tr></table>"
      ],
      "text/plain": [
       "Parameters([('k1', <Parameter 'k1', value=5.0, bounds=[0:10]>),\n",
       "            ('k2', <Parameter 'k2', value=5.0, bounds=[0:10]>)])"
      ]
     },
     "execution_count": 3,
     "metadata": {},
     "output_type": "execute_result"
    }
   ],
   "source": [
    "# Model used in this example\n",
    "MODEL = \"\"\"\n",
    "     A -> B; k1*A\n",
    "     B -> C; k2*B\n",
    "      \n",
    "     A = 5;\n",
    "     B = 0;\n",
    "     C = 0;\n",
    "     k1 = 0.1\n",
    "     k2 = 0.2\n",
    "\"\"\"\n",
    "PARAMETERS_TO_FIT = [\"k1\", \"k2\"]\n",
    "PARAMETER_ESTIMATES = ModelFitter.mkParameters(parametersToFit=PARAMETERS_TO_FIT)\n",
    "PARAMETER_ESTIMATES"
   ]
  },
  {
   "cell_type": "code",
   "execution_count": 4,
   "metadata": {},
   "outputs": [],
   "source": [
    "# Globals\n",
    "NUM_POINTS = 30\n",
    "SIM_TIME= 30\n",
    "NOISE_STD = 0.3"
   ]
  },
  {
   "cell_type": "code",
   "execution_count": 5,
   "metadata": {},
   "outputs": [
    {
     "data": {
      "text/plain": [
       "                  A         B         C\n",
       "time                                   \n",
       "0.000000   4.763107  0.127791  0.230178\n",
       "1.034483   4.615130  0.410116 -0.168190\n",
       "2.068966   3.834938  1.105666 -0.571971\n",
       "3.103448   3.040599  0.173583  0.259141\n",
       "4.137931   3.455802  0.589946  0.546973\n",
       "5.172414   3.233817  1.184764  0.721569\n",
       "6.206897   2.880449  1.076058  1.523401\n",
       "7.241379   2.232698  0.720702  1.379407\n",
       "8.275862   2.034105  1.216898  1.120953\n",
       "9.310345   2.298824  0.999331  1.848472\n",
       "10.344828  2.020215  1.566223  2.358441\n",
       "11.379310  1.585522  1.227108  2.212744\n",
       "12.413793  1.482121  1.261457  2.812434\n",
       "13.448276  1.678309  0.922665  2.884894\n",
       "14.482759  1.311098  0.698400  2.817709\n",
       "15.517241  0.707609  1.172169  2.647168\n",
       "16.551724  0.513839  0.936055  2.974758\n",
       "17.586207  0.922327  0.899725  3.331519\n",
       "18.620690  0.752702  0.885580  3.746949\n",
       "19.655172  0.836918  0.221247  3.480755\n",
       "20.689655  0.493270  0.179382  3.933335\n",
       "21.724138 -0.035912  0.878373  3.598822\n",
       "22.758621  0.808125  0.535151  4.446732\n",
       "23.793103  0.694542  0.210648  3.502946\n",
       "24.827586  0.091487  0.426499  4.461529\n",
       "25.862069  0.316260  0.042714  4.022263\n",
       "26.896552  1.214035  0.332182  4.333593\n",
       "27.931034  0.457515  0.115271  4.366705\n",
       "28.965517  0.322113  0.569304  4.406758\n",
       "30.000000  0.298550  0.304731  4.185981"
      ]
     },
     "execution_count": 5,
     "metadata": {},
     "output_type": "execute_result"
    }
   ],
   "source": [
    "fittedTS = ModelFitter.runSimulation(roadrunner=MODEL, numPoint=NUM_POINTS, endTime=SIM_TIME, returnDataFrame=False)\n",
    "synthesizer = ObservationSynthesizerRandomErrors(fittedTS=fittedTS, std=NOISE_STD)\n",
    "OBS_TS = synthesizer.calculate()\n",
    "OBS_TS"
   ]
  },
  {
   "cell_type": "code",
   "execution_count": 6,
   "metadata": {},
   "outputs": [
    {
     "data": {
      "image/png": "[encoded data removed]",
      "text/plain": [
       "<Figure size 432x288 with 1 Axes>"
      ]
     },
     "metadata": {
      "needs_background": "light"
     },
     "output_type": "display_data"
    }
   ],
   "source": [
    "_, ax = plt.subplots(1)\n",
    "for column in OBS_TS.colnames:\n",
    "    ax.scatter(OBS_TS[TIME], OBS_TS[column])\n",
    "_ = plt.legend(OBS_TS.colnames)"
   ]
  },
  {
   "cell_type": "markdown",
   "metadata": {},
   "source": [
    "# Bootstrapping Workflow"
   ]
  },
  {
   "cell_type": "markdown",
   "metadata": {},
   "source": [
    "## Construct a good model.\n",
    "In the following, we use the same model as the synthetic observations. Of course, in practice, you won't know the \"true\" model."
   ]
  },
  {
   "cell_type": "markdown",
   "metadata": {},
   "source": [
    "First, we need to estimate the parameter values to use in our model. To this end, we do a fit on the full set of data."
   ]
  },
  {
   "cell_type": "code",
   "execution_count": 7,
   "metadata": {},
   "outputs": [
    {
     "name": "stderr",
     "output_type": "stream",
     "text": [
      "/home/ubuntu/advancing-biomedical-models/cls/lib/python3.6/site-packages/roadrunner/roadrunner.py:3944: UserWarning:\n",
      "\n",
      "Simulation requested end point (30.000000000000004) not reached, because the maximum number of steps reached.  Possible solutions include:\n",
      "  * Setting an explicit number of points (i.e. r.simulate(0.0, 30.000000000000004, 1001)\n",
      "  * Setting r.integrator.variable_step_size to 'False'\n",
      "* Setting \n",
      "\n"
     ]
    },
    {
     "data": {
      "text/html": [
       "<table><tr><th> name </th><th> value </th><th> standard error </th><th> relative error </th><th> initial value </th><th> min </th><th> max </th><th> vary </th></tr><tr><td> k1 </td><td>  0.09650037 </td><td>  0.00298320 </td><td> (3.09%) </td><td> 9.494436819824125 </td><td>  0.00000000 </td><td>  10.0000000 </td><td> True </td></tr><tr><td> k2 </td><td>  0.20035793 </td><td>  0.01172726 </td><td> (5.85%) </td><td> 2.3450700531563 </td><td>  0.00000000 </td><td>  10.0000000 </td><td> True </td></tr></table>"
      ],
      "text/plain": [
       "Parameters([('k1',\n",
       "             <Parameter 'k1', value=0.09650037080106644 +/- 0.00298, bounds=[0:10]>),\n",
       "            ('k2',\n",
       "             <Parameter 'k2', value=0.2003579279297324 +/- 0.0117, bounds=[0:10]>)])"
      ]
     },
     "execution_count": 7,
     "metadata": {},
     "output_type": "execute_result"
    }
   ],
   "source": [
    "FITTER = ModelFitter(MODEL, OBS_TS, parametersToFit=[\"k1\", \"k2\"])\n",
    "FITTER.fitModel()\n",
    "FITTED_TS = FITTER.fittedTS\n",
    "PARAMETER_ESTIMATES = FITTER.params\n",
    "PARAMETER_ESTIMATES"
   ]
  },
  {
   "cell_type": "code",
   "execution_count": 8,
   "metadata": {},
   "outputs": [
    {
     "name": "stdout",
     "output_type": "stream",
     "text": [
      "[[Fit Statistics]]\n",
      "    chi-square         = 7.89515816\n",
      "    reduced chi-square = 0.08971771\n",
      "    Akaike info crit   = -215.020399\n",
      "    Bayesian info crit = -210.020780\n",
      "[[Variables]]\n",
      "    k1:  0.09650037 +/- 0.00298320 (3.09%) (init = 9.494437)\n",
      "    k2:  0.20035793 +/- 0.01172726 (5.85%) (init = 2.34507)\n",
      "[[Correlations]] (unreported correlations are < 0.100)\n",
      "    C(k1, k2) = -0.398\n"
     ]
    }
   ],
   "source": [
    "print(FITTER.reportFit())"
   ]
  },
  {
   "cell_type": "markdown",
   "metadata": {},
   "source": [
    "**Question**\n",
    "1. What are the parameter estimates if the NOSE_STD is 0.8?"
   ]
  },
  {
   "cell_type": "markdown",
   "metadata": {},
   "source": [
    "## Compute the Residuals\n",
    "Residuals need to be calculated by chemical species since they may be in very different units."
   ]
  },
  {
   "cell_type": "code",
   "execution_count": 9,
   "metadata": {},
   "outputs": [
    {
     "data": {
      "text/plain": [
       "                  A         B         C\n",
       "time                                   \n",
       "0.000000  -0.236893  0.127791  0.230178\n",
       "1.034483   0.090164 -0.018182 -0.214926\n",
       "2.068966  -0.260124  0.369936 -0.741179\n",
       "3.103448  -0.665404 -0.775203 -0.086070\n",
       "4.137931   0.101894 -0.498685 -0.010489\n",
       "5.172414   0.198554  0.012628 -0.071032\n",
       "6.206897   0.133557 -0.136657  0.483008\n",
       "7.241379  -0.253221 -0.500293  0.086321\n",
       "8.275862  -0.215634  0.011527 -0.423937\n",
       "9.310345   0.262825 -0.173109  0.056910\n",
       "10.344828  0.177651  0.438857  0.328370\n",
       "11.379310 -0.081986  0.152950 -0.045589\n",
       "12.413793 -0.026963  0.245540  0.337434\n",
       "13.448276  0.312599 -0.032343  0.205612\n",
       "14.482759  0.075140 -0.194819 -0.053114\n",
       "15.517241 -0.410925  0.340286 -0.402416\n",
       "16.551724 -0.498426  0.164086 -0.241007\n",
       "17.586207  0.006234  0.185556 -0.038219\n",
       "18.620690 -0.076356  0.226630  0.234957\n",
       "19.655172  0.086626 -0.385365 -0.162341\n",
       "20.689655 -0.185738 -0.377944  0.169669\n",
       "21.724138 -0.650411  0.367213 -0.275521\n",
       "22.758621  0.252008  0.067042  0.470958\n",
       "23.793103  0.191261 -0.217469 -0.565656\n",
       "24.827586 -0.363979  0.035414  0.308081\n",
       "25.862069 -0.095934 -0.314176 -0.208652\n",
       "26.896552  0.841002  0.006792  0.032016\n",
       "27.931034  0.119923 -0.181161  0.000729\n",
       "28.965517  0.016595  0.299446 -0.017865\n",
       "30.000000  0.022057  0.059219 -0.292015"
      ]
     },
     "execution_count": 9,
     "metadata": {},
     "output_type": "execute_result"
    }
   ],
   "source": [
    "# Note that the residuals for the chemical species differ. Compare the residuals for A (1st col) with\n",
    "# the residuals for C (3rd col)\n",
    "columns = FITTED_TS.colnames\n",
    "RESIDUALS_TS = OBS_TS.copy()  # Create the shape of the residuals\n",
    "RESIDUALS_TS[columns] -= FITTED_TS[columns]\n",
    "RESIDUALS_TS"
   ]
  },
  {
   "cell_type": "code",
   "execution_count": 10,
   "metadata": {},
   "outputs": [
    {
     "data": {
      "text/plain": [
       "0.29462017472673324"
      ]
     },
     "execution_count": 10,
     "metadata": {},
     "output_type": "execute_result"
    }
   ],
   "source": [
    "# The standard deviation of the residuals should be approximately the same as the standard deviation\n",
    "# of the random noise we injected in the construction of the observations.\n",
    "np.std(RESIDUALS_TS.flatten())"
   ]
  },
  {
   "cell_type": "markdown",
   "metadata": {},
   "source": [
    "A validation of our codes and workflow is that the standard deviation of the residuals is close to the standard deviation of the noise used in the observational data."
   ]
  },
  {
   "cell_type": "markdown",
   "metadata": {},
   "source": [
    "## Construct a Collection of Parameter Estimates"
   ]
  },
  {
   "cell_type": "markdown",
   "metadata": {},
   "source": [
    "### Step 3a: Construct Synthetic Observations\n",
    "We define a function that constructs a set of observations from residuals and a model."
   ]
  },
  {
   "cell_type": "code",
   "execution_count": 11,
   "metadata": {},
   "outputs": [],
   "source": [
    "synthesizer = ObservationSynthesizerRandomizedResiduals(fittedTS=FITTED_TS, observedTS=OBS_TS, residualsTS=RESIDUALS_TS)"
   ]
  },
  {
   "cell_type": "code",
   "execution_count": 12,
   "metadata": {},
   "outputs": [
    {
     "data": {
      "text/plain": [
       "                  A         B         C\n",
       "time                                   \n",
       "0.000000   4.636021 -0.385365 -0.275521\n",
       "1.034483   4.787791  0.114122 -0.245279\n",
       "2.068966   4.357888  0.899816  0.201224\n",
       "3.103448   3.055592  0.916443  0.575389\n",
       "4.137931   2.703497  1.252717  1.040470\n",
       "5.172414   2.671283  1.336223  0.849511\n",
       "6.206897   2.753126  1.224242  0.831741\n",
       "7.241379   2.389984  0.445792  0.551907\n",
       "8.275862   2.448293  1.010552  2.027899\n",
       "9.310345   1.625073  0.954971  1.877882\n",
       "10.344828  1.192154  0.946205  1.789063\n",
       "11.379310  1.866062  1.109573  2.240468\n",
       "12.413793  0.843679  1.315363  2.436781\n",
       "13.448276  0.954785  0.922665  2.470631\n",
       "14.482759  1.208995  0.960261  2.832604\n",
       "15.517241  1.959536  0.984832  3.279762\n",
       "16.551724  1.034322  1.112256  3.445943\n",
       "17.586207  1.002719  0.867119  2.628559\n",
       "18.620690  0.330632  0.671578  3.681662\n",
       "19.655172  0.836918  0.770699  3.951177\n",
       "20.689655  0.780903  0.568853  3.795681\n",
       "21.724138  0.203574  0.675245  3.960663\n",
       "22.758621  0.689674  0.295000  4.205952\n",
       "23.793103  0.243157  0.613673  4.551609\n",
       "24.827586  0.575390  0.458128  4.383625\n",
       "25.862069 -0.086232  0.520976  4.262931\n",
       "26.896552 -0.277378  0.307207  4.086652\n",
       "27.931034 -0.073333  0.735289  3.624797\n",
       "28.965517  1.146521  0.515399  4.510944\n",
       "30.000000  0.351632 -0.139853  4.815429"
      ]
     },
     "execution_count": 12,
     "metadata": {},
     "output_type": "execute_result"
    }
   ],
   "source": [
    "synthesizer.calculate()"
   ]
  },
  {
   "cell_type": "code",
   "execution_count": 13,
   "metadata": {},
   "outputs": [
    {
     "data": {
      "text/plain": [
       "                  A         B         C\n",
       "time                                   \n",
       "0.000000   5.016595 -0.018182 -0.741179\n",
       "1.034483   4.600105  0.613854  0.384170\n",
       "2.068966   4.272713  0.899816  0.151343\n",
       "3.103448   3.825926  1.315999  0.673581\n",
       "4.137931   2.855481  0.951973 -0.008193\n",
       "5.172414   3.155186  1.183663  0.824616\n",
       "6.206897   3.059491  1.279757  1.275350\n",
       "7.241379   2.502513  1.385081  1.084434\n",
       "8.275862   3.090741  1.024210  1.269370\n",
       "9.310345   2.122624  0.787075  1.367625\n",
       "10.344828  1.431640  1.280315  1.976957\n",
       "11.379310  1.757672  0.892998  1.692678\n",
       "12.413793  0.843679  0.517232  2.507015\n",
       "13.448276  1.455874  1.107957  2.987363\n",
       "14.482759  0.737532  1.263155  2.129644\n",
       "15.517241  1.124768  0.614414  2.625647\n",
       "16.551724  1.114159  1.141906  2.650110\n",
       "17.586207  0.417667  0.336225  3.316624\n",
       "18.620690  0.845653  0.477789  2.770813\n",
       "19.655172  0.756526  0.734404  3.240679\n",
       "20.689655  0.769173  0.685117  4.101099\n",
       "21.724138  0.866506  0.133216  3.931252\n",
       "22.758621  0.676040  0.273290  4.205952\n",
       "23.793103  0.694542  0.395774  4.274213\n",
       "24.827586  0.545631  0.397878  4.624405\n",
       "25.862069  0.664202  0.369518  4.159884\n",
       "26.896552 -0.125393  0.011214  4.471247\n",
       "27.931034  0.515243  0.363474  4.320387\n",
       "28.965517  0.068625  0.305272  4.386404\n",
       "30.000000  0.180558  0.585799  4.708173"
      ]
     },
     "execution_count": 13,
     "metadata": {},
     "output_type": "execute_result"
    }
   ],
   "source": [
    "# Try running this several times to see how values change.\n",
    "synthesizer.calculate()"
   ]
  },
  {
   "cell_type": "markdown",
   "metadata": {},
   "source": [
    "### Repeatedly estimate parameter values"
   ]
  },
  {
   "cell_type": "code",
   "execution_count": 14,
   "metadata": {},
   "outputs": [
    {
     "name": "stderr",
     "output_type": "stream",
     "text": [
      "/home/ubuntu/advancing-biomedical-models/cls/lib/python3.6/site-packages/roadrunner/roadrunner.py:3944: UserWarning:\n",
      "\n",
      "Simulation requested end point (30.000000000000004) not reached, because the maximum number of steps reached.  Possible solutions include:\n",
      "  * Setting an explicit number of points (i.e. r.simulate(0.0, 30.000000000000004, 1001)\n",
      "  * Setting r.integrator.variable_step_size to 'False'\n",
      "* Setting \n",
      "\n"
     ]
    }
   ],
   "source": [
    "def estimateParameters(model, observedTS, parametersToFit, numIteration=10):\n",
    "    estimateDct = {p: [] for p in parametersToFit}\n",
    "    # Get the initial estimates\n",
    "    fitter = ModelFitter(model, observedTS, parametersToFit=parametersToFit)\n",
    "    fitter.fitModel()\n",
    "    initialParams = fitter.params\n",
    "    # Create the observation synthesizer\n",
    "    synthesizer = ObservationSynthesizerRandomizedResiduals(fittedTS=fitter.fittedTS, observedTS=observedTS)\n",
    "    # Iterative calculate parameters\n",
    "    for _ in range(numIteration):\n",
    "        newObservedTS = synthesizer.calculate()\n",
    "        newFitter = ModelFitter(model, newObservedTS, parametersToFit=parametersToFit)\n",
    "        newFitter.fitModel(params=initialParams)\n",
    "        [estimateDct[p].append(newFitter.params.valuesdict()[p]) for p in parametersToFit]\n",
    "    return estimateDct\n",
    "\n",
    "# Tests\n",
    "numIteration = 5\n",
    "estimateDct = estimateParameters(MODEL, OBS_TS, PARAMETERS_TO_FIT, numIteration=numIteration)\n",
    "assert(len(estimateDct[PARAMETERS_TO_FIT[0]]) == len(estimateDct[PARAMETERS_TO_FIT[1]]))\n",
    "assert(len(estimateDct[PARAMETERS_TO_FIT[0]]) == numIteration)"
   ]
  },
  {
   "cell_type": "code",
   "execution_count": 16,
   "metadata": {},
   "outputs": [
    {
     "data": {
      "image/png": "[encoded data removed]",
      "text/plain": [
       "<Figure size 432x288 with 1 Axes>"
      ]
     },
     "metadata": {
      "needs_background": "light"
     },
     "output_type": "display_data"
    }
   ],
   "source": [
    "ESTIMATE_DCT = estimateParameters(MODEL, OBS_TS, PARAMETERS_TO_FIT, numIteration=1000)\n",
    "def plotHist(parameter):\n",
    "    _ = plt.hist(ESTIMATE_DCT[parameter],bins=1000)\n",
    "    plt.xlim([0, 1])\n",
    "\n",
    "for parameter in PARAMETERS_TO_FIT:\n",
    "    plotHist(parameter)\n",
    "_ = plt.legend(PARAMETERS_TO_FIT)"
   ]
  },
  {
   "cell_type": "markdown",
   "metadata": {},
   "source": [
    "**Questions**\n",
    "1. How do the quality of the parameter estimates change with the number of simulation points? With the simulation time?"
   ]
  },
  {
   "cell_type": "markdown",
   "metadata": {},
   "source": [
    "## Compute Confidence Intervals"
   ]
  },
  {
   "cell_type": "code",
   "execution_count": null,
   "metadata": {},
   "outputs": [],
   "source": [
    "np.quantile(range(10), [.10, .90])"
   ]
  },
  {
   "cell_type": "markdown",
   "metadata": {},
   "source": [
    "**Question**\n",
    "1. Calculate 95% confidence intervals for the parameters.\n",
    "   1. How many iterations should you use?"
   ]
  },
  {
   "cell_type": "code",
   "execution_count": 17,
   "metadata": {},
   "outputs": [
    {
     "name": "stdout",
     "output_type": "stream",
     "text": [
      "k1: [0.09582003 4.09999821]\n",
      "k2: [0.1029174  0.22152091]\n"
     ]
    }
   ],
   "source": [
    "# Solution\n",
    "for parameter in estimateDct.keys():\n",
    "    quantile = np.quantile(estimateDct[parameter], [0.025, 0.975])\n",
    "    print(\"%s: %s\" % (parameter, str(quantile)))"
   ]
  },
  {
   "cell_type": "markdown",
   "metadata": {},
   "source": [
    "# Exercise\n",
    "\n",
    "TRUE MODEL:\n",
    "\n",
    "- A -> B\n",
    "- A -> C\n",
    "- B + C -> D\n",
    "\n",
    "All kinetics are mass action. The kinetics constants are (in order of the reactions): 0.5, 0.5, 1.0. The initial concentration of A is 5. Consider a time course of duration 30 with 20 points.\n",
    "\n",
    "\n",
    "1. Generate synthetic observations using this model using a normally distributed noise with a standard deviation\n",
    "of 0.1.\n",
    "1. Using the true model (the one above), find the $R^2$ values in a cross validation with 4 folds.\n",
    "1. Construct confidence intervals for the parameters."
   ]
  },
  {
   "cell_type": "code",
   "execution_count": null,
   "metadata": {},
   "outputs": [],
   "source": [
    "# Model used in this example\n",
    "new_model = \"\"\"\n",
    "     A -> B; k1*A\n",
    "     A -> C; k2*A\n",
    "     B + C -> D; k3*B*C\n",
    "      \n",
    "     A = 5;\n",
    "     B = 0;\n",
    "     C = 0;\n",
    "     k1 = 0.5\n",
    "     k2 = 0.5\n",
    "     k3 = 1.0\n",
    "\"\"\""
   ]
  },
  {
   "cell_type": "code",
   "execution_count": null,
   "metadata": {},
   "outputs": [],
   "source": [
    "# Globals\n",
    "num_points = 20\n",
    "sim_time = 30\n",
    "nose_std = 0.1"
   ]
  },
  {
   "cell_type": "code",
   "execution_count": null,
   "metadata": {},
   "outputs": [],
   "source": [
    "# Create synthetic observational data for this example. This is for demonstration purposes only.\n",
    "# In practice, you will have observational data from experiments.\n",
    "obs_data = mf.makeObservations(model=new_model, noise_std=nose_std, num_points=num_points, sim_time=sim_time)"
   ]
  },
  {
   "cell_type": "code",
   "execution_count": null,
   "metadata": {},
   "outputs": [],
   "source": [
    "mf.plotTimeSeries(obs_data, is_scatter=True, columns=['A','B', 'C', 'D'])"
   ]
  },
  {
   "cell_type": "code",
   "execution_count": null,
   "metadata": {},
   "outputs": [],
   "source": [
    "fitted_parameters = mf.fit(obs_data, model=new_model, parameter_estimates=unfitted_parameters,\n",
    "                           num_points=num_points, sim_time=sim_time)\n",
    "fitted_parameters"
   ]
  },
  {
   "cell_type": "code",
   "execution_count": null,
   "metadata": {},
   "outputs": [],
   "source": [
    "print(new_model)"
   ]
  },
  {
   "cell_type": "code",
   "execution_count": null,
   "metadata": {},
   "outputs": [],
   "source": [
    "obs_data"
   ]
  },
  {
   "cell_type": "code",
   "execution_count": null,
   "metadata": {},
   "outputs": [],
   "source": [
    "# Construct the matrix of residuals\n",
    "residuals_matrix = mf.makeResidualsDF(obs_data, model=new_model, parameter_estimates=fitted_parameters, \n",
    "                                          num_points=num_points, sim_time=sim_time)\n",
    "residuals_matrix"
   ]
  },
  {
   "cell_type": "code",
   "execution_count": null,
   "metadata": {},
   "outputs": [],
   "source": [
    "# Do the cross validation for this model. the crossValidate function returns two values: list of\n",
    "# the parameters (for each fold) and RSQs for each fold.\n",
    "list_parameters, rsqs = mf.crossValidate(obs_data, model=new_model, parameter_estimates=fitted_parameters, \n",
    "                                         num_points=num_points, \n",
    "                                         sim_time=sim_time,\n",
    "                                         num_folds=4)\n",
    "rsqs"
   ]
  },
  {
   "cell_type": "code",
   "execution_count": null,
   "metadata": {},
   "outputs": [],
   "source": [
    "list_parameters = makeParametersList(new_model, fitted_parameters, residuals_matrix, num_points, sim_time)\n",
    "list_parameters"
   ]
  },
  {
   "cell_type": "code",
   "execution_count": null,
   "metadata": {},
   "outputs": [],
   "source": [
    "# Here's the result\n",
    "mf.makeParameterStatistics(list_parameters)"
   ]
  },
  {
   "cell_type": "markdown",
   "metadata": {},
   "source": [
    "# Bootstrapping With SBstoat"
   ]
  }
 ],
 "metadata": {
  "kernelspec": {
   "display_name": "Python 3",
   "language": "python",
   "name": "python3"
  },
  "language_info": {
   "codemirror_mode": {
    "name": "ipython",
    "version": 3
   },
   "file_extension": ".py",
   "mimetype": "text/x-python",
   "name": "python",
   "nbconvert_exporter": "python",
   "pygments_lexer": "ipython3",
   "version": "3.6.9"
  }
 },
 "nbformat": 4,
 "nbformat_minor": 4
}
