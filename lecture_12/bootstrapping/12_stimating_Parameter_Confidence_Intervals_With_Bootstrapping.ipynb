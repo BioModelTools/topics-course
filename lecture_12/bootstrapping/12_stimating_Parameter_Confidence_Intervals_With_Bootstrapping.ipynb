{
 "cells": [
  {
   "cell_type": "markdown",
   "metadata": {},
   "source": [
    "<span style=\"font-family:Papyrus; font-size:3em;\" >Estimating Parameter Confidence Intervals With Bootstrapping</span>"
   ]
  },
  {
   "cell_type": "markdown",
   "metadata": {},
   "source": [
    "This notebook demonstrates the calculations required to do confidence interval constructions.\n",
    "1. Construct a good model. This means checking that we get good $R^2$ values (or other model quality metrics) for each fold in a cross validation.\n",
    "1. Compute residuals for the good model.\n",
    "1. Construct a collection of parameter estimates. That is, for many repetitions\n",
    "   1. Construct new observations (by using randomly selected residuals)\n",
    "   1. Estimate parameter values\n",
    "1. Construct the confidence interval"
   ]
  },
  {
   "cell_type": "markdown",
   "metadata": {},
   "source": [
    "# Programming Preliminaries"
   ]
  },
  {
   "cell_type": "code",
   "execution_count": 1,
   "metadata": {},
   "outputs": [],
   "source": [
    "IS_COLAB = False\n",
    "#\n",
    "if IS_COLAB:\n",
    "  !pip install matplotlib\n",
    "  !pip install numpy\n",
    "  !pip install tellurium\n",
    "  !pip install SBstoat\n",
    "#    \n",
    "# Constants for standalone notebook\n",
    "if not IS_COLAB:\n",
    "    CODE_DIRS = [\"/home/ubuntu/advancing-biomedical-models/common\"]\n",
    "    CODE_DIRS.append(\"/home/ubuntu/SBstoat\")\n",
    "    DATA_DIR = \"/home/ubuntu/advancing-biomedical-models/lecture_12\"\n",
    "else:\n",
    "    from google.colab import drive\n",
    "    drive.mount('/content/drive')\n",
    "    CODE_DIRS = [\"/content/drive/MyDrive/Modeling_Class/Winter 2021/common\"]\n",
    "    DATA_DIR = \"/content/drive/MyDrive/Modeling_Class/Lecture Notes/12_lecture\"\n",
    "import sys\n",
    "for path in CODE_DIRS:\n",
    "    sys.path.insert(0, path)\n",
    "# Other constants\n",
    "TIME = \"time\""
   ]
  },
  {
   "cell_type": "code",
   "execution_count": 2,
   "metadata": {},
   "outputs": [],
   "source": [
    "%matplotlib inline\n",
    "import numpy as np\n",
    "import lmfit   # Fitting lib\n",
    "import pandas as pd\n",
    "import matplotlib.pyplot as plt\n",
    "import matplotlib\n",
    "from SBstoat.modelFitter import ModelFitter\n",
    "from SBstoat.observationSynthesizer import ObservationSynthesizerRandomizedResiduals, ObservationSynthesizerRandomErrors\n",
    "from SBstoat.namedTimeseries import NamedTimeseries\n",
    "import model_fitting as mf"
   ]
  },
  {
   "cell_type": "markdown",
   "metadata": {},
   "source": [
    "# Model and Data"
   ]
  },
  {
   "cell_type": "code",
   "execution_count": 3,
   "metadata": {},
   "outputs": [
    {
     "data": {
      "text/html": [
       "<table><tr><th> name </th><th> value </th><th> initial value </th><th> min </th><th> max </th><th> vary </th></tr><tr><td> k1 </td><td>  5.00000000 </td><td> 5.0 </td><td>  0.00000000 </td><td>  10.0000000 </td><td> True </td></tr><tr><td> k2 </td><td>  5.00000000 </td><td> 5.0 </td><td>  0.00000000 </td><td>  10.0000000 </td><td> True </td></tr></table>"
      ],
      "text/plain": [
       "Parameters([('k1', <Parameter 'k1', value=5.0, bounds=[0:10]>),\n",
       "            ('k2', <Parameter 'k2', value=5.0, bounds=[0:10]>)])"
      ]
     },
     "execution_count": 3,
     "metadata": {},
     "output_type": "execute_result"
    }
   ],
   "source": [
    "# Model used in this example\n",
    "MODEL = \"\"\"\n",
    "     A -> B; k1*A\n",
    "     B -> C; k2*B\n",
    "      \n",
    "     A = 5;\n",
    "     B = 0;\n",
    "     C = 0;\n",
    "     k1 = 0.1\n",
    "     k2 = 0.2\n",
    "\"\"\"\n",
    "PARAMETERS_TO_FIT = [\"k1\", \"k2\"]\n",
    "PARAMETER_ESTIMATES = ModelFitter.mkParameters(parametersToFit=PARAMETERS_TO_FIT)\n",
    "PARAMETER_ESTIMATES"
   ]
  },
  {
   "cell_type": "code",
   "execution_count": 4,
   "metadata": {},
   "outputs": [],
   "source": [
    "# Globals\n",
    "NUM_POINTS = 30\n",
    "SIM_TIME= 30\n",
    "NOISE_STD = 0.3"
   ]
  },
  {
   "cell_type": "code",
   "execution_count": 5,
   "metadata": {},
   "outputs": [
    {
     "data": {
      "text/plain": [
       "                  A         B         C\n",
       "time                                   \n",
       "0.000000   5.014071  0.342487 -0.311081\n",
       "1.034483   4.280889  0.251764 -0.058474\n",
       "2.068966   3.824516  1.074896  0.046886\n",
       "3.103448   3.348605  0.690654  0.418501\n",
       "4.137931   3.390018  0.716891  0.174762\n",
       "5.172414   2.453732  1.272580  1.368605\n",
       "6.206897   2.756284  1.480421  1.395102\n",
       "7.241379   2.423198  1.327489  1.634066\n",
       "8.275862   2.201019  1.734761  1.718234\n",
       "9.310345   2.080047  1.203351  1.634943\n",
       "10.344828  1.954378  1.267688  2.203886\n",
       "11.379310  1.913505  0.822270  2.312315\n",
       "12.413793  1.441379  0.778421  2.777793\n",
       "13.448276  1.616690  0.711918  2.962763\n",
       "14.482759  1.005271  0.973626  2.896095\n",
       "15.517241  0.986063  0.904479  2.703012\n",
       "16.551724  0.819785  0.718675  3.409378\n",
       "17.586207  0.648126  0.955156  3.588389\n",
       "18.620690  0.189440  0.742670  3.881827\n",
       "19.655172  0.883445  0.217348  3.419186\n",
       "20.689655  0.906425  0.520825  3.567334\n",
       "21.724138  0.647979  0.514759  3.971288\n",
       "22.758621  0.448093  0.765681  4.151287\n",
       "23.793103  0.815147 -0.069501  3.905818\n",
       "24.827586 -0.303334  0.569227  4.145261\n",
       "25.862069  0.506887  0.102222  4.093108\n",
       "26.896552  0.567416  0.005476  3.762755\n",
       "27.931034  0.047364  0.370350  4.814036\n",
       "28.965517  0.083577  0.137907  4.474517\n",
       "30.000000  0.018603  0.619748  4.522517"
      ]
     },
     "execution_count": 5,
     "metadata": {},
     "output_type": "execute_result"
    }
   ],
   "source": [
    "fittedTS = ModelFitter.runSimulation(roadrunner=MODEL, numPoint=NUM_POINTS, endTime=SIM_TIME, returnDataFrame=False)\n",
    "synthesizer = ObservationSynthesizerRandomErrors(fittedTS=fittedTS, std=NOISE_STD)\n",
    "OBS_TS = synthesizer.calculate()\n",
    "OBS_TS"
   ]
  },
  {
   "cell_type": "code",
   "execution_count": 6,
   "metadata": {},
   "outputs": [
    {
     "data": {
      "text/plain": [
       "<Figure size 432x288 with 0 Axes>"
      ]
     },
     "metadata": {},
     "output_type": "display_data"
    }
   ],
   "source": [
    "def plotData(observedTS):\n",
    "    \"\"\"\n",
    "    Creates a scatter plot of the observed data.\n",
    "    \n",
    "    Parameters\n",
    "    ----------\n",
    "    observedTS: NamedTimeseries\n",
    "    \n",
    "    Returns\n",
    "    -------\n",
    "    \n",
    "    \"\"\"\n",
    "    figure, ax = plt.subplots(1)\n",
    "    for column in observedTS.colnames:\n",
    "        _ = ax.scatter(observedTS[TIME], observedTS[column])\n",
    "    _ = plt.legend(observedTS.colnames)\n",
    "    return figure\n",
    "        \n",
    "# Tests\n",
    "figure = plotData(OBS_TS)\n",
    "assert(isinstance(figure, matplotlib.figure.Figure))\n",
    "_ = figure.clear()"
   ]
  },
  {
   "cell_type": "code",
   "execution_count": 7,
   "metadata": {},
   "outputs": [
    {
     "data": {
      "image/png": "[encoded data removed]",
      "text/plain": [
       "<Figure size 432x288 with 1 Axes>"
      ]
     },
     "metadata": {
      "needs_background": "light"
     },
     "output_type": "display_data"
    }
   ],
   "source": [
    "_ = plotData(OBS_TS)"
   ]
  },
  {
   "cell_type": "markdown",
   "metadata": {},
   "source": [
    "# Bootstrapping Workflow"
   ]
  },
  {
   "cell_type": "markdown",
   "metadata": {},
   "source": [
    "## Construct a good model.\n",
    "In the following, we use the same model as the synthetic observations. Of course, in practice, you won't know the \"true\" model."
   ]
  },
  {
   "cell_type": "markdown",
   "metadata": {},
   "source": [
    "First, we need to estimate the parameter values to use in our model. To this end, we do a fit on the full set of data."
   ]
  },
  {
   "cell_type": "code",
   "execution_count": 8,
   "metadata": {},
   "outputs": [
    {
     "name": "stderr",
     "output_type": "stream",
     "text": [
      "/home/ubuntu/advancing-biomedical-models/cls/lib/python3.6/site-packages/roadrunner/roadrunner.py:3944: UserWarning:\n",
      "\n",
      "Simulation requested end point (30.000000000000004) not reached, because the maximum number of steps reached.  Possible solutions include:\n",
      "  * Setting an explicit number of points (i.e. r.simulate(0.0, 30.000000000000004, 1001)\n",
      "  * Setting r.integrator.variable_step_size to 'False'\n",
      "* Setting \n",
      "\n"
     ]
    },
    {
     "data": {
      "text/html": [
       "<table><tr><th> name </th><th> value </th><th> standard error </th><th> relative error </th><th> initial value </th><th> min </th><th> max </th><th> vary </th></tr><tr><td> k1 </td><td>  0.10149828 </td><td>  0.00280942 </td><td> (2.77%) </td><td> 1.3918854969619665 </td><td>  0.00000000 </td><td>  10.0000000 </td><td> True </td></tr><tr><td> k2 </td><td>  0.20333287 </td><td>  0.01042583 </td><td> (5.13%) </td><td> 9.079193554162924 </td><td>  0.00000000 </td><td>  10.0000000 </td><td> True </td></tr></table>"
      ],
      "text/plain": [
       "Parameters([('k1',\n",
       "             <Parameter 'k1', value=0.10149828424983354 +/- 0.00281, bounds=[0:10]>),\n",
       "            ('k2',\n",
       "             <Parameter 'k2', value=0.203332872082998 +/- 0.0104, bounds=[0:10]>)])"
      ]
     },
     "execution_count": 8,
     "metadata": {},
     "output_type": "execute_result"
    }
   ],
   "source": [
    "FITTER = ModelFitter(MODEL, OBS_TS, parametersToFit=[\"k1\", \"k2\"])\n",
    "FITTER.fitModel()\n",
    "FITTED_TS = FITTER.fittedTS\n",
    "PARAMETER_ESTIMATES = FITTER.params\n",
    "PARAMETER_ESTIMATES"
   ]
  },
  {
   "cell_type": "code",
   "execution_count": 9,
   "metadata": {},
   "outputs": [
    {
     "name": "stdout",
     "output_type": "stream",
     "text": [
      "[[Fit Statistics]]\n",
      "    chi-square         = 6.11460011\n",
      "    reduced chi-square = 0.06948409\n",
      "    Akaike info crit   = -238.021727\n",
      "    Bayesian info crit = -233.022107\n",
      "[[Variables]]\n",
      "    k1:  0.10149828 +/- 0.00280942 (2.77%) (init = 1.391885)\n",
      "    k2:  0.20333287 +/- 0.01042583 (5.13%) (init = 9.079194)\n",
      "[[Correlations]] (unreported correlations are < 0.100)\n",
      "    C(k1, k2) = -0.402\n"
     ]
    }
   ],
   "source": [
    "print(FITTER.reportFit())"
   ]
  },
  {
   "cell_type": "markdown",
   "metadata": {},
   "source": [
    "**Question**\n",
    "1. What are the parameter estimates if the NOSE_STD is 0.8?"
   ]
  },
  {
   "cell_type": "markdown",
   "metadata": {},
   "source": [
    "## Compute the Residuals\n",
    "Residuals need to be calculated by chemical species since they may be in very different units."
   ]
  },
  {
   "cell_type": "code",
   "execution_count": 10,
   "metadata": {},
   "outputs": [
    {
     "data": {
      "text/plain": [
       "                  A         B         C\n",
       "time                                   \n",
       "0.000000   0.014071  0.342487 -0.311081\n",
       "1.034483  -0.220741 -0.196855 -0.108225\n",
       "2.068966  -0.228420  0.307475 -0.132757\n",
       "3.103448  -0.300359 -0.294837  0.052955\n",
       "4.137931   0.104761 -0.409057 -0.414033\n",
       "5.172414  -0.504071  0.065453  0.533534\n",
       "6.206897   0.093297  0.236894  0.301616\n",
       "7.241379   0.025641  0.080919  0.278192\n",
       "8.275862   0.042436  0.509543  0.102035\n",
       "9.310345   0.136618  0.016875 -0.235153\n",
       "10.344828  0.204658  0.131911  0.089384\n",
       "11.379310  0.338186 -0.255047 -0.035050\n",
       "12.413793  0.023078 -0.235877  0.210392\n",
       "13.448276  0.339757 -0.237228  0.188841\n",
       "14.482759 -0.144385  0.089958 -0.070581\n",
       "15.517241 -0.049003  0.085286 -0.442730\n",
       "16.551724 -0.112112 -0.037990  0.097940\n",
       "17.586207 -0.190885  0.258414  0.124143\n",
       "18.620690 -0.565943  0.102817  0.277063\n",
       "19.655172  0.203354 -0.368904 -0.314471\n",
       "20.689655  0.294121 -0.015238 -0.284298\n",
       "21.724138  0.096706  0.025446  0.011874\n",
       "22.758621 -0.048233  0.319726  0.093568\n",
       "23.793103  0.368292 -0.475393 -0.241435\n",
       "24.827586 -0.705649  0.200238 -0.083435\n",
       "25.862069  0.144672 -0.232869 -0.209586\n",
       "26.896552  0.241304 -0.298550 -0.607108\n",
       "27.931034 -0.246243  0.094737  0.383256\n",
       "28.965517 -0.180765 -0.111767 -0.011467\n",
       "30.000000 -0.219391  0.393718 -0.013460"
      ]
     },
     "execution_count": 10,
     "metadata": {},
     "output_type": "execute_result"
    }
   ],
   "source": [
    "# Note that the residuals for the chemical species differ. Compare the residuals for A (1st col) with\n",
    "# the residuals for C (3rd col)\n",
    "columns = FITTED_TS.colnames\n",
    "RESIDUALS_TS = OBS_TS.copy()  # Create the shape of the residuals\n",
    "RESIDUALS_TS[columns] -= FITTED_TS[columns]\n",
    "RESIDUALS_TS"
   ]
  },
  {
   "cell_type": "code",
   "execution_count": 11,
   "metadata": {},
   "outputs": [
    {
     "data": {
      "text/plain": [
       "0.259948985491558"
      ]
     },
     "execution_count": 11,
     "metadata": {},
     "output_type": "execute_result"
    }
   ],
   "source": [
    "# The standard deviation of the residuals should be approximately the same as the standard deviation\n",
    "# of the random noise we injected in the construction of the observations.\n",
    "np.std(RESIDUALS_TS.flatten())"
   ]
  },
  {
   "cell_type": "markdown",
   "metadata": {},
   "source": [
    "A validation of our codes and workflow is that the standard deviation of the residuals is close to the standard deviation of the noise used in the observational data."
   ]
  },
  {
   "cell_type": "markdown",
   "metadata": {},
   "source": [
    "## Construct a Collection of Parameter Estimates"
   ]
  },
  {
   "cell_type": "markdown",
   "metadata": {},
   "source": [
    "### Step 3a: Construct Synthetic Observations\n",
    "We define a function that constructs a set of observations from residuals and a model."
   ]
  },
  {
   "cell_type": "code",
   "execution_count": 12,
   "metadata": {},
   "outputs": [],
   "source": [
    "synthesizer = ObservationSynthesizerRandomizedResiduals(fittedTS=FITTED_TS, observedTS=OBS_TS, residualsTS=RESIDUALS_TS)"
   ]
  },
  {
   "cell_type": "code",
   "execution_count": 13,
   "metadata": {},
   "outputs": [
    {
     "data": {
      "text/plain": [
       "                  A         B         C\n",
       "time                                   \n",
       "0.000000   5.203354  0.094737 -0.607108\n",
       "1.034483   4.869922  0.079715  0.151786\n",
       "2.068966   4.294240  0.848341  0.232599\n",
       "3.103448   3.420544  1.327978  0.643738\n",
       "4.137931   3.378554  1.220685  0.712938\n",
       "5.172414   3.326095  1.191889  0.726845\n",
       "6.206897   2.957108  1.637245  0.650756\n",
       "7.241379   2.542229  0.877666  1.889408\n",
       "8.275862   2.363242  1.209980  1.406614\n",
       "9.310345   2.146782  0.887926  1.262988\n",
       "10.344828  1.701487  1.161224  1.879349\n",
       "11.379310  1.778672  1.277555  2.335898\n",
       "12.413793  0.852357  0.719462  2.844465\n",
       "13.448276  1.164821  1.030065  2.962763\n",
       "14.482759  1.489413  1.277387  3.068710\n",
       "15.517241  0.922954  0.450289  3.235126\n",
       "16.551724  1.300188  0.837585  3.364394\n",
       "17.586207  1.178768  0.955156  3.356021\n",
       "18.620690  1.123675  0.601863  3.363328\n",
       "19.655172  0.631089  0.844666  3.422576\n",
       "20.689655  0.431539  0.843538  3.816583\n",
       "21.724138  0.919565  0.883031  3.675115\n",
       "22.758621  0.737630  0.548772  3.924962\n",
       "23.793103 -0.258794  0.173022  3.912100\n",
       "24.827586  0.181574  0.605883  4.193645\n",
       "25.862069  0.181450 -0.033812  4.580886\n",
       "26.896552  0.105370  0.646512  4.580255\n",
       "27.931034  0.149222  0.163846  4.322555\n",
       "28.965517  0.083577 -0.159383  5.019518\n",
       "30.000000  0.009574 -0.029018  4.660119"
      ]
     },
     "execution_count": 13,
     "metadata": {},
     "output_type": "execute_result"
    }
   ],
   "source": [
    "synthesizer.calculate()"
   ]
  },
  {
   "cell_type": "code",
   "execution_count": 14,
   "metadata": {},
   "outputs": [
    {
     "data": {
      "text/plain": [
       "                  A         B         C\n",
       "time                                   \n",
       "0.000000   5.294121  0.509543 -0.011467\n",
       "1.034483   4.453398  0.474064  0.147691\n",
       "2.068966   4.256289  1.161140  0.273211\n",
       "3.103448   3.083021  1.117401  0.294965\n",
       "4.137931   3.308336  0.827398  0.972051\n",
       "5.172414   3.199107  0.974257  1.112134\n",
       "6.206897   2.867646  1.338264  1.187054\n",
       "7.241379   2.490854  1.134803  1.146288\n",
       "8.275862   1.937842  1.357128  1.406614\n",
       "9.310345   1.237780  0.953606  2.171712\n",
       "10.344828  1.044071  0.898550  2.103036\n",
       "11.379310  1.617755  1.158236  2.880898\n",
       "12.413793  1.758058  0.902532  2.665341\n",
       "13.448276  1.096168  1.030065  2.962763\n",
       "14.482759  1.487842  0.474612  3.243739\n",
       "15.517241  0.806645  0.343799  3.012985\n",
       "16.551724  0.974333  0.888576  3.178681\n",
       "17.586207  1.178768  0.828653  3.229093\n",
       "18.620690  0.564498  0.729811  2.997656\n",
       "19.655172  0.631858  0.217348  4.035273\n",
       "20.689655  0.906425  0.561509  4.129825\n",
       "21.724138  0.502271  0.584050  3.749828\n",
       "22.758621  0.589622  0.540692  4.359335\n",
       "23.793103  0.815147  0.209037  4.336095\n",
       "24.827586  0.221550  0.878533  3.917615\n",
       "25.862069  0.217830  0.416011  4.604310\n",
       "26.896552  0.097692  0.406842  4.463431\n",
       "27.931034  0.047364  0.360900  4.119700\n",
       "28.965517  0.073457  0.592161  4.043254\n",
       "30.000000  0.057229 -0.029018  4.224896"
      ]
     },
     "execution_count": 14,
     "metadata": {},
     "output_type": "execute_result"
    }
   ],
   "source": [
    "# Try running this several times to see how values change.\n",
    "synthesizer.calculate()"
   ]
  },
  {
   "cell_type": "markdown",
   "metadata": {},
   "source": [
    "### Repeatedly estimate parameter values"
   ]
  },
  {
   "cell_type": "code",
   "execution_count": 15,
   "metadata": {},
   "outputs": [
    {
     "name": "stderr",
     "output_type": "stream",
     "text": [
      "/home/ubuntu/advancing-biomedical-models/cls/lib/python3.6/site-packages/roadrunner/roadrunner.py:3944: UserWarning:\n",
      "\n",
      "Simulation requested end point (30.000000000000004) not reached, because the maximum number of steps reached.  Possible solutions include:\n",
      "  * Setting an explicit number of points (i.e. r.simulate(0.0, 30.000000000000004, 1001)\n",
      "  * Setting r.integrator.variable_step_size to 'False'\n",
      "* Setting \n",
      "\n"
     ]
    }
   ],
   "source": [
    "def estimateParameters(model, observedTS, parametersToFit, numIteration=10):\n",
    "    estimateDct = {p: [] for p in parametersToFit}\n",
    "    # Get the initial estimates\n",
    "    fitter = ModelFitter(model, observedTS, parametersToFit=parametersToFit)\n",
    "    fitter.fitModel()\n",
    "    initialParams = fitter.params\n",
    "    # Create the observation synthesizer\n",
    "    synthesizer = ObservationSynthesizerRandomizedResiduals(fittedTS=fitter.fittedTS, observedTS=observedTS)\n",
    "    # Iterative calculate parameters\n",
    "    for _ in range(numIteration):\n",
    "        newObservedTS = synthesizer.calculate()\n",
    "        newFitter = ModelFitter(model, newObservedTS, parametersToFit=parametersToFit)\n",
    "        newFitter.fitModel(params=initialParams)\n",
    "        [estimateDct[p].append(newFitter.params.valuesdict()[p]) for p in parametersToFit]\n",
    "    return estimateDct\n",
    "\n",
    "# Tests\n",
    "numIteration = 5\n",
    "estimateDct = estimateParameters(MODEL, OBS_TS, PARAMETERS_TO_FIT, numIteration=numIteration)\n",
    "assert(len(estimateDct[PARAMETERS_TO_FIT[0]]) == len(estimateDct[PARAMETERS_TO_FIT[1]]))\n",
    "assert(len(estimateDct[PARAMETERS_TO_FIT[0]]) == numIteration)"
   ]
  },
  {
   "cell_type": "code",
   "execution_count": 16,
   "metadata": {},
   "outputs": [
    {
     "data": {
      "image/png": "[encoded data removed]",
      "text/plain": [
       "<Figure size 432x288 with 1 Axes>"
      ]
     },
     "metadata": {
      "needs_background": "light"
     },
     "output_type": "display_data"
    }
   ],
   "source": [
    "ESTIMATE_DCT = estimateParameters(MODEL, OBS_TS, PARAMETERS_TO_FIT, numIteration=100)\n",
    "def plotHist(parameter):\n",
    "    _ = plt.hist(ESTIMATE_DCT[parameter],bins=1000)\n",
    "    plt.xlim([0, 1])\n",
    "\n",
    "for parameter in PARAMETERS_TO_FIT:\n",
    "    plotHist(parameter)\n",
    "_ = plt.legend(PARAMETERS_TO_FIT)"
   ]
  },
  {
   "cell_type": "markdown",
   "metadata": {},
   "source": [
    "**Questions**\n",
    "1. How do the quality of the parameter estimates change with the number of simulation points? With the simulation time?"
   ]
  },
  {
   "cell_type": "markdown",
   "metadata": {},
   "source": [
    "## Compute Confidence Intervals"
   ]
  },
  {
   "cell_type": "code",
   "execution_count": 17,
   "metadata": {},
   "outputs": [
    {
     "data": {
      "text/plain": [
       "array([0.9, 8.1])"
      ]
     },
     "execution_count": 17,
     "metadata": {},
     "output_type": "execute_result"
    }
   ],
   "source": [
    "np.quantile(range(10), [.10, .90])"
   ]
  },
  {
   "cell_type": "markdown",
   "metadata": {},
   "source": [
    "**Question**\n",
    "1. Calculate 95% confidence intervals for the parameters.\n",
    "   1. How many iterations should you use?"
   ]
  },
  {
   "cell_type": "code",
   "execution_count": 18,
   "metadata": {},
   "outputs": [
    {
     "name": "stdout",
     "output_type": "stream",
     "text": [
      "k1: [0.10149599 0.10351524]\n",
      "k2: [0.19698083 0.20957862]\n"
     ]
    }
   ],
   "source": [
    "# Solution\n",
    "for parameter in estimateDct.keys():\n",
    "    quantile = np.quantile(estimateDct[parameter], [0.025, 0.975])\n",
    "    print(\"%s: %s\" % (parameter, str(quantile)))"
   ]
  },
  {
   "cell_type": "markdown",
   "metadata": {},
   "source": [
    "**Questions**\n",
    "1. Why does ``k1`` have such a wide confidence interval?"
   ]
  },
  {
   "cell_type": "markdown",
   "metadata": {},
   "source": [
    "# Exercise\n",
    "\n",
    "TRUE MODEL:\n",
    "\n",
    "- A -> B\n",
    "- A -> C\n",
    "- B + C -> D\n",
    "\n",
    "All kinetics are mass action. The kinetics constants are (in order of the reactions): 0.5, 0.5, 1.0. The initial concentration of A is 5. Consider a time course of duration 30 with 20 points.\n",
    "\n",
    "\n",
    "1. Generate synthetic observations using this model using a normally distributed noise with a standard deviation\n",
    "of 0.1.\n",
    "1. Using the true model (the one above), find the $R^2$ values in a cross validation with 4 folds.\n",
    "1. Construct confidence intervals for the parameters."
   ]
  },
  {
   "cell_type": "code",
   "execution_count": 19,
   "metadata": {},
   "outputs": [],
   "source": [
    "# Model used in this example\n",
    "NEW_MODEL = \"\"\"\n",
    "     $A -> B; k1*$A\n",
    "     $A -> C; k2*$A\n",
    "     C -> D; k3*C\n",
    "     D + B -> $E; k4*D*B\n",
    "     \n",
    "     A = 5;\n",
    "     B = 10;\n",
    "     C = 8;\n",
    "     D = 4;\n",
    "     E = 2\n",
    "     k1 = 0.5\n",
    "     k2 = 0.1\n",
    "     k3 = 1.3;\n",
    "     k4 = 1;\n",
    "\"\"\""
   ]
  },
  {
   "cell_type": "code",
   "execution_count": 20,
   "metadata": {},
   "outputs": [],
   "source": [
    "# Solution: Constants\n",
    "NEW_NUM_POINT = 100\n",
    "NEW_END_TIME = 5\n",
    "NEW_NOISE_STD = 0.4"
   ]
  },
  {
   "cell_type": "code",
   "execution_count": 21,
   "metadata": {},
   "outputs": [
    {
     "data": {
      "image/png": "[encoded data removed]",
      "text/plain": [
       "<Figure size 432x288 with 1 Axes>"
      ]
     },
     "metadata": {
      "needs_background": "light"
     },
     "output_type": "display_data"
    }
   ],
   "source": [
    "# Plot of the ground truth model\n",
    "fittedTS = ModelFitter.runSimulation(roadrunner=NEW_MODEL, numPoint=NEW_NUM_POINT, endTime=NEW_END_TIME,\n",
    "                                     returnDataFrame=False)\n",
    "synthesizer = ObservationSynthesizerRandomErrors(fittedTS=fittedTS, std=0.0)\n",
    "_ = plotData(synthesizer.calculate())"
   ]
  },
  {
   "cell_type": "markdown",
   "metadata": {},
   "source": [
    "We are going to estimate the parameters ``k1``, ``k2``, ``k3``, and the constant value of ``A``."
   ]
  },
  {
   "cell_type": "code",
   "execution_count": 22,
   "metadata": {},
   "outputs": [],
   "source": [
    "NEW_PARAMETERS_TO_FIT = [\"k1\", \"k2\", \"k3\", \"A\"]"
   ]
  },
  {
   "cell_type": "markdown",
   "metadata": {},
   "source": [
    "## Generate randomized observations"
   ]
  },
  {
   "cell_type": "markdown",
   "metadata": {},
   "source": [
    "**Question**\n",
    "1. Generate data with 100 points over 30 s and a stardard deviation of 0.4."
   ]
  },
  {
   "cell_type": "code",
   "execution_count": 23,
   "metadata": {},
   "outputs": [
    {
     "data": {
      "image/png": "[encoded data removed]",
      "text/plain": [
       "<Figure size 432x288 with 1 Axes>"
      ]
     },
     "metadata": {
      "needs_background": "light"
     },
     "output_type": "display_data"
    }
   ],
   "source": [
    "# Solution\n",
    "\n",
    "fittedTS = ModelFitter.runSimulation(roadrunner=NEW_MODEL, numPoint=NEW_NUM_POINT, endTime=NEW_END_TIME,\n",
    "                                     returnDataFrame=False)\n",
    "synthesizer = ObservationSynthesizerRandomErrors(fittedTS=fittedTS, std=NEW_NOISE_STD)\n",
    "NEW_OBS_TS = synthesizer.calculate()\n",
    "_ = plotData(NEW_OBS_TS)"
   ]
  },
  {
   "cell_type": "markdown",
   "metadata": {},
   "source": [
    "**Questions**\n",
    "1. For what part of these data will it be difficult to estimate the dynamics and therefore the kinetics constants?"
   ]
  },
  {
   "cell_type": "markdown",
   "metadata": {},
   "source": [
    "## Construct a good fit of the model\n",
    "**Question**\n",
    "1. Find a good fit for the model.\n",
    "1. How good are the estimates relative to ground truth? If there are bad estimates, explain why.\n",
    "1. Plot the model using the estimated values."
   ]
  },
  {
   "cell_type": "code",
   "execution_count": 24,
   "metadata": {
    "jupyter": {
     "source_hidden": true
    }
   },
   "outputs": [
    {
     "name": "stderr",
     "output_type": "stream",
     "text": [
      "/home/ubuntu/advancing-biomedical-models/cls/lib/python3.6/site-packages/roadrunner/roadrunner.py:3944: UserWarning:\n",
      "\n",
      "Simulation requested end point (5.0) not reached, because the maximum number of steps reached.  Possible solutions include:\n",
      "  * Setting an explicit number of points (i.e. r.simulate(0.0, 5.0, 1001)\n",
      "  * Setting r.integrator.variable_step_size to 'False'\n",
      "* Setting \n",
      "\n"
     ]
    },
    {
     "data": {
      "text/html": [
       "<table><tr><th> name </th><th> value </th><th> standard error </th><th> relative error </th><th> initial value </th><th> min </th><th> max </th><th> vary </th></tr><tr><td> k1 </td><td>  9.65545810 </td><td>  38.6389720 </td><td> (400.18%) </td><td> 8.695027543751074 </td><td>  0.00000000 </td><td>  10.0000000 </td><td> True </td></tr><tr><td> k2 </td><td>  2.04587491 </td><td>  8.17985571 </td><td> (399.82%) </td><td> 7.213105840410132 </td><td>  0.00000000 </td><td>  10.0000000 </td><td> True </td></tr><tr><td> k3 </td><td>  1.29639095 </td><td>  0.03779614 </td><td> (2.92%) </td><td> 2.3015014684989357 </td><td>  0.00000000 </td><td>  10.0000000 </td><td> True </td></tr><tr><td> A </td><td>  0.26245300 </td><td>  1.05059351 </td><td> (400.30%) </td><td> 9.889350275139353 </td><td>  0.00000000 </td><td>  10.0000000 </td><td> True </td></tr></table>"
      ],
      "text/plain": [
       "Parameters([('k1',\n",
       "             <Parameter 'k1', value=9.655458101992808 +/- 38.6, bounds=[0:10]>),\n",
       "            ('k2',\n",
       "             <Parameter 'k2', value=2.0458749060099235 +/- 8.18, bounds=[0:10]>),\n",
       "            ('k3',\n",
       "             <Parameter 'k3', value=1.2963909499529147 +/- 0.0378, bounds=[0:10]>),\n",
       "            ('A',\n",
       "             <Parameter 'A', value=0.26245299862923066 +/- 1.05, bounds=[0:10]>)])"
      ]
     },
     "execution_count": 24,
     "metadata": {},
     "output_type": "execute_result"
    }
   ],
   "source": [
    "# Solution\n",
    "NEW_FITTER = ModelFitter(NEW_MODEL, NEW_OBS_TS, parametersToFit=NEW_PARAMETERS_TO_FIT)\n",
    "NEW_FITTER.fitModel()\n",
    "NEW_FITTED_TS = NEW_FITTER.fittedTS\n",
    "NEW_PARAMETER_ESTIMATES = NEW_FITTER.params\n",
    "NEW_PARAMETER_ESTIMATES"
   ]
  },
  {
   "cell_type": "code",
   "execution_count": 25,
   "metadata": {
    "jupyter": {
     "source_hidden": true
    }
   },
   "outputs": [
    {
     "data": {
      "image/png": "[encoded data removed]",
      "text/plain": [
       "<Figure size 432x288 with 1 Axes>"
      ]
     },
     "metadata": {
      "needs_background": "light"
     },
     "output_type": "display_data"
    }
   ],
   "source": [
    "fittedTS = ModelFitter.runSimulation(roadrunner=NEW_MODEL, numPoint=NEW_NUM_POINT, endTime=NEW_END_TIME,\n",
    "                                     returnDataFrame=False, parameters=NEW_PARAMETER_ESTIMATES)\n",
    "_ = plotData(fittedTS)"
   ]
  },
  {
   "cell_type": "markdown",
   "metadata": {},
   "source": [
    "## Estimate the residuals"
   ]
  },
  {
   "cell_type": "markdown",
   "metadata": {},
   "source": [
    "## Construct bootstrap estimates"
   ]
  },
  {
   "cell_type": "markdown",
   "metadata": {},
   "source": [
    "# Bootstrapping With SBstoat"
   ]
  },
  {
   "cell_type": "code",
   "execution_count": 30,
   "metadata": {},
   "outputs": [
    {
     "name": "stdout",
     "output_type": "stream",
     "text": [
      "\n",
      "\n",
      "\n",
      "244.504380: ***Running bootstrap for 500 successful iterations with 5 processes.***\n",
      "\n",
      "246.451662:     (Bootstrap completed 100 total iterations with 100 successes.)\n",
      "\n",
      "248.403980:     (Bootstrap completed 200 total iterations with 200 successes.)\n",
      "\n",
      "250.243053:     (Bootstrap completed 300 total iterations with 300 successes.)\n",
      "\n",
      "252.079211:     (Bootstrap completed 400 total iterations with 400 successes.)\n",
      "\n",
      "253.929339:     (Bootstrap completed 500 total iterations with 500 successes.)\n",
      "\n",
      "253.930825:     (Process 1: completed bootstrap.)\n",
      "\n",
      "254.110730:     (Process 3: completed bootstrap.)\n",
      "\n",
      "254.328365:     (Process 5: completed bootstrap.)\n",
      "\n",
      "254.414110:     (Process 4: completed bootstrap.)\n",
      "\n",
      "254.480015:     (Process 2: completed bootstrap.)\n",
      "\n",
      "\n",
      "254.604444: \n",
      " **500 bootstrap estimates of parameters.\n",
      "\n",
      "\n",
      "\n",
      "254.609282: ***\n",
      "Bootstrap Report.\n",
      "Total iterations: 500\n",
      "Total simulation: 500\n",
      "k1\n",
      "  mean: 7.6847324008945215\n",
      "  std: 3.1396009141219086\n",
      "  [2.5, 50, 97.55] Percentiles: [0.38291713 9.41804934 9.99324568]\n",
      "k2\n",
      "  mean: 1.768323842763133\n",
      "  std: 0.7557641018494973\n",
      "  [2.5, 50, 97.55] Percentiles: [0.08887333 2.05071499 2.68413816]\n",
      "k3\n",
      "  mean: 1.3110876043163986\n",
      "  std: 0.036605348247857966\n",
      "  [2.5, 50, 97.55] Percentiles: [1.24308595 1.30913102 1.38245299]\n",
      "A\n",
      "  mean: 0.8198715221800505\n",
      "  std: 1.6024559506469573\n",
      "  [2.5, 50, 97.55] Percentiles: [0.2545998  0.275236   6.76549471]***\n",
      "None\n"
     ]
    }
   ],
   "source": [
    "NEW_FITTER.bootstrap(numIteration=500, reportInterval=100)\n",
    "print(NEW_FITTER.reportBootstrap())"
   ]
  }
 ],
 "metadata": {
  "kernelspec": {
   "display_name": "Python 3",
   "language": "python",
   "name": "python3"
  },
  "language_info": {
   "codemirror_mode": {
    "name": "ipython",
    "version": 3
   },
   "file_extension": ".py",
   "mimetype": "text/x-python",
   "name": "python",
   "nbconvert_exporter": "python",
   "pygments_lexer": "ipython3",
   "version": "3.6.9"
  },
  "toc-autonumbering": true
 },
 "nbformat": 4,
 "nbformat_minor": 4
}
