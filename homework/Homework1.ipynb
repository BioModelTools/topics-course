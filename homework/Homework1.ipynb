{
 "cells": [
  {
   "cell_type": "markdown",
   "metadata": {},
   "source": [
    "<span style=\"font-family:Papyrus; font-size:3em;\">Homework 1 - Bifurcation Plots</span>"
   ]
  },
  {
   "cell_type": "markdown",
   "metadata": {},
   "source": [
    "This homework is an elaboration of the analysis of lecture 6 on computational experiments using a two factor at a time design. You will describe interactions between model parameters as they affect:\n",
    "- frequency and amplitude\n",
    "- relative and absolute response values\n",
    "- the choice of molecules\n",
    "\n",
    "Your analysis should include a discussion of how well interactions can be expressed using the\n",
    "$\\gamma$ term in the model\n",
    "$y = \\alpha_{1,i_1} + \\alpha_{2, i_2} + \\gamma_{1, 2, i_1, i_2}$."
   ]
  },
  {
   "cell_type": "code",
   "execution_count": 1,
   "metadata": {},
   "outputs": [],
   "source": [
    "WOLF_MODEL = \"\"\"\n",
    "// Created by libAntimony v2.12.0\n",
    "model *Jana_WolfGlycolysis()\n",
    "\n",
    "  // Compartments and Species:\n",
    "  compartment compartment_;\n",
    "  species Glucose in compartment_, fructose_1_6_bisphosphate in compartment_;\n",
    "  species glyceraldehyde_3_phosphate in compartment_, glycerate_3_phosphate in compartment_;\n",
    "  species pyruvate in compartment_, Acetyladehyde in compartment_, External_acetaldehyde in compartment_;\n",
    "  species ATP in compartment_, ADP in compartment_, NAD in compartment_, NADH in compartment_;\n",
    "  species $External_glucose in compartment_, $ethanol in compartment_, $Glycerol in compartment_;\n",
    "  species $Sink in compartment_;\n",
    "\n",
    "  // Reactions:\n",
    "  J0: $External_glucose => Glucose; J0_inputFlux;\n",
    "  J1: Glucose + 2 ATP => fructose_1_6_bisphosphate + 2 ADP; J1_k1*Glucose*ATP*(1/(1 + (ATP/J1_Ki)^J1_n));\n",
    "  J2: fructose_1_6_bisphosphate => glyceraldehyde_3_phosphate + glyceraldehyde_3_phosphate; J2_k*fructose_1_6_bisphosphate;\n",
    "  J3: glyceraldehyde_3_phosphate + NADH => NAD + $Glycerol; J3_k*glyceraldehyde_3_phosphate*NADH;\n",
    "  J4: glyceraldehyde_3_phosphate + ADP + NAD => ATP + glycerate_3_phosphate + NADH; (J4_kg*J4_kp*glyceraldehyde_3_phosphate*NAD*ADP - J4_ka*J4_kk*glycerate_3_phosphate*ATP*NADH)/(J4_ka*NADH + J4_kp*ADP);\n",
    "  J5: glycerate_3_phosphate + ADP => ATP + pyruvate; J5_k*glycerate_3_phosphate*ADP;\n",
    "  J6: pyruvate => Acetyladehyde; J6_k*pyruvate;\n",
    "  J7: Acetyladehyde + NADH => NAD + $ethanol; J7_k*Acetyladehyde*NADH;\n",
    "  J8: Acetyladehyde => External_acetaldehyde; J8_k1*Acetyladehyde - J8_k2*External_acetaldehyde;\n",
    "  J9: ATP => ADP; J9_k*ATP;\n",
    "  J10: External_acetaldehyde => $Sink; J10_k*External_acetaldehyde;\n",
    "\n",
    "  // Species initializations:\n",
    "  Glucose = 0;\n",
    "  fructose_1_6_bisphosphate = 0;\n",
    "  glyceraldehyde_3_phosphate = 0;\n",
    "  glycerate_3_phosphate = 0;\n",
    "  pyruvate = 0;\n",
    "  Acetyladehyde = 0;\n",
    "  External_acetaldehyde = 0;\n",
    "  ATP = 3;\n",
    "  ADP = 1;\n",
    "  NAD = 0.5;\n",
    "  NADH = 0.5;\n",
    "  External_glucose = 0;\n",
    "  ethanol = 0;\n",
    "  Glycerol = 0;\n",
    "  Sink = 0;\n",
    "\n",
    "  // Compartment initializations:\n",
    "  compartment_ = 1;\n",
    "\n",
    "  // Variable initializations:\n",
    "  J0_inputFlux = 50;\n",
    "  J1_k1 = 550;\n",
    "  J1_Ki = 1;\n",
    "  J1_n = 4;\n",
    "  J2_k = 9.8;\n",
    "  J3_k = 85.7;\n",
    "  J4_kg = 323.8;\n",
    "  J4_kp = 76411.1;\n",
    "  J4_ka = 57823.1;\n",
    "  J4_kk = 23.7;\n",
    "  J5_k = 80;\n",
    "  J6_k = 9.7;\n",
    "  J7_k = 2000;\n",
    "  J8_k1 = 375;\n",
    "  J8_k2 = 375;\n",
    "  J9_k = 28;\n",
    "  J10_k = 80;\n",
    "\n",
    "  // Other declarations:\n",
    "  const compartment_, J0_inputFlux, J1_k1, J1_Ki, J1_n, J2_k, J3_k, J4_kg;\n",
    "  const J4_kp, J4_ka, J4_kk, J5_k, J6_k, J7_k, J8_k1, J8_k2, J9_k, J10_k;\n",
    "end\n",
    "\"\"\""
   ]
  }
 ],
 "metadata": {
  "kernelspec": {
   "display_name": "Python 3",
   "language": "python",
   "name": "python3"
  },
  "language_info": {
   "codemirror_mode": {
    "name": "ipython",
    "version": 3
   },
   "file_extension": ".py",
   "mimetype": "text/x-python",
   "name": "python",
   "nbconvert_exporter": "python",
   "pygments_lexer": "ipython3",
   "version": "3.6.9"
  }
 },
 "nbformat": 4,
 "nbformat_minor": 4
}
