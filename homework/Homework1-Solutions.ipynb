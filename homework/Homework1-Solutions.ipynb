{
 "cells": [
  {
   "cell_type": "markdown",
   "metadata": {},
   "source": [
    "<span style=\"font-family:Papyrus; font-size:3em;\">Homework 1</span>\n",
    "\n",
    "<span style=\"font-family:Papyrus; font-size:2em;\">Design of Experiments for Parameter Interactions</span>"
   ]
  },
  {
   "cell_type": "markdown",
   "metadata": {},
   "source": [
    "# Problem"
   ]
  },
  {
   "cell_type": "markdown",
   "metadata": {},
   "source": [
    "This homework is an elaboration of the analysis of lecture 6 on computational experiments using a two factor at a time design.\n",
    "\n",
    "1. (6 pt) Revise the codes from lecture 6 (in common>util_doe6.py) to cacluate the interaction terms $\\gamma$\n",
    "in the model $y = \\alpha_{1,i_1} + \\alpha_{2, i_2} + \\gamma_{1, 2, i_1, i_2}$.\n",
    "That is, calculate $y - \\alpha_{1,i_1} + \\alpha_{2, i_2}$, where $y$ is calculated from\n",
    "``runExperimentTwoParameters`` in lecture 6 and the $\\alpha$ are calculated using\n",
    "``runExperiment`` from lecture 5.\n",
    "(Don't forget to include 1 or more tests for the new function.)\n",
    "\n",
    "1. (6 pt) Analyze interactions for each floating species the first 5 parameters: J0_inputFlux, J1_k1, J1_Ki, J1_n, J2_k. \n",
    "   Your analysis should discuss the characteristics of the $\\gamma$ for different combinations of parameters\n",
    "   for both frequency and amplitude. Justify your choice of levels (percent changes) in parameter values.\n",
    "\n",
    "1. (3 pt) Do you think that other parameters should be included in the study of interactions? Why?"
   ]
  },
  {
   "cell_type": "markdown",
   "metadata": {},
   "source": [
    "# Programming Preliminaries\n",
    "This section provides the setup to run your python codes."
   ]
  },
  {
   "cell_type": "code",
   "execution_count": 1,
   "metadata": {},
   "outputs": [],
   "source": [
    "IS_COLAB = False"
   ]
  },
  {
   "cell_type": "code",
   "execution_count": 2,
   "metadata": {},
   "outputs": [],
   "source": [
    "# Code installs. Only needed once.\n",
    "if IS_COLAB:\n",
    "    !pip install matplotlib\n",
    "    !pip install numpy\n",
    "    !pip install pandas\n",
    "    !pip install scipy\n",
    "    !pip install tellurium\n",
    "    !pip install seaborn"
   ]
  },
  {
   "cell_type": "code",
   "execution_count": 3,
   "metadata": {},
   "outputs": [],
   "source": [
    "# Constants for standalone notebook\n",
    "if not IS_COLAB:\n",
    "    DIR = \"/home/ubuntu/advancing-biomedical-models/common\"  # Insert your local directory path\n",
    "else:\n",
    "    from google.colab import drive\n",
    "    drive.mount('/content/drive')\n",
    "    DIR = \"/content/drive/MyDrive/Modeling_Class/Winter 2021/common\"\n",
    "import sys\n",
    "sys.path.insert(0, DIR)"
   ]
  },
  {
   "cell_type": "code",
   "execution_count": 4,
   "metadata": {},
   "outputs": [],
   "source": [
    "import wolf_model as wm\n",
    "import util_doe1  # Various functions from lecture 5\n",
    "import util_doe2  # Various functions from lecture 6\n",
    "\n",
    "import matplotlib.pyplot as plt\n",
    "import matplotlib.gridspec as gridspec\n",
    "import numpy as np\n",
    "import pandas as pd\n",
    "from scipy import fftpack\n",
    "import tellurium as te\n",
    "import seaborn as sns"
   ]
  },
  {
   "cell_type": "markdown",
   "metadata": {},
   "source": [
    "# Calculate interaction terms ($\\gamma$)\n",
    "This section contains revised and/or new functions that calculate the interaction terms and plot the results.\n",
    "You can create this function by modifying ``runExperimentsTwoParameters`` used in lecture 6.\n",
    "You should proceed with:\n",
    "1. Create an internal function ``makeInteractionSer`` with parameters ``percent1`` and `percent2``. It returns\n",
    "the response ``Series`` when the parameters have the levels specified by these levels.\n",
    "1. Use ``makeInteractionSer`` to calculate the following within the internal function ``calcLevelResponseDF``:\n",
    "   1. ``only1Ser``: percent1 is the value passed to ``calcLevelResponseDF``, ``percent2`` is 0.\n",
    "   1. ``only2Ser``: percent2 is the value passed to ``calcLevelResponseDF``, ``percent1`` is 0.\n",
    "   1. ``bothSer``: uses the values passed to ``calcLevelResponseDF``\n",
    "   1. Calculate the interaction term $\\gamma$."
   ]
  },
  {
   "cell_type": "code",
   "execution_count": 5,
   "metadata": {},
   "outputs": [],
   "source": [
    "def runExperimentsTwoParametersInteractionResponse(parameter1, parameter2, percent1s, percent2s, isRelative=True):\n",
    "    \"\"\"\n",
    "    Runs experiments for changes in multipleparameters of the model at different percent changes \n",
    "    in the parameter value (levels). Responses are the interaction terms gamma.\n",
    "    \n",
    "    Parameter\n",
    "    ---------\n",
    "    parameter1: str\n",
    "    parameter2: str\n",
    "    percent1s: list-int\n",
    "    percent2s: list-int\n",
    "    isRelative: bool\n",
    "        True: values are percent changes relative to baseline\n",
    "        False: absolute value\n",
    "        \n",
    "    Returns\n",
    "    -------\n",
    "    frequencyDF: DataFrame, amplitude: DataFrame\n",
    "       index: tuple of percent changes in parameter values\n",
    "       columns: molecule\n",
    "       value: interaction term gamma\n",
    "       index.name: string of tuple (rowParameter, columnParameter)\n",
    "    \"\"\"\n",
    "    INDEX1 = \"index1\"\n",
    "    INDEX2 = \"index2\"\n",
    "    # Calculate the baseline values\n",
    "    baseFrequencySer, baseAmplitudeSer = util_doe1.runExperiment({})\n",
    "    #\n",
    "    def calcResponseSer(ser, isFrequency=True):\n",
    "        \"\"\"\n",
    "        Calculates the relative response.\n",
    "        \n",
    "        Parameters\n",
    "        ----------\n",
    "        ser: pd.Series\n",
    "            index: molecule\n",
    "            value: absolute respoinse\n",
    "        isFrequency: bool\n",
    "            if True, frequency response; else, amplitude response\n",
    "            \n",
    "        Returns\n",
    "        -------\n",
    "        pd.Series\n",
    "        \"\"\"\n",
    "        if not isRelative:\n",
    "            return ser\n",
    "        if isFrequency:\n",
    "            baseSer = baseFrequencySer\n",
    "        else:\n",
    "            baseSer = baseAmplitudeSer\n",
    "        resultSer = 100*(ser - baseSer)/baseSer\n",
    "        return resultSer\n",
    "    #\n",
    "    def makeInteractionSer(percent1, percent2, isFrequency):\n",
    "        \"\"\"\n",
    "        Calculates the response for the percent changes\n",
    "        \"\"\"\n",
    "        parameterDct = {parameter1: percent1, parameter2: percent2}\n",
    "        frequencySer, amplitudeSer = util_doe1.runExperiment(parameterDct)\n",
    "        if isFrequency:\n",
    "            ser = frequencySer\n",
    "        else:\n",
    "            ser = amplitudeSer\n",
    "        adjSer = calcResponseSer(ser, isFrequency=isFrequency)\n",
    "        return adjSer\n",
    "    #\n",
    "    def calcLevelResponseDF(isFrequency=None):\n",
    "        \"\"\"\n",
    "        Calculates the dataframe of levels dataframe.\n",
    "        \n",
    "        Parameter\n",
    "        --------\n",
    "        isFrequency: bool\n",
    "            If True, frequency response. Otherwise, amplitude response\n",
    "            \n",
    "        Returns\n",
    "        -------\n",
    "        pd.DataFrame\n",
    "            index: tuple-int\n",
    "                levels of parameters\n",
    "            columns: str\n",
    "                molecule\n",
    "            values: response\n",
    "        \"\"\"\n",
    "        if isFrequency is None:\n",
    "            raise ValueError(\"Must specify isFrequency!\")\n",
    "        sers = []  # Collection of experiment results\n",
    "        index1 = []\n",
    "        index2 = []\n",
    "        for percent1 in percent1s:\n",
    "            for percent2 in percent2s:\n",
    "                index1.append(percent1)\n",
    "                index2.append(percent2)\n",
    "                only1Ser = makeInteractionSer(percent1, 0, isFrequency)\n",
    "                only2Ser = makeInteractionSer(0, percent2, isFrequency)\n",
    "                bothSer = makeInteractionSer(percent1, percent2, isFrequency)\n",
    "                interactionSer = bothSer - only1Ser - only2Ser\n",
    "                sers.append(pd.DataFrame(interactionSer).transpose())\n",
    "        resultDF = pd.concat(sers)\n",
    "        resultDF[INDEX1] = index1\n",
    "        resultDF[INDEX2] = index2\n",
    "        resultDF = resultDF.set_index([index1, index2])\n",
    "        for column in [INDEX1, INDEX2]:\n",
    "            del resultDF[column]\n",
    "        resultDF.index.name = str((parameter1, parameter2))\n",
    "        return resultDF\n",
    "    #\n",
    "    frequencyDF = calcLevelResponseDF(isFrequency=True)\n",
    "    amplitudeDF = calcLevelResponseDF(isFrequency=False)\n",
    "    return frequencyDF, amplitudeDF\n",
    "\n",
    "# Tests\n",
    "percents = [ -2, 0, 2]\n",
    "fDF, aDF = runExperimentsTwoParametersInteractionResponse(\"J1_Ki\", \"J1_k1\", percents, percents)\n",
    "# Verify that interactions are 0 if only one non-zero level\n",
    "for df in [fDF, aDF]:\n",
    "    for percent in percents:\n",
    "        ser = df.loc[(0, percent), :]\n",
    "        values = np.array(ser.values)\n",
    "        assert(sum(values**2) == 0)\n",
    "        ser = df.loc[(percent, 0), :]\n",
    "        values = np.array(ser.values)\n",
    "        assert(sum(values**2) == 0) "
   ]
  },
  {
   "cell_type": "markdown",
   "metadata": {},
   "source": [
    "# Analyze the interactions."
   ]
  },
  {
   "cell_type": "markdown",
   "metadata": {},
   "source": [
    "You want to use ``util_doe2.runStudy`` to analyze interactions, but you want it to use the version of ``runExperimentsTwoParameters`` that you constructed in the previous section.\n",
    "You can do this by taking advantage of the keyword argument ``func`` in ``runStudy``. You can see how to use this by looking at the tests at the bottom of the file ``util_doe2.py``."
   ]
  },
  {
   "cell_type": "code",
   "execution_count": null,
   "metadata": {},
   "outputs": [],
   "source": [
    "# Analysis for frequency with relative (precentage) responses\n",
    "percents = 3*(np.array(range(7)) - 3)\n",
    "for molecule in wm.WOLF_MOL[0:4]:\n",
    "    for isFrequency in [True, False]:\n",
    "        util_doe2.runStudyTFC(molecule, wm.WOLF_PRMS[0:4], percents, isRelative=True, isFrequency=isFrequency,\n",
    "                    func=runExperimentsTwoParametersInteractionResponse)    "
   ]
  },
  {
   "cell_type": "markdown",
   "metadata": {},
   "source": [
    "# Discuss additional analyses that should be included."
   ]
  }
 ],
 "metadata": {
  "kernelspec": {
   "display_name": "Python 3",
   "language": "python",
   "name": "python3"
  },
  "language_info": {
   "codemirror_mode": {
    "name": "ipython",
    "version": 3
   },
   "file_extension": ".py",
   "mimetype": "text/x-python",
   "name": "python",
   "nbconvert_exporter": "python",
   "pygments_lexer": "ipython3",
   "version": "3.6.9"
  }
 },
 "nbformat": 4,
 "nbformat_minor": 4
}
